{
 "cells": [
  {
   "cell_type": "markdown",
   "metadata": {},
   "source": [
    "# Comparison Statistics between Cohorts"
   ]
  },
  {
   "cell_type": "markdown",
   "metadata": {},
   "source": [
    "## Python Setup"
   ]
  },
  {
   "cell_type": "code",
   "execution_count": null,
   "metadata": {},
   "outputs": [],
   "source": [
    "import pandas as pd\n",
    "import numpy as np\n",
    "from datetime import timedelta\n",
    "from pandas import Series\n",
    "import glob\n",
    "from openpyxl import load_workbook\n",
    "import re\n",
    "pd.options.display.max_columns = 100"
   ]
  },
  {
   "cell_type": "markdown",
   "metadata": {},
   "source": [
    "## Load In Data"
   ]
  },
  {
   "cell_type": "code",
   "execution_count": null,
   "metadata": {},
   "outputs": [],
   "source": [
    "funded_grnts = pd.read_csv('../data/funded_grants.csv', low_memory=False)\n",
    "grnts = pd.read_csv('../data/researcher_grants.csv', low_memory=False)\n",
    "pubs = pd.read_csv('../data/researcher_publications.csv', low_memory=False)\n",
    "rsrs = pd.read_csv('../data/researcher_info.csv', low_memory=False)\n",
    "propensity_scores = pd.read_csv('../data/rsr_weights.csv', low_memory=False)"
   ]
  },
  {
   "cell_type": "code",
   "execution_count": null,
   "metadata": {},
   "outputs": [],
   "source": [
    "grnts_ct = pd.read_csv('../data/topic_lookups/grants_cancer_type.csv')\n",
    "grnts_cso = pd.read_csv('../data/topic_lookups/grants_cso.csv')\n",
    "grnts_rcdc = pd.read_csv('../data/topic_lookups/grants_rcdc.csv')\n",
    "pubs_ct = pd.read_csv('../data/topic_lookups/publications_cancer_type.csv')\n",
    "pubs_cso = pd.read_csv('../data/topic_lookups/publications_cso.csv')\n",
    "pubs_rcdc = pd.read_csv('../data/topic_lookups/publications_rcdc.csv')\n",
    "\n",
    "cso_lookup = pd.read_csv('../data/cso_codes/cso_lookup.csv')"
   ]
  },
  {
   "cell_type": "code",
   "execution_count": null,
   "metadata": {},
   "outputs": [],
   "source": [
    "print(funded_grnts[funded_grnts['rsr_id'].isnull()].shape)\n",
    "print(grnts[grnts['rsr_id'].isnull()].shape)\n",
    "print(pubs[pubs['pub_id'].isnull()].shape)\n",
    "print(pubs[pubs['date'].isnull()].shape)"
   ]
  },
  {
   "cell_type": "code",
   "execution_count": null,
   "metadata": {},
   "outputs": [],
   "source": [
    "funded_grnts = funded_grnts[(funded_grnts['rsr_id'].notnull())\n",
    "                            &(funded_grnts['grant_id'].notnull())].reset_index(drop=True)\n",
    "grnts = grnts[(grnts['rsr_id'].notnull())\n",
    "              &(grnts['grant_id'].notnull())].reset_index(drop=True)\n",
    "pubs = pubs[(pubs['pub_id'].notnull())&(pubs['date'].notnull())].reset_index(drop=True)"
   ]
  },
  {
   "cell_type": "code",
   "execution_count": null,
   "metadata": {},
   "outputs": [],
   "source": [
    "funders = sorted(list(funded_grnts['funder_name'].unique()))\n",
    "print(funders)"
   ]
  },
  {
   "cell_type": "markdown",
   "metadata": {},
   "source": [
    "## Cleaning Data"
   ]
  },
  {
   "cell_type": "code",
   "execution_count": null,
   "metadata": {},
   "outputs": [],
   "source": [
    "pubs['citations'] = pd.to_numeric(pubs['citations'])\n",
    "pubs['nb_authors'] = pd.to_numeric(pubs['nb_authors'], errors='coerce')"
   ]
  },
  {
   "cell_type": "code",
   "execution_count": null,
   "metadata": {},
   "outputs": [],
   "source": [
    "funded_grnts['start_date'] = pd.to_datetime(funded_grnts['start_date'])\n",
    "funded_grnts['end_date'] = pd.to_datetime(funded_grnts['end_date'])\n",
    "grnts['start_date'] = pd.to_datetime(grnts['start_date'])\n",
    "grnts['end_date'] = pd.to_datetime(grnts['end_date'])\n",
    "funded_grnts['funding_len'] = (funded_grnts['end_date']-funded_grnts['start_date'])/timedelta(days=365)\n",
    "grnts['funding_len'] = (grnts['end_date']-grnts['start_date'])/timedelta(days=365)\n",
    "funded_grnts['start_year'] = pd.DatetimeIndex(funded_grnts['start_date']).year\n",
    "grnts['start_year'] = pd.DatetimeIndex(grnts['start_date']).year"
   ]
  },
  {
   "cell_type": "code",
   "execution_count": null,
   "metadata": {},
   "outputs": [],
   "source": [
    "funded_grnts['nb_rsrs'] = funded_grnts.groupby('grant_id')['rsr_id'].transform('nunique')\n",
    "funded_grnts['nb_rsrs'] = funded_grnts['nb_rsrs'].replace(0, np.nan)\n",
    "grnts['nb_rsrs'] = grnts.groupby('grant_id')['rsr_id'].transform('nunique')\n",
    "grnts['nb_rsrs'] = grnts['nb_rsrs'].replace(0, np.nan)"
   ]
  },
  {
   "cell_type": "code",
   "execution_count": null,
   "metadata": {},
   "outputs": [],
   "source": [
    "grnts_rcdc = grnts_rcdc.drop_duplicates().sort_values('grant_id').reset_index(drop=True)\n",
    "grnts_rcdc['nb_rcdc'] = grnts_rcdc.groupby('grant_id')['grant_id'].transform('count')\n",
    "\n",
    "grnts_cso = grnts_cso.drop_duplicates().sort_values('grant_id').reset_index(drop=True)\n",
    "grnts_cso['nb_cso'] = grnts_cso.groupby('grant_id')['grant_id'].transform('count')\n",
    "\n",
    "pubs_rcdc = pubs_rcdc.drop_duplicates().sort_values('pub_id').reset_index(drop=True)\n",
    "pubs_rcdc['nb_rcdc'] = pubs_rcdc.groupby('pub_id')['pub_id'].transform('count')\n",
    "\n",
    "pubs_cso = pubs_cso.drop_duplicates().sort_values('pub_id').reset_index(drop=True)\n",
    "pubs_cso['nb_cso'] = pubs_cso.groupby('pub_id')['pub_id'].transform('count')"
   ]
  },
  {
   "cell_type": "markdown",
   "metadata": {},
   "source": [
    "### Create Lookup Tables"
   ]
  },
  {
   "cell_type": "code",
   "execution_count": null,
   "metadata": {},
   "outputs": [],
   "source": [
    "funded_grnts_funder = funded_grnts[['funder_name', 'grant_id']].drop_duplicates().reset_index(drop=True)\n",
    "grnts_funder = grnts[['funder_name', 'grant_id']].drop_duplicates().reset_index(drop=True)\n",
    "\n",
    "funded_grnts_rsr = funded_grnts[['rsr_id', 'grant_id']].drop_duplicates().reset_index(drop=True)\n",
    "grnts_rsr = grnts[['rsr_id', 'grant_id']].drop_duplicates().reset_index(drop=True)\n",
    "\n",
    "pub_rsr_cols = ['rsr_id', 'rsr_country', 'rsr_city', 'rsr_affiliation', 'rsr_affiliation_id']\n",
    "pubs_rsr = pubs[pub_rsr_cols+['pub_id']].drop_duplicates().reset_index(drop=True)"
   ]
  },
  {
   "cell_type": "code",
   "execution_count": null,
   "metadata": {},
   "outputs": [],
   "source": [
    "to_remove = ('rsr_id', 'funder_name', 'first_name', 'last_name')\n",
    "cols = [col for col in list(funded_grnts) if col not in to_remove]\n",
    "funded_grnts_info = funded_grnts[cols].drop_duplicates().reset_index(drop=True)"
   ]
  },
  {
   "cell_type": "code",
   "execution_count": null,
   "metadata": {},
   "outputs": [],
   "source": [
    "to_remove = ('rsr_id', 'funder_name')\n",
    "cols = [col for col in list(grnts) if col not in to_remove]\n",
    "grnts_info = grnts[cols].drop_duplicates('grant_id').reset_index(drop=True)"
   ]
  },
  {
   "cell_type": "code",
   "execution_count": null,
   "metadata": {},
   "outputs": [],
   "source": [
    "cols = [col for col in list(pubs) if col not in pub_rsr_cols]\n",
    "pubs_info = pubs[cols].drop_duplicates('pub_id').reset_index(drop=True)"
   ]
  },
  {
   "cell_type": "markdown",
   "metadata": {},
   "source": [
    "### Merging on Prior and Subsequent Grants and Publications"
   ]
  },
  {
   "cell_type": "markdown",
   "metadata": {},
   "source": [
    "I keep only grants and publications that are within 5 years of the funded grant."
   ]
  },
  {
   "cell_type": "code",
   "execution_count": null,
   "metadata": {},
   "outputs": [],
   "source": [
    "start_year=2007\n",
    "end_year=2012\n",
    "\n",
    "col1=[]\n",
    "col2=[]\n",
    "col3=[]   \n",
    "for grant_year in range(start_year, end_year+1):\n",
    "    for award_year in range(grant_year-5, grant_year+6):\n",
    "        if grant_year>award_year:\n",
    "            col1.append(grant_year)\n",
    "            col2.append(\"pre\")\n",
    "            col3.append(award_year)\n",
    "        if grant_year==award_year:\n",
    "            col1.append(grant_year)\n",
    "            col2.append(\"pre\")\n",
    "            col3.append(award_year)\n",
    "        if grant_year<award_year:\n",
    "            col1.append(grant_year)\n",
    "            col2.append(\"post\")\n",
    "            col3.append(award_year)\n",
    "merge_key = pd.DataFrame({'start_year':col1, 'status':col2, 'year':col3})"
   ]
  },
  {
   "cell_type": "code",
   "execution_count": null,
   "metadata": {},
   "outputs": [],
   "source": [
    "temp = pd.merge(funded_grnts[['funder_name', 'grant_id', 'start_year', 'start_date', 'rsr_id']].drop_duplicates(), \n",
    "                merge_key, how='left', on='start_year')"
   ]
  },
  {
   "cell_type": "code",
   "execution_count": null,
   "metadata": {},
   "outputs": [],
   "source": [
    "grnt_cols = ['rsr_id', 'grant_id', 'start_year']\n",
    "grnts_mrg = pd.merge(temp, grnts[grnt_cols].drop_duplicates().rename(columns={'start_year':'year'}),\n",
    "                     how='left', on=['rsr_id', 'year'], suffixes=('', '_2'))"
   ]
  },
  {
   "cell_type": "code",
   "execution_count": null,
   "metadata": {},
   "outputs": [],
   "source": [
    "pub_cols = ['rsr_id', 'pub_id', 'year']\n",
    "pubs_mrg = pd.merge(temp, pubs[pub_cols].drop_duplicates(),\n",
    "                    how='left', on=['rsr_id', 'year'], suffixes=('', '_2'))"
   ]
  },
  {
   "cell_type": "markdown",
   "metadata": {},
   "source": [
    "## Store Results in Dictionary"
   ]
  },
  {
   "cell_type": "code",
   "execution_count": null,
   "metadata": {},
   "outputs": [],
   "source": [
    "results = dict()"
   ]
  },
  {
   "cell_type": "markdown",
   "metadata": {},
   "source": [
    "## Create Statistics Functions"
   ]
  },
  {
   "cell_type": "code",
   "execution_count": null,
   "metadata": {},
   "outputs": [],
   "source": [
    "def grant_groupby(grnts_mrg, yearly=False):\n",
    "    \n",
    "    grnts_info.columns = [col+\"_2\" for col in list(grnts_info)]\n",
    "    df = pd.merge(grnts_mrg, grnts_info.rename(columns={'start_year_2':'year'}), \n",
    "                  how='left', on=['grant_id_2', 'year'])\n",
    "    grnts_info.columns = [col[:-2] for col in list(grnts_info)]\n",
    "\n",
    "    cols = ['grant_id', 'rsr_id', 'status']\n",
    "    if yearly == True:\n",
    "        cols += ['year']\n",
    "    grnts_stats = df.groupby(cols)\n",
    "    grnts_stats = pd.DataFrame({'nb_grnts':grnts_stats['grant_id_2'].nunique()\n",
    "                                , 'fund_amt':grnts_stats['funding_amount_2'].mean()\n",
    "                                , 'avg_fund_len':grnts_stats['funding_len_2'].mean()\n",
    "                                , 'avg_team_size':grnts_stats['nb_rsrs_2'].mean()\n",
    "                               }).reset_index()\n",
    "    grnts_stats = pd.merge(funded_grnts_funder, grnts_stats, how='left', on='grant_id')\n",
    "    \n",
    "    return grnts_stats"
   ]
  },
  {
   "cell_type": "code",
   "execution_count": null,
   "metadata": {},
   "outputs": [],
   "source": [
    "def pub_groupby(pubs_mrg, yearly=False):\n",
    "    \n",
    "    cols = ['grant_id', 'rsr_id', 'status']\n",
    "    if yearly == True:\n",
    "        cols += ['year']\n",
    "    \n",
    "    # Publication Statistics\n",
    "    df = pd.merge(pubs_mrg, pubs_info, how='left', on=['pub_id', 'year'])\n",
    "    pubs_stats = df.groupby(cols)\n",
    "    pubs_stats = pd.DataFrame({'nb_pubs':pubs_stats['pub_id'].nunique()\n",
    "                                , 'citations_per_pub':pubs_stats['citations'].mean()\n",
    "                                , 'team_size':pubs_stats['nb_authors'].mean()\n",
    "                               }).reset_index()\n",
    "    \n",
    "    # Network Statistics:\n",
    "    df = pd.merge(pubs_mrg, pubs_rsr.rename(columns={'rsr_id':'author_id'}), \n",
    "                  how='left', on='pub_id')\n",
    "    pubs_collab = df.groupby(cols)\n",
    "    pubs_collab = pd.DataFrame({'nb_collabs': pubs_collab['author_id'].nunique()\n",
    "                                , 'nb_collab_countries': pubs_collab['rsr_country'].nunique()\n",
    "                               }).reset_index()\n",
    "    \n",
    "    # In Topic or not in Topic?\n",
    "    df = pd.merge(pubs_mrg, grnts_rcdc, how='left', on='grant_id')\n",
    "    df = pd.merge(df, pubs_rcdc, how='left', on='pub_id')\n",
    "    df['in_topic'] = (df['rcdc_name_x']==df['rcdc_name_y'])\n",
    "    col_temp = list(pubs_mrg)\n",
    "    df = df.groupby(col_temp)['in_topic'].sum().reset_index()\n",
    "    df['in_topic'] = np.where(df['in_topic']>0, True, False)\n",
    "    pubs_topic = df.groupby(cols)\n",
    "    pubs_topic = pd.DataFrame({'nb_pubs_in_topic': pubs_topic['in_topic'].sum()\n",
    "                                , 'pct_pubs_in_topic': pubs_topic['in_topic'].mean()\n",
    "                               }).reset_index()    \n",
    "    \n",
    "    \n",
    "    # Combine the two:\n",
    "    pubs_stats = pd.merge(pubs_stats, pubs_collab, how='outer', on=cols)\n",
    "    pubs_stats = pd.merge(pubs_stats, pubs_topic, how='outer', on=cols)\n",
    "    pubs_stats = pd.merge(funded_grnts_funder, pubs_stats, how='left', on='grant_id')\n",
    "    \n",
    "    return pubs_stats"
   ]
  },
  {
   "cell_type": "markdown",
   "metadata": {},
   "source": [
    "## 1. Funded Grants Statistics"
   ]
  },
  {
   "cell_type": "markdown",
   "metadata": {},
   "source": [
    "### Number of Grants per Funder"
   ]
  },
  {
   "cell_type": "code",
   "execution_count": null,
   "metadata": {
    "scrolled": false
   },
   "outputs": [],
   "source": [
    "funded_grnts.describe(include='all')"
   ]
  },
  {
   "cell_type": "code",
   "execution_count": null,
   "metadata": {},
   "outputs": [],
   "source": [
    "results['nb_unique_rsrs'] = {}\n",
    "\n",
    "print(\"Number of unique researchers funded:\")\n",
    "print(funded_grnts['rsr_id'].nunique())\n",
    "results['nb_unique_rsrs']['overall'] = funded_grnts['rsr_id'].nunique()\n",
    "\n",
    "print(\"\\nNumber of unique researchers funded by each agency:\")\n",
    "print(funded_grnts.groupby('funder_name')['rsr_id'].nunique())\n",
    "for funder in funders:\n",
    "    results['nb_unique_rsrs'][funder] = funded_grnts.groupby('funder_name')['rsr_id'].nunique()[funder]"
   ]
  },
  {
   "cell_type": "code",
   "execution_count": null,
   "metadata": {},
   "outputs": [],
   "source": [
    "results['nb_unique_grnts'] = {}\n",
    "\n",
    "print(\"Number of unique grants funded:\")\n",
    "print(funded_grnts['grant_id'].nunique())\n",
    "results['nb_unique_grnts']['overall'] = funded_grnts['grant_id'].nunique()\n",
    "\n",
    "print(\"\\nNumber of unique grants funded by each agency:\")\n",
    "print(funded_grnts.groupby('funder_name')['grant_id'].nunique())\n",
    "for funder in funders:\n",
    "    results['nb_unique_grnts'][funder] = funded_grnts.groupby('funder_name')['grant_id'].nunique()[funder]"
   ]
  },
  {
   "cell_type": "markdown",
   "metadata": {},
   "source": [
    "### Number of Grants per Researcher"
   ]
  },
  {
   "cell_type": "code",
   "execution_count": null,
   "metadata": {},
   "outputs": [],
   "source": [
    "print(\"Agerage Number of Grants per Researcher:\")\n",
    "print(funded_grnts.groupby('rsr_id')['grant_id'].nunique().mean())\n",
    "print(\"\\nNumber of grants from agencies per researcher (as % of total):\\n\")\n",
    "print(funded_grnts.groupby('rsr_id')['grant_id'].nunique().value_counts(normalize=True).head())"
   ]
  },
  {
   "cell_type": "code",
   "execution_count": null,
   "metadata": {},
   "outputs": [],
   "source": [
    "print(\"Agerage Number of Agencies per Researcher:\")\n",
    "print(funded_grnts.groupby('rsr_id')['funder_name'].nunique().mean())\n",
    "print(\"\\nBy how many agencies are the researchers funded?\\n\")\n",
    "print(funded_grnts.groupby('rsr_id')['funder_name'].nunique().value_counts(normalize=True))"
   ]
  },
  {
   "cell_type": "code",
   "execution_count": null,
   "metadata": {},
   "outputs": [],
   "source": [
    "print(\"How many grants does each agency give to its reserachers in the 5 focal years?\")\n",
    "for funder in funders:\n",
    "    print(\"\\n{}:\".format(funder))\n",
    "    temp = funded_grnts[funded_grnts['funder_name']==funder].groupby('rsr_id')['grant_id'].nunique().reset_index()\n",
    "    print(temp['grant_id'].value_counts(normalize=True).head(3))\n",
    "    print(\"(Total researchers: {})\".format(temp.shape[0]))"
   ]
  },
  {
   "cell_type": "markdown",
   "metadata": {},
   "source": [
    "### Grant Characteristics"
   ]
  },
  {
   "cell_type": "code",
   "execution_count": null,
   "metadata": {
    "scrolled": false
   },
   "outputs": [],
   "source": [
    "results['grant_characteristics'] = {}\n",
    "\n",
    "df = pd.merge(funded_grnts_funder, funded_grnts_info, how='left', on='grant_id')\n",
    "print(\"Average Grant Amount: {}\".format(df['funding_amount'].mean()))\n",
    "print(\"Average Funding Length: {}\".format(df['funding_len'].mean()))\n",
    "print(\"Average Team Size: {}\".format(df['nb_rsrs'].mean()))\n",
    "results['grant_characteristics']['overall'] = df[['funding_amount', 'funding_len', 'nb_rsrs']].describe()\n",
    "\n",
    "funded_grnts_amt_avg = []\n",
    "funded_grnts_amt_med = []\n",
    "funded_grnts_len_avg = []\n",
    "funded_grnts_len_med = []\n",
    "funded_grnts_team_size_avg = []\n",
    "funded_grnts_team_size_med = []\n",
    "for funder in funders:\n",
    "    print(\"\\n{}:\".format(funder))\n",
    "    temp = df[df['funder_name']==funder].copy()\n",
    "    print(temp[['funding_amount', 'funding_len', 'nb_rsrs']].describe())\n",
    "    print(\"(Total grants: {})\".format(temp.shape[0]))\n",
    "    results['grant_characteristics'][funder] = temp[['funding_amount', 'funding_len', 'nb_rsrs']].describe()"
   ]
  },
  {
   "cell_type": "code",
   "execution_count": null,
   "metadata": {},
   "outputs": [],
   "source": [
    "temp = pd.merge(funded_grnts_funder, funded_grnts_info, how='left', on='grant_id')\n",
    "temp['year'] = pd.DatetimeIndex(temp['start_date']).year\n",
    "pd.crosstab(temp['funder_name'], temp['year'])"
   ]
  },
  {
   "cell_type": "markdown",
   "metadata": {},
   "source": [
    "## 2. Prior and Subsequent Grants"
   ]
  },
  {
   "cell_type": "code",
   "execution_count": null,
   "metadata": {},
   "outputs": [],
   "source": [
    "grnts_stats = grant_groupby(grnts_mrg)"
   ]
  },
  {
   "cell_type": "code",
   "execution_count": null,
   "metadata": {
    "scrolled": false
   },
   "outputs": [],
   "source": [
    "results['pre_grnt_stats'] = {}\n",
    "results['post_grnt_stats'] = {}\n",
    "\n",
    "cols = ['nb_grnts', 'fund_amt', 'avg_fund_len', 'avg_team_size']\n",
    "\n",
    "temp = grnts_stats[grnts_stats['status']==\"pre\"].copy()\n",
    "print(\"Average Funding Length Pre-Grant: {}\".format(temp['avg_fund_len'].mean()))\n",
    "print(\"Average Team Size Pre-Grant: {}\".format(temp['avg_team_size'].mean()))\n",
    "print(\"Average Funding Amount Pre-Grant: {}\".format(temp['fund_amt'].mean()))\n",
    "print(\"Average Total Number of Grants Pre-Grant: {}\".format(temp['nb_grnts'].mean()))\n",
    "results['pre_grnt_stats']['overall'] = temp[cols].describe()\n",
    "\n",
    "temp = grnts_stats[grnts_stats['status']==\"post\"].copy()\n",
    "print(\"\\nAverage Funding Length Post-Grant: {}\".format(temp['avg_fund_len'].mean()))\n",
    "print(\"Average Team Size Post-Grant: {}\".format(temp['avg_team_size'].mean()))\n",
    "print(\"Average Funding Amount Post-Grant: {}\".format(temp['fund_amt'].mean()))\n",
    "print(\"Average Total Number of Grants Post-Grant: {}\".format(temp['nb_grnts'].mean()))\n",
    "results['post_grnt_stats']['overall'] = temp[cols].describe()\n",
    "\n",
    "print(\"\\n\")\n",
    "\n",
    "print(\"Pre-Funding Grant Statistics:\")\n",
    "df = grnts_stats[grnts_stats['status']==\"pre\"].copy()\n",
    "for funder in funders:\n",
    "    print(\"\\n{}:\".format(funder))\n",
    "    temp = df[df['funder_name']==funder]\n",
    "    print(temp[cols].describe())\n",
    "    results['pre_grnt_stats'][funder] = temp[cols].describe()\n",
    "\n",
    "print(\"\\n\")\n",
    "\n",
    "print(\"Post-Funding Grant Statistics:\")\n",
    "df = grnts_stats[grnts_stats['status']==\"post\"].copy()\n",
    "for funder in funders:\n",
    "    print(\"\\n{}:\".format(funder))\n",
    "    temp = df[df['funder_name']==funder]\n",
    "    print(temp[cols].describe())\n",
    "    results['pre_grnt_stats'][funder] = temp[cols].describe()"
   ]
  },
  {
   "cell_type": "markdown",
   "metadata": {},
   "source": [
    "## 3. Prior and Subsequent Publications"
   ]
  },
  {
   "cell_type": "code",
   "execution_count": null,
   "metadata": {},
   "outputs": [],
   "source": [
    "pubs_stats = pub_groupby(pubs_mrg)"
   ]
  },
  {
   "cell_type": "code",
   "execution_count": null,
   "metadata": {
    "scrolled": false
   },
   "outputs": [],
   "source": [
    "results['pre_pubs_stats'] = {}\n",
    "results['post_pubs_stats'] = {}\n",
    "\n",
    "cols = ['citations_per_pub', 'nb_pubs', 'team_size', 'nb_collabs', 'nb_collab_countries']\n",
    "\n",
    "temp = pubs_stats[pubs_stats['status']==\"pre\"].copy()\n",
    "print(\"Average Citations Pre-Grant: {}\".format(temp['citations_per_pub'].mean()))\n",
    "print(\"Average Total Number of Publications Pre-Grant: {}\".format(temp['nb_pubs'].mean()))\n",
    "results['pre_pubs_stats']['overall'] = temp[cols].describe()\n",
    "\n",
    "temp = pubs_stats[pubs_stats['status']==\"post\"].copy()\n",
    "print(\"\\nAverage Citations Post-Grant: {}\".format(temp['citations_per_pub'].mean()))\n",
    "print(\"Average Total Number of Publications Post-Grant: {}\".format(temp['nb_pubs'].mean()))\n",
    "results['post_pubs_stats']['overall'] = temp[cols].describe()\n",
    "\n",
    "print(\"\\n\")\n",
    "\n",
    "print(\"Pre-Funding Publication Statistics:\")\n",
    "df = pubs_stats[pubs_stats['status']==\"pre\"].copy()\n",
    "for funder in funders:\n",
    "    print(\"\\n{}:\".format(funder))\n",
    "    temp = df[df['funder_name']==funder]\n",
    "    print(temp[cols].describe())\n",
    "    results['pre_pubs_stats'][funder] = temp[cols].describe()\n",
    "\n",
    "print(\"\\n\")\n",
    "\n",
    "print(\"Post-Funding Publication Statistics:\")\n",
    "df = pubs_stats[pubs_stats['status']==\"post\"].copy()\n",
    "cols = ['citations_per_pub', 'nb_pubs', 'team_size', 'nb_collabs', 'nb_collab_countries']\n",
    "for funder in funders:\n",
    "    print(\"\\n{}:\".format(funder))\n",
    "    temp = df[df['funder_name']==funder]\n",
    "    print(temp[cols].describe())\n",
    "    results['post_pubs_stats'][funder] = temp[cols].describe()"
   ]
  },
  {
   "cell_type": "markdown",
   "metadata": {},
   "source": [
    "## 4. Topic Analyses"
   ]
  },
  {
   "cell_type": "markdown",
   "metadata": {},
   "source": [
    "### Funded Grant RCDC Codes Analysis"
   ]
  },
  {
   "cell_type": "code",
   "execution_count": null,
   "metadata": {},
   "outputs": [],
   "source": [
    "df = pd.merge(funded_grnts_info, grnts_rcdc, how='left', on='grant_id')"
   ]
  },
  {
   "cell_type": "code",
   "execution_count": null,
   "metadata": {
    "scrolled": true
   },
   "outputs": [],
   "source": [
    "print(\"Most Common RCDC Codes:\")\n",
    "print(df['rcdc_name'].value_counts().head())\n",
    "funded_grnts_rcdc_tot = df['rcdc_name'].value_counts().index[0:5]"
   ]
  },
  {
   "cell_type": "code",
   "execution_count": null,
   "metadata": {},
   "outputs": [],
   "source": [
    "df = pd.merge(funded_grnts_funder, grnts_rcdc, how='left', on='grant_id')"
   ]
  },
  {
   "cell_type": "code",
   "execution_count": null,
   "metadata": {},
   "outputs": [],
   "source": [
    "print(\"Average number of RCDC's per Grant:\\n\")\n",
    "print(df[['funder_name', 'grant_id', 'nb_rcdc']].drop_duplicates().groupby('funder_name')['nb_rcdc'].mean())"
   ]
  },
  {
   "cell_type": "code",
   "execution_count": null,
   "metadata": {},
   "outputs": [],
   "source": [
    "funded_grnts_rcdc_1 = []\n",
    "funded_grnts_rcdc_2 = []\n",
    "funded_grnts_rcdc_3 = []\n",
    "funded_grnts_rcdc_4 = []\n",
    "funded_grnts_rcdc_5 = []\n",
    "\n",
    "for funder in funders:\n",
    "    print(\"\\n{}:\".format(funder))\n",
    "    temp = df[df['funder_name']==funder]\n",
    "    print(temp['rcdc_name'].value_counts().head())\n",
    "    funded_grnts_rcdc_1.append(temp['rcdc_name'].value_counts().index[0])\n",
    "    funded_grnts_rcdc_2.append(temp['rcdc_name'].value_counts().index[1])\n",
    "    funded_grnts_rcdc_3.append(temp['rcdc_name'].value_counts().index[2])\n",
    "    funded_grnts_rcdc_4.append(temp['rcdc_name'].value_counts().index[3])\n",
    "    funded_grnts_rcdc_5.append(temp['rcdc_name'].value_counts().index[4])"
   ]
  },
  {
   "cell_type": "code",
   "execution_count": null,
   "metadata": {},
   "outputs": [],
   "source": [
    "pubs_cso_1 = pubs_cso.drop_duplicates('pub_id', keep='first').reset_index(drop=True)"
   ]
  },
  {
   "cell_type": "markdown",
   "metadata": {},
   "source": [
    "### Publication CSO Codes"
   ]
  },
  {
   "cell_type": "code",
   "execution_count": null,
   "metadata": {},
   "outputs": [],
   "source": [
    "df = pd.merge(pubs_mrg, pubs_cso, how='left', on='pub_id')\n",
    "df = df[['funder_name', 'pub_id', 'cso', 'nb_cso']].drop_duplicates().reset_index(drop=True)"
   ]
  },
  {
   "cell_type": "code",
   "execution_count": null,
   "metadata": {},
   "outputs": [],
   "source": [
    "print(\"Average number of CSO Codes per Publication Associated to Grant:\\n\")\n",
    "print(df[['funder_name', 'pub_id', 'nb_cso']].drop_duplicates().groupby('funder_name')['nb_cso'].mean())"
   ]
  },
  {
   "cell_type": "code",
   "execution_count": null,
   "metadata": {},
   "outputs": [],
   "source": [
    "cso_1 = []\n",
    "cso_2 = []\n",
    "cso_3 = []\n",
    "cso_4 = []\n",
    "cso_5 = []\n",
    "\n",
    "for funder in funders:\n",
    "    print(\"\\n{}:\".format(funder))\n",
    "    temp = df[df['funder_name']==funder]\n",
    "    print(\"Number of Publications with missing CSO Codes: {}\".format(temp[temp['cso'].isnull()].shape[0]))\n",
    "    print(temp['cso'].value_counts().head())\n",
    "    cso_1.append(temp['cso'].value_counts().index[0])\n",
    "    cso_2.append(temp['cso'].value_counts().index[1])\n",
    "    cso_3.append(temp['cso'].value_counts().index[2])\n",
    "    cso_4.append(temp['cso'].value_counts().index[3])\n",
    "    cso_5.append(temp['cso'].value_counts().index[4])"
   ]
  },
  {
   "cell_type": "markdown",
   "metadata": {},
   "source": [
    "### CSO * RCDC Distributions"
   ]
  },
  {
   "cell_type": "code",
   "execution_count": null,
   "metadata": {},
   "outputs": [],
   "source": [
    "rcdc_codes_to_remove = ['CANCER', 'CLINICAL RESEARCH', 'PREVENTION', 'DIAGNOSTIC RADIOLOGY', \n",
    "                        'BEHAVIORAL AND SOCIAL SCIENCE', 'PATIENT SAFETY', 'HEALTH SERVICES', 'IMMUNIZATION', \n",
    "                        'COMPLEMENTARY AND ALTERNATIVE MEDICINE', 'BASIC BEHAVIORAL AND SOCIAL SCIENCE', \n",
    "                        'COMPARATIVE EFFECTIVENESS RESEARCH', 'CLINICAL TRIALS AND SUPPORTIVE ACTIVITIES',\n",
    "                        'NETWORKING AND INFORMATION TECHNOLOGY R&D', 'BURDEN OF ILLNESS']"
   ]
  },
  {
   "cell_type": "code",
   "execution_count": null,
   "metadata": {},
   "outputs": [],
   "source": [
    "topic_distributions = pd.merge(pubs_mrg, pubs_cso, on='pub_id', how='left')\n",
    "topic_distributions = pd.merge(topic_distributions, cso_lookup, on='cso_name', how='left')\n",
    "topic_distributions = pd.merge(topic_distributions, pubs_rcdc, on='pub_id', how='left')"
   ]
  },
  {
   "cell_type": "code",
   "execution_count": null,
   "metadata": {},
   "outputs": [],
   "source": [
    "# Which CSO?\n",
    "topic_distributions.rename(columns={'cso_cat': 'cso'}, inplace=True)"
   ]
  },
  {
   "cell_type": "code",
   "execution_count": null,
   "metadata": {},
   "outputs": [],
   "source": [
    "# Restrictions\n",
    "topic_distributions = topic_distributions[topic_distributions['status']==\"post\"]"
   ]
  },
  {
   "cell_type": "code",
   "execution_count": null,
   "metadata": {},
   "outputs": [],
   "source": [
    "# RCDC:\n",
    "df = topic_distributions[['funder_name', 'rsr_id', 'pub_id', 'rcdc_name']].drop_duplicates()\n",
    "df = df[df['rcdc_name'].notnull()].reset_index(drop=True)\n",
    "df = df[df['rcdc_name']!=\"NAN\"].reset_index(drop=True)    \n",
    "for rcdc in rcdc_codes_to_remove:\n",
    "    df = df[df['rcdc_name']!=rcdc].reset_index(drop=True)\n",
    "\n",
    "out = pd.DataFrame()\n",
    "for agency in list(df['funder_name'].unique()):\n",
    "    temp = df[df['funder_name']==agency].copy().reset_index(drop=True)\n",
    "    den = temp[['pub_id', 'rsr_id']].drop_duplicates().shape[0]\n",
    "    temp['nb_rcdc'] = temp.groupby(['pub_id', 'rsr_id'])['pub_id'].transform('count')\n",
    "    temp[agency+' pubs'] = 1/temp['nb_rcdc']\n",
    "    temp = temp.groupby('rcdc_name')[agency+' pubs'].sum().reset_index()\n",
    "    print(temp[agency+' pubs'].sum())\n",
    "    temp[agency+' share'] = temp[agency+' pubs']/den\n",
    "    print(temp[agency+' share'].sum())\n",
    "    temp.sort_values(agency+' pubs', ascending=False, inplace=True)\n",
    "    del temp[agency+' pubs']\n",
    "    \n",
    "    if out.empty:\n",
    "        out = temp\n",
    "    else:\n",
    "        out = pd.merge(out, temp, how='outer', on='rcdc_name')\n",
    "    \n",
    "out['average_share'] = (out['INCa/INSERM/DGOS share']+out['National Cancer Institute share']\n",
    "                          +out['Cancer Research UK share']+out['Wellcome Trust share']\n",
    "                          +out['National Health and Medical Research Council share'])/5\n",
    "    \n",
    "out.to_csv('../output/top_topics/rcdc.csv'.format(agency.replace(\"/\", \"-\")), index=False)\n",
    "print(out.shape[0])"
   ]
  },
  {
   "cell_type": "code",
   "execution_count": null,
   "metadata": {},
   "outputs": [],
   "source": [
    "# CSO\n",
    "df = topic_distributions[['funder_name', 'rsr_id', 'pub_id', 'cso']].drop_duplicates()\n",
    "df = df[df['cso'].notnull()].reset_index(drop=True)\n",
    "df = df[df['cso']!=\"NAN\"].reset_index(drop=True)    \n",
    "\n",
    "out = pd.DataFrame()\n",
    "for agency in list(df['funder_name'].unique()):\n",
    "    temp = df[df['funder_name']==agency].copy().reset_index(drop=True)\n",
    "    den = temp[['pub_id', 'rsr_id']].drop_duplicates().shape[0]\n",
    "    temp['nb_cso'] = temp.groupby(['pub_id', 'rsr_id'])['pub_id'].transform('count')\n",
    "    temp[agency+' pubs'] = 1/temp['nb_cso']\n",
    "    temp = temp.groupby('cso')[agency+' pubs'].sum().reset_index()\n",
    "    print(temp[agency+' pubs'].sum())\n",
    "    temp[agency+' share'] = temp[agency+' pubs']/den\n",
    "    print(temp[agency+' share'].sum())\n",
    "    temp.sort_values(agency+' pubs', ascending=False, inplace=True)\n",
    "    del temp[agency+' pubs']\n",
    "    \n",
    "    if out.empty:\n",
    "        out = temp\n",
    "    else:\n",
    "        out = pd.merge(out, temp, how='outer', on='cso')\n",
    "\n",
    "out['average_share'] = (out['INCa/INSERM/DGOS share']+out['National Cancer Institute share']\n",
    "                          +out['Cancer Research UK share']+out['Wellcome Trust share']\n",
    "                          +out['National Health and Medical Research Council share'])/5\n",
    "    \n",
    "out.to_csv('../output/top_topics/cso.csv'.format(agency.replace(\"/\", \"-\")), index=False)\n",
    "print(out.shape[0])"
   ]
  },
  {
   "cell_type": "code",
   "execution_count": null,
   "metadata": {},
   "outputs": [],
   "source": [
    "df = topic_distributions[['funder_name', 'rsr_id', 'pub_id', 'rcdc_name', 'cso']].drop_duplicates()\n",
    "df = df[df['rcdc_name'].notnull()].reset_index(drop=True)\n",
    "df = df[df['rcdc_name']!=\"NAN\"].reset_index(drop=True)    \n",
    "for rcdc in rcdc_codes_to_remove:\n",
    "    df = df[df['rcdc_name']!=rcdc].reset_index(drop=True)\n",
    "# df = df[df['rcdc_name'].str.upper().str.contains(\"CANCER\")]\n",
    "df = df[df['cso'].notnull()].reset_index(drop=True)\n",
    "df = df[df['cso']!=\"NAN\"].reset_index(drop=True)    \n",
    "df['rcdc_cso'] = df['rcdc_name']+\" * \"+df['cso']\n",
    "\n",
    "out = pd.DataFrame()\n",
    "for agency in list(df['funder_name'].unique()):\n",
    "    temp = df[df['funder_name']==agency].copy().reset_index(drop=True)\n",
    "    den = temp[['pub_id', 'rsr_id']].drop_duplicates().shape[0]\n",
    "    print(den)\n",
    "    temp['nb'] = temp.groupby(['pub_id', 'rsr_id'])['pub_id'].transform('count')\n",
    "    temp[agency+' pubs'] = 1/temp['nb']\n",
    "    temp = temp.groupby('rcdc_cso')[agency+' pubs'].sum().reset_index()\n",
    "    print(temp[agency+' pubs'].sum())\n",
    "    temp.sort_values(agency+' pubs', ascending=False, inplace=True)\n",
    "    \n",
    "    if out.empty:\n",
    "        out = temp\n",
    "    else:\n",
    "        out = pd.merge(out, temp, how='outer', on='rcdc_cso')\n",
    "\n",
    "out.to_csv('../output/top_topics/rcdc_cso.csv'.format(agency.replace(\"/\", \"-\")), index=False)\n",
    "print(out.shape[0])"
   ]
  },
  {
   "cell_type": "code",
   "execution_count": null,
   "metadata": {},
   "outputs": [],
   "source": [
    "df = topic_distributions[['funder_name', 'rsr_id', 'pub_id', 'year', 'rcdc_name', 'cso']].drop_duplicates()\n",
    "df = df[df['rcdc_name'].notnull()].reset_index(drop=True)\n",
    "df = df[df['rcdc_name']!=\"NAN\"].reset_index(drop=True)    \n",
    "for rcdc in rcdc_codes_to_remove:\n",
    "    df = df[df['rcdc_name']!=rcdc].reset_index(drop=True)\n",
    "# df = df[df['rcdc_name'].str.upper().str.contains(\"CANCER\")]\n",
    "df = df[df['cso'].notnull()].reset_index(drop=True)\n",
    "df = df[df['cso']!=\"NAN\"].reset_index(drop=True)    \n",
    "df['rcdc_cso'] = df['rcdc_name']+\" * \"+df['cso']\n",
    "\n",
    "out = pd.DataFrame()\n",
    "for agency in list(df['funder_name'].unique()):\n",
    "    temp = df[df['funder_name']==agency].copy().reset_index(drop=True)\n",
    "    den = temp[['pub_id', 'rsr_id']].drop_duplicates().shape[0]\n",
    "    print(den)\n",
    "    temp['nb'] = temp.groupby(['pub_id', 'rsr_id'])['pub_id'].transform('count')\n",
    "    temp[agency+' pubs'] = 1/temp['nb']\n",
    "    temp = temp.groupby(['rcdc_cso', 'year'])[agency+' pubs'].sum().reset_index()\n",
    "    print(temp[agency+' pubs'].sum())\n",
    "#     temp[agency+' share'] = temp[agency+' pubs']\n",
    "#     print(temp[agency+' share'].sum())\n",
    "    temp.sort_values(agency+' pubs', ascending=False, inplace=True)\n",
    "    \n",
    "    if out.empty:\n",
    "        out = temp\n",
    "    else:\n",
    "        out = pd.merge(out, temp, how='outer', on=['rcdc_cso', 'year'])\n",
    "\n",
    "        \n",
    "# out['average_share'] = (out['INCa/INSERM/DGOS share']+out['National Cancer Institute share']\n",
    "#                           +out['Cancer Research UK share']+out['Wellcome Trust share']\n",
    "#                           +out['National Health and Medical Research Council share'])/5\n",
    "    \n",
    "out.to_csv('../output/top_topics/rcdc_cso_by_year.csv'.format(agency.replace(\"/\", \"-\")), index=False)\n",
    "print(out.shape[0])"
   ]
  },
  {
   "cell_type": "markdown",
   "metadata": {},
   "source": [
    "## 5. Researcher Level Statistics"
   ]
  },
  {
   "cell_type": "code",
   "execution_count": null,
   "metadata": {},
   "outputs": [],
   "source": [
    "rsrs.describe(include='all')"
   ]
  },
  {
   "cell_type": "markdown",
   "metadata": {},
   "source": [
    "## 6. Balanced Prior Publications"
   ]
  },
  {
   "cell_type": "markdown",
   "metadata": {},
   "source": [
    "For this section, we restrict data to the first grant of every researcher (which is why averages are not quite the same as before)."
   ]
  },
  {
   "cell_type": "code",
   "execution_count": null,
   "metadata": {},
   "outputs": [],
   "source": [
    "pubs_stats = pub_groupby(pubs_mrg, yearly=True)"
   ]
  },
  {
   "cell_type": "code",
   "execution_count": null,
   "metadata": {},
   "outputs": [],
   "source": [
    "balanced_pubs_stats = pd.merge(pubs_stats, propensity_scores, on=['rsr_id', 'funder_name', 'grant_id'])\n",
    "balanced_pubs_stats = pd.merge(balanced_pubs_stats, rsrs[['rsr_id', 'rsr_gender', 'rsr_career_start_year']]\n",
    "                               , how='left', on='rsr_id')\n",
    "balanced_pubs_stats['rsr_career_age'] = balanced_pubs_stats['year']-balanced_pubs_stats['rsr_career_start_year']\n",
    "balanced_pubs_stats = balanced_pubs_stats[balanced_pubs_stats['weight'].notnull()]"
   ]
  },
  {
   "cell_type": "code",
   "execution_count": null,
   "metadata": {},
   "outputs": [],
   "source": [
    "cols = ['citations_per_pub', 'nb_pubs', 'team_size', 'nb_collabs', 'nb_collab_countries', 'rsr_career_age']"
   ]
  },
  {
   "cell_type": "code",
   "execution_count": null,
   "metadata": {
    "scrolled": false
   },
   "outputs": [],
   "source": [
    "df = pd.DataFrame()\n",
    "for var in cols:\n",
    "    temp = balanced_pubs_stats[['funder_name', var, 'status']].copy()\n",
    "    temp = pd.pivot_table(temp, index='status', columns='funder_name', values=var, aggfunc='mean').reset_index()\n",
    "    temp['var'] = var\n",
    "    temp['propensity_weight'] = False\n",
    "    if df.empty:\n",
    "        df = temp\n",
    "    else:\n",
    "        df = pd.concat([df, temp], sort=False)\n",
    "df[['propensity_weight', 'status', 'var']+funders].sort_values(['status', 'var'], ascending=[False,True])    "
   ]
  },
  {
   "cell_type": "code",
   "execution_count": null,
   "metadata": {},
   "outputs": [],
   "source": [
    "df = pd.DataFrame()\n",
    "for var in cols:\n",
    "    temp = balanced_pubs_stats[['funder_name', var, 'status', 'weight']].copy()\n",
    "    temp[var+'_temp'] = temp[var]*temp['weight']\n",
    "    temp = pd.pivot_table(temp, index='status', columns='funder_name', \n",
    "                          values=var+'_temp', aggfunc='sum').reset_index()\n",
    "    temp['var'] = var\n",
    "    \n",
    "    for funder in funders:\n",
    "        pre_den = (np.where(balanced_pubs_stats[balanced_pubs_stats['funder_name']==funder]['status']==\"post\", 0, \n",
    "                            np.where(balanced_pubs_stats[balanced_pubs_stats['funder_name']==funder][var].notnull(), \n",
    "                                     balanced_pubs_stats[balanced_pubs_stats['funder_name']==funder]['weight'], \n",
    "                                     0))).sum()\n",
    "        post_den = (np.where(balanced_pubs_stats[balanced_pubs_stats['funder_name']==funder]['status']==\"pre\", 0, \n",
    "                            np.where(balanced_pubs_stats[balanced_pubs_stats['funder_name']==funder][var].notnull(), \n",
    "                                     balanced_pubs_stats[balanced_pubs_stats['funder_name']==funder]['weight'], \n",
    "                                     0))).sum()\n",
    "        temp[funder] = np.where(temp['status']==\"pre\", temp[funder]/pre_den, temp[funder]/post_den)\n",
    "            \n",
    "    temp['var'] = var\n",
    "    temp['propensity_weight'] = True\n",
    "    if df.empty:\n",
    "        df = temp\n",
    "    else:\n",
    "        df = pd.concat([df, temp])\n",
    "df[['propensity_weight', 'status', 'var']+funders].sort_values(['status', 'var'], ascending=[False,True])"
   ]
  },
  {
   "cell_type": "code",
   "execution_count": null,
   "metadata": {},
   "outputs": [],
   "source": [
    "df = pd.DataFrame()\n",
    "temp = balanced_pubs_stats[['funder_name', 'rsr_gender', 'status']]\n",
    "temp = pd.crosstab(temp['funder_name'], temp['rsr_gender'],normalize='index').reset_index()\n",
    "if df.empty:\n",
    "    df = temp\n",
    "else:\n",
    "    df = pd.concat([df, temp])\n",
    "df[['funder_name', 'F', 'M', 'UNKNOWN']]"
   ]
  },
  {
   "cell_type": "code",
   "execution_count": null,
   "metadata": {},
   "outputs": [],
   "source": [
    "df = pd.DataFrame()\n",
    "temp = balanced_pubs_stats[['funder_name', 'rsr_gender', 'status', 'weight']]\n",
    "temp = pd.crosstab(temp['funder_name'], temp['rsr_gender'], temp['weight'], aggfunc = sum, \n",
    "                   normalize='index').reset_index()\n",
    "if df.empty:\n",
    "    df = temp\n",
    "else:\n",
    "    df = pd.concat([df, temp])\n",
    "df[['funder_name', 'F', 'M', 'UNKNOWN']]"
   ]
  },
  {
   "cell_type": "markdown",
   "metadata": {},
   "source": [
    "## Creating Output Comparison Table"
   ]
  },
  {
   "cell_type": "markdown",
   "metadata": {},
   "source": [
    "### Overall Table"
   ]
  },
  {
   "cell_type": "code",
   "execution_count": null,
   "metadata": {},
   "outputs": [],
   "source": [
    "# df = pd.DataFrame({\n",
    "#     'funded_grnts_per_rsrs_tot': funded_grnts_per_rsrs_tot\n",
    "#     , 'agencies_per_rsrs_tot': agencies_per_rsrs_tot\n",
    "#     , 'funded_amt_tot': funded_amt_tot\n",
    "#     , 'funded_len_tot': funded_len_tot\n",
    "#     , 'nb_grnt_rsrs_tot': nb_grnt_rsrs_tot\n",
    "#     , 'grnt_fund_len_tot': grnt_fund_len_tot\n",
    "#     , 'grnt_team_size_tot': grnt_team_size_tot\n",
    "#     , 'grnt_fund_amt_tot': grnt_fund_amt_tot\n",
    "#     , 'pre_avg_fund_len_tot': pre_avg_fund_len_tot\n",
    "#     , 'pre_avg_team_size_tot': pre_avg_team_size_tot\n",
    "#     , 'pre_fund_amt_tot': pre_fund_amt_tot\n",
    "#     , 'pre_nb_grnts_tot': pre_nb_grnts_tot\n",
    "#     , 'post_avg_fund_len_tot': post_avg_fund_len_tot\n",
    "#     , 'post_avg_team_size_tot': post_avg_team_size_tot\n",
    "#     , 'post_fund_amt_tot': post_fund_amt_tot\n",
    "#     , 'post_nb_grnts_tot': post_nb_grnts_tot\n",
    "#     , 'pub_cit_tot': pub_cit_tot\n",
    "#     , 'pub_team_size_tot': pub_team_size_tot\n",
    "#     , 'pre_pub_cit_tot': pre_pub_cit_tot\n",
    "#     , 'pre_nb_pubs_tot': pre_nb_pubs_tot\n",
    "#     , 'post_pub_cit_tot': post_pub_cit_tot\n",
    "#     , 'post_nb_pubs_tot': post_nb_pubs_tot\n",
    "#     }, index=['mean', 'std']).transpose()\n",
    "# df"
   ]
  },
  {
   "cell_type": "code",
   "execution_count": null,
   "metadata": {},
   "outputs": [],
   "source": [
    "# # Export to Excel\n",
    "# ls = !ls ../output/\n",
    "# if 'comparison_statistics.xlsx' in ls:\n",
    "#     book = load_workbook('../output/comparison_statistics.xlsx')\n",
    "#     writer = pd.ExcelWriter('../output/comparison_statistics.xlsx', engine='openpyxl') \n",
    "#     writer.book = book\n",
    "#     writer.sheets = dict((ws.title, ws) for ws in book.worksheets)\n",
    "#     df.to_excel(writer, \"raw_all\")\n",
    "#     writer.save()\n",
    "# else:\n",
    "#     df.to_excel('../output/comparison_statistics.xlsx', sheet_name = 'raw_all')"
   ]
  },
  {
   "cell_type": "markdown",
   "metadata": {},
   "source": [
    "### Table by Funding Agency"
   ]
  },
  {
   "cell_type": "code",
   "execution_count": null,
   "metadata": {},
   "outputs": [],
   "source": [
    "# df = pd.DataFrame({'rcdc_1':rcdc_1\n",
    "#                     , 'rcdc_2':rcdc_2\n",
    "#                     , 'rcdc_3':rcdc_3\n",
    "#                     , 'rcdc_4':rcdc_4\n",
    "#                     , 'rcdc_5':rcdc_5                   \n",
    "#                     , 'nb_unique_rsrs': nb_unique_rsrs\n",
    "#                     , 'nb_unique_grnts': nb_unique_grnts\n",
    "#                     , 'funded_amt_avg': funded_amt_avg\n",
    "#                     , 'funded_amt_med': funded_amt_med\n",
    "#                     , 'funded_len_avg': funded_len_avg\n",
    "#                     , 'funded_len_med': funded_len_med\n",
    "#                     , 'nb_grnt_rsrs_avg': nb_grnt_rsrs_avg\n",
    "#                     , 'nb_grnt_rsrs_med': nb_grnt_rsrs_med\n",
    "#                     , 'pre_avg_fund_len_avg': pre_avg_fund_len_avg\n",
    "#                     , 'pre_avg_fund_len_med': pre_avg_fund_len_med\n",
    "#                     , 'pre_avg_team_size_avg': pre_avg_team_size_avg\n",
    "#                     , 'pre_avg_team_size_med': pre_avg_team_size_med\n",
    "#                     , 'pre_fund_amt_avg': pre_fund_amt_avg\n",
    "#                     , 'pre_fund_amt_med': pre_fund_amt_med\n",
    "#                     , 'pre_nb_grnts_avg': pre_nb_grnts_avg\n",
    "#                     , 'pre_nb_grnts_med': pre_nb_grnts_med\n",
    "#                     , 'post_avg_fund_len_avg': post_avg_fund_len_avg\n",
    "#                     , 'post_avg_fund_len_med': post_avg_fund_len_med\n",
    "#                     , 'post_avg_team_size_avg': post_avg_team_size_avg\n",
    "#                     , 'post_avg_team_size_med': post_avg_team_size_med\n",
    "#                     , 'post_fund_amt_avg': post_fund_amt_avg\n",
    "#                     , 'post_fund_amt_med': post_fund_amt_med\n",
    "#                     , 'post_nb_grnts_avg': post_nb_grnts_avg\n",
    "#                     , 'post_nb_grnts_med': post_nb_grnts_med\n",
    "#                     , 'pre_citations_avg': pre_citations_avg\n",
    "#                     , 'pre_nb_pubs_avg': pre_nb_pubs_avg\n",
    "#                     , 'pre_citations_med': pre_citations_med\n",
    "#                     , 'pre_nb_pubs_med': pre_nb_pubs_med\n",
    "#                     , 'post_citations_avg': post_citations_avg\n",
    "#                     , 'post_citations_med': post_citations_med\n",
    "#                     , 'post_nb_pubs_avg': post_nb_pubs_avg\n",
    "#                     , 'post_nb_pubs_med': post_nb_pubs_med\n",
    "#                    , 'pre_team_size_avg': pre_team_size_avg\n",
    "#                    , 'pre_team_size_med': pre_team_size_med\n",
    "#                    , 'post_team_size_avg': post_team_size_avg\n",
    "#                    , 'post_team_size_med': post_team_size_med\n",
    "#                   }, index=funders).transpose()\n",
    "# df"
   ]
  },
  {
   "cell_type": "code",
   "execution_count": null,
   "metadata": {},
   "outputs": [],
   "source": [
    "# # Export to Excel\n",
    "# ls = !ls ../output/\n",
    "# if 'comparison_statistics.xlsx' in ls:\n",
    "#     book = load_workbook('../output/comparison_statistics.xlsx')\n",
    "#     writer = pd.ExcelWriter('../output/comparison_statistics.xlsx', engine='openpyxl') \n",
    "#     writer.book = book\n",
    "#     writer.sheets = dict((ws.title, ws) for ws in book.worksheets)\n",
    "#     df.to_excel(writer, \"raw_by_agency\")\n",
    "#     writer.save()\n",
    "# else:\n",
    "#     df.to_excel('../output/comparison_statistics.xlsx', sheet_name = 'raw_by_agency')"
   ]
  },
  {
   "cell_type": "markdown",
   "metadata": {},
   "source": [
    "## Preparing Data for Regression Analysis"
   ]
  },
  {
   "cell_type": "code",
   "execution_count": null,
   "metadata": {},
   "outputs": [],
   "source": [
    "yearly = True"
   ]
  },
  {
   "cell_type": "markdown",
   "metadata": {},
   "source": [
    "### Researcher Info"
   ]
  },
  {
   "cell_type": "code",
   "execution_count": null,
   "metadata": {},
   "outputs": [],
   "source": [
    "rsrs.describe(include='all')"
   ]
  },
  {
   "cell_type": "markdown",
   "metadata": {},
   "source": [
    "### Grant Information"
   ]
  },
  {
   "cell_type": "code",
   "execution_count": null,
   "metadata": {
    "scrolled": true
   },
   "outputs": [],
   "source": [
    "print(funded_grnts_info.set_index(['grant_id']).index.is_unique)\n",
    "print(funded_grnts_info.shape)\n",
    "funded_grnts_info.head()"
   ]
  },
  {
   "cell_type": "markdown",
   "metadata": {},
   "source": [
    "### Prior/Subsequent Grant Statistics"
   ]
  },
  {
   "cell_type": "code",
   "execution_count": null,
   "metadata": {},
   "outputs": [],
   "source": [
    "grnts_stats = grant_groupby(grnts_mrg, yearly=yearly)"
   ]
  },
  {
   "cell_type": "code",
   "execution_count": null,
   "metadata": {},
   "outputs": [],
   "source": [
    "# Check if unit of observation is Funder-Grant-Researcher:\n",
    "cols = ['funder_name', 'grant_id', 'rsr_id', 'status']\n",
    "if yearly == True:\n",
    "    cols+=['year']\n",
    "print(grnts_stats.set_index(cols).index.is_unique)\n",
    "print(grnts_stats.shape)\n",
    "grnts_stats.head()"
   ]
  },
  {
   "cell_type": "markdown",
   "metadata": {},
   "source": [
    "### Prior/Subsequent Publication Statistics"
   ]
  },
  {
   "cell_type": "code",
   "execution_count": null,
   "metadata": {},
   "outputs": [],
   "source": [
    "pubs_stats = pub_groupby(pubs_mrg, yearly=yearly)"
   ]
  },
  {
   "cell_type": "code",
   "execution_count": null,
   "metadata": {},
   "outputs": [],
   "source": [
    "# Check if unit of observation is Funder-Grant-Researcher:\n",
    "cols = ['funder_name', 'grant_id', 'rsr_id', 'status']\n",
    "if yearly == True:\n",
    "    cols+=['year']\n",
    "print(pubs_stats.set_index(cols).index.is_unique)\n",
    "print(pubs_stats.shape)\n",
    "pubs_stats.head()"
   ]
  },
  {
   "cell_type": "markdown",
   "metadata": {},
   "source": [
    "### Add CSO Codes"
   ]
  },
  {
   "cell_type": "code",
   "execution_count": null,
   "metadata": {},
   "outputs": [],
   "source": [
    "pubs_cso.head()"
   ]
  },
  {
   "cell_type": "code",
   "execution_count": null,
   "metadata": {},
   "outputs": [],
   "source": [
    "pubs_cso_features = pd.merge(pubs_mrg[['funder_name', 'grant_id', 'rsr_id', 'year', 'pub_id']], pubs_cso, \n",
    "                             how='inner', on='pub_id')\n",
    "pubs_cso_features['cso_id'] = pubs_cso_features.groupby(['cso_name']).ngroup()\n",
    "pubs_cso_features['cso'] = \"cso_\"+pubs_cso_features['cso_id'].astype(str)"
   ]
  },
  {
   "cell_type": "code",
   "execution_count": null,
   "metadata": {},
   "outputs": [],
   "source": [
    "pubs_cso_features = pubs_cso_features.groupby(['funder_name', 'grant_id', 'rsr_id', 'cso'])\n",
    "pubs_cso_features = pd.DataFrame({'nb_pubs': pubs_cso_features['pub_id'].count()}).reset_index()"
   ]
  },
  {
   "cell_type": "code",
   "execution_count": null,
   "metadata": {},
   "outputs": [],
   "source": [
    "pubs_cso_features = pd.pivot_table(pubs_cso_features, index=['funder_name', 'grant_id', 'rsr_id'], \n",
    "                                   columns='cso', values='nb_pubs', aggfunc='sum').reset_index()"
   ]
  },
  {
   "cell_type": "code",
   "execution_count": null,
   "metadata": {
    "scrolled": false
   },
   "outputs": [],
   "source": [
    "print(pubs_cso_features.set_index(['funder_name', 'grant_id', 'rsr_id']).index.is_unique)\n",
    "print(pubs_cso_features.shape)\n",
    "pubs_cso_features.head()"
   ]
  },
  {
   "cell_type": "markdown",
   "metadata": {},
   "source": [
    "### Combine All"
   ]
  },
  {
   "cell_type": "code",
   "execution_count": null,
   "metadata": {},
   "outputs": [],
   "source": [
    "df = pd.merge(funded_grnts[['funder_name', 'grant_id', 'start_year', 'start_date', 'rsr_id']].drop_duplicates(), \n",
    "              merge_key, how='left', on='start_year')\n",
    "df = pd.merge(funded_grnts_funder, funded_grnts_rsr, how='outer', on='grant_id')\n",
    "df = pd.merge(df, funded_grnts_info, how='outer', on='grant_id')\n",
    "df = pd.merge(df, merge_key, how='left', on='start_year')\n",
    "df = pd.merge(df, grnts_stats, how='outer', on=['funder_name', 'grant_id', 'rsr_id', 'year', 'status'])\n",
    "df = pd.merge(df, pubs_stats, how='outer', on=['funder_name', 'grant_id', 'rsr_id', 'year', 'status'])\n",
    "df = pd.merge(df, rsrs, how='left', on='rsr_id')\n",
    "df = pd.merge(df, propensity_scores[['rsr_id', 'inca_prob', 'weight']], on='rsr_id', how='left')\n",
    "df['rsr_career_age'] = df['year']-df['rsr_career_start_year']\n",
    "# df = pd.merge(df, pubs_cso_features, how='outer', on=['funder_name', 'grant_id', 'rsr_id'])"
   ]
  },
  {
   "cell_type": "code",
   "execution_count": null,
   "metadata": {
    "scrolled": false
   },
   "outputs": [],
   "source": [
    "print(df.set_index(['funder_name', 'grant_id', 'rsr_id', 'year', 'status']).index.is_unique)\n",
    "print(df.shape)\n",
    "df.describe(include='all')"
   ]
  },
  {
   "cell_type": "code",
   "execution_count": null,
   "metadata": {},
   "outputs": [],
   "source": [
    "df.to_csv('../data/regression_dataset.csv', index=False)"
   ]
  },
  {
   "cell_type": "markdown",
   "metadata": {},
   "source": [
    "## Sandbox"
   ]
  },
  {
   "cell_type": "code",
   "execution_count": null,
   "metadata": {},
   "outputs": [],
   "source": []
  }
 ],
 "metadata": {
  "kernelspec": {
   "display_name": "Python 3",
   "language": "python",
   "name": "python3"
  },
  "language_info": {
   "codemirror_mode": {
    "name": "ipython",
    "version": 3
   },
   "file_extension": ".py",
   "mimetype": "text/x-python",
   "name": "python",
   "nbconvert_exporter": "python",
   "pygments_lexer": "ipython3",
   "version": "3.6.8"
  },
  "toc": {
   "base_numbering": 1,
   "nav_menu": {},
   "number_sections": false,
   "sideBar": true,
   "skip_h1_title": false,
   "title_cell": "Table of Contents",
   "title_sidebar": "Contents",
   "toc_cell": false,
   "toc_position": {
    "height": "calc(100% - 180px)",
    "left": "10px",
    "top": "150px",
    "width": "240.292px"
   },
   "toc_section_display": true,
   "toc_window_display": true
  }
 },
 "nbformat": 4,
 "nbformat_minor": 2
}
