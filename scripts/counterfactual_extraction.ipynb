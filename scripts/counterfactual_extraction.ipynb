{
 "cells": [
  {
   "cell_type": "markdown",
   "metadata": {},
   "source": [
    "# Counterfactual Group Identification"
   ]
  },
  {
   "cell_type": "markdown",
   "metadata": {},
   "source": [
    "## Python Setup"
   ]
  },
  {
   "cell_type": "code",
   "execution_count": 37,
   "metadata": {},
   "outputs": [],
   "source": [
    "import requests\n",
    "import time\n",
    "import pandas as pd\n",
    "pd.options.display.max_rows = 100\n",
    "import math\n",
    "import numpy as np\n",
    "from json import JSONDecodeError"
   ]
  },
  {
   "cell_type": "markdown",
   "metadata": {},
   "source": [
    "## Connecting to API"
   ]
  },
  {
   "cell_type": "markdown",
   "metadata": {},
   "source": [
    "For full documentation: https://docs.dimensions.ai/dsl/1.8.0/"
   ]
  },
  {
   "cell_type": "markdown",
   "metadata": {},
   "source": [
    "### Login Information"
   ]
  },
  {
   "cell_type": "markdown",
   "metadata": {},
   "source": [
    "Fetch my password from a separate .txt file:"
   ]
  },
  {
   "cell_type": "code",
   "execution_count": 38,
   "metadata": {},
   "outputs": [],
   "source": [
    "with open('../data/password.txt', 'r') as myfile:\n",
    "    password = myfile.read().strip()"
   ]
  },
  {
   "cell_type": "code",
   "execution_count": 39,
   "metadata": {},
   "outputs": [],
   "source": [
    "login = {\n",
    "    'username': 'nj995@nyu.edu',\n",
    "    'password': password\n",
    "}"
   ]
  },
  {
   "cell_type": "markdown",
   "metadata": {},
   "source": [
    "### API Parameters"
   ]
  },
  {
   "cell_type": "code",
   "execution_count": 40,
   "metadata": {},
   "outputs": [],
   "source": [
    "def execute_query(string):\n",
    "    # Send credentials to login url to retrieve token.\n",
    "    resp = requests.post('https://app.dimensions.ai/api/auth.json', json=login)\n",
    "    resp.raise_for_status()\n",
    "\n",
    "    # Create http header using the generated token.\n",
    "    headers = {'Authorization': \"JWT \" + resp.json()['token']}   \n",
    "    \n",
    "    # Execute DSL query.    \n",
    "    resp = requests.post('https://app.dimensions.ai/api/dsl.json', data=string, headers=headers)\n",
    "    \n",
    "    try:\n",
    "        resp = resp.json()\n",
    "    except JSONDecodeError:\n",
    "        resp = \"RESPONSE ERROR\"\n",
    "    \n",
    "    return resp"
   ]
  },
  {
   "cell_type": "code",
   "execution_count": 41,
   "metadata": {},
   "outputs": [],
   "source": [
    "# Filter operator 'in' requires 0 < items < 512\n",
    "max_in_items = 500\n",
    "\n",
    "# Limit exceeds maximum allowed limit 1000\n",
    "max_return = 1000\n",
    "\n",
    "# Offset cannot exceed 50000\n",
    "max_overall_returns = 50000"
   ]
  },
  {
   "cell_type": "markdown",
   "metadata": {},
   "source": [
    "## Pulling Comparison Group Function"
   ]
  },
  {
   "cell_type": "code",
   "execution_count": 42,
   "metadata": {},
   "outputs": [],
   "source": [
    "def pull_data(string, in_list, in_type, return_type, \n",
    "              max_in_items=max_in_items, max_return=max_return, max_overall_returns=max_overall_returns):\n",
    "    \n",
    "    full_resp = []\n",
    "\n",
    "    for i in range(math.ceil(len(in_list)/max_in_items)):\n",
    "        min_i, max_i = i*max_in_items, min((i+1)*max_in_items, len(in_list))\n",
    "        print('Querying: {}-{}/{} {}...'.format(min_i, max_i, len(in_list), in_type), end = '\\r')\n",
    "\n",
    "        in_t = in_list[min_i:max_i]\n",
    "        string_t = \"\\\"\" + \"\\\", \\\"\".join(in_t) + \"\\\"\"\n",
    "        query = string.format(string_t)\n",
    "\n",
    "        j = 0\n",
    "        loop = True\n",
    "        while loop == True:\n",
    "            query_t = query + \" limit {} skip {}\".format(max_return, max_return*j)\n",
    "            resp = execute_query(query_t)\n",
    "            if resp == \"RESPONSE ERROR\":\n",
    "                print(\"\\nRESPONSE ERROR on i={} and j={}.\\n\".format(i, j))\n",
    "            else:\n",
    "                full_resp.extend(resp[return_type])\n",
    "\n",
    "                if len(resp[return_type])<max_return:\n",
    "                    loop = False\n",
    "            j += 1\n",
    "            \n",
    "            if max_return*(j+1)>max_overall_returns:\n",
    "                loop = False\n",
    "            \n",
    "            time.sleep(2)\n",
    "        \n",
    "        count = resp['_stats']['total_count']        \n",
    "        if resp['_stats']['total_count']>=max_overall_returns:\n",
    "            print(\"\\nATTENTION! {} {} overall, pulled only {}.\\n\".format(count, return_type, max_return*j-1))\n",
    "\n",
    "    print(\"\\nDone !\")\n",
    "        \n",
    "    return full_resp"
   ]
  },
  {
   "cell_type": "markdown",
   "metadata": {},
   "source": [
    "## Grant and Publication Parsing Function"
   ]
  },
  {
   "cell_type": "code",
   "execution_count": 43,
   "metadata": {},
   "outputs": [],
   "source": [
    "def parse_grant(full_resp):\n",
    "    rsr_id = []\n",
    "    grant_id = []\n",
    "    funder_name = []\n",
    "    funder_id = []\n",
    "    rcdc_codes = []\n",
    "    rcdc_names = []\n",
    "    start_dates = []\n",
    "    end_dates = []\n",
    "    funding_amount = []\n",
    "    for grant in full_resp:\n",
    "        if 'RCDC' not in grant:\n",
    "            grant['RCDC'] = [{'id':np.nan, 'name':np.nan}]\n",
    "        if 'researchers' not in grant:\n",
    "            grant['researchers'] = [{'id':np.nan}]\n",
    "        for researcher in grant['researchers']: \n",
    "            if 'id' not in researcher:\n",
    "                tmp = researcher\n",
    "                grant['researchers'].append({'id':tmp})\n",
    "        if 'start_date' not in grant:\n",
    "            grant['start_date'] = np.nan\n",
    "        if 'end_date' not in grant:\n",
    "            grant['end_date'] = np.nan\n",
    "        if 'funding_amount' not in grant:\n",
    "            grant['funding_amount'] = np.nan\n",
    "        for i in range(len(grant['researchers'])-1, -1, -1):\n",
    "            if 'id' not in grant['researchers'][i]:\n",
    "                del grant['researchers'][i]\n",
    "        if 'funders' not in grant:\n",
    "            grant['funders'] = [{'id':np.nan,'name':np.nan}]\n",
    "        for researcher in grant['researchers']:\n",
    "            for funder in grant['funders']:\n",
    "                rsr_id.append(researcher['id'])\n",
    "                grant_id.append(grant['id'])\n",
    "                funder_id.append(funder['id'])\n",
    "                funder_name.append(funder['name'])\n",
    "                start_dates.append(grant['start_date'])\n",
    "                end_dates.append(grant['end_date'])\n",
    "                funding_amount.append(grant['funding_amount'])\n",
    "                rcdc_codes_t = []\n",
    "                rcdc_names_t = []\n",
    "                for rcdc in grant['RCDC']:\n",
    "                    rcdc_codes_t.append(str(rcdc['id']))\n",
    "                    rcdc_names_t.append(str(rcdc['name']))\n",
    "                rcdc_codes.append(\"; \".join(rcdc_codes_t))\n",
    "                rcdc_names.append(\"; \".join(rcdc_names_t))\n",
    "                \n",
    "    grnts = pd.DataFrame({'rsr_id':rsr_id, 'grant_id':grant_id\n",
    "                          , 'funder_name':funder_name, 'funder_id':funder_id\n",
    "                          , 'rcdc_codes':rcdc_codes, 'rcdc_names':rcdc_names\n",
    "                          , 'start_date':start_dates, 'end_date':end_dates\n",
    "                          , 'funding_amount':funding_amount\n",
    "                         })\n",
    "\n",
    "    return grnts"
   ]
  },
  {
   "cell_type": "code",
   "execution_count": 44,
   "metadata": {},
   "outputs": [],
   "source": [
    "def parse_publication(full_resp):\n",
    "    rsr_id = []\n",
    "    pub_id = []\n",
    "    pmid = []\n",
    "    pmcid = []\n",
    "    rcdc_codes = []\n",
    "    rcdc_names = []\n",
    "    dates = []\n",
    "    citations = []\n",
    "    dois = []\n",
    "    supporting_grants = []\n",
    "    for pub in full_resp:\n",
    "        if 'id' not in pub:\n",
    "            pub['id'] = np.nan\n",
    "        if 'pmid' not in pub:\n",
    "            pub['pmid'] = np.nan\n",
    "        if 'pmcid' not in pub:\n",
    "            pub['pmcid'] = np.nan\n",
    "        if 'RCDC' not in pub:\n",
    "            pub['RCDC'] = [{'id':np.nan, 'name':np.nan}]\n",
    "        if 'researchers' not in pub:\n",
    "            pub['researchers'] = [{'id':np.nan}]\n",
    "        for researcher in pub['researchers']: \n",
    "            if 'id' not in researcher:\n",
    "                tmp = researcher\n",
    "                pub['researchers'].append({'id':tmp})\n",
    "        if 'date' not in pub:\n",
    "            pub['date'] = np.nan\n",
    "        if 'times_cited' not in pub:\n",
    "            pub['times_cited'] = np.nan\n",
    "        if 'doi' not in pub:\n",
    "            pub['doi'] = np.nan\n",
    "        if 'supporting_grant_ids' not in pub:\n",
    "            pub['supporting_grant_ids'] = [np.nan]\n",
    "        for i in range(len(pub['researchers'])-1, -1, -1):\n",
    "            if 'id' not in pub['researchers'][i]:\n",
    "                del pub['researchers'][i]\n",
    "        for researcher in pub['researchers']:\n",
    "            rsr_id.append(researcher['id'])\n",
    "            pub_id.append(pub['id'])\n",
    "            dates.append(pub['date'])\n",
    "            citations.append(pub['times_cited'])\n",
    "            dois.append(pub['doi'])\n",
    "            pmid.append(pub['pmid'])\n",
    "            pmcid.append(pub['pmcid'])\n",
    "            supporting_grants.append(pub['supporting_grant_ids'])\n",
    "            rcdc_codes_t = []\n",
    "            rcdc_names_t = []\n",
    "            for rcdc in pub['RCDC']:\n",
    "                rcdc_codes_t.append(str(rcdc['id']))\n",
    "                rcdc_names_t.append(str(rcdc['name']))\n",
    "            rcdc_codes.append(\"; \".join(rcdc_codes_t))\n",
    "            rcdc_names.append(\"; \".join(rcdc_names_t))\n",
    "                \n",
    "    pubs = pd.DataFrame({'rsr_id':rsr_id\n",
    "                         , 'pub_id':pub_id\n",
    "                         , 'pmid': pmid\n",
    "                         , 'pmcid': pmcid\n",
    "                         , 'rcdc_codes':rcdc_codes, 'rcdc_names':rcdc_names\n",
    "                         , 'date':dates, 'citations':citations, 'doi':dois\n",
    "                         , 'supporting_grants':supporting_grants\n",
    "                         })\n",
    "    pubs['supporting_grants'] = pubs['supporting_grants'].apply(lambda x: np.nan if x == [np.nan] else  '; '.join(x))\n",
    "\n",
    "    return pubs"
   ]
  },
  {
   "cell_type": "markdown",
   "metadata": {},
   "source": [
    "## Method 1: Pulling all Researchers who Collaborated on Grants with INCA-Funded Researchers"
   ]
  },
  {
   "cell_type": "markdown",
   "metadata": {},
   "source": [
    "### All Researchers on Grants Awarded to INCA Researchers"
   ]
  },
  {
   "cell_type": "code",
   "execution_count": 45,
   "metadata": {},
   "outputs": [],
   "source": [
    "# rsr_info = pd.read_csv('../data/researchers.csv')\n",
    "# rsrs = list(rsr_info[rsr_info['id'].notnull()]['id'].drop_duplicates().reset_index(drop = True))"
   ]
  },
  {
   "cell_type": "markdown",
   "metadata": {},
   "source": [
    "### Pull all Grants Awarded by these Researchers"
   ]
  },
  {
   "cell_type": "code",
   "execution_count": 46,
   "metadata": {},
   "outputs": [],
   "source": [
    "# string = \"search grants where researchers.id in [{}] return grants[id+researchers+RCDC]\""
   ]
  },
  {
   "cell_type": "code",
   "execution_count": 47,
   "metadata": {
    "scrolled": true
   },
   "outputs": [],
   "source": [
    "# full_resp = pull_data(string=string, in_list=rsrs, in_type='researchers', return_type='grants')"
   ]
  },
  {
   "cell_type": "code",
   "execution_count": 48,
   "metadata": {
    "scrolled": false
   },
   "outputs": [],
   "source": [
    "# rsr_id = []\n",
    "# grant_id = []\n",
    "# rcdc_codes = []\n",
    "# rcdc_names = []\n",
    "# for grant in full_resp:\n",
    "#     for researcher in grant['researchers']:\n",
    "#         rsr_id.append(researcher['id'])\n",
    "#         grant_id.append(grant['id'])\n",
    "#         rcdc_codes_t = []\n",
    "#         rcdc_names_t = []\n",
    "#         if 'RCDC' in grant:\n",
    "#             for rcdc in grant['RCDC']:\n",
    "#                 rcdc_codes_t.append(str(rcdc['id']))\n",
    "#                 rcdc_names_t.append(rcdc['name'])\n",
    "#             rcdc_codes.append(\"; \".join(rcdc_codes_t))\n",
    "#             rcdc_names.append(\"; \".join(rcdc_names_t))\n",
    "#         else:\n",
    "#             rcdc_codes.append(\"\")\n",
    "#             rcdc_names.append(\"\")"
   ]
  },
  {
   "cell_type": "code",
   "execution_count": 49,
   "metadata": {},
   "outputs": [],
   "source": [
    "# collab_grnts = pd.DataFrame({'rsr_id':rsr_id, 'grant_id':grant_id, 'rcdc_codes':rcdc_codes, 'rcdc_names':rcdc_names})\n",
    "# collab_rsrs = collab_grnts.groupby('rsr_id')['grant_id'].nunique().reset_index()"
   ]
  },
  {
   "cell_type": "markdown",
   "metadata": {},
   "source": [
    "### Analysis of Results"
   ]
  },
  {
   "cell_type": "code",
   "execution_count": 50,
   "metadata": {},
   "outputs": [],
   "source": [
    "# # INCA-funded rsrs:\n",
    "# rsrs_inca = rsrs\n",
    "# print(\"{} INCA-funded researchers (with Dimensions IDs)\".format(len(rsrs_inca)))\n",
    "\n",
    "# # INCA-funded rsrs who have grants with the API:\n",
    "# # rsrs_inca_t = inca_rsrs_grants['rsr_id'].drop_duplicates().reset_index(drop = True)\n",
    "# # print(\"{} INCA-funded researchers appear to have grants with the Dimensions API\".format(len(rsrs_inca_t)))\n",
    "\n",
    "# # rsrs who are on grants where with >1 INCA-funded rsrs\n",
    "# rsrs_all = collab_rsrs['rsr_id'].drop_duplicates().reset_index(drop = True)\n",
    "# print(\"{} researchers participated in grants with at least one INCA-funded researcher\".format(len(rsrs_all)))"
   ]
  },
  {
   "cell_type": "code",
   "execution_count": 51,
   "metadata": {
    "scrolled": false
   },
   "outputs": [],
   "source": [
    "# rsrs_comp_1 = rsrs_all[rsrs_all.apply(lambda x: x not in list(rsrs_inca))].reset_index(drop = True)\n",
    "\n",
    "# # Number of comparison rsrs identified:\n",
    "# print(\"Size of comparison group identified: {} researchers\".format(len(rsrs_comp_1)))"
   ]
  },
  {
   "cell_type": "markdown",
   "metadata": {},
   "source": [
    "## Method 2: Pulling all Researchers who Co-Authored with INCA-Funded Researchers"
   ]
  },
  {
   "cell_type": "markdown",
   "metadata": {},
   "source": [
    "### All Researchers on Grants Awarded to INCA Researchers"
   ]
  },
  {
   "cell_type": "code",
   "execution_count": 52,
   "metadata": {},
   "outputs": [],
   "source": [
    "# rsr_info = pd.read_csv('../data/researchers.csv')\n",
    "# rsrs = list(rsr_info[rsr_info['id'].notnull()]['id'].drop_duplicates().reset_index(drop = True))"
   ]
  },
  {
   "cell_type": "markdown",
   "metadata": {},
   "source": [
    "### Pull all Publications by these Researchers"
   ]
  },
  {
   "cell_type": "code",
   "execution_count": 53,
   "metadata": {},
   "outputs": [],
   "source": [
    "# string = \"search publications where researchers.id in [{}] return publications[id+researchers]\""
   ]
  },
  {
   "cell_type": "code",
   "execution_count": 54,
   "metadata": {
    "scrolled": true
   },
   "outputs": [],
   "source": [
    "# full_resp = pull_data(string=string, in_list=rsrs, in_type='researchers', return_type='publications')"
   ]
  },
  {
   "cell_type": "code",
   "execution_count": 55,
   "metadata": {
    "scrolled": false
   },
   "outputs": [],
   "source": [
    "# rsr_id = []\n",
    "# pub_id = []\n",
    "# for pub in full_resp:\n",
    "#     for researcher in pub['researchers']:\n",
    "#         rsr_id.append(researcher['id'])\n",
    "#         pub_id.append(pub['id'])"
   ]
  },
  {
   "cell_type": "code",
   "execution_count": 56,
   "metadata": {},
   "outputs": [],
   "source": [
    "# collab_pubs = pd.DataFrame({'rsr_id':rsr_id, 'publication_id':pub_id})\n",
    "# collab_rsrs = collab_pubs.groupby('rsr_id')['publication_id'].nunique().reset_index()"
   ]
  },
  {
   "cell_type": "markdown",
   "metadata": {},
   "source": [
    "### Analysis of Results"
   ]
  },
  {
   "cell_type": "code",
   "execution_count": 57,
   "metadata": {},
   "outputs": [],
   "source": [
    "# # INCA-funded rsrs:\n",
    "# rsrs_inca = rsrs\n",
    "# print(\"{} INCA-funded researchers (with Dimensions IDs)\".format(len(rsrs_inca)))\n",
    "\n",
    "# # rsrs who are on publications with >1 INCA-funded rsrs\n",
    "# rsrs_all = collab_rsrs['rsr_id'].drop_duplicates().reset_index(drop = True)\n",
    "# print(\"{} researchers participated in publications with at least one INCA-funded researcher\".format(len(rsrs_all)))"
   ]
  },
  {
   "cell_type": "code",
   "execution_count": 58,
   "metadata": {
    "scrolled": false
   },
   "outputs": [],
   "source": [
    "# rsrs_comp_2 = rsrs_all[rsrs_all.apply(lambda x: x not in list(rsrs_inca))].reset_index(drop = True)\n",
    "\n",
    "# # Number of comparison rsrs identified:\n",
    "# print(\"Size of comparison group identified: {} researchers\".format(len(rsrs_comp_2)))"
   ]
  },
  {
   "cell_type": "markdown",
   "metadata": {},
   "source": [
    "## Method 3: Counterfactual based on Funding Agencies"
   ]
  },
  {
   "cell_type": "markdown",
   "metadata": {},
   "source": [
    "### Define Comparison Agencies:\n",
    "\n",
    "Funding Agencies considered are NIH Wellcome Trust, Australian  NRMC, MRC in UK"
   ]
  },
  {
   "cell_type": "code",
   "execution_count": 59,
   "metadata": {},
   "outputs": [],
   "source": [
    "funders = ['Wellcome Trust', 'National Health and Medical Research Council', 'Cancer Research UK', \n",
    "           'National Cancer Institute']"
   ]
  },
  {
   "cell_type": "markdown",
   "metadata": {},
   "source": [
    "### Pull all Researchers Funded by these Agencies"
   ]
  },
  {
   "cell_type": "code",
   "execution_count": 60,
   "metadata": {
    "scrolled": false
   },
   "outputs": [],
   "source": [
    "# string = \"search grants where funders.name in [{}] and start_year>=2007 and start_year<=2012\"\n",
    "# string += \" return grants[id+researchers+RCDC+funders+start_date+end_date+funding_usd]\"\n",
    "# full_resp = pull_data(string=string, in_list=funders, in_type='funding agencies', return_type='grants')"
   ]
  },
  {
   "cell_type": "code",
   "execution_count": 61,
   "metadata": {},
   "outputs": [],
   "source": [
    "# fundr_grnts = parse_grant(full_resp).drop_duplicates().reset_index(drop=True)"
   ]
  },
  {
   "cell_type": "code",
   "execution_count": 62,
   "metadata": {},
   "outputs": [],
   "source": [
    "# # Remove all other funders that might have appeared\n",
    "# fundr_grnts = fundr_grnts[(fundr_grnts['funder_name'].isin(funders))]\n",
    "\n",
    "# # For non-cancer-specific funders, resstrict to Cancer Grants:\n",
    "# general_funders = ['Wellcome Trust', 'National Health and Medical Research Council']\n",
    "# fundr_grnts = fundr_grnts[(fundr_grnts['funder_name'].isin(general_funders)==False)\n",
    "#                           |(fundr_grnts['rcdc_names'].str.contains(\"Cancer\"))]\n",
    "\n",
    "# # Restrict to grants funded between 2007 and 2012:\n",
    "# fundr_grnts = fundr_grnts[(pd.DatetimeIndex(fundr_grnts['start_date']).year>=2007)\n",
    "#                           & (pd.DatetimeIndex(fundr_grnts['start_date']).year<=2012)].reset_index(drop=True)"
   ]
  },
  {
   "cell_type": "code",
   "execution_count": 63,
   "metadata": {},
   "outputs": [],
   "source": [
    "# fundr_grnts['funder_name'].value_counts()"
   ]
  },
  {
   "cell_type": "code",
   "execution_count": 64,
   "metadata": {},
   "outputs": [],
   "source": [
    "# fundr_grnts.to_csv('../data/counterfactual/counterfactual_funded_grants.csv', index=False)"
   ]
  },
  {
   "cell_type": "markdown",
   "metadata": {},
   "source": [
    "### Pull all Grants and Publications from these Researchers"
   ]
  },
  {
   "cell_type": "code",
   "execution_count": 65,
   "metadata": {},
   "outputs": [],
   "source": [
    "fundr_grnts = pd.read_csv('../data/counterfactual/counterfactual_funded_grants.csv')\n",
    "rsrs = fundr_grnts[fundr_grnts['rsr_id'].notnull()]['rsr_id'].drop_duplicates()"
   ]
  },
  {
   "cell_type": "markdown",
   "metadata": {},
   "source": [
    "#### Grants"
   ]
  },
  {
   "cell_type": "code",
   "execution_count": 66,
   "metadata": {},
   "outputs": [],
   "source": [
    "# string = \"search grants where researchers.id in [{}]\"\n",
    "# string += \" return grants[id+researchers+RCDC+funders+start_date+end_date+funding_usd]\"\n",
    "# full_resp = pull_data(string=string, in_list=rsrs, in_type='researchers', return_type='grants')"
   ]
  },
  {
   "cell_type": "code",
   "execution_count": 67,
   "metadata": {},
   "outputs": [],
   "source": [
    "# grnts = parse_grant(full_resp)\n",
    "# grnts = grnts.drop_duplicates().reset_index(drop=True)"
   ]
  },
  {
   "cell_type": "code",
   "execution_count": 68,
   "metadata": {},
   "outputs": [],
   "source": [
    "# grnts.describe(include='all')"
   ]
  },
  {
   "cell_type": "code",
   "execution_count": 69,
   "metadata": {},
   "outputs": [],
   "source": [
    "# grnts.to_csv('../data/counterfactual/counterfactual_researcher_grants.csv', index=False)"
   ]
  },
  {
   "cell_type": "markdown",
   "metadata": {},
   "source": [
    "#### Publications"
   ]
  },
  {
   "cell_type": "code",
   "execution_count": 70,
   "metadata": {
    "scrolled": false
   },
   "outputs": [
    {
     "name": "stdout",
     "output_type": "stream",
     "text": [
      "Querying: 0-500/13027 researchers...\r"
     ]
    },
    {
     "ename": "KeyboardInterrupt",
     "evalue": "",
     "output_type": "error",
     "traceback": [
      "\u001b[0;31m---------------------------------------------------------------------------\u001b[0m",
      "\u001b[0;31mKeyboardInterrupt\u001b[0m                         Traceback (most recent call last)",
      "\u001b[0;32m<ipython-input-70-c82669487f59>\u001b[0m in \u001b[0;36m<module>\u001b[0;34m()\u001b[0m\n\u001b[1;32m      1\u001b[0m \u001b[0mstring\u001b[0m \u001b[0;34m=\u001b[0m \u001b[0;34m\"search publications where researchers.id in [{}]\"\u001b[0m\u001b[0;34m\u001b[0m\u001b[0m\n\u001b[1;32m      2\u001b[0m \u001b[0mstring\u001b[0m \u001b[0;34m+=\u001b[0m \u001b[0;34m\" return publications[id+doi+pmid+pmcid+researchers+date+supporting_grant_ids+times_cited+RCDC]\"\u001b[0m\u001b[0;34m\u001b[0m\u001b[0m\n\u001b[0;32m----> 3\u001b[0;31m \u001b[0mfull_resp\u001b[0m \u001b[0;34m=\u001b[0m \u001b[0mpull_data\u001b[0m\u001b[0;34m(\u001b[0m\u001b[0mstring\u001b[0m\u001b[0;34m=\u001b[0m\u001b[0mstring\u001b[0m\u001b[0;34m,\u001b[0m \u001b[0min_list\u001b[0m\u001b[0;34m=\u001b[0m\u001b[0mrsrs\u001b[0m\u001b[0;34m,\u001b[0m \u001b[0min_type\u001b[0m\u001b[0;34m=\u001b[0m\u001b[0;34m'researchers'\u001b[0m\u001b[0;34m,\u001b[0m \u001b[0mreturn_type\u001b[0m\u001b[0;34m=\u001b[0m\u001b[0;34m'publications'\u001b[0m\u001b[0;34m)\u001b[0m\u001b[0;34m\u001b[0m\u001b[0m\n\u001b[0m",
      "\u001b[0;32m<ipython-input-42-a1a78d8b2357>\u001b[0m in \u001b[0;36mpull_data\u001b[0;34m(string, in_list, in_type, return_type, max_in_items, max_return, max_overall_returns)\u001b[0m\n\u001b[1;32m     29\u001b[0m                 \u001b[0mloop\u001b[0m \u001b[0;34m=\u001b[0m \u001b[0;32mFalse\u001b[0m\u001b[0;34m\u001b[0m\u001b[0m\n\u001b[1;32m     30\u001b[0m \u001b[0;34m\u001b[0m\u001b[0m\n\u001b[0;32m---> 31\u001b[0;31m             \u001b[0mtime\u001b[0m\u001b[0;34m.\u001b[0m\u001b[0msleep\u001b[0m\u001b[0;34m(\u001b[0m\u001b[0;36m2\u001b[0m\u001b[0;34m)\u001b[0m\u001b[0;34m\u001b[0m\u001b[0m\n\u001b[0m\u001b[1;32m     32\u001b[0m \u001b[0;34m\u001b[0m\u001b[0m\n\u001b[1;32m     33\u001b[0m         \u001b[0mcount\u001b[0m \u001b[0;34m=\u001b[0m \u001b[0mresp\u001b[0m\u001b[0;34m[\u001b[0m\u001b[0;34m'_stats'\u001b[0m\u001b[0;34m]\u001b[0m\u001b[0;34m[\u001b[0m\u001b[0;34m'total_count'\u001b[0m\u001b[0;34m]\u001b[0m\u001b[0;34m\u001b[0m\u001b[0m\n",
      "\u001b[0;31mKeyboardInterrupt\u001b[0m: "
     ]
    }
   ],
   "source": [
    "string = \"search publications where researchers.id in [{}]\"\n",
    "string += \" return publications[id+doi+pmid+pmcid+researchers+date+supporting_grant_ids+times_cited+RCDC]\"\n",
    "full_resp = pull_data(string=string, in_list=rsrs, in_type='researchers', return_type='publications')"
   ]
  },
  {
   "cell_type": "code",
   "execution_count": 35,
   "metadata": {},
   "outputs": [],
   "source": [
    "pubs = parse_publication(full_resp)\n",
    "pubs = pubs.drop_duplicates().reset_index(drop=True)"
   ]
  },
  {
   "cell_type": "code",
   "execution_count": 36,
   "metadata": {},
   "outputs": [
    {
     "data": {
      "text/html": [
       "<div>\n",
       "<style scoped>\n",
       "    .dataframe tbody tr th:only-of-type {\n",
       "        vertical-align: middle;\n",
       "    }\n",
       "\n",
       "    .dataframe tbody tr th {\n",
       "        vertical-align: top;\n",
       "    }\n",
       "\n",
       "    .dataframe thead th {\n",
       "        text-align: right;\n",
       "    }\n",
       "</style>\n",
       "<table border=\"1\" class=\"dataframe\">\n",
       "  <thead>\n",
       "    <tr style=\"text-align: right;\">\n",
       "      <th></th>\n",
       "      <th>rsr_id</th>\n",
       "      <th>pub_id</th>\n",
       "      <th>rcdc_codes</th>\n",
       "      <th>rcdc_names</th>\n",
       "      <th>date</th>\n",
       "      <th>citations</th>\n",
       "      <th>doi</th>\n",
       "      <th>supporting_grants</th>\n",
       "    </tr>\n",
       "  </thead>\n",
       "  <tbody>\n",
       "    <tr>\n",
       "      <th>count</th>\n",
       "      <td>6864351</td>\n",
       "      <td>6864351</td>\n",
       "      <td>6864351</td>\n",
       "      <td>6864351</td>\n",
       "      <td>6864236</td>\n",
       "      <td>6.864351e+06</td>\n",
       "      <td>6571293</td>\n",
       "      <td>3355994</td>\n",
       "    </tr>\n",
       "    <tr>\n",
       "      <th>unique</th>\n",
       "      <td>1065311</td>\n",
       "      <td>1085784</td>\n",
       "      <td>263320</td>\n",
       "      <td>263320</td>\n",
       "      <td>12150</td>\n",
       "      <td>NaN</td>\n",
       "      <td>1024681</td>\n",
       "      <td>303636</td>\n",
       "    </tr>\n",
       "    <tr>\n",
       "      <th>top</th>\n",
       "      <td>ur.012724545020.23</td>\n",
       "      <td>pub.1054508044</td>\n",
       "      <td>nan</td>\n",
       "      <td>nan</td>\n",
       "      <td>2011-10-24</td>\n",
       "      <td>NaN</td>\n",
       "      <td>10.1007/bf03375463</td>\n",
       "      <td>grant.2438826</td>\n",
       "    </tr>\n",
       "    <tr>\n",
       "      <th>freq</th>\n",
       "      <td>2694</td>\n",
       "      <td>2125</td>\n",
       "      <td>2030551</td>\n",
       "      <td>2030551</td>\n",
       "      <td>93168</td>\n",
       "      <td>NaN</td>\n",
       "      <td>2125</td>\n",
       "      <td>26637</td>\n",
       "    </tr>\n",
       "    <tr>\n",
       "      <th>mean</th>\n",
       "      <td>NaN</td>\n",
       "      <td>NaN</td>\n",
       "      <td>NaN</td>\n",
       "      <td>NaN</td>\n",
       "      <td>NaN</td>\n",
       "      <td>5.403595e+01</td>\n",
       "      <td>NaN</td>\n",
       "      <td>NaN</td>\n",
       "    </tr>\n",
       "    <tr>\n",
       "      <th>std</th>\n",
       "      <td>NaN</td>\n",
       "      <td>NaN</td>\n",
       "      <td>NaN</td>\n",
       "      <td>NaN</td>\n",
       "      <td>NaN</td>\n",
       "      <td>1.904285e+02</td>\n",
       "      <td>NaN</td>\n",
       "      <td>NaN</td>\n",
       "    </tr>\n",
       "    <tr>\n",
       "      <th>min</th>\n",
       "      <td>NaN</td>\n",
       "      <td>NaN</td>\n",
       "      <td>NaN</td>\n",
       "      <td>NaN</td>\n",
       "      <td>NaN</td>\n",
       "      <td>0.000000e+00</td>\n",
       "      <td>NaN</td>\n",
       "      <td>NaN</td>\n",
       "    </tr>\n",
       "    <tr>\n",
       "      <th>25%</th>\n",
       "      <td>NaN</td>\n",
       "      <td>NaN</td>\n",
       "      <td>NaN</td>\n",
       "      <td>NaN</td>\n",
       "      <td>NaN</td>\n",
       "      <td>2.000000e+00</td>\n",
       "      <td>NaN</td>\n",
       "      <td>NaN</td>\n",
       "    </tr>\n",
       "    <tr>\n",
       "      <th>50%</th>\n",
       "      <td>NaN</td>\n",
       "      <td>NaN</td>\n",
       "      <td>NaN</td>\n",
       "      <td>NaN</td>\n",
       "      <td>NaN</td>\n",
       "      <td>1.500000e+01</td>\n",
       "      <td>NaN</td>\n",
       "      <td>NaN</td>\n",
       "    </tr>\n",
       "    <tr>\n",
       "      <th>75%</th>\n",
       "      <td>NaN</td>\n",
       "      <td>NaN</td>\n",
       "      <td>NaN</td>\n",
       "      <td>NaN</td>\n",
       "      <td>NaN</td>\n",
       "      <td>4.700000e+01</td>\n",
       "      <td>NaN</td>\n",
       "      <td>NaN</td>\n",
       "    </tr>\n",
       "    <tr>\n",
       "      <th>max</th>\n",
       "      <td>NaN</td>\n",
       "      <td>NaN</td>\n",
       "      <td>NaN</td>\n",
       "      <td>NaN</td>\n",
       "      <td>NaN</td>\n",
       "      <td>6.582300e+04</td>\n",
       "      <td>NaN</td>\n",
       "      <td>NaN</td>\n",
       "    </tr>\n",
       "  </tbody>\n",
       "</table>\n",
       "</div>"
      ],
      "text/plain": [
       "                    rsr_id          pub_id rcdc_codes rcdc_names        date  \\\n",
       "count              6864351         6864351    6864351    6864351     6864236   \n",
       "unique             1065311         1085784     263320     263320       12150   \n",
       "top     ur.012724545020.23  pub.1054508044        nan        nan  2011-10-24   \n",
       "freq                  2694            2125    2030551    2030551       93168   \n",
       "mean                   NaN             NaN        NaN        NaN         NaN   \n",
       "std                    NaN             NaN        NaN        NaN         NaN   \n",
       "min                    NaN             NaN        NaN        NaN         NaN   \n",
       "25%                    NaN             NaN        NaN        NaN         NaN   \n",
       "50%                    NaN             NaN        NaN        NaN         NaN   \n",
       "75%                    NaN             NaN        NaN        NaN         NaN   \n",
       "max                    NaN             NaN        NaN        NaN         NaN   \n",
       "\n",
       "           citations                 doi supporting_grants  \n",
       "count   6.864351e+06             6571293           3355994  \n",
       "unique           NaN             1024681            303636  \n",
       "top              NaN  10.1007/bf03375463     grant.2438826  \n",
       "freq             NaN                2125             26637  \n",
       "mean    5.403595e+01                 NaN               NaN  \n",
       "std     1.904285e+02                 NaN               NaN  \n",
       "min     0.000000e+00                 NaN               NaN  \n",
       "25%     2.000000e+00                 NaN               NaN  \n",
       "50%     1.500000e+01                 NaN               NaN  \n",
       "75%     4.700000e+01                 NaN               NaN  \n",
       "max     6.582300e+04                 NaN               NaN  "
      ]
     },
     "execution_count": 36,
     "metadata": {},
     "output_type": "execute_result"
    }
   ],
   "source": [
    "pubs.describe(include='all')"
   ]
  },
  {
   "cell_type": "code",
   "execution_count": 37,
   "metadata": {},
   "outputs": [],
   "source": [
    "pubs.to_csv('../data/counterfactual/counterfactual_researcher_publications.csv', index=False)"
   ]
  },
  {
   "cell_type": "markdown",
   "metadata": {},
   "source": [
    "## Sandbox"
   ]
  },
  {
   "cell_type": "code",
   "execution_count": null,
   "metadata": {},
   "outputs": [],
   "source": []
  }
 ],
 "metadata": {
  "kernelspec": {
   "display_name": "Python 3",
   "language": "python",
   "name": "python3"
  },
  "language_info": {
   "codemirror_mode": {
    "name": "ipython",
    "version": 3
   },
   "file_extension": ".py",
   "mimetype": "text/x-python",
   "name": "python",
   "nbconvert_exporter": "python",
   "pygments_lexer": "ipython3",
   "version": "3.6.2"
  },
  "toc": {
   "nav_menu": {},
   "number_sections": false,
   "sideBar": true,
   "skip_h1_title": false,
   "title_cell": "Table of Contents",
   "title_sidebar": "Contents",
   "toc_cell": false,
   "toc_position": {
    "height": "calc(100% - 180px)",
    "left": "10px",
    "top": "150px",
    "width": "275px"
   },
   "toc_section_display": true,
   "toc_window_display": true
  }
 },
 "nbformat": 4,
 "nbformat_minor": 2
}
