{
 "cells": [
  {
   "cell_type": "markdown",
   "metadata": {},
   "source": [
    "# Counterfactual Group Identification"
   ]
  },
  {
   "cell_type": "markdown",
   "metadata": {},
   "source": [
    "## Python Setup"
   ]
  },
  {
   "cell_type": "code",
   "execution_count": 1,
   "metadata": {},
   "outputs": [],
   "source": [
    "import requests\n",
    "import time\n",
    "import pandas as pd\n",
    "from pandas import Series\n",
    "pd.options.display.max_rows = 100\n",
    "import math\n",
    "import numpy as np\n",
    "from json import JSONDecodeError\n",
    "from datetime import datetime\n",
    "import gender_guesser.detector as gender"
   ]
  },
  {
   "cell_type": "markdown",
   "metadata": {},
   "source": [
    "## Importing ID Replacer"
   ]
  },
  {
   "cell_type": "code",
   "execution_count": 2,
   "metadata": {},
   "outputs": [],
   "source": [
    "id_replacer = pd.read_csv('../data/id_replacer.csv')"
   ]
  },
  {
   "cell_type": "code",
   "execution_count": 3,
   "metadata": {},
   "outputs": [],
   "source": [
    "def id_replace(df):\n",
    "    df = pd.merge(df, id_replacer, how='left', left_on='rsr_id', right_on='old_id')\n",
    "    df['rsr_id'] = np.where(df['new_id'].notnull(), df['new_id'], df['rsr_id'])\n",
    "    del df['old_id'], df['new_id']\n",
    "    return df"
   ]
  },
  {
   "cell_type": "markdown",
   "metadata": {},
   "source": [
    "## Connecting to API"
   ]
  },
  {
   "cell_type": "markdown",
   "metadata": {},
   "source": [
    "For full documentation: https://docs.dimensions.ai/dsl/1.8.0/"
   ]
  },
  {
   "cell_type": "markdown",
   "metadata": {},
   "source": [
    "The API Query functions are defined in the following code:"
   ]
  },
  {
   "cell_type": "code",
   "execution_count": 4,
   "metadata": {},
   "outputs": [],
   "source": [
    "from api_query import execute_query\n",
    "from api_query import pull_data"
   ]
  },
  {
   "cell_type": "markdown",
   "metadata": {},
   "source": [
    "### API Parameters"
   ]
  },
  {
   "cell_type": "code",
   "execution_count": 5,
   "metadata": {},
   "outputs": [],
   "source": [
    "# Filter operator 'in' requires 0 < items < 512\n",
    "max_in_items = 100\n",
    "\n",
    "# Limit exceeds maximum allowed limit 1000\n",
    "max_return = 1000\n",
    "\n",
    "# Offset cannot exceed 50000\n",
    "max_overall_returns = 50000"
   ]
  },
  {
   "cell_type": "markdown",
   "metadata": {},
   "source": [
    "## Grant and Publication Parsing Function"
   ]
  },
  {
   "cell_type": "code",
   "execution_count": 6,
   "metadata": {},
   "outputs": [],
   "source": [
    "def parse_grant(full_resp):\n",
    "    \n",
    "    rsr_id = []\n",
    "    grant_id = []\n",
    "    funder_name = []\n",
    "    funder_id = []\n",
    "    rcdc_codes = []\n",
    "    rcdc_names = []\n",
    "    start_dates = []\n",
    "    end_dates = []\n",
    "    funding_amount = []\n",
    "    for grant in full_resp:\n",
    "        if 'RCDC' not in grant:\n",
    "            grant['RCDC'] = [{'id':np.nan, 'name':np.nan}]\n",
    "        if 'researchers' not in grant:\n",
    "            grant['researchers'] = [{'id':np.nan}]\n",
    "        for researcher in grant['researchers']: \n",
    "            if 'id' not in researcher:\n",
    "                tmp = researcher\n",
    "                grant['researchers'].append({'id':tmp})\n",
    "        if 'start_date' not in grant:\n",
    "            grant['start_date'] = np.nan\n",
    "        if 'end_date' not in grant:\n",
    "            grant['end_date'] = np.nan\n",
    "        if 'funding_usd' not in grant:\n",
    "            grant['funding_usd'] = np.nan\n",
    "        for i in range(len(grant['researchers'])-1, -1, -1):\n",
    "            if 'id' not in grant['researchers'][i]:\n",
    "                del grant['researchers'][i]\n",
    "        if 'funders' not in grant:\n",
    "            grant['funders'] = [{'id':np.nan,'name':np.nan}]\n",
    "        for researcher in grant['researchers']:\n",
    "            for funder in grant['funders']:\n",
    "                rsr_id.append(researcher['id'])\n",
    "                grant_id.append(grant['id'])\n",
    "                funder_id.append(funder['id'])\n",
    "                funder_name.append(funder['name'])\n",
    "                start_dates.append(grant['start_date'])\n",
    "                end_dates.append(grant['end_date'])\n",
    "                funding_amount.append(float(grant['funding_usd']))\n",
    "                rcdc_codes_t = []\n",
    "                rcdc_names_t = []\n",
    "                for rcdc in grant['RCDC']:\n",
    "                    rcdc_codes_t.append(str(rcdc['id']))\n",
    "                    rcdc_names_t.append(str(rcdc['name']))\n",
    "                rcdc_codes.append(\";\".join(rcdc_codes_t))\n",
    "                rcdc_names.append(\";\".join(rcdc_names_t))\n",
    "                \n",
    "    grnts = pd.DataFrame({'rsr_id':rsr_id\n",
    "                          , 'grant_id':grant_id\n",
    "                          , 'funder_name':funder_name\n",
    "                          , 'funder_id':funder_id\n",
    "                          , 'rcdc_codes':rcdc_codes\n",
    "                          , 'rcdc_names':rcdc_names\n",
    "                          , 'start_date':start_dates\n",
    "                          , 'end_date':end_dates\n",
    "                          , 'funding_amount':funding_amount\n",
    "                         })\n",
    "\n",
    "    return grnts"
   ]
  },
  {
   "cell_type": "code",
   "execution_count": 7,
   "metadata": {},
   "outputs": [],
   "source": [
    "def parse_publication(full_resp):\n",
    "\n",
    "    pub_id = []\n",
    "    pmid = []\n",
    "    dates = []\n",
    "    citations = []\n",
    "    dois = []\n",
    "    supporting_grants = []\n",
    "    nb_authors = []\n",
    "    author_id = []\n",
    "    author_country = []\n",
    "    author_affiliation = []\n",
    "    author_affiliation_id = []\n",
    "\n",
    "    for pub in full_resp:\n",
    "        if 'id' not in pub:\n",
    "            pub['id'] = np.nan\n",
    "        if 'pmid' not in pub:\n",
    "            pub['pmid'] = np.nan\n",
    "        if 'author_affiliations' not in pub:\n",
    "            pub['author_affiliations'] = [[]]\n",
    "        for author in pub['author_affiliations'][0]: \n",
    "            if 'researcher_id' not in author:\n",
    "                author['researcher_id'] = np.nan\n",
    "            if ('affiliations' not in author)  | (len(author['affiliations'])==0):\n",
    "                author['affiliations'] = [{'country_code':np.nan, 'name': np.nan, 'id':np.nan}]\n",
    "            for affiliation in author['affiliations']:\n",
    "                if 'country_code' not in affiliation:\n",
    "                    affiliation['country_code']=np.nan\n",
    "                if 'name' not in affiliation:\n",
    "                    affiliation['name']=np.nan\n",
    "                if 'id' not in affiliation:\n",
    "                    affiliation['id']=np.nan\n",
    "        if 'date' not in pub:\n",
    "            pub['date'] = np.nan\n",
    "        if 'times_cited' not in pub:\n",
    "            pub['times_cited'] = np.nan\n",
    "        if 'doi' not in pub:\n",
    "            pub['doi'] = np.nan\n",
    "        if 'supporting_grant_ids' not in pub:\n",
    "            pub['supporting_grant_ids'] = [np.nan]\n",
    "        nb = len(pub['author_affiliations'][0])\n",
    "        for author in pub['author_affiliations'][0]:\n",
    "            nb_authors.append(float(nb))\n",
    "            author_id.append(author['researcher_id'])\n",
    "            author_country.append(author['affiliations'][0]['country_code'])\n",
    "            author_affiliation.append(author['affiliations'][0]['name'])\n",
    "            author_affiliation_id.append(author['affiliations'][0]['id'])\n",
    "            pub_id.append(pub['id'])\n",
    "            dates.append(pub['date'])\n",
    "            citations.append(float(pub['times_cited']))\n",
    "            dois.append(pub['doi'])\n",
    "            pmid.append(pub['pmid'])\n",
    "            supporting_grants.append(pub['supporting_grant_ids'])\n",
    "\n",
    "    pubs = pd.DataFrame({'pub_id':pub_id\n",
    "                         , 'pmid': pmid\n",
    "                         , 'date':dates\n",
    "                         , 'doi':dois\n",
    "                         , 'citations':citations\n",
    "                         , 'nb_authors':nb_authors\n",
    "                         , 'rsr_id':author_id\n",
    "                         , 'rsr_country':author_country\n",
    "                         , 'rsr_affiliation':author_affiliation\n",
    "                         , 'rsr_affiliation_id':author_affiliation_id\n",
    "                         , 'supporting_grants':supporting_grants\n",
    "                        })\n",
    "    pubs['supporting_grants'] = pubs['supporting_grants'].apply(lambda x: np.nan if x == [np.nan] else  ';'.join(x))\n",
    "    \n",
    "    return pubs"
   ]
  },
  {
   "cell_type": "code",
   "execution_count": 8,
   "metadata": {},
   "outputs": [],
   "source": [
    "def parse_rcdc(full_resp, data_type):\n",
    "    \n",
    "    data_id = []\n",
    "    rcdc_codes = []\n",
    "    rcdc_names = []\n",
    "    for elem in full_resp:\n",
    "        if 'id' not in elem:\n",
    "            elem['id'] = np.nan\n",
    "        if 'RCDC' not in elem:\n",
    "            elem['RCDC'] = [{'id':np.nan, 'name':np.nan}]\n",
    "        for rcdc in elem['RCDC']:\n",
    "            if rcdc['name'] != np.nan:\n",
    "                data_id.append(elem['id'])\n",
    "                rcdc_names.append(str(rcdc['name']))\n",
    "\n",
    "    rcdc = pd.DataFrame({data_type+'_id':data_id\n",
    "                         , 'rcdc_name':rcdc_names})\n",
    "    rcdc['rcdc_name'] = rcdc['rcdc_name'].str.strip().str.upper()\n",
    "\n",
    "    return rcdc"
   ]
  },
  {
   "cell_type": "markdown",
   "metadata": {},
   "source": [
    "## Counterfactual based on Funding Agencies"
   ]
  },
  {
   "cell_type": "markdown",
   "metadata": {},
   "source": [
    "### Define Comparison Agencies:\n",
    "\n",
    "Funding Agencies considered are NIH Wellcome Trust, Australian  NRMC, MRC in UK"
   ]
  },
  {
   "cell_type": "code",
   "execution_count": 9,
   "metadata": {},
   "outputs": [],
   "source": [
    "funders = ['Wellcome Trust', 'National Health and Medical Research Council', 'Cancer Research UK', \n",
    "           'National Cancer Institute']"
   ]
  },
  {
   "cell_type": "markdown",
   "metadata": {},
   "source": [
    "### Pull all Researchers Funded by these Agencies"
   ]
  },
  {
   "cell_type": "code",
   "execution_count": null,
   "metadata": {
    "scrolled": false
   },
   "outputs": [],
   "source": [
    "string = \"search grants where funders.name in [{}] and start_year>=2007 and start_year<=2012\"\n",
    "string += \" return grants[id+researchers+RCDC+funders+start_date+end_date+funding_usd]\"\n",
    "full_resp = pull_data(string=string, in_list=funders, in_type='funding agencies', return_type='grants',\n",
    "                      max_in_items=max_in_items, max_return=max_return, max_overall_returns=max_overall_returns)"
   ]
  },
  {
   "cell_type": "code",
   "execution_count": null,
   "metadata": {},
   "outputs": [],
   "source": [
    "funded_grnts = parse_grant(full_resp).drop_duplicates().reset_index(drop=True)\n",
    "\n",
    "funded_grnts_rcdc = parse_rcdc(full_resp, data_type='grant')"
   ]
  },
  {
   "cell_type": "code",
   "execution_count": null,
   "metadata": {},
   "outputs": [],
   "source": [
    "# Remove all grants with no researcher info\n",
    "funded_grnts = funded_grnts[funded_grnts['rsr_id'].notnull()]\n",
    "\n",
    "# Remove all other funders that might have appeared\n",
    "funded_grnts = funded_grnts[(funded_grnts['funder_name'].isin(funders))]\n",
    "\n",
    "# Restrict to grants funded between 2007 and 2012:\n",
    "funded_grnts = funded_grnts[(pd.DatetimeIndex(funded_grnts['start_date']).year>=2007)\n",
    "                          & (pd.DatetimeIndex(funded_grnts['start_date']).year<=2012)].reset_index(drop=True)"
   ]
  },
  {
   "cell_type": "markdown",
   "metadata": {},
   "source": [
    "Some of the counterfactual agencies (NCI, Cancer Research UK) are cancer-specific funders. Others however, such as the Wellcome Trust and the NHMRC, fund different types of medical research. For this second category of non-cancer-specific funders, we must restrict to grants on the topic of Cancer. I use the RCDC codes to restrict to Cancer-related grants."
   ]
  },
  {
   "cell_type": "code",
   "execution_count": null,
   "metadata": {},
   "outputs": [],
   "source": [
    "# For non-cancer-specific funders, restrict to Cancer Grants:\n",
    "general_funders = ['Wellcome Trust', 'National Health and Medical Research Council']\n",
    "funded_grnts = funded_grnts[(funded_grnts['funder_name'].isin(general_funders)==False)\n",
    "                            |(funded_grnts['rcdc_names'].str.upper().str.contains(\"CANCER\"))].reset_index(drop=True)"
   ]
  },
  {
   "cell_type": "code",
   "execution_count": null,
   "metadata": {},
   "outputs": [],
   "source": [
    "funded_grnts['funder_name'].value_counts()"
   ]
  },
  {
   "cell_type": "code",
   "execution_count": null,
   "metadata": {},
   "outputs": [],
   "source": [
    "funded_grnts.head()"
   ]
  },
  {
   "cell_type": "code",
   "execution_count": null,
   "metadata": {},
   "outputs": [],
   "source": [
    "funded_grnts = id_replace(funded_grnts)"
   ]
  },
  {
   "cell_type": "code",
   "execution_count": null,
   "metadata": {},
   "outputs": [],
   "source": [
    "funded_grnts.to_csv('../data/counterfactual_funded_grants.csv', index=False)\n",
    "funded_grnts_rcdc.to_csv('../data/topic_lookups/counterfactual_funded_grants_rcdc.csv', index=False)"
   ]
  },
  {
   "cell_type": "markdown",
   "metadata": {},
   "source": [
    "### Pull all Grants, Publications, and Personal Information from these Researchers"
   ]
  },
  {
   "cell_type": "code",
   "execution_count": 10,
   "metadata": {},
   "outputs": [
    {
     "name": "stdout",
     "output_type": "stream",
     "text": [
      "13026\n"
     ]
    }
   ],
   "source": [
    "funded_grnts = pd.read_csv('../data/counterfactual_funded_grants.csv')\n",
    "rsrs = list(funded_grnts['rsr_id'].drop_duplicates())\n",
    "print(len(rsrs))"
   ]
  },
  {
   "cell_type": "markdown",
   "metadata": {},
   "source": [
    "#### Grants"
   ]
  },
  {
   "cell_type": "code",
   "execution_count": null,
   "metadata": {},
   "outputs": [],
   "source": [
    "string = \"search grants where researchers.id in [{}]\"\n",
    "string += \" return grants[id+researchers+RCDC+funders+start_date+end_date+funding_usd]\"\n",
    "full_resp = pull_data(string=string, in_list=rsrs, in_type='researchers', return_type='grants'\n",
    "                      , max_in_items=max_in_items, max_return=max_return, max_overall_returns=max_overall_returns)"
   ]
  },
  {
   "cell_type": "code",
   "execution_count": null,
   "metadata": {},
   "outputs": [],
   "source": [
    "grnts = parse_grant(full_resp).drop_duplicates().reset_index(drop=True)\n",
    "\n",
    "grnts_rcdc = parse_rcdc(full_resp, data_type='grant')"
   ]
  },
  {
   "cell_type": "code",
   "execution_count": null,
   "metadata": {},
   "outputs": [],
   "source": [
    "grnts.describe(include='all')"
   ]
  },
  {
   "cell_type": "code",
   "execution_count": null,
   "metadata": {},
   "outputs": [],
   "source": [
    "grnts = id_replace(grnts)"
   ]
  },
  {
   "cell_type": "code",
   "execution_count": null,
   "metadata": {},
   "outputs": [],
   "source": [
    "grnts.to_csv('../data/counterfactual_researcher_grants.csv', index=False)\n",
    "grnts_rcdc.to_csv('../data/topic_lookups/counterfactual_researcher_grants_rcdc.csv', index=False)"
   ]
  },
  {
   "cell_type": "markdown",
   "metadata": {},
   "source": [
    "#### Publications"
   ]
  },
  {
   "cell_type": "code",
   "execution_count": null,
   "metadata": {
    "scrolled": false
   },
   "outputs": [],
   "source": [
    "string = \"search publications where researchers.id in [{}]\"\n",
    "string += \" return publications[id+doi+pmid+author_affiliations+date+supporting_grant_ids+times_cited+RCDC]\"\n",
    "full_resp = pull_data(string=string, in_list=rsrs, in_type='researchers', return_type='publications', \n",
    "                      max_in_items=max_in_items, max_return=max_return, max_overall_returns=max_overall_returns)"
   ]
  },
  {
   "cell_type": "code",
   "execution_count": null,
   "metadata": {},
   "outputs": [],
   "source": [
    "pubs = parse_publication(full_resp).drop_duplicates().reset_index(drop=True)\n",
    "\n",
    "pubs_rcdc = parse_rcdc(full_resp, data_type='pub')"
   ]
  },
  {
   "cell_type": "code",
   "execution_count": null,
   "metadata": {},
   "outputs": [],
   "source": [
    "pubs.describe(include='all')"
   ]
  },
  {
   "cell_type": "code",
   "execution_count": null,
   "metadata": {},
   "outputs": [],
   "source": [
    "pubs = id_replace(pubs)"
   ]
  },
  {
   "cell_type": "code",
   "execution_count": null,
   "metadata": {},
   "outputs": [],
   "source": [
    "# Publication IDs:\n",
    "pub_ids = pubs[pubs['pmid'].notnull()][['rsr_id', 'pmid']].drop_duplicates()"
   ]
  },
  {
   "cell_type": "code",
   "execution_count": null,
   "metadata": {},
   "outputs": [],
   "source": [
    "pubs.to_csv('../data/counterfactual_researcher_publications.csv', index=False)\n",
    "pubs_rcdc.to_csv('../data/topic_lookups/counterfactual_researcher_publications_rcdc.csv', index=False)\n",
    "pub_ids.to_csv('../data/counterfactual_pub_ids.csv', index=False)"
   ]
  },
  {
   "cell_type": "markdown",
   "metadata": {},
   "source": [
    "#### Personal Information"
   ]
  },
  {
   "cell_type": "code",
   "execution_count": 45,
   "metadata": {
    "scrolled": false
   },
   "outputs": [
    {
     "name": "stdout",
     "output_type": "stream",
     "text": [
      "Querying 479 out of 13026 reseachers...\n",
      "continue\n",
      "\n",
      "Querying 480 out of 13026 reseachers...\r"
     ]
    },
    {
     "ename": "KeyboardInterrupt",
     "evalue": "",
     "output_type": "error",
     "traceback": [
      "\u001b[0;31m---------------------------------------------------------------------------\u001b[0m",
      "\u001b[0;31mKeyboardInterrupt\u001b[0m                         Traceback (most recent call last)",
      "\u001b[0;32m<ipython-input-45-f344d63b9158>\u001b[0m in \u001b[0;36m<module>\u001b[0;34m()\u001b[0m\n\u001b[1;32m     44\u001b[0m \u001b[0;34m\u001b[0m\u001b[0m\n\u001b[1;32m     45\u001b[0m     \u001b[0;31m# Pull First Country, Affiliation, and Pub Date:\u001b[0m\u001b[0;34m\u001b[0m\u001b[0;34m\u001b[0m\u001b[0m\n\u001b[0;32m---> 46\u001b[0;31m     \u001b[0mtime\u001b[0m\u001b[0;34m.\u001b[0m\u001b[0msleep\u001b[0m\u001b[0;34m(\u001b[0m\u001b[0;36m2\u001b[0m\u001b[0;34m)\u001b[0m\u001b[0;34m\u001b[0m\u001b[0m\n\u001b[0m\u001b[1;32m     47\u001b[0m     \u001b[0mstop\u001b[0m \u001b[0;34m=\u001b[0m \u001b[0;32mFalse\u001b[0m\u001b[0;34m\u001b[0m\u001b[0m\n\u001b[1;32m     48\u001b[0m     \u001b[0;32mif\u001b[0m \u001b[0mnb_pubs\u001b[0m \u001b[0;34m==\u001b[0m \u001b[0;36m0\u001b[0m\u001b[0;34m:\u001b[0m\u001b[0;34m\u001b[0m\u001b[0m\n",
      "\u001b[0;31mKeyboardInterrupt\u001b[0m: "
     ]
    }
   ],
   "source": [
    "first_name = []\n",
    "last_name = []\n",
    "first_affiliation = []\n",
    "first_country = []\n",
    "first_pub_year = []\n",
    "\n",
    "for rsr in rsrs:\n",
    "    \n",
    "    print(\"Querying {} out of {} reseachers...\".format(rsrs.index(rsr)+1, len(rsrs)), end = '\\r')\n",
    "        \n",
    "    # Pull Name:\n",
    "    time.sleep(2)\n",
    "    stop = False\n",
    "    string = \"search grants where researchers.id in [\\\"{}\\\"]\".format(rsr)\n",
    "    string += \" return researchers\"\n",
    "    resp = execute_query(string)\n",
    "    for elem in resp['researchers']:\n",
    "        if elem['id'] == rsr:\n",
    "            stop = True\n",
    "            if 'first_name' in elem:\n",
    "                first_name.append(elem['first_name'])\n",
    "            else:\n",
    "                first_name.append(np.nan)\n",
    "            if 'last_name' in elem:\n",
    "                last_name.append(elem['last_name'])\n",
    "            else:\n",
    "                last_name.append(np.nan)\n",
    "            break\n",
    "    if stop==False:\n",
    "        first_name.append(np.nan)\n",
    "        last_name.append(np.nan)\n",
    "    \n",
    "    # Number of publications:\n",
    "    string = \"search publications where researchers.id in [\\\"{}\\\"] and date is not empty\".format(rsr)\n",
    "    string += \" return publications sort by date limit 1\"\n",
    "    resp = execute_query(string)\n",
    "    if resp == \"RESPONSE ERROR\":\n",
    "        first_pub_year.append(np.nan)\n",
    "        first_country.append(np.nan)\n",
    "        first_affiliation.append(np.nan)\n",
    "        continue\n",
    "    nb_pubs = resp['_stats']['total_count']\n",
    "\n",
    "    # Pull First Country, Affiliation, and Pub Date:    \n",
    "    time.sleep(2)\n",
    "    stop = False\n",
    "    if nb_pubs == 0:\n",
    "        first_pub_year.append(np.nan)\n",
    "        first_country.append(np.nan)\n",
    "        first_affiliation.append(np.nan)\n",
    "        continue\n",
    "    string = \"search publications where researchers.id in [\\\"{}\\\"] and date is not empty\".format(rsr)\n",
    "    string += \" return publications[author_affiliations+date] sort by date\"\n",
    "    string += \" limit 500 skip {}\".format(max(nb_pubs-500, 0))\n",
    "    resp = execute_query(string)\n",
    "    if resp == \"RESPONSE ERROR\":\n",
    "        first_pub_year.append(np.nan)\n",
    "        first_country.append(np.nan)\n",
    "        first_affiliation.append(np.nan)\n",
    "        continue\n",
    "    first_pub_year.append(datetime.strptime(resp['publications'][len(resp['publications'])-1]['date'], \n",
    "                                            '%Y-%m-%d').year)\n",
    "    for i in range(len(resp['publications']), 0, -1):\n",
    "        for elem in resp['publications'][i-1]['author_affiliations'][0]:\n",
    "            if 'researcher_id' in elem:\n",
    "                if elem['researcher_id'] == rsr:\n",
    "                    if len(elem['affiliations'])>0:\n",
    "                        stop = True\n",
    "                        if 'country_code' in elem['affiliations'][0]:\n",
    "                            first_country.append(elem['affiliations'][0]['country_code'])\n",
    "                        else:\n",
    "                            first_country.append(np.nan)\n",
    "                        if 'name' in elem['affiliations'][0]:\n",
    "                            first_affiliation.append(elem['affiliations'][0]['name'])\n",
    "                        else:\n",
    "                            first_affiliation.append(np.nan)\n",
    "                    break\n",
    "        if stop==True:\n",
    "            break\n",
    "    if stop==False:\n",
    "        first_country.append(np.nan)\n",
    "        first_affiliation.append(np.nan)\n",
    "            \n",
    "print(\"\\nDone !\")\n",
    "\n",
    "rsr_info = pd.DataFrame({'rsr_id':rsrs\n",
    "                         , 'first_name':first_name\n",
    "                         , 'last_name': last_name\n",
    "                         , 'affiliation': first_affiliation\n",
    "                         , 'country': first_country\n",
    "                         , 'career_start': first_pub_year\n",
    "                        })"
   ]
  },
  {
   "cell_type": "code",
   "execution_count": null,
   "metadata": {},
   "outputs": [],
   "source": [
    "rsr_info = pd.DataFrame({'rsr_id':rsrs\n",
    "                         , 'first_name':first_name\n",
    "                         , 'last_name': last_name\n",
    "                         , 'affiliation': first_affiliation\n",
    "                         , 'country': first_country\n",
    "                         , 'career_start': first_pub_year\n",
    "                        })"
   ]
  },
  {
   "cell_type": "code",
   "execution_count": null,
   "metadata": {
    "scrolled": true
   },
   "outputs": [],
   "source": [
    "rsr_info.head()"
   ]
  },
  {
   "cell_type": "code",
   "execution_count": null,
   "metadata": {},
   "outputs": [],
   "source": [
    "# Gender Imputer\n",
    "d = gender.Detector()\n",
    "\n",
    "# Gender Abbreviation Table\n",
    "gender_abbr = pd.DataFrame({'gender': ['male', 'mostly_male', 'unknown', 'andy', 'mostly_female', 'female']\n",
    "                            , 'gender_abbr': ['M', 'M', 'UNKNOWN', 'UNKNOWN', 'F', 'F']})"
   ]
  },
  {
   "cell_type": "code",
   "execution_count": null,
   "metadata": {},
   "outputs": [],
   "source": [
    "rsr_info['gender'] = rsr_info['first_name'].apply(lambda x: d.get_gender(x))\n",
    "rsr_info = pd.merge(rsr_info, gender_abbr, how='left', on='gender')\n",
    "del rsr_info['gender']\n",
    "rsr_info.rename(columns={'gender_abbr':'gender'}, inplace=True)"
   ]
  },
  {
   "cell_type": "code",
   "execution_count": null,
   "metadata": {},
   "outputs": [],
   "source": [
    "rsr_info['gender'].value_counts(normalize=True)"
   ]
  },
  {
   "cell_type": "code",
   "execution_count": null,
   "metadata": {},
   "outputs": [],
   "source": [
    "rsr_info.to_csv('../data/counterfactual_researcher_info.csv', index=False)"
   ]
  },
  {
   "cell_type": "markdown",
   "metadata": {},
   "source": [
    "## Sandbox"
   ]
  },
  {
   "cell_type": "code",
   "execution_count": null,
   "metadata": {},
   "outputs": [],
   "source": []
  }
 ],
 "metadata": {
  "kernelspec": {
   "display_name": "Python 3",
   "language": "python",
   "name": "python3"
  },
  "language_info": {
   "codemirror_mode": {
    "name": "ipython",
    "version": 3
   },
   "file_extension": ".py",
   "mimetype": "text/x-python",
   "name": "python",
   "nbconvert_exporter": "python",
   "pygments_lexer": "ipython3",
   "version": "3.7.0"
  },
  "toc": {
   "nav_menu": {},
   "number_sections": false,
   "sideBar": true,
   "skip_h1_title": false,
   "title_cell": "Table of Contents",
   "title_sidebar": "Contents",
   "toc_cell": false,
   "toc_position": {
    "height": "calc(100% - 180px)",
    "left": "10px",
    "top": "150px",
    "width": "275px"
   },
   "toc_section_display": true,
   "toc_window_display": true
  }
 },
 "nbformat": 4,
 "nbformat_minor": 2
}
