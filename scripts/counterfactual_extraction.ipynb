{
 "cells": [
  {
   "cell_type": "markdown",
   "metadata": {},
   "source": [
    "# Counterfactual Group Identification"
   ]
  },
  {
   "cell_type": "markdown",
   "metadata": {},
   "source": [
    "## Python Setup"
   ]
  },
  {
   "cell_type": "code",
   "execution_count": 1,
   "metadata": {},
   "outputs": [],
   "source": [
    "import requests\n",
    "import time\n",
    "import pandas as pd\n",
    "from pandas import Series\n",
    "pd.options.display.max_rows = 100\n",
    "import math\n",
    "import numpy as np\n",
    "from json import JSONDecodeError"
   ]
  },
  {
   "cell_type": "markdown",
   "metadata": {},
   "source": [
    "## Importing ID Replacer"
   ]
  },
  {
   "cell_type": "code",
   "execution_count": 2,
   "metadata": {},
   "outputs": [],
   "source": [
    "id_replacer = pd.read_csv('../data/id_replacer.csv')"
   ]
  },
  {
   "cell_type": "code",
   "execution_count": 3,
   "metadata": {},
   "outputs": [],
   "source": [
    "def id_replace(df):\n",
    "    df = pd.merge(df, id_replacer, how='left', left_on='rsr_id', right_on='old_id')\n",
    "    df['rsr_id'] = np.where(df['new_id'].notnull(), df['new_id'], df['rsr_id'])\n",
    "    del df['old_id'], df['new_id']\n",
    "    return df"
   ]
  },
  {
   "cell_type": "markdown",
   "metadata": {},
   "source": [
    "## Connecting to API"
   ]
  },
  {
   "cell_type": "markdown",
   "metadata": {},
   "source": [
    "For full documentation: https://docs.dimensions.ai/dsl/1.8.0/"
   ]
  },
  {
   "cell_type": "markdown",
   "metadata": {},
   "source": [
    "The API Query functions are defined in the following code:"
   ]
  },
  {
   "cell_type": "code",
   "execution_count": 4,
   "metadata": {},
   "outputs": [],
   "source": [
    "from api_query import execute_query\n",
    "from api_query import pull_data"
   ]
  },
  {
   "cell_type": "markdown",
   "metadata": {},
   "source": [
    "### API Parameters"
   ]
  },
  {
   "cell_type": "code",
   "execution_count": 5,
   "metadata": {},
   "outputs": [],
   "source": [
    "# Filter operator 'in' requires 0 < items < 512\n",
    "max_in_items = 250\n",
    "\n",
    "# Limit exceeds maximum allowed limit 1000\n",
    "max_return = 500\n",
    "\n",
    "# Offset cannot exceed 50000\n",
    "max_overall_returns = 50000"
   ]
  },
  {
   "cell_type": "markdown",
   "metadata": {},
   "source": [
    "## Grant and Publication Parsing Function"
   ]
  },
  {
   "cell_type": "code",
   "execution_count": 6,
   "metadata": {},
   "outputs": [],
   "source": [
    "def parse_grant(full_resp):\n",
    "    \n",
    "    rsr_id = []\n",
    "    grant_id = []\n",
    "    funder_name = []\n",
    "    funder_id = []\n",
    "    rcdc_codes = []\n",
    "    rcdc_names = []\n",
    "    start_dates = []\n",
    "    end_dates = []\n",
    "    funding_amount = []\n",
    "    for grant in full_resp:\n",
    "        if 'RCDC' not in grant:\n",
    "            grant['RCDC'] = [{'id':np.nan, 'name':np.nan}]\n",
    "        if 'researchers' not in grant:\n",
    "            grant['researchers'] = [{'id':np.nan}]\n",
    "        for researcher in grant['researchers']: \n",
    "            if 'id' not in researcher:\n",
    "                tmp = researcher\n",
    "                grant['researchers'].append({'id':tmp})\n",
    "        if 'start_date' not in grant:\n",
    "            grant['start_date'] = np.nan\n",
    "        if 'end_date' not in grant:\n",
    "            grant['end_date'] = np.nan\n",
    "        if 'funding_usd' not in grant:\n",
    "            grant['funding_usd'] = np.nan\n",
    "        for i in range(len(grant['researchers'])-1, -1, -1):\n",
    "            if 'id' not in grant['researchers'][i]:\n",
    "                del grant['researchers'][i]\n",
    "        if 'funders' not in grant:\n",
    "            grant['funders'] = [{'id':np.nan,'name':np.nan}]\n",
    "        for researcher in grant['researchers']:\n",
    "            for funder in grant['funders']:\n",
    "                rsr_id.append(researcher['id'])\n",
    "                grant_id.append(grant['id'])\n",
    "                funder_id.append(funder['id'])\n",
    "                funder_name.append(funder['name'])\n",
    "                start_dates.append(grant['start_date'])\n",
    "                end_dates.append(grant['end_date'])\n",
    "                funding_amount.append(grant['funding_usd'])\n",
    "                rcdc_codes_t = []\n",
    "                rcdc_names_t = []\n",
    "                for rcdc in grant['RCDC']:\n",
    "                    rcdc_codes_t.append(str(rcdc['id']))\n",
    "                    rcdc_names_t.append(str(rcdc['name']))\n",
    "                rcdc_codes.append(\";\".join(rcdc_codes_t))\n",
    "                rcdc_names.append(\";\".join(rcdc_names_t))\n",
    "                \n",
    "    grnts = pd.DataFrame({'rsr_id':rsr_id\n",
    "                          , 'grant_id':grant_id\n",
    "                          , 'funder_name':funder_name\n",
    "                          , 'funder_id':funder_id\n",
    "                          , 'rcdc_codes':rcdc_codes\n",
    "                          , 'rcdc_names':rcdc_names\n",
    "                          , 'start_date':start_dates\n",
    "                          , 'end_date':end_dates\n",
    "                          , 'funding_amount':funding_amount\n",
    "                         })\n",
    "\n",
    "    return grnts"
   ]
  },
  {
   "cell_type": "code",
   "execution_count": 119,
   "metadata": {},
   "outputs": [],
   "source": [
    "def parse_rcdc(full_resp, data_type):\n",
    "    \n",
    "    data_id = []\n",
    "    rcdc_codes = []\n",
    "    rcdc_names = []\n",
    "    for elem in full_resp:\n",
    "        if 'id' not in pub:\n",
    "            elem['id'] = np.nan\n",
    "        if 'RCDC' not in elem:\n",
    "            elem['RCDC'] = [{'id':np.nan, 'name':np.nan}]\n",
    "        for rcdc in elem['RCDC']:\n",
    "            if rcdc['name'] != np.nan:\n",
    "                data_id.append(elem['id'])\n",
    "                rcdc_names.append(str(rcdc['name']))\n",
    "\n",
    "    rcdc = pd.DataFrame({data_type+'_id':data_id\n",
    "                         , 'rcdc_name':rcdc_names})\n",
    "    rcdc['rcdc_name'] = rcdc['rcdc_name'].str.strip().str.upper()\n",
    "\n",
    "    return rcdc"
   ]
  },
  {
   "cell_type": "code",
   "execution_count": 112,
   "metadata": {},
   "outputs": [],
   "source": [
    "def parse_publication(full_resp):\n",
    "\n",
    "    pub_id = []\n",
    "    pmid = []\n",
    "    dates = []\n",
    "    citations = []\n",
    "    dois = []\n",
    "    supporting_grants = []\n",
    "    nb_authors = []\n",
    "    author_id = []\n",
    "    author_country = []\n",
    "    author_affiliation = []\n",
    "    author_affiliation_id = []\n",
    "\n",
    "    for pub in full_resp:\n",
    "        if 'id' not in pub:\n",
    "            pub['id'] = np.nan\n",
    "        if 'pmid' not in pub:\n",
    "            pub['pmid'] = np.nan\n",
    "        if 'author_affiliations' not in pub:\n",
    "            pub['author_affiliations'] = [[]]\n",
    "        for author in pub['author_affiliations'][0]: \n",
    "            if 'researcher_id' not in author:\n",
    "                author['researcher_id'] = np.nan\n",
    "            if ('affiliations' not in author)  | (len(author['affiliations'])==0):\n",
    "                author['affiliations'] = [{'country_code':np.nan, 'name': np.nan, 'id':np.nan}]\n",
    "            for affiliation in author['affiliations']:\n",
    "                if 'country_code' not in affiliation:\n",
    "                    affiliation['country_code']=np.nan\n",
    "                if 'name' not in affiliation:\n",
    "                    affiliation['name']=np.nan\n",
    "                if 'id' not in affiliation:\n",
    "                    affiliation['id']=np.nan\n",
    "        if 'date' not in pub:\n",
    "            pub['date'] = np.nan\n",
    "        if 'times_cited' not in pub:\n",
    "            pub['times_cited'] = np.nan\n",
    "        if 'doi' not in pub:\n",
    "            pub['doi'] = np.nan\n",
    "        if 'supporting_grant_ids' not in pub:\n",
    "            pub['supporting_grant_ids'] = [np.nan]\n",
    "        nb = len(pub['author_affiliations'][0])\n",
    "        for author in pub['author_affiliations'][0]:\n",
    "            nb_authors.append(nb)\n",
    "            author_id.append(author['researcher_id'])\n",
    "            author_country.append(author['affiliations'][0]['country_code'])\n",
    "            author_affiliation.append(author['affiliations'][0]['name'])\n",
    "            author_affiliation_id.append(author['affiliations'][0]['id'])\n",
    "            pub_id.append(pub['id'])\n",
    "            dates.append(pub['date'])\n",
    "            citations.append(pub['times_cited'])\n",
    "            dois.append(pub['doi'])\n",
    "            pmid.append(pub['pmid'])\n",
    "            supporting_grants.append(pub['supporting_grant_ids'])\n",
    "\n",
    "    pubs = pd.DataFrame({'pub_id':pub_id\n",
    "                         , 'pmid': pmid\n",
    "                         , 'date':dates\n",
    "                         , 'doi':dois\n",
    "                         , 'citations':citations\n",
    "                         , 'nb_authors':nb_authors\n",
    "                         , 'rsr_id':author_id\n",
    "                         , 'rsr_country':author_country\n",
    "                         , 'rsr_affiliation':author_affiliation\n",
    "                         , 'rsr_affiliation_id':author_affiliation_id\n",
    "                         , 'supporting_grants':supporting_grants\n",
    "                        })\n",
    "    pubs['supporting_grants'] = pubs['supporting_grants'].apply(lambda x: np.nan if x == [np.nan] else  ';'.join(x))\n",
    "    \n",
    "    return pubs"
   ]
  },
  {
   "cell_type": "markdown",
   "metadata": {},
   "source": [
    "## Counterfactual based on Funding Agencies"
   ]
  },
  {
   "cell_type": "markdown",
   "metadata": {},
   "source": [
    "### Define Comparison Agencies:\n",
    "\n",
    "Funding Agencies considered are NIH Wellcome Trust, Australian  NRMC, MRC in UK"
   ]
  },
  {
   "cell_type": "code",
   "execution_count": 8,
   "metadata": {},
   "outputs": [],
   "source": [
    "funders = ['Wellcome Trust', 'National Health and Medical Research Council', 'Cancer Research UK', \n",
    "           'National Cancer Institute']"
   ]
  },
  {
   "cell_type": "markdown",
   "metadata": {},
   "source": [
    "### Pull all Researchers Funded by these Agencies"
   ]
  },
  {
   "cell_type": "code",
   "execution_count": null,
   "metadata": {
    "scrolled": false
   },
   "outputs": [],
   "source": [
    "string = \"search grants where funders.name in [{}] and start_year>=2007 and start_year<=2012\"\n",
    "string += \" return grants[id+researchers+RCDC+funders+start_date+end_date+funding_usd]\"\n",
    "full_resp = pull_data(string=string, in_list=funders, in_type='funding agencies', return_type='grants',\n",
    "                      max_in_items=max_in_items, max_return=max_return, max_overall_returns=max_overall_returns)"
   ]
  },
  {
   "cell_type": "code",
   "execution_count": null,
   "metadata": {},
   "outputs": [],
   "source": [
    "funded_grnts = parse_grant(full_resp).drop_duplicates().reset_index(drop=True)"
   ]
  },
  {
   "cell_type": "code",
   "execution_count": null,
   "metadata": {},
   "outputs": [],
   "source": [
    "# Remove all grants with no researcher info\n",
    "funded_grnts = funded_grnts[funded_grnts['rsr_id'].notnull()]\n",
    "\n",
    "# Remove all other funders that might have appeared\n",
    "funded_grnts = funded_grnts[(funded_grnts['funder_name'].isin(funders))]\n",
    "\n",
    "# Restrict to grants funded between 2007 and 2012:\n",
    "funded_grnts = funded_grnts[(pd.DatetimeIndex(funded_grnts['start_date']).year>=2007)\n",
    "                          & (pd.DatetimeIndex(funded_grnts['start_date']).year<=2012)].reset_index(drop=True)"
   ]
  },
  {
   "cell_type": "markdown",
   "metadata": {},
   "source": [
    "Some of the counterfactual agencies (NCI, Cancer Research UK) are cancer-specific funders. Others however, such as the Wellcome Trust and the NHMRC, fund different types of medical research. For this second category of non-cancer-specific funders, we must restrict to grants on the topic of Cancer. I use the RCDC codes to restrict to Cancer-related grants."
   ]
  },
  {
   "cell_type": "code",
   "execution_count": null,
   "metadata": {},
   "outputs": [],
   "source": [
    "# For non-cancer-specific funders, restrict to Cancer Grants:\n",
    "general_funders = ['Wellcome Trust', 'National Health and Medical Research Council']\n",
    "funded_grnts = funded_grnts[(funded_grnts['funder_name'].isin(general_funders)==False)\n",
    "                            |(funded_grnts['rcdc_names'].str.upper().str.contains(\"CANCER\"))]"
   ]
  },
  {
   "cell_type": "code",
   "execution_count": null,
   "metadata": {},
   "outputs": [],
   "source": [
    "funded_grnts['funder_name'].value_counts()"
   ]
  },
  {
   "cell_type": "code",
   "execution_count": null,
   "metadata": {},
   "outputs": [],
   "source": [
    "funded_grnts.head()"
   ]
  },
  {
   "cell_type": "code",
   "execution_count": null,
   "metadata": {},
   "outputs": [],
   "source": [
    "# # Keep RCDC Codes in Seperate Table\n",
    "# funded_grnts_rcdc = funded_grnts[funded_grnts['rcdc_names'].notnull()][['grant_id', 'rcdc_names']].drop_duplicates()\n",
    "# funded_grnts_rcdc = pd.concat([Series(row['grant_id'], row['rcdc_names'].split(';'))\n",
    "#                                for _, row in funded_grnts_rcdc.iterrows()]).reset_index()\n",
    "# funded_grnts_rcdc.columns = ['rcdc_name', 'grant_id']\n",
    "# funded_grnts_rcdc['rcdc_name'] = funded_grnts_rcdc['rcdc_name'].str.strip()\n",
    "\n",
    "# del funded_grnts['rcdc_codes'], funded_grnts['rcdc_names']"
   ]
  },
  {
   "cell_type": "code",
   "execution_count": null,
   "metadata": {},
   "outputs": [],
   "source": [
    "funded_grnts = id_replace(funded_grnts)"
   ]
  },
  {
   "cell_type": "code",
   "execution_count": null,
   "metadata": {},
   "outputs": [],
   "source": [
    "funded_grnts.to_csv('../data/counterfactual_funded_grants.csv', index=False)\n",
    "funded_grnts_rcdc.to_csv('../data/topic_lookups/counterfactual_funded_grants_rcdc.csv', index=False)"
   ]
  },
  {
   "cell_type": "markdown",
   "metadata": {},
   "source": [
    "### Pull all Grants and Publications from these Researchers"
   ]
  },
  {
   "cell_type": "code",
   "execution_count": 9,
   "metadata": {},
   "outputs": [],
   "source": [
    "funded_grnts = pd.read_csv('../data/counterfactual_funded_grants.csv')\n",
    "rsrs = list(funded_grnts['rsr_id'].drop_duplicates())"
   ]
  },
  {
   "cell_type": "markdown",
   "metadata": {},
   "source": [
    "#### Grants"
   ]
  },
  {
   "cell_type": "code",
   "execution_count": null,
   "metadata": {},
   "outputs": [],
   "source": [
    "string = \"search grants where researchers.id in [{}]\"\n",
    "string += \" return grants[id+researchers+RCDC+funders+start_date+end_date+funding_usd]\"\n",
    "full_resp = pull_data(string=string, in_list=rsrs, in_type='researchers', return_type='grants'\n",
    "                      , max_in_items=max_in_items, max_return=max_return, max_overall_returns=max_overall_returns)"
   ]
  },
  {
   "cell_type": "code",
   "execution_count": null,
   "metadata": {},
   "outputs": [],
   "source": [
    "grnts = parse_grant(full_resp)\n",
    "grnts = grnts.drop_duplicates().reset_index(drop=True)\n",
    "\n",
    "grnts_rcdc = parse_rcdc(full_resp, data_type='grant')"
   ]
  },
  {
   "cell_type": "code",
   "execution_count": null,
   "metadata": {},
   "outputs": [],
   "source": [
    "grnts.describe(include='all')"
   ]
  },
  {
   "cell_type": "code",
   "execution_count": null,
   "metadata": {},
   "outputs": [],
   "source": [
    "# Do ID Replace\n",
    "for i in range(id_replacer.shape[0]):\n",
    "    grnts['rsr_id'] = grnts['rsr_id'].apply(lambda x: id_replace(x, i))"
   ]
  },
  {
   "cell_type": "code",
   "execution_count": null,
   "metadata": {},
   "outputs": [],
   "source": [
    "grnts.to_csv('../data/counterfactual_researcher_grants.csv', index=False)\n",
    "grnts_rcdc.to_csv('../data/topic_lookups/counterfactual_researcher_grants_rcdc.csv', index=False)"
   ]
  },
  {
   "cell_type": "markdown",
   "metadata": {},
   "source": [
    "#### Publications"
   ]
  },
  {
   "cell_type": "code",
   "execution_count": 113,
   "metadata": {
    "scrolled": false
   },
   "outputs": [
    {
     "name": "stdout",
     "output_type": "stream",
     "text": [
      "Querying: 250-500/13027 researchers...\n",
      "RESPONSE ERROR on i=1 and j=14.\n",
      "\n",
      "Querying: 2000-2250/13027 researchers...\n",
      "RESPONSE ERROR on i=8 and j=14.\n",
      "\n",
      "Querying: 2250-2500/13027 researchers...\n",
      "RESPONSE ERROR on i=9 and j=13.\n",
      "\n",
      "Querying: 4000-4250/13027 researchers...\n",
      "RESPONSE ERROR on i=16 and j=15.\n",
      "\n",
      "Querying: 4250-4500/13027 researchers...\n",
      "RESPONSE ERROR on i=17 and j=17.\n",
      "\n",
      "Querying: 6500-6750/13027 researchers...\n",
      "RESPONSE ERROR on i=26 and j=14.\n",
      "\n",
      "Querying: 7000-7250/13027 researchers...\n",
      "RESPONSE ERROR on i=28 and j=34.\n",
      "\n",
      "Querying: 8500-8750/13027 researchers...\n",
      "RESPONSE ERROR on i=34 and j=11.\n",
      "\n",
      "\n",
      "RESPONSE ERROR on i=34 and j=12.\n",
      "\n",
      "Querying: 9000-9250/13027 researchers...\n",
      "RESPONSE ERROR on i=36 and j=21.\n",
      "\n",
      "Querying: 9250-9500/13027 researchers...\n",
      "RESPONSE ERROR on i=37 and j=13.\n",
      "\n",
      "Querying: 10250-10500/13027 researchers...\n",
      "RESPONSE ERROR on i=41 and j=11.\n",
      "\n",
      "Querying: 11000-11250/13027 researchers...\n",
      "RESPONSE ERROR on i=44 and j=8.\n",
      "\n",
      "Querying: 11500-11750/13027 researchers...\n",
      "RESPONSE ERROR on i=46 and j=7.\n",
      "\n",
      "Querying: 13000-13027/13027 researchers...\n",
      "Done !\n"
     ]
    }
   ],
   "source": [
    "string = \"search publications where researchers.id in [{}]\"\n",
    "string += \" return publications[id+doi+pmid+author_affiliations+date+supporting_grant_ids+times_cited+RCDC]\"\n",
    "full_resp = pull_data(string=string, in_list=rsrs, in_type='researchers', return_type='publications', \n",
    "                      max_in_items=max_in_items, max_return=max_return, max_overall_returns=max_overall_returns)"
   ]
  },
  {
   "cell_type": "code",
   "execution_count": 108,
   "metadata": {},
   "outputs": [],
   "source": [
    "pubs = parse_publication(full_resp)\n",
    "pubs = pubs.drop_duplicates().reset_index(drop=True)\n",
    "\n",
    "pubs_rcdc = parse_rcdc(full_resp, data_type='pub')"
   ]
  },
  {
   "cell_type": "code",
   "execution_count": null,
   "metadata": {},
   "outputs": [],
   "source": [
    "pubs.describe(include='all')"
   ]
  },
  {
   "cell_type": "code",
   "execution_count": 125,
   "metadata": {},
   "outputs": [],
   "source": [
    "# Do ID Replace\n",
    "pubs = pd.merge(pubs, id_replacer, how='left', left_on='rsr_id', right_on='old_id')\n",
    "pubs['rsr_id'] = np.where(pubs['new_id'].notnull(), pubs['new_id'], \n",
    "                                       pubs['rsr_id'])\n",
    "del pubs['old_id'], pubs['new_id']"
   ]
  },
  {
   "cell_type": "code",
   "execution_count": 126,
   "metadata": {},
   "outputs": [],
   "source": [
    "# Publication IDs:\n",
    "pub_ids = pubs[pubs['pmid'].notnull()][['rsr_id', 'pmid']].drop_duplicates()"
   ]
  },
  {
   "cell_type": "code",
   "execution_count": 127,
   "metadata": {},
   "outputs": [],
   "source": [
    "pubs.to_csv('../data/counterfactual_researcher_publications.csv', index=False)\n",
    "pubs_rcdc.to_csv('../data/topic_lookups/counterfactual_researcher_publications_rcdc.csv', index=False)\n",
    "pub_ids.to_csv('../data/counterfactual_pub_ids.csv', index=False)"
   ]
  },
  {
   "cell_type": "markdown",
   "metadata": {},
   "source": [
    "## Sandbox"
   ]
  },
  {
   "cell_type": "code",
   "execution_count": null,
   "metadata": {},
   "outputs": [],
   "source": []
  }
 ],
 "metadata": {
  "kernelspec": {
   "display_name": "Python 3",
   "language": "python",
   "name": "python3"
  },
  "language_info": {
   "codemirror_mode": {
    "name": "ipython",
    "version": 3
   },
   "file_extension": ".py",
   "mimetype": "text/x-python",
   "name": "python",
   "nbconvert_exporter": "python",
   "pygments_lexer": "ipython3",
   "version": "3.6.2"
  },
  "toc": {
   "nav_menu": {},
   "number_sections": false,
   "sideBar": true,
   "skip_h1_title": false,
   "title_cell": "Table of Contents",
   "title_sidebar": "Contents",
   "toc_cell": false,
   "toc_position": {
    "height": "calc(100% - 180px)",
    "left": "10px",
    "top": "150px",
    "width": "275px"
   },
   "toc_section_display": true,
   "toc_window_display": true
  }
 },
 "nbformat": 4,
 "nbformat_minor": 2
}
