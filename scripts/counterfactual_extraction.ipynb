{
 "cells": [
  {
   "cell_type": "markdown",
   "metadata": {},
   "source": [
    "# Counterfactual Group Identification"
   ]
  },
  {
   "cell_type": "markdown",
   "metadata": {},
   "source": [
    "## Python Setup"
   ]
  },
  {
   "cell_type": "code",
   "execution_count": 11,
   "metadata": {},
   "outputs": [],
   "source": [
    "import requests\n",
    "import time\n",
    "import pandas as pd\n",
    "pd.options.display.max_rows = 100\n",
    "import math\n",
    "import numpy as np\n",
    "from json import JSONDecodeError"
   ]
  },
  {
   "cell_type": "markdown",
   "metadata": {},
   "source": [
    "## Connecting to API"
   ]
  },
  {
   "cell_type": "markdown",
   "metadata": {},
   "source": [
    "For full documentation: https://docs.dimensions.ai/dsl/1.8.0/"
   ]
  },
  {
   "cell_type": "markdown",
   "metadata": {},
   "source": [
    "### Login Information"
   ]
  },
  {
   "cell_type": "markdown",
   "metadata": {},
   "source": [
    "Fetch my password from a separate .txt file:"
   ]
  },
  {
   "cell_type": "code",
   "execution_count": 12,
   "metadata": {},
   "outputs": [],
   "source": [
    "with open('../data/password.txt', 'r') as myfile:\n",
    "    password = myfile.read().strip()"
   ]
  },
  {
   "cell_type": "code",
   "execution_count": 13,
   "metadata": {},
   "outputs": [],
   "source": [
    "login = {\n",
    "    'username': 'nj995@nyu.edu',\n",
    "    'password': password\n",
    "}"
   ]
  },
  {
   "cell_type": "markdown",
   "metadata": {},
   "source": [
    "### API Parameters"
   ]
  },
  {
   "cell_type": "code",
   "execution_count": 14,
   "metadata": {},
   "outputs": [],
   "source": [
    "def execute_query(string):\n",
    "    # Send credentials to login url to retrieve token.\n",
    "    resp = requests.post('https://app.dimensions.ai/api/auth.json', json=login)\n",
    "    resp.raise_for_status()\n",
    "\n",
    "    # Create http header using the generated token.\n",
    "    headers = {'Authorization': \"JWT \" + resp.json()['token']}   \n",
    "    \n",
    "    # Execute DSL query.    \n",
    "    resp = requests.post('https://app.dimensions.ai/api/dsl.json', data=string, headers=headers)\n",
    "    \n",
    "    try:\n",
    "        resp = resp.json()\n",
    "    except JSONDecodeError:\n",
    "        resp = \"RESPONSE ERROR\"\n",
    "    \n",
    "    return resp"
   ]
  },
  {
   "cell_type": "code",
   "execution_count": 15,
   "metadata": {},
   "outputs": [],
   "source": [
    "# Filter operator 'in' requires 0 < items < 512\n",
    "max_in_items = 100\n",
    "\n",
    "# Limit exceeds maximum allowed limit 1000\n",
    "max_return = 500\n",
    "\n",
    "# Offset cannot exceed 50000\n",
    "max_overall_returns = 50000"
   ]
  },
  {
   "cell_type": "markdown",
   "metadata": {},
   "source": [
    "## Pulling Comparison Group Function"
   ]
  },
  {
   "cell_type": "code",
   "execution_count": 16,
   "metadata": {},
   "outputs": [],
   "source": [
    "def pull_data(string, in_list, in_type, return_type, \n",
    "              max_in_items=max_in_items, max_return=max_return, max_overall_returns=max_overall_returns):\n",
    "    \n",
    "    full_resp = []\n",
    "\n",
    "    for i in range(math.ceil(len(in_list)/max_in_items)):\n",
    "        min_i, max_i = i*max_in_items, min((i+1)*max_in_items, len(in_list))\n",
    "        print('Querying: {}-{}/{} {}...'.format(min_i, max_i, len(in_list), in_type), end = '\\r')\n",
    "\n",
    "        in_t = in_list[min_i:max_i]\n",
    "        string_t = \"\\\"\" + \"\\\", \\\"\".join(in_t) + \"\\\"\"\n",
    "        query = string.format(string_t)\n",
    "\n",
    "        j = 0\n",
    "        loop = True\n",
    "        while loop == True:\n",
    "            query_t = query + \" limit {} skip {}\".format(max_return, max_return*j)\n",
    "            resp = execute_query(query_t)\n",
    "            if resp == \"RESPONSE ERROR\":\n",
    "                print(\"\\nRESPONSE ERROR on i={} and j={}.\\n\".format(i, j))\n",
    "            else:\n",
    "                full_resp.extend(resp[return_type])\n",
    "\n",
    "                if len(resp[return_type])<max_return:\n",
    "                    loop = False\n",
    "            j += 1\n",
    "            \n",
    "            if max_return*(j+1)>max_overall_returns:\n",
    "                loop = False\n",
    "            \n",
    "            time.sleep(2)\n",
    "        \n",
    "        count = resp['_stats']['total_count']        \n",
    "        if resp['_stats']['total_count']>=max_overall_returns:\n",
    "            print(\"\\nATTENTION! {} {} overall, pulled only {}.\\n\".format(count, return_type, max_return*j-1))\n",
    "\n",
    "    print(\"\\nDone !\")\n",
    "        \n",
    "    return full_resp"
   ]
  },
  {
   "cell_type": "markdown",
   "metadata": {},
   "source": [
    "## Grant and Publication Parsing Function"
   ]
  },
  {
   "cell_type": "code",
   "execution_count": 17,
   "metadata": {},
   "outputs": [],
   "source": [
    "def parse_grant(full_resp):\n",
    "    rsr_id = []\n",
    "    grant_id = []\n",
    "    funder_name = []\n",
    "    funder_id = []\n",
    "    rcdc_codes = []\n",
    "    rcdc_names = []\n",
    "    start_dates = []\n",
    "    end_dates = []\n",
    "    funding_amount = []\n",
    "    for grant in full_resp:\n",
    "        if 'RCDC' not in grant:\n",
    "            grant['RCDC'] = [{'id':np.nan, 'name':np.nan}]\n",
    "        if 'researchers' not in grant:\n",
    "            grant['researchers'] = [{'id':np.nan}]\n",
    "        for researcher in grant['researchers']: \n",
    "            if 'id' not in researcher:\n",
    "                tmp = researcher\n",
    "                grant['researchers'].append({'id':tmp})\n",
    "        if 'start_date' not in grant:\n",
    "            grant['start_date'] = np.nan\n",
    "        if 'end_date' not in grant:\n",
    "            grant['end_date'] = np.nan\n",
    "        if 'funding_amount' not in grant:\n",
    "            grant['funding_amount'] = np.nan\n",
    "        for i in range(len(grant['researchers'])-1, -1, -1):\n",
    "            if 'id' not in grant['researchers'][i]:\n",
    "                del grant['researchers'][i]\n",
    "        if 'funders' not in grant:\n",
    "            grant['funders'] = [{'id':np.nan,'name':np.nan}]\n",
    "        for researcher in grant['researchers']:\n",
    "            for funder in grant['funders']:\n",
    "                rsr_id.append(researcher['id'])\n",
    "                grant_id.append(grant['id'])\n",
    "                funder_id.append(funder['id'])\n",
    "                funder_name.append(funder['name'])\n",
    "                start_dates.append(grant['start_date'])\n",
    "                end_dates.append(grant['end_date'])\n",
    "                funding_amount.append(grant['funding_amount'])\n",
    "                rcdc_codes_t = []\n",
    "                rcdc_names_t = []\n",
    "                for rcdc in grant['RCDC']:\n",
    "                    rcdc_codes_t.append(str(rcdc['id']))\n",
    "                    rcdc_names_t.append(str(rcdc['name']))\n",
    "                rcdc_codes.append(\"; \".join(rcdc_codes_t))\n",
    "                rcdc_names.append(\"; \".join(rcdc_names_t))\n",
    "                \n",
    "    grnts = pd.DataFrame({'rsr_id':rsr_id, 'grant_id':grant_id\n",
    "                          , 'funder_name':funder_name, 'funder_id':funder_id\n",
    "                          , 'rcdc_codes':rcdc_codes, 'rcdc_names':rcdc_names\n",
    "                          , 'start_date':start_dates, 'end_date':end_dates\n",
    "                          , 'funding_amount':funding_amount\n",
    "                         })\n",
    "\n",
    "    return grnts"
   ]
  },
  {
   "cell_type": "code",
   "execution_count": 18,
   "metadata": {},
   "outputs": [],
   "source": [
    "def parse_publication(full_resp):\n",
    "    rsr_id = []\n",
    "    pub_id = []\n",
    "    rcdc_codes = []\n",
    "    rcdc_names = []\n",
    "    dates = []\n",
    "    citations = []\n",
    "    dois = []\n",
    "    supporting_grants = []\n",
    "    for pub in full_resp:\n",
    "        if 'id' not in pub:\n",
    "            pub['id'] = np.nan\n",
    "        if 'RCDC' not in pub:\n",
    "            pub['RCDC'] = [{'id':np.nan, 'name':np.nan}]\n",
    "        if 'researchers' not in pub:\n",
    "            pub['researchers'] = [{'id':np.nan}]\n",
    "        for researcher in pub['researchers']: \n",
    "            if 'id' not in researcher:\n",
    "                tmp = researcher\n",
    "                pub['researchers'].append({'id':tmp})\n",
    "        if 'date' not in pub:\n",
    "            pub['date'] = np.nan\n",
    "        if 'times_cited' not in pub:\n",
    "            pub['times_cited'] = np.nan\n",
    "        if 'doi' not in pub:\n",
    "            pub['doi'] = np.nan\n",
    "        if 'supporting_grant_ids' not in pub:\n",
    "            pub['supporting_grant_ids'] = [np.nan]\n",
    "        for i in range(len(pub['researchers'])-1, -1, -1):\n",
    "            if 'id' not in pub['researchers'][i]:\n",
    "                del pub['researchers'][i]\n",
    "        for researcher in pub['researchers']:\n",
    "            rsr_id.append(researcher['id'])\n",
    "            pub_id.append(pub['id'])\n",
    "            dates.append(pub['date'])\n",
    "            citations.append(pub['times_cited'])\n",
    "            dois.append(pub['doi'])\n",
    "            supporting_grants.append(pub['supporting_grant_ids'])\n",
    "            rcdc_codes_t = []\n",
    "            rcdc_names_t = []\n",
    "            for rcdc in pub['RCDC']:\n",
    "                rcdc_codes_t.append(str(rcdc['id']))\n",
    "                rcdc_names_t.append(str(rcdc['name']))\n",
    "            rcdc_codes.append(\"; \".join(rcdc_codes_t))\n",
    "            rcdc_names.append(\"; \".join(rcdc_names_t))\n",
    "                \n",
    "    pubs = pd.DataFrame({'rsr_id':rsr_id, 'pub_id':pub_id\n",
    "                         , 'rcdc_codes':rcdc_codes, 'rcdc_names':rcdc_names\n",
    "                         , 'date':dates, 'citations':citations, 'doi':dois\n",
    "                         , 'supporting_grants':supporting_grants\n",
    "                         })\n",
    "    pubs['supporting_grants'] = pubs['supporting_grants'].apply(lambda x: np.nan if x == [np.nan] else  '; '.join(x))\n",
    "\n",
    "    return pubs"
   ]
  },
  {
   "cell_type": "markdown",
   "metadata": {},
   "source": [
    "## Method 1: Pulling all Researchers who Collaborated on Grants with INCA-Funded Researchers"
   ]
  },
  {
   "cell_type": "markdown",
   "metadata": {},
   "source": [
    "### All Researchers on Grants Awarded to INCA Researchers"
   ]
  },
  {
   "cell_type": "code",
   "execution_count": null,
   "metadata": {},
   "outputs": [],
   "source": [
    "# rsr_info = pd.read_csv('../data/researchers.csv')\n",
    "# rsrs = list(rsr_info[rsr_info['id'].notnull()]['id'].drop_duplicates().reset_index(drop = True))"
   ]
  },
  {
   "cell_type": "markdown",
   "metadata": {},
   "source": [
    "### Pull all Grants Awarded by these Researchers"
   ]
  },
  {
   "cell_type": "code",
   "execution_count": null,
   "metadata": {},
   "outputs": [],
   "source": [
    "# string = \"search grants where researchers.id in [{}] return grants[id+researchers+RCDC]\""
   ]
  },
  {
   "cell_type": "code",
   "execution_count": null,
   "metadata": {
    "scrolled": true
   },
   "outputs": [],
   "source": [
    "# full_resp = pull_data(string=string, in_list=rsrs, in_type='researchers', return_type='grants')"
   ]
  },
  {
   "cell_type": "code",
   "execution_count": null,
   "metadata": {
    "scrolled": false
   },
   "outputs": [],
   "source": [
    "# rsr_id = []\n",
    "# grant_id = []\n",
    "# rcdc_codes = []\n",
    "# rcdc_names = []\n",
    "# for grant in full_resp:\n",
    "#     for researcher in grant['researchers']:\n",
    "#         rsr_id.append(researcher['id'])\n",
    "#         grant_id.append(grant['id'])\n",
    "#         rcdc_codes_t = []\n",
    "#         rcdc_names_t = []\n",
    "#         if 'RCDC' in grant:\n",
    "#             for rcdc in grant['RCDC']:\n",
    "#                 rcdc_codes_t.append(str(rcdc['id']))\n",
    "#                 rcdc_names_t.append(rcdc['name'])\n",
    "#             rcdc_codes.append(\"; \".join(rcdc_codes_t))\n",
    "#             rcdc_names.append(\"; \".join(rcdc_names_t))\n",
    "#         else:\n",
    "#             rcdc_codes.append(\"\")\n",
    "#             rcdc_names.append(\"\")"
   ]
  },
  {
   "cell_type": "code",
   "execution_count": null,
   "metadata": {},
   "outputs": [],
   "source": [
    "# collab_grnts = pd.DataFrame({'rsr_id':rsr_id, 'grant_id':grant_id, 'rcdc_codes':rcdc_codes, 'rcdc_names':rcdc_names})\n",
    "# collab_rsrs = collab_grnts.groupby('rsr_id')['grant_id'].nunique().reset_index()"
   ]
  },
  {
   "cell_type": "markdown",
   "metadata": {},
   "source": [
    "### Analysis of Results"
   ]
  },
  {
   "cell_type": "code",
   "execution_count": null,
   "metadata": {},
   "outputs": [],
   "source": [
    "# # INCA-funded rsrs:\n",
    "# rsrs_inca = rsrs\n",
    "# print(\"{} INCA-funded researchers (with Dimensions IDs)\".format(len(rsrs_inca)))\n",
    "\n",
    "# # INCA-funded rsrs who have grants with the API:\n",
    "# # rsrs_inca_t = inca_rsrs_grants['rsr_id'].drop_duplicates().reset_index(drop = True)\n",
    "# # print(\"{} INCA-funded researchers appear to have grants with the Dimensions API\".format(len(rsrs_inca_t)))\n",
    "\n",
    "# # rsrs who are on grants where with >1 INCA-funded rsrs\n",
    "# rsrs_all = collab_rsrs['rsr_id'].drop_duplicates().reset_index(drop = True)\n",
    "# print(\"{} researchers participated in grants with at least one INCA-funded researcher\".format(len(rsrs_all)))"
   ]
  },
  {
   "cell_type": "code",
   "execution_count": null,
   "metadata": {
    "scrolled": false
   },
   "outputs": [],
   "source": [
    "# rsrs_comp_1 = rsrs_all[rsrs_all.apply(lambda x: x not in list(rsrs_inca))].reset_index(drop = True)\n",
    "\n",
    "# # Number of comparison rsrs identified:\n",
    "# print(\"Size of comparison group identified: {} researchers\".format(len(rsrs_comp_1)))"
   ]
  },
  {
   "cell_type": "markdown",
   "metadata": {},
   "source": [
    "## Method 2: Pulling all Researchers who Co-Authored with INCA-Funded Researchers"
   ]
  },
  {
   "cell_type": "markdown",
   "metadata": {},
   "source": [
    "### All Researchers on Grants Awarded to INCA Researchers"
   ]
  },
  {
   "cell_type": "code",
   "execution_count": null,
   "metadata": {},
   "outputs": [],
   "source": [
    "# rsr_info = pd.read_csv('../data/researchers.csv')\n",
    "# rsrs = list(rsr_info[rsr_info['id'].notnull()]['id'].drop_duplicates().reset_index(drop = True))"
   ]
  },
  {
   "cell_type": "markdown",
   "metadata": {},
   "source": [
    "### Pull all Publications by these Researchers"
   ]
  },
  {
   "cell_type": "code",
   "execution_count": null,
   "metadata": {},
   "outputs": [],
   "source": [
    "# string = \"search publications where researchers.id in [{}] return publications[id+researchers]\""
   ]
  },
  {
   "cell_type": "code",
   "execution_count": null,
   "metadata": {
    "scrolled": true
   },
   "outputs": [],
   "source": [
    "# full_resp = pull_data(string=string, in_list=rsrs, in_type='researchers', return_type='publications')"
   ]
  },
  {
   "cell_type": "code",
   "execution_count": null,
   "metadata": {
    "scrolled": false
   },
   "outputs": [],
   "source": [
    "# rsr_id = []\n",
    "# pub_id = []\n",
    "# for pub in full_resp:\n",
    "#     for researcher in pub['researchers']:\n",
    "#         rsr_id.append(researcher['id'])\n",
    "#         pub_id.append(pub['id'])"
   ]
  },
  {
   "cell_type": "code",
   "execution_count": null,
   "metadata": {},
   "outputs": [],
   "source": [
    "# collab_pubs = pd.DataFrame({'rsr_id':rsr_id, 'publication_id':pub_id})\n",
    "# collab_rsrs = collab_pubs.groupby('rsr_id')['publication_id'].nunique().reset_index()"
   ]
  },
  {
   "cell_type": "markdown",
   "metadata": {},
   "source": [
    "### Analysis of Results"
   ]
  },
  {
   "cell_type": "code",
   "execution_count": null,
   "metadata": {},
   "outputs": [],
   "source": [
    "# # INCA-funded rsrs:\n",
    "# rsrs_inca = rsrs\n",
    "# print(\"{} INCA-funded researchers (with Dimensions IDs)\".format(len(rsrs_inca)))\n",
    "\n",
    "# # rsrs who are on publications with >1 INCA-funded rsrs\n",
    "# rsrs_all = collab_rsrs['rsr_id'].drop_duplicates().reset_index(drop = True)\n",
    "# print(\"{} researchers participated in publications with at least one INCA-funded researcher\".format(len(rsrs_all)))"
   ]
  },
  {
   "cell_type": "code",
   "execution_count": null,
   "metadata": {
    "scrolled": false
   },
   "outputs": [],
   "source": [
    "# rsrs_comp_2 = rsrs_all[rsrs_all.apply(lambda x: x not in list(rsrs_inca))].reset_index(drop = True)\n",
    "\n",
    "# # Number of comparison rsrs identified:\n",
    "# print(\"Size of comparison group identified: {} researchers\".format(len(rsrs_comp_2)))"
   ]
  },
  {
   "cell_type": "markdown",
   "metadata": {},
   "source": [
    "## Method 3: Counterfactual based on Funding Agencies"
   ]
  },
  {
   "cell_type": "markdown",
   "metadata": {},
   "source": [
    "### Define Comparison Agencies:\n",
    "\n",
    "Funding Agencies considered are NIH Wellcome Trust, Australian  NRMC, MRC in UK"
   ]
  },
  {
   "cell_type": "code",
   "execution_count": 19,
   "metadata": {},
   "outputs": [],
   "source": [
    "funders = ['Wellcome Trust', 'National Health and Medical Research Council', 'Cancer Research UK', \n",
    "           'National Cancer Institute']"
   ]
  },
  {
   "cell_type": "markdown",
   "metadata": {},
   "source": [
    "### Pull all Researchers Funded by these Agencies"
   ]
  },
  {
   "cell_type": "code",
   "execution_count": null,
   "metadata": {
    "scrolled": false
   },
   "outputs": [],
   "source": [
    "string = \"search grants where funders.name in [{}] and start_year>=2007 and start_year<=2012\"\n",
    "string += \" return grants[id+researchers+RCDC+funders+start_date+end_date+funding_usd]\"\n",
    "full_resp = pull_data(string=string, in_list=funders, in_type='funding agencies', return_type='grants')"
   ]
  },
  {
   "cell_type": "code",
   "execution_count": null,
   "metadata": {},
   "outputs": [],
   "source": [
    "fundr_grnts = parse_grant(full_resp).drop_duplicates().reset_index(drop=True)"
   ]
  },
  {
   "cell_type": "code",
   "execution_count": null,
   "metadata": {},
   "outputs": [],
   "source": [
    "# Remove all other funders that might have appeared\n",
    "fundr_grnts = fundr_grnts[(fundr_grnts['funder_name'].isin(funders))]\n",
    "\n",
    "# For non-cancer-specific funders, resstrict to Cancer Grants:\n",
    "general_funders = ['Wellcome Trust', 'National Health and Medical Research Council']\n",
    "fundr_grnts = fundr_grnts[(fundr_grnts['funder_name'].isin(general_funders)==False)\n",
    "                          |(fundr_grnts['rcdc_names'].str.contains(\"Cancer\"))]\n",
    "\n",
    "# Restrict to grants funded between 2007 and 2012:\n",
    "fundr_grnts = fundr_grnts[(pd.DatetimeIndex(fundr_grnts['start_date']).year>=2007)\n",
    "                          & (pd.DatetimeIndex(fundr_grnts['start_date']).year<=2012)].reset_index(drop=True)"
   ]
  },
  {
   "cell_type": "code",
   "execution_count": null,
   "metadata": {},
   "outputs": [],
   "source": [
    "fundr_grnts['funder_name'].value_counts()"
   ]
  },
  {
   "cell_type": "code",
   "execution_count": null,
   "metadata": {},
   "outputs": [],
   "source": [
    "fundr_grnts.to_csv('../data/counterfactual/counterfactual_funded_grants.csv', index=False)"
   ]
  },
  {
   "cell_type": "markdown",
   "metadata": {},
   "source": [
    "### Pull all Grants and Publications from these Researchers"
   ]
  },
  {
   "cell_type": "code",
   "execution_count": 20,
   "metadata": {},
   "outputs": [],
   "source": [
    "fundr_grnts = pd.read_csv('../data/counterfactual/counterfactual_funded_grants.csv')\n",
    "rsrs = fundr_grnts[fundr_grnts['rsr_id'].notnull()]['rsr_id'].drop_duplicates()"
   ]
  },
  {
   "cell_type": "markdown",
   "metadata": {},
   "source": [
    "#### Grants"
   ]
  },
  {
   "cell_type": "code",
   "execution_count": null,
   "metadata": {},
   "outputs": [],
   "source": [
    "string = \"search grants where researchers.id in [{}]\"\n",
    "string += \" return grants[id+researchers+RCDC+funders+start_date+end_date+funding_usd]\"\n",
    "full_resp = pull_data(string=string, in_list=rsrs, in_type='researchers', return_type='grants')"
   ]
  },
  {
   "cell_type": "code",
   "execution_count": null,
   "metadata": {},
   "outputs": [],
   "source": [
    "grnts = parse_grant(full_resp)\n",
    "grnts = grnts.drop_duplicates().reset_index(drop=True)"
   ]
  },
  {
   "cell_type": "code",
   "execution_count": null,
   "metadata": {},
   "outputs": [],
   "source": [
    "grnts.describe(include='all')"
   ]
  },
  {
   "cell_type": "code",
   "execution_count": null,
   "metadata": {},
   "outputs": [],
   "source": [
    "grnts.to_csv('../data/counterfactual/counterfactual_researcher_grants.csv', index=False)"
   ]
  },
  {
   "cell_type": "markdown",
   "metadata": {},
   "source": [
    "#### Publications"
   ]
  },
  {
   "cell_type": "code",
   "execution_count": 21,
   "metadata": {
    "scrolled": false
   },
   "outputs": [
    {
     "name": "stdout",
     "output_type": "stream",
     "text": [
      "Querying: 400-500/13027 researchers...\n",
      "RESPONSE ERROR on i=4 and j=5.\n",
      "\n",
      "Querying: 2000-2100/13027 researchers...\n",
      "RESPONSE ERROR on i=20 and j=6.\n",
      "\n",
      "Querying: 2200-2300/13027 researchers...\n",
      "RESPONSE ERROR on i=22 and j=4.\n",
      "\n",
      "Querying: 4200-4300/13027 researchers...\n",
      "RESPONSE ERROR on i=42 and j=6.\n",
      "\n",
      "Querying: 4300-4400/13027 researchers...\n",
      "RESPONSE ERROR on i=43 and j=8.\n",
      "\n",
      "Querying: 4500-4600/13027 researchers...\r"
     ]
    },
    {
     "ename": "SSLError",
     "evalue": "HTTPSConnectionPool(host='app.dimensions.ai', port=443): Max retries exceeded with url: /api/auth.json (Caused by SSLError(SSLError(\"bad handshake: SysCallError(54, 'ECONNRESET')\",),))",
     "output_type": "error",
     "traceback": [
      "\u001b[0;31m---------------------------------------------------------------------------\u001b[0m",
      "\u001b[0;31mSysCallError\u001b[0m                              Traceback (most recent call last)",
      "\u001b[0;32m~/anaconda3/lib/python3.6/site-packages/urllib3/contrib/pyopenssl.py\u001b[0m in \u001b[0;36mwrap_socket\u001b[0;34m(self, sock, server_side, do_handshake_on_connect, suppress_ragged_eofs, server_hostname)\u001b[0m\n\u001b[1;32m    440\u001b[0m             \u001b[0;32mtry\u001b[0m\u001b[0;34m:\u001b[0m\u001b[0;34m\u001b[0m\u001b[0m\n\u001b[0;32m--> 441\u001b[0;31m                 \u001b[0mcnx\u001b[0m\u001b[0;34m.\u001b[0m\u001b[0mdo_handshake\u001b[0m\u001b[0;34m(\u001b[0m\u001b[0;34m)\u001b[0m\u001b[0;34m\u001b[0m\u001b[0m\n\u001b[0m\u001b[1;32m    442\u001b[0m             \u001b[0;32mexcept\u001b[0m \u001b[0mOpenSSL\u001b[0m\u001b[0;34m.\u001b[0m\u001b[0mSSL\u001b[0m\u001b[0;34m.\u001b[0m\u001b[0mWantReadError\u001b[0m\u001b[0;34m:\u001b[0m\u001b[0;34m\u001b[0m\u001b[0m\n",
      "\u001b[0;32m~/anaconda3/lib/python3.6/site-packages/OpenSSL/SSL.py\u001b[0m in \u001b[0;36mdo_handshake\u001b[0;34m(self)\u001b[0m\n\u001b[1;32m   1805\u001b[0m         \u001b[0mresult\u001b[0m \u001b[0;34m=\u001b[0m \u001b[0m_lib\u001b[0m\u001b[0;34m.\u001b[0m\u001b[0mSSL_do_handshake\u001b[0m\u001b[0;34m(\u001b[0m\u001b[0mself\u001b[0m\u001b[0;34m.\u001b[0m\u001b[0m_ssl\u001b[0m\u001b[0;34m)\u001b[0m\u001b[0;34m\u001b[0m\u001b[0m\n\u001b[0;32m-> 1806\u001b[0;31m         \u001b[0mself\u001b[0m\u001b[0;34m.\u001b[0m\u001b[0m_raise_ssl_error\u001b[0m\u001b[0;34m(\u001b[0m\u001b[0mself\u001b[0m\u001b[0;34m.\u001b[0m\u001b[0m_ssl\u001b[0m\u001b[0;34m,\u001b[0m \u001b[0mresult\u001b[0m\u001b[0;34m)\u001b[0m\u001b[0;34m\u001b[0m\u001b[0m\n\u001b[0m\u001b[1;32m   1807\u001b[0m \u001b[0;34m\u001b[0m\u001b[0m\n",
      "\u001b[0;32m~/anaconda3/lib/python3.6/site-packages/OpenSSL/SSL.py\u001b[0m in \u001b[0;36m_raise_ssl_error\u001b[0;34m(self, ssl, result)\u001b[0m\n\u001b[1;32m   1537\u001b[0m                     \u001b[0;32mif\u001b[0m \u001b[0merrno\u001b[0m \u001b[0;34m!=\u001b[0m \u001b[0;36m0\u001b[0m\u001b[0;34m:\u001b[0m\u001b[0;34m\u001b[0m\u001b[0m\n\u001b[0;32m-> 1538\u001b[0;31m                         \u001b[0;32mraise\u001b[0m \u001b[0mSysCallError\u001b[0m\u001b[0;34m(\u001b[0m\u001b[0merrno\u001b[0m\u001b[0;34m,\u001b[0m \u001b[0merrorcode\u001b[0m\u001b[0;34m.\u001b[0m\u001b[0mget\u001b[0m\u001b[0;34m(\u001b[0m\u001b[0merrno\u001b[0m\u001b[0;34m)\u001b[0m\u001b[0;34m)\u001b[0m\u001b[0;34m\u001b[0m\u001b[0m\n\u001b[0m\u001b[1;32m   1539\u001b[0m                 \u001b[0;32mraise\u001b[0m \u001b[0mSysCallError\u001b[0m\u001b[0;34m(\u001b[0m\u001b[0;34m-\u001b[0m\u001b[0;36m1\u001b[0m\u001b[0;34m,\u001b[0m \u001b[0;34m\"Unexpected EOF\"\u001b[0m\u001b[0;34m)\u001b[0m\u001b[0;34m\u001b[0m\u001b[0m\n",
      "\u001b[0;31mSysCallError\u001b[0m: (54, 'ECONNRESET')",
      "\nDuring handling of the above exception, another exception occurred:\n",
      "\u001b[0;31mSSLError\u001b[0m                                  Traceback (most recent call last)",
      "\u001b[0;32m~/anaconda3/lib/python3.6/site-packages/urllib3/connectionpool.py\u001b[0m in \u001b[0;36murlopen\u001b[0;34m(self, method, url, body, headers, retries, redirect, assert_same_host, timeout, pool_timeout, release_conn, chunked, body_pos, **response_kw)\u001b[0m\n\u001b[1;32m    600\u001b[0m                                                   \u001b[0mbody\u001b[0m\u001b[0;34m=\u001b[0m\u001b[0mbody\u001b[0m\u001b[0;34m,\u001b[0m \u001b[0mheaders\u001b[0m\u001b[0;34m=\u001b[0m\u001b[0mheaders\u001b[0m\u001b[0;34m,\u001b[0m\u001b[0;34m\u001b[0m\u001b[0m\n\u001b[0;32m--> 601\u001b[0;31m                                                   chunked=chunked)\n\u001b[0m\u001b[1;32m    602\u001b[0m \u001b[0;34m\u001b[0m\u001b[0m\n",
      "\u001b[0;32m~/anaconda3/lib/python3.6/site-packages/urllib3/connectionpool.py\u001b[0m in \u001b[0;36m_make_request\u001b[0;34m(self, conn, method, url, timeout, chunked, **httplib_request_kw)\u001b[0m\n\u001b[1;32m    345\u001b[0m         \u001b[0;32mtry\u001b[0m\u001b[0;34m:\u001b[0m\u001b[0;34m\u001b[0m\u001b[0m\n\u001b[0;32m--> 346\u001b[0;31m             \u001b[0mself\u001b[0m\u001b[0;34m.\u001b[0m\u001b[0m_validate_conn\u001b[0m\u001b[0;34m(\u001b[0m\u001b[0mconn\u001b[0m\u001b[0;34m)\u001b[0m\u001b[0;34m\u001b[0m\u001b[0m\n\u001b[0m\u001b[1;32m    347\u001b[0m         \u001b[0;32mexcept\u001b[0m \u001b[0;34m(\u001b[0m\u001b[0mSocketTimeout\u001b[0m\u001b[0;34m,\u001b[0m \u001b[0mBaseSSLError\u001b[0m\u001b[0;34m)\u001b[0m \u001b[0;32mas\u001b[0m \u001b[0me\u001b[0m\u001b[0;34m:\u001b[0m\u001b[0;34m\u001b[0m\u001b[0m\n",
      "\u001b[0;32m~/anaconda3/lib/python3.6/site-packages/urllib3/connectionpool.py\u001b[0m in \u001b[0;36m_validate_conn\u001b[0;34m(self, conn)\u001b[0m\n\u001b[1;32m    849\u001b[0m         \u001b[0;32mif\u001b[0m \u001b[0;32mnot\u001b[0m \u001b[0mgetattr\u001b[0m\u001b[0;34m(\u001b[0m\u001b[0mconn\u001b[0m\u001b[0;34m,\u001b[0m \u001b[0;34m'sock'\u001b[0m\u001b[0;34m,\u001b[0m \u001b[0;32mNone\u001b[0m\u001b[0;34m)\u001b[0m\u001b[0;34m:\u001b[0m  \u001b[0;31m# AppEngine might not have  `.sock`\u001b[0m\u001b[0;34m\u001b[0m\u001b[0m\n\u001b[0;32m--> 850\u001b[0;31m             \u001b[0mconn\u001b[0m\u001b[0;34m.\u001b[0m\u001b[0mconnect\u001b[0m\u001b[0;34m(\u001b[0m\u001b[0;34m)\u001b[0m\u001b[0;34m\u001b[0m\u001b[0m\n\u001b[0m\u001b[1;32m    851\u001b[0m \u001b[0;34m\u001b[0m\u001b[0m\n",
      "\u001b[0;32m~/anaconda3/lib/python3.6/site-packages/urllib3/connection.py\u001b[0m in \u001b[0;36mconnect\u001b[0;34m(self)\u001b[0m\n\u001b[1;32m    325\u001b[0m             \u001b[0mserver_hostname\u001b[0m\u001b[0;34m=\u001b[0m\u001b[0mhostname\u001b[0m\u001b[0;34m,\u001b[0m\u001b[0;34m\u001b[0m\u001b[0m\n\u001b[0;32m--> 326\u001b[0;31m             ssl_context=context)\n\u001b[0m\u001b[1;32m    327\u001b[0m \u001b[0;34m\u001b[0m\u001b[0m\n",
      "\u001b[0;32m~/anaconda3/lib/python3.6/site-packages/urllib3/util/ssl_.py\u001b[0m in \u001b[0;36mssl_wrap_socket\u001b[0;34m(sock, keyfile, certfile, cert_reqs, ca_certs, server_hostname, ssl_version, ciphers, ssl_context, ca_cert_dir)\u001b[0m\n\u001b[1;32m    328\u001b[0m     \u001b[0;32mif\u001b[0m \u001b[0mHAS_SNI\u001b[0m\u001b[0;34m:\u001b[0m  \u001b[0;31m# Platform-specific: OpenSSL with enabled SNI\u001b[0m\u001b[0;34m\u001b[0m\u001b[0m\n\u001b[0;32m--> 329\u001b[0;31m         \u001b[0;32mreturn\u001b[0m \u001b[0mcontext\u001b[0m\u001b[0;34m.\u001b[0m\u001b[0mwrap_socket\u001b[0m\u001b[0;34m(\u001b[0m\u001b[0msock\u001b[0m\u001b[0;34m,\u001b[0m \u001b[0mserver_hostname\u001b[0m\u001b[0;34m=\u001b[0m\u001b[0mserver_hostname\u001b[0m\u001b[0;34m)\u001b[0m\u001b[0;34m\u001b[0m\u001b[0m\n\u001b[0m\u001b[1;32m    330\u001b[0m \u001b[0;34m\u001b[0m\u001b[0m\n",
      "\u001b[0;32m~/anaconda3/lib/python3.6/site-packages/urllib3/contrib/pyopenssl.py\u001b[0m in \u001b[0;36mwrap_socket\u001b[0;34m(self, sock, server_side, do_handshake_on_connect, suppress_ragged_eofs, server_hostname)\u001b[0m\n\u001b[1;32m    447\u001b[0m             \u001b[0;32mexcept\u001b[0m \u001b[0mOpenSSL\u001b[0m\u001b[0;34m.\u001b[0m\u001b[0mSSL\u001b[0m\u001b[0;34m.\u001b[0m\u001b[0mError\u001b[0m \u001b[0;32mas\u001b[0m \u001b[0me\u001b[0m\u001b[0;34m:\u001b[0m\u001b[0;34m\u001b[0m\u001b[0m\n\u001b[0;32m--> 448\u001b[0;31m                 \u001b[0;32mraise\u001b[0m \u001b[0mssl\u001b[0m\u001b[0;34m.\u001b[0m\u001b[0mSSLError\u001b[0m\u001b[0;34m(\u001b[0m\u001b[0;34m'bad handshake: %r'\u001b[0m \u001b[0;34m%\u001b[0m \u001b[0me\u001b[0m\u001b[0;34m)\u001b[0m\u001b[0;34m\u001b[0m\u001b[0m\n\u001b[0m\u001b[1;32m    449\u001b[0m             \u001b[0;32mbreak\u001b[0m\u001b[0;34m\u001b[0m\u001b[0m\n",
      "\u001b[0;31mSSLError\u001b[0m: (\"bad handshake: SysCallError(54, 'ECONNRESET')\",)",
      "\nDuring handling of the above exception, another exception occurred:\n",
      "\u001b[0;31mMaxRetryError\u001b[0m                             Traceback (most recent call last)",
      "\u001b[0;32m~/anaconda3/lib/python3.6/site-packages/requests/adapters.py\u001b[0m in \u001b[0;36msend\u001b[0;34m(self, request, stream, timeout, verify, cert, proxies)\u001b[0m\n\u001b[1;32m    439\u001b[0m                     \u001b[0mretries\u001b[0m\u001b[0;34m=\u001b[0m\u001b[0mself\u001b[0m\u001b[0;34m.\u001b[0m\u001b[0mmax_retries\u001b[0m\u001b[0;34m,\u001b[0m\u001b[0;34m\u001b[0m\u001b[0m\n\u001b[0;32m--> 440\u001b[0;31m                     \u001b[0mtimeout\u001b[0m\u001b[0;34m=\u001b[0m\u001b[0mtimeout\u001b[0m\u001b[0;34m\u001b[0m\u001b[0m\n\u001b[0m\u001b[1;32m    441\u001b[0m                 )\n",
      "\u001b[0;32m~/anaconda3/lib/python3.6/site-packages/urllib3/connectionpool.py\u001b[0m in \u001b[0;36murlopen\u001b[0;34m(self, method, url, body, headers, retries, redirect, assert_same_host, timeout, pool_timeout, release_conn, chunked, body_pos, **response_kw)\u001b[0m\n\u001b[1;32m    638\u001b[0m             retries = retries.increment(method, url, error=e, _pool=self,\n\u001b[0;32m--> 639\u001b[0;31m                                         _stacktrace=sys.exc_info()[2])\n\u001b[0m\u001b[1;32m    640\u001b[0m             \u001b[0mretries\u001b[0m\u001b[0;34m.\u001b[0m\u001b[0msleep\u001b[0m\u001b[0;34m(\u001b[0m\u001b[0;34m)\u001b[0m\u001b[0;34m\u001b[0m\u001b[0m\n",
      "\u001b[0;32m~/anaconda3/lib/python3.6/site-packages/urllib3/util/retry.py\u001b[0m in \u001b[0;36mincrement\u001b[0;34m(self, method, url, response, error, _pool, _stacktrace)\u001b[0m\n\u001b[1;32m    387\u001b[0m         \u001b[0;32mif\u001b[0m \u001b[0mnew_retry\u001b[0m\u001b[0;34m.\u001b[0m\u001b[0mis_exhausted\u001b[0m\u001b[0;34m(\u001b[0m\u001b[0;34m)\u001b[0m\u001b[0;34m:\u001b[0m\u001b[0;34m\u001b[0m\u001b[0m\n\u001b[0;32m--> 388\u001b[0;31m             \u001b[0;32mraise\u001b[0m \u001b[0mMaxRetryError\u001b[0m\u001b[0;34m(\u001b[0m\u001b[0m_pool\u001b[0m\u001b[0;34m,\u001b[0m \u001b[0murl\u001b[0m\u001b[0;34m,\u001b[0m \u001b[0merror\u001b[0m \u001b[0;32mor\u001b[0m \u001b[0mResponseError\u001b[0m\u001b[0;34m(\u001b[0m\u001b[0mcause\u001b[0m\u001b[0;34m)\u001b[0m\u001b[0;34m)\u001b[0m\u001b[0;34m\u001b[0m\u001b[0m\n\u001b[0m\u001b[1;32m    389\u001b[0m \u001b[0;34m\u001b[0m\u001b[0m\n",
      "\u001b[0;31mMaxRetryError\u001b[0m: HTTPSConnectionPool(host='app.dimensions.ai', port=443): Max retries exceeded with url: /api/auth.json (Caused by SSLError(SSLError(\"bad handshake: SysCallError(54, 'ECONNRESET')\",),))",
      "\nDuring handling of the above exception, another exception occurred:\n",
      "\u001b[0;31mSSLError\u001b[0m                                  Traceback (most recent call last)",
      "\u001b[0;32m<ipython-input-21-4e0057d7b98d>\u001b[0m in \u001b[0;36m<module>\u001b[0;34m()\u001b[0m\n\u001b[1;32m      1\u001b[0m \u001b[0mstring\u001b[0m \u001b[0;34m=\u001b[0m \u001b[0;34m\"search publications where researchers.id in [{}]\"\u001b[0m\u001b[0;34m\u001b[0m\u001b[0m\n\u001b[1;32m      2\u001b[0m \u001b[0mstring\u001b[0m \u001b[0;34m+=\u001b[0m \u001b[0;34m\" return publications[id+researchers+date+doi+supporting_grant_ids+times_cited+RCDC]\"\u001b[0m\u001b[0;34m\u001b[0m\u001b[0m\n\u001b[0;32m----> 3\u001b[0;31m \u001b[0mfull_resp\u001b[0m \u001b[0;34m=\u001b[0m \u001b[0mpull_data\u001b[0m\u001b[0;34m(\u001b[0m\u001b[0mstring\u001b[0m\u001b[0;34m=\u001b[0m\u001b[0mstring\u001b[0m\u001b[0;34m,\u001b[0m \u001b[0min_list\u001b[0m\u001b[0;34m=\u001b[0m\u001b[0mrsrs\u001b[0m\u001b[0;34m,\u001b[0m \u001b[0min_type\u001b[0m\u001b[0;34m=\u001b[0m\u001b[0;34m'researchers'\u001b[0m\u001b[0;34m,\u001b[0m \u001b[0mreturn_type\u001b[0m\u001b[0;34m=\u001b[0m\u001b[0;34m'publications'\u001b[0m\u001b[0;34m)\u001b[0m\u001b[0;34m\u001b[0m\u001b[0m\n\u001b[0m",
      "\u001b[0;32m<ipython-input-16-6c0de24aa141>\u001b[0m in \u001b[0;36mpull_data\u001b[0;34m(string, in_list, in_type, return_type, max_in_items, max_return, max_overall_returns)\u001b[0m\n\u001b[1;32m     16\u001b[0m         \u001b[0;32mwhile\u001b[0m \u001b[0mloop\u001b[0m \u001b[0;34m==\u001b[0m \u001b[0;32mTrue\u001b[0m\u001b[0;34m:\u001b[0m\u001b[0;34m\u001b[0m\u001b[0m\n\u001b[1;32m     17\u001b[0m             \u001b[0mquery_t\u001b[0m \u001b[0;34m=\u001b[0m \u001b[0mquery\u001b[0m \u001b[0;34m+\u001b[0m \u001b[0;34m\" limit {} skip {}\"\u001b[0m\u001b[0;34m.\u001b[0m\u001b[0mformat\u001b[0m\u001b[0;34m(\u001b[0m\u001b[0mmax_return\u001b[0m\u001b[0;34m,\u001b[0m \u001b[0mmax_return\u001b[0m\u001b[0;34m*\u001b[0m\u001b[0mj\u001b[0m\u001b[0;34m)\u001b[0m\u001b[0;34m\u001b[0m\u001b[0m\n\u001b[0;32m---> 18\u001b[0;31m             \u001b[0mresp\u001b[0m \u001b[0;34m=\u001b[0m \u001b[0mexecute_query\u001b[0m\u001b[0;34m(\u001b[0m\u001b[0mquery_t\u001b[0m\u001b[0;34m)\u001b[0m\u001b[0;34m\u001b[0m\u001b[0m\n\u001b[0m\u001b[1;32m     19\u001b[0m             \u001b[0;32mif\u001b[0m \u001b[0mresp\u001b[0m \u001b[0;34m==\u001b[0m \u001b[0;34m\"RESPONSE ERROR\"\u001b[0m\u001b[0;34m:\u001b[0m\u001b[0;34m\u001b[0m\u001b[0m\n\u001b[1;32m     20\u001b[0m                 \u001b[0mprint\u001b[0m\u001b[0;34m(\u001b[0m\u001b[0;34m\"\\nRESPONSE ERROR on i={} and j={}.\\n\"\u001b[0m\u001b[0;34m.\u001b[0m\u001b[0mformat\u001b[0m\u001b[0;34m(\u001b[0m\u001b[0mi\u001b[0m\u001b[0;34m,\u001b[0m \u001b[0mj\u001b[0m\u001b[0;34m)\u001b[0m\u001b[0;34m)\u001b[0m\u001b[0;34m\u001b[0m\u001b[0m\n",
      "\u001b[0;32m<ipython-input-14-b46254109f11>\u001b[0m in \u001b[0;36mexecute_query\u001b[0;34m(string)\u001b[0m\n\u001b[1;32m      1\u001b[0m \u001b[0;32mdef\u001b[0m \u001b[0mexecute_query\u001b[0m\u001b[0;34m(\u001b[0m\u001b[0mstring\u001b[0m\u001b[0;34m)\u001b[0m\u001b[0;34m:\u001b[0m\u001b[0;34m\u001b[0m\u001b[0m\n\u001b[1;32m      2\u001b[0m     \u001b[0;31m# Send credentials to login url to retrieve token.\u001b[0m\u001b[0;34m\u001b[0m\u001b[0;34m\u001b[0m\u001b[0m\n\u001b[0;32m----> 3\u001b[0;31m     \u001b[0mresp\u001b[0m \u001b[0;34m=\u001b[0m \u001b[0mrequests\u001b[0m\u001b[0;34m.\u001b[0m\u001b[0mpost\u001b[0m\u001b[0;34m(\u001b[0m\u001b[0;34m'https://app.dimensions.ai/api/auth.json'\u001b[0m\u001b[0;34m,\u001b[0m \u001b[0mjson\u001b[0m\u001b[0;34m=\u001b[0m\u001b[0mlogin\u001b[0m\u001b[0;34m)\u001b[0m\u001b[0;34m\u001b[0m\u001b[0m\n\u001b[0m\u001b[1;32m      4\u001b[0m     \u001b[0mresp\u001b[0m\u001b[0;34m.\u001b[0m\u001b[0mraise_for_status\u001b[0m\u001b[0;34m(\u001b[0m\u001b[0;34m)\u001b[0m\u001b[0;34m\u001b[0m\u001b[0m\n\u001b[1;32m      5\u001b[0m \u001b[0;34m\u001b[0m\u001b[0m\n",
      "\u001b[0;32m~/anaconda3/lib/python3.6/site-packages/requests/api.py\u001b[0m in \u001b[0;36mpost\u001b[0;34m(url, data, json, **kwargs)\u001b[0m\n\u001b[1;32m    110\u001b[0m     \"\"\"\n\u001b[1;32m    111\u001b[0m \u001b[0;34m\u001b[0m\u001b[0m\n\u001b[0;32m--> 112\u001b[0;31m     \u001b[0;32mreturn\u001b[0m \u001b[0mrequest\u001b[0m\u001b[0;34m(\u001b[0m\u001b[0;34m'post'\u001b[0m\u001b[0;34m,\u001b[0m \u001b[0murl\u001b[0m\u001b[0;34m,\u001b[0m \u001b[0mdata\u001b[0m\u001b[0;34m=\u001b[0m\u001b[0mdata\u001b[0m\u001b[0;34m,\u001b[0m \u001b[0mjson\u001b[0m\u001b[0;34m=\u001b[0m\u001b[0mjson\u001b[0m\u001b[0;34m,\u001b[0m \u001b[0;34m**\u001b[0m\u001b[0mkwargs\u001b[0m\u001b[0;34m)\u001b[0m\u001b[0;34m\u001b[0m\u001b[0m\n\u001b[0m\u001b[1;32m    113\u001b[0m \u001b[0;34m\u001b[0m\u001b[0m\n\u001b[1;32m    114\u001b[0m \u001b[0;34m\u001b[0m\u001b[0m\n",
      "\u001b[0;32m~/anaconda3/lib/python3.6/site-packages/requests/api.py\u001b[0m in \u001b[0;36mrequest\u001b[0;34m(method, url, **kwargs)\u001b[0m\n\u001b[1;32m     56\u001b[0m     \u001b[0;31m# cases, and look like a memory leak in others.\u001b[0m\u001b[0;34m\u001b[0m\u001b[0;34m\u001b[0m\u001b[0m\n\u001b[1;32m     57\u001b[0m     \u001b[0;32mwith\u001b[0m \u001b[0msessions\u001b[0m\u001b[0;34m.\u001b[0m\u001b[0mSession\u001b[0m\u001b[0;34m(\u001b[0m\u001b[0;34m)\u001b[0m \u001b[0;32mas\u001b[0m \u001b[0msession\u001b[0m\u001b[0;34m:\u001b[0m\u001b[0;34m\u001b[0m\u001b[0m\n\u001b[0;32m---> 58\u001b[0;31m         \u001b[0;32mreturn\u001b[0m \u001b[0msession\u001b[0m\u001b[0;34m.\u001b[0m\u001b[0mrequest\u001b[0m\u001b[0;34m(\u001b[0m\u001b[0mmethod\u001b[0m\u001b[0;34m=\u001b[0m\u001b[0mmethod\u001b[0m\u001b[0;34m,\u001b[0m \u001b[0murl\u001b[0m\u001b[0;34m=\u001b[0m\u001b[0murl\u001b[0m\u001b[0;34m,\u001b[0m \u001b[0;34m**\u001b[0m\u001b[0mkwargs\u001b[0m\u001b[0;34m)\u001b[0m\u001b[0;34m\u001b[0m\u001b[0m\n\u001b[0m\u001b[1;32m     59\u001b[0m \u001b[0;34m\u001b[0m\u001b[0m\n\u001b[1;32m     60\u001b[0m \u001b[0;34m\u001b[0m\u001b[0m\n",
      "\u001b[0;32m~/anaconda3/lib/python3.6/site-packages/requests/sessions.py\u001b[0m in \u001b[0;36mrequest\u001b[0;34m(self, method, url, params, data, headers, cookies, files, auth, timeout, allow_redirects, proxies, hooks, stream, verify, cert, json)\u001b[0m\n\u001b[1;32m    506\u001b[0m         }\n\u001b[1;32m    507\u001b[0m         \u001b[0msend_kwargs\u001b[0m\u001b[0;34m.\u001b[0m\u001b[0mupdate\u001b[0m\u001b[0;34m(\u001b[0m\u001b[0msettings\u001b[0m\u001b[0;34m)\u001b[0m\u001b[0;34m\u001b[0m\u001b[0m\n\u001b[0;32m--> 508\u001b[0;31m         \u001b[0mresp\u001b[0m \u001b[0;34m=\u001b[0m \u001b[0mself\u001b[0m\u001b[0;34m.\u001b[0m\u001b[0msend\u001b[0m\u001b[0;34m(\u001b[0m\u001b[0mprep\u001b[0m\u001b[0;34m,\u001b[0m \u001b[0;34m**\u001b[0m\u001b[0msend_kwargs\u001b[0m\u001b[0;34m)\u001b[0m\u001b[0;34m\u001b[0m\u001b[0m\n\u001b[0m\u001b[1;32m    509\u001b[0m \u001b[0;34m\u001b[0m\u001b[0m\n\u001b[1;32m    510\u001b[0m         \u001b[0;32mreturn\u001b[0m \u001b[0mresp\u001b[0m\u001b[0;34m\u001b[0m\u001b[0m\n",
      "\u001b[0;32m~/anaconda3/lib/python3.6/site-packages/requests/sessions.py\u001b[0m in \u001b[0;36msend\u001b[0;34m(self, request, **kwargs)\u001b[0m\n\u001b[1;32m    616\u001b[0m \u001b[0;34m\u001b[0m\u001b[0m\n\u001b[1;32m    617\u001b[0m         \u001b[0;31m# Send the request\u001b[0m\u001b[0;34m\u001b[0m\u001b[0;34m\u001b[0m\u001b[0m\n\u001b[0;32m--> 618\u001b[0;31m         \u001b[0mr\u001b[0m \u001b[0;34m=\u001b[0m \u001b[0madapter\u001b[0m\u001b[0;34m.\u001b[0m\u001b[0msend\u001b[0m\u001b[0;34m(\u001b[0m\u001b[0mrequest\u001b[0m\u001b[0;34m,\u001b[0m \u001b[0;34m**\u001b[0m\u001b[0mkwargs\u001b[0m\u001b[0;34m)\u001b[0m\u001b[0;34m\u001b[0m\u001b[0m\n\u001b[0m\u001b[1;32m    619\u001b[0m \u001b[0;34m\u001b[0m\u001b[0m\n\u001b[1;32m    620\u001b[0m         \u001b[0;31m# Total elapsed time of the request (approximately)\u001b[0m\u001b[0;34m\u001b[0m\u001b[0;34m\u001b[0m\u001b[0m\n",
      "\u001b[0;32m~/anaconda3/lib/python3.6/site-packages/requests/adapters.py\u001b[0m in \u001b[0;36msend\u001b[0;34m(self, request, stream, timeout, verify, cert, proxies)\u001b[0m\n\u001b[1;32m    504\u001b[0m             \u001b[0;32mif\u001b[0m \u001b[0misinstance\u001b[0m\u001b[0;34m(\u001b[0m\u001b[0me\u001b[0m\u001b[0;34m.\u001b[0m\u001b[0mreason\u001b[0m\u001b[0;34m,\u001b[0m \u001b[0m_SSLError\u001b[0m\u001b[0;34m)\u001b[0m\u001b[0;34m:\u001b[0m\u001b[0;34m\u001b[0m\u001b[0m\n\u001b[1;32m    505\u001b[0m                 \u001b[0;31m# This branch is for urllib3 v1.22 and later.\u001b[0m\u001b[0;34m\u001b[0m\u001b[0;34m\u001b[0m\u001b[0m\n\u001b[0;32m--> 506\u001b[0;31m                 \u001b[0;32mraise\u001b[0m \u001b[0mSSLError\u001b[0m\u001b[0;34m(\u001b[0m\u001b[0me\u001b[0m\u001b[0;34m,\u001b[0m \u001b[0mrequest\u001b[0m\u001b[0;34m=\u001b[0m\u001b[0mrequest\u001b[0m\u001b[0;34m)\u001b[0m\u001b[0;34m\u001b[0m\u001b[0m\n\u001b[0m\u001b[1;32m    507\u001b[0m \u001b[0;34m\u001b[0m\u001b[0m\n\u001b[1;32m    508\u001b[0m             \u001b[0;32mraise\u001b[0m \u001b[0mConnectionError\u001b[0m\u001b[0;34m(\u001b[0m\u001b[0me\u001b[0m\u001b[0;34m,\u001b[0m \u001b[0mrequest\u001b[0m\u001b[0;34m=\u001b[0m\u001b[0mrequest\u001b[0m\u001b[0;34m)\u001b[0m\u001b[0;34m\u001b[0m\u001b[0m\n",
      "\u001b[0;31mSSLError\u001b[0m: HTTPSConnectionPool(host='app.dimensions.ai', port=443): Max retries exceeded with url: /api/auth.json (Caused by SSLError(SSLError(\"bad handshake: SysCallError(54, 'ECONNRESET')\",),))"
     ]
    }
   ],
   "source": [
    "string = \"search publications where researchers.id in [{}]\"\n",
    "string += \" return publications[id+researchers+date+doi+supporting_grant_ids+times_cited+RCDC]\"\n",
    "full_resp = pull_data(string=string, in_list=rsrs, in_type='researchers', return_type='publications')"
   ]
  },
  {
   "cell_type": "code",
   "execution_count": null,
   "metadata": {},
   "outputs": [],
   "source": [
    "pubs = parse_publication(full_resp)\n",
    "pubs = pubs.drop_duplicates().reset_index(drop=True)"
   ]
  },
  {
   "cell_type": "code",
   "execution_count": null,
   "metadata": {},
   "outputs": [],
   "source": [
    "pubs.describe(include='all')"
   ]
  },
  {
   "cell_type": "code",
   "execution_count": null,
   "metadata": {},
   "outputs": [],
   "source": [
    "pubs.to_csv('../data/counterfactual/counterfactual_researcher_publications.csv', index=False)"
   ]
  },
  {
   "cell_type": "markdown",
   "metadata": {},
   "source": [
    "## Sandbox"
   ]
  },
  {
   "cell_type": "code",
   "execution_count": 97,
   "metadata": {
    "scrolled": false
   },
   "outputs": [],
   "source": [
    "import requests\n",
    "\n",
    "#   The credentials to be used\n",
    "login = {\n",
    "    'username': 'nj995@nyu.edu',\n",
    "    'password': password\n",
    "}\n",
    "\n",
    "#   Send credentials to login url to retrieve token. Raise\n",
    "#   an error, if the return code indicates a problem.\n",
    "#   Please use the URL of the system you'd like to access the API\n",
    "#   in the example below.\n",
    "resp = requests.post('https://app.dimensions.ai/api/auth.json', json=login)\n",
    "resp.raise_for_status()\n",
    "\n",
    "#   Create http header using the generated token.\n",
    "headers = {\n",
    "    'Authorization': \"JWT \" + resp.json()['token']\n",
    "}\n",
    "\n",
    "\n",
    "string = 'search publications where researchers.id in [\"ur.01202737463.96\", \"ur.015674223332.58\", \"ur.013010145372.31\", \"ur.011313360332.51\", \"ur.01141226360.54\", \"ur.01112156155.34\", \"ur.0605030736.29\", \"ur.014301262332.40\", \"ur.0600074022.23\", \"ur.01156201704.01\", \"ur.01353745746.59\", \"ur.0604131004.05\", \"ur.0751761400.00\", \"ur.01015475066.34\", \"ur.01261146267.06\", \"ur.0711513572.31\", \"ur.0772354011.41\", \"ur.01014205075.45\", \"ur.01105337344.26\", \"ur.01256356077.11\", \"ur.01152212773.18\", \"ur.011402350541.85\", \"ur.010371661517.51\", \"ur.0672152455.86\", \"ur.0732472611.02\", \"ur.01116371135.90\", \"ur.01345516513.05\", \"ur.01064544102.71\", \"ur.0724620037.24\", \"ur.014251473547.60\", \"ur.01007427161.08\", \"ur.01236422707.67\", \"ur.01054322061.75\", \"ur.01305325772.60\", \"ur.013640560135.92\", \"ur.0777742233.90\", \"ur.013765300377.32\", \"ur.0666436611.32\", \"ur.01005132353.24\", \"ur.01247326511.02\", \"ur.0764171720.06\", \"ur.01203545107.19\", \"ur.0644467574.15\", \"ur.0760330620.74\", \"ur.01217272123.47\", \"ur.01177604614.47\", \"ur.015402573057.95\", \"ur.0673414137.91\", \"ur.01314074042.08\", \"ur.01316543003.47\", \"ur.0735524505.51\", \"ur.013237704577.12\", \"ur.0713342226.14\", \"ur.01332331073.28\", \"ur.0636726033.44\", \"ur.014135501347.25\", \"ur.01066132744.05\", \"ur.0747742220.33\", \"ur.01105375745.68\", \"ur.01024221070.23\", \"ur.0614762647.80\", \"ur.01177033022.74\", \"ur.01367601343.61\", \"ur.0631021217.43\", \"ur.01222740527.10\", \"ur.01306134155.52\", \"ur.0676201107.20\", \"ur.0620754753.04\", \"ur.0611157352.25\", \"ur.01152551730.11\", \"ur.01137652666.28\", \"ur.01356062255.31\", \"ur.01327063407.67\", \"ur.0657272552.37\", \"ur.014344631152.09\", \"ur.010131650267.18\", \"ur.0617234032.33\", \"ur.011275031217.12\", \"ur.01005154541.22\", \"ur.011436500207.26\", \"ur.01325041140.60\", \"ur.0651202231.24\", \"ur.01200371710.83\", \"ur.0626772374.33\", \"ur.07462720232.71\", \"ur.011650443431.18\", \"ur.01162310775.46\", \"ur.01006303753.26\", \"ur.01161510677.60\", \"ur.0641135726.40\", \"ur.01054264565.20\", \"ur.01301043554.11\", \"ur.0714770166.98\", \"ur.0742737707.24\", \"ur.01323024461.91\", \"ur.01054277520.73\", \"ur.0606644173.97\", \"ur.010460364674.11\", \"ur.01321750743.70\", \"ur.01311723006.34\", \"ur.0737601773.45\", \"ur.0737707452.39\", \"ur.01240467104.91\", \"ur.01306204206.71\", \"ur.01053465175.96\", \"ur.013613621777.30\", \"ur.01165147003.72\", \"ur.015214035357.43\", \"ur.012607214677.06\", \"ur.0627545135.27\", \"ur.0737550317.08\", \"ur.0733327250.37\", \"ur.01162111326.55\", \"ur.01122514433.47\", \"ur.01342300235.56\", \"ur.0757064066.46\", \"ur.016170013305.12\", \"ur.014210055537.45\", \"ur.01117075632.95\", \"ur.0576012305.16\", \"ur.0653312607.36\", \"ur.012706321057.78\", \"ur.01155232405.71\", \"ur.01366501232.37\", \"ur.01051150324.42\", \"ur.0760217130.82\", \"ur.01117465373.03\", \"ur.01312141733.72\", \"ur.0732625222.53\", \"ur.01072746376.40\", \"ur.01154461541.62\", \"ur.011062775537.73\", \"ur.01000615241.08\", \"ur.01016023671.74\", \"ur.01335506047.63\", \"ur.01173223632.99\", \"ur.012404244027.38\", \"ur.01036361256.24\", \"ur.01257242276.14\", \"ur.0731677142.47\", \"ur.01162104421.14\", \"ur.01173124211.89\", \"ur.01212722003.04\", \"ur.01314252321.11\", \"ur.0627174752.40\", \"ur.01051272131.44\", \"ur.01265573603.85\", \"ur.01355341014.38\", \"ur.015651250037.98\", \"ur.01221150143.06\", \"ur.013773340007.18\", \"ur.016157562137.30\", \"ur.01033627435.43\", \"ur.0575614052.26\", \"ur.0674066744.08\", \"ur.01345753154.94\", \"ur.01024724414.35\", \"ur.01036302714.52\", \"ur.01151576226.01\", \"ur.01370235414.07\", \"ur.0667714372.65\", \"ur.013111646177.43\", \"ur.01106612172.87\", \"ur.0734763244.08\", \"ur.0617760334.42\", \"ur.0777715440.15\", \"ur.01205717204.52\", \"ur.01322145604.54\", \"ur.01303264045.28\", \"ur.0674367554.40\", \"ur.01036476201.15\", \"ur.0732003253.57\", \"ur.01343474566.01\", \"ur.01261475636.05\", \"ur.011105234537.67\", \"ur.01342355762.29\", \"ur.01314172663.75\", \"ur.01040302023.28\", \"ur.0773432270.25\", \"ur.01001013200.18\", \"ur.01301442767.61\", \"ur.055716301.40\", \"ur.0701011757.22\", \"ur.01035174633.79\", \"ur.0634230053.54\", \"ur.0670205103.94\", \"ur.016564157752.80\", \"ur.014755714717.38\", \"ur.01261654265.12\", \"ur.01273465550.17\", \"ur.01320526713.47\", \"ur.01176711510.97\", \"ur.0761406544.55\", \"ur.011675057424.25\", \"ur.01045144766.67\", \"ur.01351460210.76\", \"ur.0636701477.86\", \"ur.0577057764.60\", \"ur.01075301637.18\", \"ur.01126153450.53\", \"ur.0756442603.68\", \"ur.01333255235.11\", \"ur.0745271445.97\", \"ur.01361667651.18\", \"ur.01346675446.22\", \"ur.0603240061.97\", \"ur.0611763734.56\", \"ur.0672335566.45\", \"ur.01045660030.75\", \"ur.01012477034.17\", \"ur.01355745464.73\", \"ur.0754734542.52\", \"ur.01214473752.81\", \"ur.01224647022.55\", \"ur.0601227214.26\", \"ur.01170627620.60\", \"ur.01304723307.97\", \"ur.01303346104.21\", \"ur.0773300443.74\", \"ur.01131061052.70\", \"ur.011675663547.74\", \"ur.0657552271.41\", \"ur.01242574260.49\", \"ur.01122614676.52\", \"ur.01075424275.69\", \"ur.01012225354.94\", \"ur.015001266322.20\", \"ur.01350551144.97\", \"ur.0663550706.74\", \"ur.01322660063.23\", \"ur.0744336325.10\", \"ur.01314621607.24\", \"ur.01255100412.07\", \"ur.0655145416.09\", \"ur.01236415450.50\", \"ur.01120775141.31\", \"ur.01241555620.25\", \"ur.01202316744.36\", \"ur.01250302263.06\", \"ur.0666244325.76\", \"ur.0627014214.42\", \"ur.013072654327.44\", \"ur.0667575342.85\", \"ur.0630052062.43\", \"ur.0631633437.74\", \"ur.01160326560.69\", \"ur.01077675340.04\", \"ur.01250205034.43\", \"ur.016074256064.51\", \"ur.0603254777.44\"] return publications[id+researchers+date+doi+supporting_grant_ids+times_cited+RCDC] limit 1000 skip 7000'\n",
    "\n",
    "#   Execute DSL query.\n",
    "resp = requests.post(\n",
    "    'https://app.dimensions.ai/api/dsl.json',\n",
    "    data=string,\n",
    "    headers=headers)\n",
    "\n",
    "#   Display raw result\n",
    "# print(resp.json())"
   ]
  },
  {
   "cell_type": "code",
   "execution_count": 98,
   "metadata": {},
   "outputs": [
    {
     "data": {
      "text/plain": [
       "<Response [502]>"
      ]
     },
     "execution_count": 98,
     "metadata": {},
     "output_type": "execute_result"
    }
   ],
   "source": [
    "resp"
   ]
  },
  {
   "cell_type": "code",
   "execution_count": null,
   "metadata": {},
   "outputs": [],
   "source": []
  }
 ],
 "metadata": {
  "kernelspec": {
   "display_name": "Python 3",
   "language": "python",
   "name": "python3"
  },
  "language_info": {
   "codemirror_mode": {
    "name": "ipython",
    "version": 3
   },
   "file_extension": ".py",
   "mimetype": "text/x-python",
   "name": "python",
   "nbconvert_exporter": "python",
   "pygments_lexer": "ipython3",
   "version": "3.6.2"
  },
  "toc": {
   "nav_menu": {},
   "number_sections": false,
   "sideBar": true,
   "skip_h1_title": false,
   "title_cell": "Table of Contents",
   "title_sidebar": "Contents",
   "toc_cell": false,
   "toc_position": {
    "height": "calc(100% - 180px)",
    "left": "10px",
    "top": "150px",
    "width": "275px"
   },
   "toc_section_display": true,
   "toc_window_display": true
  }
 },
 "nbformat": 4,
 "nbformat_minor": 2
}
