{
 "cells": [
  {
   "cell_type": "markdown",
   "metadata": {},
   "source": [
    "# Counterfactual Group Identification"
   ]
  },
  {
   "cell_type": "markdown",
   "metadata": {},
   "source": [
    "## Python Setup"
   ]
  },
  {
   "cell_type": "code",
   "execution_count": 1,
   "metadata": {},
   "outputs": [],
   "source": [
    "import requests\n",
    "import time\n",
    "import pandas as pd\n",
    "pd.options.display.max_rows = 100\n",
    "import math\n",
    "import numpy as np\n",
    "from json import JSONDecodeError"
   ]
  },
  {
   "cell_type": "markdown",
   "metadata": {},
   "source": [
    "## Connecting to API"
   ]
  },
  {
   "cell_type": "markdown",
   "metadata": {},
   "source": [
    "For full documentation: https://docs.dimensions.ai/dsl/1.8.0/"
   ]
  },
  {
   "cell_type": "markdown",
   "metadata": {},
   "source": [
    "### Login Information"
   ]
  },
  {
   "cell_type": "markdown",
   "metadata": {},
   "source": [
    "Fetch my password from a separate .txt file:"
   ]
  },
  {
   "cell_type": "code",
   "execution_count": 2,
   "metadata": {},
   "outputs": [],
   "source": [
    "with open('../data/password.txt', 'r') as myfile:\n",
    "    password = myfile.read().strip()"
   ]
  },
  {
   "cell_type": "code",
   "execution_count": 3,
   "metadata": {},
   "outputs": [],
   "source": [
    "login = {\n",
    "    'username': 'nj995@nyu.edu',\n",
    "    'password': password\n",
    "}"
   ]
  },
  {
   "cell_type": "markdown",
   "metadata": {},
   "source": [
    "### API Parameters"
   ]
  },
  {
   "cell_type": "code",
   "execution_count": 4,
   "metadata": {},
   "outputs": [],
   "source": [
    "def execute_query(string):\n",
    "    # Send credentials to login url to retrieve token.\n",
    "    resp = requests.post('https://app.dimensions.ai/api/auth.json', json=login)\n",
    "    resp.raise_for_status()\n",
    "\n",
    "    # Create http header using the generated token.\n",
    "    headers = {'Authorization': \"JWT \" + resp.json()['token']}   \n",
    "    \n",
    "    # Execute DSL query.    \n",
    "    resp = requests.post('https://app.dimensions.ai/api/dsl.json', data=string, headers=headers)\n",
    "    \n",
    "    try:\n",
    "        resp = resp.json()\n",
    "    except JSONDecodeError:\n",
    "        resp = \"RESPONSE ERROR\"\n",
    "    \n",
    "    return resp"
   ]
  },
  {
   "cell_type": "code",
   "execution_count": 5,
   "metadata": {},
   "outputs": [],
   "source": [
    "# Filter operator 'in' requires 0 < items < 512\n",
    "max_in_items = 100\n",
    "\n",
    "# Limit exceeds maximum allowed limit 1000\n",
    "max_return = 500\n",
    "\n",
    "# Offset cannot exceed 50000\n",
    "max_overall_returns = 50000"
   ]
  },
  {
   "cell_type": "markdown",
   "metadata": {},
   "source": [
    "## Pulling Comparison Group Function"
   ]
  },
  {
   "cell_type": "code",
   "execution_count": 6,
   "metadata": {},
   "outputs": [],
   "source": [
    "def pull_data(string, in_list, in_type, return_type, \n",
    "              max_in_items=max_in_items, max_return=max_return, max_overall_returns=max_overall_returns):\n",
    "    \n",
    "    full_resp = []\n",
    "\n",
    "    for i in range(math.ceil(len(in_list)/max_in_items)):\n",
    "        min_i, max_i = i*max_in_items, min((i+1)*max_in_items, len(in_list))\n",
    "        print('Querying: {}-{}/{} {}...'.format(min_i, max_i, len(in_list), in_type), end = '\\r')\n",
    "\n",
    "        in_t = in_list[min_i:max_i]\n",
    "        string_t = \"\\\"\" + \"\\\", \\\"\".join(in_t) + \"\\\"\"\n",
    "        query = string.format(string_t)\n",
    "\n",
    "        j = 0\n",
    "        loop = True\n",
    "        while loop == True:\n",
    "            query_t = query + \" limit {} skip {}\".format(max_return, max_return*j)\n",
    "            resp = execute_query(query_t)\n",
    "            if resp == \"RESPONSE ERROR\":\n",
    "                print(\"\\nRESPONSE ERROR on i={} and j={}.\\n\".format(i, j))\n",
    "            else:\n",
    "                full_resp.extend(resp[return_type])\n",
    "\n",
    "                if len(resp[return_type])<max_return:\n",
    "                    loop = False\n",
    "            j += 1\n",
    "            \n",
    "            if max_return*(j+1)>max_overall_returns:\n",
    "                loop = False\n",
    "            \n",
    "            time.sleep(2)\n",
    "        \n",
    "        count = resp['_stats']['total_count']        \n",
    "        if resp['_stats']['total_count']>=max_overall_returns:\n",
    "            print(\"\\nATTENTION! {} {} overall, pulled only {}.\\n\".format(count, return_type, max_return*j-1))\n",
    "\n",
    "    print(\"\\nDone !\")\n",
    "        \n",
    "    return full_resp"
   ]
  },
  {
   "cell_type": "markdown",
   "metadata": {},
   "source": [
    "## Grant and Publication Parsing Function"
   ]
  },
  {
   "cell_type": "code",
   "execution_count": 7,
   "metadata": {},
   "outputs": [],
   "source": [
    "def parse_grant(full_resp):\n",
    "    rsr_id = []\n",
    "    grant_id = []\n",
    "    funder_name = []\n",
    "    funder_id = []\n",
    "    rcdc_codes = []\n",
    "    rcdc_names = []\n",
    "    start_dates = []\n",
    "    end_dates = []\n",
    "    funding_amount = []\n",
    "    for grant in full_resp:\n",
    "        if 'RCDC' not in grant:\n",
    "            grant['RCDC'] = [{'id':np.nan, 'name':np.nan}]\n",
    "        if 'researchers' not in grant:\n",
    "            grant['researchers'] = [{'id':np.nan}]\n",
    "        for researcher in grant['researchers']: \n",
    "            if 'id' not in researcher:\n",
    "                tmp = researcher\n",
    "                grant['researchers'].append({'id':tmp})\n",
    "        if 'start_date' not in grant:\n",
    "            grant['start_date'] = np.nan\n",
    "        if 'end_date' not in grant:\n",
    "            grant['end_date'] = np.nan\n",
    "        if 'funding_amount' not in grant:\n",
    "            grant['funding_amount'] = np.nan\n",
    "        for i in range(len(grant['researchers'])-1, -1, -1):\n",
    "            if 'id' not in grant['researchers'][i]:\n",
    "                del grant['researchers'][i]\n",
    "        if 'funders' not in grant:\n",
    "            grant['funders'] = [{'id':np.nan,'name':np.nan}]\n",
    "        for researcher in grant['researchers']:\n",
    "            for funder in grant['funders']:\n",
    "                rsr_id.append(researcher['id'])\n",
    "                grant_id.append(grant['id'])\n",
    "                funder_id.append(funder['id'])\n",
    "                funder_name.append(funder['name'])\n",
    "                start_dates.append(grant['start_date'])\n",
    "                end_dates.append(grant['end_date'])\n",
    "                funding_amount.append(grant['funding_amount'])\n",
    "                rcdc_codes_t = []\n",
    "                rcdc_names_t = []\n",
    "                for rcdc in grant['RCDC']:\n",
    "                    rcdc_codes_t.append(str(rcdc['id']))\n",
    "                    rcdc_names_t.append(str(rcdc['name']))\n",
    "                rcdc_codes.append(\"; \".join(rcdc_codes_t))\n",
    "                rcdc_names.append(\"; \".join(rcdc_names_t))\n",
    "                \n",
    "    grnts = pd.DataFrame({'rsr_id':rsr_id, 'grant_id':grant_id\n",
    "                          , 'funder_name':funder_name, 'funder_id':funder_id\n",
    "                          , 'rcdc_codes':rcdc_codes, 'rcdc_names':rcdc_names\n",
    "                          , 'start_date':start_dates, 'end_date':end_dates\n",
    "                          , 'funding_amount':funding_amount\n",
    "                         })\n",
    "\n",
    "    return grnts"
   ]
  },
  {
   "cell_type": "code",
   "execution_count": 8,
   "metadata": {},
   "outputs": [],
   "source": [
    "def parse_publication(full_resp):\n",
    "    rsr_id = []\n",
    "    pub_id = []\n",
    "    rcdc_codes = []\n",
    "    rcdc_names = []\n",
    "    dates = []\n",
    "    citations = []\n",
    "    dois = []\n",
    "    supporting_grants = []\n",
    "    for pub in full_resp:\n",
    "        if 'id' not in pub:\n",
    "            pub['id'] = np.nan\n",
    "        if 'RCDC' not in pub:\n",
    "            pub['RCDC'] = [{'id':np.nan, 'name':np.nan}]\n",
    "        if 'researchers' not in pub:\n",
    "            pub['researchers'] = [{'id':np.nan}]\n",
    "        for researcher in pub['researchers']: \n",
    "            if 'id' not in researcher:\n",
    "                tmp = researcher\n",
    "                pub['researchers'].append({'id':tmp})\n",
    "        if 'date' not in pub:\n",
    "            pub['date'] = np.nan\n",
    "        if 'times_cited' not in pub:\n",
    "            pub['times_cited'] = np.nan\n",
    "        if 'doi' not in pub:\n",
    "            pub['doi'] = np.nan\n",
    "        if 'supporting_grant_ids' not in pub:\n",
    "            pub['supporting_grant_ids'] = [np.nan]\n",
    "        for i in range(len(pub['researchers'])-1, -1, -1):\n",
    "            if 'id' not in pub['researchers'][i]:\n",
    "                del pub['researchers'][i]\n",
    "        for researcher in pub['researchers']:\n",
    "            rsr_id.append(researcher['id'])\n",
    "            pub_id.append(pub['id'])\n",
    "            dates.append(pub['date'])\n",
    "            citations.append(pub['times_cited'])\n",
    "            dois.append(pub['doi'])\n",
    "            supporting_grants.append(pub['supporting_grant_ids'])\n",
    "            rcdc_codes_t = []\n",
    "            rcdc_names_t = []\n",
    "            for rcdc in pub['RCDC']:\n",
    "                rcdc_codes_t.append(str(rcdc['id']))\n",
    "                rcdc_names_t.append(str(rcdc['name']))\n",
    "            rcdc_codes.append(\"; \".join(rcdc_codes_t))\n",
    "            rcdc_names.append(\"; \".join(rcdc_names_t))\n",
    "                \n",
    "    pubs = pd.DataFrame({'rsr_id':rsr_id, 'pub_id':pub_id\n",
    "                         , 'rcdc_codes':rcdc_codes, 'rcdc_names':rcdc_names\n",
    "                         , 'date':dates, 'citations':citations, 'doi':dois\n",
    "                         , 'supporting_grants':supporting_grants\n",
    "                         })\n",
    "    pubs['supporting_grants'] = pubs['supporting_grants'].apply(lambda x: np.nan if x == [np.nan] else  '; '.join(x))\n",
    "\n",
    "    return pubs"
   ]
  },
  {
   "cell_type": "markdown",
   "metadata": {},
   "source": [
    "## Method 1: Pulling all Researchers who Collaborated on Grants with INCA-Funded Researchers"
   ]
  },
  {
   "cell_type": "markdown",
   "metadata": {},
   "source": [
    "### All Researchers on Grants Awarded to INCA Researchers"
   ]
  },
  {
   "cell_type": "code",
   "execution_count": 9,
   "metadata": {},
   "outputs": [],
   "source": [
    "# rsr_info = pd.read_csv('../data/researchers.csv')\n",
    "# rsrs = list(rsr_info[rsr_info['id'].notnull()]['id'].drop_duplicates().reset_index(drop = True))"
   ]
  },
  {
   "cell_type": "markdown",
   "metadata": {},
   "source": [
    "### Pull all Grants Awarded by these Researchers"
   ]
  },
  {
   "cell_type": "code",
   "execution_count": 10,
   "metadata": {},
   "outputs": [],
   "source": [
    "# string = \"search grants where researchers.id in [{}] return grants[id+researchers+RCDC]\""
   ]
  },
  {
   "cell_type": "code",
   "execution_count": 11,
   "metadata": {
    "scrolled": true
   },
   "outputs": [],
   "source": [
    "# full_resp = pull_data(string=string, in_list=rsrs, in_type='researchers', return_type='grants')"
   ]
  },
  {
   "cell_type": "code",
   "execution_count": 12,
   "metadata": {
    "scrolled": false
   },
   "outputs": [],
   "source": [
    "# rsr_id = []\n",
    "# grant_id = []\n",
    "# rcdc_codes = []\n",
    "# rcdc_names = []\n",
    "# for grant in full_resp:\n",
    "#     for researcher in grant['researchers']:\n",
    "#         rsr_id.append(researcher['id'])\n",
    "#         grant_id.append(grant['id'])\n",
    "#         rcdc_codes_t = []\n",
    "#         rcdc_names_t = []\n",
    "#         if 'RCDC' in grant:\n",
    "#             for rcdc in grant['RCDC']:\n",
    "#                 rcdc_codes_t.append(str(rcdc['id']))\n",
    "#                 rcdc_names_t.append(rcdc['name'])\n",
    "#             rcdc_codes.append(\"; \".join(rcdc_codes_t))\n",
    "#             rcdc_names.append(\"; \".join(rcdc_names_t))\n",
    "#         else:\n",
    "#             rcdc_codes.append(\"\")\n",
    "#             rcdc_names.append(\"\")"
   ]
  },
  {
   "cell_type": "code",
   "execution_count": 13,
   "metadata": {},
   "outputs": [],
   "source": [
    "# collab_grnts = pd.DataFrame({'rsr_id':rsr_id, 'grant_id':grant_id, 'rcdc_codes':rcdc_codes, 'rcdc_names':rcdc_names})\n",
    "# collab_rsrs = collab_grnts.groupby('rsr_id')['grant_id'].nunique().reset_index()"
   ]
  },
  {
   "cell_type": "markdown",
   "metadata": {},
   "source": [
    "### Analysis of Results"
   ]
  },
  {
   "cell_type": "code",
   "execution_count": 14,
   "metadata": {},
   "outputs": [],
   "source": [
    "# # INCA-funded rsrs:\n",
    "# rsrs_inca = rsrs\n",
    "# print(\"{} INCA-funded researchers (with Dimensions IDs)\".format(len(rsrs_inca)))\n",
    "\n",
    "# # INCA-funded rsrs who have grants with the API:\n",
    "# # rsrs_inca_t = inca_rsrs_grants['rsr_id'].drop_duplicates().reset_index(drop = True)\n",
    "# # print(\"{} INCA-funded researchers appear to have grants with the Dimensions API\".format(len(rsrs_inca_t)))\n",
    "\n",
    "# # rsrs who are on grants where with >1 INCA-funded rsrs\n",
    "# rsrs_all = collab_rsrs['rsr_id'].drop_duplicates().reset_index(drop = True)\n",
    "# print(\"{} researchers participated in grants with at least one INCA-funded researcher\".format(len(rsrs_all)))"
   ]
  },
  {
   "cell_type": "code",
   "execution_count": 15,
   "metadata": {
    "scrolled": false
   },
   "outputs": [],
   "source": [
    "# rsrs_comp_1 = rsrs_all[rsrs_all.apply(lambda x: x not in list(rsrs_inca))].reset_index(drop = True)\n",
    "\n",
    "# # Number of comparison rsrs identified:\n",
    "# print(\"Size of comparison group identified: {} researchers\".format(len(rsrs_comp_1)))"
   ]
  },
  {
   "cell_type": "markdown",
   "metadata": {},
   "source": [
    "## Method 2: Pulling all Researchers who Co-Authored with INCA-Funded Researchers"
   ]
  },
  {
   "cell_type": "markdown",
   "metadata": {},
   "source": [
    "### All Researchers on Grants Awarded to INCA Researchers"
   ]
  },
  {
   "cell_type": "code",
   "execution_count": 16,
   "metadata": {},
   "outputs": [],
   "source": [
    "# rsr_info = pd.read_csv('../data/researchers.csv')\n",
    "# rsrs = list(rsr_info[rsr_info['id'].notnull()]['id'].drop_duplicates().reset_index(drop = True))"
   ]
  },
  {
   "cell_type": "markdown",
   "metadata": {},
   "source": [
    "### Pull all Publications by these Researchers"
   ]
  },
  {
   "cell_type": "code",
   "execution_count": 17,
   "metadata": {},
   "outputs": [],
   "source": [
    "# string = \"search publications where researchers.id in [{}] return publications[id+researchers]\""
   ]
  },
  {
   "cell_type": "code",
   "execution_count": 18,
   "metadata": {
    "scrolled": true
   },
   "outputs": [],
   "source": [
    "# full_resp = pull_data(string=string, in_list=rsrs, in_type='researchers', return_type='publications')"
   ]
  },
  {
   "cell_type": "code",
   "execution_count": 19,
   "metadata": {
    "scrolled": false
   },
   "outputs": [],
   "source": [
    "# rsr_id = []\n",
    "# pub_id = []\n",
    "# for pub in full_resp:\n",
    "#     for researcher in pub['researchers']:\n",
    "#         rsr_id.append(researcher['id'])\n",
    "#         pub_id.append(pub['id'])"
   ]
  },
  {
   "cell_type": "code",
   "execution_count": 20,
   "metadata": {},
   "outputs": [],
   "source": [
    "# collab_pubs = pd.DataFrame({'rsr_id':rsr_id, 'publication_id':pub_id})\n",
    "# collab_rsrs = collab_pubs.groupby('rsr_id')['publication_id'].nunique().reset_index()"
   ]
  },
  {
   "cell_type": "markdown",
   "metadata": {},
   "source": [
    "### Analysis of Results"
   ]
  },
  {
   "cell_type": "code",
   "execution_count": 21,
   "metadata": {},
   "outputs": [],
   "source": [
    "# # INCA-funded rsrs:\n",
    "# rsrs_inca = rsrs\n",
    "# print(\"{} INCA-funded researchers (with Dimensions IDs)\".format(len(rsrs_inca)))\n",
    "\n",
    "# # rsrs who are on publications with >1 INCA-funded rsrs\n",
    "# rsrs_all = collab_rsrs['rsr_id'].drop_duplicates().reset_index(drop = True)\n",
    "# print(\"{} researchers participated in publications with at least one INCA-funded researcher\".format(len(rsrs_all)))"
   ]
  },
  {
   "cell_type": "code",
   "execution_count": 22,
   "metadata": {
    "scrolled": false
   },
   "outputs": [],
   "source": [
    "# rsrs_comp_2 = rsrs_all[rsrs_all.apply(lambda x: x not in list(rsrs_inca))].reset_index(drop = True)\n",
    "\n",
    "# # Number of comparison rsrs identified:\n",
    "# print(\"Size of comparison group identified: {} researchers\".format(len(rsrs_comp_2)))"
   ]
  },
  {
   "cell_type": "markdown",
   "metadata": {},
   "source": [
    "## Method 3: Counterfactual based on Funding Agencies"
   ]
  },
  {
   "cell_type": "markdown",
   "metadata": {},
   "source": [
    "### Define Comparison Agencies:\n",
    "\n",
    "Funding Agencies considered are NIH Wellcome Trust, Australian  NRMC, MRC in UK"
   ]
  },
  {
   "cell_type": "code",
   "execution_count": 23,
   "metadata": {},
   "outputs": [],
   "source": [
    "funders = ['Wellcome Trust', 'National Health and Medical Research Council', 'Cancer Research UK', \n",
    "           'National Cancer Institute']"
   ]
  },
  {
   "cell_type": "markdown",
   "metadata": {},
   "source": [
    "### Pull all Researchers Funded by these Agencies"
   ]
  },
  {
   "cell_type": "code",
   "execution_count": 24,
   "metadata": {
    "scrolled": false
   },
   "outputs": [
    {
     "name": "stdout",
     "output_type": "stream",
     "text": [
      "Querying: 0-4/4 funding agencies...\r\n",
      "Done !\n"
     ]
    }
   ],
   "source": [
    "string = \"search grants where funders.name in [{}] and start_year>=2007 and start_year<=2012\"\n",
    "string += \" return grants[id+researchers+RCDC+funders+start_date+end_date+funding_usd]\"\n",
    "full_resp = pull_data(string=string, in_list=funders, in_type='funding agencies', return_type='grants')"
   ]
  },
  {
   "cell_type": "code",
   "execution_count": 25,
   "metadata": {},
   "outputs": [],
   "source": [
    "fundr_grnts = parse_grant(full_resp).drop_duplicates().reset_index(drop=True)"
   ]
  },
  {
   "cell_type": "code",
   "execution_count": 26,
   "metadata": {},
   "outputs": [],
   "source": [
    "# Remove all other funders that might have appeared\n",
    "fundr_grnts = fundr_grnts[(fundr_grnts['funder_name'].isin(funders))]\n",
    "\n",
    "# For non-cancer-specific funders, resstrict to Cancer Grants:\n",
    "general_funders = ['Wellcome Trust', 'National Health and Medical Research Council']\n",
    "fundr_grnts = fundr_grnts[(fundr_grnts['funder_name'].isin(general_funders)==False)\n",
    "                          |(fundr_grnts['rcdc_names'].str.contains(\"Cancer\"))]\n",
    "\n",
    "# Restrict to grants funded between 2007 and 2012:\n",
    "fundr_grnts = fundr_grnts[(pd.DatetimeIndex(fundr_grnts['start_date']).year>=2007)\n",
    "                          & (pd.DatetimeIndex(fundr_grnts['start_date']).year<=2012)].reset_index(drop=True)"
   ]
  },
  {
   "cell_type": "code",
   "execution_count": 27,
   "metadata": {},
   "outputs": [
    {
     "data": {
      "text/plain": [
       "National Cancer Institute                       15301\n",
       "National Health and Medical Research Council     3112\n",
       "Cancer Research UK                               2291\n",
       "Wellcome Trust                                    416\n",
       "Name: funder_name, dtype: int64"
      ]
     },
     "execution_count": 27,
     "metadata": {},
     "output_type": "execute_result"
    }
   ],
   "source": [
    "fundr_grnts['funder_name'].value_counts()"
   ]
  },
  {
   "cell_type": "code",
   "execution_count": 28,
   "metadata": {},
   "outputs": [],
   "source": [
    "fundr_grnts.to_csv('../data/counterfactual/counterfactual_funded_grants.csv', index=False)"
   ]
  },
  {
   "cell_type": "markdown",
   "metadata": {},
   "source": [
    "### Pull all Grants and Publications from these Researchers"
   ]
  },
  {
   "cell_type": "code",
   "execution_count": 29,
   "metadata": {},
   "outputs": [],
   "source": [
    "fundr_grnts = pd.read_csv('../data/counterfactual/counterfactual_funded_grants.csv')\n",
    "rsrs = fundr_grnts[fundr_grnts['rsr_id'].notnull()]['rsr_id'].drop_duplicates()"
   ]
  },
  {
   "cell_type": "markdown",
   "metadata": {},
   "source": [
    "#### Grants"
   ]
  },
  {
   "cell_type": "code",
   "execution_count": 30,
   "metadata": {},
   "outputs": [
    {
     "name": "stdout",
     "output_type": "stream",
     "text": [
      "Querying: 13000-13027/13027 researchers...\r\n",
      "Done !\n"
     ]
    }
   ],
   "source": [
    "string = \"search grants where researchers.id in [{}]\"\n",
    "string += \" return grants[id+researchers+RCDC+funders+start_date+end_date+funding_usd]\"\n",
    "full_resp = pull_data(string=string, in_list=rsrs, in_type='researchers', return_type='grants')"
   ]
  },
  {
   "cell_type": "code",
   "execution_count": 31,
   "metadata": {},
   "outputs": [],
   "source": [
    "grnts = parse_grant(full_resp)\n",
    "grnts = grnts.drop_duplicates().reset_index(drop=True)"
   ]
  },
  {
   "cell_type": "code",
   "execution_count": 32,
   "metadata": {},
   "outputs": [
    {
     "data": {
      "text/html": [
       "<div>\n",
       "<style scoped>\n",
       "    .dataframe tbody tr th:only-of-type {\n",
       "        vertical-align: middle;\n",
       "    }\n",
       "\n",
       "    .dataframe tbody tr th {\n",
       "        vertical-align: top;\n",
       "    }\n",
       "\n",
       "    .dataframe thead th {\n",
       "        text-align: right;\n",
       "    }\n",
       "</style>\n",
       "<table border=\"1\" class=\"dataframe\">\n",
       "  <thead>\n",
       "    <tr style=\"text-align: right;\">\n",
       "      <th></th>\n",
       "      <th>rsr_id</th>\n",
       "      <th>grant_id</th>\n",
       "      <th>funder_name</th>\n",
       "      <th>funder_id</th>\n",
       "      <th>rcdc_codes</th>\n",
       "      <th>rcdc_names</th>\n",
       "      <th>start_date</th>\n",
       "      <th>end_date</th>\n",
       "      <th>funding_amount</th>\n",
       "    </tr>\n",
       "  </thead>\n",
       "  <tbody>\n",
       "    <tr>\n",
       "      <th>count</th>\n",
       "      <td>172865</td>\n",
       "      <td>172865</td>\n",
       "      <td>172865</td>\n",
       "      <td>172865</td>\n",
       "      <td>172865</td>\n",
       "      <td>172865</td>\n",
       "      <td>172572</td>\n",
       "      <td>171823</td>\n",
       "      <td>0.0</td>\n",
       "    </tr>\n",
       "    <tr>\n",
       "      <th>unique</th>\n",
       "      <td>77994</td>\n",
       "      <td>71969</td>\n",
       "      <td>200</td>\n",
       "      <td>201</td>\n",
       "      <td>27084</td>\n",
       "      <td>27084</td>\n",
       "      <td>5438</td>\n",
       "      <td>3173</td>\n",
       "      <td>NaN</td>\n",
       "    </tr>\n",
       "    <tr>\n",
       "      <th>top</th>\n",
       "      <td>ur.01117731572.33</td>\n",
       "      <td>grant.2439890</td>\n",
       "      <td>National Cancer Institute</td>\n",
       "      <td>grid.48336.3a</td>\n",
       "      <td>nan</td>\n",
       "      <td>nan</td>\n",
       "      <td>1977-12-01</td>\n",
       "      <td>2008-05-31</td>\n",
       "      <td>NaN</td>\n",
       "    </tr>\n",
       "    <tr>\n",
       "      <th>freq</th>\n",
       "      <td>384</td>\n",
       "      <td>823</td>\n",
       "      <td>40545</td>\n",
       "      <td>40545</td>\n",
       "      <td>35236</td>\n",
       "      <td>35236</td>\n",
       "      <td>3940</td>\n",
       "      <td>3948</td>\n",
       "      <td>NaN</td>\n",
       "    </tr>\n",
       "    <tr>\n",
       "      <th>mean</th>\n",
       "      <td>NaN</td>\n",
       "      <td>NaN</td>\n",
       "      <td>NaN</td>\n",
       "      <td>NaN</td>\n",
       "      <td>NaN</td>\n",
       "      <td>NaN</td>\n",
       "      <td>NaN</td>\n",
       "      <td>NaN</td>\n",
       "      <td>NaN</td>\n",
       "    </tr>\n",
       "    <tr>\n",
       "      <th>std</th>\n",
       "      <td>NaN</td>\n",
       "      <td>NaN</td>\n",
       "      <td>NaN</td>\n",
       "      <td>NaN</td>\n",
       "      <td>NaN</td>\n",
       "      <td>NaN</td>\n",
       "      <td>NaN</td>\n",
       "      <td>NaN</td>\n",
       "      <td>NaN</td>\n",
       "    </tr>\n",
       "    <tr>\n",
       "      <th>min</th>\n",
       "      <td>NaN</td>\n",
       "      <td>NaN</td>\n",
       "      <td>NaN</td>\n",
       "      <td>NaN</td>\n",
       "      <td>NaN</td>\n",
       "      <td>NaN</td>\n",
       "      <td>NaN</td>\n",
       "      <td>NaN</td>\n",
       "      <td>NaN</td>\n",
       "    </tr>\n",
       "    <tr>\n",
       "      <th>25%</th>\n",
       "      <td>NaN</td>\n",
       "      <td>NaN</td>\n",
       "      <td>NaN</td>\n",
       "      <td>NaN</td>\n",
       "      <td>NaN</td>\n",
       "      <td>NaN</td>\n",
       "      <td>NaN</td>\n",
       "      <td>NaN</td>\n",
       "      <td>NaN</td>\n",
       "    </tr>\n",
       "    <tr>\n",
       "      <th>50%</th>\n",
       "      <td>NaN</td>\n",
       "      <td>NaN</td>\n",
       "      <td>NaN</td>\n",
       "      <td>NaN</td>\n",
       "      <td>NaN</td>\n",
       "      <td>NaN</td>\n",
       "      <td>NaN</td>\n",
       "      <td>NaN</td>\n",
       "      <td>NaN</td>\n",
       "    </tr>\n",
       "    <tr>\n",
       "      <th>75%</th>\n",
       "      <td>NaN</td>\n",
       "      <td>NaN</td>\n",
       "      <td>NaN</td>\n",
       "      <td>NaN</td>\n",
       "      <td>NaN</td>\n",
       "      <td>NaN</td>\n",
       "      <td>NaN</td>\n",
       "      <td>NaN</td>\n",
       "      <td>NaN</td>\n",
       "    </tr>\n",
       "    <tr>\n",
       "      <th>max</th>\n",
       "      <td>NaN</td>\n",
       "      <td>NaN</td>\n",
       "      <td>NaN</td>\n",
       "      <td>NaN</td>\n",
       "      <td>NaN</td>\n",
       "      <td>NaN</td>\n",
       "      <td>NaN</td>\n",
       "      <td>NaN</td>\n",
       "      <td>NaN</td>\n",
       "    </tr>\n",
       "  </tbody>\n",
       "</table>\n",
       "</div>"
      ],
      "text/plain": [
       "                   rsr_id       grant_id                funder_name  \\\n",
       "count              172865         172865                     172865   \n",
       "unique              77994          71969                        200   \n",
       "top     ur.01117731572.33  grant.2439890  National Cancer Institute   \n",
       "freq                  384            823                      40545   \n",
       "mean                  NaN            NaN                        NaN   \n",
       "std                   NaN            NaN                        NaN   \n",
       "min                   NaN            NaN                        NaN   \n",
       "25%                   NaN            NaN                        NaN   \n",
       "50%                   NaN            NaN                        NaN   \n",
       "75%                   NaN            NaN                        NaN   \n",
       "max                   NaN            NaN                        NaN   \n",
       "\n",
       "            funder_id rcdc_codes rcdc_names  start_date    end_date  \\\n",
       "count          172865     172865     172865      172572      171823   \n",
       "unique            201      27084      27084        5438        3173   \n",
       "top     grid.48336.3a        nan        nan  1977-12-01  2008-05-31   \n",
       "freq            40545      35236      35236        3940        3948   \n",
       "mean              NaN        NaN        NaN         NaN         NaN   \n",
       "std               NaN        NaN        NaN         NaN         NaN   \n",
       "min               NaN        NaN        NaN         NaN         NaN   \n",
       "25%               NaN        NaN        NaN         NaN         NaN   \n",
       "50%               NaN        NaN        NaN         NaN         NaN   \n",
       "75%               NaN        NaN        NaN         NaN         NaN   \n",
       "max               NaN        NaN        NaN         NaN         NaN   \n",
       "\n",
       "        funding_amount  \n",
       "count              0.0  \n",
       "unique             NaN  \n",
       "top                NaN  \n",
       "freq               NaN  \n",
       "mean               NaN  \n",
       "std                NaN  \n",
       "min                NaN  \n",
       "25%                NaN  \n",
       "50%                NaN  \n",
       "75%                NaN  \n",
       "max                NaN  "
      ]
     },
     "execution_count": 32,
     "metadata": {},
     "output_type": "execute_result"
    }
   ],
   "source": [
    "grnts.describe(include='all')"
   ]
  },
  {
   "cell_type": "code",
   "execution_count": 33,
   "metadata": {},
   "outputs": [],
   "source": [
    "grnts.to_csv('../data/counterfactual/counterfactual_researcher_grants.csv', index=False)"
   ]
  },
  {
   "cell_type": "markdown",
   "metadata": {},
   "source": [
    "#### Publications"
   ]
  },
  {
   "cell_type": "code",
   "execution_count": 34,
   "metadata": {
    "scrolled": false
   },
   "outputs": [
    {
     "name": "stdout",
     "output_type": "stream",
     "text": [
      "Querying: 400-500/13027 researchers...\r\n",
      "RESPONSE ERROR on i=4 and j=5.\n",
      "\n",
      "Querying: 2000-2100/13027 researchers...\r\n",
      "RESPONSE ERROR on i=20 and j=6.\n",
      "\n",
      "Querying: 2200-2300/13027 researchers...\r\n",
      "RESPONSE ERROR on i=22 and j=4.\n",
      "\n",
      "Querying: 4200-4300/13027 researchers...\r\n",
      "RESPONSE ERROR on i=42 and j=6.\n",
      "\n",
      "Querying: 4300-4400/13027 researchers...\r\n",
      "RESPONSE ERROR on i=43 and j=8.\n",
      "\n",
      "Querying: 6600-6700/13027 researchers...\r\n",
      "RESPONSE ERROR on i=66 and j=5.\n",
      "\n",
      "Querying: 7100-7200/13027 researchers...\r\n",
      "RESPONSE ERROR on i=71 and j=14.\n",
      "\n",
      "Querying: 8500-8600/13027 researchers...\r\n",
      "RESPONSE ERROR on i=85 and j=4.\n",
      "\n",
      "Querying: 9100-9200/13027 researchers...\r\n",
      "RESPONSE ERROR on i=91 and j=6.\n",
      "\n",
      "Querying: 9200-9300/13027 researchers...\r\n",
      "RESPONSE ERROR on i=92 and j=5.\n",
      "\n",
      "Querying: 10300-10400/13027 researchers...\r\n",
      "RESPONSE ERROR on i=103 and j=4.\n",
      "\n",
      "Querying: 11100-11200/13027 researchers...\r\n",
      "RESPONSE ERROR on i=111 and j=2.\n",
      "\n",
      "Querying: 11500-11600/13027 researchers...\r\n",
      "RESPONSE ERROR on i=115 and j=1.\n",
      "\n",
      "Querying: 13000-13027/13027 researchers...\r\n",
      "Done !\n"
     ]
    }
   ],
   "source": [
    "string = \"search publications where researchers.id in [{}]\"\n",
    "string += \" return publications[id+researchers+date+doi+supporting_grant_ids+times_cited+RCDC]\"\n",
    "full_resp = pull_data(string=string, in_list=rsrs, in_type='researchers', return_type='publications')"
   ]
  },
  {
   "cell_type": "code",
   "execution_count": 35,
   "metadata": {},
   "outputs": [],
   "source": [
    "pubs = parse_publication(full_resp)\n",
    "pubs = pubs.drop_duplicates().reset_index(drop=True)"
   ]
  },
  {
   "cell_type": "code",
   "execution_count": 36,
   "metadata": {},
   "outputs": [
    {
     "data": {
      "text/html": [
       "<div>\n",
       "<style scoped>\n",
       "    .dataframe tbody tr th:only-of-type {\n",
       "        vertical-align: middle;\n",
       "    }\n",
       "\n",
       "    .dataframe tbody tr th {\n",
       "        vertical-align: top;\n",
       "    }\n",
       "\n",
       "    .dataframe thead th {\n",
       "        text-align: right;\n",
       "    }\n",
       "</style>\n",
       "<table border=\"1\" class=\"dataframe\">\n",
       "  <thead>\n",
       "    <tr style=\"text-align: right;\">\n",
       "      <th></th>\n",
       "      <th>rsr_id</th>\n",
       "      <th>pub_id</th>\n",
       "      <th>rcdc_codes</th>\n",
       "      <th>rcdc_names</th>\n",
       "      <th>date</th>\n",
       "      <th>citations</th>\n",
       "      <th>doi</th>\n",
       "      <th>supporting_grants</th>\n",
       "    </tr>\n",
       "  </thead>\n",
       "  <tbody>\n",
       "    <tr>\n",
       "      <th>count</th>\n",
       "      <td>6864351</td>\n",
       "      <td>6864351</td>\n",
       "      <td>6864351</td>\n",
       "      <td>6864351</td>\n",
       "      <td>6864236</td>\n",
       "      <td>6.864351e+06</td>\n",
       "      <td>6571293</td>\n",
       "      <td>3355994</td>\n",
       "    </tr>\n",
       "    <tr>\n",
       "      <th>unique</th>\n",
       "      <td>1065311</td>\n",
       "      <td>1085784</td>\n",
       "      <td>263320</td>\n",
       "      <td>263320</td>\n",
       "      <td>12150</td>\n",
       "      <td>NaN</td>\n",
       "      <td>1024681</td>\n",
       "      <td>303636</td>\n",
       "    </tr>\n",
       "    <tr>\n",
       "      <th>top</th>\n",
       "      <td>ur.012724545020.23</td>\n",
       "      <td>pub.1054508044</td>\n",
       "      <td>nan</td>\n",
       "      <td>nan</td>\n",
       "      <td>2011-10-24</td>\n",
       "      <td>NaN</td>\n",
       "      <td>10.1007/bf03375463</td>\n",
       "      <td>grant.2438826</td>\n",
       "    </tr>\n",
       "    <tr>\n",
       "      <th>freq</th>\n",
       "      <td>2694</td>\n",
       "      <td>2125</td>\n",
       "      <td>2030551</td>\n",
       "      <td>2030551</td>\n",
       "      <td>93168</td>\n",
       "      <td>NaN</td>\n",
       "      <td>2125</td>\n",
       "      <td>26637</td>\n",
       "    </tr>\n",
       "    <tr>\n",
       "      <th>mean</th>\n",
       "      <td>NaN</td>\n",
       "      <td>NaN</td>\n",
       "      <td>NaN</td>\n",
       "      <td>NaN</td>\n",
       "      <td>NaN</td>\n",
       "      <td>5.403595e+01</td>\n",
       "      <td>NaN</td>\n",
       "      <td>NaN</td>\n",
       "    </tr>\n",
       "    <tr>\n",
       "      <th>std</th>\n",
       "      <td>NaN</td>\n",
       "      <td>NaN</td>\n",
       "      <td>NaN</td>\n",
       "      <td>NaN</td>\n",
       "      <td>NaN</td>\n",
       "      <td>1.904285e+02</td>\n",
       "      <td>NaN</td>\n",
       "      <td>NaN</td>\n",
       "    </tr>\n",
       "    <tr>\n",
       "      <th>min</th>\n",
       "      <td>NaN</td>\n",
       "      <td>NaN</td>\n",
       "      <td>NaN</td>\n",
       "      <td>NaN</td>\n",
       "      <td>NaN</td>\n",
       "      <td>0.000000e+00</td>\n",
       "      <td>NaN</td>\n",
       "      <td>NaN</td>\n",
       "    </tr>\n",
       "    <tr>\n",
       "      <th>25%</th>\n",
       "      <td>NaN</td>\n",
       "      <td>NaN</td>\n",
       "      <td>NaN</td>\n",
       "      <td>NaN</td>\n",
       "      <td>NaN</td>\n",
       "      <td>2.000000e+00</td>\n",
       "      <td>NaN</td>\n",
       "      <td>NaN</td>\n",
       "    </tr>\n",
       "    <tr>\n",
       "      <th>50%</th>\n",
       "      <td>NaN</td>\n",
       "      <td>NaN</td>\n",
       "      <td>NaN</td>\n",
       "      <td>NaN</td>\n",
       "      <td>NaN</td>\n",
       "      <td>1.500000e+01</td>\n",
       "      <td>NaN</td>\n",
       "      <td>NaN</td>\n",
       "    </tr>\n",
       "    <tr>\n",
       "      <th>75%</th>\n",
       "      <td>NaN</td>\n",
       "      <td>NaN</td>\n",
       "      <td>NaN</td>\n",
       "      <td>NaN</td>\n",
       "      <td>NaN</td>\n",
       "      <td>4.700000e+01</td>\n",
       "      <td>NaN</td>\n",
       "      <td>NaN</td>\n",
       "    </tr>\n",
       "    <tr>\n",
       "      <th>max</th>\n",
       "      <td>NaN</td>\n",
       "      <td>NaN</td>\n",
       "      <td>NaN</td>\n",
       "      <td>NaN</td>\n",
       "      <td>NaN</td>\n",
       "      <td>6.582300e+04</td>\n",
       "      <td>NaN</td>\n",
       "      <td>NaN</td>\n",
       "    </tr>\n",
       "  </tbody>\n",
       "</table>\n",
       "</div>"
      ],
      "text/plain": [
       "                    rsr_id          pub_id rcdc_codes rcdc_names        date  \\\n",
       "count              6864351         6864351    6864351    6864351     6864236   \n",
       "unique             1065311         1085784     263320     263320       12150   \n",
       "top     ur.012724545020.23  pub.1054508044        nan        nan  2011-10-24   \n",
       "freq                  2694            2125    2030551    2030551       93168   \n",
       "mean                   NaN             NaN        NaN        NaN         NaN   \n",
       "std                    NaN             NaN        NaN        NaN         NaN   \n",
       "min                    NaN             NaN        NaN        NaN         NaN   \n",
       "25%                    NaN             NaN        NaN        NaN         NaN   \n",
       "50%                    NaN             NaN        NaN        NaN         NaN   \n",
       "75%                    NaN             NaN        NaN        NaN         NaN   \n",
       "max                    NaN             NaN        NaN        NaN         NaN   \n",
       "\n",
       "           citations                 doi supporting_grants  \n",
       "count   6.864351e+06             6571293           3355994  \n",
       "unique           NaN             1024681            303636  \n",
       "top              NaN  10.1007/bf03375463     grant.2438826  \n",
       "freq             NaN                2125             26637  \n",
       "mean    5.403595e+01                 NaN               NaN  \n",
       "std     1.904285e+02                 NaN               NaN  \n",
       "min     0.000000e+00                 NaN               NaN  \n",
       "25%     2.000000e+00                 NaN               NaN  \n",
       "50%     1.500000e+01                 NaN               NaN  \n",
       "75%     4.700000e+01                 NaN               NaN  \n",
       "max     6.582300e+04                 NaN               NaN  "
      ]
     },
     "execution_count": 36,
     "metadata": {},
     "output_type": "execute_result"
    }
   ],
   "source": [
    "pubs.describe(include='all')"
   ]
  },
  {
   "cell_type": "code",
   "execution_count": 37,
   "metadata": {},
   "outputs": [],
   "source": [
    "pubs.to_csv('../data/counterfactual/counterfactual_researcher_publications.csv', index=False)"
   ]
  },
  {
   "cell_type": "markdown",
   "metadata": {},
   "source": [
    "## Sandbox"
   ]
  },
  {
   "cell_type": "code",
   "execution_count": 38,
   "metadata": {
    "scrolled": false
   },
   "outputs": [],
   "source": [
    "import requests\n",
    "\n",
    "#   The credentials to be used\n",
    "login = {\n",
    "    'username': 'nj995@nyu.edu',\n",
    "    'password': password\n",
    "}\n",
    "\n",
    "#   Send credentials to login url to retrieve token. Raise\n",
    "#   an error, if the return code indicates a problem.\n",
    "#   Please use the URL of the system you'd like to access the API\n",
    "#   in the example below.\n",
    "resp = requests.post('https://app.dimensions.ai/api/auth.json', json=login)\n",
    "resp.raise_for_status()\n",
    "\n",
    "#   Create http header using the generated token.\n",
    "headers = {\n",
    "    'Authorization': \"JWT \" + resp.json()['token']\n",
    "}\n",
    "\n",
    "\n",
    "string = 'search publications where researchers.id in [\"ur.01202737463.96\", \"ur.015674223332.58\", \"ur.013010145372.31\", \"ur.011313360332.51\", \"ur.01141226360.54\", \"ur.01112156155.34\", \"ur.0605030736.29\", \"ur.014301262332.40\", \"ur.0600074022.23\", \"ur.01156201704.01\", \"ur.01353745746.59\", \"ur.0604131004.05\", \"ur.0751761400.00\", \"ur.01015475066.34\", \"ur.01261146267.06\", \"ur.0711513572.31\", \"ur.0772354011.41\", \"ur.01014205075.45\", \"ur.01105337344.26\", \"ur.01256356077.11\", \"ur.01152212773.18\", \"ur.011402350541.85\", \"ur.010371661517.51\", \"ur.0672152455.86\", \"ur.0732472611.02\", \"ur.01116371135.90\", \"ur.01345516513.05\", \"ur.01064544102.71\", \"ur.0724620037.24\", \"ur.014251473547.60\", \"ur.01007427161.08\", \"ur.01236422707.67\", \"ur.01054322061.75\", \"ur.01305325772.60\", \"ur.013640560135.92\", \"ur.0777742233.90\", \"ur.013765300377.32\", \"ur.0666436611.32\", \"ur.01005132353.24\", \"ur.01247326511.02\", \"ur.0764171720.06\", \"ur.01203545107.19\", \"ur.0644467574.15\", \"ur.0760330620.74\", \"ur.01217272123.47\", \"ur.01177604614.47\", \"ur.015402573057.95\", \"ur.0673414137.91\", \"ur.01314074042.08\", \"ur.01316543003.47\", \"ur.0735524505.51\", \"ur.013237704577.12\", \"ur.0713342226.14\", \"ur.01332331073.28\", \"ur.0636726033.44\", \"ur.014135501347.25\", \"ur.01066132744.05\", \"ur.0747742220.33\", \"ur.01105375745.68\", \"ur.01024221070.23\", \"ur.0614762647.80\", \"ur.01177033022.74\", \"ur.01367601343.61\", \"ur.0631021217.43\", \"ur.01222740527.10\", \"ur.01306134155.52\", \"ur.0676201107.20\", \"ur.0620754753.04\", \"ur.0611157352.25\", \"ur.01152551730.11\", \"ur.01137652666.28\", \"ur.01356062255.31\", \"ur.01327063407.67\", \"ur.0657272552.37\", \"ur.014344631152.09\", \"ur.010131650267.18\", \"ur.0617234032.33\", \"ur.011275031217.12\", \"ur.01005154541.22\", \"ur.011436500207.26\", \"ur.01325041140.60\", \"ur.0651202231.24\", \"ur.01200371710.83\", \"ur.0626772374.33\", \"ur.07462720232.71\", \"ur.011650443431.18\", \"ur.01162310775.46\", \"ur.01006303753.26\", \"ur.01161510677.60\", \"ur.0641135726.40\", \"ur.01054264565.20\", \"ur.01301043554.11\", \"ur.0714770166.98\", \"ur.0742737707.24\", \"ur.01323024461.91\", \"ur.01054277520.73\", \"ur.0606644173.97\", \"ur.010460364674.11\", \"ur.01321750743.70\", \"ur.01311723006.34\", \"ur.0737601773.45\", \"ur.0737707452.39\", \"ur.01240467104.91\", \"ur.01306204206.71\", \"ur.01053465175.96\", \"ur.013613621777.30\", \"ur.01165147003.72\", \"ur.015214035357.43\", \"ur.012607214677.06\", \"ur.0627545135.27\", \"ur.0737550317.08\", \"ur.0733327250.37\", \"ur.01162111326.55\", \"ur.01122514433.47\", \"ur.01342300235.56\", \"ur.0757064066.46\", \"ur.016170013305.12\", \"ur.014210055537.45\", \"ur.01117075632.95\", \"ur.0576012305.16\", \"ur.0653312607.36\", \"ur.012706321057.78\", \"ur.01155232405.71\", \"ur.01366501232.37\", \"ur.01051150324.42\", \"ur.0760217130.82\", \"ur.01117465373.03\", \"ur.01312141733.72\", \"ur.0732625222.53\", \"ur.01072746376.40\", \"ur.01154461541.62\", \"ur.011062775537.73\", \"ur.01000615241.08\", \"ur.01016023671.74\", \"ur.01335506047.63\", \"ur.01173223632.99\", \"ur.012404244027.38\", \"ur.01036361256.24\", \"ur.01257242276.14\", \"ur.0731677142.47\", \"ur.01162104421.14\", \"ur.01173124211.89\", \"ur.01212722003.04\", \"ur.01314252321.11\", \"ur.0627174752.40\", \"ur.01051272131.44\", \"ur.01265573603.85\", \"ur.01355341014.38\", \"ur.015651250037.98\", \"ur.01221150143.06\", \"ur.013773340007.18\", \"ur.016157562137.30\", \"ur.01033627435.43\", \"ur.0575614052.26\", \"ur.0674066744.08\", \"ur.01345753154.94\", \"ur.01024724414.35\", \"ur.01036302714.52\", \"ur.01151576226.01\", \"ur.01370235414.07\", \"ur.0667714372.65\", \"ur.013111646177.43\", \"ur.01106612172.87\", \"ur.0734763244.08\", \"ur.0617760334.42\", \"ur.0777715440.15\", \"ur.01205717204.52\", \"ur.01322145604.54\", \"ur.01303264045.28\", \"ur.0674367554.40\", \"ur.01036476201.15\", \"ur.0732003253.57\", \"ur.01343474566.01\", \"ur.01261475636.05\", \"ur.011105234537.67\", \"ur.01342355762.29\", \"ur.01314172663.75\", \"ur.01040302023.28\", \"ur.0773432270.25\", \"ur.01001013200.18\", \"ur.01301442767.61\", \"ur.055716301.40\", \"ur.0701011757.22\", \"ur.01035174633.79\", \"ur.0634230053.54\", \"ur.0670205103.94\", \"ur.016564157752.80\", \"ur.014755714717.38\", \"ur.01261654265.12\", \"ur.01273465550.17\", \"ur.01320526713.47\", \"ur.01176711510.97\", \"ur.0761406544.55\", \"ur.011675057424.25\", \"ur.01045144766.67\", \"ur.01351460210.76\", \"ur.0636701477.86\", \"ur.0577057764.60\", \"ur.01075301637.18\", \"ur.01126153450.53\", \"ur.0756442603.68\", \"ur.01333255235.11\", \"ur.0745271445.97\", \"ur.01361667651.18\", \"ur.01346675446.22\", \"ur.0603240061.97\", \"ur.0611763734.56\", \"ur.0672335566.45\", \"ur.01045660030.75\", \"ur.01012477034.17\", \"ur.01355745464.73\", \"ur.0754734542.52\", \"ur.01214473752.81\", \"ur.01224647022.55\", \"ur.0601227214.26\", \"ur.01170627620.60\", \"ur.01304723307.97\", \"ur.01303346104.21\", \"ur.0773300443.74\", \"ur.01131061052.70\", \"ur.011675663547.74\", \"ur.0657552271.41\", \"ur.01242574260.49\", \"ur.01122614676.52\", \"ur.01075424275.69\", \"ur.01012225354.94\", \"ur.015001266322.20\", \"ur.01350551144.97\", \"ur.0663550706.74\", \"ur.01322660063.23\", \"ur.0744336325.10\", \"ur.01314621607.24\", \"ur.01255100412.07\", \"ur.0655145416.09\", \"ur.01236415450.50\", \"ur.01120775141.31\", \"ur.01241555620.25\", \"ur.01202316744.36\", \"ur.01250302263.06\", \"ur.0666244325.76\", \"ur.0627014214.42\", \"ur.013072654327.44\", \"ur.0667575342.85\", \"ur.0630052062.43\", \"ur.0631633437.74\", \"ur.01160326560.69\", \"ur.01077675340.04\", \"ur.01250205034.43\", \"ur.016074256064.51\", \"ur.0603254777.44\"] return publications[id+researchers+date+doi+supporting_grant_ids+times_cited+RCDC] limit 1000 skip 7000'\n",
    "\n",
    "#   Execute DSL query.\n",
    "resp = requests.post(\n",
    "    'https://app.dimensions.ai/api/dsl.json',\n",
    "    data=string,\n",
    "    headers=headers)\n",
    "\n",
    "#   Display raw result\n",
    "# print(resp.json())"
   ]
  },
  {
   "cell_type": "code",
   "execution_count": 39,
   "metadata": {},
   "outputs": [
    {
     "data": {
      "text/plain": [
       "<Response [502]>"
      ]
     },
     "execution_count": 39,
     "metadata": {},
     "output_type": "execute_result"
    }
   ],
   "source": [
    "resp"
   ]
  },
  {
   "cell_type": "code",
   "execution_count": null,
   "metadata": {},
   "outputs": [],
   "source": []
  }
 ],
 "metadata": {
  "kernelspec": {
   "display_name": "Python 3",
   "language": "python",
   "name": "python3"
  },
  "language_info": {
   "codemirror_mode": {
    "name": "ipython",
    "version": 3
   },
   "file_extension": ".py",
   "mimetype": "text/x-python",
   "name": "python",
   "nbconvert_exporter": "python",
   "pygments_lexer": "ipython3",
   "version": "3.6.3"
  },
  "toc": {
   "nav_menu": {},
   "number_sections": false,
   "sideBar": true,
   "skip_h1_title": false,
   "title_cell": "Table of Contents",
   "title_sidebar": "Contents",
   "toc_cell": false,
   "toc_position": {
    "height": "calc(100% - 180px)",
    "left": "10px",
    "top": "150px",
    "width": "275px"
   },
   "toc_section_display": true,
   "toc_window_display": true
  }
 },
 "nbformat": 4,
 "nbformat_minor": 2
}
