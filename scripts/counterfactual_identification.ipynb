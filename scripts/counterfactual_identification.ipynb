{
 "cells": [
  {
   "cell_type": "markdown",
   "metadata": {},
   "source": [
    "# Counterfactual Group Identification"
   ]
  },
  {
   "cell_type": "markdown",
   "metadata": {},
   "source": [
    "## Python Setup"
   ]
  },
  {
   "cell_type": "code",
   "execution_count": 1,
   "metadata": {},
   "outputs": [],
   "source": [
    "import requests\n",
    "import time\n",
    "import pandas as pd\n",
    "pd.options.display.max_rows = 100\n",
    "import math\n",
    "import numpy as np\n",
    "from json import JSONDecodeError"
   ]
  },
  {
   "cell_type": "markdown",
   "metadata": {},
   "source": [
    "## Connecting to API"
   ]
  },
  {
   "cell_type": "markdown",
   "metadata": {},
   "source": [
    "### Login Information"
   ]
  },
  {
   "cell_type": "markdown",
   "metadata": {},
   "source": [
    "Fetch my password from a separate .txt file:"
   ]
  },
  {
   "cell_type": "code",
   "execution_count": 2,
   "metadata": {},
   "outputs": [],
   "source": [
    "with open('../data/password.txt', 'r') as myfile:\n",
    "    password = myfile.read().strip()"
   ]
  },
  {
   "cell_type": "code",
   "execution_count": 3,
   "metadata": {},
   "outputs": [],
   "source": [
    "login = {\n",
    "    'username': 'nj995@nyu.edu',\n",
    "    'password': password\n",
    "}"
   ]
  },
  {
   "cell_type": "markdown",
   "metadata": {},
   "source": [
    "### API Parameters"
   ]
  },
  {
   "cell_type": "code",
   "execution_count": 4,
   "metadata": {},
   "outputs": [],
   "source": [
    "def execute_query(string):\n",
    "    # Send credentials to login url to retrieve token.\n",
    "    resp = requests.post('https://app.dimensions.ai/api/auth.json', json=login)\n",
    "    resp.raise_for_status()\n",
    "\n",
    "    # Create http header using the generated token.\n",
    "    headers = {'Authorization': \"JWT \" + resp.json()['token']}   \n",
    "    \n",
    "    # Execute DSL query.    \n",
    "    resp = requests.post('https://app.dimensions.ai/api/dsl.json', data=string, headers=headers)\n",
    "    \n",
    "    try:\n",
    "        resp = resp.json()\n",
    "    except JSONDecodeError:\n",
    "        resp = \"RESPONSE ERROR\"\n",
    "    \n",
    "    return resp"
   ]
  },
  {
   "cell_type": "code",
   "execution_count": 5,
   "metadata": {},
   "outputs": [],
   "source": [
    "# Filter operator 'in' requires 0 < items < 512\n",
    "max_in_items = 250\n",
    "\n",
    "# Limit exceeds maximum allowed limit 1000\n",
    "max_return = 1000\n",
    "\n",
    "# Offset cannot exceed 50000\n",
    "max_overall_returns = 50000"
   ]
  },
  {
   "cell_type": "markdown",
   "metadata": {},
   "source": [
    "## Pulling Comparison Group Function"
   ]
  },
  {
   "cell_type": "code",
   "execution_count": 6,
   "metadata": {},
   "outputs": [],
   "source": [
    "def pull_data(string, in_list, in_type, return_type, max_in_items=max_in_items, max_return=max_return):\n",
    "    \n",
    "    full_resp = []\n",
    "\n",
    "    for i in range(math.ceil(len(in_list)/max_in_items)):\n",
    "        min_i, max_i = i*max_in_items, min((i+1)*max_in_items, len(in_list))\n",
    "        print('Querying: {}-{}/{} {}...'.format(min_i, max_i, len(in_list), in_type), end = '\\r')\n",
    "\n",
    "        in_t = in_list[min_i:max_i]\n",
    "        string_t = \"\\\"\" + \"\\\", \\\"\".join(in_t) + \"\\\"\"\n",
    "        query = string.format(string_t)\n",
    "\n",
    "        j = 0\n",
    "        loop = True\n",
    "        while loop == True:\n",
    "            query_t = query + \" limit {} skip {}\".format(max_return, max_return*j)\n",
    "            resp = execute_query(query_t)\n",
    "            if resp == \"RESPONSE ERROR\":\n",
    "                print(\"\\nRESPONSE ERROR on i={} and j={}.\\n\".format(i, j))\n",
    "            else:\n",
    "                full_resp.extend(resp[return_type])\n",
    "\n",
    "                if len(resp[return_type])<max_return:\n",
    "                    loop = False\n",
    "            j += 1\n",
    "            \n",
    "            if max_return*(j+1)>max_overall_returns:\n",
    "                loop = False\n",
    "            \n",
    "            time.sleep(1)\n",
    "        \n",
    "        count = resp['_stats']['total_count']        \n",
    "        if resp['_stats']['total_count']>=max_overall_returns:\n",
    "            print(\"\\nATTENTION! {} {} overall, pulled only {}.\\n\".format(count, return_type, max_return*j-1))\n",
    "\n",
    "    print(\"\\nDone !\")\n",
    "        \n",
    "    return full_resp"
   ]
  },
  {
   "cell_type": "markdown",
   "metadata": {},
   "source": [
    "## Grant and Publication Parsing Function"
   ]
  },
  {
   "cell_type": "code",
   "execution_count": 7,
   "metadata": {},
   "outputs": [],
   "source": [
    "def parse_grant(full_resp):\n",
    "    rsr_id = []\n",
    "    grant_id = []\n",
    "    funder_name = []\n",
    "    funder_id = []\n",
    "    rcdc_codes = []\n",
    "    rcdc_names = []\n",
    "    start_dates = []\n",
    "    end_dates = []\n",
    "    funding_amount = []\n",
    "    for grant in full_resp:\n",
    "        if 'RCDC' not in grant:\n",
    "            grant['RCDC'] = [{'id':np.nan, 'name':np.nan}]\n",
    "        if 'researchers' not in grant:\n",
    "            grant['researchers'] = [{'id':np.nan}]\n",
    "        for researcher in grant['researchers']: \n",
    "            if 'id' not in researcher:\n",
    "                tmp = researcher\n",
    "                grant['researchers'].append({'id':tmp})\n",
    "        if 'start_date' not in grant:\n",
    "            grant['start_date'] = np.nan\n",
    "        if 'end_date' not in grant:\n",
    "            grant['end_date'] = np.nan\n",
    "        if 'funding_amount' not in grant:\n",
    "            grant['funding_amount'] = np.nan\n",
    "        for i in range(len(grant['researchers'])-1, -1, -1):\n",
    "            if 'id' not in grant['researchers'][i]:\n",
    "                del grant['researchers'][i]\n",
    "        if 'funders' not in grant:\n",
    "            grant['funders'] = [{'id':np.nan,'name':np.nan}]\n",
    "        for researcher in grant['researchers']:\n",
    "            for funder in grant['funders']:\n",
    "                rsr_id.append(researcher['id'])\n",
    "                grant_id.append(grant['id'])\n",
    "                funder_id.append(funder['id'])\n",
    "                funder_name.append(funder['name'])\n",
    "                start_dates.append(grant['start_date'])\n",
    "                end_dates.append(grant['end_date'])\n",
    "                funding_amount.append(grant['funding_amount'])\n",
    "                rcdc_codes_t = []\n",
    "                rcdc_names_t = []\n",
    "                for rcdc in grant['RCDC']:\n",
    "                    rcdc_codes_t.append(str(rcdc['id']))\n",
    "                    rcdc_names_t.append(str(rcdc['name']))\n",
    "                rcdc_codes.append(\"; \".join(rcdc_codes_t))\n",
    "                rcdc_names.append(\"; \".join(rcdc_names_t))\n",
    "                \n",
    "    grnts = pd.DataFrame({'rsr_id':rsr_id, 'grant_id':grant_id\n",
    "                          , 'funder_name':funder_name, 'funder_id':funder_id\n",
    "                          , 'rcdc_codes':rcdc_codes, 'rcdc_names':rcdc_names\n",
    "                          , 'start_date':start_dates, 'end_date':end_dates\n",
    "                          , 'funding_amount':funding_amount\n",
    "                         })\n",
    "\n",
    "    return grnts"
   ]
  },
  {
   "cell_type": "code",
   "execution_count": 8,
   "metadata": {},
   "outputs": [],
   "source": [
    "def parse_publication(full_resp):\n",
    "    rsr_id = []\n",
    "    pub_id = []\n",
    "    rcdc_codes = []\n",
    "    rcdc_names = []\n",
    "    dates = []\n",
    "    citations = []\n",
    "    dois = []\n",
    "    supporting_grants = []\n",
    "    for pub in full_resp:\n",
    "        if 'id' not in pub:\n",
    "            pub['id'] = np.nan\n",
    "        if 'RCDC' not in pub:\n",
    "            pub['RCDC'] = [{'id':np.nan, 'name':np.nan}]\n",
    "        if 'researchers' not in pub:\n",
    "            pub['researchers'] = [{'id':np.nan}]\n",
    "        for researcher in pub['researchers']: \n",
    "            if 'id' not in researcher:\n",
    "                tmp = researcher\n",
    "                pub['researchers'].append({'id':tmp})\n",
    "        if 'date' not in pub:\n",
    "            pub['date'] = np.nan\n",
    "        if 'times_cited' not in pub:\n",
    "            pub['times_cited'] = np.nan\n",
    "        if 'doi' not in pub:\n",
    "            pub['doi'] = np.nan\n",
    "        if 'supporting_grant_ids' not in pub:\n",
    "            pub['supporting_grant_ids'] = [np.nan]\n",
    "        for i in range(len(pub['researchers'])-1, -1, -1):\n",
    "            if 'id' not in pub['researchers'][i]:\n",
    "                del pub['researchers'][i]\n",
    "        for researcher in pub['researchers']:\n",
    "            rsr_id.append(researcher['id'])\n",
    "            pub_id.append(pub['id'])\n",
    "            dates.append(pub['date'])\n",
    "            citations.append(pub['times_cited'])\n",
    "            dois.append(pub['doi'])\n",
    "            supporting_grants.append(pub['supporting_grant_ids'])\n",
    "            rcdc_codes_t = []\n",
    "            rcdc_names_t = []\n",
    "            for rcdc in pub['RCDC']:\n",
    "                rcdc_codes_t.append(str(rcdc['id']))\n",
    "                rcdc_names_t.append(str(rcdc['name']))\n",
    "            rcdc_codes.append(\"; \".join(rcdc_codes_t))\n",
    "            rcdc_names.append(\"; \".join(rcdc_names_t))\n",
    "                \n",
    "    pubs = pd.DataFrame({'rsr_id':rsr_id, 'pub_id':pub_id\n",
    "                         , 'rcdc_codes':rcdc_codes, 'rcdc_names':rcdc_names\n",
    "                         , 'date':dates, 'citations':citations, 'doi':dois\n",
    "                         , 'supporting_grants':supporting_grants\n",
    "                         })\n",
    "    pubs['supporting_grants'] = pubs['supporting_grants'].apply(lambda x: np.nan if x == [np.nan] else  '; '.join(x))\n",
    "\n",
    "    return pubs"
   ]
  },
  {
   "cell_type": "markdown",
   "metadata": {},
   "source": [
    "## Method 1: Pulling all Researchers who Collaborated on Grants with INCA-Funded Researchers"
   ]
  },
  {
   "cell_type": "markdown",
   "metadata": {},
   "source": [
    "### All Researchers on Grants Awarded to INCA Researchers"
   ]
  },
  {
   "cell_type": "code",
   "execution_count": 9,
   "metadata": {},
   "outputs": [],
   "source": [
    "# rsr_info = pd.read_csv('../data/researchers.csv')\n",
    "# rsrs = list(rsr_info[rsr_info['id'].notnull()]['id'].drop_duplicates().reset_index(drop = True))"
   ]
  },
  {
   "cell_type": "markdown",
   "metadata": {},
   "source": [
    "### Pull all Grants Awarded by these Researchers"
   ]
  },
  {
   "cell_type": "code",
   "execution_count": 10,
   "metadata": {},
   "outputs": [],
   "source": [
    "# string = \"search grants where researchers.id in [{}] return grants[id+researchers+RCDC]\""
   ]
  },
  {
   "cell_type": "code",
   "execution_count": 11,
   "metadata": {
    "scrolled": true
   },
   "outputs": [],
   "source": [
    "# full_resp = pull_data(string=string, in_list=rsrs, in_type='researchers', return_type='grants')"
   ]
  },
  {
   "cell_type": "code",
   "execution_count": 12,
   "metadata": {
    "scrolled": false
   },
   "outputs": [],
   "source": [
    "# rsr_id = []\n",
    "# grant_id = []\n",
    "# rcdc_codes = []\n",
    "# rcdc_names = []\n",
    "# for grant in full_resp:\n",
    "#     for researcher in grant['researchers']:\n",
    "#         rsr_id.append(researcher['id'])\n",
    "#         grant_id.append(grant['id'])\n",
    "#         rcdc_codes_t = []\n",
    "#         rcdc_names_t = []\n",
    "#         if 'RCDC' in grant:\n",
    "#             for rcdc in grant['RCDC']:\n",
    "#                 rcdc_codes_t.append(str(rcdc['id']))\n",
    "#                 rcdc_names_t.append(rcdc['name'])\n",
    "#             rcdc_codes.append(\"; \".join(rcdc_codes_t))\n",
    "#             rcdc_names.append(\"; \".join(rcdc_names_t))\n",
    "#         else:\n",
    "#             rcdc_codes.append(\"\")\n",
    "#             rcdc_names.append(\"\")"
   ]
  },
  {
   "cell_type": "code",
   "execution_count": 13,
   "metadata": {},
   "outputs": [],
   "source": [
    "# collab_grnts = pd.DataFrame({'rsr_id':rsr_id, 'grant_id':grant_id, 'rcdc_codes':rcdc_codes, 'rcdc_names':rcdc_names})\n",
    "# collab_rsrs = collab_grnts.groupby('rsr_id')['grant_id'].nunique().reset_index()"
   ]
  },
  {
   "cell_type": "markdown",
   "metadata": {},
   "source": [
    "### Analysis of Results"
   ]
  },
  {
   "cell_type": "code",
   "execution_count": 14,
   "metadata": {},
   "outputs": [],
   "source": [
    "# # INCA-funded rsrs:\n",
    "# rsrs_inca = rsrs\n",
    "# print(\"{} INCA-funded researchers (with Dimensions IDs)\".format(len(rsrs_inca)))\n",
    "\n",
    "# # INCA-funded rsrs who have grants with the API:\n",
    "# # rsrs_inca_t = inca_rsrs_grants['rsr_id'].drop_duplicates().reset_index(drop = True)\n",
    "# # print(\"{} INCA-funded researchers appear to have grants with the Dimensions API\".format(len(rsrs_inca_t)))\n",
    "\n",
    "# # rsrs who are on grants where with >1 INCA-funded rsrs\n",
    "# rsrs_all = collab_rsrs['rsr_id'].drop_duplicates().reset_index(drop = True)\n",
    "# print(\"{} researchers participated in grants with at least one INCA-funded researcher\".format(len(rsrs_all)))"
   ]
  },
  {
   "cell_type": "code",
   "execution_count": 15,
   "metadata": {
    "scrolled": false
   },
   "outputs": [],
   "source": [
    "# rsrs_comp_1 = rsrs_all[rsrs_all.apply(lambda x: x not in list(rsrs_inca))].reset_index(drop = True)\n",
    "\n",
    "# # Number of comparison rsrs identified:\n",
    "# print(\"Size of comparison group identified: {} researchers\".format(len(rsrs_comp_1)))"
   ]
  },
  {
   "cell_type": "markdown",
   "metadata": {},
   "source": [
    "## Method 2: Pulling all Researchers who Co-Authored with INCA-Funded Researchers"
   ]
  },
  {
   "cell_type": "markdown",
   "metadata": {},
   "source": [
    "### All Researchers on Grants Awarded to INCA Researchers"
   ]
  },
  {
   "cell_type": "code",
   "execution_count": 16,
   "metadata": {},
   "outputs": [],
   "source": [
    "# rsr_info = pd.read_csv('../data/researchers.csv')\n",
    "# rsrs = list(rsr_info[rsr_info['id'].notnull()]['id'].drop_duplicates().reset_index(drop = True))"
   ]
  },
  {
   "cell_type": "markdown",
   "metadata": {},
   "source": [
    "### Pull all Publications by these Researchers"
   ]
  },
  {
   "cell_type": "code",
   "execution_count": 17,
   "metadata": {},
   "outputs": [],
   "source": [
    "# string = \"search publications where researchers.id in [{}] return publications[id+researchers]\""
   ]
  },
  {
   "cell_type": "code",
   "execution_count": 18,
   "metadata": {
    "scrolled": true
   },
   "outputs": [],
   "source": [
    "# full_resp = pull_data(string=string, in_list=rsrs, in_type='researchers', return_type='publications')"
   ]
  },
  {
   "cell_type": "code",
   "execution_count": 19,
   "metadata": {
    "scrolled": false
   },
   "outputs": [],
   "source": [
    "# rsr_id = []\n",
    "# pub_id = []\n",
    "# for pub in full_resp:\n",
    "#     for researcher in pub['researchers']:\n",
    "#         rsr_id.append(researcher['id'])\n",
    "#         pub_id.append(pub['id'])"
   ]
  },
  {
   "cell_type": "code",
   "execution_count": 20,
   "metadata": {},
   "outputs": [],
   "source": [
    "# collab_pubs = pd.DataFrame({'rsr_id':rsr_id, 'publication_id':pub_id})\n",
    "# collab_rsrs = collab_pubs.groupby('rsr_id')['publication_id'].nunique().reset_index()"
   ]
  },
  {
   "cell_type": "markdown",
   "metadata": {},
   "source": [
    "### Analysis of Results"
   ]
  },
  {
   "cell_type": "code",
   "execution_count": 21,
   "metadata": {},
   "outputs": [],
   "source": [
    "# # INCA-funded rsrs:\n",
    "# rsrs_inca = rsrs\n",
    "# print(\"{} INCA-funded researchers (with Dimensions IDs)\".format(len(rsrs_inca)))\n",
    "\n",
    "# # rsrs who are on publications with >1 INCA-funded rsrs\n",
    "# rsrs_all = collab_rsrs['rsr_id'].drop_duplicates().reset_index(drop = True)\n",
    "# print(\"{} researchers participated in publications with at least one INCA-funded researcher\".format(len(rsrs_all)))"
   ]
  },
  {
   "cell_type": "code",
   "execution_count": 22,
   "metadata": {
    "scrolled": false
   },
   "outputs": [],
   "source": [
    "# rsrs_comp_2 = rsrs_all[rsrs_all.apply(lambda x: x not in list(rsrs_inca))].reset_index(drop = True)\n",
    "\n",
    "# # Number of comparison rsrs identified:\n",
    "# print(\"Size of comparison group identified: {} researchers\".format(len(rsrs_comp_2)))"
   ]
  },
  {
   "cell_type": "markdown",
   "metadata": {},
   "source": [
    "## Method 3: Counterfactual based on Funding Agencies"
   ]
  },
  {
   "cell_type": "markdown",
   "metadata": {},
   "source": [
    "### Define Comparison Agencies:\n",
    "\n",
    "Funding Agencies considered are NIH Wellcome Trust, Australian  NRMC, MRC in UK"
   ]
  },
  {
   "cell_type": "code",
   "execution_count": 23,
   "metadata": {},
   "outputs": [],
   "source": [
    "funders = ['Wellcome Trust', 'National Health and Medical Research Council', 'Cancer Research UK', \n",
    "           'National Cancer Institute']"
   ]
  },
  {
   "cell_type": "markdown",
   "metadata": {},
   "source": [
    "### Pull all Researchers Funded by these Agencies"
   ]
  },
  {
   "cell_type": "code",
   "execution_count": 24,
   "metadata": {
    "scrolled": false
   },
   "outputs": [
    {
     "name": "stdout",
     "output_type": "stream",
     "text": [
      "Querying: 0-4/4 funding agencies...\n",
      "Done !\n"
     ]
    }
   ],
   "source": [
    "string = \"search grants where funders.name in [{}] and start_year>=2007 and start_year<=2012\"\n",
    "string += \" return grants[id+researchers+RCDC+funders+start_date+end_date+funding_amount]\"\n",
    "full_resp = pull_data(string=string, in_list=funders, in_type='funding agencies', return_type='grants')"
   ]
  },
  {
   "cell_type": "code",
   "execution_count": 25,
   "metadata": {},
   "outputs": [],
   "source": [
    "fundr_grnts = parse_grant(full_resp).drop_duplicates().reset_index(drop=True)"
   ]
  },
  {
   "cell_type": "code",
   "execution_count": 26,
   "metadata": {},
   "outputs": [],
   "source": [
    "# Remove all other funders that might have appeared\n",
    "fundr_grnts[(fundr_grnts['funder_name'].isin(funders))]\n",
    "\n",
    "# For non-cancer-specific funders, resstrict to Cancer Grants:\n",
    "general_funders = ['Wellcome Trust', 'National Health and Medical Research Council']\n",
    "fundr_grnts = fundr_grnts[(fundr_grnts['funder_name'].isin(general_funders)==False)\n",
    "                          |(fundr_grnts['rcdc_names'].str.contains(\"Cancer\"))]\n",
    "\n",
    "# Restrict to grants funded between 2007 and 2012:\n",
    "fundr_grnts = fundr_grnts[(pd.DatetimeIndex(fundr_grnts['start_date']).year>=2007)\n",
    "                          & (pd.DatetimeIndex(fundr_grnts['start_date']).year<=2012)].reset_index(drop=True)"
   ]
  },
  {
   "cell_type": "code",
   "execution_count": 27,
   "metadata": {},
   "outputs": [],
   "source": [
    "fundr_grnts.to_csv('../data/counterfactual/counterfactual_funded_grants.csv', index=False)"
   ]
  },
  {
   "cell_type": "markdown",
   "metadata": {},
   "source": [
    "### Pull all Grants and Publications from these Researchers"
   ]
  },
  {
   "cell_type": "code",
   "execution_count": 28,
   "metadata": {},
   "outputs": [],
   "source": [
    "fundr_grnts = pd.read_csv('../data/counterfactual/counterfactual_funded_grants.csv')\n",
    "rsrs = fundr_grnts[fundr_grnts['rsr_id'].notnull()]['rsr_id'].drop_duplicates()"
   ]
  },
  {
   "cell_type": "markdown",
   "metadata": {},
   "source": [
    "#### Grants"
   ]
  },
  {
   "cell_type": "code",
   "execution_count": 29,
   "metadata": {},
   "outputs": [
    {
     "name": "stdout",
     "output_type": "stream",
     "text": [
      "Querying: 12000-12165/12165 researchers...\n",
      "Done !\n"
     ]
    }
   ],
   "source": [
    "string = \"search grants where researchers.id in [{}]\"\n",
    "string += \" return grants[id+researchers+RCDC+funders+start_date+end_date+funding_amount]\"\n",
    "full_resp = pull_data(string=string, in_list=rsrs, in_type='researchers', return_type='grants')"
   ]
  },
  {
   "cell_type": "code",
   "execution_count": 30,
   "metadata": {},
   "outputs": [],
   "source": [
    "grnts = parse_grant(full_resp)\n",
    "grnts = grnts.drop_duplicates().reset_index(drop=True)"
   ]
  },
  {
   "cell_type": "code",
   "execution_count": 31,
   "metadata": {},
   "outputs": [
    {
     "data": {
      "text/html": [
       "<div>\n",
       "<style scoped>\n",
       "    .dataframe tbody tr th:only-of-type {\n",
       "        vertical-align: middle;\n",
       "    }\n",
       "\n",
       "    .dataframe tbody tr th {\n",
       "        vertical-align: top;\n",
       "    }\n",
       "\n",
       "    .dataframe thead th {\n",
       "        text-align: right;\n",
       "    }\n",
       "</style>\n",
       "<table border=\"1\" class=\"dataframe\">\n",
       "  <thead>\n",
       "    <tr style=\"text-align: right;\">\n",
       "      <th></th>\n",
       "      <th>end_date</th>\n",
       "      <th>funder_id</th>\n",
       "      <th>funder_name</th>\n",
       "      <th>funding_amount</th>\n",
       "      <th>grant_id</th>\n",
       "      <th>rcdc_codes</th>\n",
       "      <th>rcdc_names</th>\n",
       "      <th>rsr_id</th>\n",
       "      <th>start_date</th>\n",
       "    </tr>\n",
       "  </thead>\n",
       "  <tbody>\n",
       "    <tr>\n",
       "      <th>count</th>\n",
       "      <td>110731</td>\n",
       "      <td>111688</td>\n",
       "      <td>111688</td>\n",
       "      <td>1.056040e+05</td>\n",
       "      <td>111688</td>\n",
       "      <td>111688</td>\n",
       "      <td>111688</td>\n",
       "      <td>111688</td>\n",
       "      <td>111411</td>\n",
       "    </tr>\n",
       "    <tr>\n",
       "      <th>unique</th>\n",
       "      <td>3026</td>\n",
       "      <td>201</td>\n",
       "      <td>200</td>\n",
       "      <td>NaN</td>\n",
       "      <td>65766</td>\n",
       "      <td>24308</td>\n",
       "      <td>24308</td>\n",
       "      <td>37112</td>\n",
       "      <td>5143</td>\n",
       "    </tr>\n",
       "    <tr>\n",
       "      <th>top</th>\n",
       "      <td>2017-01-01</td>\n",
       "      <td>grid.48336.3a</td>\n",
       "      <td>National Cancer Institute</td>\n",
       "      <td>NaN</td>\n",
       "      <td>grant.3575135</td>\n",
       "      <td>nan</td>\n",
       "      <td>nan</td>\n",
       "      <td>ur.01117731572.33</td>\n",
       "      <td>2009-01-01</td>\n",
       "    </tr>\n",
       "    <tr>\n",
       "      <th>freq</th>\n",
       "      <td>2390</td>\n",
       "      <td>28046</td>\n",
       "      <td>28046</td>\n",
       "      <td>NaN</td>\n",
       "      <td>50</td>\n",
       "      <td>19453</td>\n",
       "      <td>19453</td>\n",
       "      <td>384</td>\n",
       "      <td>3091</td>\n",
       "    </tr>\n",
       "    <tr>\n",
       "      <th>mean</th>\n",
       "      <td>NaN</td>\n",
       "      <td>NaN</td>\n",
       "      <td>NaN</td>\n",
       "      <td>1.417444e+06</td>\n",
       "      <td>NaN</td>\n",
       "      <td>NaN</td>\n",
       "      <td>NaN</td>\n",
       "      <td>NaN</td>\n",
       "      <td>NaN</td>\n",
       "    </tr>\n",
       "    <tr>\n",
       "      <th>std</th>\n",
       "      <td>NaN</td>\n",
       "      <td>NaN</td>\n",
       "      <td>NaN</td>\n",
       "      <td>4.695819e+06</td>\n",
       "      <td>NaN</td>\n",
       "      <td>NaN</td>\n",
       "      <td>NaN</td>\n",
       "      <td>NaN</td>\n",
       "      <td>NaN</td>\n",
       "    </tr>\n",
       "    <tr>\n",
       "      <th>min</th>\n",
       "      <td>NaN</td>\n",
       "      <td>NaN</td>\n",
       "      <td>NaN</td>\n",
       "      <td>0.000000e+00</td>\n",
       "      <td>NaN</td>\n",
       "      <td>NaN</td>\n",
       "      <td>NaN</td>\n",
       "      <td>NaN</td>\n",
       "      <td>NaN</td>\n",
       "    </tr>\n",
       "    <tr>\n",
       "      <th>25%</th>\n",
       "      <td>NaN</td>\n",
       "      <td>NaN</td>\n",
       "      <td>NaN</td>\n",
       "      <td>2.030555e+05</td>\n",
       "      <td>NaN</td>\n",
       "      <td>NaN</td>\n",
       "      <td>NaN</td>\n",
       "      <td>NaN</td>\n",
       "      <td>NaN</td>\n",
       "    </tr>\n",
       "    <tr>\n",
       "      <th>50%</th>\n",
       "      <td>NaN</td>\n",
       "      <td>NaN</td>\n",
       "      <td>NaN</td>\n",
       "      <td>4.893640e+05</td>\n",
       "      <td>NaN</td>\n",
       "      <td>NaN</td>\n",
       "      <td>NaN</td>\n",
       "      <td>NaN</td>\n",
       "      <td>NaN</td>\n",
       "    </tr>\n",
       "    <tr>\n",
       "      <th>75%</th>\n",
       "      <td>NaN</td>\n",
       "      <td>NaN</td>\n",
       "      <td>NaN</td>\n",
       "      <td>1.359881e+06</td>\n",
       "      <td>NaN</td>\n",
       "      <td>NaN</td>\n",
       "      <td>NaN</td>\n",
       "      <td>NaN</td>\n",
       "      <td>NaN</td>\n",
       "    </tr>\n",
       "    <tr>\n",
       "      <th>max</th>\n",
       "      <td>NaN</td>\n",
       "      <td>NaN</td>\n",
       "      <td>NaN</td>\n",
       "      <td>5.686230e+08</td>\n",
       "      <td>NaN</td>\n",
       "      <td>NaN</td>\n",
       "      <td>NaN</td>\n",
       "      <td>NaN</td>\n",
       "      <td>NaN</td>\n",
       "    </tr>\n",
       "  </tbody>\n",
       "</table>\n",
       "</div>"
      ],
      "text/plain": [
       "          end_date      funder_id                funder_name  funding_amount  \\\n",
       "count       110731         111688                     111688    1.056040e+05   \n",
       "unique        3026            201                        200             NaN   \n",
       "top     2017-01-01  grid.48336.3a  National Cancer Institute             NaN   \n",
       "freq          2390          28046                      28046             NaN   \n",
       "mean           NaN            NaN                        NaN    1.417444e+06   \n",
       "std            NaN            NaN                        NaN    4.695819e+06   \n",
       "min            NaN            NaN                        NaN    0.000000e+00   \n",
       "25%            NaN            NaN                        NaN    2.030555e+05   \n",
       "50%            NaN            NaN                        NaN    4.893640e+05   \n",
       "75%            NaN            NaN                        NaN    1.359881e+06   \n",
       "max            NaN            NaN                        NaN    5.686230e+08   \n",
       "\n",
       "             grant_id rcdc_codes rcdc_names             rsr_id  start_date  \n",
       "count          111688     111688     111688             111688      111411  \n",
       "unique          65766      24308      24308              37112        5143  \n",
       "top     grant.3575135        nan        nan  ur.01117731572.33  2009-01-01  \n",
       "freq               50      19453      19453                384        3091  \n",
       "mean              NaN        NaN        NaN                NaN         NaN  \n",
       "std               NaN        NaN        NaN                NaN         NaN  \n",
       "min               NaN        NaN        NaN                NaN         NaN  \n",
       "25%               NaN        NaN        NaN                NaN         NaN  \n",
       "50%               NaN        NaN        NaN                NaN         NaN  \n",
       "75%               NaN        NaN        NaN                NaN         NaN  \n",
       "max               NaN        NaN        NaN                NaN         NaN  "
      ]
     },
     "execution_count": 31,
     "metadata": {},
     "output_type": "execute_result"
    }
   ],
   "source": [
    "grnts.describe(include='all')"
   ]
  },
  {
   "cell_type": "code",
   "execution_count": 32,
   "metadata": {},
   "outputs": [],
   "source": [
    "grnts.to_csv('../data/counterfactual/counterfactual_researcher_grants.csv', index=False)"
   ]
  },
  {
   "cell_type": "markdown",
   "metadata": {},
   "source": [
    "#### Publications"
   ]
  },
  {
   "cell_type": "code",
   "execution_count": 33,
   "metadata": {
    "scrolled": false
   },
   "outputs": [
    {
     "name": "stdout",
     "output_type": "stream",
     "text": [
      "Querying: 250-500/12165 researchers...\n",
      "RESPONSE ERROR on i=1 and j=6.\n",
      "\n",
      "Querying: 1750-2000/12165 researchers...\n",
      "RESPONSE ERROR on i=7 and j=8.\n",
      "\n",
      "Querying: 2250-2500/12165 researchers...\n",
      "RESPONSE ERROR on i=9 and j=6.\n",
      "\n",
      "Querying: 3750-4000/12165 researchers...\n",
      "RESPONSE ERROR on i=15 and j=7.\n",
      "\n",
      "Querying: 4000-4250/12165 researchers...\n",
      "RESPONSE ERROR on i=16 and j=7.\n",
      "\n",
      "Querying: 6000-6250/12165 researchers...\n",
      "RESPONSE ERROR on i=24 and j=6.\n",
      "\n",
      "Querying: 7750-8000/12165 researchers...\n",
      "RESPONSE ERROR on i=31 and j=5.\n",
      "\n",
      "\n",
      "RESPONSE ERROR on i=31 and j=6.\n",
      "\n",
      "Querying: 8250-8500/12165 researchers...\n",
      "RESPONSE ERROR on i=33 and j=5.\n",
      "\n",
      "Querying: 8750-9000/12165 researchers...\n",
      "RESPONSE ERROR on i=35 and j=13.\n",
      "\n",
      "Querying: 9500-9750/12165 researchers...\n",
      "RESPONSE ERROR on i=38 and j=5.\n",
      "\n",
      "Querying: 10250-10500/12165 researchers...\n",
      "RESPONSE ERROR on i=41 and j=3.\n",
      "\n",
      "Querying: 10500-10750/12165 researchers...\n",
      "RESPONSE ERROR on i=42 and j=4.\n",
      "\n",
      "Querying: 12000-12165/12165 researchers...\n",
      "Done !\n"
     ]
    }
   ],
   "source": [
    "string = \"search publications where researchers.id in [{}]\"\n",
    "string += \" return publications[id+researchers+date+doi+supporting_grant_ids+times_cited+RCDC]\"\n",
    "full_resp = pull_data(string=string, in_list=rsrs, in_type='researchers', return_type='publications')"
   ]
  },
  {
   "cell_type": "code",
   "execution_count": 34,
   "metadata": {},
   "outputs": [],
   "source": [
    "pubs = parse_publication(full_resp)\n",
    "pubs = pubs.drop_duplicates().reset_index(drop=True)"
   ]
  },
  {
   "cell_type": "code",
   "execution_count": 35,
   "metadata": {
    "scrolled": false
   },
   "outputs": [
    {
     "data": {
      "text/html": [
       "<div>\n",
       "<style scoped>\n",
       "    .dataframe tbody tr th:only-of-type {\n",
       "        vertical-align: middle;\n",
       "    }\n",
       "\n",
       "    .dataframe tbody tr th {\n",
       "        vertical-align: top;\n",
       "    }\n",
       "\n",
       "    .dataframe thead th {\n",
       "        text-align: right;\n",
       "    }\n",
       "</style>\n",
       "<table border=\"1\" class=\"dataframe\">\n",
       "  <thead>\n",
       "    <tr style=\"text-align: right;\">\n",
       "      <th></th>\n",
       "      <th>citations</th>\n",
       "      <th>date</th>\n",
       "      <th>doi</th>\n",
       "      <th>pub_id</th>\n",
       "      <th>rcdc_codes</th>\n",
       "      <th>rcdc_names</th>\n",
       "      <th>rsr_id</th>\n",
       "      <th>supporting_grants</th>\n",
       "    </tr>\n",
       "  </thead>\n",
       "  <tbody>\n",
       "    <tr>\n",
       "      <th>0</th>\n",
       "      <td>0</td>\n",
       "      <td>2018-12-02</td>\n",
       "      <td>10.1038/s41598-018-22599-w</td>\n",
       "      <td>pub.1101436524</td>\n",
       "      <td>338; 363; 337; 526</td>\n",
       "      <td>Biotechnology; Human Genome; Bioengineering; G...</td>\n",
       "      <td>ur.0644660213.73</td>\n",
       "      <td>grant.2440602</td>\n",
       "    </tr>\n",
       "    <tr>\n",
       "      <th>1</th>\n",
       "      <td>0</td>\n",
       "      <td>2018-12-02</td>\n",
       "      <td>10.1038/s41598-018-22599-w</td>\n",
       "      <td>pub.1101436524</td>\n",
       "      <td>338; 363; 337; 526</td>\n",
       "      <td>Biotechnology; Human Genome; Bioengineering; G...</td>\n",
       "      <td>ur.01244615341.63</td>\n",
       "      <td>grant.2440602</td>\n",
       "    </tr>\n",
       "    <tr>\n",
       "      <th>2</th>\n",
       "      <td>0</td>\n",
       "      <td>2018-12-02</td>\n",
       "      <td>10.1038/s41598-018-22599-w</td>\n",
       "      <td>pub.1101436524</td>\n",
       "      <td>338; 363; 337; 526</td>\n",
       "      <td>Biotechnology; Human Genome; Bioengineering; G...</td>\n",
       "      <td>ur.0655465515.31</td>\n",
       "      <td>grant.2440602</td>\n",
       "    </tr>\n",
       "    <tr>\n",
       "      <th>3</th>\n",
       "      <td>0</td>\n",
       "      <td>2018-12-02</td>\n",
       "      <td>10.1038/s41598-018-22599-w</td>\n",
       "      <td>pub.1101436524</td>\n",
       "      <td>338; 363; 337; 526</td>\n",
       "      <td>Biotechnology; Human Genome; Bioengineering; G...</td>\n",
       "      <td>ur.01020001441.06</td>\n",
       "      <td>grant.2440602</td>\n",
       "    </tr>\n",
       "    <tr>\n",
       "      <th>4</th>\n",
       "      <td>0</td>\n",
       "      <td>2018-12-02</td>\n",
       "      <td>10.1038/s41598-018-22599-w</td>\n",
       "      <td>pub.1101436524</td>\n",
       "      <td>338; 363; 337; 526</td>\n",
       "      <td>Biotechnology; Human Genome; Bioengineering; G...</td>\n",
       "      <td>ur.01214442221.77</td>\n",
       "      <td>grant.2440602</td>\n",
       "    </tr>\n",
       "  </tbody>\n",
       "</table>\n",
       "</div>"
      ],
      "text/plain": [
       "   citations        date                         doi          pub_id  \\\n",
       "0          0  2018-12-02  10.1038/s41598-018-22599-w  pub.1101436524   \n",
       "1          0  2018-12-02  10.1038/s41598-018-22599-w  pub.1101436524   \n",
       "2          0  2018-12-02  10.1038/s41598-018-22599-w  pub.1101436524   \n",
       "3          0  2018-12-02  10.1038/s41598-018-22599-w  pub.1101436524   \n",
       "4          0  2018-12-02  10.1038/s41598-018-22599-w  pub.1101436524   \n",
       "\n",
       "           rcdc_codes                                         rcdc_names  \\\n",
       "0  338; 363; 337; 526  Biotechnology; Human Genome; Bioengineering; G...   \n",
       "1  338; 363; 337; 526  Biotechnology; Human Genome; Bioengineering; G...   \n",
       "2  338; 363; 337; 526  Biotechnology; Human Genome; Bioengineering; G...   \n",
       "3  338; 363; 337; 526  Biotechnology; Human Genome; Bioengineering; G...   \n",
       "4  338; 363; 337; 526  Biotechnology; Human Genome; Bioengineering; G...   \n",
       "\n",
       "              rsr_id supporting_grants  \n",
       "0   ur.0644660213.73     grant.2440602  \n",
       "1  ur.01244615341.63     grant.2440602  \n",
       "2   ur.0655465515.31     grant.2440602  \n",
       "3  ur.01020001441.06     grant.2440602  \n",
       "4  ur.01214442221.77     grant.2440602  "
      ]
     },
     "execution_count": 35,
     "metadata": {},
     "output_type": "execute_result"
    }
   ],
   "source": [
    "pubs.head()"
   ]
  },
  {
   "cell_type": "code",
   "execution_count": 36,
   "metadata": {},
   "outputs": [
    {
     "data": {
      "text/html": [
       "<div>\n",
       "<style scoped>\n",
       "    .dataframe tbody tr th:only-of-type {\n",
       "        vertical-align: middle;\n",
       "    }\n",
       "\n",
       "    .dataframe tbody tr th {\n",
       "        vertical-align: top;\n",
       "    }\n",
       "\n",
       "    .dataframe thead th {\n",
       "        text-align: right;\n",
       "    }\n",
       "</style>\n",
       "<table border=\"1\" class=\"dataframe\">\n",
       "  <thead>\n",
       "    <tr style=\"text-align: right;\">\n",
       "      <th></th>\n",
       "      <th>citations</th>\n",
       "      <th>date</th>\n",
       "      <th>doi</th>\n",
       "      <th>pub_id</th>\n",
       "      <th>rcdc_codes</th>\n",
       "      <th>rcdc_names</th>\n",
       "      <th>rsr_id</th>\n",
       "      <th>supporting_grants</th>\n",
       "    </tr>\n",
       "  </thead>\n",
       "  <tbody>\n",
       "    <tr>\n",
       "      <th>count</th>\n",
       "      <td>6.015826e+06</td>\n",
       "      <td>6015717</td>\n",
       "      <td>5760441</td>\n",
       "      <td>6015826</td>\n",
       "      <td>6015826</td>\n",
       "      <td>6015826</td>\n",
       "      <td>6015826</td>\n",
       "      <td>2899105</td>\n",
       "    </tr>\n",
       "    <tr>\n",
       "      <th>unique</th>\n",
       "      <td>NaN</td>\n",
       "      <td>11607</td>\n",
       "      <td>887282</td>\n",
       "      <td>940153</td>\n",
       "      <td>214263</td>\n",
       "      <td>214263</td>\n",
       "      <td>966489</td>\n",
       "      <td>261864</td>\n",
       "    </tr>\n",
       "    <tr>\n",
       "      <th>top</th>\n",
       "      <td>NaN</td>\n",
       "      <td>2011-08-02</td>\n",
       "      <td>10.1080/15548627.2015.1100356</td>\n",
       "      <td>pub.1058406632</td>\n",
       "      <td>nan</td>\n",
       "      <td>nan</td>\n",
       "      <td>ur.012724545020.23</td>\n",
       "      <td>grant.2438826</td>\n",
       "    </tr>\n",
       "    <tr>\n",
       "      <th>freq</th>\n",
       "      <td>NaN</td>\n",
       "      <td>81960</td>\n",
       "      <td>1554</td>\n",
       "      <td>1554</td>\n",
       "      <td>1776352</td>\n",
       "      <td>1776352</td>\n",
       "      <td>2370</td>\n",
       "      <td>22545</td>\n",
       "    </tr>\n",
       "    <tr>\n",
       "      <th>mean</th>\n",
       "      <td>5.315537e+01</td>\n",
       "      <td>NaN</td>\n",
       "      <td>NaN</td>\n",
       "      <td>NaN</td>\n",
       "      <td>NaN</td>\n",
       "      <td>NaN</td>\n",
       "      <td>NaN</td>\n",
       "      <td>NaN</td>\n",
       "    </tr>\n",
       "    <tr>\n",
       "      <th>std</th>\n",
       "      <td>1.868054e+02</td>\n",
       "      <td>NaN</td>\n",
       "      <td>NaN</td>\n",
       "      <td>NaN</td>\n",
       "      <td>NaN</td>\n",
       "      <td>NaN</td>\n",
       "      <td>NaN</td>\n",
       "      <td>NaN</td>\n",
       "    </tr>\n",
       "    <tr>\n",
       "      <th>min</th>\n",
       "      <td>0.000000e+00</td>\n",
       "      <td>NaN</td>\n",
       "      <td>NaN</td>\n",
       "      <td>NaN</td>\n",
       "      <td>NaN</td>\n",
       "      <td>NaN</td>\n",
       "      <td>NaN</td>\n",
       "      <td>NaN</td>\n",
       "    </tr>\n",
       "    <tr>\n",
       "      <th>25%</th>\n",
       "      <td>2.000000e+00</td>\n",
       "      <td>NaN</td>\n",
       "      <td>NaN</td>\n",
       "      <td>NaN</td>\n",
       "      <td>NaN</td>\n",
       "      <td>NaN</td>\n",
       "      <td>NaN</td>\n",
       "      <td>NaN</td>\n",
       "    </tr>\n",
       "    <tr>\n",
       "      <th>50%</th>\n",
       "      <td>1.500000e+01</td>\n",
       "      <td>NaN</td>\n",
       "      <td>NaN</td>\n",
       "      <td>NaN</td>\n",
       "      <td>NaN</td>\n",
       "      <td>NaN</td>\n",
       "      <td>NaN</td>\n",
       "      <td>NaN</td>\n",
       "    </tr>\n",
       "    <tr>\n",
       "      <th>75%</th>\n",
       "      <td>4.600000e+01</td>\n",
       "      <td>NaN</td>\n",
       "      <td>NaN</td>\n",
       "      <td>NaN</td>\n",
       "      <td>NaN</td>\n",
       "      <td>NaN</td>\n",
       "      <td>NaN</td>\n",
       "      <td>NaN</td>\n",
       "    </tr>\n",
       "    <tr>\n",
       "      <th>max</th>\n",
       "      <td>6.316500e+04</td>\n",
       "      <td>NaN</td>\n",
       "      <td>NaN</td>\n",
       "      <td>NaN</td>\n",
       "      <td>NaN</td>\n",
       "      <td>NaN</td>\n",
       "      <td>NaN</td>\n",
       "      <td>NaN</td>\n",
       "    </tr>\n",
       "  </tbody>\n",
       "</table>\n",
       "</div>"
      ],
      "text/plain": [
       "           citations        date                            doi  \\\n",
       "count   6.015826e+06     6015717                        5760441   \n",
       "unique           NaN       11607                         887282   \n",
       "top              NaN  2011-08-02  10.1080/15548627.2015.1100356   \n",
       "freq             NaN       81960                           1554   \n",
       "mean    5.315537e+01         NaN                            NaN   \n",
       "std     1.868054e+02         NaN                            NaN   \n",
       "min     0.000000e+00         NaN                            NaN   \n",
       "25%     2.000000e+00         NaN                            NaN   \n",
       "50%     1.500000e+01         NaN                            NaN   \n",
       "75%     4.600000e+01         NaN                            NaN   \n",
       "max     6.316500e+04         NaN                            NaN   \n",
       "\n",
       "                pub_id rcdc_codes rcdc_names              rsr_id  \\\n",
       "count          6015826    6015826    6015826             6015826   \n",
       "unique          940153     214263     214263              966489   \n",
       "top     pub.1058406632        nan        nan  ur.012724545020.23   \n",
       "freq              1554    1776352    1776352                2370   \n",
       "mean               NaN        NaN        NaN                 NaN   \n",
       "std                NaN        NaN        NaN                 NaN   \n",
       "min                NaN        NaN        NaN                 NaN   \n",
       "25%                NaN        NaN        NaN                 NaN   \n",
       "50%                NaN        NaN        NaN                 NaN   \n",
       "75%                NaN        NaN        NaN                 NaN   \n",
       "max                NaN        NaN        NaN                 NaN   \n",
       "\n",
       "       supporting_grants  \n",
       "count            2899105  \n",
       "unique            261864  \n",
       "top        grant.2438826  \n",
       "freq               22545  \n",
       "mean                 NaN  \n",
       "std                  NaN  \n",
       "min                  NaN  \n",
       "25%                  NaN  \n",
       "50%                  NaN  \n",
       "75%                  NaN  \n",
       "max                  NaN  "
      ]
     },
     "execution_count": 36,
     "metadata": {},
     "output_type": "execute_result"
    }
   ],
   "source": [
    "pubs.describe(include='all')"
   ]
  },
  {
   "cell_type": "code",
   "execution_count": 37,
   "metadata": {},
   "outputs": [],
   "source": [
    "pubs.to_csv('../data/counterfactual/counterfactual_researcher_publications.csv', index=False)"
   ]
  },
  {
   "cell_type": "markdown",
   "metadata": {},
   "source": [
    "## Sandbox"
   ]
  },
  {
   "cell_type": "code",
   "execution_count": null,
   "metadata": {},
   "outputs": [],
   "source": []
  }
 ],
 "metadata": {
  "kernelspec": {
   "display_name": "Python 3",
   "language": "python",
   "name": "python3"
  },
  "language_info": {
   "codemirror_mode": {
    "name": "ipython",
    "version": 3
   },
   "file_extension": ".py",
   "mimetype": "text/x-python",
   "name": "python",
   "nbconvert_exporter": "python",
   "pygments_lexer": "ipython3",
   "version": "3.6.2"
  },
  "toc": {
   "nav_menu": {},
   "number_sections": false,
   "sideBar": true,
   "skip_h1_title": false,
   "title_cell": "Table of Contents",
   "title_sidebar": "Contents",
   "toc_cell": false,
   "toc_position": {
    "height": "calc(100% - 180px)",
    "left": "10px",
    "top": "150px",
    "width": "275px"
   },
   "toc_section_display": true,
   "toc_window_display": true
  }
 },
 "nbformat": 4,
 "nbformat_minor": 2
}
