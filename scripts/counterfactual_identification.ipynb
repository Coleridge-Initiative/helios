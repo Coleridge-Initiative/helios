{
 "cells": [
  {
   "cell_type": "markdown",
   "metadata": {},
   "source": [
    "# API Testing"
   ]
  },
  {
   "cell_type": "markdown",
   "metadata": {},
   "source": [
    "## Python Setup"
   ]
  },
  {
   "cell_type": "code",
   "execution_count": 1,
   "metadata": {},
   "outputs": [],
   "source": [
    "import requests\n",
    "import time\n",
    "import pandas as pd"
   ]
  },
  {
   "cell_type": "markdown",
   "metadata": {},
   "source": [
    "## Connecting to API"
   ]
  },
  {
   "cell_type": "markdown",
   "metadata": {},
   "source": [
    "### Login Information"
   ]
  },
  {
   "cell_type": "markdown",
   "metadata": {},
   "source": [
    "Fetch my password from a separate .txt file:"
   ]
  },
  {
   "cell_type": "code",
   "execution_count": 2,
   "metadata": {},
   "outputs": [],
   "source": [
    "with open('../data/password.txt', 'r') as myfile:\n",
    "    password = myfile.read().strip()"
   ]
  },
  {
   "cell_type": "code",
   "execution_count": 3,
   "metadata": {},
   "outputs": [],
   "source": [
    "login = {\n",
    "    'username': 'nj995@nyu.edu',\n",
    "    'password': password\n",
    "}"
   ]
  },
  {
   "cell_type": "markdown",
   "metadata": {},
   "source": [
    "### API Parameters"
   ]
  },
  {
   "cell_type": "code",
   "execution_count": 4,
   "metadata": {},
   "outputs": [],
   "source": [
    "def execute_query(string):\n",
    "    # Send credentials to login url to retrieve token.\n",
    "    resp = requests.post('https://app.dimensions.ai/api/auth.json', json=login)\n",
    "    resp.raise_for_status()\n",
    "\n",
    "    # Create http header using the generated token.\n",
    "    headers = {'Authorization': \"JWT \" + resp.json()['token']}   \n",
    "    \n",
    "    # Execute DSL query.    \n",
    "    resp = requests.post('https://app.dimensions.ai/api/dsl.json', data= string, headers=headers)\n",
    "    resp = resp.json()\n",
    "    return resp"
   ]
  },
  {
   "cell_type": "markdown",
   "metadata": {},
   "source": [
    "## Pulling Comparison Group"
   ]
  },
  {
   "cell_type": "markdown",
   "metadata": {},
   "source": [
    "### Method 1: Pulling all Researchers who Collaborated with INCA-funded Researchers"
   ]
  },
  {
   "cell_type": "markdown",
   "metadata": {},
   "source": [
    "#### All Grants awarded to INCA researchers"
   ]
  },
  {
   "cell_type": "code",
   "execution_count": 5,
   "metadata": {},
   "outputs": [],
   "source": [
    "rsr_info = pd.read_csv('../data/researchers.csv')\n",
    "rsrs = rsr_info[rsr_info['id'].notnull()]['id'].drop_duplicates().reset_index(drop = True)"
   ]
  },
  {
   "cell_type": "code",
   "execution_count": 6,
   "metadata": {},
   "outputs": [
    {
     "name": "stdout",
     "output_type": "stream",
     "text": [
      "Querying: 965/965 researchers\r"
     ]
    }
   ],
   "source": [
    "ids_t = []\n",
    "grants_t = []\n",
    "for i in range(len(rsrs)):\n",
    "    print('Querying: {}/{} researchers'.format(i+1, len(rsrs)), end = '\\r')\n",
    "    string = '''\n",
    "    search grants \n",
    "    where researchers.id = \"{}\"\n",
    "    return grants\n",
    "    '''.format(rsrs[i])\n",
    "    resp = execute_query(string)\n",
    "    for j in range(len(resp['grants'])):\n",
    "        ids_t.append(rsrs[i])\n",
    "        grants_t.append(resp['grants'][j]['id'])"
   ]
  },
  {
   "cell_type": "code",
   "execution_count": 7,
   "metadata": {},
   "outputs": [],
   "source": [
    "inca_rsrs_grants = pd.DataFrame({'rsr_id': ids_t, 'grant': grants_t})"
   ]
  },
  {
   "cell_type": "markdown",
   "metadata": {},
   "source": [
    "#### All researchers who collaborated on those grants"
   ]
  },
  {
   "cell_type": "code",
   "execution_count": 8,
   "metadata": {},
   "outputs": [],
   "source": [
    "grants = inca_rsrs_grants['grant'].drop_duplicates().reset_index(drop = True)"
   ]
  },
  {
   "cell_type": "code",
   "execution_count": 9,
   "metadata": {},
   "outputs": [
    {
     "name": "stdout",
     "output_type": "stream",
     "text": [
      "Querying: 328/328 grants\r"
     ]
    }
   ],
   "source": [
    "grants_t = []\n",
    "ids_t = []\n",
    "for i in range(len(grants)):\n",
    "    print('Querying: {}/{} grants'.format(i+1, len(grants)), end = '\\r')\n",
    "    string = '''\n",
    "    search grants \n",
    "    where id = \"{}\"\n",
    "    return researchers\n",
    "    '''.format(grants[i])\n",
    "    resp = execute_query(string)\n",
    "    for j in range(len(resp['researchers'])):\n",
    "        grants_t.append(grants[i])\n",
    "        ids_t.append(resp['researchers'][j]['id'])"
   ]
  },
  {
   "cell_type": "code",
   "execution_count": 10,
   "metadata": {},
   "outputs": [],
   "source": [
    "collaborating_rsrs = pd.DataFrame({'grant': grants_t, 'rsr_id': ids_t})"
   ]
  },
  {
   "cell_type": "markdown",
   "metadata": {},
   "source": [
    "#### Analysis of Results"
   ]
  },
  {
   "cell_type": "code",
   "execution_count": 11,
   "metadata": {},
   "outputs": [
    {
     "name": "stdout",
     "output_type": "stream",
     "text": [
      "965 INCA-funded researchers (with Dimensions IDs)\n",
      "207 INCA-funded researchers appear to have grants with the Dimensions API\n",
      "577 researchers participated in grants with at least one INCA-funded researcher\n"
     ]
    }
   ],
   "source": [
    "# INCA-funded rsrs:\n",
    "rsrs_inca = rsrs\n",
    "print(\"{} INCA-funded researchers (with Dimensions IDs)\".format(len(rsrs_inca)))\n",
    "\n",
    "# INCA-funded rsrs who have grants with the API:\n",
    "rsrs_inca_t = inca_rsrs_grants['rsr_id'].drop_duplicates().reset_index(drop = True)\n",
    "print(\"{} INCA-funded researchers appear to have grants with the Dimensions API\".format(len(rsrs_inca_t)))\n",
    "\n",
    "# rsrs who are on grants where with >1 INCA-funded rsrs\n",
    "rsrs_all = collaborating_rsrs['rsr_id'].drop_duplicates().reset_index(drop = True)\n",
    "print(\"{} researchers participated in grants with at least one INCA-funded researcher\".format(len(rsrs_all)))"
   ]
  },
  {
   "cell_type": "code",
   "execution_count": 12,
   "metadata": {},
   "outputs": [
    {
     "name": "stdout",
     "output_type": "stream",
     "text": [
      "True\n",
      "True\n"
     ]
    }
   ],
   "source": [
    "# Spot check: INCA funded rsrs must be in all rsrs:\n",
    "print(sum(rsrs_inca_t.apply(lambda x: x in list(rsrs_all))) == len(rsrs_inca_t))\n",
    "print(sum(rsrs_all.apply(lambda x: x not in list(rsrs_inca_t))) \n",
    "      == sum(rsrs_all.apply(lambda x: x not in list(rsrs_inca))))"
   ]
  },
  {
   "cell_type": "code",
   "execution_count": 15,
   "metadata": {
    "scrolled": false
   },
   "outputs": [
    {
     "name": "stdout",
     "output_type": "stream",
     "text": [
      "Size of comparison group identified: 370 researchers\n"
     ]
    }
   ],
   "source": [
    "rsrs_comp_1 = rsrs_all[rsrs_all.apply(lambda x: x not in list(rsrs_inca))].reset_index(drop = True)\n",
    "\n",
    "# Number of comparison rsrs identified:\n",
    "print(\"Size of comparison group identified: {} researchers\".format(len(rsrs_comp_1)))"
   ]
  },
  {
   "cell_type": "markdown",
   "metadata": {},
   "source": [
    "### Method 2: Pulling all Researchers from Similar Topics"
   ]
  },
  {
   "cell_type": "code",
   "execution_count": null,
   "metadata": {},
   "outputs": [],
   "source": []
  },
  {
   "cell_type": "code",
   "execution_count": null,
   "metadata": {},
   "outputs": [],
   "source": []
  },
  {
   "cell_type": "code",
   "execution_count": null,
   "metadata": {},
   "outputs": [],
   "source": []
  },
  {
   "cell_type": "code",
   "execution_count": null,
   "metadata": {},
   "outputs": [],
   "source": []
  },
  {
   "cell_type": "code",
   "execution_count": null,
   "metadata": {},
   "outputs": [],
   "source": []
  },
  {
   "cell_type": "markdown",
   "metadata": {},
   "source": [
    "## Sandbox"
   ]
  },
  {
   "cell_type": "code",
   "execution_count": 17,
   "metadata": {},
   "outputs": [],
   "source": [
    "string = '''\n",
    "search grants\n",
    "where researchers.id = \"ur.01265037264.14\"\n",
    "return grants\n",
    "'''\n",
    "resp = execute_query(string)"
   ]
  },
  {
   "cell_type": "code",
   "execution_count": 21,
   "metadata": {
    "scrolled": false
   },
   "outputs": [
    {
     "name": "stdout",
     "output_type": "stream",
     "text": [
      "grant.4731058\n",
      "grant.3800931\n",
      "grant.4525380\n",
      "grant.4524698\n"
     ]
    }
   ],
   "source": [
    "for i in range(len(resp['grants'])):\n",
    "    print(resp['grants'][i]['id'])"
   ]
  },
  {
   "cell_type": "code",
   "execution_count": 59,
   "metadata": {},
   "outputs": [],
   "source": [
    "string = '''\n",
    "search grants\n",
    "where researchers.last_name = \"Amigorena\"\n",
    "return grants\n",
    "'''\n",
    "resp = execute_query(string)"
   ]
  },
  {
   "cell_type": "code",
   "execution_count": 60,
   "metadata": {
    "scrolled": true
   },
   "outputs": [
    {
     "name": "stdout",
     "output_type": "stream",
     "text": [
      "grant.4731058\n",
      "grant.3800931\n",
      "grant.4525380\n",
      "grant.3780243\n",
      "grant.4524698\n"
     ]
    }
   ],
   "source": [
    "for i in range(len(resp['grants'])):\n",
    "    print(resp['grants'][i]['id'])"
   ]
  },
  {
   "cell_type": "code",
   "execution_count": null,
   "metadata": {},
   "outputs": [],
   "source": []
  }
 ],
 "metadata": {
  "kernelspec": {
   "display_name": "Python 3",
   "language": "python",
   "name": "python3"
  },
  "language_info": {
   "codemirror_mode": {
    "name": "ipython",
    "version": 3
   },
   "file_extension": ".py",
   "mimetype": "text/x-python",
   "name": "python",
   "nbconvert_exporter": "python",
   "pygments_lexer": "ipython3",
   "version": "3.6.2"
  },
  "toc": {
   "nav_menu": {},
   "number_sections": false,
   "sideBar": true,
   "skip_h1_title": false,
   "title_cell": "Table of Contents",
   "title_sidebar": "Contents",
   "toc_cell": false,
   "toc_position": {
    "height": "calc(100% - 180px)",
    "left": "10px",
    "top": "150px",
    "width": "330px"
   },
   "toc_section_display": true,
   "toc_window_display": true
  }
 },
 "nbformat": 4,
 "nbformat_minor": 2
}
