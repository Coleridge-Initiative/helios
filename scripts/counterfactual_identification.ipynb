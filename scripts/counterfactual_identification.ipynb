{
 "cells": [
  {
   "cell_type": "markdown",
   "metadata": {},
   "source": [
    "# Counterfactual Group Identification"
   ]
  },
  {
   "cell_type": "markdown",
   "metadata": {},
   "source": [
    "## Python Setup"
   ]
  },
  {
   "cell_type": "code",
   "execution_count": 195,
   "metadata": {},
   "outputs": [],
   "source": [
    "import requests\n",
    "import time\n",
    "import pandas as pd\n",
    "pd.options.display.max_rows = 100\n",
    "import math\n",
    "import numpy as np"
   ]
  },
  {
   "cell_type": "markdown",
   "metadata": {},
   "source": [
    "## Connecting to API"
   ]
  },
  {
   "cell_type": "markdown",
   "metadata": {},
   "source": [
    "### Login Information"
   ]
  },
  {
   "cell_type": "markdown",
   "metadata": {},
   "source": [
    "Fetch my password from a separate .txt file:"
   ]
  },
  {
   "cell_type": "code",
   "execution_count": 3,
   "metadata": {},
   "outputs": [],
   "source": [
    "with open('../data/password.txt', 'r') as myfile:\n",
    "    password = myfile.read().strip()"
   ]
  },
  {
   "cell_type": "code",
   "execution_count": 4,
   "metadata": {},
   "outputs": [],
   "source": [
    "login = {\n",
    "    'username': 'nj995@nyu.edu',\n",
    "    'password': password\n",
    "}"
   ]
  },
  {
   "cell_type": "markdown",
   "metadata": {},
   "source": [
    "### API Parameters"
   ]
  },
  {
   "cell_type": "code",
   "execution_count": 6,
   "metadata": {},
   "outputs": [],
   "source": [
    "def execute_query(string):\n",
    "    # Send credentials to login url to retrieve token.\n",
    "    resp = requests.post('https://app.dimensions.ai/api/auth.json', json=login)\n",
    "    resp.raise_for_status()\n",
    "\n",
    "    # Create http header using the generated token.\n",
    "    headers = {'Authorization': \"JWT \" + resp.json()['token']}   \n",
    "    \n",
    "    # Execute DSL query.    \n",
    "    resp = requests.post('https://app.dimensions.ai/api/dsl.json', data= string, headers=headers)\n",
    "    resp = resp.json()\n",
    "    return resp"
   ]
  },
  {
   "cell_type": "code",
   "execution_count": 5,
   "metadata": {},
   "outputs": [],
   "source": [
    "# Filter operator 'in' requires 0 < items < 512\n",
    "max_in_items = 512\n",
    "\n",
    "# Limit exceeds maximum allowed limit 1000\n",
    "max_return = 1000"
   ]
  },
  {
   "cell_type": "markdown",
   "metadata": {},
   "source": [
    "## Pulling Comparison Group"
   ]
  },
  {
   "cell_type": "code",
   "execution_count": 154,
   "metadata": {},
   "outputs": [],
   "source": [
    "def pull_data(string, in_list, in_type, return_type, max_in_items=max_in_items, max_return=max_return):\n",
    "    \n",
    "    full_resp = []\n",
    "\n",
    "    for i in range(math.ceil(len(in_list)/max_in_items)):\n",
    "        min_i, max_i = i*max_in_items, min((i+1)*max_in_items, len(in_list))\n",
    "        print('Querying: {}-{}/{} {}'.format(min_i, max_i, len(in_list), in_type), end = '\\r')\n",
    "\n",
    "        in_t = in_list[min_i:max_i]\n",
    "        string_t = \"\\\"\" + \"\\\", \\\"\".join(in_t) + \"\\\"\"\n",
    "        query = string.format(string_t)\n",
    "\n",
    "        j = 0\n",
    "        loop = True\n",
    "        while loop == True:\n",
    "            query_t = query + \" limit {} skip {}\".format(max_return, max_return*j)\n",
    "            resp = execute_query(query_t)\n",
    "            full_resp.extend(resp[return_type])\n",
    "\n",
    "            if len(resp[return_type])<max_return:\n",
    "                loop = False\n",
    "            j += 1\n",
    "            time.sleep(1)\n",
    "        loop = False\n",
    "            \n",
    "    print(\"\\nDone!\")\n",
    "    return full_resp"
   ]
  },
  {
   "cell_type": "markdown",
   "metadata": {},
   "source": [
    "### Method 1: Pulling all Researchers who Collaborated on Grants with INCA-Funded Researchers"
   ]
  },
  {
   "cell_type": "markdown",
   "metadata": {},
   "source": [
    "#### All Researchers on Grants Awarded to INCA Researchers"
   ]
  },
  {
   "cell_type": "code",
   "execution_count": 155,
   "metadata": {},
   "outputs": [],
   "source": [
    "rsr_info = pd.read_csv('../data/researchers.csv')\n",
    "rsrs = list(rsr_info[rsr_info['id'].notnull()]['id'].drop_duplicates().reset_index(drop = True))"
   ]
  },
  {
   "cell_type": "markdown",
   "metadata": {},
   "source": [
    "#### Pull all Grants Awarded by these Researchers"
   ]
  },
  {
   "cell_type": "code",
   "execution_count": 146,
   "metadata": {},
   "outputs": [],
   "source": [
    "string = \"search grants where researchers.id in [{}] return grants[id+researchers+RCDC]\""
   ]
  },
  {
   "cell_type": "code",
   "execution_count": 147,
   "metadata": {
    "scrolled": true
   },
   "outputs": [
    {
     "name": "stdout",
     "output_type": "stream",
     "text": [
      "Querying: 1024-1069/1069 researchers\n",
      "Done!\n"
     ]
    }
   ],
   "source": [
    "full_resp = pull_data(string=string, in_list=rsrs, in_type='researchers', return_type='grants')"
   ]
  },
  {
   "cell_type": "code",
   "execution_count": 127,
   "metadata": {
    "scrolled": false
   },
   "outputs": [],
   "source": [
    "rsr_id = []\n",
    "grant_id = []\n",
    "rcdc_codes = []\n",
    "rcdc_names = []\n",
    "for grant in full_resp:\n",
    "    for researcher in grant['researchers']:\n",
    "        rsr_id.append(researcher['id'])\n",
    "        grant_id.append(grant['id'])\n",
    "        rcdc_codes_t = []\n",
    "        rcdc_names_t = []\n",
    "        if 'RCDC' in grant:\n",
    "            for rcdc in grant['RCDC']:\n",
    "                rcdc_codes_t.append(str(rcdc['id']))\n",
    "                rcdc_names_t.append(rcdc['name'])\n",
    "            rcdc_codes.append(\"; \".join(rcdc_codes_t))\n",
    "            rcdc_names.append(\"; \".join(rcdc_names_t))\n",
    "        else:\n",
    "            rcdc_codes.append(\"\")\n",
    "            rcdc_names.append(\"\")"
   ]
  },
  {
   "cell_type": "code",
   "execution_count": 132,
   "metadata": {},
   "outputs": [],
   "source": [
    "collab_grnts = pd.DataFrame({'rsr_id':rsr_id, 'grant_id':grant_id, 'rcdc_codes':rcdc_codes, 'rcdc_names':rcdc_names})\n",
    "collab_rsrs = collab_grnts.groupby('rsr_id')['grant_id'].nunique().reset_index()"
   ]
  },
  {
   "cell_type": "markdown",
   "metadata": {},
   "source": [
    "#### Analysis of Results"
   ]
  },
  {
   "cell_type": "code",
   "execution_count": 136,
   "metadata": {},
   "outputs": [
    {
     "name": "stdout",
     "output_type": "stream",
     "text": [
      "1069 INCA-funded researchers (with Dimensions IDs)\n",
      "588 researchers participated in grants with at least one INCA-funded researcher\n"
     ]
    }
   ],
   "source": [
    "# INCA-funded rsrs:\n",
    "rsrs_inca = rsrs\n",
    "print(\"{} INCA-funded researchers (with Dimensions IDs)\".format(len(rsrs_inca)))\n",
    "\n",
    "# INCA-funded rsrs who have grants with the API:\n",
    "# rsrs_inca_t = inca_rsrs_grants['rsr_id'].drop_duplicates().reset_index(drop = True)\n",
    "# print(\"{} INCA-funded researchers appear to have grants with the Dimensions API\".format(len(rsrs_inca_t)))\n",
    "\n",
    "# rsrs who are on grants where with >1 INCA-funded rsrs\n",
    "rsrs_all = collab_rsrs['rsr_id'].drop_duplicates().reset_index(drop = True)\n",
    "print(\"{} researchers participated in grants with at least one INCA-funded researcher\".format(len(rsrs_all)))"
   ]
  },
  {
   "cell_type": "code",
   "execution_count": 137,
   "metadata": {
    "scrolled": false
   },
   "outputs": [
    {
     "name": "stdout",
     "output_type": "stream",
     "text": [
      "Size of comparison group identified: 379 researchers\n"
     ]
    }
   ],
   "source": [
    "rsrs_comp_1 = rsrs_all[rsrs_all.apply(lambda x: x not in list(rsrs_inca))].reset_index(drop = True)\n",
    "\n",
    "# Number of comparison rsrs identified:\n",
    "print(\"Size of comparison group identified: {} researchers\".format(len(rsrs_comp_1)))"
   ]
  },
  {
   "cell_type": "markdown",
   "metadata": {},
   "source": [
    "### Method 2: Pulling all Researchers who Co-Authored with INCA-Funded Researchers"
   ]
  },
  {
   "cell_type": "markdown",
   "metadata": {},
   "source": [
    "#### All Researchers on Grants Awarded to INCA Researchers"
   ]
  },
  {
   "cell_type": "code",
   "execution_count": 156,
   "metadata": {},
   "outputs": [],
   "source": [
    "rsr_info = pd.read_csv('../data/researchers.csv')\n",
    "rsrs = list(rsr_info[rsr_info['id'].notnull()]['id'].drop_duplicates().reset_index(drop = True))"
   ]
  },
  {
   "cell_type": "markdown",
   "metadata": {},
   "source": [
    "#### Pull all Grants Awarded by these Researchers"
   ]
  },
  {
   "cell_type": "code",
   "execution_count": 157,
   "metadata": {},
   "outputs": [],
   "source": [
    "string = \"search publications where researchers.id in [{}] return publications[id+researchers]\""
   ]
  },
  {
   "cell_type": "code",
   "execution_count": 159,
   "metadata": {
    "scrolled": true
   },
   "outputs": [
    {
     "name": "stdout",
     "output_type": "stream",
     "text": [
      "Querying: 1024-1069/1069 researchers\n",
      "Done!\n"
     ]
    }
   ],
   "source": [
    "full_resp = pull_data(string=string, in_list=rsrs, in_type='researchers', return_type='publications')"
   ]
  },
  {
   "cell_type": "code",
   "execution_count": 162,
   "metadata": {
    "scrolled": false
   },
   "outputs": [],
   "source": [
    "rsr_id = []\n",
    "pub_id = []\n",
    "for pub in full_resp:\n",
    "    for researcher in pub['researchers']:\n",
    "        rsr_id.append(researcher['id'])\n",
    "        pub_id.append(pub['id'])"
   ]
  },
  {
   "cell_type": "code",
   "execution_count": 164,
   "metadata": {},
   "outputs": [],
   "source": [
    "collab_pubs = pd.DataFrame({'rsr_id':rsr_id, 'publication_id':pub_id})\n",
    "collab_rsrs = collab_pubs.groupby('rsr_id')['publication_id'].nunique().reset_index()"
   ]
  },
  {
   "cell_type": "markdown",
   "metadata": {},
   "source": [
    "#### Analysis of Results"
   ]
  },
  {
   "cell_type": "code",
   "execution_count": 165,
   "metadata": {},
   "outputs": [
    {
     "name": "stdout",
     "output_type": "stream",
     "text": [
      "1069 INCA-funded researchers (with Dimensions IDs)\n",
      "164485 researchers participated in publications with at least one INCA-funded researcher\n"
     ]
    }
   ],
   "source": [
    "# INCA-funded rsrs:\n",
    "rsrs_inca = rsrs\n",
    "print(\"{} INCA-funded researchers (with Dimensions IDs)\".format(len(rsrs_inca)))\n",
    "\n",
    "# rsrs who are on publications with >1 INCA-funded rsrs\n",
    "rsrs_all = collab_rsrs['rsr_id'].drop_duplicates().reset_index(drop = True)\n",
    "print(\"{} researchers participated in publications with at least one INCA-funded researcher\".format(len(rsrs_all)))"
   ]
  },
  {
   "cell_type": "code",
   "execution_count": 166,
   "metadata": {
    "scrolled": false
   },
   "outputs": [
    {
     "name": "stdout",
     "output_type": "stream",
     "text": [
      "Size of comparison group identified: 163494 researchers\n"
     ]
    }
   ],
   "source": [
    "rsrs_comp_2 = rsrs_all[rsrs_all.apply(lambda x: x not in list(rsrs_inca))].reset_index(drop = True)\n",
    "\n",
    "# Number of comparison rsrs identified:\n",
    "print(\"Size of comparison group identified: {} researchers\".format(len(rsrs_comp_2)))"
   ]
  },
  {
   "cell_type": "markdown",
   "metadata": {},
   "source": [
    "### Method 3: Counterfactual based on Funding Agencies"
   ]
  },
  {
   "cell_type": "markdown",
   "metadata": {},
   "source": [
    "#### Define Comparison Agencies:\n",
    "\n",
    "Funding Agencies considered are NIH Wellcome Trust, Australian  NRMC, MRC in UK"
   ]
  },
  {
   "cell_type": "code",
   "execution_count": 180,
   "metadata": {},
   "outputs": [],
   "source": [
    "funders = ['MRC', 'Wellcome Trust', 'Australian Research Council'\n",
    "           , 'National Health and Medical Research Council', 'Cancer Research UK']"
   ]
  },
  {
   "cell_type": "markdown",
   "metadata": {},
   "source": [
    "#### Pull all Researchers Funded by these Agencies"
   ]
  },
  {
   "cell_type": "code",
   "execution_count": 196,
   "metadata": {},
   "outputs": [],
   "source": [
    "string = \"search grants where funding_org_name in [{}] return grants[id+researchers+RCDC+funders]\""
   ]
  },
  {
   "cell_type": "code",
   "execution_count": 197,
   "metadata": {},
   "outputs": [
    {
     "name": "stdout",
     "output_type": "stream",
     "text": [
      "Querying: 0-5/5 funding agencies\n",
      "Done!\n"
     ]
    }
   ],
   "source": [
    "full_resp = pull_data(string=string, in_list=funders, in_type='funding agencies', return_type='grants')"
   ]
  },
  {
   "cell_type": "code",
   "execution_count": 216,
   "metadata": {},
   "outputs": [],
   "source": [
    "rsr_id = []\n",
    "grant_id = []\n",
    "funder_name = []\n",
    "funder_id = []\n",
    "rcdc_codes = []\n",
    "rcdc_names = []\n",
    "for grant in full_resp:\n",
    "    if 'RCDC' not in grant:\n",
    "        grant['RCDC'] = [{'id':np.nan, 'name':np.nan}]\n",
    "    if 'researcher' not in grant:\n",
    "        grant['researchers'] = [{'first_name':np.nan,'id':np.nan,'last_name':np.nan}]\n",
    "    if 'funders' not in grant:\n",
    "        grant['funders'] = [{'acronym': '','country_name':np.nan,'id':np.nan,'name':np.nan}]\n",
    "    for researcher in grant['researchers']:\n",
    "        for funder in grant['funders']:\n",
    "            rsr_id.append(researcher['id'])\n",
    "            grant_id.append(grant['id'])\n",
    "            funder_id.append(funder['id'])\n",
    "            funder_name.append(funder['name'])\n",
    "            rcdc_codes_t = []\n",
    "            rcdc_names_t = []\n",
    "            for rcdc in grant['RCDC']:\n",
    "                rcdc_codes_t.append(str(rcdc['id']))\n",
    "                rcdc_names_t.append(str(rcdc['name']))\n",
    "            rcdc_codes.append(\"; \".join(rcdc_codes_t))\n",
    "            rcdc_names.append(\"; \".join(rcdc_names_t))"
   ]
  },
  {
   "cell_type": "code",
   "execution_count": 225,
   "metadata": {},
   "outputs": [],
   "source": [
    "fundr_grnts = pd.DataFrame({'rsr_id':rsr_id, 'grant_id':grant_id\n",
    "                            , 'funder_name':funder_name, 'funder_id':funder_id\n",
    "                            , 'rcdc_codes':rcdc_codes, 'rcdc_names':rcdc_names})\n",
    "fundr_rsrs = fundr_grnts.groupby('rsr_id')['grant_id'].nunique().reset_index()"
   ]
  },
  {
   "cell_type": "code",
   "execution_count": 222,
   "metadata": {},
   "outputs": [
    {
     "data": {
      "text/plain": [
       "Australian Research Council                     25415\n",
       "National Health and Medical Research Council    25400\n",
       "Wellcome Trust                                  24264\n",
       "Medical Research Council                         8313\n",
       "Cancer Research UK                               4499\n",
       "Name: funder_name, dtype: int64"
      ]
     },
     "execution_count": 222,
     "metadata": {},
     "output_type": "execute_result"
    }
   ],
   "source": [
    "fundr_grnts['funder_name'].value_counts()"
   ]
  },
  {
   "cell_type": "markdown",
   "metadata": {},
   "source": [
    "## Sandbox"
   ]
  },
  {
   "cell_type": "code",
   "execution_count": 176,
   "metadata": {},
   "outputs": [],
   "source": [
    "grnt_dtl = pd.read_csv('../data/inca_grants_details.csv', low_memory=False)"
   ]
  },
  {
   "cell_type": "code",
   "execution_count": 177,
   "metadata": {},
   "outputs": [
    {
     "data": {
      "text/plain": [
       "French National Cancer Institute                                                      848\n",
       "Ministère des Affaires sociales et de la Santé                                        524\n",
       "French Institute of Health and Medical Research                                       162\n",
       "French National Research Agency                                                       122\n",
       "Swiss National Science Foundation                                                      42\n",
       "European Research Council                                                              18\n",
       "Worldwide Cancer Research                                                              14\n",
       "German Research Foundation                                                             14\n",
       "Canadian Institutes of Health Research                                                 12\n",
       "Human Frontiers Science Program                                                         8\n",
       "NATIONAL CANCER INSTITUTE                                                               6\n",
       "NATIONAL INSTITUTE FOR OCCUPATIONAL SAFETY AND HEALTH                                   5\n",
       "Crohn's & Colitis Foundation                                                            5\n",
       "European Molecular Biology Organization                                                 5\n",
       "Canada Foundation for Innovation                                                        3\n",
       "Australian Research Council                                                             3\n",
       "Fonds de Recherche du Québec                                                            2\n",
       "NATIONAL INSTITUTE OF DIABETES AND DIGESTIVE AND KIDNEY DISEASES                        2\n",
       "Terry Fox Foundation                                                                    2\n",
       "Melanoma Research Alliance                                                              2\n",
       "FOGARTY INTERNATIONAL CENTER                                                            2\n",
       "Qatar National Research Fund                                                            2\n",
       "Congressionally Directed Medical Research Programs                                      2\n",
       "National Health and Medical Research Council                                            1\n",
       "NATIONAL INSTITUTE ON DRUG ABUSE                                                        1\n",
       "NATIONAL INSTITUTE OF GENERAL MEDICAL SCIENCES                                          1\n",
       "Wellcome Trust                                                                          1\n",
       "St. Baldrick's Foundation                                                               1\n",
       "Flemish Research Foundation                                                             1\n",
       "EUNICE KENNEDY SHRIVER NATIONAL INSTITUTE OF CHILD HEALTH & HUMAN DEVELOPMENT           1\n",
       "NATIONAL INSTITUTE OF ENVIRONMENTAL HEALTH SCIENCES                                     1\n",
       "Ministry of Science and Higher Education                                                1\n",
       "Breast Cancer Now                                                                       1\n",
       "Arthritis Foundation                                                                    1\n",
       "Fund for Scientific Research - FNRS                                                     1\n",
       "NATIONAL INSTITUTE OF ALLERGY AND INFECTIOUS DISEASES                                   1\n",
       "MRC                                                                                     1\n",
       "Social Sciences and Humanities Research Council of Canada                               1\n",
       "Carlos Chagas Filho Foundation for Research Support in the State of Rio de Janeiro      1\n",
       "Name: Funder, dtype: int64"
      ]
     },
     "execution_count": 177,
     "metadata": {},
     "output_type": "execute_result"
    }
   ],
   "source": [
    "grnt_dtl['Funder'].value_counts()"
   ]
  },
  {
   "cell_type": "code",
   "execution_count": 179,
   "metadata": {},
   "outputs": [
    {
     "data": {
      "text/html": [
       "<div>\n",
       "<style scoped>\n",
       "    .dataframe tbody tr th:only-of-type {\n",
       "        vertical-align: middle;\n",
       "    }\n",
       "\n",
       "    .dataframe tbody tr th {\n",
       "        vertical-align: top;\n",
       "    }\n",
       "\n",
       "    .dataframe thead th {\n",
       "        text-align: right;\n",
       "    }\n",
       "</style>\n",
       "<table border=\"1\" class=\"dataframe\">\n",
       "  <thead>\n",
       "    <tr style=\"text-align: right;\">\n",
       "      <th></th>\n",
       "      <th>INCA ID</th>\n",
       "      <th>prenom_port</th>\n",
       "      <th>nom_port</th>\n",
       "      <th>organisme_port</th>\n",
       "      <th>Dimensions Grant ID</th>\n",
       "      <th>Title</th>\n",
       "      <th>Abstract</th>\n",
       "      <th>Funder</th>\n",
       "      <th>Reference</th>\n",
       "      <th>Research Org Names</th>\n",
       "      <th>Research Org IDs</th>\n",
       "      <th>FOR</th>\n",
       "      <th>RCDC</th>\n",
       "      <th>Funding Amount ($)</th>\n",
       "      <th>Start Date</th>\n",
       "      <th>End Date</th>\n",
       "    </tr>\n",
       "  </thead>\n",
       "  <tbody>\n",
       "    <tr>\n",
       "      <th>821</th>\n",
       "      <td>inca_577</td>\n",
       "      <td>Antoine</td>\n",
       "      <td>GESSAIN</td>\n",
       "      <td>Institut Pasteur de Paris</td>\n",
       "      <td>grant.6721777</td>\n",
       "      <td>Infection with the Human T cell Lymphotropic V...</td>\n",
       "      <td>The Human T Lymphotropic Virus type 1 is endem...</td>\n",
       "      <td>National Health and Medical Research Council</td>\n",
       "      <td>1088517</td>\n",
       "      <td>Baker IDI Heart and Diabetes Institute</td>\n",
       "      <td>grid.1051.5</td>\n",
       "      <td>1108 Medical Microbiology</td>\n",
       "      <td>Rare Diseases;Infectious Diseases</td>\n",
       "      <td>677887.0</td>\n",
       "      <td>2015-01-01</td>\n",
       "      <td>2018-01-01</td>\n",
       "    </tr>\n",
       "  </tbody>\n",
       "</table>\n",
       "</div>"
      ],
      "text/plain": [
       "      INCA ID prenom_port nom_port             organisme_port  \\\n",
       "821  inca_577     Antoine  GESSAIN  Institut Pasteur de Paris   \n",
       "\n",
       "    Dimensions Grant ID                                              Title  \\\n",
       "821       grant.6721777  Infection with the Human T cell Lymphotropic V...   \n",
       "\n",
       "                                              Abstract  \\\n",
       "821  The Human T Lymphotropic Virus type 1 is endem...   \n",
       "\n",
       "                                           Funder Reference  \\\n",
       "821  National Health and Medical Research Council   1088517   \n",
       "\n",
       "                         Research Org Names Research Org IDs  \\\n",
       "821  Baker IDI Heart and Diabetes Institute      grid.1051.5   \n",
       "\n",
       "                           FOR                               RCDC  \\\n",
       "821  1108 Medical Microbiology  Rare Diseases;Infectious Diseases   \n",
       "\n",
       "     Funding Amount ($)  Start Date    End Date  \n",
       "821            677887.0  2015-01-01  2018-01-01  "
      ]
     },
     "execution_count": 179,
     "metadata": {},
     "output_type": "execute_result"
    }
   ],
   "source": [
    "grnt_dtl[grnt_dtl['Funder']==\"National Health and Medical Research Council\"]"
   ]
  },
  {
   "cell_type": "code",
   "execution_count": 223,
   "metadata": {},
   "outputs": [],
   "source": [
    "string = \"search grants where funding_org_name in [\\\"Cancer Research UK\\\"] return grants[id+researchers+RCDC+funders]\""
   ]
  },
  {
   "cell_type": "code",
   "execution_count": null,
   "metadata": {},
   "outputs": [],
   "source": []
  }
 ],
 "metadata": {
  "kernelspec": {
   "display_name": "Python 3",
   "language": "python",
   "name": "python3"
  },
  "language_info": {
   "codemirror_mode": {
    "name": "ipython",
    "version": 3
   },
   "file_extension": ".py",
   "mimetype": "text/x-python",
   "name": "python",
   "nbconvert_exporter": "python",
   "pygments_lexer": "ipython3",
   "version": "3.6.2"
  },
  "toc": {
   "nav_menu": {},
   "number_sections": false,
   "sideBar": true,
   "skip_h1_title": false,
   "title_cell": "Table of Contents",
   "title_sidebar": "Contents",
   "toc_cell": false,
   "toc_position": {
    "height": "calc(100% - 180px)",
    "left": "10px",
    "top": "150px",
    "width": "330px"
   },
   "toc_section_display": true,
   "toc_window_display": true
  }
 },
 "nbformat": 4,
 "nbformat_minor": 2
}
