{
 "cells": [
  {
   "cell_type": "markdown",
   "metadata": {},
   "source": [
    "# Data Extraction using Dimensions API"
   ]
  },
  {
   "cell_type": "markdown",
   "metadata": {},
   "source": [
    "## Python Setup"
   ]
  },
  {
   "cell_type": "code",
   "execution_count": null,
   "metadata": {},
   "outputs": [],
   "source": [
    "import requests\n",
    "import time\n",
    "import pandas as pd\n",
    "from pandas import Series\n",
    "pd.options.display.max_rows = 100\n",
    "import math\n",
    "import numpy as np\n",
    "from json import JSONDecodeError\n",
    "from datetime import datetime\n",
    "import gender_guesser.detector as gender"
   ]
  },
  {
   "cell_type": "markdown",
   "metadata": {},
   "source": [
    "## Importing ID Replacer"
   ]
  },
  {
   "cell_type": "code",
   "execution_count": null,
   "metadata": {},
   "outputs": [],
   "source": [
    "id_replacer = pd.read_csv('../data/id_replacer.csv')"
   ]
  },
  {
   "cell_type": "code",
   "execution_count": null,
   "metadata": {},
   "outputs": [],
   "source": [
    "def id_replace(df):\n",
    "    df = pd.merge(df, id_replacer, how='left', left_on='rsr_id', right_on='old_id')\n",
    "    df['rsr_id'] = np.where(df['new_id'].notnull(), df['new_id'], df['rsr_id'])\n",
    "    del df['old_id'], df['new_id']\n",
    "    return df"
   ]
  },
  {
   "cell_type": "markdown",
   "metadata": {},
   "source": [
    "## Connecting to API"
   ]
  },
  {
   "cell_type": "markdown",
   "metadata": {},
   "source": [
    "For full documentation: https://docs.dimensions.ai/dsl/1.8.0/"
   ]
  },
  {
   "cell_type": "markdown",
   "metadata": {},
   "source": [
    "The API Query functions are defined in the following code:"
   ]
  },
  {
   "cell_type": "code",
   "execution_count": null,
   "metadata": {},
   "outputs": [],
   "source": [
    "from api_query import execute_query\n",
    "from api_query import pull_data"
   ]
  },
  {
   "cell_type": "markdown",
   "metadata": {},
   "source": [
    "### API Parameters"
   ]
  },
  {
   "cell_type": "code",
   "execution_count": null,
   "metadata": {},
   "outputs": [],
   "source": [
    "# Filter operator 'in' requires 0 < items < 512\n",
    "max_in_items = 100\n",
    "\n",
    "# Limit exceeds maximum allowed limit 1000\n",
    "max_return = 1000\n",
    "\n",
    "# Offset cannot exceed 50000\n",
    "max_overall_returns = 50000"
   ]
  },
  {
   "cell_type": "markdown",
   "metadata": {},
   "source": [
    "## Define Comparison Agencies:\n",
    "\n",
    "Funding Agencies considered are NIH Wellcome Trust, Australian  NRMC, MRC in UK"
   ]
  },
  {
   "cell_type": "code",
   "execution_count": null,
   "metadata": {},
   "outputs": [],
   "source": [
    "counter_funders = ['Wellcome Trust', 'National Health and Medical Research Council', 'Cancer Research UK', \n",
    "                   'National Cancer Institute']"
   ]
  },
  {
   "cell_type": "markdown",
   "metadata": {},
   "source": [
    "## Funded Grants and Researchers"
   ]
  },
  {
   "cell_type": "markdown",
   "metadata": {},
   "source": [
    "### INCA"
   ]
  },
  {
   "cell_type": "code",
   "execution_count": null,
   "metadata": {},
   "outputs": [],
   "source": [
    "inca_funded_grnts = pd.read_csv('../data/inca_funded_grants.csv', low_memory=False)"
   ]
  },
  {
   "cell_type": "code",
   "execution_count": null,
   "metadata": {},
   "outputs": [],
   "source": [
    "inca_funded_grnts['last_name'] = inca_funded_grnts['last_name'].str.replace('-', ' ')"
   ]
  },
  {
   "cell_type": "code",
   "execution_count": null,
   "metadata": {},
   "outputs": [],
   "source": [
    "inca_funded_grnts.head()"
   ]
  },
  {
   "cell_type": "markdown",
   "metadata": {},
   "source": [
    "### Counterfactual based on Funding Agencies"
   ]
  },
  {
   "cell_type": "code",
   "execution_count": null,
   "metadata": {
    "scrolled": true
   },
   "outputs": [],
   "source": [
    "string = \"search grants where funders.name in [{}] and start_year>=2007 and start_year<=2012\"\n",
    "string += \" return grants[id+researchers+funders+start_date+end_date+funding_usd+RCDC]\"\n",
    "full_resp = pull_data(string=string, in_list=counter_funders, in_type='funding agencies', return_type='grants',\n",
    "                      max_in_items=max_in_items, max_return=max_return, max_overall_returns=max_overall_returns)"
   ]
  },
  {
   "cell_type": "code",
   "execution_count": null,
   "metadata": {},
   "outputs": [],
   "source": [
    "first_name = []\n",
    "last_name = []\n",
    "rsr_id = []\n",
    "grant_id = []\n",
    "funder_name = []\n",
    "start_dates = []\n",
    "end_dates = []\n",
    "funding_amount = []\n",
    "rcdc_names = []\n",
    "\n",
    "for grant in full_resp:\n",
    "\n",
    "    if 'RCDC' not in grant:\n",
    "        grant['RCDC'] = [{'id':np.nan, 'name':np.nan}]\n",
    "    if 'researchers' not in grant:\n",
    "        grant['researchers'] = [{'id':np.nan, 'first_name':np.nan, 'last_name': np.nan}]\n",
    "    for researcher in grant['researchers']:\n",
    "        if 'id' not in researcher:\n",
    "            tmp = researcher\n",
    "            researcher['id']=tmp\n",
    "        if 'first_name' not in researcher:\n",
    "            researcher['first_name']=np.nan\n",
    "        if 'last_name' not in researcher:\n",
    "            researcher['last_name']=np.nan\n",
    "    if 'start_date' not in grant:\n",
    "        grant['start_date'] = np.nan\n",
    "    if 'end_date' not in grant:\n",
    "        grant['end_date'] = np.nan\n",
    "    if 'funding_usd' not in grant:\n",
    "        grant['funding_usd'] = np.nan\n",
    "    for i in range(len(grant['researchers'])-1, -1, -1):\n",
    "        if 'id' not in grant['researchers'][i]:\n",
    "            del grant['researchers'][i]\n",
    "    if 'funders' not in grant:\n",
    "        grant['funders'] = [{'id':np.nan,'name':np.nan}]\n",
    "    for researcher in grant['researchers']:\n",
    "        for funder in grant['funders']:\n",
    "            if funder['name'] not in counter_funders:\n",
    "                continue\n",
    "            rsr_id.append(researcher['id'])\n",
    "            first_name.append(researcher['first_name'])\n",
    "            last_name.append(researcher['last_name'])\n",
    "            grant_id.append(grant['id'])\n",
    "            funder_name.append(funder['name'])\n",
    "            start_dates.append(grant['start_date'])\n",
    "            end_dates.append(grant['end_date'])\n",
    "            funding_amount.append(float(grant['funding_usd']))\n",
    "            rcdc_names_t = []\n",
    "            for rcdc in grant['RCDC']:\n",
    "                rcdc_names_t.append(str(rcdc['name']))\n",
    "            rcdc_names.append(\";\".join(rcdc_names_t))\n",
    "\n",
    "counter_funded_grnts = pd.DataFrame({'rsr_id':rsr_id\n",
    "                                        , 'first_name':first_name\n",
    "                                        , 'last_name':last_name\n",
    "                                        , 'grant_id':grant_id\n",
    "                                        , 'funder_name':funder_name\n",
    "                                        , 'start_date':start_dates\n",
    "                                        , 'end_date':end_dates\n",
    "                                        , 'funding_amount':funding_amount\n",
    "                                     , 'rcdc_names': rcdc_names\n",
    "                                    }).drop_duplicates().reset_index(drop=True)"
   ]
  },
  {
   "cell_type": "code",
   "execution_count": null,
   "metadata": {},
   "outputs": [],
   "source": [
    "counter_funded_grnts['last_name'] = counter_funded_grnts['last_name'].str.upper()"
   ]
  },
  {
   "cell_type": "code",
   "execution_count": null,
   "metadata": {},
   "outputs": [],
   "source": [
    "counter_funded_grnts['grant_id'].nunique()"
   ]
  },
  {
   "cell_type": "code",
   "execution_count": null,
   "metadata": {},
   "outputs": [],
   "source": [
    "# Remove all grants with no researcher info\n",
    "counter_funded_grnts = counter_funded_grnts[counter_funded_grnts['rsr_id'].notnull()]\n",
    "\n",
    "# Remove all other funders that might have appeared\n",
    "counter_funded_grnts = counter_funded_grnts[(counter_funded_grnts['funder_name'].isin(counter_funders))]\n",
    "\n",
    "# Restrict to grants funded between 2007 and 2012:\n",
    "counter_funded_grnts = counter_funded_grnts[(pd.DatetimeIndex(counter_funded_grnts['start_date']).year>=2007)\n",
    "                          & (pd.DatetimeIndex(counter_funded_grnts['start_date']).year<=2012)].reset_index(drop=True)"
   ]
  },
  {
   "cell_type": "markdown",
   "metadata": {},
   "source": [
    "Some of the counterfactual agencies (NCI, Cancer Research UK) are cancer-specific funders. Others however, such as the Wellcome Trust and the NHMRC, fund different types of medical research. For this second category of non-cancer-specific funders, we must restrict to grants on the topic of Cancer. I use the RCDC codes to restrict to Cancer-related grants."
   ]
  },
  {
   "cell_type": "code",
   "execution_count": null,
   "metadata": {},
   "outputs": [],
   "source": [
    "# For non-cancer-specific funders, restrict to Cancer Grants:\n",
    "general_funders = ['Wellcome Trust', 'National Health and Medical Research Council']\n",
    "counter_funded_grnts = counter_funded_grnts[(counter_funded_grnts['funder_name'].isin(general_funders)==False)\n",
    "                                            |(counter_funded_grnts['rcdc_names'].str.upper().str.contains(\"CANCER\"))\n",
    "                                           ].reset_index(drop=True)\n",
    "del counter_funded_grnts['rcdc_names']"
   ]
  },
  {
   "cell_type": "code",
   "execution_count": null,
   "metadata": {},
   "outputs": [],
   "source": [
    "print(\"Total number of Grants after restrictions: {}\".format(counter_funded_grnts['grant_id'].nunique()))"
   ]
  },
  {
   "cell_type": "code",
   "execution_count": null,
   "metadata": {},
   "outputs": [],
   "source": [
    "counter_funded_grnts = id_replace(counter_funded_grnts)"
   ]
  },
  {
   "cell_type": "markdown",
   "metadata": {},
   "source": [
    "### Combine the two"
   ]
  },
  {
   "cell_type": "code",
   "execution_count": null,
   "metadata": {},
   "outputs": [],
   "source": [
    "funded_grnts = pd.concat([inca_funded_grnts, counter_funded_grnts], sort=False)"
   ]
  },
  {
   "cell_type": "code",
   "execution_count": null,
   "metadata": {
    "scrolled": true
   },
   "outputs": [],
   "source": [
    "funded_grnts['funder_name'].value_counts()"
   ]
  },
  {
   "cell_type": "markdown",
   "metadata": {},
   "source": [
    "### Export"
   ]
  },
  {
   "cell_type": "code",
   "execution_count": null,
   "metadata": {},
   "outputs": [],
   "source": [
    "cols = ['funder_name', 'grant_id', 'rsr_id', 'first_name', 'last_name', 'start_date', 'end_date', 'funding_amount']\n",
    "funded_grnts[cols].to_csv('../data/funded_grants.csv', index=False)"
   ]
  },
  {
   "cell_type": "markdown",
   "metadata": {},
   "source": [
    "## Pull all Grants, Publications, and Personal Information from these Researchers"
   ]
  },
  {
   "cell_type": "code",
   "execution_count": null,
   "metadata": {},
   "outputs": [],
   "source": [
    "funded_grnts = pd.read_csv('../data/funded_grants.csv')\n",
    "rsrs = pd.merge(funded_grnts[['rsr_id']].drop_duplicates(), id_replacer, \n",
    "                left_on='rsr_id', right_on='new_id', how='left')\n",
    "rsrs['id'] = np.where(rsrs['old_id'].notnull(), rsrs['old_id'], rsrs['rsr_id'])\n",
    "rsrs = list(rsrs['id'].drop_duplicates())\n",
    "print(len(rsrs))"
   ]
  },
  {
   "cell_type": "markdown",
   "metadata": {},
   "source": [
    "### Grants"
   ]
  },
  {
   "cell_type": "code",
   "execution_count": null,
   "metadata": {},
   "outputs": [],
   "source": [
    "string = \"search grants where researchers.id in [{}]\"\n",
    "string += \" return grants[id+researchers+funders+start_date+end_date+funding_usd+RCDC]\"\n",
    "full_resp = pull_data(string=string, in_list=rsrs, in_type='researchers', return_type='grants'\n",
    "                      , max_in_items=max_in_items, max_return=max_return, max_overall_returns=max_overall_returns)"
   ]
  },
  {
   "cell_type": "code",
   "execution_count": null,
   "metadata": {},
   "outputs": [],
   "source": [
    "rsr_id = []\n",
    "grant_id = []\n",
    "funder_name = []\n",
    "start_dates = []\n",
    "end_dates = []\n",
    "funding_amount = []\n",
    "\n",
    "for grant in full_resp:\n",
    "\n",
    "    if 'researchers' not in grant:\n",
    "        grant['researchers'] = [{'id':np.nan}]\n",
    "    for researcher in grant['researchers']: \n",
    "        if 'id' not in researcher:\n",
    "            tmp = researcher\n",
    "            grant['researchers'].append({'id':tmp})\n",
    "    if 'start_date' not in grant:\n",
    "        grant['start_date'] = np.nan\n",
    "    if 'end_date' not in grant:\n",
    "        grant['end_date'] = np.nan\n",
    "    if 'funding_usd' not in grant:\n",
    "        grant['funding_usd'] = np.nan\n",
    "    for i in range(len(grant['researchers'])-1, -1, -1):\n",
    "        if 'id' not in grant['researchers'][i]:\n",
    "            del grant['researchers'][i]\n",
    "    if 'funders' not in grant:\n",
    "        grant['funders'] = [{'id':np.nan,'name':np.nan}]\n",
    "    for researcher in grant['researchers']:\n",
    "        for funder in grant['funders']:\n",
    "            rsr_id.append(researcher['id'])\n",
    "            grant_id.append(grant['id'])\n",
    "            funder_name.append(funder['name'])\n",
    "            start_dates.append(grant['start_date'])\n",
    "            end_dates.append(grant['end_date'])\n",
    "            funding_amount.append(float(grant['funding_usd']))\n",
    "            \n",
    "grnts = pd.DataFrame({'rsr_id':rsr_id\n",
    "                      , 'grant_id':grant_id\n",
    "                      , 'funder_name':funder_name\n",
    "                      , 'start_date':start_dates\n",
    "                      , 'end_date':end_dates\n",
    "                      , 'funding_amount':funding_amount\n",
    "                     }).drop_duplicates().reset_index(drop=True)"
   ]
  },
  {
   "cell_type": "code",
   "execution_count": null,
   "metadata": {},
   "outputs": [],
   "source": [
    "grnts = id_replace(grnts)"
   ]
  },
  {
   "cell_type": "code",
   "execution_count": null,
   "metadata": {},
   "outputs": [],
   "source": [
    "grnts.describe(include='all')"
   ]
  },
  {
   "cell_type": "code",
   "execution_count": null,
   "metadata": {},
   "outputs": [],
   "source": [
    "grnts.to_csv('../data/researcher_grants.csv', index=False)"
   ]
  },
  {
   "cell_type": "code",
   "execution_count": null,
   "metadata": {},
   "outputs": [],
   "source": [
    "data_id = []\n",
    "rcdc_names = []\n",
    "for elem in full_resp:\n",
    "    if 'id' not in elem:\n",
    "        elem['id'] = np.nan\n",
    "    if 'RCDC' not in elem:\n",
    "        elem['RCDC'] = [{'id':np.nan, 'name':np.nan}]\n",
    "    for rcdc in elem['RCDC']:\n",
    "        if rcdc['name'] != np.nan:\n",
    "            data_id.append(elem['id'])\n",
    "            rcdc_names.append(str(rcdc['name']))\n",
    "\n",
    "grnts_rcdc = pd.DataFrame({'grant_id':data_id\n",
    "                           , 'rcdc_name':rcdc_names}).drop_duplicates().reset_index(drop=True)\n",
    "\n",
    "grnts_rcdc['rcdc_name'] = grnts_rcdc['rcdc_name'].str.strip().str.upper()"
   ]
  },
  {
   "cell_type": "code",
   "execution_count": null,
   "metadata": {},
   "outputs": [],
   "source": [
    "grnts_rcdc.to_csv('../data/topic_lookups/grants_rcdc.csv', index=False)"
   ]
  },
  {
   "cell_type": "markdown",
   "metadata": {},
   "source": [
    "### Publications"
   ]
  },
  {
   "cell_type": "code",
   "execution_count": null,
   "metadata": {
    "scrolled": false
   },
   "outputs": [],
   "source": [
    "string = \"search publications where researchers.id in [{}]\"\n",
    "string += \" return publications\"\n",
    "string += \"[id+doi+pmid+author_affiliations+date+supporting_grant_ids+times_cited+altmetric+type+journal+RCDC]\"\n",
    "full_resp = pull_data(string=string, in_list=rsrs, in_type='researchers', return_type='publications', \n",
    "                      max_in_items=max_in_items, max_return=max_return, max_overall_returns=max_overall_returns)"
   ]
  },
  {
   "cell_type": "code",
   "execution_count": null,
   "metadata": {},
   "outputs": [],
   "source": [
    "pub_id = []\n",
    "pmid = []\n",
    "dates = []\n",
    "citations = []\n",
    "dois = []\n",
    "supporting_grants = []\n",
    "nb_authors = []\n",
    "author_id = []\n",
    "author_country = []\n",
    "author_city = []\n",
    "author_affiliation = []\n",
    "author_affiliation_id = []\n",
    "altmetric = []\n",
    "journal = []\n",
    "journal_id = []\n",
    "pub_type = []\n",
    "\n",
    "for pub in full_resp:\n",
    "    if 'id' not in pub:\n",
    "        pub['id'] = np.nan\n",
    "    if 'pmid' not in pub:\n",
    "        pub['pmid'] = np.nan\n",
    "    if 'author_affiliations' not in pub:\n",
    "        pub['author_affiliations'] = [[]]\n",
    "    for author in pub['author_affiliations'][0]: \n",
    "        if 'researcher_id' not in author:\n",
    "            author['researcher_id'] = np.nan\n",
    "        if ('affiliations' not in author)  | (len(author['affiliations'])==0):\n",
    "            author['affiliations'] = [{'country_code':np.nan, 'name': np.nan, 'id':np.nan, 'city':np.nan}]\n",
    "        for affiliation in author['affiliations']:\n",
    "            if 'country_code' not in affiliation:\n",
    "                affiliation['country_code']=np.nan\n",
    "            if 'name' not in affiliation:\n",
    "                affiliation['name']=np.nan\n",
    "            if 'id' not in affiliation:\n",
    "                affiliation['id']=np.nan\n",
    "            if 'city' not in affiliation:\n",
    "                affiliation['city']=np.nan\n",
    "    if 'journal' not in pub:\n",
    "        pub['journal'] = {'id':np.nan, 'title':np.nan}\n",
    "    if 'id' not in pub['journal']:\n",
    "        pub['journal']['id'] = np.nan\n",
    "    if 'title' not in pub['journal']:\n",
    "        pub['journal']['title'] = np.nan\n",
    "    if 'date' not in pub:\n",
    "        pub['date'] = np.nan\n",
    "    if 'times_cited' not in pub:\n",
    "        pub['times_cited'] = np.nan\n",
    "    if 'doi' not in pub:\n",
    "        pub['doi'] = np.nan\n",
    "    if 'type' not in pub:\n",
    "        pub['type'] = np.nan\n",
    "    if 'altmetric' not in pub:\n",
    "        pub['altmetric'] = np.nan\n",
    "    if 'supporting_grant_ids' not in pub:\n",
    "        pub['supporting_grant_ids'] = [np.nan]\n",
    "    nb = len(pub['author_affiliations'][0])\n",
    "    for author in pub['author_affiliations'][0]:\n",
    "        nb_authors.append(float(nb))\n",
    "        author_id.append(author['researcher_id'])\n",
    "        author_country.append(author['affiliations'][0]['country_code'])\n",
    "        author_city.append(author['affiliations'][0]['city'])\n",
    "        author_affiliation.append(author['affiliations'][0]['name'])\n",
    "        author_affiliation_id.append(author['affiliations'][0]['id'])\n",
    "        pub_id.append(pub['id'])\n",
    "        dates.append(pub['date'])\n",
    "        citations.append(float(pub['times_cited']))\n",
    "        dois.append(pub['doi'])\n",
    "        pmid.append(pub['pmid'])\n",
    "        supporting_grants.append(pub['supporting_grant_ids'])\n",
    "        pub_type.append(pub['type'])\n",
    "        altmetric.append(pub['altmetric'])\n",
    "        journal.append(pub['journal']['title'])\n",
    "        journal_id.append(pub['journal']['id'])\n",
    "\n",
    "pubs = pd.DataFrame({'pub_id':pub_id\n",
    "                     , 'pmid': pmid\n",
    "                     , 'date':dates\n",
    "                     , 'doi':dois\n",
    "                     , 'citations':citations\n",
    "                     , 'nb_authors':nb_authors\n",
    "                     , 'rsr_id':author_id\n",
    "                     , 'rsr_country':author_country\n",
    "                     , 'rsr_city':author_city\n",
    "                     , 'rsr_affiliation':author_affiliation\n",
    "                     , 'rsr_affiliation_id':author_affiliation_id\n",
    "                     , 'supporting_grants':supporting_grants\n",
    "                     , 'pub_type':pub_type\n",
    "                     , 'altmetric':altmetric\n",
    "                     , 'journal':journal\n",
    "                     , 'journal_id':journal_id\n",
    "                    })"
   ]
  },
  {
   "cell_type": "code",
   "execution_count": null,
   "metadata": {},
   "outputs": [],
   "source": [
    "pubs['supporting_grants'] = pubs['supporting_grants'].apply(lambda x: np.nan if x == [np.nan] else  ';'.join(x))"
   ]
  },
  {
   "cell_type": "code",
   "execution_count": null,
   "metadata": {},
   "outputs": [],
   "source": [
    "pubs = pubs.drop_duplicates().reset_index(drop=True)"
   ]
  },
  {
   "cell_type": "code",
   "execution_count": null,
   "metadata": {},
   "outputs": [],
   "source": [
    "pubs['date'] = pd.to_datetime(pubs['date'], errors='coerce')\n",
    "pubs['year'] = pd.DatetimeIndex(pubs['date']).year"
   ]
  },
  {
   "cell_type": "code",
   "execution_count": null,
   "metadata": {},
   "outputs": [],
   "source": [
    "pubs.describe(include='all')"
   ]
  },
  {
   "cell_type": "code",
   "execution_count": null,
   "metadata": {},
   "outputs": [],
   "source": [
    "pubs = id_replace(pubs)"
   ]
  },
  {
   "cell_type": "code",
   "execution_count": null,
   "metadata": {},
   "outputs": [],
   "source": [
    "pubs.to_csv('../data/researcher_publications.csv', index=False)"
   ]
  },
  {
   "cell_type": "code",
   "execution_count": null,
   "metadata": {},
   "outputs": [],
   "source": [
    "# Publication IDs:\n",
    "pub_ids = pubs[pubs['pmid'].notnull()][['rsr_id', 'pmid']].drop_duplicates()\n",
    "pub_ids.to_csv('../data/pub_ids.csv', index=False)"
   ]
  },
  {
   "cell_type": "code",
   "execution_count": null,
   "metadata": {},
   "outputs": [],
   "source": [
    "data_id = []\n",
    "rcdc_names = []\n",
    "for elem in full_resp:\n",
    "    if 'id' not in elem:\n",
    "        elem['id'] = np.nan\n",
    "    if 'RCDC' not in elem:\n",
    "        elem['RCDC'] = [{'id':np.nan, 'name':np.nan}]\n",
    "    for rcdc in elem['RCDC']:\n",
    "        if rcdc['name'] != np.nan:\n",
    "            data_id.append(elem['id'])\n",
    "            rcdc_names.append(str(rcdc['name']))\n",
    "\n",
    "pubs_rcdc = pd.DataFrame({'pub_id':data_id\n",
    "                           , 'rcdc_name':rcdc_names}).drop_duplicates().reset_index(drop=True)\n",
    "\n",
    "pubs_rcdc['rcdc_name'] = pubs_rcdc['rcdc_name'].str.strip().str.upper()"
   ]
  },
  {
   "cell_type": "code",
   "execution_count": null,
   "metadata": {},
   "outputs": [],
   "source": [
    "pubs_rcdc.to_csv('../data/topic_lookups/publications_rcdc.csv', index=False)"
   ]
  },
  {
   "cell_type": "markdown",
   "metadata": {},
   "source": [
    "## Personal Information"
   ]
  },
  {
   "cell_type": "code",
   "execution_count": null,
   "metadata": {},
   "outputs": [],
   "source": [
    "funded_grnts = pd.read_csv('../data/funded_grants.csv', low_memory=False)\n",
    "pubs = pd.read_csv('../data/researcher_publications.csv', low_memory=False)"
   ]
  },
  {
   "cell_type": "markdown",
   "metadata": {},
   "source": [
    "### Gender"
   ]
  },
  {
   "cell_type": "code",
   "execution_count": null,
   "metadata": {},
   "outputs": [],
   "source": [
    "# Gender Imputer\n",
    "d = gender.Detector()\n",
    "\n",
    "# Gender Abbreviation Table\n",
    "gender_abbr = pd.DataFrame({'gender': ['male', 'mostly_male', 'unknown', 'andy', 'mostly_female', 'female']\n",
    "                            , 'gender_abbr': ['M', 'M', 'UNKNOWN', 'UNKNOWN', 'F', 'F']})"
   ]
  },
  {
   "cell_type": "code",
   "execution_count": null,
   "metadata": {},
   "outputs": [],
   "source": [
    "rsr_gender = funded_grnts[['rsr_id', 'first_name', 'last_name']].drop_duplicates().reset_index(drop=True)"
   ]
  },
  {
   "cell_type": "code",
   "execution_count": null,
   "metadata": {},
   "outputs": [],
   "source": [
    "rsr_gender['gender_name'] = rsr_gender['first_name'].fillna('')\n",
    "rsr_gender['gender_name'] = rsr_gender['gender_name'].apply(lambda x: x.split(\" \")[0])\n",
    "rsr_gender['gender'] = rsr_gender['gender_name'].apply(lambda x: d.get_gender(x))\n",
    "rsr_gender = pd.merge(rsr_gender, gender_abbr, how='left', on='gender')\n",
    "del rsr_gender['gender'], rsr_gender['gender_name'], rsr_gender['first_name'], rsr_gender['last_name']\n",
    "rsr_gender.rename(columns={'gender_abbr':'rsr_gender'}, inplace=True)"
   ]
  },
  {
   "cell_type": "code",
   "execution_count": null,
   "metadata": {},
   "outputs": [],
   "source": [
    "rsr_gender['rsr_gender'].value_counts(normalize=True)"
   ]
  },
  {
   "cell_type": "markdown",
   "metadata": {},
   "source": [
    "### Career Age"
   ]
  },
  {
   "cell_type": "code",
   "execution_count": null,
   "metadata": {},
   "outputs": [],
   "source": [
    "rsr_first_year = funded_grnts[['rsr_id', 'start_date']].groupby('rsr_id')['start_date'].min().reset_index()\n",
    "rsr_first_year['first_grant_year'] = pd.DatetimeIndex(rsr_first_year['start_date']).year\n",
    "temp = pubs[['rsr_id', 'year']].groupby('rsr_id')['year'].min().reset_index()\n",
    "temp.rename(columns={'year':'first_pub_year'}, inplace=True)\n",
    "rsr_first_year = pd.merge(rsr_first_year, temp, on='rsr_id', how='left')\n",
    "rsr_first_year['rsr_career_start_year'] = rsr_first_year[['first_grant_year','first_pub_year']].min(axis=1)"
   ]
  },
  {
   "cell_type": "code",
   "execution_count": null,
   "metadata": {},
   "outputs": [],
   "source": [
    "rsr_first_year = rsr_first_year[['rsr_id', 'rsr_career_start_year']]"
   ]
  },
  {
   "cell_type": "markdown",
   "metadata": {},
   "source": [
    "### Original Affiliation"
   ]
  },
  {
   "cell_type": "markdown",
   "metadata": {},
   "source": [
    "Maybe do this with Grant affiliation instead of Publication?"
   ]
  },
  {
   "cell_type": "code",
   "execution_count": null,
   "metadata": {},
   "outputs": [],
   "source": [
    "cols = ['rsr_id', 'rsr_affiliation', 'rsr_affiliation_id', 'rsr_country', 'rsr_city', 'year']\n",
    "affiliation = pubs[pubs['rsr_affiliation'].notnull()][cols]\n",
    "affiliation = affiliation.sort_values(['rsr_id', 'year']).drop_duplicates('rsr_id', keep='first')\n",
    "del affiliation['year']"
   ]
  },
  {
   "cell_type": "markdown",
   "metadata": {},
   "source": [
    "### First n Years of Publications"
   ]
  },
  {
   "cell_type": "code",
   "execution_count": null,
   "metadata": {},
   "outputs": [],
   "source": [
    "n = 1"
   ]
  },
  {
   "cell_type": "code",
   "execution_count": null,
   "metadata": {},
   "outputs": [],
   "source": [
    "pubs_rcdc = pd.read_csv('../data/topic_lookups/publications_rcdc.csv')\n",
    "pubs_cso = pd.read_csv('../data/topic_lookups/publications_cso.csv')"
   ]
  },
  {
   "cell_type": "code",
   "execution_count": null,
   "metadata": {},
   "outputs": [],
   "source": [
    "first_pubs = pd.merge(rsr_first_year, pubs[['rsr_id', 'year', 'pub_id', 'citations']], how='left', on='rsr_id')\n",
    "first_pubs = first_pubs[first_pubs['year']<=(first_pubs['rsr_career_start_year']+n)].reset_index(drop=True)"
   ]
  },
  {
   "cell_type": "code",
   "execution_count": null,
   "metadata": {},
   "outputs": [],
   "source": [
    "first_topics = first_pubs.groupby(['rsr_id'])\n",
    "first_topics = pd.DataFrame({'rsr_nb_early_pubs': first_topics['rsr_id'].count()\n",
    "                             , 'rsr_nb_early_citations': first_topics['citations'].sum()}).reset_index()"
   ]
  },
  {
   "cell_type": "markdown",
   "metadata": {},
   "source": [
    "#### CSO"
   ]
  },
  {
   "cell_type": "code",
   "execution_count": null,
   "metadata": {},
   "outputs": [],
   "source": [
    "temp = pd.merge(first_pubs, pubs_cso, how='left', on='pub_id')\n",
    "temp = temp.groupby(['rsr_id', 'cso_name']).size().reset_index()\n",
    "temp['cso_id'] = \"cso_\"+temp.groupby(['cso_name']).ngroup().astype(str)\n",
    "temp[['cso_name', 'cso_id']].drop_duplicates().to_csv('../data/topic_lookups/cso_ids.csv', index=False)\n",
    "temp = pd.pivot_table(temp, index='rsr_id', columns='cso_id', values=0, aggfunc='sum').reset_index()"
   ]
  },
  {
   "cell_type": "code",
   "execution_count": null,
   "metadata": {},
   "outputs": [],
   "source": [
    "first_topics = pd.merge(first_topics, temp, how='left', on='rsr_id')"
   ]
  },
  {
   "cell_type": "markdown",
   "metadata": {},
   "source": [
    "#### RCDC"
   ]
  },
  {
   "cell_type": "code",
   "execution_count": null,
   "metadata": {},
   "outputs": [],
   "source": [
    "temp = pd.merge(first_pubs, pubs_rcdc, how='left', on='pub_id')\n",
    "temp = temp.groupby(['rsr_id', 'rcdc_name']).size().reset_index()\n",
    "temp['rcdc_id'] = \"rcdc_\"+temp.groupby(['rcdc_name']).ngroup().astype(str)\n",
    "temp[['rcdc_name', 'rcdc_id']].drop_duplicates().to_csv('../data/topic_lookups/rcdc_ids.csv', index=False)\n",
    "temp = pd.pivot_table(temp, index='rsr_id', columns='rcdc_id', values=0, aggfunc='sum').reset_index()"
   ]
  },
  {
   "cell_type": "code",
   "execution_count": null,
   "metadata": {},
   "outputs": [],
   "source": [
    "first_topics = pd.merge(first_topics, temp, how='left', on='rsr_id')"
   ]
  },
  {
   "cell_type": "code",
   "execution_count": null,
   "metadata": {},
   "outputs": [],
   "source": [
    "first_topics.shape"
   ]
  },
  {
   "cell_type": "markdown",
   "metadata": {},
   "source": [
    "### ORCID Confirmed"
   ]
  },
  {
   "cell_type": "code",
   "execution_count": null,
   "metadata": {},
   "outputs": [],
   "source": [
    "inca_orcid_confirmed = pd.read_csv('../data/inca_orcid_confirmations.csv')"
   ]
  },
  {
   "cell_type": "code",
   "execution_count": null,
   "metadata": {},
   "outputs": [],
   "source": [
    "print(\"Number of ORCID Confirmed INCa Researchers: {}\".format(inca_orcid_confirmed.shape[0]))"
   ]
  },
  {
   "cell_type": "markdown",
   "metadata": {},
   "source": [
    "### Combine All and Export"
   ]
  },
  {
   "cell_type": "code",
   "execution_count": null,
   "metadata": {},
   "outputs": [],
   "source": [
    "rsr_info = pd.merge(funded_grnts[['rsr_id', 'first_name', 'last_name']].drop_duplicates().reset_index(drop=True),\n",
    "                    rsr_gender, how='left', on='rsr_id')\n",
    "rsr_info = pd.merge(rsr_info, rsr_first_year, how='left', on='rsr_id')\n",
    "rsr_info = pd.merge(rsr_info, affiliation, how='left', on='rsr_id')\n",
    "rsr_info = pd.merge(rsr_info, inca_orcid_confirmed, how='left', on='rsr_id')\n",
    "rsr_info = pd.merge(rsr_info, first_topics, how='left', on='rsr_id')"
   ]
  },
  {
   "cell_type": "code",
   "execution_count": null,
   "metadata": {},
   "outputs": [],
   "source": [
    "rsr_info['orcid_confirmed'].fillna(False, inplace=True)"
   ]
  },
  {
   "cell_type": "code",
   "execution_count": null,
   "metadata": {},
   "outputs": [],
   "source": [
    "rsr_info.describe(include='all')"
   ]
  },
  {
   "cell_type": "code",
   "execution_count": null,
   "metadata": {},
   "outputs": [],
   "source": [
    "rsr_info.to_csv('../data/researcher_info.csv', index=False)"
   ]
  },
  {
   "cell_type": "markdown",
   "metadata": {},
   "source": [
    "## Sandbox"
   ]
  },
  {
   "cell_type": "code",
   "execution_count": null,
   "metadata": {},
   "outputs": [],
   "source": []
  }
 ],
 "metadata": {
  "kernelspec": {
   "display_name": "Python 3",
   "language": "python",
   "name": "python3"
  },
  "language_info": {
   "codemirror_mode": {
    "name": "ipython",
    "version": 3
   },
   "file_extension": ".py",
   "mimetype": "text/x-python",
   "name": "python",
   "nbconvert_exporter": "python",
   "pygments_lexer": "ipython3",
   "version": "3.6.8"
  },
  "toc": {
   "base_numbering": 1,
   "nav_menu": {},
   "number_sections": false,
   "sideBar": true,
   "skip_h1_title": false,
   "title_cell": "Table of Contents",
   "title_sidebar": "Contents",
   "toc_cell": false,
   "toc_position": {
    "height": "calc(100% - 180px)",
    "left": "10px",
    "top": "150px",
    "width": "206.777px"
   },
   "toc_section_display": true,
   "toc_window_display": true
  }
 },
 "nbformat": 4,
 "nbformat_minor": 2
}
