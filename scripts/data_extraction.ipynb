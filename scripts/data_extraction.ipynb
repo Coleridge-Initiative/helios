{
 "cells": [
  {
   "cell_type": "markdown",
   "metadata": {},
   "source": [
    "# Data Extraction using Dimensions API"
   ]
  },
  {
   "cell_type": "markdown",
   "metadata": {},
   "source": [
    "## Python Setup"
   ]
  },
  {
   "cell_type": "code",
   "execution_count": 184,
   "metadata": {},
   "outputs": [],
   "source": [
    "import requests\n",
    "import time\n",
    "import pandas as pd\n",
    "from pandas import Series\n",
    "pd.options.display.max_rows = 100\n",
    "import math\n",
    "import numpy as np\n",
    "from json import JSONDecodeError\n",
    "from datetime import datetime\n",
    "import gender_guesser.detector as gender"
   ]
  },
  {
   "cell_type": "markdown",
   "metadata": {},
   "source": [
    "## Importing ID Replacer"
   ]
  },
  {
   "cell_type": "code",
   "execution_count": 185,
   "metadata": {},
   "outputs": [],
   "source": [
    "id_replacer = pd.read_csv('../data/id_replacer.csv')"
   ]
  },
  {
   "cell_type": "code",
   "execution_count": 186,
   "metadata": {},
   "outputs": [],
   "source": [
    "def id_replace(df):\n",
    "    df = pd.merge(df, id_replacer, how='left', left_on='rsr_id', right_on='old_id')\n",
    "    df['rsr_id'] = np.where(df['new_id'].notnull(), df['new_id'], df['rsr_id'])\n",
    "    del df['old_id'], df['new_id']\n",
    "    return df"
   ]
  },
  {
   "cell_type": "markdown",
   "metadata": {},
   "source": [
    "## Connecting to API"
   ]
  },
  {
   "cell_type": "markdown",
   "metadata": {},
   "source": [
    "For full documentation: https://docs.dimensions.ai/dsl/1.8.0/"
   ]
  },
  {
   "cell_type": "markdown",
   "metadata": {},
   "source": [
    "The API Query functions are defined in the following code:"
   ]
  },
  {
   "cell_type": "code",
   "execution_count": 187,
   "metadata": {},
   "outputs": [],
   "source": [
    "from api_query import execute_query\n",
    "from api_query import pull_data"
   ]
  },
  {
   "cell_type": "markdown",
   "metadata": {},
   "source": [
    "### API Parameters"
   ]
  },
  {
   "cell_type": "code",
   "execution_count": 188,
   "metadata": {},
   "outputs": [],
   "source": [
    "# Filter operator 'in' requires 0 < items < 512\n",
    "max_in_items = 100\n",
    "\n",
    "# Limit exceeds maximum allowed limit 1000\n",
    "max_return = 1000\n",
    "\n",
    "# Offset cannot exceed 50000\n",
    "max_overall_returns = 50000"
   ]
  },
  {
   "cell_type": "markdown",
   "metadata": {},
   "source": [
    "## Define Comparison Agencies:\n",
    "\n",
    "Funding Agencies considered are NIH Wellcome Trust, Australian  NRMC, MRC in UK"
   ]
  },
  {
   "cell_type": "code",
   "execution_count": 189,
   "metadata": {},
   "outputs": [],
   "source": [
    "counter_funders = ['Wellcome Trust', 'National Health and Medical Research Council', 'Cancer Research UK', \n",
    "                   'National Cancer Institute']"
   ]
  },
  {
   "cell_type": "markdown",
   "metadata": {},
   "source": [
    "## Funded Grants and Researchers"
   ]
  },
  {
   "cell_type": "markdown",
   "metadata": {},
   "source": [
    "### INCA"
   ]
  },
  {
   "cell_type": "code",
   "execution_count": 190,
   "metadata": {},
   "outputs": [],
   "source": [
    "inca_funded_grnts = pd.read_csv('../data/inca_funded_grants.csv', low_memory=False)"
   ]
  },
  {
   "cell_type": "code",
   "execution_count": 191,
   "metadata": {},
   "outputs": [],
   "source": [
    "inca_funded_grnts['last_name'] = inca_funded_grnts['last_name'].str.replace('-', ' ')"
   ]
  },
  {
   "cell_type": "code",
   "execution_count": 192,
   "metadata": {},
   "outputs": [
    {
     "data": {
      "text/html": [
       "<div>\n",
       "<style scoped>\n",
       "    .dataframe tbody tr th:only-of-type {\n",
       "        vertical-align: middle;\n",
       "    }\n",
       "\n",
       "    .dataframe tbody tr th {\n",
       "        vertical-align: top;\n",
       "    }\n",
       "\n",
       "    .dataframe thead th {\n",
       "        text-align: right;\n",
       "    }\n",
       "</style>\n",
       "<table border=\"1\" class=\"dataframe\">\n",
       "  <thead>\n",
       "    <tr style=\"text-align: right;\">\n",
       "      <th></th>\n",
       "      <th>first_name</th>\n",
       "      <th>last_name</th>\n",
       "      <th>grant_id</th>\n",
       "      <th>funding_amount</th>\n",
       "      <th>start_date</th>\n",
       "      <th>end_date</th>\n",
       "      <th>rsr_id</th>\n",
       "      <th>funder_name</th>\n",
       "    </tr>\n",
       "  </thead>\n",
       "  <tbody>\n",
       "    <tr>\n",
       "      <th>0</th>\n",
       "      <td>Jérôme</td>\n",
       "      <td>ABADIE</td>\n",
       "      <td>grant.7426242</td>\n",
       "      <td>65061.0</td>\n",
       "      <td>2011-12-13</td>\n",
       "      <td>2013-06-12</td>\n",
       "      <td>ur.0642054564.81</td>\n",
       "      <td>INCa/INSERM/DGOS</td>\n",
       "    </tr>\n",
       "    <tr>\n",
       "      <th>1</th>\n",
       "      <td>Julien</td>\n",
       "      <td>ADAM</td>\n",
       "      <td>grant.7426178</td>\n",
       "      <td>240110.0</td>\n",
       "      <td>2011-11-01</td>\n",
       "      <td>2014-11-01</td>\n",
       "      <td>ur.01177206360.47</td>\n",
       "      <td>INCa/INSERM/DGOS</td>\n",
       "    </tr>\n",
       "    <tr>\n",
       "      <th>2</th>\n",
       "      <td>Antoine</td>\n",
       "      <td>ADENIS</td>\n",
       "      <td>grant.7154464</td>\n",
       "      <td>248109.0</td>\n",
       "      <td>2010-06-01</td>\n",
       "      <td>2013-06-01</td>\n",
       "      <td>ur.01303404424.36&amp;ur.01067706306.01</td>\n",
       "      <td>INCa/INSERM/DGOS</td>\n",
       "    </tr>\n",
       "    <tr>\n",
       "      <th>3</th>\n",
       "      <td>Eric</td>\n",
       "      <td>ADRIAENSSENS</td>\n",
       "      <td>grant.7154483</td>\n",
       "      <td>400306.0</td>\n",
       "      <td>2010-11-04</td>\n",
       "      <td>2013-11-04</td>\n",
       "      <td>ur.0673152200.72</td>\n",
       "      <td>INCa/INSERM/DGOS</td>\n",
       "    </tr>\n",
       "    <tr>\n",
       "      <th>4</th>\n",
       "      <td>Eric</td>\n",
       "      <td>ADRIAENSSENS</td>\n",
       "      <td>grant.7154359</td>\n",
       "      <td>140617.0</td>\n",
       "      <td>2007-12-18</td>\n",
       "      <td>2010-06-30</td>\n",
       "      <td>ur.0673152200.72</td>\n",
       "      <td>INCa/INSERM/DGOS</td>\n",
       "    </tr>\n",
       "  </tbody>\n",
       "</table>\n",
       "</div>"
      ],
      "text/plain": [
       "  first_name     last_name       grant_id  funding_amount  start_date  \\\n",
       "0     Jérôme        ABADIE  grant.7426242         65061.0  2011-12-13   \n",
       "1     Julien          ADAM  grant.7426178        240110.0  2011-11-01   \n",
       "2    Antoine        ADENIS  grant.7154464        248109.0  2010-06-01   \n",
       "3       Eric  ADRIAENSSENS  grant.7154483        400306.0  2010-11-04   \n",
       "4       Eric  ADRIAENSSENS  grant.7154359        140617.0  2007-12-18   \n",
       "\n",
       "     end_date                               rsr_id       funder_name  \n",
       "0  2013-06-12                     ur.0642054564.81  INCa/INSERM/DGOS  \n",
       "1  2014-11-01                    ur.01177206360.47  INCa/INSERM/DGOS  \n",
       "2  2013-06-01  ur.01303404424.36&ur.01067706306.01  INCa/INSERM/DGOS  \n",
       "3  2013-11-04                     ur.0673152200.72  INCa/INSERM/DGOS  \n",
       "4  2010-06-30                     ur.0673152200.72  INCa/INSERM/DGOS  "
      ]
     },
     "execution_count": 192,
     "metadata": {},
     "output_type": "execute_result"
    }
   ],
   "source": [
    "inca_funded_grnts.head()"
   ]
  },
  {
   "cell_type": "markdown",
   "metadata": {},
   "source": [
    "### Counterfactual based on Funding Agencies"
   ]
  },
  {
   "cell_type": "code",
   "execution_count": 193,
   "metadata": {
    "scrolled": true
   },
   "outputs": [
    {
     "name": "stdout",
     "output_type": "stream",
     "text": [
      "Querying: 0-4/4 funding agencies...\n",
      "Done !\n"
     ]
    }
   ],
   "source": [
    "string = \"search grants where funders.name in [{}] and start_year>=2007 and start_year<=2012\"\n",
    "string += \" return grants[id+researchers+funders+start_date+end_date+funding_usd+RCDC]\"\n",
    "full_resp = pull_data(string=string, in_list=counter_funders, in_type='funding agencies', return_type='grants',\n",
    "                      max_in_items=max_in_items, max_return=max_return, max_overall_returns=max_overall_returns)"
   ]
  },
  {
   "cell_type": "code",
   "execution_count": 194,
   "metadata": {},
   "outputs": [],
   "source": [
    "first_name = []\n",
    "last_name = []\n",
    "rsr_id = []\n",
    "grant_id = []\n",
    "funder_name = []\n",
    "start_dates = []\n",
    "end_dates = []\n",
    "funding_amount = []\n",
    "rcdc_names = []\n",
    "\n",
    "for grant in full_resp:\n",
    "\n",
    "    if 'RCDC' not in grant:\n",
    "        grant['RCDC'] = [{'id':np.nan, 'name':np.nan}]\n",
    "    if 'researchers' not in grant:\n",
    "        grant['researchers'] = [{'id':np.nan, 'first_name':np.nan, 'last_name': np.nan}]\n",
    "    for researcher in grant['researchers']:\n",
    "        if 'id' not in researcher:\n",
    "            tmp = researcher\n",
    "            researcher['id']=tmp\n",
    "        if 'first_name' not in researcher:\n",
    "            researcher['first_name']=np.nan\n",
    "        if 'last_name' not in researcher:\n",
    "            researcher['last_name']=np.nan\n",
    "    if 'start_date' not in grant:\n",
    "        grant['start_date'] = np.nan\n",
    "    if 'end_date' not in grant:\n",
    "        grant['end_date'] = np.nan\n",
    "    if 'funding_usd' not in grant:\n",
    "        grant['funding_usd'] = np.nan\n",
    "    for i in range(len(grant['researchers'])-1, -1, -1):\n",
    "        if 'id' not in grant['researchers'][i]:\n",
    "            del grant['researchers'][i]\n",
    "    if 'funders' not in grant:\n",
    "        grant['funders'] = [{'id':np.nan,'name':np.nan}]\n",
    "    for researcher in grant['researchers']:\n",
    "        for funder in grant['funders']:\n",
    "            if funder['name'] not in counter_funders:\n",
    "                continue\n",
    "            rsr_id.append(researcher['id'])\n",
    "            first_name.append(researcher['first_name'])\n",
    "            last_name.append(researcher['last_name'])\n",
    "            grant_id.append(grant['id'])\n",
    "            funder_name.append(funder['name'])\n",
    "            start_dates.append(grant['start_date'])\n",
    "            end_dates.append(grant['end_date'])\n",
    "            funding_amount.append(float(grant['funding_usd']))\n",
    "            rcdc_names_t = []\n",
    "            for rcdc in grant['RCDC']:\n",
    "                rcdc_names_t.append(str(rcdc['name']))\n",
    "            rcdc_names.append(\";\".join(rcdc_names_t))\n",
    "\n",
    "counter_funded_grnts = pd.DataFrame({'rsr_id':rsr_id\n",
    "                                        , 'first_name':first_name\n",
    "                                        , 'last_name':last_name\n",
    "                                        , 'grant_id':grant_id\n",
    "                                        , 'funder_name':funder_name\n",
    "                                        , 'start_date':start_dates\n",
    "                                        , 'end_date':end_dates\n",
    "                                        , 'funding_amount':funding_amount\n",
    "                                     , 'rcdc_names': rcdc_names\n",
    "                                    }).drop_duplicates().reset_index(drop=True)"
   ]
  },
  {
   "cell_type": "code",
   "execution_count": 195,
   "metadata": {},
   "outputs": [],
   "source": [
    "counter_funded_grnts['last_name'] = counter_funded_grnts['last_name'].str.upper()"
   ]
  },
  {
   "cell_type": "code",
   "execution_count": 196,
   "metadata": {},
   "outputs": [
    {
     "data": {
      "text/plain": [
       "30003"
      ]
     },
     "execution_count": 196,
     "metadata": {},
     "output_type": "execute_result"
    }
   ],
   "source": [
    "counter_funded_grnts['grant_id'].nunique()"
   ]
  },
  {
   "cell_type": "code",
   "execution_count": 197,
   "metadata": {},
   "outputs": [],
   "source": [
    "# Remove all grants with no researcher info\n",
    "counter_funded_grnts = counter_funded_grnts[counter_funded_grnts['rsr_id'].notnull()]\n",
    "\n",
    "# Remove all other funders that might have appeared\n",
    "counter_funded_grnts = counter_funded_grnts[(counter_funded_grnts['funder_name'].isin(counter_funders))]\n",
    "\n",
    "# Restrict to grants funded between 2007 and 2012:\n",
    "counter_funded_grnts = counter_funded_grnts[(pd.DatetimeIndex(counter_funded_grnts['start_date']).year>=2007)\n",
    "                          & (pd.DatetimeIndex(counter_funded_grnts['start_date']).year<=2012)].reset_index(drop=True)"
   ]
  },
  {
   "cell_type": "markdown",
   "metadata": {},
   "source": [
    "Some of the counterfactual agencies (NCI, Cancer Research UK) are cancer-specific funders. Others however, such as the Wellcome Trust and the NHMRC, fund different types of medical research. For this second category of non-cancer-specific funders, we must restrict to grants on the topic of Cancer. I use the RCDC codes to restrict to Cancer-related grants."
   ]
  },
  {
   "cell_type": "code",
   "execution_count": 198,
   "metadata": {},
   "outputs": [],
   "source": [
    "# For non-cancer-specific funders, restrict to Cancer Grants:\n",
    "general_funders = ['Wellcome Trust', 'National Health and Medical Research Council']\n",
    "counter_funded_grnts = counter_funded_grnts[(counter_funded_grnts['funder_name'].isin(general_funders)==False)\n",
    "                                            |(counter_funded_grnts['rcdc_names'].str.upper().str.contains(\"CANCER\"))\n",
    "                                           ].reset_index(drop=True)\n",
    "del counter_funded_grnts['rcdc_names']"
   ]
  },
  {
   "cell_type": "code",
   "execution_count": 199,
   "metadata": {},
   "outputs": [
    {
     "name": "stdout",
     "output_type": "stream",
     "text": [
      "Total number of Grants after restrictions: 15607\n"
     ]
    }
   ],
   "source": [
    "print(\"Total number of Grants after restrictions: {}\".format(counter_funded_grnts['grant_id'].nunique()))"
   ]
  },
  {
   "cell_type": "code",
   "execution_count": 200,
   "metadata": {},
   "outputs": [],
   "source": [
    "counter_funded_grnts = id_replace(counter_funded_grnts)"
   ]
  },
  {
   "cell_type": "markdown",
   "metadata": {},
   "source": [
    "### Combine the two"
   ]
  },
  {
   "cell_type": "code",
   "execution_count": 201,
   "metadata": {},
   "outputs": [],
   "source": [
    "funded_grnts = pd.concat([inca_funded_grnts, counter_funded_grnts], sort=False)"
   ]
  },
  {
   "cell_type": "code",
   "execution_count": 202,
   "metadata": {},
   "outputs": [
    {
     "data": {
      "text/plain": [
       "National Cancer Institute                       14682\n",
       "National Health and Medical Research Council     3112\n",
       "Cancer Research UK                               2290\n",
       "INCa/INSERM/DGOS                                 1502\n",
       "Wellcome Trust                                    416\n",
       "Name: funder_name, dtype: int64"
      ]
     },
     "execution_count": 202,
     "metadata": {},
     "output_type": "execute_result"
    }
   ],
   "source": [
    "funded_grnts['funder_name'].value_counts()"
   ]
  },
  {
   "cell_type": "markdown",
   "metadata": {},
   "source": [
    "### Export"
   ]
  },
  {
   "cell_type": "code",
   "execution_count": 203,
   "metadata": {},
   "outputs": [],
   "source": [
    "cols = ['funder_name', 'grant_id', 'rsr_id', 'first_name', 'last_name', 'start_date', 'end_date', 'funding_amount']\n",
    "funded_grnts[cols].to_csv('../data/funded_grants.csv', index=False)"
   ]
  },
  {
   "cell_type": "markdown",
   "metadata": {},
   "source": [
    "## Pull all Grants, Publications, and Personal Information from these Researchers"
   ]
  },
  {
   "cell_type": "code",
   "execution_count": 102,
   "metadata": {},
   "outputs": [
    {
     "name": "stdout",
     "output_type": "stream",
     "text": [
      "14108\n"
     ]
    }
   ],
   "source": [
    "funded_grnts = pd.read_csv('../data/funded_grants.csv')\n",
    "rsrs = pd.merge(funded_grnts[['rsr_id']].drop_duplicates(), id_replacer, \n",
    "                left_on='rsr_id', right_on='new_id', how='left')\n",
    "rsrs['id'] = np.where(rsrs['old_id'].notnull(), rsrs['old_id'], rsrs['rsr_id'])\n",
    "rsrs = list(rsrs['id'].drop_duplicates())\n",
    "print(len(rsrs))"
   ]
  },
  {
   "cell_type": "markdown",
   "metadata": {},
   "source": [
    "### Grants"
   ]
  },
  {
   "cell_type": "code",
   "execution_count": 103,
   "metadata": {},
   "outputs": [
    {
     "name": "stdout",
     "output_type": "stream",
     "text": [
      "Querying: 14100-14108/14108 researchers...\n",
      "Done !\n"
     ]
    }
   ],
   "source": [
    "string = \"search grants where researchers.id in [{}]\"\n",
    "string += \" return grants[id+researchers+funders+start_date+end_date+funding_usd+RCDC]\"\n",
    "full_resp = pull_data(string=string, in_list=rsrs, in_type='researchers', return_type='grants'\n",
    "                      , max_in_items=max_in_items, max_return=max_return, max_overall_returns=max_overall_returns)"
   ]
  },
  {
   "cell_type": "code",
   "execution_count": 105,
   "metadata": {},
   "outputs": [],
   "source": [
    "rsr_id = []\n",
    "grant_id = []\n",
    "funder_name = []\n",
    "start_dates = []\n",
    "end_dates = []\n",
    "funding_amount = []\n",
    "\n",
    "for grant in full_resp:\n",
    "\n",
    "    if 'researchers' not in grant:\n",
    "        grant['researchers'] = [{'id':np.nan}]\n",
    "    for researcher in grant['researchers']: \n",
    "        if 'id' not in researcher:\n",
    "            tmp = researcher\n",
    "            grant['researchers'].append({'id':tmp})\n",
    "    if 'start_date' not in grant:\n",
    "        grant['start_date'] = np.nan\n",
    "    if 'end_date' not in grant:\n",
    "        grant['end_date'] = np.nan\n",
    "    if 'funding_usd' not in grant:\n",
    "        grant['funding_usd'] = np.nan\n",
    "    for i in range(len(grant['researchers'])-1, -1, -1):\n",
    "        if 'id' not in grant['researchers'][i]:\n",
    "            del grant['researchers'][i]\n",
    "    if 'funders' not in grant:\n",
    "        grant['funders'] = [{'id':np.nan,'name':np.nan}]\n",
    "    for researcher in grant['researchers']:\n",
    "        for funder in grant['funders']:\n",
    "            rsr_id.append(researcher['id'])\n",
    "            grant_id.append(grant['id'])\n",
    "            funder_name.append(funder['name'])\n",
    "            start_dates.append(grant['start_date'])\n",
    "            end_dates.append(grant['end_date'])\n",
    "            funding_amount.append(float(grant['funding_usd']))\n",
    "            \n",
    "grnts = pd.DataFrame({'rsr_id':rsr_id\n",
    "                      , 'grant_id':grant_id\n",
    "                      , 'funder_name':funder_name\n",
    "                      , 'start_date':start_dates\n",
    "                      , 'end_date':end_dates\n",
    "                      , 'funding_amount':funding_amount\n",
    "                     }).drop_duplicates().reset_index(drop=True)"
   ]
  },
  {
   "cell_type": "code",
   "execution_count": 106,
   "metadata": {},
   "outputs": [],
   "source": [
    "grnts = id_replace(grnts)"
   ]
  },
  {
   "cell_type": "code",
   "execution_count": 107,
   "metadata": {},
   "outputs": [
    {
     "data": {
      "text/html": [
       "<div>\n",
       "<style scoped>\n",
       "    .dataframe tbody tr th:only-of-type {\n",
       "        vertical-align: middle;\n",
       "    }\n",
       "\n",
       "    .dataframe tbody tr th {\n",
       "        vertical-align: top;\n",
       "    }\n",
       "\n",
       "    .dataframe thead th {\n",
       "        text-align: right;\n",
       "    }\n",
       "</style>\n",
       "<table border=\"1\" class=\"dataframe\">\n",
       "  <thead>\n",
       "    <tr style=\"text-align: right;\">\n",
       "      <th></th>\n",
       "      <th>rsr_id</th>\n",
       "      <th>grant_id</th>\n",
       "      <th>funder_name</th>\n",
       "      <th>start_date</th>\n",
       "      <th>end_date</th>\n",
       "      <th>funding_amount</th>\n",
       "    </tr>\n",
       "  </thead>\n",
       "  <tbody>\n",
       "    <tr>\n",
       "      <th>count</th>\n",
       "      <td>173553</td>\n",
       "      <td>173553</td>\n",
       "      <td>173553</td>\n",
       "      <td>173234</td>\n",
       "      <td>172453</td>\n",
       "      <td>1.671750e+05</td>\n",
       "    </tr>\n",
       "    <tr>\n",
       "      <th>unique</th>\n",
       "      <td>78499</td>\n",
       "      <td>72719</td>\n",
       "      <td>199</td>\n",
       "      <td>5528</td>\n",
       "      <td>3301</td>\n",
       "      <td>NaN</td>\n",
       "    </tr>\n",
       "    <tr>\n",
       "      <th>top</th>\n",
       "      <td>ur.01117731572.33</td>\n",
       "      <td>grant.2439890</td>\n",
       "      <td>National Cancer Institute</td>\n",
       "      <td>1977-12-01</td>\n",
       "      <td>2008-05-31</td>\n",
       "      <td>NaN</td>\n",
       "    </tr>\n",
       "    <tr>\n",
       "      <th>freq</th>\n",
       "      <td>384</td>\n",
       "      <td>823</td>\n",
       "      <td>40552</td>\n",
       "      <td>3935</td>\n",
       "      <td>3944</td>\n",
       "      <td>NaN</td>\n",
       "    </tr>\n",
       "    <tr>\n",
       "      <th>mean</th>\n",
       "      <td>NaN</td>\n",
       "      <td>NaN</td>\n",
       "      <td>NaN</td>\n",
       "      <td>NaN</td>\n",
       "      <td>NaN</td>\n",
       "      <td>9.958314e+06</td>\n",
       "    </tr>\n",
       "    <tr>\n",
       "      <th>std</th>\n",
       "      <td>NaN</td>\n",
       "      <td>NaN</td>\n",
       "      <td>NaN</td>\n",
       "      <td>NaN</td>\n",
       "      <td>NaN</td>\n",
       "      <td>2.186969e+07</td>\n",
       "    </tr>\n",
       "    <tr>\n",
       "      <th>min</th>\n",
       "      <td>NaN</td>\n",
       "      <td>NaN</td>\n",
       "      <td>NaN</td>\n",
       "      <td>NaN</td>\n",
       "      <td>NaN</td>\n",
       "      <td>0.000000e+00</td>\n",
       "    </tr>\n",
       "    <tr>\n",
       "      <th>25%</th>\n",
       "      <td>NaN</td>\n",
       "      <td>NaN</td>\n",
       "      <td>NaN</td>\n",
       "      <td>NaN</td>\n",
       "      <td>NaN</td>\n",
       "      <td>3.109995e+05</td>\n",
       "    </tr>\n",
       "    <tr>\n",
       "      <th>50%</th>\n",
       "      <td>NaN</td>\n",
       "      <td>NaN</td>\n",
       "      <td>NaN</td>\n",
       "      <td>NaN</td>\n",
       "      <td>NaN</td>\n",
       "      <td>1.082538e+06</td>\n",
       "    </tr>\n",
       "    <tr>\n",
       "      <th>75%</th>\n",
       "      <td>NaN</td>\n",
       "      <td>NaN</td>\n",
       "      <td>NaN</td>\n",
       "      <td>NaN</td>\n",
       "      <td>NaN</td>\n",
       "      <td>1.100841e+07</td>\n",
       "    </tr>\n",
       "    <tr>\n",
       "      <th>max</th>\n",
       "      <td>NaN</td>\n",
       "      <td>NaN</td>\n",
       "      <td>NaN</td>\n",
       "      <td>NaN</td>\n",
       "      <td>NaN</td>\n",
       "      <td>1.020605e+09</td>\n",
       "    </tr>\n",
       "  </tbody>\n",
       "</table>\n",
       "</div>"
      ],
      "text/plain": [
       "                   rsr_id       grant_id                funder_name  \\\n",
       "count              173553         173553                     173553   \n",
       "unique              78499          72719                        199   \n",
       "top     ur.01117731572.33  grant.2439890  National Cancer Institute   \n",
       "freq                  384            823                      40552   \n",
       "mean                  NaN            NaN                        NaN   \n",
       "std                   NaN            NaN                        NaN   \n",
       "min                   NaN            NaN                        NaN   \n",
       "25%                   NaN            NaN                        NaN   \n",
       "50%                   NaN            NaN                        NaN   \n",
       "75%                   NaN            NaN                        NaN   \n",
       "max                   NaN            NaN                        NaN   \n",
       "\n",
       "        start_date    end_date  funding_amount  \n",
       "count       173234      172453    1.671750e+05  \n",
       "unique        5528        3301             NaN  \n",
       "top     1977-12-01  2008-05-31             NaN  \n",
       "freq          3935        3944             NaN  \n",
       "mean           NaN         NaN    9.958314e+06  \n",
       "std            NaN         NaN    2.186969e+07  \n",
       "min            NaN         NaN    0.000000e+00  \n",
       "25%            NaN         NaN    3.109995e+05  \n",
       "50%            NaN         NaN    1.082538e+06  \n",
       "75%            NaN         NaN    1.100841e+07  \n",
       "max            NaN         NaN    1.020605e+09  "
      ]
     },
     "execution_count": 107,
     "metadata": {},
     "output_type": "execute_result"
    }
   ],
   "source": [
    "grnts.describe(include='all')"
   ]
  },
  {
   "cell_type": "code",
   "execution_count": 108,
   "metadata": {},
   "outputs": [],
   "source": [
    "grnts.to_csv('../data/researcher_grants.csv', index=False)"
   ]
  },
  {
   "cell_type": "code",
   "execution_count": 109,
   "metadata": {},
   "outputs": [],
   "source": [
    "data_id = []\n",
    "rcdc_names = []\n",
    "for elem in full_resp:\n",
    "    if 'id' not in elem:\n",
    "        elem['id'] = np.nan\n",
    "    if 'RCDC' not in elem:\n",
    "        elem['RCDC'] = [{'id':np.nan, 'name':np.nan}]\n",
    "    for rcdc in elem['RCDC']:\n",
    "        if rcdc['name'] != np.nan:\n",
    "            data_id.append(elem['id'])\n",
    "            rcdc_names.append(str(rcdc['name']))\n",
    "\n",
    "grnts_rcdc = pd.DataFrame({'grant_id':data_id\n",
    "                           , 'rcdc_name':rcdc_names}).drop_duplicates().reset_index(drop=True)\n",
    "\n",
    "grnts_rcdc['rcdc_name'] = grnts_rcdc['rcdc_name'].str.strip().str.upper()"
   ]
  },
  {
   "cell_type": "code",
   "execution_count": 111,
   "metadata": {},
   "outputs": [],
   "source": [
    "grnts_rcdc.to_csv('../data/topic_lookups/grants_rcdc.csv', index=False)"
   ]
  },
  {
   "cell_type": "markdown",
   "metadata": {},
   "source": [
    "### Publications"
   ]
  },
  {
   "cell_type": "code",
   "execution_count": 139,
   "metadata": {
    "scrolled": false
   },
   "outputs": [
    {
     "name": "stdout",
     "output_type": "stream",
     "text": [
      "Querying: 1000-1100/14108 researchers...\n",
      "RESPONSE ERROR on i=10 and j=3.\n",
      "\n",
      "Querying: 1500-1600/14108 researchers...\n",
      "RESPONSE ERROR on i=15 and j=2.\n",
      "\n",
      "Querying: 3000-3100/14108 researchers...\n",
      "RESPONSE ERROR on i=30 and j=3.\n",
      "\n",
      "Querying: 3600-3700/14108 researchers...\n",
      "RESPONSE ERROR on i=36 and j=2.\n",
      "\n",
      "Querying: 5200-5300/14108 researchers...\n",
      "RESPONSE ERROR on i=52 and j=3.\n",
      "\n",
      "Querying: 5300-5400/14108 researchers...\n",
      "RESPONSE ERROR on i=53 and j=4.\n",
      "\n",
      "Querying: 7600-7700/14108 researchers...\n",
      "RESPONSE ERROR on i=76 and j=3.\n",
      "\n",
      "Querying: 8100-8200/14108 researchers...\n",
      "RESPONSE ERROR on i=81 and j=7.\n",
      "\n",
      "Querying: 9600-9700/14108 researchers...\n",
      "RESPONSE ERROR on i=96 and j=2.\n",
      "\n",
      "Querying: 10100-10200/14108 researchers...\n",
      "RESPONSE ERROR on i=101 and j=2.\n",
      "\n",
      "Querying: 10800-10900/14108 researchers...\n",
      "RESPONSE ERROR on i=108 and j=5.\n",
      "\n",
      "Querying: 11400-11500/14108 researchers...\n",
      "RESPONSE ERROR on i=114 and j=2.\n",
      "\n",
      "Querying: 12200-12300/14108 researchers...\n",
      "RESPONSE ERROR on i=122 and j=1.\n",
      "\n",
      "Querying: 12600-12700/14108 researchers...\n",
      "RESPONSE ERROR on i=126 and j=1.\n",
      "\n",
      "Querying: 14100-14108/14108 researchers...\n",
      "Done !\n"
     ]
    }
   ],
   "source": [
    "string = \"search publications where researchers.id in [{}]\"\n",
    "string += \" return publications\"\n",
    "string += \"[id+doi+pmid+author_affiliations+date+supporting_grant_ids+times_cited+altmetric+type+journal+RCDC]\"\n",
    "full_resp = pull_data(string=string, in_list=rsrs, in_type='researchers', return_type='publications', \n",
    "                      max_in_items=max_in_items, max_return=max_return, max_overall_returns=max_overall_returns)"
   ]
  },
  {
   "cell_type": "code",
   "execution_count": 158,
   "metadata": {},
   "outputs": [],
   "source": [
    "pub_id = []\n",
    "pmid = []\n",
    "dates = []\n",
    "citations = []\n",
    "dois = []\n",
    "supporting_grants = []\n",
    "nb_authors = []\n",
    "author_id = []\n",
    "author_country = []\n",
    "author_city = []\n",
    "author_affiliation = []\n",
    "author_affiliation_id = []\n",
    "altmetric = []\n",
    "journal = []\n",
    "journal_id = []\n",
    "pub_type = []\n",
    "\n",
    "for pub in full_resp:\n",
    "    if 'id' not in pub:\n",
    "        pub['id'] = np.nan\n",
    "    if 'pmid' not in pub:\n",
    "        pub['pmid'] = np.nan\n",
    "    if 'author_affiliations' not in pub:\n",
    "        pub['author_affiliations'] = [[]]\n",
    "    for author in pub['author_affiliations'][0]: \n",
    "        if 'researcher_id' not in author:\n",
    "            author['researcher_id'] = np.nan\n",
    "        if ('affiliations' not in author)  | (len(author['affiliations'])==0):\n",
    "            author['affiliations'] = [{'country_code':np.nan, 'name': np.nan, 'id':np.nan, 'city':np.nan}]\n",
    "        for affiliation in author['affiliations']:\n",
    "            if 'country_code' not in affiliation:\n",
    "                affiliation['country_code']=np.nan\n",
    "            if 'name' not in affiliation:\n",
    "                affiliation['name']=np.nan\n",
    "            if 'id' not in affiliation:\n",
    "                affiliation['id']=np.nan\n",
    "            if 'city' not in affiliation:\n",
    "                affiliation['city']=np.nan\n",
    "    if 'journal' not in pub:\n",
    "        pub['journal'] = {'id':np.nan, 'title':np.nan}\n",
    "    if 'id' not in pub['journal']:\n",
    "        pub['journal']['id'] = np.nan\n",
    "    if 'title' not in pub['journal']:\n",
    "        pub['journal']['title'] = np.nan\n",
    "    if 'date' not in pub:\n",
    "        pub['date'] = np.nan\n",
    "    if 'times_cited' not in pub:\n",
    "        pub['times_cited'] = np.nan\n",
    "    if 'doi' not in pub:\n",
    "        pub['doi'] = np.nan\n",
    "    if 'type' not in pub:\n",
    "        pub['type'] = np.nan\n",
    "    if 'altmetric' not in pub:\n",
    "        pub['altmetric'] = np.nan\n",
    "    if 'supporting_grant_ids' not in pub:\n",
    "        pub['supporting_grant_ids'] = [np.nan]\n",
    "    nb = len(pub['author_affiliations'][0])\n",
    "    for author in pub['author_affiliations'][0]:\n",
    "        nb_authors.append(float(nb))\n",
    "        author_id.append(author['researcher_id'])\n",
    "        author_country.append(author['affiliations'][0]['country_code'])\n",
    "        author_city.append(author['affiliations'][0]['city'])\n",
    "        author_affiliation.append(author['affiliations'][0]['name'])\n",
    "        author_affiliation_id.append(author['affiliations'][0]['id'])\n",
    "        pub_id.append(pub['id'])\n",
    "        dates.append(pub['date'])\n",
    "        citations.append(float(pub['times_cited']))\n",
    "        dois.append(pub['doi'])\n",
    "        pmid.append(pub['pmid'])\n",
    "        supporting_grants.append(pub['supporting_grant_ids'])\n",
    "        pub_type.append(pub['type'])\n",
    "        altmetric.append(pub['altmetric'])\n",
    "        journal.append(pub['journal']['title'])\n",
    "        journal_id.append(pub['journal']['id'])\n",
    "\n",
    "pubs = pd.DataFrame({'pub_id':pub_id\n",
    "                     , 'pmid': pmid\n",
    "                     , 'date':dates\n",
    "                     , 'doi':dois\n",
    "                     , 'citations':citations\n",
    "                     , 'nb_authors':nb_authors\n",
    "                     , 'rsr_id':author_id\n",
    "                     , 'rsr_country':author_country\n",
    "                     , 'rsr_city':author_city\n",
    "                     , 'rsr_affiliation':author_affiliation\n",
    "                     , 'rsr_affiliation_id':author_affiliation_id\n",
    "                     , 'supporting_grants':supporting_grants\n",
    "                     , 'pub_type':pub_type\n",
    "                     , 'altmetric':altmetric\n",
    "                     , 'journal':journal\n",
    "                     , 'journal_id':journal_id\n",
    "                    })"
   ]
  },
  {
   "cell_type": "code",
   "execution_count": 162,
   "metadata": {},
   "outputs": [],
   "source": [
    "pubs['supporting_grants'] = pubs['supporting_grants'].apply(lambda x: np.nan if x == [np.nan] else  ';'.join(x))"
   ]
  },
  {
   "cell_type": "code",
   "execution_count": null,
   "metadata": {},
   "outputs": [],
   "source": [
    "pubs = pubs.drop_duplicates().reset_index(drop=True)"
   ]
  },
  {
   "cell_type": "code",
   "execution_count": 163,
   "metadata": {},
   "outputs": [],
   "source": [
    "pubs['date'] = pd.to_datetime(pubs['date'], errors='coerce')\n",
    "pubs['year'] = pd.DatetimeIndex(pubs['date']).year"
   ]
  },
  {
   "cell_type": "code",
   "execution_count": 164,
   "metadata": {},
   "outputs": [
    {
     "data": {
      "text/html": [
       "<div>\n",
       "<style scoped>\n",
       "    .dataframe tbody tr th:only-of-type {\n",
       "        vertical-align: middle;\n",
       "    }\n",
       "\n",
       "    .dataframe tbody tr th {\n",
       "        vertical-align: top;\n",
       "    }\n",
       "\n",
       "    .dataframe thead th {\n",
       "        text-align: right;\n",
       "    }\n",
       "</style>\n",
       "<table border=\"1\" class=\"dataframe\">\n",
       "  <thead>\n",
       "    <tr style=\"text-align: right;\">\n",
       "      <th></th>\n",
       "      <th>pub_id</th>\n",
       "      <th>pmid</th>\n",
       "      <th>date</th>\n",
       "      <th>doi</th>\n",
       "      <th>citations</th>\n",
       "      <th>nb_authors</th>\n",
       "      <th>rsr_id</th>\n",
       "      <th>rsr_country</th>\n",
       "      <th>rsr_city</th>\n",
       "      <th>rsr_affiliation</th>\n",
       "      <th>rsr_affiliation_id</th>\n",
       "      <th>supporting_grants</th>\n",
       "      <th>pub_type</th>\n",
       "      <th>altmetric</th>\n",
       "      <th>journal</th>\n",
       "      <th>journal_id</th>\n",
       "      <th>year</th>\n",
       "    </tr>\n",
       "  </thead>\n",
       "  <tbody>\n",
       "    <tr>\n",
       "      <th>count</th>\n",
       "      <td>8014661</td>\n",
       "      <td>6127441</td>\n",
       "      <td>8014524</td>\n",
       "      <td>7646173</td>\n",
       "      <td>8.014661e+06</td>\n",
       "      <td>8.014661e+06</td>\n",
       "      <td>7594998</td>\n",
       "      <td>4819216</td>\n",
       "      <td>4819216</td>\n",
       "      <td>6111156</td>\n",
       "      <td>4819216</td>\n",
       "      <td>3552117</td>\n",
       "      <td>8014661</td>\n",
       "      <td>3.300813e+06</td>\n",
       "      <td>7564608</td>\n",
       "      <td>7564608</td>\n",
       "      <td>8.014524e+06</td>\n",
       "    </tr>\n",
       "    <tr>\n",
       "      <th>unique</th>\n",
       "      <td>1181135</td>\n",
       "      <td>891240</td>\n",
       "      <td>12476</td>\n",
       "      <td>1110028</td>\n",
       "      <td>NaN</td>\n",
       "      <td>NaN</td>\n",
       "      <td>1153185</td>\n",
       "      <td>176</td>\n",
       "      <td>4543</td>\n",
       "      <td>494342</td>\n",
       "      <td>19442</td>\n",
       "      <td>305095</td>\n",
       "      <td>5</td>\n",
       "      <td>NaN</td>\n",
       "      <td>12876</td>\n",
       "      <td>12981</td>\n",
       "      <td>NaN</td>\n",
       "    </tr>\n",
       "    <tr>\n",
       "      <th>top</th>\n",
       "      <td>pub.1054508044</td>\n",
       "      <td>27770180</td>\n",
       "      <td>2011-11-14 00:00:00</td>\n",
       "      <td>10.1007/bf03375463</td>\n",
       "      <td>NaN</td>\n",
       "      <td>NaN</td>\n",
       "      <td>ur.012724545020.23</td>\n",
       "      <td>US</td>\n",
       "      <td>Houston</td>\n",
       "      <td>The University of Texas MD Anderson Cancer Center</td>\n",
       "      <td>grid.240145.6</td>\n",
       "      <td>grant.2438826</td>\n",
       "      <td>article</td>\n",
       "      <td>NaN</td>\n",
       "      <td>Cancer Research</td>\n",
       "      <td>jour.1319913</td>\n",
       "      <td>NaN</td>\n",
       "    </tr>\n",
       "    <tr>\n",
       "      <th>freq</th>\n",
       "      <td>3268</td>\n",
       "      <td>3268</td>\n",
       "      <td>101082</td>\n",
       "      <td>3268</td>\n",
       "      <td>NaN</td>\n",
       "      <td>NaN</td>\n",
       "      <td>2556</td>\n",
       "      <td>2912477</td>\n",
       "      <td>175300</td>\n",
       "      <td>119466</td>\n",
       "      <td>119466</td>\n",
       "      <td>28440</td>\n",
       "      <td>7542793</td>\n",
       "      <td>NaN</td>\n",
       "      <td>296104</td>\n",
       "      <td>296104</td>\n",
       "      <td>NaN</td>\n",
       "    </tr>\n",
       "    <tr>\n",
       "      <th>first</th>\n",
       "      <td>NaN</td>\n",
       "      <td>NaN</td>\n",
       "      <td>1949-01-25 00:00:00</td>\n",
       "      <td>NaN</td>\n",
       "      <td>NaN</td>\n",
       "      <td>NaN</td>\n",
       "      <td>NaN</td>\n",
       "      <td>NaN</td>\n",
       "      <td>NaN</td>\n",
       "      <td>NaN</td>\n",
       "      <td>NaN</td>\n",
       "      <td>NaN</td>\n",
       "      <td>NaN</td>\n",
       "      <td>NaN</td>\n",
       "      <td>NaN</td>\n",
       "      <td>NaN</td>\n",
       "      <td>NaN</td>\n",
       "    </tr>\n",
       "    <tr>\n",
       "      <th>last</th>\n",
       "      <td>NaN</td>\n",
       "      <td>NaN</td>\n",
       "      <td>2018-12-31 00:00:00</td>\n",
       "      <td>NaN</td>\n",
       "      <td>NaN</td>\n",
       "      <td>NaN</td>\n",
       "      <td>NaN</td>\n",
       "      <td>NaN</td>\n",
       "      <td>NaN</td>\n",
       "      <td>NaN</td>\n",
       "      <td>NaN</td>\n",
       "      <td>NaN</td>\n",
       "      <td>NaN</td>\n",
       "      <td>NaN</td>\n",
       "      <td>NaN</td>\n",
       "      <td>NaN</td>\n",
       "      <td>NaN</td>\n",
       "    </tr>\n",
       "    <tr>\n",
       "      <th>mean</th>\n",
       "      <td>NaN</td>\n",
       "      <td>NaN</td>\n",
       "      <td>NaN</td>\n",
       "      <td>NaN</td>\n",
       "      <td>5.200107e+01</td>\n",
       "      <td>2.411288e+01</td>\n",
       "      <td>NaN</td>\n",
       "      <td>NaN</td>\n",
       "      <td>NaN</td>\n",
       "      <td>NaN</td>\n",
       "      <td>NaN</td>\n",
       "      <td>NaN</td>\n",
       "      <td>NaN</td>\n",
       "      <td>2.334145e+01</td>\n",
       "      <td>NaN</td>\n",
       "      <td>NaN</td>\n",
       "      <td>2.008088e+03</td>\n",
       "    </tr>\n",
       "    <tr>\n",
       "      <th>std</th>\n",
       "      <td>NaN</td>\n",
       "      <td>NaN</td>\n",
       "      <td>NaN</td>\n",
       "      <td>NaN</td>\n",
       "      <td>1.852514e+02</td>\n",
       "      <td>1.680416e+02</td>\n",
       "      <td>NaN</td>\n",
       "      <td>NaN</td>\n",
       "      <td>NaN</td>\n",
       "      <td>NaN</td>\n",
       "      <td>NaN</td>\n",
       "      <td>NaN</td>\n",
       "      <td>NaN</td>\n",
       "      <td>1.079216e+02</td>\n",
       "      <td>NaN</td>\n",
       "      <td>NaN</td>\n",
       "      <td>8.427831e+00</td>\n",
       "    </tr>\n",
       "    <tr>\n",
       "      <th>min</th>\n",
       "      <td>NaN</td>\n",
       "      <td>NaN</td>\n",
       "      <td>NaN</td>\n",
       "      <td>NaN</td>\n",
       "      <td>0.000000e+00</td>\n",
       "      <td>1.000000e+00</td>\n",
       "      <td>NaN</td>\n",
       "      <td>NaN</td>\n",
       "      <td>NaN</td>\n",
       "      <td>NaN</td>\n",
       "      <td>NaN</td>\n",
       "      <td>NaN</td>\n",
       "      <td>NaN</td>\n",
       "      <td>0.000000e+00</td>\n",
       "      <td>NaN</td>\n",
       "      <td>NaN</td>\n",
       "      <td>1.949000e+03</td>\n",
       "    </tr>\n",
       "    <tr>\n",
       "      <th>25%</th>\n",
       "      <td>NaN</td>\n",
       "      <td>NaN</td>\n",
       "      <td>NaN</td>\n",
       "      <td>NaN</td>\n",
       "      <td>2.000000e+00</td>\n",
       "      <td>6.000000e+00</td>\n",
       "      <td>NaN</td>\n",
       "      <td>NaN</td>\n",
       "      <td>NaN</td>\n",
       "      <td>NaN</td>\n",
       "      <td>NaN</td>\n",
       "      <td>NaN</td>\n",
       "      <td>NaN</td>\n",
       "      <td>2.000000e+00</td>\n",
       "      <td>NaN</td>\n",
       "      <td>NaN</td>\n",
       "      <td>2.004000e+03</td>\n",
       "    </tr>\n",
       "    <tr>\n",
       "      <th>50%</th>\n",
       "      <td>NaN</td>\n",
       "      <td>NaN</td>\n",
       "      <td>NaN</td>\n",
       "      <td>NaN</td>\n",
       "      <td>1.400000e+01</td>\n",
       "      <td>8.000000e+00</td>\n",
       "      <td>NaN</td>\n",
       "      <td>NaN</td>\n",
       "      <td>NaN</td>\n",
       "      <td>NaN</td>\n",
       "      <td>NaN</td>\n",
       "      <td>NaN</td>\n",
       "      <td>NaN</td>\n",
       "      <td>3.000000e+00</td>\n",
       "      <td>NaN</td>\n",
       "      <td>NaN</td>\n",
       "      <td>2.010000e+03</td>\n",
       "    </tr>\n",
       "    <tr>\n",
       "      <th>75%</th>\n",
       "      <td>NaN</td>\n",
       "      <td>NaN</td>\n",
       "      <td>NaN</td>\n",
       "      <td>NaN</td>\n",
       "      <td>4.500000e+01</td>\n",
       "      <td>1.300000e+01</td>\n",
       "      <td>NaN</td>\n",
       "      <td>NaN</td>\n",
       "      <td>NaN</td>\n",
       "      <td>NaN</td>\n",
       "      <td>NaN</td>\n",
       "      <td>NaN</td>\n",
       "      <td>NaN</td>\n",
       "      <td>1.000000e+01</td>\n",
       "      <td>NaN</td>\n",
       "      <td>NaN</td>\n",
       "      <td>2.015000e+03</td>\n",
       "    </tr>\n",
       "    <tr>\n",
       "      <th>max</th>\n",
       "      <td>NaN</td>\n",
       "      <td>NaN</td>\n",
       "      <td>NaN</td>\n",
       "      <td>NaN</td>\n",
       "      <td>6.617100e+04</td>\n",
       "      <td>7.863000e+03</td>\n",
       "      <td>NaN</td>\n",
       "      <td>NaN</td>\n",
       "      <td>NaN</td>\n",
       "      <td>NaN</td>\n",
       "      <td>NaN</td>\n",
       "      <td>NaN</td>\n",
       "      <td>NaN</td>\n",
       "      <td>5.636000e+03</td>\n",
       "      <td>NaN</td>\n",
       "      <td>NaN</td>\n",
       "      <td>2.018000e+03</td>\n",
       "    </tr>\n",
       "  </tbody>\n",
       "</table>\n",
       "</div>"
      ],
      "text/plain": [
       "                pub_id      pmid                 date                 doi  \\\n",
       "count          8014661   6127441              8014524             7646173   \n",
       "unique         1181135    891240                12476             1110028   \n",
       "top     pub.1054508044  27770180  2011-11-14 00:00:00  10.1007/bf03375463   \n",
       "freq              3268      3268               101082                3268   \n",
       "first              NaN       NaN  1949-01-25 00:00:00                 NaN   \n",
       "last               NaN       NaN  2018-12-31 00:00:00                 NaN   \n",
       "mean               NaN       NaN                  NaN                 NaN   \n",
       "std                NaN       NaN                  NaN                 NaN   \n",
       "min                NaN       NaN                  NaN                 NaN   \n",
       "25%                NaN       NaN                  NaN                 NaN   \n",
       "50%                NaN       NaN                  NaN                 NaN   \n",
       "75%                NaN       NaN                  NaN                 NaN   \n",
       "max                NaN       NaN                  NaN                 NaN   \n",
       "\n",
       "           citations    nb_authors              rsr_id rsr_country rsr_city  \\\n",
       "count   8.014661e+06  8.014661e+06             7594998     4819216  4819216   \n",
       "unique           NaN           NaN             1153185         176     4543   \n",
       "top              NaN           NaN  ur.012724545020.23          US  Houston   \n",
       "freq             NaN           NaN                2556     2912477   175300   \n",
       "first            NaN           NaN                 NaN         NaN      NaN   \n",
       "last             NaN           NaN                 NaN         NaN      NaN   \n",
       "mean    5.200107e+01  2.411288e+01                 NaN         NaN      NaN   \n",
       "std     1.852514e+02  1.680416e+02                 NaN         NaN      NaN   \n",
       "min     0.000000e+00  1.000000e+00                 NaN         NaN      NaN   \n",
       "25%     2.000000e+00  6.000000e+00                 NaN         NaN      NaN   \n",
       "50%     1.400000e+01  8.000000e+00                 NaN         NaN      NaN   \n",
       "75%     4.500000e+01  1.300000e+01                 NaN         NaN      NaN   \n",
       "max     6.617100e+04  7.863000e+03                 NaN         NaN      NaN   \n",
       "\n",
       "                                          rsr_affiliation rsr_affiliation_id  \\\n",
       "count                                             6111156            4819216   \n",
       "unique                                             494342              19442   \n",
       "top     The University of Texas MD Anderson Cancer Center      grid.240145.6   \n",
       "freq                                               119466             119466   \n",
       "first                                                 NaN                NaN   \n",
       "last                                                  NaN                NaN   \n",
       "mean                                                  NaN                NaN   \n",
       "std                                                   NaN                NaN   \n",
       "min                                                   NaN                NaN   \n",
       "25%                                                   NaN                NaN   \n",
       "50%                                                   NaN                NaN   \n",
       "75%                                                   NaN                NaN   \n",
       "max                                                   NaN                NaN   \n",
       "\n",
       "       supporting_grants pub_type     altmetric          journal  \\\n",
       "count            3552117  8014661  3.300813e+06          7564608   \n",
       "unique            305095        5           NaN            12876   \n",
       "top        grant.2438826  article           NaN  Cancer Research   \n",
       "freq               28440  7542793           NaN           296104   \n",
       "first                NaN      NaN           NaN              NaN   \n",
       "last                 NaN      NaN           NaN              NaN   \n",
       "mean                 NaN      NaN  2.334145e+01              NaN   \n",
       "std                  NaN      NaN  1.079216e+02              NaN   \n",
       "min                  NaN      NaN  0.000000e+00              NaN   \n",
       "25%                  NaN      NaN  2.000000e+00              NaN   \n",
       "50%                  NaN      NaN  3.000000e+00              NaN   \n",
       "75%                  NaN      NaN  1.000000e+01              NaN   \n",
       "max                  NaN      NaN  5.636000e+03              NaN   \n",
       "\n",
       "          journal_id          year  \n",
       "count        7564608  8.014524e+06  \n",
       "unique         12981           NaN  \n",
       "top     jour.1319913           NaN  \n",
       "freq          296104           NaN  \n",
       "first            NaN           NaN  \n",
       "last             NaN           NaN  \n",
       "mean             NaN  2.008088e+03  \n",
       "std              NaN  8.427831e+00  \n",
       "min              NaN  1.949000e+03  \n",
       "25%              NaN  2.004000e+03  \n",
       "50%              NaN  2.010000e+03  \n",
       "75%              NaN  2.015000e+03  \n",
       "max              NaN  2.018000e+03  "
      ]
     },
     "execution_count": 164,
     "metadata": {},
     "output_type": "execute_result"
    }
   ],
   "source": [
    "pubs.describe(include='all')"
   ]
  },
  {
   "cell_type": "code",
   "execution_count": 165,
   "metadata": {},
   "outputs": [],
   "source": [
    "pubs = id_replace(pubs)"
   ]
  },
  {
   "cell_type": "code",
   "execution_count": 166,
   "metadata": {},
   "outputs": [],
   "source": [
    "pubs.to_csv('../data/researcher_publications.csv', index=False)"
   ]
  },
  {
   "cell_type": "code",
   "execution_count": 170,
   "metadata": {},
   "outputs": [],
   "source": [
    "# Publication IDs:\n",
    "pub_ids = pubs[pubs['pmid'].notnull()][['rsr_id', 'pmid']].drop_duplicates()\n",
    "pub_ids.to_csv('../data/pub_ids.csv', index=False)"
   ]
  },
  {
   "cell_type": "code",
   "execution_count": 171,
   "metadata": {},
   "outputs": [],
   "source": [
    "data_id = []\n",
    "rcdc_names = []\n",
    "for elem in full_resp:\n",
    "    if 'id' not in elem:\n",
    "        elem['id'] = np.nan\n",
    "    if 'RCDC' not in elem:\n",
    "        elem['RCDC'] = [{'id':np.nan, 'name':np.nan}]\n",
    "    for rcdc in elem['RCDC']:\n",
    "        if rcdc['name'] != np.nan:\n",
    "            data_id.append(elem['id'])\n",
    "            rcdc_names.append(str(rcdc['name']))\n",
    "\n",
    "pubs_rcdc = pd.DataFrame({'pub_id':data_id\n",
    "                           , 'rcdc_name':rcdc_names}).drop_duplicates().reset_index(drop=True)\n",
    "\n",
    "pubs_rcdc['rcdc_name'] = pubs_rcdc['rcdc_name'].str.strip().str.upper()"
   ]
  },
  {
   "cell_type": "code",
   "execution_count": 172,
   "metadata": {},
   "outputs": [],
   "source": [
    "pubs_rcdc.to_csv('../data/topic_lookups/publications_rcdc.csv', index=False)"
   ]
  },
  {
   "cell_type": "markdown",
   "metadata": {},
   "source": [
    "## Personal Information"
   ]
  },
  {
   "cell_type": "code",
   "execution_count": 204,
   "metadata": {},
   "outputs": [],
   "source": [
    "funded_grnts = pd.read_csv('../data/funded_grants.csv', low_memory=False)\n",
    "pubs = pd.read_csv('../data/researcher_publications.csv', low_memory=False)"
   ]
  },
  {
   "cell_type": "markdown",
   "metadata": {},
   "source": [
    "### Gender"
   ]
  },
  {
   "cell_type": "code",
   "execution_count": 205,
   "metadata": {},
   "outputs": [],
   "source": [
    "# Gender Imputer\n",
    "d = gender.Detector()\n",
    "\n",
    "# Gender Abbreviation Table\n",
    "gender_abbr = pd.DataFrame({'gender': ['male', 'mostly_male', 'unknown', 'andy', 'mostly_female', 'female']\n",
    "                            , 'gender_abbr': ['M', 'M', 'UNKNOWN', 'UNKNOWN', 'F', 'F']})"
   ]
  },
  {
   "cell_type": "code",
   "execution_count": 206,
   "metadata": {},
   "outputs": [],
   "source": [
    "rsr_gender = funded_grnts[['rsr_id', 'first_name', 'last_name']].drop_duplicates().reset_index(drop=True)"
   ]
  },
  {
   "cell_type": "code",
   "execution_count": 207,
   "metadata": {},
   "outputs": [],
   "source": [
    "rsr_gender['gender_name'] = rsr_gender['first_name'].fillna('')\n",
    "rsr_gender['gender_name'] = rsr_gender['gender_name'].apply(lambda x: x.split(\" \")[0])\n",
    "rsr_gender['gender'] = rsr_gender['gender_name'].apply(lambda x: d.get_gender(x))\n",
    "rsr_gender = pd.merge(rsr_gender, gender_abbr, how='left', on='gender')\n",
    "del rsr_gender['gender'], rsr_gender['gender_name'], rsr_gender['first_name'], rsr_gender['last_name']\n",
    "rsr_gender.rename(columns={'gender_abbr':'rsr_gender'}, inplace=True)"
   ]
  },
  {
   "cell_type": "code",
   "execution_count": 208,
   "metadata": {},
   "outputs": [
    {
     "data": {
      "text/plain": [
       "M          0.551271\n",
       "F          0.291774\n",
       "UNKNOWN    0.156955\n",
       "Name: rsr_gender, dtype: float64"
      ]
     },
     "execution_count": 208,
     "metadata": {},
     "output_type": "execute_result"
    }
   ],
   "source": [
    "rsr_gender['rsr_gender'].value_counts(normalize=True)"
   ]
  },
  {
   "cell_type": "markdown",
   "metadata": {},
   "source": [
    "### Career Age"
   ]
  },
  {
   "cell_type": "code",
   "execution_count": 235,
   "metadata": {},
   "outputs": [],
   "source": [
    "rsr_first_year = funded_grnts[['rsr_id', 'start_date']].groupby('rsr_id')['start_date'].min().reset_index()\n",
    "rsr_first_year['first_grant_year'] = pd.DatetimeIndex(rsr_first_year['start_date']).year\n",
    "temp = pubs[['rsr_id', 'year']].groupby('rsr_id')['year'].min().reset_index()\n",
    "temp.rename(columns={'year':'first_pub_year'}, inplace=True)\n",
    "rsr_first_year = pd.merge(rsr_first_year, temp, on='rsr_id', how='left')\n",
    "rsr_first_year['rsr_career_start_year'] = rsr_first_year[['first_grant_year','first_pub_year']].min(axis=1)"
   ]
  },
  {
   "cell_type": "code",
   "execution_count": 239,
   "metadata": {},
   "outputs": [],
   "source": [
    "rsr_first_year = rsr_first_year[['rsr_id', 'rsr_career_start_year']]"
   ]
  },
  {
   "cell_type": "markdown",
   "metadata": {},
   "source": [
    "### Original Affiliation"
   ]
  },
  {
   "cell_type": "markdown",
   "metadata": {},
   "source": [
    "Maybe do this with Grant affiliation instead of Publication?"
   ]
  },
  {
   "cell_type": "code",
   "execution_count": 210,
   "metadata": {},
   "outputs": [],
   "source": [
    "cols = ['rsr_id', 'rsr_affiliation', 'rsr_affiliation_id', 'rsr_country', 'rsr_city', 'year']\n",
    "affiliation = pubs[pubs['rsr_affiliation'].notnull()][cols]\n",
    "affiliation = affiliation.sort_values(['rsr_id', 'year']).drop_duplicates('rsr_id', keep='first')\n",
    "del affiliation['year']"
   ]
  },
  {
   "cell_type": "markdown",
   "metadata": {},
   "source": [
    "### First n Years of Publications"
   ]
  },
  {
   "cell_type": "code",
   "execution_count": 262,
   "metadata": {},
   "outputs": [],
   "source": [
    "n = 1"
   ]
  },
  {
   "cell_type": "code",
   "execution_count": 263,
   "metadata": {},
   "outputs": [],
   "source": [
    "pubs_rcdc = pd.read_csv('../data/topic_lookups/publications_rcdc.csv')\n",
    "pubs_cso = pd.read_csv('../data/topic_lookups/publications_cso.csv')"
   ]
  },
  {
   "cell_type": "code",
   "execution_count": 287,
   "metadata": {},
   "outputs": [],
   "source": [
    "first_pubs = pd.merge(rsr_first_year, pubs[['rsr_id', 'year', 'pub_id', 'citations']], how='left', on='rsr_id')\n",
    "first_pubs = first_pubs[first_pubs['year']<=(first_pubs['rsr_career_start_year']+n)].reset_index(drop=True)"
   ]
  },
  {
   "cell_type": "code",
   "execution_count": 288,
   "metadata": {},
   "outputs": [],
   "source": [
    "first_topics = first_pubs.groupby(['rsr_id'])\n",
    "first_topics = pd.DataFrame({'rsr_nb_early_pubs': first_topics['rsr_id'].count()\n",
    "                             , 'rsr_nb_early_citations': first_topics['citations'].sum()}).reset_index()"
   ]
  },
  {
   "cell_type": "markdown",
   "metadata": {},
   "source": [
    "#### CSO"
   ]
  },
  {
   "cell_type": "code",
   "execution_count": 290,
   "metadata": {},
   "outputs": [],
   "source": [
    "temp = pd.merge(first_pubs, pubs_cso, how='left', on='pub_id')\n",
    "temp = temp.groupby(['rsr_id', 'cso_name']).size().reset_index()\n",
    "temp['cso_id'] = \"cso_\"+temp.groupby(['cso_name']).ngroup().astype(str)\n",
    "temp[['cso_name', 'cso_id']].drop_duplicates().to_csv('../data/topic_lookups/cso_ids.csv', index=False)\n",
    "temp = pd.pivot_table(temp, index='rsr_id', columns='cso_id', values=0, aggfunc='sum').reset_index()"
   ]
  },
  {
   "cell_type": "code",
   "execution_count": 291,
   "metadata": {},
   "outputs": [],
   "source": [
    "first_topics = pd.merge(first_topics, temp, how='left', on='rsr_id')"
   ]
  },
  {
   "cell_type": "markdown",
   "metadata": {},
   "source": [
    "#### RCDC"
   ]
  },
  {
   "cell_type": "code",
   "execution_count": 292,
   "metadata": {},
   "outputs": [],
   "source": [
    "temp = pd.merge(first_pubs, pubs_rcdc, how='left', on='pub_id')\n",
    "temp = temp.groupby(['rsr_id', 'rcdc_name']).size().reset_index()\n",
    "temp['rcdc_id'] = \"rcdc_\"+temp.groupby(['rcdc_name']).ngroup().astype(str)\n",
    "temp[['rcdc_name', 'rcdc_id']].drop_duplicates().to_csv('../data/topic_lookups/rcdc_ids.csv', index=False)\n",
    "temp = pd.pivot_table(temp, index='rsr_id', columns='rcdc_id', values=0, aggfunc='sum').reset_index()"
   ]
  },
  {
   "cell_type": "code",
   "execution_count": 293,
   "metadata": {},
   "outputs": [],
   "source": [
    "first_topics = pd.merge(first_topics, temp, how='left', on='rsr_id')"
   ]
  },
  {
   "cell_type": "code",
   "execution_count": 299,
   "metadata": {},
   "outputs": [
    {
     "data": {
      "text/plain": [
       "(11897, 272)"
      ]
     },
     "execution_count": 299,
     "metadata": {},
     "output_type": "execute_result"
    }
   ],
   "source": [
    "first_topics.shape"
   ]
  },
  {
   "cell_type": "markdown",
   "metadata": {},
   "source": [
    "### ORCID Confirmed"
   ]
  },
  {
   "cell_type": "code",
   "execution_count": 294,
   "metadata": {},
   "outputs": [],
   "source": [
    "inca_orcid_confirmed = pd.read_csv('../data/inca_orcid_confirmations.csv')"
   ]
  },
  {
   "cell_type": "code",
   "execution_count": 295,
   "metadata": {},
   "outputs": [
    {
     "name": "stdout",
     "output_type": "stream",
     "text": [
      "Number of ORCID Confirmed INCa Researchers: 173\n"
     ]
    }
   ],
   "source": [
    "print(\"Number of ORCID Confirmed INCa Researchers: {}\".format(inca_orcid_confirmed.shape[0]))"
   ]
  },
  {
   "cell_type": "markdown",
   "metadata": {},
   "source": [
    "### Combine All and Export"
   ]
  },
  {
   "cell_type": "code",
   "execution_count": 303,
   "metadata": {},
   "outputs": [],
   "source": [
    "rsr_info = pd.merge(funded_grnts[['rsr_id', 'first_name', 'last_name']].drop_duplicates().reset_index(drop=True),\n",
    "                    rsr_gender, how='left', on='rsr_id')\n",
    "rsr_info = pd.merge(rsr_info, rsr_first_year, how='left', on='rsr_id')\n",
    "rsr_info = pd.merge(rsr_info, affiliation, how='left', on='rsr_id')\n",
    "rsr_info = pd.merge(rsr_info, inca_orcid_confirmed, how='left', on='rsr_id')\n",
    "rsr_info = pd.merge(rsr_info, first_topics, how='left', on='rsr_id')"
   ]
  },
  {
   "cell_type": "code",
   "execution_count": 304,
   "metadata": {},
   "outputs": [],
   "source": [
    "rsr_info['orcid_confirmed'].fillna(False, inplace=True)"
   ]
  },
  {
   "cell_type": "code",
   "execution_count": 305,
   "metadata": {},
   "outputs": [
    {
     "data": {
      "text/html": [
       "<div>\n",
       "<style scoped>\n",
       "    .dataframe tbody tr th:only-of-type {\n",
       "        vertical-align: middle;\n",
       "    }\n",
       "\n",
       "    .dataframe tbody tr th {\n",
       "        vertical-align: top;\n",
       "    }\n",
       "\n",
       "    .dataframe thead th {\n",
       "        text-align: right;\n",
       "    }\n",
       "</style>\n",
       "<table border=\"1\" class=\"dataframe\">\n",
       "  <thead>\n",
       "    <tr style=\"text-align: right;\">\n",
       "      <th></th>\n",
       "      <th>rsr_id</th>\n",
       "      <th>first_name</th>\n",
       "      <th>last_name</th>\n",
       "      <th>rsr_gender</th>\n",
       "      <th>rsr_career_start_year</th>\n",
       "      <th>rsr_affiliation</th>\n",
       "      <th>rsr_affiliation_id</th>\n",
       "      <th>rsr_country</th>\n",
       "      <th>rsr_city</th>\n",
       "      <th>orcid_confirmed</th>\n",
       "      <th>...</th>\n",
       "      <th>rcdc_90</th>\n",
       "      <th>rcdc_91</th>\n",
       "      <th>rcdc_92</th>\n",
       "      <th>rcdc_93</th>\n",
       "      <th>rcdc_94</th>\n",
       "      <th>rcdc_95</th>\n",
       "      <th>rcdc_96</th>\n",
       "      <th>rcdc_97</th>\n",
       "      <th>rcdc_98</th>\n",
       "      <th>rcdc_99</th>\n",
       "    </tr>\n",
       "  </thead>\n",
       "  <tbody>\n",
       "    <tr>\n",
       "      <th>count</th>\n",
       "      <td>14004</td>\n",
       "      <td>13978</td>\n",
       "      <td>14004</td>\n",
       "      <td>14004</td>\n",
       "      <td>14004.000000</td>\n",
       "      <td>12173</td>\n",
       "      <td>9804</td>\n",
       "      <td>9804</td>\n",
       "      <td>9804</td>\n",
       "      <td>14004</td>\n",
       "      <td>...</td>\n",
       "      <td>8.0</td>\n",
       "      <td>332.000000</td>\n",
       "      <td>329.000000</td>\n",
       "      <td>121.000000</td>\n",
       "      <td>1231.000000</td>\n",
       "      <td>107.000000</td>\n",
       "      <td>50.000000</td>\n",
       "      <td>30.000000</td>\n",
       "      <td>458.000000</td>\n",
       "      <td>14.000000</td>\n",
       "    </tr>\n",
       "    <tr>\n",
       "      <th>unique</th>\n",
       "      <td>14004</td>\n",
       "      <td>7683</td>\n",
       "      <td>9132</td>\n",
       "      <td>3</td>\n",
       "      <td>NaN</td>\n",
       "      <td>4030</td>\n",
       "      <td>1709</td>\n",
       "      <td>60</td>\n",
       "      <td>727</td>\n",
       "      <td>2</td>\n",
       "      <td>...</td>\n",
       "      <td>NaN</td>\n",
       "      <td>NaN</td>\n",
       "      <td>NaN</td>\n",
       "      <td>NaN</td>\n",
       "      <td>NaN</td>\n",
       "      <td>NaN</td>\n",
       "      <td>NaN</td>\n",
       "      <td>NaN</td>\n",
       "      <td>NaN</td>\n",
       "      <td>NaN</td>\n",
       "    </tr>\n",
       "    <tr>\n",
       "      <th>top</th>\n",
       "      <td>ur.01163565663.79</td>\n",
       "      <td>David</td>\n",
       "      <td>WANG</td>\n",
       "      <td>M</td>\n",
       "      <td>NaN</td>\n",
       "      <td>Harvard University</td>\n",
       "      <td>grid.38142.3c</td>\n",
       "      <td>US</td>\n",
       "      <td>Cambridge</td>\n",
       "      <td>False</td>\n",
       "      <td>...</td>\n",
       "      <td>NaN</td>\n",
       "      <td>NaN</td>\n",
       "      <td>NaN</td>\n",
       "      <td>NaN</td>\n",
       "      <td>NaN</td>\n",
       "      <td>NaN</td>\n",
       "      <td>NaN</td>\n",
       "      <td>NaN</td>\n",
       "      <td>NaN</td>\n",
       "      <td>NaN</td>\n",
       "    </tr>\n",
       "    <tr>\n",
       "      <th>freq</th>\n",
       "      <td>1</td>\n",
       "      <td>142</td>\n",
       "      <td>91</td>\n",
       "      <td>7720</td>\n",
       "      <td>NaN</td>\n",
       "      <td>197</td>\n",
       "      <td>197</td>\n",
       "      <td>6492</td>\n",
       "      <td>414</td>\n",
       "      <td>13834</td>\n",
       "      <td>...</td>\n",
       "      <td>NaN</td>\n",
       "      <td>NaN</td>\n",
       "      <td>NaN</td>\n",
       "      <td>NaN</td>\n",
       "      <td>NaN</td>\n",
       "      <td>NaN</td>\n",
       "      <td>NaN</td>\n",
       "      <td>NaN</td>\n",
       "      <td>NaN</td>\n",
       "      <td>NaN</td>\n",
       "    </tr>\n",
       "    <tr>\n",
       "      <th>mean</th>\n",
       "      <td>NaN</td>\n",
       "      <td>NaN</td>\n",
       "      <td>NaN</td>\n",
       "      <td>NaN</td>\n",
       "      <td>1996.344045</td>\n",
       "      <td>NaN</td>\n",
       "      <td>NaN</td>\n",
       "      <td>NaN</td>\n",
       "      <td>NaN</td>\n",
       "      <td>NaN</td>\n",
       "      <td>...</td>\n",
       "      <td>1.0</td>\n",
       "      <td>1.454819</td>\n",
       "      <td>1.407295</td>\n",
       "      <td>1.487603</td>\n",
       "      <td>1.706742</td>\n",
       "      <td>1.794393</td>\n",
       "      <td>1.700000</td>\n",
       "      <td>1.666667</td>\n",
       "      <td>1.539301</td>\n",
       "      <td>1.071429</td>\n",
       "    </tr>\n",
       "    <tr>\n",
       "      <th>std</th>\n",
       "      <td>NaN</td>\n",
       "      <td>NaN</td>\n",
       "      <td>NaN</td>\n",
       "      <td>NaN</td>\n",
       "      <td>10.437329</td>\n",
       "      <td>NaN</td>\n",
       "      <td>NaN</td>\n",
       "      <td>NaN</td>\n",
       "      <td>NaN</td>\n",
       "      <td>NaN</td>\n",
       "      <td>...</td>\n",
       "      <td>0.0</td>\n",
       "      <td>0.859147</td>\n",
       "      <td>0.892760</td>\n",
       "      <td>0.837812</td>\n",
       "      <td>1.360635</td>\n",
       "      <td>1.138837</td>\n",
       "      <td>1.147313</td>\n",
       "      <td>0.994236</td>\n",
       "      <td>1.066490</td>\n",
       "      <td>0.267261</td>\n",
       "    </tr>\n",
       "    <tr>\n",
       "      <th>min</th>\n",
       "      <td>NaN</td>\n",
       "      <td>NaN</td>\n",
       "      <td>NaN</td>\n",
       "      <td>NaN</td>\n",
       "      <td>1949.000000</td>\n",
       "      <td>NaN</td>\n",
       "      <td>NaN</td>\n",
       "      <td>NaN</td>\n",
       "      <td>NaN</td>\n",
       "      <td>NaN</td>\n",
       "      <td>...</td>\n",
       "      <td>1.0</td>\n",
       "      <td>1.000000</td>\n",
       "      <td>1.000000</td>\n",
       "      <td>1.000000</td>\n",
       "      <td>1.000000</td>\n",
       "      <td>1.000000</td>\n",
       "      <td>1.000000</td>\n",
       "      <td>1.000000</td>\n",
       "      <td>1.000000</td>\n",
       "      <td>1.000000</td>\n",
       "    </tr>\n",
       "    <tr>\n",
       "      <th>25%</th>\n",
       "      <td>NaN</td>\n",
       "      <td>NaN</td>\n",
       "      <td>NaN</td>\n",
       "      <td>NaN</td>\n",
       "      <td>1989.000000</td>\n",
       "      <td>NaN</td>\n",
       "      <td>NaN</td>\n",
       "      <td>NaN</td>\n",
       "      <td>NaN</td>\n",
       "      <td>NaN</td>\n",
       "      <td>...</td>\n",
       "      <td>1.0</td>\n",
       "      <td>1.000000</td>\n",
       "      <td>1.000000</td>\n",
       "      <td>1.000000</td>\n",
       "      <td>1.000000</td>\n",
       "      <td>1.000000</td>\n",
       "      <td>1.000000</td>\n",
       "      <td>1.000000</td>\n",
       "      <td>1.000000</td>\n",
       "      <td>1.000000</td>\n",
       "    </tr>\n",
       "    <tr>\n",
       "      <th>50%</th>\n",
       "      <td>NaN</td>\n",
       "      <td>NaN</td>\n",
       "      <td>NaN</td>\n",
       "      <td>NaN</td>\n",
       "      <td>1997.000000</td>\n",
       "      <td>NaN</td>\n",
       "      <td>NaN</td>\n",
       "      <td>NaN</td>\n",
       "      <td>NaN</td>\n",
       "      <td>NaN</td>\n",
       "      <td>...</td>\n",
       "      <td>1.0</td>\n",
       "      <td>1.000000</td>\n",
       "      <td>1.000000</td>\n",
       "      <td>1.000000</td>\n",
       "      <td>1.000000</td>\n",
       "      <td>1.000000</td>\n",
       "      <td>1.000000</td>\n",
       "      <td>1.000000</td>\n",
       "      <td>1.000000</td>\n",
       "      <td>1.000000</td>\n",
       "    </tr>\n",
       "    <tr>\n",
       "      <th>75%</th>\n",
       "      <td>NaN</td>\n",
       "      <td>NaN</td>\n",
       "      <td>NaN</td>\n",
       "      <td>NaN</td>\n",
       "      <td>2005.000000</td>\n",
       "      <td>NaN</td>\n",
       "      <td>NaN</td>\n",
       "      <td>NaN</td>\n",
       "      <td>NaN</td>\n",
       "      <td>NaN</td>\n",
       "      <td>...</td>\n",
       "      <td>1.0</td>\n",
       "      <td>2.000000</td>\n",
       "      <td>1.000000</td>\n",
       "      <td>2.000000</td>\n",
       "      <td>2.000000</td>\n",
       "      <td>2.000000</td>\n",
       "      <td>2.000000</td>\n",
       "      <td>2.000000</td>\n",
       "      <td>2.000000</td>\n",
       "      <td>1.000000</td>\n",
       "    </tr>\n",
       "    <tr>\n",
       "      <th>max</th>\n",
       "      <td>NaN</td>\n",
       "      <td>NaN</td>\n",
       "      <td>NaN</td>\n",
       "      <td>NaN</td>\n",
       "      <td>2012.000000</td>\n",
       "      <td>NaN</td>\n",
       "      <td>NaN</td>\n",
       "      <td>NaN</td>\n",
       "      <td>NaN</td>\n",
       "      <td>NaN</td>\n",
       "      <td>...</td>\n",
       "      <td>1.0</td>\n",
       "      <td>6.000000</td>\n",
       "      <td>8.000000</td>\n",
       "      <td>5.000000</td>\n",
       "      <td>16.000000</td>\n",
       "      <td>5.000000</td>\n",
       "      <td>5.000000</td>\n",
       "      <td>4.000000</td>\n",
       "      <td>9.000000</td>\n",
       "      <td>2.000000</td>\n",
       "    </tr>\n",
       "  </tbody>\n",
       "</table>\n",
       "<p>11 rows × 281 columns</p>\n",
       "</div>"
      ],
      "text/plain": [
       "                   rsr_id first_name last_name rsr_gender  \\\n",
       "count               14004      13978     14004      14004   \n",
       "unique              14004       7683      9132          3   \n",
       "top     ur.01163565663.79      David      WANG          M   \n",
       "freq                    1        142        91       7720   \n",
       "mean                  NaN        NaN       NaN        NaN   \n",
       "std                   NaN        NaN       NaN        NaN   \n",
       "min                   NaN        NaN       NaN        NaN   \n",
       "25%                   NaN        NaN       NaN        NaN   \n",
       "50%                   NaN        NaN       NaN        NaN   \n",
       "75%                   NaN        NaN       NaN        NaN   \n",
       "max                   NaN        NaN       NaN        NaN   \n",
       "\n",
       "        rsr_career_start_year     rsr_affiliation rsr_affiliation_id  \\\n",
       "count            14004.000000               12173               9804   \n",
       "unique                    NaN                4030               1709   \n",
       "top                       NaN  Harvard University      grid.38142.3c   \n",
       "freq                      NaN                 197                197   \n",
       "mean              1996.344045                 NaN                NaN   \n",
       "std                 10.437329                 NaN                NaN   \n",
       "min               1949.000000                 NaN                NaN   \n",
       "25%               1989.000000                 NaN                NaN   \n",
       "50%               1997.000000                 NaN                NaN   \n",
       "75%               2005.000000                 NaN                NaN   \n",
       "max               2012.000000                 NaN                NaN   \n",
       "\n",
       "       rsr_country   rsr_city orcid_confirmed    ...      rcdc_90     rcdc_91  \\\n",
       "count         9804       9804           14004    ...          8.0  332.000000   \n",
       "unique          60        727               2    ...          NaN         NaN   \n",
       "top             US  Cambridge           False    ...          NaN         NaN   \n",
       "freq          6492        414           13834    ...          NaN         NaN   \n",
       "mean           NaN        NaN             NaN    ...          1.0    1.454819   \n",
       "std            NaN        NaN             NaN    ...          0.0    0.859147   \n",
       "min            NaN        NaN             NaN    ...          1.0    1.000000   \n",
       "25%            NaN        NaN             NaN    ...          1.0    1.000000   \n",
       "50%            NaN        NaN             NaN    ...          1.0    1.000000   \n",
       "75%            NaN        NaN             NaN    ...          1.0    2.000000   \n",
       "max            NaN        NaN             NaN    ...          1.0    6.000000   \n",
       "\n",
       "           rcdc_92     rcdc_93      rcdc_94     rcdc_95    rcdc_96    rcdc_97  \\\n",
       "count   329.000000  121.000000  1231.000000  107.000000  50.000000  30.000000   \n",
       "unique         NaN         NaN          NaN         NaN        NaN        NaN   \n",
       "top            NaN         NaN          NaN         NaN        NaN        NaN   \n",
       "freq           NaN         NaN          NaN         NaN        NaN        NaN   \n",
       "mean      1.407295    1.487603     1.706742    1.794393   1.700000   1.666667   \n",
       "std       0.892760    0.837812     1.360635    1.138837   1.147313   0.994236   \n",
       "min       1.000000    1.000000     1.000000    1.000000   1.000000   1.000000   \n",
       "25%       1.000000    1.000000     1.000000    1.000000   1.000000   1.000000   \n",
       "50%       1.000000    1.000000     1.000000    1.000000   1.000000   1.000000   \n",
       "75%       1.000000    2.000000     2.000000    2.000000   2.000000   2.000000   \n",
       "max       8.000000    5.000000    16.000000    5.000000   5.000000   4.000000   \n",
       "\n",
       "           rcdc_98    rcdc_99  \n",
       "count   458.000000  14.000000  \n",
       "unique         NaN        NaN  \n",
       "top            NaN        NaN  \n",
       "freq           NaN        NaN  \n",
       "mean      1.539301   1.071429  \n",
       "std       1.066490   0.267261  \n",
       "min       1.000000   1.000000  \n",
       "25%       1.000000   1.000000  \n",
       "50%       1.000000   1.000000  \n",
       "75%       2.000000   1.000000  \n",
       "max       9.000000   2.000000  \n",
       "\n",
       "[11 rows x 281 columns]"
      ]
     },
     "execution_count": 305,
     "metadata": {},
     "output_type": "execute_result"
    }
   ],
   "source": [
    "rsr_info.describe(include='all')"
   ]
  },
  {
   "cell_type": "code",
   "execution_count": 306,
   "metadata": {},
   "outputs": [],
   "source": [
    "rsr_info.to_csv('../data/researcher_info.csv', index=False)"
   ]
  },
  {
   "cell_type": "markdown",
   "metadata": {},
   "source": [
    "## Sandbox"
   ]
  },
  {
   "cell_type": "code",
   "execution_count": null,
   "metadata": {},
   "outputs": [],
   "source": []
  }
 ],
 "metadata": {
  "kernelspec": {
   "display_name": "Python 3",
   "language": "python",
   "name": "python3"
  },
  "language_info": {
   "codemirror_mode": {
    "name": "ipython",
    "version": 3
   },
   "file_extension": ".py",
   "mimetype": "text/x-python",
   "name": "python",
   "nbconvert_exporter": "python",
   "pygments_lexer": "ipython3",
   "version": "3.7.0"
  },
  "toc": {
   "base_numbering": 1,
   "nav_menu": {},
   "number_sections": false,
   "sideBar": true,
   "skip_h1_title": false,
   "title_cell": "Table of Contents",
   "title_sidebar": "Contents",
   "toc_cell": false,
   "toc_position": {
    "height": "calc(100% - 180px)",
    "left": "10px",
    "top": "150px",
    "width": "206.777px"
   },
   "toc_section_display": true,
   "toc_window_display": true
  }
 },
 "nbformat": 4,
 "nbformat_minor": 2
}
