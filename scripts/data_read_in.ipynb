{
 "cells": [
  {
   "cell_type": "markdown",
   "metadata": {},
   "source": [
    "# Data Read-In and Preliminary Analysis"
   ]
  },
  {
   "cell_type": "markdown",
   "metadata": {},
   "source": [
    "## Python Setup"
   ]
  },
  {
   "cell_type": "code",
   "execution_count": 1,
   "metadata": {},
   "outputs": [],
   "source": [
    "import pandas as pd\n",
    "import numpy as np\n",
    "import requests\n",
    "from bs4 import BeautifulSoup\n",
    "pd.options.display.max_rows = 50\n",
    "pd.options.display.max_columns = 100\n",
    "import unidecode"
   ]
  },
  {
   "cell_type": "markdown",
   "metadata": {},
   "source": [
    "## Data Read-In"
   ]
  },
  {
   "cell_type": "code",
   "execution_count": 2,
   "metadata": {},
   "outputs": [],
   "source": [
    "grants_details = pd.read_csv('../data/inca_grants_details.csv')\n",
    "pub_details = pd.read_csv('../data/inca_pub_details.csv', low_memory=False)"
   ]
  },
  {
   "cell_type": "code",
   "execution_count": 3,
   "metadata": {},
   "outputs": [
    {
     "data": {
      "text/html": [
       "<div>\n",
       "<style scoped>\n",
       "    .dataframe tbody tr th:only-of-type {\n",
       "        vertical-align: middle;\n",
       "    }\n",
       "\n",
       "    .dataframe tbody tr th {\n",
       "        vertical-align: top;\n",
       "    }\n",
       "\n",
       "    .dataframe thead th {\n",
       "        text-align: right;\n",
       "    }\n",
       "</style>\n",
       "<table border=\"1\" class=\"dataframe\">\n",
       "  <thead>\n",
       "    <tr style=\"text-align: right;\">\n",
       "      <th></th>\n",
       "      <th>INCA ID</th>\n",
       "      <th>Dimensions ID</th>\n",
       "      <th>Title</th>\n",
       "      <th>Abstract</th>\n",
       "      <th>Funder</th>\n",
       "      <th>Reference</th>\n",
       "      <th>Organisation</th>\n",
       "      <th>Funding Amount ($)</th>\n",
       "      <th>Start Date</th>\n",
       "      <th>End Date</th>\n",
       "    </tr>\n",
       "  </thead>\n",
       "  <tbody>\n",
       "    <tr>\n",
       "      <th>0</th>\n",
       "      <td>inca_1</td>\n",
       "      <td>grant.7426242</td>\n",
       "      <td>Cancer, Environment and metabolomics: the dog ...</td>\n",
       "      <td>Our innovative project aims to use the dog as ...</td>\n",
       "      <td>French Institute of Health and Medical Research</td>\n",
       "      <td>Inserm_6181</td>\n",
       "      <td>Ecole Vétérinaire de Nantes</td>\n",
       "      <td>65061.0</td>\n",
       "      <td>2011-12-13</td>\n",
       "      <td>2013-06-12</td>\n",
       "    </tr>\n",
       "    <tr>\n",
       "      <th>1</th>\n",
       "      <td>inca_2</td>\n",
       "      <td>grant.7426178</td>\n",
       "      <td>Creating tools to assess DNA repair dysfunctio...</td>\n",
       "      <td>Scientific context  Non-small cell lung carcin...</td>\n",
       "      <td>French Institute of Health and Medical Research</td>\n",
       "      <td>Inserm_4631</td>\n",
       "      <td>Institut Gustave Roussy</td>\n",
       "      <td>240110.0</td>\n",
       "      <td>2011-11-01</td>\n",
       "      <td>2014-11-01</td>\n",
       "    </tr>\n",
       "    <tr>\n",
       "      <th>2</th>\n",
       "      <td>inca_3</td>\n",
       "      <td>grant.7154464</td>\n",
       "      <td>A multicenter randomized phase II study to eva...</td>\n",
       "      <td>Medical oncologists are used to treat patients...</td>\n",
       "      <td>Ministère des Affaires sociales et de la Santé</td>\n",
       "      <td>DGOS_2555</td>\n",
       "      <td>Centre Oscar Lambret</td>\n",
       "      <td>248109.0</td>\n",
       "      <td>2010-06-01</td>\n",
       "      <td>2013-06-01</td>\n",
       "    </tr>\n",
       "    <tr>\n",
       "      <th>3</th>\n",
       "      <td>inca_3</td>\n",
       "      <td>grant.7154160</td>\n",
       "      <td>National oesophageal and gastric carcinomas da...</td>\n",
       "      <td>In 2005, the worldwide incidence of oesophagog...</td>\n",
       "      <td>French National Cancer Institute</td>\n",
       "      <td>INCa_6288</td>\n",
       "      <td>Centre Oscar Lambret</td>\n",
       "      <td>875159.0</td>\n",
       "      <td>2013-04-15</td>\n",
       "      <td>2016-04-14</td>\n",
       "    </tr>\n",
       "    <tr>\n",
       "      <th>4</th>\n",
       "      <td>inca_4</td>\n",
       "      <td>grant.7154483</td>\n",
       "      <td>Non-coding RNA and cancer</td>\n",
       "      <td>The aim of our project is to understand the mo...</td>\n",
       "      <td>French National Cancer Institute</td>\n",
       "      <td>INCa_2699</td>\n",
       "      <td>CNRS Inserm UMR8161</td>\n",
       "      <td>400306.0</td>\n",
       "      <td>2010-11-04</td>\n",
       "      <td>2013-11-04</td>\n",
       "    </tr>\n",
       "  </tbody>\n",
       "</table>\n",
       "</div>"
      ],
      "text/plain": [
       "  INCA ID  Dimensions ID                                              Title  \\\n",
       "0  inca_1  grant.7426242  Cancer, Environment and metabolomics: the dog ...   \n",
       "1  inca_2  grant.7426178  Creating tools to assess DNA repair dysfunctio...   \n",
       "2  inca_3  grant.7154464  A multicenter randomized phase II study to eva...   \n",
       "3  inca_3  grant.7154160  National oesophageal and gastric carcinomas da...   \n",
       "4  inca_4  grant.7154483                          Non-coding RNA and cancer   \n",
       "\n",
       "                                            Abstract  \\\n",
       "0  Our innovative project aims to use the dog as ...   \n",
       "1  Scientific context  Non-small cell lung carcin...   \n",
       "2  Medical oncologists are used to treat patients...   \n",
       "3  In 2005, the worldwide incidence of oesophagog...   \n",
       "4  The aim of our project is to understand the mo...   \n",
       "\n",
       "                                            Funder    Reference  \\\n",
       "0  French Institute of Health and Medical Research  Inserm_6181   \n",
       "1  French Institute of Health and Medical Research  Inserm_4631   \n",
       "2   Ministère des Affaires sociales et de la Santé    DGOS_2555   \n",
       "3                 French National Cancer Institute    INCa_6288   \n",
       "4                 French National Cancer Institute    INCa_2699   \n",
       "\n",
       "                  Organisation  Funding Amount ($)  Start Date    End Date  \n",
       "0  Ecole Vétérinaire de Nantes             65061.0  2011-12-13  2013-06-12  \n",
       "1      Institut Gustave Roussy            240110.0  2011-11-01  2014-11-01  \n",
       "2         Centre Oscar Lambret            248109.0  2010-06-01  2013-06-01  \n",
       "3         Centre Oscar Lambret            875159.0  2013-04-15  2016-04-14  \n",
       "4          CNRS Inserm UMR8161            400306.0  2010-11-04  2013-11-04  "
      ]
     },
     "execution_count": 3,
     "metadata": {},
     "output_type": "execute_result"
    }
   ],
   "source": [
    "grants_details.head()"
   ]
  },
  {
   "cell_type": "code",
   "execution_count": 4,
   "metadata": {},
   "outputs": [
    {
     "data": {
      "text/html": [
       "<div>\n",
       "<style scoped>\n",
       "    .dataframe tbody tr th:only-of-type {\n",
       "        vertical-align: middle;\n",
       "    }\n",
       "\n",
       "    .dataframe tbody tr th {\n",
       "        vertical-align: top;\n",
       "    }\n",
       "\n",
       "    .dataframe thead th {\n",
       "        text-align: right;\n",
       "    }\n",
       "</style>\n",
       "<table border=\"1\" class=\"dataframe\">\n",
       "  <thead>\n",
       "    <tr style=\"text-align: right;\">\n",
       "      <th></th>\n",
       "      <th>INCA ID</th>\n",
       "      <th>Dimensions ID</th>\n",
       "      <th>Additional DIM ID to combine</th>\n",
       "      <th>Additional DIM ID to combine 2</th>\n",
       "      <th>ORCID</th>\n",
       "      <th>title</th>\n",
       "      <th>doi</th>\n",
       "      <th>issue</th>\n",
       "      <th>pages</th>\n",
       "      <th>Pubmed ID</th>\n",
       "      <th>volume</th>\n",
       "      <th>Relative Citation Ratio</th>\n",
       "      <th>Times Cited</th>\n",
       "      <th>altmetric</th>\n",
       "      <th>Open access</th>\n",
       "      <th>Author Names</th>\n",
       "      <th>Journal Title</th>\n",
       "      <th>Publication Year</th>\n",
       "      <th>Publication Date</th>\n",
       "    </tr>\n",
       "  </thead>\n",
       "  <tbody>\n",
       "    <tr>\n",
       "      <th>0</th>\n",
       "      <td>inca_1</td>\n",
       "      <td>ur.0642054564.81</td>\n",
       "      <td>NaN</td>\n",
       "      <td>NaN</td>\n",
       "      <td>NaN</td>\n",
       "      <td>Canine invasive mammary carcinomas as models o...</td>\n",
       "      <td>10.1007/s10549-017-4548-2</td>\n",
       "      <td>3</td>\n",
       "      <td>635-648</td>\n",
       "      <td>29086231.0</td>\n",
       "      <td>167</td>\n",
       "      <td>NaN</td>\n",
       "      <td>1</td>\n",
       "      <td>0.0</td>\n",
       "      <td>True</td>\n",
       "      <td>Frédérique Nguyen, Laura Peña, Catherine Ibisc...</td>\n",
       "      <td>Breast Cancer Research and Treatment</td>\n",
       "      <td>2018.0</td>\n",
       "      <td>2018-02-09</td>\n",
       "    </tr>\n",
       "    <tr>\n",
       "      <th>1</th>\n",
       "      <td>inca_1</td>\n",
       "      <td>ur.0642054564.81</td>\n",
       "      <td>NaN</td>\n",
       "      <td>NaN</td>\n",
       "      <td>NaN</td>\n",
       "      <td>MIB‐1 immunoreactivity correlates with biologi...</td>\n",
       "      <td>10.1046/j.1365-3164.2001.00236.x</td>\n",
       "      <td>3</td>\n",
       "      <td>139-147</td>\n",
       "      <td>11420929.0</td>\n",
       "      <td>12</td>\n",
       "      <td>1.42</td>\n",
       "      <td>35</td>\n",
       "      <td>NaN</td>\n",
       "      <td>NaN</td>\n",
       "      <td>C. Laprie, J. Abadie, M.‐F. Amardeilh, J.‐L.L....</td>\n",
       "      <td>Veterinary Dermatology</td>\n",
       "      <td>2001.0</td>\n",
       "      <td>2001-06-09</td>\n",
       "    </tr>\n",
       "    <tr>\n",
       "      <th>2</th>\n",
       "      <td>inca_1</td>\n",
       "      <td>ur.0642054564.81</td>\n",
       "      <td>NaN</td>\n",
       "      <td>NaN</td>\n",
       "      <td>NaN</td>\n",
       "      <td>Molecular cytogenetic characterization of cani...</td>\n",
       "      <td>10.1186/1471-2407-11-201</td>\n",
       "      <td>1</td>\n",
       "      <td>1-14</td>\n",
       "      <td>21615919.0</td>\n",
       "      <td>11</td>\n",
       "      <td>1.73</td>\n",
       "      <td>43</td>\n",
       "      <td>7.0</td>\n",
       "      <td>True</td>\n",
       "      <td>Benoit Hedan, Rachael Thomas, Alison Motsinger...</td>\n",
       "      <td>BMC Cancer</td>\n",
       "      <td>2011.0</td>\n",
       "      <td>2011-12-09</td>\n",
       "    </tr>\n",
       "    <tr>\n",
       "      <th>3</th>\n",
       "      <td>inca_1</td>\n",
       "      <td>ur.0642054564.81</td>\n",
       "      <td>NaN</td>\n",
       "      <td>NaN</td>\n",
       "      <td>NaN</td>\n",
       "      <td>Chapter 2 Cancer Prevalence and Etiology in Wi...</td>\n",
       "      <td>10.1016/b978-0-12-804310-3.00002-8</td>\n",
       "      <td>NaN</td>\n",
       "      <td>11-46</td>\n",
       "      <td>NaN</td>\n",
       "      <td>NaN</td>\n",
       "      <td>NaN</td>\n",
       "      <td>7</td>\n",
       "      <td>NaN</td>\n",
       "      <td>NaN</td>\n",
       "      <td>Thomas Madsen, Audrey Arnal, Marion Vittecoq, ...</td>\n",
       "      <td>NaN</td>\n",
       "      <td>2017.0</td>\n",
       "      <td>2017-05-09</td>\n",
       "    </tr>\n",
       "    <tr>\n",
       "      <th>4</th>\n",
       "      <td>inca_1</td>\n",
       "      <td>ur.0642054564.81</td>\n",
       "      <td>NaN</td>\n",
       "      <td>NaN</td>\n",
       "      <td>NaN</td>\n",
       "      <td>Spontaneous Canine Mammary Carcinoma as a Mode...</td>\n",
       "      <td>10.1016/j.jcpa.2011.11.136</td>\n",
       "      <td>1</td>\n",
       "      <td>79</td>\n",
       "      <td>NaN</td>\n",
       "      <td>146</td>\n",
       "      <td>NaN</td>\n",
       "      <td>1</td>\n",
       "      <td>NaN</td>\n",
       "      <td>NaN</td>\n",
       "      <td>J. Abadie, F. Nguyen, D. Loussouarn, I. Bemelm...</td>\n",
       "      <td>Journal of Comparative Pathology</td>\n",
       "      <td>2012.0</td>\n",
       "      <td>2012-01-09</td>\n",
       "    </tr>\n",
       "  </tbody>\n",
       "</table>\n",
       "</div>"
      ],
      "text/plain": [
       "  INCA ID     Dimensions ID Additional DIM ID to combine  \\\n",
       "0  inca_1  ur.0642054564.81                          NaN   \n",
       "1  inca_1  ur.0642054564.81                          NaN   \n",
       "2  inca_1  ur.0642054564.81                          NaN   \n",
       "3  inca_1  ur.0642054564.81                          NaN   \n",
       "4  inca_1  ur.0642054564.81                          NaN   \n",
       "\n",
       "  Additional DIM ID to combine 2 ORCID  \\\n",
       "0                            NaN   NaN   \n",
       "1                            NaN   NaN   \n",
       "2                            NaN   NaN   \n",
       "3                            NaN   NaN   \n",
       "4                            NaN   NaN   \n",
       "\n",
       "                                               title  \\\n",
       "0  Canine invasive mammary carcinomas as models o...   \n",
       "1  MIB‐1 immunoreactivity correlates with biologi...   \n",
       "2  Molecular cytogenetic characterization of cani...   \n",
       "3  Chapter 2 Cancer Prevalence and Etiology in Wi...   \n",
       "4  Spontaneous Canine Mammary Carcinoma as a Mode...   \n",
       "\n",
       "                                  doi issue    pages   Pubmed ID volume  \\\n",
       "0           10.1007/s10549-017-4548-2     3  635-648  29086231.0    167   \n",
       "1    10.1046/j.1365-3164.2001.00236.x     3  139-147  11420929.0     12   \n",
       "2            10.1186/1471-2407-11-201     1     1-14  21615919.0     11   \n",
       "3  10.1016/b978-0-12-804310-3.00002-8   NaN    11-46         NaN    NaN   \n",
       "4          10.1016/j.jcpa.2011.11.136     1       79         NaN    146   \n",
       "\n",
       "   Relative Citation Ratio  Times Cited  altmetric Open access  \\\n",
       "0                      NaN            1        0.0        True   \n",
       "1                     1.42           35        NaN         NaN   \n",
       "2                     1.73           43        7.0        True   \n",
       "3                      NaN            7        NaN         NaN   \n",
       "4                      NaN            1        NaN         NaN   \n",
       "\n",
       "                                        Author Names  \\\n",
       "0  Frédérique Nguyen, Laura Peña, Catherine Ibisc...   \n",
       "1  C. Laprie, J. Abadie, M.‐F. Amardeilh, J.‐L.L....   \n",
       "2  Benoit Hedan, Rachael Thomas, Alison Motsinger...   \n",
       "3  Thomas Madsen, Audrey Arnal, Marion Vittecoq, ...   \n",
       "4  J. Abadie, F. Nguyen, D. Loussouarn, I. Bemelm...   \n",
       "\n",
       "                          Journal Title  Publication Year Publication Date  \n",
       "0  Breast Cancer Research and Treatment            2018.0       2018-02-09  \n",
       "1                Veterinary Dermatology            2001.0       2001-06-09  \n",
       "2                            BMC Cancer            2011.0       2011-12-09  \n",
       "3                                   NaN            2017.0       2017-05-09  \n",
       "4      Journal of Comparative Pathology            2012.0       2012-01-09  "
      ]
     },
     "execution_count": 4,
     "metadata": {},
     "output_type": "execute_result"
    }
   ],
   "source": [
    "pub_details.head()"
   ]
  },
  {
   "cell_type": "code",
   "execution_count": 5,
   "metadata": {},
   "outputs": [
    {
     "data": {
      "text/html": [
       "<div>\n",
       "<style scoped>\n",
       "    .dataframe tbody tr th:only-of-type {\n",
       "        vertical-align: middle;\n",
       "    }\n",
       "\n",
       "    .dataframe tbody tr th {\n",
       "        vertical-align: top;\n",
       "    }\n",
       "\n",
       "    .dataframe thead th {\n",
       "        text-align: right;\n",
       "    }\n",
       "</style>\n",
       "<table border=\"1\" class=\"dataframe\">\n",
       "  <thead>\n",
       "    <tr style=\"text-align: right;\">\n",
       "      <th></th>\n",
       "      <th>INCA ID</th>\n",
       "      <th>Dimensions ID</th>\n",
       "      <th>Title</th>\n",
       "      <th>Abstract</th>\n",
       "      <th>Funder</th>\n",
       "      <th>Reference</th>\n",
       "      <th>Organisation</th>\n",
       "      <th>Funding Amount ($)</th>\n",
       "      <th>Start Date</th>\n",
       "      <th>End Date</th>\n",
       "    </tr>\n",
       "  </thead>\n",
       "  <tbody>\n",
       "    <tr>\n",
       "      <th>count</th>\n",
       "      <td>1821</td>\n",
       "      <td>1821</td>\n",
       "      <td>1821</td>\n",
       "      <td>1779</td>\n",
       "      <td>1821</td>\n",
       "      <td>1821</td>\n",
       "      <td>1820</td>\n",
       "      <td>1.821000e+03</td>\n",
       "      <td>1783</td>\n",
       "      <td>1765</td>\n",
       "    </tr>\n",
       "    <tr>\n",
       "      <th>unique</th>\n",
       "      <td>1001</td>\n",
       "      <td>1627</td>\n",
       "      <td>1546</td>\n",
       "      <td>1491</td>\n",
       "      <td>39</td>\n",
       "      <td>1550</td>\n",
       "      <td>699</td>\n",
       "      <td>NaN</td>\n",
       "      <td>382</td>\n",
       "      <td>493</td>\n",
       "    </tr>\n",
       "    <tr>\n",
       "      <th>top</th>\n",
       "      <td>inca_502</td>\n",
       "      <td>grant.7154229</td>\n",
       "      <td>Epigenetic restoration of estrogen signalling ...</td>\n",
       "      <td>Scientific context: Several methods can be use...</td>\n",
       "      <td>French National Cancer Institute</td>\n",
       "      <td>INCa_DGOS_5716</td>\n",
       "      <td>Institut Gustave Roussy</td>\n",
       "      <td>NaN</td>\n",
       "      <td>2007-02-02</td>\n",
       "      <td>2010-02-02</td>\n",
       "    </tr>\n",
       "    <tr>\n",
       "      <th>freq</th>\n",
       "      <td>12</td>\n",
       "      <td>3</td>\n",
       "      <td>4</td>\n",
       "      <td>4</td>\n",
       "      <td>848</td>\n",
       "      <td>4</td>\n",
       "      <td>107</td>\n",
       "      <td>NaN</td>\n",
       "      <td>99</td>\n",
       "      <td>87</td>\n",
       "    </tr>\n",
       "    <tr>\n",
       "      <th>mean</th>\n",
       "      <td>NaN</td>\n",
       "      <td>NaN</td>\n",
       "      <td>NaN</td>\n",
       "      <td>NaN</td>\n",
       "      <td>NaN</td>\n",
       "      <td>NaN</td>\n",
       "      <td>NaN</td>\n",
       "      <td>5.213363e+05</td>\n",
       "      <td>NaN</td>\n",
       "      <td>NaN</td>\n",
       "    </tr>\n",
       "    <tr>\n",
       "      <th>std</th>\n",
       "      <td>NaN</td>\n",
       "      <td>NaN</td>\n",
       "      <td>NaN</td>\n",
       "      <td>NaN</td>\n",
       "      <td>NaN</td>\n",
       "      <td>NaN</td>\n",
       "      <td>NaN</td>\n",
       "      <td>9.526765e+05</td>\n",
       "      <td>NaN</td>\n",
       "      <td>NaN</td>\n",
       "    </tr>\n",
       "    <tr>\n",
       "      <th>min</th>\n",
       "      <td>NaN</td>\n",
       "      <td>NaN</td>\n",
       "      <td>NaN</td>\n",
       "      <td>NaN</td>\n",
       "      <td>NaN</td>\n",
       "      <td>NaN</td>\n",
       "      <td>NaN</td>\n",
       "      <td>0.000000e+00</td>\n",
       "      <td>NaN</td>\n",
       "      <td>NaN</td>\n",
       "    </tr>\n",
       "    <tr>\n",
       "      <th>25%</th>\n",
       "      <td>NaN</td>\n",
       "      <td>NaN</td>\n",
       "      <td>NaN</td>\n",
       "      <td>NaN</td>\n",
       "      <td>NaN</td>\n",
       "      <td>NaN</td>\n",
       "      <td>NaN</td>\n",
       "      <td>1.661200e+05</td>\n",
       "      <td>NaN</td>\n",
       "      <td>NaN</td>\n",
       "    </tr>\n",
       "    <tr>\n",
       "      <th>50%</th>\n",
       "      <td>NaN</td>\n",
       "      <td>NaN</td>\n",
       "      <td>NaN</td>\n",
       "      <td>NaN</td>\n",
       "      <td>NaN</td>\n",
       "      <td>NaN</td>\n",
       "      <td>NaN</td>\n",
       "      <td>3.778120e+05</td>\n",
       "      <td>NaN</td>\n",
       "      <td>NaN</td>\n",
       "    </tr>\n",
       "    <tr>\n",
       "      <th>75%</th>\n",
       "      <td>NaN</td>\n",
       "      <td>NaN</td>\n",
       "      <td>NaN</td>\n",
       "      <td>NaN</td>\n",
       "      <td>NaN</td>\n",
       "      <td>NaN</td>\n",
       "      <td>NaN</td>\n",
       "      <td>6.110280e+05</td>\n",
       "      <td>NaN</td>\n",
       "      <td>NaN</td>\n",
       "    </tr>\n",
       "    <tr>\n",
       "      <th>max</th>\n",
       "      <td>NaN</td>\n",
       "      <td>NaN</td>\n",
       "      <td>NaN</td>\n",
       "      <td>NaN</td>\n",
       "      <td>NaN</td>\n",
       "      <td>NaN</td>\n",
       "      <td>NaN</td>\n",
       "      <td>1.406214e+07</td>\n",
       "      <td>NaN</td>\n",
       "      <td>NaN</td>\n",
       "    </tr>\n",
       "  </tbody>\n",
       "</table>\n",
       "</div>"
      ],
      "text/plain": [
       "         INCA ID  Dimensions ID  \\\n",
       "count       1821           1821   \n",
       "unique      1001           1627   \n",
       "top     inca_502  grant.7154229   \n",
       "freq          12              3   \n",
       "mean         NaN            NaN   \n",
       "std          NaN            NaN   \n",
       "min          NaN            NaN   \n",
       "25%          NaN            NaN   \n",
       "50%          NaN            NaN   \n",
       "75%          NaN            NaN   \n",
       "max          NaN            NaN   \n",
       "\n",
       "                                                    Title  \\\n",
       "count                                                1821   \n",
       "unique                                               1546   \n",
       "top     Epigenetic restoration of estrogen signalling ...   \n",
       "freq                                                    4   \n",
       "mean                                                  NaN   \n",
       "std                                                   NaN   \n",
       "min                                                   NaN   \n",
       "25%                                                   NaN   \n",
       "50%                                                   NaN   \n",
       "75%                                                   NaN   \n",
       "max                                                   NaN   \n",
       "\n",
       "                                                 Abstract  \\\n",
       "count                                                1779   \n",
       "unique                                               1491   \n",
       "top     Scientific context: Several methods can be use...   \n",
       "freq                                                    4   \n",
       "mean                                                  NaN   \n",
       "std                                                   NaN   \n",
       "min                                                   NaN   \n",
       "25%                                                   NaN   \n",
       "50%                                                   NaN   \n",
       "75%                                                   NaN   \n",
       "max                                                   NaN   \n",
       "\n",
       "                                  Funder       Reference  \\\n",
       "count                               1821            1821   \n",
       "unique                                39            1550   \n",
       "top     French National Cancer Institute  INCa_DGOS_5716   \n",
       "freq                                 848               4   \n",
       "mean                                 NaN             NaN   \n",
       "std                                  NaN             NaN   \n",
       "min                                  NaN             NaN   \n",
       "25%                                  NaN             NaN   \n",
       "50%                                  NaN             NaN   \n",
       "75%                                  NaN             NaN   \n",
       "max                                  NaN             NaN   \n",
       "\n",
       "                   Organisation  Funding Amount ($)  Start Date    End Date  \n",
       "count                      1820        1.821000e+03        1783        1765  \n",
       "unique                      699                 NaN         382         493  \n",
       "top     Institut Gustave Roussy                 NaN  2007-02-02  2010-02-02  \n",
       "freq                        107                 NaN          99          87  \n",
       "mean                        NaN        5.213363e+05         NaN         NaN  \n",
       "std                         NaN        9.526765e+05         NaN         NaN  \n",
       "min                         NaN        0.000000e+00         NaN         NaN  \n",
       "25%                         NaN        1.661200e+05         NaN         NaN  \n",
       "50%                         NaN        3.778120e+05         NaN         NaN  \n",
       "75%                         NaN        6.110280e+05         NaN         NaN  \n",
       "max                         NaN        1.406214e+07         NaN         NaN  "
      ]
     },
     "execution_count": 5,
     "metadata": {},
     "output_type": "execute_result"
    }
   ],
   "source": [
    "grants_details.describe(include = 'all')"
   ]
  },
  {
   "cell_type": "code",
   "execution_count": 6,
   "metadata": {},
   "outputs": [
    {
     "data": {
      "text/html": [
       "<div>\n",
       "<style scoped>\n",
       "    .dataframe tbody tr th:only-of-type {\n",
       "        vertical-align: middle;\n",
       "    }\n",
       "\n",
       "    .dataframe tbody tr th {\n",
       "        vertical-align: top;\n",
       "    }\n",
       "\n",
       "    .dataframe thead th {\n",
       "        text-align: right;\n",
       "    }\n",
       "</style>\n",
       "<table border=\"1\" class=\"dataframe\">\n",
       "  <thead>\n",
       "    <tr style=\"text-align: right;\">\n",
       "      <th></th>\n",
       "      <th>INCA ID</th>\n",
       "      <th>Dimensions ID</th>\n",
       "      <th>Additional DIM ID to combine</th>\n",
       "      <th>Additional DIM ID to combine 2</th>\n",
       "      <th>ORCID</th>\n",
       "      <th>title</th>\n",
       "      <th>doi</th>\n",
       "      <th>issue</th>\n",
       "      <th>pages</th>\n",
       "      <th>Pubmed ID</th>\n",
       "      <th>volume</th>\n",
       "      <th>Relative Citation Ratio</th>\n",
       "      <th>Times Cited</th>\n",
       "      <th>altmetric</th>\n",
       "      <th>Open access</th>\n",
       "      <th>Author Names</th>\n",
       "      <th>Journal Title</th>\n",
       "      <th>Publication Year</th>\n",
       "      <th>Publication Date</th>\n",
       "    </tr>\n",
       "  </thead>\n",
       "  <tbody>\n",
       "    <tr>\n",
       "      <th>count</th>\n",
       "      <td>145121</td>\n",
       "      <td>145121</td>\n",
       "      <td>29643</td>\n",
       "      <td>2763</td>\n",
       "      <td>32080</td>\n",
       "      <td>145121</td>\n",
       "      <td>131335</td>\n",
       "      <td>127929</td>\n",
       "      <td>142897</td>\n",
       "      <td>1.053860e+05</td>\n",
       "      <td>140591</td>\n",
       "      <td>97820.000000</td>\n",
       "      <td>145121.000000</td>\n",
       "      <td>30482.000000</td>\n",
       "      <td>43809</td>\n",
       "      <td>145121</td>\n",
       "      <td>140296</td>\n",
       "      <td>145109.000000</td>\n",
       "      <td>145109</td>\n",
       "    </tr>\n",
       "    <tr>\n",
       "      <th>unique</th>\n",
       "      <td>965</td>\n",
       "      <td>965</td>\n",
       "      <td>95</td>\n",
       "      <td>9</td>\n",
       "      <td>198</td>\n",
       "      <td>107243</td>\n",
       "      <td>97583</td>\n",
       "      <td>1607</td>\n",
       "      <td>53204</td>\n",
       "      <td>NaN</td>\n",
       "      <td>1591</td>\n",
       "      <td>NaN</td>\n",
       "      <td>NaN</td>\n",
       "      <td>NaN</td>\n",
       "      <td>1</td>\n",
       "      <td>102384</td>\n",
       "      <td>4566</td>\n",
       "      <td>NaN</td>\n",
       "      <td>6237</td>\n",
       "    </tr>\n",
       "    <tr>\n",
       "      <th>top</th>\n",
       "      <td>inca_542</td>\n",
       "      <td>ur.01074225776.01</td>\n",
       "      <td>ur.01204666360.03</td>\n",
       "      <td>ur.010226620247.19</td>\n",
       "      <td>0000-0003-4181-8071</td>\n",
       "      <td>Reply</td>\n",
       "      <td>10.1038/bmt.2016.102</td>\n",
       "      <td>1</td>\n",
       "      <td>1-9</td>\n",
       "      <td>NaN</td>\n",
       "      <td>28</td>\n",
       "      <td>NaN</td>\n",
       "      <td>NaN</td>\n",
       "      <td>NaN</td>\n",
       "      <td>True</td>\n",
       "      <td>Jeffrey W. Pollard, Alla Danilkovitch-Miagkova...</td>\n",
       "      <td>Journal of Clinical Oncology</td>\n",
       "      <td>NaN</td>\n",
       "      <td>2011-05-09</td>\n",
       "    </tr>\n",
       "    <tr>\n",
       "      <th>freq</th>\n",
       "      <td>1272</td>\n",
       "      <td>1272</td>\n",
       "      <td>1272</td>\n",
       "      <td>488</td>\n",
       "      <td>1272</td>\n",
       "      <td>37</td>\n",
       "      <td>10</td>\n",
       "      <td>16673</td>\n",
       "      <td>322</td>\n",
       "      <td>NaN</td>\n",
       "      <td>2505</td>\n",
       "      <td>NaN</td>\n",
       "      <td>NaN</td>\n",
       "      <td>NaN</td>\n",
       "      <td>43809</td>\n",
       "      <td>538</td>\n",
       "      <td>4577</td>\n",
       "      <td>NaN</td>\n",
       "      <td>1760</td>\n",
       "    </tr>\n",
       "    <tr>\n",
       "      <th>mean</th>\n",
       "      <td>NaN</td>\n",
       "      <td>NaN</td>\n",
       "      <td>NaN</td>\n",
       "      <td>NaN</td>\n",
       "      <td>NaN</td>\n",
       "      <td>NaN</td>\n",
       "      <td>NaN</td>\n",
       "      <td>NaN</td>\n",
       "      <td>NaN</td>\n",
       "      <td>1.770133e+07</td>\n",
       "      <td>NaN</td>\n",
       "      <td>1.569821</td>\n",
       "      <td>29.756348</td>\n",
       "      <td>9.063939</td>\n",
       "      <td>NaN</td>\n",
       "      <td>NaN</td>\n",
       "      <td>NaN</td>\n",
       "      <td>2006.900737</td>\n",
       "      <td>NaN</td>\n",
       "    </tr>\n",
       "    <tr>\n",
       "      <th>std</th>\n",
       "      <td>NaN</td>\n",
       "      <td>NaN</td>\n",
       "      <td>NaN</td>\n",
       "      <td>NaN</td>\n",
       "      <td>NaN</td>\n",
       "      <td>NaN</td>\n",
       "      <td>NaN</td>\n",
       "      <td>NaN</td>\n",
       "      <td>NaN</td>\n",
       "      <td>7.572868e+06</td>\n",
       "      <td>NaN</td>\n",
       "      <td>3.939357</td>\n",
       "      <td>97.346231</td>\n",
       "      <td>48.115127</td>\n",
       "      <td>NaN</td>\n",
       "      <td>NaN</td>\n",
       "      <td>NaN</td>\n",
       "      <td>8.572783</td>\n",
       "      <td>NaN</td>\n",
       "    </tr>\n",
       "    <tr>\n",
       "      <th>min</th>\n",
       "      <td>NaN</td>\n",
       "      <td>NaN</td>\n",
       "      <td>NaN</td>\n",
       "      <td>NaN</td>\n",
       "      <td>NaN</td>\n",
       "      <td>NaN</td>\n",
       "      <td>NaN</td>\n",
       "      <td>NaN</td>\n",
       "      <td>NaN</td>\n",
       "      <td>7.239000e+03</td>\n",
       "      <td>NaN</td>\n",
       "      <td>0.000000</td>\n",
       "      <td>0.000000</td>\n",
       "      <td>0.000000</td>\n",
       "      <td>NaN</td>\n",
       "      <td>NaN</td>\n",
       "      <td>NaN</td>\n",
       "      <td>1949.000000</td>\n",
       "      <td>NaN</td>\n",
       "    </tr>\n",
       "    <tr>\n",
       "      <th>25%</th>\n",
       "      <td>NaN</td>\n",
       "      <td>NaN</td>\n",
       "      <td>NaN</td>\n",
       "      <td>NaN</td>\n",
       "      <td>NaN</td>\n",
       "      <td>NaN</td>\n",
       "      <td>NaN</td>\n",
       "      <td>NaN</td>\n",
       "      <td>NaN</td>\n",
       "      <td>1.128256e+07</td>\n",
       "      <td>NaN</td>\n",
       "      <td>0.230000</td>\n",
       "      <td>0.000000</td>\n",
       "      <td>1.000000</td>\n",
       "      <td>NaN</td>\n",
       "      <td>NaN</td>\n",
       "      <td>NaN</td>\n",
       "      <td>2002.000000</td>\n",
       "      <td>NaN</td>\n",
       "    </tr>\n",
       "    <tr>\n",
       "      <th>50%</th>\n",
       "      <td>NaN</td>\n",
       "      <td>NaN</td>\n",
       "      <td>NaN</td>\n",
       "      <td>NaN</td>\n",
       "      <td>NaN</td>\n",
       "      <td>NaN</td>\n",
       "      <td>NaN</td>\n",
       "      <td>NaN</td>\n",
       "      <td>NaN</td>\n",
       "      <td>1.868756e+07</td>\n",
       "      <td>NaN</td>\n",
       "      <td>0.720000</td>\n",
       "      <td>6.000000</td>\n",
       "      <td>2.000000</td>\n",
       "      <td>NaN</td>\n",
       "      <td>NaN</td>\n",
       "      <td>NaN</td>\n",
       "      <td>2009.000000</td>\n",
       "      <td>NaN</td>\n",
       "    </tr>\n",
       "    <tr>\n",
       "      <th>75%</th>\n",
       "      <td>NaN</td>\n",
       "      <td>NaN</td>\n",
       "      <td>NaN</td>\n",
       "      <td>NaN</td>\n",
       "      <td>NaN</td>\n",
       "      <td>NaN</td>\n",
       "      <td>NaN</td>\n",
       "      <td>NaN</td>\n",
       "      <td>NaN</td>\n",
       "      <td>2.402514e+07</td>\n",
       "      <td>NaN</td>\n",
       "      <td>1.690000</td>\n",
       "      <td>27.000000</td>\n",
       "      <td>5.000000</td>\n",
       "      <td>NaN</td>\n",
       "      <td>NaN</td>\n",
       "      <td>NaN</td>\n",
       "      <td>2014.000000</td>\n",
       "      <td>NaN</td>\n",
       "    </tr>\n",
       "    <tr>\n",
       "      <th>max</th>\n",
       "      <td>NaN</td>\n",
       "      <td>NaN</td>\n",
       "      <td>NaN</td>\n",
       "      <td>NaN</td>\n",
       "      <td>NaN</td>\n",
       "      <td>NaN</td>\n",
       "      <td>NaN</td>\n",
       "      <td>NaN</td>\n",
       "      <td>NaN</td>\n",
       "      <td>2.958951e+07</td>\n",
       "      <td>NaN</td>\n",
       "      <td>249.310000</td>\n",
       "      <td>5458.000000</td>\n",
       "      <td>2113.000000</td>\n",
       "      <td>NaN</td>\n",
       "      <td>NaN</td>\n",
       "      <td>NaN</td>\n",
       "      <td>2018.000000</td>\n",
       "      <td>NaN</td>\n",
       "    </tr>\n",
       "  </tbody>\n",
       "</table>\n",
       "</div>"
      ],
      "text/plain": [
       "         INCA ID      Dimensions ID Additional DIM ID to combine  \\\n",
       "count     145121             145121                        29643   \n",
       "unique       965                965                           95   \n",
       "top     inca_542  ur.01074225776.01            ur.01204666360.03   \n",
       "freq        1272               1272                         1272   \n",
       "mean         NaN                NaN                          NaN   \n",
       "std          NaN                NaN                          NaN   \n",
       "min          NaN                NaN                          NaN   \n",
       "25%          NaN                NaN                          NaN   \n",
       "50%          NaN                NaN                          NaN   \n",
       "75%          NaN                NaN                          NaN   \n",
       "max          NaN                NaN                          NaN   \n",
       "\n",
       "       Additional DIM ID to combine 2                ORCID   title  \\\n",
       "count                            2763                32080  145121   \n",
       "unique                              9                  198  107243   \n",
       "top                ur.010226620247.19  0000-0003-4181-8071   Reply   \n",
       "freq                              488                 1272      37   \n",
       "mean                              NaN                  NaN     NaN   \n",
       "std                               NaN                  NaN     NaN   \n",
       "min                               NaN                  NaN     NaN   \n",
       "25%                               NaN                  NaN     NaN   \n",
       "50%                               NaN                  NaN     NaN   \n",
       "75%                               NaN                  NaN     NaN   \n",
       "max                               NaN                  NaN     NaN   \n",
       "\n",
       "                         doi   issue   pages     Pubmed ID  volume  \\\n",
       "count                 131335  127929  142897  1.053860e+05  140591   \n",
       "unique                 97583    1607   53204           NaN    1591   \n",
       "top     10.1038/bmt.2016.102       1     1-9           NaN      28   \n",
       "freq                      10   16673     322           NaN    2505   \n",
       "mean                     NaN     NaN     NaN  1.770133e+07     NaN   \n",
       "std                      NaN     NaN     NaN  7.572868e+06     NaN   \n",
       "min                      NaN     NaN     NaN  7.239000e+03     NaN   \n",
       "25%                      NaN     NaN     NaN  1.128256e+07     NaN   \n",
       "50%                      NaN     NaN     NaN  1.868756e+07     NaN   \n",
       "75%                      NaN     NaN     NaN  2.402514e+07     NaN   \n",
       "max                      NaN     NaN     NaN  2.958951e+07     NaN   \n",
       "\n",
       "        Relative Citation Ratio    Times Cited     altmetric Open access  \\\n",
       "count              97820.000000  145121.000000  30482.000000       43809   \n",
       "unique                      NaN            NaN           NaN           1   \n",
       "top                         NaN            NaN           NaN        True   \n",
       "freq                        NaN            NaN           NaN       43809   \n",
       "mean                   1.569821      29.756348      9.063939         NaN   \n",
       "std                    3.939357      97.346231     48.115127         NaN   \n",
       "min                    0.000000       0.000000      0.000000         NaN   \n",
       "25%                    0.230000       0.000000      1.000000         NaN   \n",
       "50%                    0.720000       6.000000      2.000000         NaN   \n",
       "75%                    1.690000      27.000000      5.000000         NaN   \n",
       "max                  249.310000    5458.000000   2113.000000         NaN   \n",
       "\n",
       "                                             Author Names  \\\n",
       "count                                              145121   \n",
       "unique                                             102384   \n",
       "top     Jeffrey W. Pollard, Alla Danilkovitch-Miagkova...   \n",
       "freq                                                  538   \n",
       "mean                                                  NaN   \n",
       "std                                                   NaN   \n",
       "min                                                   NaN   \n",
       "25%                                                   NaN   \n",
       "50%                                                   NaN   \n",
       "75%                                                   NaN   \n",
       "max                                                   NaN   \n",
       "\n",
       "                       Journal Title  Publication Year Publication Date  \n",
       "count                         140296     145109.000000           145109  \n",
       "unique                          4566               NaN             6237  \n",
       "top     Journal of Clinical Oncology               NaN       2011-05-09  \n",
       "freq                            4577               NaN             1760  \n",
       "mean                             NaN       2006.900737              NaN  \n",
       "std                              NaN          8.572783              NaN  \n",
       "min                              NaN       1949.000000              NaN  \n",
       "25%                              NaN       2002.000000              NaN  \n",
       "50%                              NaN       2009.000000              NaN  \n",
       "75%                              NaN       2014.000000              NaN  \n",
       "max                              NaN       2018.000000              NaN  "
      ]
     },
     "execution_count": 6,
     "metadata": {},
     "output_type": "execute_result"
    }
   ],
   "source": [
    "pub_details.describe(include='all')"
   ]
  },
  {
   "cell_type": "markdown",
   "metadata": {},
   "source": [
    "## ORCID Names Quality"
   ]
  },
  {
   "cell_type": "code",
   "execution_count": 7,
   "metadata": {},
   "outputs": [],
   "source": [
    "pub_details['orcid_flag'] = pub_details['ORCID'].notnull()"
   ]
  },
  {
   "cell_type": "code",
   "execution_count": 8,
   "metadata": {
    "scrolled": false
   },
   "outputs": [
    {
     "data": {
      "text/plain": [
       "False    0.778943\n",
       "True     0.221057\n",
       "Name: orcid_flag, dtype: float64"
      ]
     },
     "execution_count": 8,
     "metadata": {},
     "output_type": "execute_result"
    }
   ],
   "source": [
    "pub_details['orcid_flag'].value_counts(normalize = True)"
   ]
  },
  {
   "cell_type": "markdown",
   "metadata": {},
   "source": [
    "Only 22% of publications have an ORCID code."
   ]
  },
  {
   "cell_type": "code",
   "execution_count": 9,
   "metadata": {},
   "outputs": [
    {
     "data": {
      "text/plain": [
       "0000-0003-4181-8071    1272\n",
       "0000-0002-9334-4405    1114\n",
       "0000-0001-7190-120X     875\n",
       "0000-0003-2574-3874     776\n",
       "0000-0002-0400-1954     767\n",
       "Name: ORCID, dtype: int64"
      ]
     },
     "execution_count": 9,
     "metadata": {},
     "output_type": "execute_result"
    }
   ],
   "source": [
    "pub_details['ORCID'].value_counts().head()"
   ]
  },
  {
   "cell_type": "code",
   "execution_count": 10,
   "metadata": {},
   "outputs": [],
   "source": [
    "orcid = pub_details[pub_details['ORCID'].notnull()][['INCA ID', 'ORCID']].reset_index(drop = True)"
   ]
  },
  {
   "cell_type": "code",
   "execution_count": 11,
   "metadata": {},
   "outputs": [
    {
     "data": {
      "text/html": [
       "<div>\n",
       "<style scoped>\n",
       "    .dataframe tbody tr th:only-of-type {\n",
       "        vertical-align: middle;\n",
       "    }\n",
       "\n",
       "    .dataframe tbody tr th {\n",
       "        vertical-align: top;\n",
       "    }\n",
       "\n",
       "    .dataframe thead th {\n",
       "        text-align: right;\n",
       "    }\n",
       "</style>\n",
       "<table border=\"1\" class=\"dataframe\">\n",
       "  <thead>\n",
       "    <tr style=\"text-align: right;\">\n",
       "      <th></th>\n",
       "      <th>INCA ID</th>\n",
       "      <th>ORCID</th>\n",
       "    </tr>\n",
       "  </thead>\n",
       "  <tbody>\n",
       "    <tr>\n",
       "      <th>23860</th>\n",
       "      <td>inca_823</td>\n",
       "      <td>0000-0001-5088-0155</td>\n",
       "    </tr>\n",
       "    <tr>\n",
       "      <th>23865</th>\n",
       "      <td>inca_823</td>\n",
       "      <td>0000-0001-5088-0155</td>\n",
       "    </tr>\n",
       "    <tr>\n",
       "      <th>23866</th>\n",
       "      <td>inca_823</td>\n",
       "      <td>0000-0001-5088-0155</td>\n",
       "    </tr>\n",
       "    <tr>\n",
       "      <th>23867</th>\n",
       "      <td>inca_823</td>\n",
       "      <td>0000-0001-5088-0155</td>\n",
       "    </tr>\n",
       "    <tr>\n",
       "      <th>23868</th>\n",
       "      <td>inca_823</td>\n",
       "      <td>0000-0001-5088-0155</td>\n",
       "    </tr>\n",
       "  </tbody>\n",
       "</table>\n",
       "</div>"
      ],
      "text/plain": [
       "        INCA ID                ORCID\n",
       "23860  inca_823  0000-0001-5088-0155\n",
       "23865  inca_823  0000-0001-5088-0155\n",
       "23866  inca_823  0000-0001-5088-0155\n",
       "23867  inca_823  0000-0001-5088-0155\n",
       "23868  inca_823  0000-0001-5088-0155"
      ]
     },
     "execution_count": 11,
     "metadata": {},
     "output_type": "execute_result"
    }
   ],
   "source": [
    "orcid.sort_values('ORCID').head()"
   ]
  },
  {
   "cell_type": "code",
   "execution_count": 12,
   "metadata": {},
   "outputs": [
    {
     "data": {
      "text/html": [
       "<div>\n",
       "<style scoped>\n",
       "    .dataframe tbody tr th:only-of-type {\n",
       "        vertical-align: middle;\n",
       "    }\n",
       "\n",
       "    .dataframe tbody tr th {\n",
       "        vertical-align: top;\n",
       "    }\n",
       "\n",
       "    .dataframe thead th {\n",
       "        text-align: right;\n",
       "    }\n",
       "</style>\n",
       "<table border=\"1\" class=\"dataframe\">\n",
       "  <thead>\n",
       "    <tr style=\"text-align: right;\">\n",
       "      <th></th>\n",
       "      <th>INCA ID</th>\n",
       "      <th>ORCID</th>\n",
       "    </tr>\n",
       "  </thead>\n",
       "  <tbody>\n",
       "    <tr>\n",
       "      <th>24247</th>\n",
       "      <td>inca_847</td>\n",
       "      <td>0000-0003-4839-4347</td>\n",
       "    </tr>\n",
       "    <tr>\n",
       "      <th>24249</th>\n",
       "      <td>inca_847</td>\n",
       "      <td>0000-0003-4839-4347</td>\n",
       "    </tr>\n",
       "    <tr>\n",
       "      <th>24250</th>\n",
       "      <td>inca_847</td>\n",
       "      <td>0000-0003-4839-4347</td>\n",
       "    </tr>\n",
       "    <tr>\n",
       "      <th>24236</th>\n",
       "      <td>inca_847</td>\n",
       "      <td>0000-0003-4839-4347</td>\n",
       "    </tr>\n",
       "    <tr>\n",
       "      <th>24253</th>\n",
       "      <td>inca_847</td>\n",
       "      <td>0000-0003-4839-4347</td>\n",
       "    </tr>\n",
       "  </tbody>\n",
       "</table>\n",
       "</div>"
      ],
      "text/plain": [
       "        INCA ID                ORCID\n",
       "24247  inca_847  0000-0003-4839-4347\n",
       "24249  inca_847  0000-0003-4839-4347\n",
       "24250  inca_847  0000-0003-4839-4347\n",
       "24236  inca_847  0000-0003-4839-4347\n",
       "24253  inca_847  0000-0003-4839-4347"
      ]
     },
     "execution_count": 12,
     "metadata": {},
     "output_type": "execute_result"
    }
   ],
   "source": [
    "orcid.sort_values('ORCID').tail()"
   ]
  },
  {
   "cell_type": "markdown",
   "metadata": {},
   "source": [
    "ORCID codes seem clean."
   ]
  },
  {
   "cell_type": "markdown",
   "metadata": {},
   "source": [
    "## Institution Names Quality"
   ]
  },
  {
   "cell_type": "code",
   "execution_count": 13,
   "metadata": {},
   "outputs": [],
   "source": [
    "grants_details['org_clean'] = grants_details['Organisation'].fillna('')"
   ]
  },
  {
   "cell_type": "code",
   "execution_count": 14,
   "metadata": {},
   "outputs": [
    {
     "data": {
      "text/plain": [
       "True     0.999451\n",
       "False    0.000549\n",
       "Name: org_flag, dtype: float64"
      ]
     },
     "execution_count": 14,
     "metadata": {},
     "output_type": "execute_result"
    }
   ],
   "source": [
    "grants_details['org_flag'] = grants_details['org_clean'].apply(lambda x: x!='')\n",
    "grants_details['org_flag'].value_counts(normalize = True)"
   ]
  },
  {
   "cell_type": "markdown",
   "metadata": {},
   "source": [
    "99.9% of grants have an organization."
   ]
  },
  {
   "cell_type": "code",
   "execution_count": 15,
   "metadata": {
    "scrolled": true
   },
   "outputs": [
    {
     "name": "stdout",
     "output_type": "stream",
     "text": [
      "700 different Institution Names\n"
     ]
    }
   ],
   "source": [
    "print(\"{} different Institution Names\".format(len(grants_details['org_clean'].value_counts())))"
   ]
  },
  {
   "cell_type": "code",
   "execution_count": 16,
   "metadata": {},
   "outputs": [
    {
     "data": {
      "text/plain": [
       "Institut Gustave Roussy     107\n",
       "Institut Curie               84\n",
       "Centre Léon Bérard           54\n",
       "Institut Paoli-Calmettes     37\n",
       "Institut Bergonié            24\n",
       "Name: org_clean, dtype: int64"
      ]
     },
     "execution_count": 16,
     "metadata": {},
     "output_type": "execute_result"
    }
   ],
   "source": [
    "grants_details['org_clean'].value_counts().head()"
   ]
  },
  {
   "cell_type": "code",
   "execution_count": 17,
   "metadata": {},
   "outputs": [
    {
     "data": {
      "text/plain": [
       "Institut Paoli-Calmettes                                                                       37\n",
       "Institut Paoli Calmettes                                                                        5\n",
       "Inserm U1068 -  Centre de recherche en cancérologie de Marseille - Institut Paoli Calmettes     3\n",
       "UMR912 Inserm-IRD-Université d’Aix Marseille SESSTIM - Institut Paoli Calmettes                 2\n",
       "UMR7258  Centre de recherche en cancérologie de Marseille (CRCM) - Institut Paoli Calmettes     1\n",
       "Inserm U1068 - Centre de recherche en cancérologie de Marseille - Institut Paoli-Calmettes      1\n",
       "Name: org_clean, dtype: int64"
      ]
     },
     "execution_count": 17,
     "metadata": {},
     "output_type": "execute_result"
    }
   ],
   "source": [
    "string = \"Paoli\"\n",
    "grants_details[grants_details['org_clean'].str.contains(string)]['org_clean'].value_counts()"
   ]
  },
  {
   "cell_type": "markdown",
   "metadata": {},
   "source": [
    "Organisation names are not clean at all."
   ]
  },
  {
   "cell_type": "markdown",
   "metadata": {},
   "source": [
    "### Cleaning Institution Names"
   ]
  },
  {
   "cell_type": "code",
   "execution_count": 18,
   "metadata": {},
   "outputs": [],
   "source": [
    "grants_details['org_clean'] = grants_details['org_clean'].str.upper()\n",
    "grants_details['org_clean'] = grants_details['org_clean'].str.strip()\n",
    "grants_details['org_clean'] = grants_details['org_clean'].str.replace(r'-', ' ')\n",
    "grants_details['org_clean'] = grants_details['org_clean'].str.replace(r'\\s+', ' ')\n",
    "\n",
    "# Remove accents\n",
    "grants_details['org_clean'] = grants_details['org_clean'].apply(lambda x: unidecode.unidecode(x))\n",
    "\n",
    "grants_details['org_clean'] = grants_details['org_clean'].str.replace(r'^(CNRS INSERM|CNRS|INSERM|) ?UM?R? ?\\d+ -? ?', ' ')\n",
    "grants_details['org_clean'] = grants_details['org_clean'].str.replace(r'APHP', ' ')\n",
    "grants_details['org_clean'] = grants_details['org_clean'].str.replace('CURIE INSTITUTE', 'INSTITUT CURIE')\n",
    "grants_details['org_clean'] = grants_details['org_clean'].str.replace(r'\\(.+\\)', 'INSTITUT CURIE')\n",
    "grants_details['org_clean'] = grants_details['org_clean'].str.replace(r'\\s+', ' ')\n",
    "grants_details['org_clean'] = grants_details['org_clean'].str.strip()"
   ]
  },
  {
   "cell_type": "code",
   "execution_count": 19,
   "metadata": {},
   "outputs": [
    {
     "data": {
      "text/plain": [
       "INSTITUT GUSTAVE ROUSSY     133\n",
       "INSTITUT CURIE              104\n",
       "CENTRE LEON BERARD           54\n",
       "HOPITAL SAINT LOUIS          44\n",
       "INSTITUT PAOLI CALMETTES     42\n",
       "Name: org_clean, dtype: int64"
      ]
     },
     "execution_count": 19,
     "metadata": {},
     "output_type": "execute_result"
    }
   ],
   "source": [
    "grants_details['org_clean'].value_counts().head(5)"
   ]
  },
  {
   "cell_type": "code",
   "execution_count": 20,
   "metadata": {
    "scrolled": true
   },
   "outputs": [
    {
     "name": "stdout",
     "output_type": "stream",
     "text": [
      "607 different Clean Institution Names\n"
     ]
    }
   ],
   "source": [
    "print(\"{} different Clean Institution Names\".format(len(grants_details['org_clean'].value_counts())))"
   ]
  },
  {
   "cell_type": "markdown",
   "metadata": {},
   "source": [
    "**To be continued...**"
   ]
  },
  {
   "cell_type": "markdown",
   "metadata": {},
   "source": [
    "## Funder Name Quality"
   ]
  },
  {
   "cell_type": "code",
   "execution_count": 21,
   "metadata": {},
   "outputs": [],
   "source": [
    "grants_details['funder_clean'] = grants_details['Funder'].fillna('')"
   ]
  },
  {
   "cell_type": "code",
   "execution_count": 22,
   "metadata": {},
   "outputs": [
    {
     "data": {
      "text/plain": [
       "True    1.0\n",
       "Name: funder_flag, dtype: float64"
      ]
     },
     "execution_count": 22,
     "metadata": {},
     "output_type": "execute_result"
    }
   ],
   "source": [
    "grants_details['funder_flag'] = grants_details['funder_clean'].apply(lambda x: x!='')\n",
    "grants_details['funder_flag'].value_counts(normalize = True)"
   ]
  },
  {
   "cell_type": "markdown",
   "metadata": {},
   "source": [
    "All grants have a Funder."
   ]
  },
  {
   "cell_type": "code",
   "execution_count": 23,
   "metadata": {},
   "outputs": [
    {
     "name": "stdout",
     "output_type": "stream",
     "text": [
      "39 different Funder Names\n"
     ]
    }
   ],
   "source": [
    "print(\"{} different Funder Names\".format(len(grants_details['funder_clean'].value_counts())))"
   ]
  },
  {
   "cell_type": "code",
   "execution_count": 24,
   "metadata": {},
   "outputs": [
    {
     "data": {
      "text/plain": [
       "French National Cancer Institute                   848\n",
       "Ministère des Affaires sociales et de la Santé     524\n",
       "French Institute of Health and Medical Research    162\n",
       "French National Research Agency                    122\n",
       "Swiss National Science Foundation                   42\n",
       "Name: funder_clean, dtype: int64"
      ]
     },
     "execution_count": 24,
     "metadata": {},
     "output_type": "execute_result"
    }
   ],
   "source": [
    "grants_details['funder_clean'].value_counts().head()"
   ]
  },
  {
   "cell_type": "code",
   "execution_count": 25,
   "metadata": {},
   "outputs": [],
   "source": [
    "grants_details['funder_clean'] = grants_details['funder_clean'].str.upper()\n",
    "\n",
    "# Remove accents\n",
    "grants_details['funder_clean'] = grants_details['funder_clean'].apply(lambda x: unidecode.unidecode(x))\n",
    "\n",
    "grants_details['funder_clean'] = grants_details['funder_clean'].str.replace(r'\\s+', ' ')\n",
    "grants_details['funder_clean'] = grants_details['funder_clean'].str.strip()"
   ]
  },
  {
   "cell_type": "code",
   "execution_count": 26,
   "metadata": {},
   "outputs": [
    {
     "name": "stdout",
     "output_type": "stream",
     "text": [
      "39 different Funder Names\n"
     ]
    }
   ],
   "source": [
    "print(\"{} different Funder Names\".format(len(grants_details['funder_clean'].value_counts())))"
   ]
  },
  {
   "cell_type": "code",
   "execution_count": 27,
   "metadata": {},
   "outputs": [
    {
     "data": {
      "text/plain": [
       "FRENCH NATIONAL CANCER INSTITUTE                   848\n",
       "MINISTERE DES AFFAIRES SOCIALES ET DE LA SANTE     524\n",
       "FRENCH INSTITUTE OF HEALTH AND MEDICAL RESEARCH    162\n",
       "FRENCH NATIONAL RESEARCH AGENCY                    122\n",
       "SWISS NATIONAL SCIENCE FOUNDATION                   42\n",
       "Name: funder_clean, dtype: int64"
      ]
     },
     "execution_count": 27,
     "metadata": {},
     "output_type": "execute_result"
    }
   ],
   "source": [
    "grants_details['funder_clean'].value_counts().head()"
   ]
  },
  {
   "cell_type": "markdown",
   "metadata": {},
   "source": [
    "Funder names are clean."
   ]
  },
  {
   "cell_type": "markdown",
   "metadata": {},
   "source": [
    "## Scraping Research Topics"
   ]
  },
  {
   "cell_type": "code",
   "execution_count": 28,
   "metadata": {},
   "outputs": [],
   "source": [
    "# import requests\n",
    "# from lxml import html\n",
    "\n",
    "# USERNAME = \"nj995@nyu.edu\"\n",
    "# PASSWORD = \"\"\n",
    "\n",
    "# LOGIN_URL = \"https://staging-ddpp.dimensions.ai/login?redirect=%2Fdiscover\"\n",
    "# URL = \"https://staging-ddpp.dimensions.ai/details/grant/grant.7426242\"\n",
    "\n",
    "# def main():\n",
    "#     session_requests = requests.session()\n",
    "\n",
    "#     # Get login csrf token\n",
    "#     result = session_requests.get(LOGIN_URL)\n",
    "#     authentication_token = re.search('csrf: (.*)', result.text, re.IGNORECASE).group(1)\n",
    "#     authentication_token = authentication_token.replace(r',', '')\n",
    "#     authentication_token = authentication_token.replace('\\'', '')\n",
    "\n",
    "#     # Create payload\n",
    "#     payload = {\n",
    "#         \"login\": USERNAME, \n",
    "#         \"password\": PASSWORD\n",
    "# #        \"csrf_token\": authenticity_token\n",
    "#     }\n",
    "\n",
    "#     # Perform login\n",
    "#     result = session_requests.post(LOGIN_URL, data = payload, headers = dict(referer = LOGIN_URL))\n",
    "\n",
    "#     # Scrape url\n",
    "# #    result = session_requests.get(URL, headers = dict(referer = URL))\n",
    "# #     tree = html.fromstring(result.content)\n",
    "# #     bucket_names = tree.xpath(\"//div[@class='repo-list--repo']/a/text()\")\n",
    "\n",
    "#     print(result.text)\n",
    "\n",
    "# if __name__ == '__main__':\n",
    "#     main()"
   ]
  },
  {
   "cell_type": "code",
   "execution_count": null,
   "metadata": {},
   "outputs": [],
   "source": []
  },
  {
   "cell_type": "code",
   "execution_count": null,
   "metadata": {},
   "outputs": [],
   "source": []
  },
  {
   "cell_type": "markdown",
   "metadata": {},
   "source": [
    "## Sandbox"
   ]
  },
  {
   "cell_type": "code",
   "execution_count": null,
   "metadata": {
    "scrolled": false
   },
   "outputs": [],
   "source": []
  }
 ],
 "metadata": {
  "kernelspec": {
   "display_name": "Python 3",
   "language": "python",
   "name": "python3"
  },
  "language_info": {
   "codemirror_mode": {
    "name": "ipython",
    "version": 3
   },
   "file_extension": ".py",
   "mimetype": "text/x-python",
   "name": "python",
   "nbconvert_exporter": "python",
   "pygments_lexer": "ipython3",
   "version": "3.6.2"
  },
  "toc": {
   "nav_menu": {},
   "number_sections": false,
   "sideBar": true,
   "skip_h1_title": false,
   "title_cell": "Table of Contents",
   "title_sidebar": "Contents",
   "toc_cell": false,
   "toc_position": {
    "height": "calc(100% - 180px)",
    "left": "10px",
    "top": "150px",
    "width": "213px"
   },
   "toc_section_display": true,
   "toc_window_display": true
  }
 },
 "nbformat": 4,
 "nbformat_minor": 2
}
