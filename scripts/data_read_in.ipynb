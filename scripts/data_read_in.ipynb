{
 "cells": [
  {
   "cell_type": "markdown",
   "metadata": {},
   "source": [
    "# Data Read-In and Preliminary Analysis"
   ]
  },
  {
   "cell_type": "markdown",
   "metadata": {},
   "source": [
    "## Python Setup"
   ]
  },
  {
   "cell_type": "code",
   "execution_count": 1,
   "metadata": {},
   "outputs": [],
   "source": [
    "import pandas as pd\n",
    "import numpy as np\n",
    "import requests\n",
    "from bs4 import BeautifulSoup\n",
    "pd.options.display.max_rows = 50\n",
    "pd.options.display.max_columns = 100\n",
    "import unidecode"
   ]
  },
  {
   "cell_type": "markdown",
   "metadata": {},
   "source": [
    "## Data Read-In"
   ]
  },
  {
   "cell_type": "code",
   "execution_count": 2,
   "metadata": {},
   "outputs": [],
   "source": [
    "grants_details = pd.read_csv('../data/inca_grants_details.csv')\n",
    "pub_details = pd.read_csv('../data/inca_pub_details.csv', low_memory=False)"
   ]
  },
  {
   "cell_type": "code",
   "execution_count": 3,
   "metadata": {},
   "outputs": [
    {
     "name": "stdout",
     "output_type": "stream",
     "text": [
      "(1821, 10)\n",
      "(145121, 19)\n"
     ]
    }
   ],
   "source": [
    "print(grants_details.shape)\n",
    "print(pub_details.shape)"
   ]
  },
  {
   "cell_type": "code",
   "execution_count": 4,
   "metadata": {},
   "outputs": [],
   "source": [
    "grants_details = grants_details.drop_duplicates()\n",
    "pub_details = pub_details.drop_duplicates()"
   ]
  },
  {
   "cell_type": "code",
   "execution_count": 5,
   "metadata": {},
   "outputs": [
    {
     "name": "stdout",
     "output_type": "stream",
     "text": [
      "(1820, 10)\n",
      "(145121, 19)\n"
     ]
    }
   ],
   "source": [
    "print(grants_details.shape)\n",
    "print(pub_details.shape)"
   ]
  },
  {
   "cell_type": "code",
   "execution_count": 6,
   "metadata": {
    "scrolled": true
   },
   "outputs": [
    {
     "data": {
      "text/html": [
       "<div>\n",
       "<style scoped>\n",
       "    .dataframe tbody tr th:only-of-type {\n",
       "        vertical-align: middle;\n",
       "    }\n",
       "\n",
       "    .dataframe tbody tr th {\n",
       "        vertical-align: top;\n",
       "    }\n",
       "\n",
       "    .dataframe thead th {\n",
       "        text-align: right;\n",
       "    }\n",
       "</style>\n",
       "<table border=\"1\" class=\"dataframe\">\n",
       "  <thead>\n",
       "    <tr style=\"text-align: right;\">\n",
       "      <th></th>\n",
       "      <th>INCA ID</th>\n",
       "      <th>Dimensions ID</th>\n",
       "      <th>Title</th>\n",
       "      <th>Abstract</th>\n",
       "      <th>Funder</th>\n",
       "      <th>Reference</th>\n",
       "      <th>Organisation</th>\n",
       "      <th>Funding Amount ($)</th>\n",
       "      <th>Start Date</th>\n",
       "      <th>End Date</th>\n",
       "    </tr>\n",
       "  </thead>\n",
       "  <tbody>\n",
       "    <tr>\n",
       "      <th>0</th>\n",
       "      <td>inca_1</td>\n",
       "      <td>grant.7426242</td>\n",
       "      <td>Cancer, Environment and metabolomics: the dog ...</td>\n",
       "      <td>Our innovative project aims to use the dog as ...</td>\n",
       "      <td>French Institute of Health and Medical Research</td>\n",
       "      <td>Inserm_6181</td>\n",
       "      <td>Ecole Vétérinaire de Nantes</td>\n",
       "      <td>65061.0</td>\n",
       "      <td>2011-12-13</td>\n",
       "      <td>2013-06-12</td>\n",
       "    </tr>\n",
       "    <tr>\n",
       "      <th>1</th>\n",
       "      <td>inca_2</td>\n",
       "      <td>grant.7426178</td>\n",
       "      <td>Creating tools to assess DNA repair dysfunctio...</td>\n",
       "      <td>Scientific context  Non-small cell lung carcin...</td>\n",
       "      <td>French Institute of Health and Medical Research</td>\n",
       "      <td>Inserm_4631</td>\n",
       "      <td>Institut Gustave Roussy</td>\n",
       "      <td>240110.0</td>\n",
       "      <td>2011-11-01</td>\n",
       "      <td>2014-11-01</td>\n",
       "    </tr>\n",
       "    <tr>\n",
       "      <th>2</th>\n",
       "      <td>inca_3</td>\n",
       "      <td>grant.7154464</td>\n",
       "      <td>A multicenter randomized phase II study to eva...</td>\n",
       "      <td>Medical oncologists are used to treat patients...</td>\n",
       "      <td>Ministère des Affaires sociales et de la Santé</td>\n",
       "      <td>DGOS_2555</td>\n",
       "      <td>Centre Oscar Lambret</td>\n",
       "      <td>248109.0</td>\n",
       "      <td>2010-06-01</td>\n",
       "      <td>2013-06-01</td>\n",
       "    </tr>\n",
       "    <tr>\n",
       "      <th>3</th>\n",
       "      <td>inca_3</td>\n",
       "      <td>grant.7154160</td>\n",
       "      <td>National oesophageal and gastric carcinomas da...</td>\n",
       "      <td>In 2005, the worldwide incidence of oesophagog...</td>\n",
       "      <td>French National Cancer Institute</td>\n",
       "      <td>INCa_6288</td>\n",
       "      <td>Centre Oscar Lambret</td>\n",
       "      <td>875159.0</td>\n",
       "      <td>2013-04-15</td>\n",
       "      <td>2016-04-14</td>\n",
       "    </tr>\n",
       "    <tr>\n",
       "      <th>4</th>\n",
       "      <td>inca_4</td>\n",
       "      <td>grant.7154483</td>\n",
       "      <td>Non-coding RNA and cancer</td>\n",
       "      <td>The aim of our project is to understand the mo...</td>\n",
       "      <td>French National Cancer Institute</td>\n",
       "      <td>INCa_2699</td>\n",
       "      <td>CNRS Inserm UMR8161</td>\n",
       "      <td>400306.0</td>\n",
       "      <td>2010-11-04</td>\n",
       "      <td>2013-11-04</td>\n",
       "    </tr>\n",
       "  </tbody>\n",
       "</table>\n",
       "</div>"
      ],
      "text/plain": [
       "  INCA ID  Dimensions ID                                              Title  \\\n",
       "0  inca_1  grant.7426242  Cancer, Environment and metabolomics: the dog ...   \n",
       "1  inca_2  grant.7426178  Creating tools to assess DNA repair dysfunctio...   \n",
       "2  inca_3  grant.7154464  A multicenter randomized phase II study to eva...   \n",
       "3  inca_3  grant.7154160  National oesophageal and gastric carcinomas da...   \n",
       "4  inca_4  grant.7154483                          Non-coding RNA and cancer   \n",
       "\n",
       "                                            Abstract  \\\n",
       "0  Our innovative project aims to use the dog as ...   \n",
       "1  Scientific context  Non-small cell lung carcin...   \n",
       "2  Medical oncologists are used to treat patients...   \n",
       "3  In 2005, the worldwide incidence of oesophagog...   \n",
       "4  The aim of our project is to understand the mo...   \n",
       "\n",
       "                                            Funder    Reference  \\\n",
       "0  French Institute of Health and Medical Research  Inserm_6181   \n",
       "1  French Institute of Health and Medical Research  Inserm_4631   \n",
       "2   Ministère des Affaires sociales et de la Santé    DGOS_2555   \n",
       "3                 French National Cancer Institute    INCa_6288   \n",
       "4                 French National Cancer Institute    INCa_2699   \n",
       "\n",
       "                  Organisation  Funding Amount ($)  Start Date    End Date  \n",
       "0  Ecole Vétérinaire de Nantes             65061.0  2011-12-13  2013-06-12  \n",
       "1      Institut Gustave Roussy            240110.0  2011-11-01  2014-11-01  \n",
       "2         Centre Oscar Lambret            248109.0  2010-06-01  2013-06-01  \n",
       "3         Centre Oscar Lambret            875159.0  2013-04-15  2016-04-14  \n",
       "4          CNRS Inserm UMR8161            400306.0  2010-11-04  2013-11-04  "
      ]
     },
     "execution_count": 6,
     "metadata": {},
     "output_type": "execute_result"
    }
   ],
   "source": [
    "grants_details.head()"
   ]
  },
  {
   "cell_type": "code",
   "execution_count": 7,
   "metadata": {},
   "outputs": [
    {
     "data": {
      "text/html": [
       "<div>\n",
       "<style scoped>\n",
       "    .dataframe tbody tr th:only-of-type {\n",
       "        vertical-align: middle;\n",
       "    }\n",
       "\n",
       "    .dataframe tbody tr th {\n",
       "        vertical-align: top;\n",
       "    }\n",
       "\n",
       "    .dataframe thead th {\n",
       "        text-align: right;\n",
       "    }\n",
       "</style>\n",
       "<table border=\"1\" class=\"dataframe\">\n",
       "  <thead>\n",
       "    <tr style=\"text-align: right;\">\n",
       "      <th></th>\n",
       "      <th>INCA ID</th>\n",
       "      <th>Dimensions ID</th>\n",
       "      <th>Additional DIM ID to combine</th>\n",
       "      <th>Additional DIM ID to combine 2</th>\n",
       "      <th>ORCID</th>\n",
       "      <th>title</th>\n",
       "      <th>doi</th>\n",
       "      <th>issue</th>\n",
       "      <th>pages</th>\n",
       "      <th>Pubmed ID</th>\n",
       "      <th>volume</th>\n",
       "      <th>Relative Citation Ratio</th>\n",
       "      <th>Times Cited</th>\n",
       "      <th>altmetric</th>\n",
       "      <th>Open access</th>\n",
       "      <th>Author Names</th>\n",
       "      <th>Journal Title</th>\n",
       "      <th>Publication Year</th>\n",
       "      <th>Publication Date</th>\n",
       "    </tr>\n",
       "  </thead>\n",
       "  <tbody>\n",
       "    <tr>\n",
       "      <th>0</th>\n",
       "      <td>inca_1</td>\n",
       "      <td>ur.0642054564.81</td>\n",
       "      <td>NaN</td>\n",
       "      <td>NaN</td>\n",
       "      <td>NaN</td>\n",
       "      <td>Canine invasive mammary carcinomas as models o...</td>\n",
       "      <td>10.1007/s10549-017-4548-2</td>\n",
       "      <td>3</td>\n",
       "      <td>635-648</td>\n",
       "      <td>29086231.0</td>\n",
       "      <td>167</td>\n",
       "      <td>NaN</td>\n",
       "      <td>1</td>\n",
       "      <td>0.0</td>\n",
       "      <td>True</td>\n",
       "      <td>Frédérique Nguyen, Laura Peña, Catherine Ibisc...</td>\n",
       "      <td>Breast Cancer Research and Treatment</td>\n",
       "      <td>2018.0</td>\n",
       "      <td>2018-02-09</td>\n",
       "    </tr>\n",
       "    <tr>\n",
       "      <th>1</th>\n",
       "      <td>inca_1</td>\n",
       "      <td>ur.0642054564.81</td>\n",
       "      <td>NaN</td>\n",
       "      <td>NaN</td>\n",
       "      <td>NaN</td>\n",
       "      <td>MIB‐1 immunoreactivity correlates with biologi...</td>\n",
       "      <td>10.1046/j.1365-3164.2001.00236.x</td>\n",
       "      <td>3</td>\n",
       "      <td>139-147</td>\n",
       "      <td>11420929.0</td>\n",
       "      <td>12</td>\n",
       "      <td>1.42</td>\n",
       "      <td>35</td>\n",
       "      <td>NaN</td>\n",
       "      <td>NaN</td>\n",
       "      <td>C. Laprie, J. Abadie, M.‐F. Amardeilh, J.‐L.L....</td>\n",
       "      <td>Veterinary Dermatology</td>\n",
       "      <td>2001.0</td>\n",
       "      <td>2001-06-09</td>\n",
       "    </tr>\n",
       "    <tr>\n",
       "      <th>2</th>\n",
       "      <td>inca_1</td>\n",
       "      <td>ur.0642054564.81</td>\n",
       "      <td>NaN</td>\n",
       "      <td>NaN</td>\n",
       "      <td>NaN</td>\n",
       "      <td>Molecular cytogenetic characterization of cani...</td>\n",
       "      <td>10.1186/1471-2407-11-201</td>\n",
       "      <td>1</td>\n",
       "      <td>1-14</td>\n",
       "      <td>21615919.0</td>\n",
       "      <td>11</td>\n",
       "      <td>1.73</td>\n",
       "      <td>43</td>\n",
       "      <td>7.0</td>\n",
       "      <td>True</td>\n",
       "      <td>Benoit Hedan, Rachael Thomas, Alison Motsinger...</td>\n",
       "      <td>BMC Cancer</td>\n",
       "      <td>2011.0</td>\n",
       "      <td>2011-12-09</td>\n",
       "    </tr>\n",
       "    <tr>\n",
       "      <th>3</th>\n",
       "      <td>inca_1</td>\n",
       "      <td>ur.0642054564.81</td>\n",
       "      <td>NaN</td>\n",
       "      <td>NaN</td>\n",
       "      <td>NaN</td>\n",
       "      <td>Chapter 2 Cancer Prevalence and Etiology in Wi...</td>\n",
       "      <td>10.1016/b978-0-12-804310-3.00002-8</td>\n",
       "      <td>NaN</td>\n",
       "      <td>11-46</td>\n",
       "      <td>NaN</td>\n",
       "      <td>NaN</td>\n",
       "      <td>NaN</td>\n",
       "      <td>7</td>\n",
       "      <td>NaN</td>\n",
       "      <td>NaN</td>\n",
       "      <td>Thomas Madsen, Audrey Arnal, Marion Vittecoq, ...</td>\n",
       "      <td>NaN</td>\n",
       "      <td>2017.0</td>\n",
       "      <td>2017-05-09</td>\n",
       "    </tr>\n",
       "    <tr>\n",
       "      <th>4</th>\n",
       "      <td>inca_1</td>\n",
       "      <td>ur.0642054564.81</td>\n",
       "      <td>NaN</td>\n",
       "      <td>NaN</td>\n",
       "      <td>NaN</td>\n",
       "      <td>Spontaneous Canine Mammary Carcinoma as a Mode...</td>\n",
       "      <td>10.1016/j.jcpa.2011.11.136</td>\n",
       "      <td>1</td>\n",
       "      <td>79</td>\n",
       "      <td>NaN</td>\n",
       "      <td>146</td>\n",
       "      <td>NaN</td>\n",
       "      <td>1</td>\n",
       "      <td>NaN</td>\n",
       "      <td>NaN</td>\n",
       "      <td>J. Abadie, F. Nguyen, D. Loussouarn, I. Bemelm...</td>\n",
       "      <td>Journal of Comparative Pathology</td>\n",
       "      <td>2012.0</td>\n",
       "      <td>2012-01-09</td>\n",
       "    </tr>\n",
       "  </tbody>\n",
       "</table>\n",
       "</div>"
      ],
      "text/plain": [
       "  INCA ID     Dimensions ID Additional DIM ID to combine  \\\n",
       "0  inca_1  ur.0642054564.81                          NaN   \n",
       "1  inca_1  ur.0642054564.81                          NaN   \n",
       "2  inca_1  ur.0642054564.81                          NaN   \n",
       "3  inca_1  ur.0642054564.81                          NaN   \n",
       "4  inca_1  ur.0642054564.81                          NaN   \n",
       "\n",
       "  Additional DIM ID to combine 2 ORCID  \\\n",
       "0                            NaN   NaN   \n",
       "1                            NaN   NaN   \n",
       "2                            NaN   NaN   \n",
       "3                            NaN   NaN   \n",
       "4                            NaN   NaN   \n",
       "\n",
       "                                               title  \\\n",
       "0  Canine invasive mammary carcinomas as models o...   \n",
       "1  MIB‐1 immunoreactivity correlates with biologi...   \n",
       "2  Molecular cytogenetic characterization of cani...   \n",
       "3  Chapter 2 Cancer Prevalence and Etiology in Wi...   \n",
       "4  Spontaneous Canine Mammary Carcinoma as a Mode...   \n",
       "\n",
       "                                  doi issue    pages   Pubmed ID volume  \\\n",
       "0           10.1007/s10549-017-4548-2     3  635-648  29086231.0    167   \n",
       "1    10.1046/j.1365-3164.2001.00236.x     3  139-147  11420929.0     12   \n",
       "2            10.1186/1471-2407-11-201     1     1-14  21615919.0     11   \n",
       "3  10.1016/b978-0-12-804310-3.00002-8   NaN    11-46         NaN    NaN   \n",
       "4          10.1016/j.jcpa.2011.11.136     1       79         NaN    146   \n",
       "\n",
       "   Relative Citation Ratio  Times Cited  altmetric Open access  \\\n",
       "0                      NaN            1        0.0        True   \n",
       "1                     1.42           35        NaN         NaN   \n",
       "2                     1.73           43        7.0        True   \n",
       "3                      NaN            7        NaN         NaN   \n",
       "4                      NaN            1        NaN         NaN   \n",
       "\n",
       "                                        Author Names  \\\n",
       "0  Frédérique Nguyen, Laura Peña, Catherine Ibisc...   \n",
       "1  C. Laprie, J. Abadie, M.‐F. Amardeilh, J.‐L.L....   \n",
       "2  Benoit Hedan, Rachael Thomas, Alison Motsinger...   \n",
       "3  Thomas Madsen, Audrey Arnal, Marion Vittecoq, ...   \n",
       "4  J. Abadie, F. Nguyen, D. Loussouarn, I. Bemelm...   \n",
       "\n",
       "                          Journal Title  Publication Year Publication Date  \n",
       "0  Breast Cancer Research and Treatment            2018.0       2018-02-09  \n",
       "1                Veterinary Dermatology            2001.0       2001-06-09  \n",
       "2                            BMC Cancer            2011.0       2011-12-09  \n",
       "3                                   NaN            2017.0       2017-05-09  \n",
       "4      Journal of Comparative Pathology            2012.0       2012-01-09  "
      ]
     },
     "execution_count": 7,
     "metadata": {},
     "output_type": "execute_result"
    }
   ],
   "source": [
    "pub_details.head()"
   ]
  },
  {
   "cell_type": "code",
   "execution_count": 8,
   "metadata": {},
   "outputs": [
    {
     "data": {
      "text/html": [
       "<div>\n",
       "<style scoped>\n",
       "    .dataframe tbody tr th:only-of-type {\n",
       "        vertical-align: middle;\n",
       "    }\n",
       "\n",
       "    .dataframe tbody tr th {\n",
       "        vertical-align: top;\n",
       "    }\n",
       "\n",
       "    .dataframe thead th {\n",
       "        text-align: right;\n",
       "    }\n",
       "</style>\n",
       "<table border=\"1\" class=\"dataframe\">\n",
       "  <thead>\n",
       "    <tr style=\"text-align: right;\">\n",
       "      <th></th>\n",
       "      <th>INCA ID</th>\n",
       "      <th>Dimensions ID</th>\n",
       "      <th>Title</th>\n",
       "      <th>Abstract</th>\n",
       "      <th>Funder</th>\n",
       "      <th>Reference</th>\n",
       "      <th>Organisation</th>\n",
       "      <th>Funding Amount ($)</th>\n",
       "      <th>Start Date</th>\n",
       "      <th>End Date</th>\n",
       "    </tr>\n",
       "  </thead>\n",
       "  <tbody>\n",
       "    <tr>\n",
       "      <th>count</th>\n",
       "      <td>1820</td>\n",
       "      <td>1820</td>\n",
       "      <td>1820</td>\n",
       "      <td>1778</td>\n",
       "      <td>1820</td>\n",
       "      <td>1820</td>\n",
       "      <td>1819</td>\n",
       "      <td>1.820000e+03</td>\n",
       "      <td>1782</td>\n",
       "      <td>1764</td>\n",
       "    </tr>\n",
       "    <tr>\n",
       "      <th>unique</th>\n",
       "      <td>1001</td>\n",
       "      <td>1627</td>\n",
       "      <td>1546</td>\n",
       "      <td>1491</td>\n",
       "      <td>39</td>\n",
       "      <td>1550</td>\n",
       "      <td>699</td>\n",
       "      <td>NaN</td>\n",
       "      <td>382</td>\n",
       "      <td>493</td>\n",
       "    </tr>\n",
       "    <tr>\n",
       "      <th>top</th>\n",
       "      <td>inca_502</td>\n",
       "      <td>grant.7154229</td>\n",
       "      <td>Role of CXCL4L1 in Angiogenesis in Renal Cance...</td>\n",
       "      <td>Approximately 15-20% of sarcomas, tumors deriv...</td>\n",
       "      <td>French National Cancer Institute</td>\n",
       "      <td>INCa_DGOS_1315</td>\n",
       "      <td>Institut Gustave Roussy</td>\n",
       "      <td>NaN</td>\n",
       "      <td>2007-02-02</td>\n",
       "      <td>2010-02-02</td>\n",
       "    </tr>\n",
       "    <tr>\n",
       "      <th>freq</th>\n",
       "      <td>12</td>\n",
       "      <td>3</td>\n",
       "      <td>4</td>\n",
       "      <td>4</td>\n",
       "      <td>848</td>\n",
       "      <td>4</td>\n",
       "      <td>106</td>\n",
       "      <td>NaN</td>\n",
       "      <td>99</td>\n",
       "      <td>87</td>\n",
       "    </tr>\n",
       "    <tr>\n",
       "      <th>mean</th>\n",
       "      <td>NaN</td>\n",
       "      <td>NaN</td>\n",
       "      <td>NaN</td>\n",
       "      <td>NaN</td>\n",
       "      <td>NaN</td>\n",
       "      <td>NaN</td>\n",
       "      <td>NaN</td>\n",
       "      <td>5.212933e+05</td>\n",
       "      <td>NaN</td>\n",
       "      <td>NaN</td>\n",
       "    </tr>\n",
       "    <tr>\n",
       "      <th>std</th>\n",
       "      <td>NaN</td>\n",
       "      <td>NaN</td>\n",
       "      <td>NaN</td>\n",
       "      <td>NaN</td>\n",
       "      <td>NaN</td>\n",
       "      <td>NaN</td>\n",
       "      <td>NaN</td>\n",
       "      <td>9.529366e+05</td>\n",
       "      <td>NaN</td>\n",
       "      <td>NaN</td>\n",
       "    </tr>\n",
       "    <tr>\n",
       "      <th>min</th>\n",
       "      <td>NaN</td>\n",
       "      <td>NaN</td>\n",
       "      <td>NaN</td>\n",
       "      <td>NaN</td>\n",
       "      <td>NaN</td>\n",
       "      <td>NaN</td>\n",
       "      <td>NaN</td>\n",
       "      <td>0.000000e+00</td>\n",
       "      <td>NaN</td>\n",
       "      <td>NaN</td>\n",
       "    </tr>\n",
       "    <tr>\n",
       "      <th>25%</th>\n",
       "      <td>NaN</td>\n",
       "      <td>NaN</td>\n",
       "      <td>NaN</td>\n",
       "      <td>NaN</td>\n",
       "      <td>NaN</td>\n",
       "      <td>NaN</td>\n",
       "      <td>NaN</td>\n",
       "      <td>1.659862e+05</td>\n",
       "      <td>NaN</td>\n",
       "      <td>NaN</td>\n",
       "    </tr>\n",
       "    <tr>\n",
       "      <th>50%</th>\n",
       "      <td>NaN</td>\n",
       "      <td>NaN</td>\n",
       "      <td>NaN</td>\n",
       "      <td>NaN</td>\n",
       "      <td>NaN</td>\n",
       "      <td>NaN</td>\n",
       "      <td>NaN</td>\n",
       "      <td>3.773235e+05</td>\n",
       "      <td>NaN</td>\n",
       "      <td>NaN</td>\n",
       "    </tr>\n",
       "    <tr>\n",
       "      <th>75%</th>\n",
       "      <td>NaN</td>\n",
       "      <td>NaN</td>\n",
       "      <td>NaN</td>\n",
       "      <td>NaN</td>\n",
       "      <td>NaN</td>\n",
       "      <td>NaN</td>\n",
       "      <td>NaN</td>\n",
       "      <td>6.110280e+05</td>\n",
       "      <td>NaN</td>\n",
       "      <td>NaN</td>\n",
       "    </tr>\n",
       "    <tr>\n",
       "      <th>max</th>\n",
       "      <td>NaN</td>\n",
       "      <td>NaN</td>\n",
       "      <td>NaN</td>\n",
       "      <td>NaN</td>\n",
       "      <td>NaN</td>\n",
       "      <td>NaN</td>\n",
       "      <td>NaN</td>\n",
       "      <td>1.406214e+07</td>\n",
       "      <td>NaN</td>\n",
       "      <td>NaN</td>\n",
       "    </tr>\n",
       "  </tbody>\n",
       "</table>\n",
       "</div>"
      ],
      "text/plain": [
       "         INCA ID  Dimensions ID  \\\n",
       "count       1820           1820   \n",
       "unique      1001           1627   \n",
       "top     inca_502  grant.7154229   \n",
       "freq          12              3   \n",
       "mean         NaN            NaN   \n",
       "std          NaN            NaN   \n",
       "min          NaN            NaN   \n",
       "25%          NaN            NaN   \n",
       "50%          NaN            NaN   \n",
       "75%          NaN            NaN   \n",
       "max          NaN            NaN   \n",
       "\n",
       "                                                    Title  \\\n",
       "count                                                1820   \n",
       "unique                                               1546   \n",
       "top     Role of CXCL4L1 in Angiogenesis in Renal Cance...   \n",
       "freq                                                    4   \n",
       "mean                                                  NaN   \n",
       "std                                                   NaN   \n",
       "min                                                   NaN   \n",
       "25%                                                   NaN   \n",
       "50%                                                   NaN   \n",
       "75%                                                   NaN   \n",
       "max                                                   NaN   \n",
       "\n",
       "                                                 Abstract  \\\n",
       "count                                                1778   \n",
       "unique                                               1491   \n",
       "top     Approximately 15-20% of sarcomas, tumors deriv...   \n",
       "freq                                                    4   \n",
       "mean                                                  NaN   \n",
       "std                                                   NaN   \n",
       "min                                                   NaN   \n",
       "25%                                                   NaN   \n",
       "50%                                                   NaN   \n",
       "75%                                                   NaN   \n",
       "max                                                   NaN   \n",
       "\n",
       "                                  Funder       Reference  \\\n",
       "count                               1820            1820   \n",
       "unique                                39            1550   \n",
       "top     French National Cancer Institute  INCa_DGOS_1315   \n",
       "freq                                 848               4   \n",
       "mean                                 NaN             NaN   \n",
       "std                                  NaN             NaN   \n",
       "min                                  NaN             NaN   \n",
       "25%                                  NaN             NaN   \n",
       "50%                                  NaN             NaN   \n",
       "75%                                  NaN             NaN   \n",
       "max                                  NaN             NaN   \n",
       "\n",
       "                   Organisation  Funding Amount ($)  Start Date    End Date  \n",
       "count                      1819        1.820000e+03        1782        1764  \n",
       "unique                      699                 NaN         382         493  \n",
       "top     Institut Gustave Roussy                 NaN  2007-02-02  2010-02-02  \n",
       "freq                        106                 NaN          99          87  \n",
       "mean                        NaN        5.212933e+05         NaN         NaN  \n",
       "std                         NaN        9.529366e+05         NaN         NaN  \n",
       "min                         NaN        0.000000e+00         NaN         NaN  \n",
       "25%                         NaN        1.659862e+05         NaN         NaN  \n",
       "50%                         NaN        3.773235e+05         NaN         NaN  \n",
       "75%                         NaN        6.110280e+05         NaN         NaN  \n",
       "max                         NaN        1.406214e+07         NaN         NaN  "
      ]
     },
     "execution_count": 8,
     "metadata": {},
     "output_type": "execute_result"
    }
   ],
   "source": [
    "grants_details.describe(include = 'all')"
   ]
  },
  {
   "cell_type": "code",
   "execution_count": 9,
   "metadata": {
    "scrolled": false
   },
   "outputs": [
    {
     "data": {
      "text/html": [
       "<div>\n",
       "<style scoped>\n",
       "    .dataframe tbody tr th:only-of-type {\n",
       "        vertical-align: middle;\n",
       "    }\n",
       "\n",
       "    .dataframe tbody tr th {\n",
       "        vertical-align: top;\n",
       "    }\n",
       "\n",
       "    .dataframe thead th {\n",
       "        text-align: right;\n",
       "    }\n",
       "</style>\n",
       "<table border=\"1\" class=\"dataframe\">\n",
       "  <thead>\n",
       "    <tr style=\"text-align: right;\">\n",
       "      <th></th>\n",
       "      <th>INCA ID</th>\n",
       "      <th>Dimensions ID</th>\n",
       "      <th>Additional DIM ID to combine</th>\n",
       "      <th>Additional DIM ID to combine 2</th>\n",
       "      <th>ORCID</th>\n",
       "      <th>title</th>\n",
       "      <th>doi</th>\n",
       "      <th>issue</th>\n",
       "      <th>pages</th>\n",
       "      <th>Pubmed ID</th>\n",
       "      <th>volume</th>\n",
       "      <th>Relative Citation Ratio</th>\n",
       "      <th>Times Cited</th>\n",
       "      <th>altmetric</th>\n",
       "      <th>Open access</th>\n",
       "      <th>Author Names</th>\n",
       "      <th>Journal Title</th>\n",
       "      <th>Publication Year</th>\n",
       "      <th>Publication Date</th>\n",
       "    </tr>\n",
       "  </thead>\n",
       "  <tbody>\n",
       "    <tr>\n",
       "      <th>count</th>\n",
       "      <td>145121</td>\n",
       "      <td>145121</td>\n",
       "      <td>29643</td>\n",
       "      <td>2763</td>\n",
       "      <td>32080</td>\n",
       "      <td>145121</td>\n",
       "      <td>131335</td>\n",
       "      <td>127929</td>\n",
       "      <td>142897</td>\n",
       "      <td>1.053860e+05</td>\n",
       "      <td>140591</td>\n",
       "      <td>97820.000000</td>\n",
       "      <td>145121.000000</td>\n",
       "      <td>30482.000000</td>\n",
       "      <td>43809</td>\n",
       "      <td>145121</td>\n",
       "      <td>140296</td>\n",
       "      <td>145109.000000</td>\n",
       "      <td>145109</td>\n",
       "    </tr>\n",
       "    <tr>\n",
       "      <th>unique</th>\n",
       "      <td>965</td>\n",
       "      <td>965</td>\n",
       "      <td>95</td>\n",
       "      <td>9</td>\n",
       "      <td>198</td>\n",
       "      <td>107243</td>\n",
       "      <td>97583</td>\n",
       "      <td>1607</td>\n",
       "      <td>53204</td>\n",
       "      <td>NaN</td>\n",
       "      <td>1591</td>\n",
       "      <td>NaN</td>\n",
       "      <td>NaN</td>\n",
       "      <td>NaN</td>\n",
       "      <td>1</td>\n",
       "      <td>102384</td>\n",
       "      <td>4566</td>\n",
       "      <td>NaN</td>\n",
       "      <td>6237</td>\n",
       "    </tr>\n",
       "    <tr>\n",
       "      <th>top</th>\n",
       "      <td>inca_542</td>\n",
       "      <td>ur.01074225776.01</td>\n",
       "      <td>ur.01204666360.03</td>\n",
       "      <td>ur.010226620247.19</td>\n",
       "      <td>0000-0003-4181-8071</td>\n",
       "      <td>Reply</td>\n",
       "      <td>10.1038/bmt.2016.102</td>\n",
       "      <td>1</td>\n",
       "      <td>1-9</td>\n",
       "      <td>NaN</td>\n",
       "      <td>28</td>\n",
       "      <td>NaN</td>\n",
       "      <td>NaN</td>\n",
       "      <td>NaN</td>\n",
       "      <td>True</td>\n",
       "      <td>Jeffrey W. Pollard, Alla Danilkovitch-Miagkova...</td>\n",
       "      <td>Journal of Clinical Oncology</td>\n",
       "      <td>NaN</td>\n",
       "      <td>2011-05-09</td>\n",
       "    </tr>\n",
       "    <tr>\n",
       "      <th>freq</th>\n",
       "      <td>1272</td>\n",
       "      <td>1272</td>\n",
       "      <td>1272</td>\n",
       "      <td>488</td>\n",
       "      <td>1272</td>\n",
       "      <td>37</td>\n",
       "      <td>10</td>\n",
       "      <td>16673</td>\n",
       "      <td>322</td>\n",
       "      <td>NaN</td>\n",
       "      <td>2505</td>\n",
       "      <td>NaN</td>\n",
       "      <td>NaN</td>\n",
       "      <td>NaN</td>\n",
       "      <td>43809</td>\n",
       "      <td>538</td>\n",
       "      <td>4577</td>\n",
       "      <td>NaN</td>\n",
       "      <td>1760</td>\n",
       "    </tr>\n",
       "    <tr>\n",
       "      <th>mean</th>\n",
       "      <td>NaN</td>\n",
       "      <td>NaN</td>\n",
       "      <td>NaN</td>\n",
       "      <td>NaN</td>\n",
       "      <td>NaN</td>\n",
       "      <td>NaN</td>\n",
       "      <td>NaN</td>\n",
       "      <td>NaN</td>\n",
       "      <td>NaN</td>\n",
       "      <td>1.770133e+07</td>\n",
       "      <td>NaN</td>\n",
       "      <td>1.569821</td>\n",
       "      <td>29.756348</td>\n",
       "      <td>9.063939</td>\n",
       "      <td>NaN</td>\n",
       "      <td>NaN</td>\n",
       "      <td>NaN</td>\n",
       "      <td>2006.900737</td>\n",
       "      <td>NaN</td>\n",
       "    </tr>\n",
       "    <tr>\n",
       "      <th>std</th>\n",
       "      <td>NaN</td>\n",
       "      <td>NaN</td>\n",
       "      <td>NaN</td>\n",
       "      <td>NaN</td>\n",
       "      <td>NaN</td>\n",
       "      <td>NaN</td>\n",
       "      <td>NaN</td>\n",
       "      <td>NaN</td>\n",
       "      <td>NaN</td>\n",
       "      <td>7.572868e+06</td>\n",
       "      <td>NaN</td>\n",
       "      <td>3.939357</td>\n",
       "      <td>97.346231</td>\n",
       "      <td>48.115127</td>\n",
       "      <td>NaN</td>\n",
       "      <td>NaN</td>\n",
       "      <td>NaN</td>\n",
       "      <td>8.572783</td>\n",
       "      <td>NaN</td>\n",
       "    </tr>\n",
       "    <tr>\n",
       "      <th>min</th>\n",
       "      <td>NaN</td>\n",
       "      <td>NaN</td>\n",
       "      <td>NaN</td>\n",
       "      <td>NaN</td>\n",
       "      <td>NaN</td>\n",
       "      <td>NaN</td>\n",
       "      <td>NaN</td>\n",
       "      <td>NaN</td>\n",
       "      <td>NaN</td>\n",
       "      <td>7.239000e+03</td>\n",
       "      <td>NaN</td>\n",
       "      <td>0.000000</td>\n",
       "      <td>0.000000</td>\n",
       "      <td>0.000000</td>\n",
       "      <td>NaN</td>\n",
       "      <td>NaN</td>\n",
       "      <td>NaN</td>\n",
       "      <td>1949.000000</td>\n",
       "      <td>NaN</td>\n",
       "    </tr>\n",
       "    <tr>\n",
       "      <th>25%</th>\n",
       "      <td>NaN</td>\n",
       "      <td>NaN</td>\n",
       "      <td>NaN</td>\n",
       "      <td>NaN</td>\n",
       "      <td>NaN</td>\n",
       "      <td>NaN</td>\n",
       "      <td>NaN</td>\n",
       "      <td>NaN</td>\n",
       "      <td>NaN</td>\n",
       "      <td>1.128256e+07</td>\n",
       "      <td>NaN</td>\n",
       "      <td>0.230000</td>\n",
       "      <td>0.000000</td>\n",
       "      <td>1.000000</td>\n",
       "      <td>NaN</td>\n",
       "      <td>NaN</td>\n",
       "      <td>NaN</td>\n",
       "      <td>2002.000000</td>\n",
       "      <td>NaN</td>\n",
       "    </tr>\n",
       "    <tr>\n",
       "      <th>50%</th>\n",
       "      <td>NaN</td>\n",
       "      <td>NaN</td>\n",
       "      <td>NaN</td>\n",
       "      <td>NaN</td>\n",
       "      <td>NaN</td>\n",
       "      <td>NaN</td>\n",
       "      <td>NaN</td>\n",
       "      <td>NaN</td>\n",
       "      <td>NaN</td>\n",
       "      <td>1.868756e+07</td>\n",
       "      <td>NaN</td>\n",
       "      <td>0.720000</td>\n",
       "      <td>6.000000</td>\n",
       "      <td>2.000000</td>\n",
       "      <td>NaN</td>\n",
       "      <td>NaN</td>\n",
       "      <td>NaN</td>\n",
       "      <td>2009.000000</td>\n",
       "      <td>NaN</td>\n",
       "    </tr>\n",
       "    <tr>\n",
       "      <th>75%</th>\n",
       "      <td>NaN</td>\n",
       "      <td>NaN</td>\n",
       "      <td>NaN</td>\n",
       "      <td>NaN</td>\n",
       "      <td>NaN</td>\n",
       "      <td>NaN</td>\n",
       "      <td>NaN</td>\n",
       "      <td>NaN</td>\n",
       "      <td>NaN</td>\n",
       "      <td>2.402514e+07</td>\n",
       "      <td>NaN</td>\n",
       "      <td>1.690000</td>\n",
       "      <td>27.000000</td>\n",
       "      <td>5.000000</td>\n",
       "      <td>NaN</td>\n",
       "      <td>NaN</td>\n",
       "      <td>NaN</td>\n",
       "      <td>2014.000000</td>\n",
       "      <td>NaN</td>\n",
       "    </tr>\n",
       "    <tr>\n",
       "      <th>max</th>\n",
       "      <td>NaN</td>\n",
       "      <td>NaN</td>\n",
       "      <td>NaN</td>\n",
       "      <td>NaN</td>\n",
       "      <td>NaN</td>\n",
       "      <td>NaN</td>\n",
       "      <td>NaN</td>\n",
       "      <td>NaN</td>\n",
       "      <td>NaN</td>\n",
       "      <td>2.958951e+07</td>\n",
       "      <td>NaN</td>\n",
       "      <td>249.310000</td>\n",
       "      <td>5458.000000</td>\n",
       "      <td>2113.000000</td>\n",
       "      <td>NaN</td>\n",
       "      <td>NaN</td>\n",
       "      <td>NaN</td>\n",
       "      <td>2018.000000</td>\n",
       "      <td>NaN</td>\n",
       "    </tr>\n",
       "  </tbody>\n",
       "</table>\n",
       "</div>"
      ],
      "text/plain": [
       "         INCA ID      Dimensions ID Additional DIM ID to combine  \\\n",
       "count     145121             145121                        29643   \n",
       "unique       965                965                           95   \n",
       "top     inca_542  ur.01074225776.01            ur.01204666360.03   \n",
       "freq        1272               1272                         1272   \n",
       "mean         NaN                NaN                          NaN   \n",
       "std          NaN                NaN                          NaN   \n",
       "min          NaN                NaN                          NaN   \n",
       "25%          NaN                NaN                          NaN   \n",
       "50%          NaN                NaN                          NaN   \n",
       "75%          NaN                NaN                          NaN   \n",
       "max          NaN                NaN                          NaN   \n",
       "\n",
       "       Additional DIM ID to combine 2                ORCID   title  \\\n",
       "count                            2763                32080  145121   \n",
       "unique                              9                  198  107243   \n",
       "top                ur.010226620247.19  0000-0003-4181-8071   Reply   \n",
       "freq                              488                 1272      37   \n",
       "mean                              NaN                  NaN     NaN   \n",
       "std                               NaN                  NaN     NaN   \n",
       "min                               NaN                  NaN     NaN   \n",
       "25%                               NaN                  NaN     NaN   \n",
       "50%                               NaN                  NaN     NaN   \n",
       "75%                               NaN                  NaN     NaN   \n",
       "max                               NaN                  NaN     NaN   \n",
       "\n",
       "                         doi   issue   pages     Pubmed ID  volume  \\\n",
       "count                 131335  127929  142897  1.053860e+05  140591   \n",
       "unique                 97583    1607   53204           NaN    1591   \n",
       "top     10.1038/bmt.2016.102       1     1-9           NaN      28   \n",
       "freq                      10   16673     322           NaN    2505   \n",
       "mean                     NaN     NaN     NaN  1.770133e+07     NaN   \n",
       "std                      NaN     NaN     NaN  7.572868e+06     NaN   \n",
       "min                      NaN     NaN     NaN  7.239000e+03     NaN   \n",
       "25%                      NaN     NaN     NaN  1.128256e+07     NaN   \n",
       "50%                      NaN     NaN     NaN  1.868756e+07     NaN   \n",
       "75%                      NaN     NaN     NaN  2.402514e+07     NaN   \n",
       "max                      NaN     NaN     NaN  2.958951e+07     NaN   \n",
       "\n",
       "        Relative Citation Ratio    Times Cited     altmetric Open access  \\\n",
       "count              97820.000000  145121.000000  30482.000000       43809   \n",
       "unique                      NaN            NaN           NaN           1   \n",
       "top                         NaN            NaN           NaN        True   \n",
       "freq                        NaN            NaN           NaN       43809   \n",
       "mean                   1.569821      29.756348      9.063939         NaN   \n",
       "std                    3.939357      97.346231     48.115127         NaN   \n",
       "min                    0.000000       0.000000      0.000000         NaN   \n",
       "25%                    0.230000       0.000000      1.000000         NaN   \n",
       "50%                    0.720000       6.000000      2.000000         NaN   \n",
       "75%                    1.690000      27.000000      5.000000         NaN   \n",
       "max                  249.310000    5458.000000   2113.000000         NaN   \n",
       "\n",
       "                                             Author Names  \\\n",
       "count                                              145121   \n",
       "unique                                             102384   \n",
       "top     Jeffrey W. Pollard, Alla Danilkovitch-Miagkova...   \n",
       "freq                                                  538   \n",
       "mean                                                  NaN   \n",
       "std                                                   NaN   \n",
       "min                                                   NaN   \n",
       "25%                                                   NaN   \n",
       "50%                                                   NaN   \n",
       "75%                                                   NaN   \n",
       "max                                                   NaN   \n",
       "\n",
       "                       Journal Title  Publication Year Publication Date  \n",
       "count                         140296     145109.000000           145109  \n",
       "unique                          4566               NaN             6237  \n",
       "top     Journal of Clinical Oncology               NaN       2011-05-09  \n",
       "freq                            4577               NaN             1760  \n",
       "mean                             NaN       2006.900737              NaN  \n",
       "std                              NaN          8.572783              NaN  \n",
       "min                              NaN       1949.000000              NaN  \n",
       "25%                              NaN       2002.000000              NaN  \n",
       "50%                              NaN       2009.000000              NaN  \n",
       "75%                              NaN       2014.000000              NaN  \n",
       "max                              NaN       2018.000000              NaN  "
      ]
     },
     "execution_count": 9,
     "metadata": {},
     "output_type": "execute_result"
    }
   ],
   "source": [
    "pub_details.describe(include='all')"
   ]
  },
  {
   "cell_type": "markdown",
   "metadata": {},
   "source": [
    "## Funder Name Quality"
   ]
  },
  {
   "cell_type": "code",
   "execution_count": 10,
   "metadata": {},
   "outputs": [],
   "source": [
    "grants_details['funder_clean'] = grants_details['Funder'].fillna('')"
   ]
  },
  {
   "cell_type": "code",
   "execution_count": 11,
   "metadata": {},
   "outputs": [
    {
     "data": {
      "text/plain": [
       "True    1.0\n",
       "Name: funder_flag, dtype: float64"
      ]
     },
     "execution_count": 11,
     "metadata": {},
     "output_type": "execute_result"
    }
   ],
   "source": [
    "grants_details['funder_flag'] = grants_details['funder_clean'].apply(lambda x: x!='')\n",
    "grants_details['funder_flag'].value_counts(normalize = True)"
   ]
  },
  {
   "cell_type": "markdown",
   "metadata": {},
   "source": [
    "All grants have a Funder."
   ]
  },
  {
   "cell_type": "code",
   "execution_count": 12,
   "metadata": {},
   "outputs": [
    {
     "name": "stdout",
     "output_type": "stream",
     "text": [
      "39 different Funder Names\n"
     ]
    }
   ],
   "source": [
    "print(\"{} different Funder Names\".format(len(grants_details['funder_clean'].value_counts())))"
   ]
  },
  {
   "cell_type": "code",
   "execution_count": 13,
   "metadata": {},
   "outputs": [
    {
     "data": {
      "text/plain": [
       "French National Cancer Institute                   848\n",
       "Ministère des Affaires sociales et de la Santé     523\n",
       "French Institute of Health and Medical Research    162\n",
       "French National Research Agency                    122\n",
       "Swiss National Science Foundation                   42\n",
       "Name: funder_clean, dtype: int64"
      ]
     },
     "execution_count": 13,
     "metadata": {},
     "output_type": "execute_result"
    }
   ],
   "source": [
    "grants_details['funder_clean'].value_counts().head()"
   ]
  },
  {
   "cell_type": "code",
   "execution_count": 14,
   "metadata": {},
   "outputs": [],
   "source": [
    "grants_details['funder_clean'] = grants_details['funder_clean'].str.upper()\n",
    "\n",
    "# Remove accents\n",
    "grants_details['funder_clean'] = grants_details['funder_clean'].apply(lambda x: unidecode.unidecode(x))\n",
    "\n",
    "grants_details['funder_clean'] = grants_details['funder_clean'].str.replace(r'\\s+', ' ')\n",
    "grants_details['funder_clean'] = grants_details['funder_clean'].str.strip()"
   ]
  },
  {
   "cell_type": "code",
   "execution_count": 15,
   "metadata": {},
   "outputs": [
    {
     "name": "stdout",
     "output_type": "stream",
     "text": [
      "39 different Funder Names\n"
     ]
    }
   ],
   "source": [
    "print(\"{} different Funder Names\".format(len(grants_details['funder_clean'].value_counts())))"
   ]
  },
  {
   "cell_type": "code",
   "execution_count": 16,
   "metadata": {},
   "outputs": [
    {
     "data": {
      "text/plain": [
       "FRENCH NATIONAL CANCER INSTITUTE                   848\n",
       "MINISTERE DES AFFAIRES SOCIALES ET DE LA SANTE     523\n",
       "FRENCH INSTITUTE OF HEALTH AND MEDICAL RESEARCH    162\n",
       "FRENCH NATIONAL RESEARCH AGENCY                    122\n",
       "SWISS NATIONAL SCIENCE FOUNDATION                   42\n",
       "Name: funder_clean, dtype: int64"
      ]
     },
     "execution_count": 16,
     "metadata": {},
     "output_type": "execute_result"
    }
   ],
   "source": [
    "grants_details['funder_clean'].value_counts().head()"
   ]
  },
  {
   "cell_type": "markdown",
   "metadata": {},
   "source": [
    "Funder names are clean."
   ]
  },
  {
   "cell_type": "markdown",
   "metadata": {},
   "source": [
    "## Institution Names Quality"
   ]
  },
  {
   "cell_type": "code",
   "execution_count": 17,
   "metadata": {},
   "outputs": [],
   "source": [
    "grants_details['org_clean'] = grants_details['Organisation'].fillna('')"
   ]
  },
  {
   "cell_type": "code",
   "execution_count": 18,
   "metadata": {},
   "outputs": [
    {
     "data": {
      "text/plain": [
       "True     0.999451\n",
       "False    0.000549\n",
       "Name: org_flag, dtype: float64"
      ]
     },
     "execution_count": 18,
     "metadata": {},
     "output_type": "execute_result"
    }
   ],
   "source": [
    "grants_details['org_flag'] = grants_details['org_clean'].apply(lambda x: x!='')\n",
    "grants_details['org_flag'].value_counts(normalize = True)"
   ]
  },
  {
   "cell_type": "markdown",
   "metadata": {},
   "source": [
    "99.9% of grants have an organization."
   ]
  },
  {
   "cell_type": "code",
   "execution_count": 19,
   "metadata": {
    "scrolled": true
   },
   "outputs": [
    {
     "name": "stdout",
     "output_type": "stream",
     "text": [
      "700 different Institution Names\n"
     ]
    }
   ],
   "source": [
    "print(\"{} different Institution Names\".format(len(grants_details['org_clean'].value_counts())))"
   ]
  },
  {
   "cell_type": "code",
   "execution_count": 20,
   "metadata": {},
   "outputs": [
    {
     "data": {
      "text/plain": [
       "Institut Gustave Roussy     106\n",
       "Institut Curie               84\n",
       "Centre Léon Bérard           54\n",
       "Institut Paoli-Calmettes     37\n",
       "Institut Bergonié            24\n",
       "Name: org_clean, dtype: int64"
      ]
     },
     "execution_count": 20,
     "metadata": {},
     "output_type": "execute_result"
    }
   ],
   "source": [
    "grants_details['org_clean'].value_counts().head()"
   ]
  },
  {
   "cell_type": "code",
   "execution_count": 21,
   "metadata": {},
   "outputs": [
    {
     "data": {
      "text/plain": [
       "Institut Paoli-Calmettes                                                                       37\n",
       "Institut Paoli Calmettes                                                                        5\n",
       "Inserm U1068 -  Centre de recherche en cancérologie de Marseille - Institut Paoli Calmettes     3\n",
       "UMR912 Inserm-IRD-Université d’Aix Marseille SESSTIM - Institut Paoli Calmettes                 2\n",
       "Inserm U1068 - Centre de recherche en cancérologie de Marseille - Institut Paoli-Calmettes      1\n",
       "UMR7258  Centre de recherche en cancérologie de Marseille (CRCM) - Institut Paoli Calmettes     1\n",
       "Name: org_clean, dtype: int64"
      ]
     },
     "execution_count": 21,
     "metadata": {},
     "output_type": "execute_result"
    }
   ],
   "source": [
    "string = \"Paoli\"\n",
    "grants_details[grants_details['org_clean'].str.contains(string)]['org_clean'].value_counts()"
   ]
  },
  {
   "cell_type": "markdown",
   "metadata": {},
   "source": [
    "Organisation names are not clean at all."
   ]
  },
  {
   "cell_type": "markdown",
   "metadata": {},
   "source": [
    "### Cleaning Institution Names"
   ]
  },
  {
   "cell_type": "code",
   "execution_count": 22,
   "metadata": {},
   "outputs": [],
   "source": [
    "grants_details['org_clean'] = grants_details['org_clean'].str.upper()\n",
    "grants_details['org_clean'] = grants_details['org_clean'].str.strip()\n",
    "grants_details['org_clean'] = grants_details['org_clean'].str.replace(r'-', ' ')\n",
    "grants_details['org_clean'] = grants_details['org_clean'].str.replace(r'\\s+', ' ')\n",
    "\n",
    "# Remove accents\n",
    "grants_details['org_clean'] = grants_details['org_clean'].apply(lambda x: unidecode.unidecode(x))\n",
    "\n",
    "grants_details['org_clean'] = grants_details['org_clean'].str.replace(r'^(CNRS INSERM|CNRS|INSERM|) ?UM?R? ?\\d+ -? ?', ' ')\n",
    "grants_details['org_clean'] = grants_details['org_clean'].str.replace(r'APHP', ' ')\n",
    "grants_details['org_clean'] = grants_details['org_clean'].str.replace('CURIE INSTITUTE', 'INSTITUT CURIE')\n",
    "grants_details['org_clean'] = grants_details['org_clean'].str.replace(r'\\(.+\\)', 'INSTITUT CURIE')\n",
    "grants_details['org_clean'] = grants_details['org_clean'].str.replace(r'\\s+', ' ')\n",
    "grants_details['org_clean'] = grants_details['org_clean'].str.strip()"
   ]
  },
  {
   "cell_type": "code",
   "execution_count": 23,
   "metadata": {},
   "outputs": [
    {
     "data": {
      "text/plain": [
       "INSTITUT GUSTAVE ROUSSY     132\n",
       "INSTITUT CURIE              104\n",
       "CENTRE LEON BERARD           54\n",
       "HOPITAL SAINT LOUIS          44\n",
       "INSTITUT PAOLI CALMETTES     42\n",
       "Name: org_clean, dtype: int64"
      ]
     },
     "execution_count": 23,
     "metadata": {},
     "output_type": "execute_result"
    }
   ],
   "source": [
    "grants_details['org_clean'].value_counts().head(5)"
   ]
  },
  {
   "cell_type": "code",
   "execution_count": 24,
   "metadata": {
    "scrolled": true
   },
   "outputs": [
    {
     "name": "stdout",
     "output_type": "stream",
     "text": [
      "607 different Clean Institution Names\n"
     ]
    }
   ],
   "source": [
    "print(\"{} different Clean Institution Names\".format(len(grants_details['org_clean'].value_counts())))"
   ]
  },
  {
   "cell_type": "markdown",
   "metadata": {},
   "source": [
    "**To be continued...**"
   ]
  },
  {
   "cell_type": "markdown",
   "metadata": {},
   "source": [
    "## ORCID Names Quality"
   ]
  },
  {
   "cell_type": "code",
   "execution_count": 25,
   "metadata": {},
   "outputs": [],
   "source": [
    "pub_details['orcid_flag'] = pub_details['ORCID'].notnull()"
   ]
  },
  {
   "cell_type": "code",
   "execution_count": 26,
   "metadata": {
    "scrolled": false
   },
   "outputs": [
    {
     "data": {
      "text/plain": [
       "False    0.778943\n",
       "True     0.221057\n",
       "Name: orcid_flag, dtype: float64"
      ]
     },
     "execution_count": 26,
     "metadata": {},
     "output_type": "execute_result"
    }
   ],
   "source": [
    "pub_details['orcid_flag'].value_counts(normalize = True)"
   ]
  },
  {
   "cell_type": "markdown",
   "metadata": {},
   "source": [
    "Only 22% of publications have an ORCID code."
   ]
  },
  {
   "cell_type": "code",
   "execution_count": 27,
   "metadata": {},
   "outputs": [
    {
     "data": {
      "text/plain": [
       "0000-0003-4181-8071    1272\n",
       "0000-0002-9334-4405    1114\n",
       "0000-0001-7190-120X     875\n",
       "0000-0003-2574-3874     776\n",
       "0000-0002-0400-1954     767\n",
       "Name: ORCID, dtype: int64"
      ]
     },
     "execution_count": 27,
     "metadata": {},
     "output_type": "execute_result"
    }
   ],
   "source": [
    "pub_details['ORCID'].value_counts().head()"
   ]
  },
  {
   "cell_type": "code",
   "execution_count": 28,
   "metadata": {},
   "outputs": [],
   "source": [
    "orcid = pub_details[pub_details['ORCID'].notnull()][['INCA ID', 'ORCID']].reset_index(drop = True)"
   ]
  },
  {
   "cell_type": "code",
   "execution_count": 29,
   "metadata": {},
   "outputs": [
    {
     "data": {
      "text/html": [
       "<div>\n",
       "<style scoped>\n",
       "    .dataframe tbody tr th:only-of-type {\n",
       "        vertical-align: middle;\n",
       "    }\n",
       "\n",
       "    .dataframe tbody tr th {\n",
       "        vertical-align: top;\n",
       "    }\n",
       "\n",
       "    .dataframe thead th {\n",
       "        text-align: right;\n",
       "    }\n",
       "</style>\n",
       "<table border=\"1\" class=\"dataframe\">\n",
       "  <thead>\n",
       "    <tr style=\"text-align: right;\">\n",
       "      <th></th>\n",
       "      <th>INCA ID</th>\n",
       "      <th>ORCID</th>\n",
       "    </tr>\n",
       "  </thead>\n",
       "  <tbody>\n",
       "    <tr>\n",
       "      <th>23860</th>\n",
       "      <td>inca_823</td>\n",
       "      <td>0000-0001-5088-0155</td>\n",
       "    </tr>\n",
       "    <tr>\n",
       "      <th>23865</th>\n",
       "      <td>inca_823</td>\n",
       "      <td>0000-0001-5088-0155</td>\n",
       "    </tr>\n",
       "    <tr>\n",
       "      <th>23866</th>\n",
       "      <td>inca_823</td>\n",
       "      <td>0000-0001-5088-0155</td>\n",
       "    </tr>\n",
       "    <tr>\n",
       "      <th>23867</th>\n",
       "      <td>inca_823</td>\n",
       "      <td>0000-0001-5088-0155</td>\n",
       "    </tr>\n",
       "    <tr>\n",
       "      <th>23868</th>\n",
       "      <td>inca_823</td>\n",
       "      <td>0000-0001-5088-0155</td>\n",
       "    </tr>\n",
       "  </tbody>\n",
       "</table>\n",
       "</div>"
      ],
      "text/plain": [
       "        INCA ID                ORCID\n",
       "23860  inca_823  0000-0001-5088-0155\n",
       "23865  inca_823  0000-0001-5088-0155\n",
       "23866  inca_823  0000-0001-5088-0155\n",
       "23867  inca_823  0000-0001-5088-0155\n",
       "23868  inca_823  0000-0001-5088-0155"
      ]
     },
     "execution_count": 29,
     "metadata": {},
     "output_type": "execute_result"
    }
   ],
   "source": [
    "orcid.sort_values('ORCID').head()"
   ]
  },
  {
   "cell_type": "code",
   "execution_count": 30,
   "metadata": {},
   "outputs": [
    {
     "data": {
      "text/html": [
       "<div>\n",
       "<style scoped>\n",
       "    .dataframe tbody tr th:only-of-type {\n",
       "        vertical-align: middle;\n",
       "    }\n",
       "\n",
       "    .dataframe tbody tr th {\n",
       "        vertical-align: top;\n",
       "    }\n",
       "\n",
       "    .dataframe thead th {\n",
       "        text-align: right;\n",
       "    }\n",
       "</style>\n",
       "<table border=\"1\" class=\"dataframe\">\n",
       "  <thead>\n",
       "    <tr style=\"text-align: right;\">\n",
       "      <th></th>\n",
       "      <th>INCA ID</th>\n",
       "      <th>ORCID</th>\n",
       "    </tr>\n",
       "  </thead>\n",
       "  <tbody>\n",
       "    <tr>\n",
       "      <th>24247</th>\n",
       "      <td>inca_847</td>\n",
       "      <td>0000-0003-4839-4347</td>\n",
       "    </tr>\n",
       "    <tr>\n",
       "      <th>24249</th>\n",
       "      <td>inca_847</td>\n",
       "      <td>0000-0003-4839-4347</td>\n",
       "    </tr>\n",
       "    <tr>\n",
       "      <th>24250</th>\n",
       "      <td>inca_847</td>\n",
       "      <td>0000-0003-4839-4347</td>\n",
       "    </tr>\n",
       "    <tr>\n",
       "      <th>24236</th>\n",
       "      <td>inca_847</td>\n",
       "      <td>0000-0003-4839-4347</td>\n",
       "    </tr>\n",
       "    <tr>\n",
       "      <th>24253</th>\n",
       "      <td>inca_847</td>\n",
       "      <td>0000-0003-4839-4347</td>\n",
       "    </tr>\n",
       "  </tbody>\n",
       "</table>\n",
       "</div>"
      ],
      "text/plain": [
       "        INCA ID                ORCID\n",
       "24247  inca_847  0000-0003-4839-4347\n",
       "24249  inca_847  0000-0003-4839-4347\n",
       "24250  inca_847  0000-0003-4839-4347\n",
       "24236  inca_847  0000-0003-4839-4347\n",
       "24253  inca_847  0000-0003-4839-4347"
      ]
     },
     "execution_count": 30,
     "metadata": {},
     "output_type": "execute_result"
    }
   ],
   "source": [
    "orcid.sort_values('ORCID').tail()"
   ]
  },
  {
   "cell_type": "markdown",
   "metadata": {},
   "source": [
    "ORCID codes seem clean."
   ]
  },
  {
   "cell_type": "code",
   "execution_count": null,
   "metadata": {},
   "outputs": [],
   "source": []
  },
  {
   "cell_type": "code",
   "execution_count": null,
   "metadata": {},
   "outputs": [],
   "source": []
  },
  {
   "cell_type": "markdown",
   "metadata": {},
   "source": [
    "## Sandbox"
   ]
  },
  {
   "cell_type": "code",
   "execution_count": 31,
   "metadata": {
    "scrolled": false
   },
   "outputs": [],
   "source": [
    "grants = ['DGOS_5411', 'DGOS_5413', 'DGOS_5415', 'DGOS_5419', 'DGOS_5422', 'DGOS_5424', 'DGOS_5430', 'DGOS_5432', 'DGOS_5436', 'DGOS_5437', 'DGOS_5459', 'DGOS_5469', 'DGOS_5477', 'DGOS_5480', 'DGOS_5483', 'DGOS_5485', 'DGOS_5491', 'DGOS_5492', 'DGOS_5497', 'DGOS_5500', 'DGOS_5506', 'DGOS_5507', 'DGOS_5515', 'DGOS_5520', 'DGOS_5523', 'DGOS_5534', 'DGOS_5535', 'DGOS_5536', 'DGOS_5538', 'DGOS_5539', 'DGOS_5541', 'DGOS_5544', 'DGOS_5548', 'DGOS_5549', 'DGOS_5559', 'DGOS_5567', 'DGOS_5569', 'DGOS_5571', 'DGOS_5574', 'DGOS_5581', 'DGOS_5584', 'DGOS_5586', 'DGOS_5588', 'DGOS_5589', 'DGOS_5590', 'DGOS_5592', 'DGOS_5596', 'DGOS_5597', 'DGOS_5603', 'DGOS_5604', 'DGOS_5611', 'DGOS_5616', 'DGOS_5619', 'DGOS_5631', 'DGOS_5650', 'DGOS_5653', 'DGOS_5656', 'INCa_DGOS_5667', 'INCa_DGOS_5669', 'INCa_DGOS_5678', 'INCa_DGOS_5687', 'INCa_DGOS_5694', 'INCa_DGOS_5697', 'INCa_DGOS_5702', 'INCa_DGOS_5710', 'INCa_DGOS_5714', 'INCa_DGOS_5716', 'INCa_DGOS_5720', 'INCa_DGOS_5728', 'INCa_DGOS_5732', 'INCa_DGOS_5733', 'INCa_DGOS_5742', 'INCa_DGOS_5747', 'INCa_DGOS_5748', 'INCa_DGOS_5749', 'INCa_DGOS_5750', 'INCa_DGOS_5776', 'INCa_DGOS_5780', 'INCa_DGOS_5790', 'INCa_DGOS_5797', 'INCa_DGOS_5807', 'INCa_DGOS_5819', 'INCa_5827', 'INCa_5828', 'INCa_5835', 'INCa_5839', 'INCa_5850', 'INCa_5852', 'INCa_5864', 'INCa_5865', 'INCa_5866', 'INCa_5869', 'INCa_5879', 'INCa_5880', 'INCa_5907', 'INCa_5911', 'INCa_5918', 'INCa_5922', 'INCa_5930', 'INCa_5933', 'INCa_5934', 'INCa_5940', 'INCa_5944', 'INCa_5954', 'INCa_5959', 'INCa_5960', 'INCa_5964', 'INCa_5975', 'INCa_5976', 'INCa_5982', 'INCa_5992', 'INCa_5997', 'INCa_6000', 'INCa_6001', 'INCa_6016', 'INCa_6019', 'INCa_6022', 'INCa_6029', 'INCa_6032', 'INCa_DGOS_6037', 'INCa_6038', 'INCa_6039', 'INCa_6041', 'INCa_6043', 'INCa_6045', 'INCa_6046', 'INCa_ARC_Ligue_6050', 'INCa_ARC_Ligue_6052', 'INCa_ARC_Ligue_6054', 'INCa_ARC_Ligue_6057', 'INCa_ARC_Ligue_6058', 'INCa_ARC_Ligue_6078', 'INCa_6107', 'INCa_ARC_6123', 'INCa_ARC_6124', 'INCa_ARC_6125', 'INCa_6131', 'INCa_6132', 'INCa_6133', 'INCa_6137', 'INCa_6138', 'INCa_6139', 'INCa_6143', 'INCa_6144', 'INCa_6146', 'INCa_6150', 'INCa_6152', 'INCa_6155', 'INCa_6156', 'INCa_6162', 'INCa_6165', 'INCa_6166', 'Inserm_6233', 'Inserm_6237', 'Inserm_6238', 'Inserm_6240', 'Inserm_6279', 'Inserm_6280', 'Inserm_6281', 'Inserm_6282', 'Inserm_6283', 'Inserm_6284', 'Inserm_6285', 'Inserm_6286', 'INCa_6288', 'INCa_6291', 'INCa_6294', 'INCa_6298', 'INCa_6306', 'INCa_6307', 'INCa_6310', 'INCa_6311', 'INCa_6312', 'INCa_6313', 'INCa_6317', 'Inserm_6336', 'Inserm_6337', 'Inserm_6338', 'Inserm_6339', 'Inserm_6340', 'Inserm_6341', 'Inserm_6342', 'Inserm_6343', 'Inserm_6345', 'Inserm_6346', 'Inserm_6348', 'Inserm_6349', 'Inserm_6350', 'Inserm_6351', 'Inserm_6352', 'Inserm_6353', 'Inserm_6354', 'Inserm_6355', 'Inserm_6356', 'Inserm_6357', 'Inserm_6358', 'Inserm_6359', 'Inserm_6360', 'Inserm_6361', 'Inserm_6362', 'Inserm_6402', 'Inserm_6403', 'Inserm_6404', 'Inserm_6405', 'Inserm_6406', 'Inserm_6407', 'Inserm_6408', 'Inserm_6409', 'Inserm_6410', 'Inserm_6411', 'Inserm_6413', 'Inserm_6414', 'Inserm_6415', 'Inserm_6416', 'Inserm_6417', 'Inserm_6418', 'Inserm_6419', 'Inserm_6420', 'Inserm_6421', 'Inserm_6422', 'Inserm_6423', 'Inserm_6424', 'Inserm_6425', 'Inserm_6426', 'Inserm_6427', 'Inserm_6428', 'Inserm_6429', 'Inserm_6430', 'Inserm_6431', 'Inserm_6432', 'INCa_6716', 'Inserm_6927', 'Inserm_6928', 'Inserm_6929', 'Inserm_6930', 'Inserm_6987', 'Inserm_6988', 'Inserm_6989', 'Inserm_6990', 'Inserm_6991', 'Inserm_6992', 'Inserm_6993', 'DGOS_3668', 'DGOS_3669', 'DGOS_3674', 'DGOS_3677', 'DGOS_3687', 'DGOS_3688', 'DGOS_3694', 'DGOS_3695', 'DGOS_3706', 'DGOS_3712', 'DGOS_3713', 'DGOS_3715', 'DGOS_3718', 'DGOS_3722', 'DGOS_3743', 'DGOS_3758', 'DGOS_3761', 'DGOS_3764', 'DGOS_3766', 'DGOS_3768', 'DGOS_3770', 'DGOS_3774', 'DGOS_3776', 'DGOS_3781', 'DGOS_3782', 'DGOS_3792', 'DGOS_3796', 'DGOS_3807', 'DGOS_3809', 'DGOS_3810', 'DGOS_3813', 'DGOS_3815', 'DGOS_3823', 'DGOS_3827', 'DGOS_3830', 'DGOS_3838', 'DGOS_3844', 'DGOS_3847', 'DGOS_3855', 'DGOS_3856', 'DGOS_3860', 'DGOS_3867', 'DGOS_3869', 'DGOS_3870', 'DGOS_3881', 'DGOS_3882', 'DGOS_3887', 'DGOS_3889', 'DGOS_3892', 'DGOS_3896', 'DGOS_3901', 'DGOS_3909', 'DGOS_3915', 'DGOS_3916', 'DGOS_3921', 'DGOS_3926', 'DGOS_3927', 'DGOS_3931', 'DGOS_3937', 'DGOS_3941', 'DGOS_3945', 'DGOS_3955', 'DGOS_3959', 'DGOS_3961', 'INCa_DGOS_3966', 'INCa_DGOS_3974', 'INCa_DGOS_3986', 'INCa_DGOS_3989', 'INCa_DGOS_3996', 'INCa_DGOS_4010', 'INCa_DGOS_4014', 'INCa_DGOS_4016', 'INCa_DGOS_4020', 'INCa_DGOS_4024', 'INCa_DGOS_4046', 'INCa_DGOS_4053', 'DGOS_4077', 'INCa_4361', 'INCa_4376', 'INCa_4377', 'INCa_4379', 'INCa_4382', 'INCa_4393', 'INCa_4398', 'INCa_4402', 'INCa_4412', 'INCa_4415', 'INCa_4418', 'INCa_4419', 'INCa_4431', 'INCa_4444', 'INCa_4453', 'INCa_4454', 'INCa_4457', 'INCa_4458', 'INCa_4467', 'INCa_4468', 'INCa_4470', 'INCa_4476', 'INCa_4481', 'INCa_4486', 'INCa_4496', 'INCa_4505', 'INCa_4508', 'INCa_4513', 'INCa_4520', 'INCa_4546', 'INCa_4566', 'INCa_4567', 'INCa_4568', 'INCa_4569', 'INCa_4570', 'INCa_4571', 'INCa_4579', 'Inserm_4620', 'Inserm_4622', 'Inserm_4624', 'Inserm_4625', 'Inserm_4628', 'Inserm_4631', 'Inserm_4632', 'Inserm_4634', 'Inserm_4635', 'Inserm_4636', 'Inserm_4638', 'Inserm_4639', 'Inserm_4641', 'Inserm_4642', 'Inserm_4643', 'Inserm_4644', 'Inserm_4647', 'Inserm_4649', 'Inserm_4651', 'INCa_4654', 'INCa_4664', 'INCa_4670', 'INCa_4678', 'INCa_4680', 'INCa_4684', 'INCa_4688', 'INCa_4690', 'INCa_4692', 'INCa_4699', 'INCa_4703', 'INCa_4704', 'INCa_4705', 'INCa_4710', 'INCa_4712', 'INCa_4715', 'INCa_4719', 'INCa_4721', 'INCa_4727', 'INCa_4733', 'INCa_4734', 'INCa_4871', 'INCa_4876', 'INCa_4883', 'INCa_ARC_Ligue_4901', 'INCa_ARC_Ligue_4913', 'INCa_ARC_Ligue_4915', 'INCa_ARC_Ligue_4918', 'INCa_ARC_Ligue_4924', 'INCa_ARC_Ligue_4930', 'INCa_ARC_Ligue_4931', 'INCa_4957', 'INCa_4968', 'INCa_4987', 'DGOS_4990', 'Inserm_5205', 'Inserm_5206', 'Inserm_5207', 'Inserm_5208', 'Inserm_5209', 'Inserm_5210', 'Inserm_5211', 'Inserm_5212', 'Inserm_5213', 'Inserm_5214', 'Inserm_5215', 'Inserm_5216', 'Inserm_5217', 'Inserm_5218', 'Inserm_5219', 'Inserm_5220', 'Inserm_5221', 'INCa_5395', 'INCa_5400', 'INCa_5401', 'INCa_5402', 'INCa_5406', 'INCa_6035', 'INCa_6036', 'Inserm_6177', 'Inserm_6178', 'Inserm_6179', 'Inserm_6180', 'Inserm_6181', 'Inserm_6182', 'Inserm_6183', 'Inserm_6184', 'Inserm_6185', 'Inserm_6225', 'Inserm_6226', 'Inserm_6228', 'Inserm_6231', 'Inserm_6232', 'Inserm_6242', 'Inserm_6243', 'Inserm_6302', 'Inserm_6303', 'Inserm_6304', 'Inserm_6305', 'Inserm_6395', 'Inserm_6396', 'Inserm_6397', 'Inserm_6398', 'Inserm_6399', 'Inserm_6400', 'Inserm_6401', 'Inserm_6917', 'Inserm_6918', 'Inserm_6919', 'Inserm_6920', 'Inserm_6921', 'Inserm_6922', 'Inserm_6923', 'Inserm_6924', 'Inserm_6925', 'Inserm_6926', 'DGOS_2383', 'DGOS_2387', 'DGOS_2390', 'DGOS_2391', 'INCa_2408', 'INCa_2413', 'DGOS_2416', 'DGOS_2420', 'DGOS_2421', 'DGOS_2425', 'DGOS_2426', 'DGOS_2427', 'DGOS_2428', 'DGOS_2435', 'DGOS_2443', 'DGOS_2444', 'DGOS_2446', 'DGOS_2452', 'DGOS_2453', 'DGOS_2457', 'DGOS_2465', 'DGOS_2466', 'DGOS_2469', 'DGOS_2472', 'DGOS_2473', 'DGOS_2474', 'DGOS_2479', 'DGOS_2480', 'DGOS_2481', 'DGOS_2486', 'DGOS_2490', 'DGOS_2491', 'DGOS_2497', 'DGOS_2498', 'DGOS_2508', 'DGOS_2509', 'DGOS_2510', 'DGOS_2511', 'DGOS_2512', 'DGOS_2530', 'DGOS_2536', 'DGOS_2548', 'DGOS_2553', 'DGOS_2555', 'DGOS_2557', 'DGOS_2561', 'DGOS_2562', 'DGOS_2564', 'DGOS_2565', 'DGOS_2567', 'DGOS_2572', 'DGOS_2574', 'DGOS_2577', 'DGOS_2580', 'DGOS_2585', 'DGOS_2586', 'DGOS_2588', 'DGOS_2596', 'DGOS_2599', 'DGOS_2600', 'DGOS_2619', 'DGOS_2622', 'INCa_2637', 'INCa_DGOS_2641', 'INCa_2642', 'INCa_DGOS_2643', 'INCa_2648', 'INCa_2649', 'INCa_2650', 'INCa_DGOS_2659', 'INCa_DGOS_2662', 'INCa_DGOS_2664', 'INCa_2675', 'INCa_2679', 'INCa_2680', 'INCa_2685', 'DGOS_2690', 'INCa_DGOS_2698', 'INCa_2699', 'INCa_2700', 'INCa_DGOS_2714', 'INCa_DGOS_2717', 'INCa_DGOS_2719', 'INCa_DGOS_2720', 'INCa_DGOS_2721', 'INCa_DGOS_2726', 'INCa_DGOS_2740', 'INCa_DGOS_2747', 'INCa_DGOS_2752', 'INCa_DGOS_2758', 'INCa_2765', 'INCa_2768', 'INCa_2783', 'INCa_2784', 'INCa_2785', 'INCa_2814', 'INCa_2843', 'INCa_2848', 'INCa_2853', 'INCa_2854', 'INCa_2874', 'INCa_2876', 'INCa_2879', 'INCa_2881', 'INCa_2883', 'INCa_2893', 'INCa_2900', 'INCa_2903', 'INCa_2910', 'INCa_2915', 'INCa_2916', 'INCa_2921', 'INCa_2922', 'INCa_2934', 'INCa_2940', 'INCa_2941', 'INCa_2943', 'INCa_2960', 'INCa_2963', 'INCa_2966', 'INCa_3039', 'INCa_3041', 'INCa_3043', 'INCa_3046', 'INCa_3048', 'INCa_3049', 'INCa_3051', 'INCa_3052', 'INCa_3061', 'INCa_3067', 'INCa_3069', 'INCa_3070', 'INCa_3075', 'INCa_3078', 'INCa_3081', 'INCa_3085', 'INCa_3087', 'INCa_3099', 'INCa_3104', 'INCa_3106', 'INCa_3110', 'INCa_3111', 'INCa_3113', 'INCa_3115', 'INCa_3123', 'INCa_3126', 'INCa_3127', 'INCa_3129', 'INCa_3131', 'INCa_3133', 'INCa_3135', 'INCa_3136', 'INCa_3140', 'INCa_3141', 'INCa_3143', 'INCa_3145', 'INCa_3146', 'INCa_3147', 'INCa_3148', 'INCa_3154', 'INCa_3156', 'INCa_ARC_Ligue_3180', 'INCa_ARC_Ligue_3190', 'INCa_ARC_Ligue_3199', 'INCa_ARC_Ligue_3202', 'INCa_ARC_Ligue_3204', 'INCa_ARC_Ligue_3210', 'INCa_ARC_Ligue_3213', 'INCa_ARC_Ligue_3215', 'INCa_3410', 'INCa_3411', 'INCa_3485', 'INCa_3504', 'INCa_3506', 'INCa_3507', 'INCa_3509', 'INCa_3512', 'INCa_3513', 'INCa_3515', 'INCa_3516', 'INCa_3533', 'INCa_3534', 'INCa_3541', 'INCa_3544', 'INCa_3545', 'INCa_3549', 'INCa_3550', 'INCa_3650', 'INCa_3651', 'INCa_3652', 'INCa_3653', 'INCa_3654', 'DGOS_3655', 'DGOS_3656', 'INCa_3657', 'INCa_3658', 'INCa_3659', 'INCa_3660', 'INCa_3661', 'INCa_3662', 'INCa_3663', 'INCa_3664', 'DGOS_1076', 'DGOS_1078', 'DGOS_1079', 'DGOS_1093', 'DGOS_1097', 'DGOS_1098', 'DGOS_1100', 'DGOS_1103', 'DGOS_1104', 'DGOS_1107', 'DGOS_1108', 'DGOS_1110', 'DGOS_1111', 'DGOS_1117', 'DGOS_1122', 'DGOS_1126', 'DGOS_1129', 'DGOS_1131', 'DGOS_1133', 'DGOS_1141', 'DGOS_1142', 'DGOS_1145', 'DGOS_1146', 'DGOS_1155', 'DGOS_1165', 'DGOS_1169', 'DGOS_1170', 'DGOS_1172', 'DGOS_1174', 'DGOS_1186', 'DGOS_1190', 'DGOS_1191', 'DGOS_1203', 'DGOS_1204', 'DGOS_1208', 'DGOS_1217', 'DGOS_1218', 'DGOS_1225', 'DGOS_1229', 'DGOS_1231', 'DGOS_1235', 'DGOS_1242', 'DGOS_1244', 'DGOS_1245', 'DGOS_1247', 'DGOS_1249', 'DGOS_1262', 'DGOS_1285', 'DGOS_1287', 'DGOS_1289', 'DGOS_1291', 'DGOS_1296', 'DGOS_1298', 'INCa_DGOS_1302', 'INCa_DGOS_1304', 'INCa_DGOS_1306', 'INCa_DGOS_1307', 'INCa_DGOS_1308', 'INCa_DGOS_1312', 'INCa_DGOS_1313', 'INCa_DGOS_1315', 'INCa_DGOS_1321', 'INCa_DGOS_1324', 'INCa_DGOS_1332', 'DGOS_1335', 'DGOS_1336', 'INCa_DGOS_1339', 'INCa_DGOS_1345', 'INCa_DGOS_1349', 'INCa_DGOS_1355', 'INCa_DGOS_1359', 'INCa_DGOS_1368', 'INCa_DGOS_1376', 'INCa_DGOS_1393', 'INCa_DGOS_1415', 'INCa_DGOS_1429', 'INCa_DGOS_1450', 'INCa_DGOS_1458', 'INCa_DGOS_1461', 'DGOS_1465', 'INCa_1466', 'INCa_1467', 'INCa_1468', 'INCa_1470', 'INCa_1472', 'INCa_1473', 'INCa_1476', 'INCa_1482', 'INCa_1484', 'INCa_1486', 'INCa_1487', 'INCa_1488', 'INCa_1489', 'INCa_1490', 'INCa_1491', 'INCa_1496', 'INCa_1505', 'INCa_1506', 'INCa_1508', 'INCa_1509', 'INCa_1511', 'INCa_1512', 'INCa_1514', 'INCa_1515', 'INCa_1517', 'INCa_1518', 'INCa_1520', 'INCa_1522', 'INCa_1532', 'INCa_1534', 'INCa_1535', 'INCa_1538', 'INCa_1543', 'INCa_1545', 'INCa_1547', 'INCa_1549', 'INCa_1554', 'INCa_1555', 'INCa_1559', 'INCa_1560', 'INCa_1563', 'INCa_1564', 'INCa_1576', 'INCa_1580', 'INCa_1581', 'INCa_1744', 'INCa_1787', 'INCa_1789', 'INCa_1803', 'INCa_1818', 'INCa_1822', 'INCa_1841', 'INCa_1843', 'INCa_1871', 'INCa_1892', 'INCa_1893', 'INCa_1915', 'INCa_1925', 'INCa_1929', 'INCa_1930', 'INCa_1938', 'INCa_1946', 'INCa_1962', 'INCa_1965', 'INCa_1971', 'INCa_1976', 'INCa_1983', 'INCa_2001', 'INCa_2002', 'INCa_2048', 'INCa_2054', 'INCa_2078', 'INCa_2117', 'INCa_2125', 'INCa_2128', 'INCa_2349', 'INCa_2356', 'INCa_2357', 'INCa_2358', 'INCa_2801', 'INCa_2828', 'INCa_3217', 'INCa_3218', 'INCa_3260', 'DGOS_0274', 'DGOS_0278', 'DGOS_0279', 'DGOS_0282', 'DGOS_0284', 'DGOS_0292', 'DGOS_0293', 'DGOS_0298', 'DGOS_0310', 'DGOS_0315', 'DGOS_0320', 'DGOS_0322', 'DGOS_0325', 'DGOS_0327', 'DGOS_0337', 'DGOS_0341', 'DGOS_0342', 'DGOS_0344', 'DGOS_0346', 'DGOS_0347', 'DGOS_0348', 'DGOS_0354', 'DGOS_0357', 'DGOS_0360', 'DGOS_0362', 'DGOS_0363', 'DGOS_0365', 'DGOS_0366', 'DGOS_0378', 'DGOS_0380', 'DGOS_0383', 'DGOS_0385', 'DGOS_0387', 'DGOS_0392', 'DGOS_0397', 'DGOS_0401', 'DGOS_0410', 'DGOS_0415', 'DGOS_0416', 'DGOS_0417', 'DGOS_0420', 'DGOS_0424', 'DGOS_0427', 'DGOS_0428', 'DGOS_0435', 'DGOS_0442', 'DGOS_0444', 'DGOS_0447', 'DGOS_0448', 'DGOS_0459', 'DGOS_0478', 'DGOS_0480', 'DGOS_0485', 'DGOS_0489', 'DGOS_0494', 'INCa_0513', 'INCa_0516', 'INCa_0517', 'INCa_0519', 'INCa_0525', 'INCa_0543', 'INCa_0544', 'INCa_0548', 'INCa_0550', 'INCa_0554', 'INCa_0557', 'INCa_0561', 'INCa_0562', 'INCa_0563', 'INCa_0583', 'INCa_0585', 'INCa_0593', 'INCa_0594', 'INCa_0597', 'INCa_0600', 'INCa_0602', 'INCa_0607', 'INCa_0609', 'INCa_0614', 'INCa_0615', 'INCa_0617', 'INCa_0620', 'INCa_0624', 'INCa_0625', 'INCa_0627', 'INCa_0628', 'INCa_0637', 'INCa_0639', 'INCa_0644', 'INCa_0651', 'INCa_0657', 'INCa_0658', 'INCa_0659', 'INCa_0669', 'INCa_0673', 'INCa_0680', 'INCa_0700', 'INCa_0706', 'INCa_0707', 'INCa_0713', 'INCa_0714', 'INCa_0716', 'INCa_0717', 'INCa_0720', 'INCa_0726', 'INCa_0727', 'INCa_0729', 'INCa_0739', 'INCa_0748', 'INCa_0752', 'INCa_0759', 'INCa_0777', 'INCa_0779', 'INCa_0782', 'INCa_0794', 'INCa_0795', 'INCa_0810', 'INCa_0811', 'INCa_0815', 'INCa_0820', 'INCa_0826', 'INCa_0834', 'INCa_0839', 'INCa_0843', 'INCa_0849', 'INCa_0855', 'INCa_0859', 'INCa_0867', 'INCa_0870', 'INCa_0874', 'INCa_0876', 'INCa_0888', 'INCa_0892', 'INCa_0898', 'INCa_0946', 'INCa_0954', 'INCa_0972', 'INCa_0976', 'INCa_0977', 'INCa_0979', 'INCa_2138', 'INCa_2139', 'INCa_2140', 'INCa_2141', 'INCa_2163', 'INCa_2315', 'INCa_2316', 'INCa_2351', 'INCa_2352', 'INCa_2354', 'INCa_2355', 'INCa_2800', 'DGOS_0013', 'DGOS_0018', 'DGOS_0020', 'DGOS_0022', 'DGOS_0024', 'DGOS_0025', 'DGOS_0034', 'DGOS_0040', 'DGOS_0042', 'DGOS_0046', 'DGOS_0050', 'DGOS_0052', 'DGOS_0054', 'DGOS_0056', 'DGOS_0058', 'DGOS_0060', 'DGOS_0066', 'DGOS_0072', 'DGOS_0074', 'DGOS_0075', 'DGOS_0078', 'DGOS_0079', 'DGOS_0082', 'DGOS_0084', 'DGOS_0091', 'DGOS_0093', 'DGOS_0095', 'DGOS_0096', 'DGOS_0097', 'DGOS_0099', 'DGOS_0100', 'DGOS_0101', 'DGOS_0110', 'DGOS_0112', 'DGOS_0113', 'DGOS_0117', 'DGOS_0121', 'DGOS_0126', 'DGOS_0133', 'DGOS_0134', 'DGOS_0137', 'DGOS_0140', 'DGOS_0141', 'DGOS_0143', 'DGOS_0146', 'DGOS_0147', 'DGOS_0148', 'DGOS_0149', 'DGOS_0150', 'DGOS_0151', 'DGOS_0152', 'DGOS_0158', 'DGOS_0160', 'DGOS_0161', 'DGOS_0162', 'DGOS_0164', 'DGOS_0165', 'DGOS_0166', 'DGOS_0175', 'DGOS_0177', 'DGOS_0179', 'DGOS_0181', 'DGOS_0184', 'DGOS_0186', 'DGOS_0193', 'DGOS_0194', 'DGOS_0199', 'DGOS_0202', 'DGOS_0203', 'DGOS_0204', 'DGOS_0206', 'DGOS_0207', 'DGOS_0211', 'DGOS_0212', 'DGOS_0215', 'DGOS_0216', 'DGOS_0252', 'DGOS_0253', 'DGOS_0254', 'DGOS_0255', 'DGOS_0256', 'DGOS_0257', 'DGOS_0258', 'DGOS_0259', 'DGOS_0260', 'DGOS_0261', 'INCa_0981', 'INCa_0982', 'INCa_0983', 'INCa_0984', 'INCa_0985', 'INCa_0986', 'INCa_0987', 'INCa_0988', 'INCa_0989', 'INCa_0991', 'INCa_0992', 'INCa_0993', 'INCa_0994', 'INCa_0995', 'INCa_0996', 'INCa_0997', 'INCa_0998', 'INCa_1000', 'INCa_1001', 'INCa_1002', 'INCa_1003', 'INCa_1004', 'INCa_1005', 'INCa_1008', 'INCa_1009', 'INCa_1010', 'INCa_1011', 'INCa_1012', 'INCa_1013', 'INCa_1014', 'INCa_1015', 'INCa_1016', 'INCa_1017', 'INCa_1018', 'INCa_1019', 'INCa_1020', 'INCa_1022', 'INCa_1023', 'INCa_1024', 'INCa_1025', 'INCa_1026', 'INCa_1027', 'INCa_1028', 'INCa_ARC_1029', 'INCa_1030', 'INCa_1031', 'INCa_1032', 'INCa_1033', 'INCa_ARC_1034', 'INCa_ARC_1035', 'INCa_1036', 'INCa_1037', 'INCa_ARC_1038', 'INCa_ARC_1039', 'INCa_ARC_1040', 'INCa_ARC_1041', 'INCa_1042', 'INCa_1043', 'INCa_1044', 'INCa_1045', 'INCa_1046', 'INCa_1047', 'INCa_1050', 'INCa_1051', 'INCa_1052', 'INCa_1053', 'INCa_1054', 'INCa_1055', 'INCa_1056', 'INCa_1057', 'INCa_1058', 'INCa_1059', 'INCa_1060', 'INCa_1071', 'INCa_1072', 'INCa_1073', 'INCa_1074', 'INCa_1293', 'INCa_1294', 'INCa_1632', 'INCa_1633', 'INCa_1634', 'INCa_1635', 'INCa_1636', 'INCa_1637', 'INCa_1638', 'INCa_1639', 'INCa_1640', 'INCa_1641', 'INCa_1642', 'INCa_1643', 'INCa_1644', 'INCa_1645', 'INCa_1646', 'INCa_1647', 'INCa_1648', 'INCa_1649', 'INCa_1650', 'INCa_1651', 'INCa_1652', 'INCa_1653', 'INCa_1654', 'INCa_1655', 'INCa_1656', 'INCa_1657', 'INCa_1658', 'INCa_1659', 'INCa_1660', 'INCa_1661', 'INCa_1662', 'INCa_1663', 'INCa_1664', 'INCa_1665', 'INCa_1666', 'INCa_1667', 'INCa_1668', 'INCa_1669', 'INCa_1670', 'INCa_1671', 'INCa_1672', 'INCa_1673', 'INCa_1674', 'INCa_1675', 'INCa_1676', 'INCa_1677', 'INCa_1678', 'INCa_1679', 'INCa_1680', 'INCa_1681', 'INCa_1682', 'INCa_1683', 'INCa_1684', 'INCa_1685', 'INCa_1686', 'INCa_1687', 'INCa_1688', 'INCa_1689', 'INCa_1690', 'INCa_1691', 'INCa_1692', 'INCa_1693', 'INCa_1694', 'INCa_1695', 'INCa_1696', 'INCa_1697', 'INCa_1698', 'INCa_1699', 'INCa_1700', 'INCa_1701', 'INCa_1702', 'INCa_1703', 'INCa_1704', 'INCa_1705', 'INCa_1706', 'INCa_1707', 'INCa_1708', 'INCa_1709', 'INCa_1710', 'INCa_1711', 'INCa_1712', 'INCa_1713', 'INCa_1714', 'INCa_1715', 'INCa_1716', 'INCa_1717', 'INCa_1718', 'INCa_1719', 'INCa_1720', 'INCa_1721', 'INCa_1722', 'INCa_1723', 'INCa_1724', 'INCa_1725', 'INCa_1726', 'INCa_1727', 'INCa_1728', 'INCa_1729', 'INCa_1730', 'INCa_1731', 'INCa_2159', 'INCa_2160', 'INCa_2311', 'INCa_2312', 'INCa_2313', 'INCa_2314', 'INCa_5139', 'INCa_5140', 'INCa_5141', 'INCa_5142', 'INCa_5143', 'INCa_5144', 'INCa_5291', 'INCa_5292', 'INCa_5293', 'INCa_5294', 'INCa_5295', 'INCa_5296', 'INCa_5297', 'INCa_5298', 'INCa_5299', 'INCa_5344', 'INCa_5345', 'INCa_5346', 'INCa_5347', 'INCa_5348', 'INCa_5349', 'INCa_5350', 'INCa_5351', 'INCa_5352', 'INCa_5353', 'INCa_5354', 'INCa_5355', 'INCa_5363', 'INCa_5364', 'INCa_5365']"
   ]
  },
  {
   "cell_type": "code",
   "execution_count": 32,
   "metadata": {},
   "outputs": [
    {
     "data": {
      "text/plain": [
       "1290"
      ]
     },
     "execution_count": 32,
     "metadata": {},
     "output_type": "execute_result"
    }
   ],
   "source": [
    "len(grants)"
   ]
  },
  {
   "cell_type": "code",
   "execution_count": 33,
   "metadata": {},
   "outputs": [],
   "source": [
    "grants_details['test'] = grants_details['Reference'].apply(lambda x: x in grants)"
   ]
  },
  {
   "cell_type": "code",
   "execution_count": 34,
   "metadata": {},
   "outputs": [],
   "source": [
    "test = grants_details[['Reference', 'test']].drop_duplicates().reset_index(drop = True)"
   ]
  },
  {
   "cell_type": "code",
   "execution_count": 35,
   "metadata": {},
   "outputs": [
    {
     "data": {
      "text/html": [
       "<div>\n",
       "<style scoped>\n",
       "    .dataframe tbody tr th:only-of-type {\n",
       "        vertical-align: middle;\n",
       "    }\n",
       "\n",
       "    .dataframe tbody tr th {\n",
       "        vertical-align: top;\n",
       "    }\n",
       "\n",
       "    .dataframe thead th {\n",
       "        text-align: right;\n",
       "    }\n",
       "</style>\n",
       "<table border=\"1\" class=\"dataframe\">\n",
       "  <thead>\n",
       "    <tr style=\"text-align: right;\">\n",
       "      <th></th>\n",
       "      <th>Reference</th>\n",
       "      <th>test</th>\n",
       "    </tr>\n",
       "  </thead>\n",
       "  <tbody>\n",
       "    <tr>\n",
       "      <th>count</th>\n",
       "      <td>1550</td>\n",
       "      <td>1550</td>\n",
       "    </tr>\n",
       "    <tr>\n",
       "      <th>unique</th>\n",
       "      <td>1550</td>\n",
       "      <td>2</td>\n",
       "    </tr>\n",
       "    <tr>\n",
       "      <th>top</th>\n",
       "      <td>ANR-08-PCVI-0021</td>\n",
       "      <td>True</td>\n",
       "    </tr>\n",
       "    <tr>\n",
       "      <th>freq</th>\n",
       "      <td>1</td>\n",
       "      <td>1269</td>\n",
       "    </tr>\n",
       "  </tbody>\n",
       "</table>\n",
       "</div>"
      ],
      "text/plain": [
       "               Reference  test\n",
       "count               1550  1550\n",
       "unique              1550     2\n",
       "top     ANR-08-PCVI-0021  True\n",
       "freq                   1  1269"
      ]
     },
     "execution_count": 35,
     "metadata": {},
     "output_type": "execute_result"
    }
   ],
   "source": [
    "test.describe(include = 'all')"
   ]
  },
  {
   "cell_type": "code",
   "execution_count": null,
   "metadata": {},
   "outputs": [],
   "source": []
  }
 ],
 "metadata": {
  "kernelspec": {
   "display_name": "Python 3",
   "language": "python",
   "name": "python3"
  },
  "language_info": {
   "codemirror_mode": {
    "name": "ipython",
    "version": 3
   },
   "file_extension": ".py",
   "mimetype": "text/x-python",
   "name": "python",
   "nbconvert_exporter": "python",
   "pygments_lexer": "ipython3",
   "version": "3.6.2"
  },
  "toc": {
   "nav_menu": {},
   "number_sections": false,
   "sideBar": true,
   "skip_h1_title": false,
   "title_cell": "Table of Contents",
   "title_sidebar": "Contents",
   "toc_cell": false,
   "toc_position": {
    "height": "calc(100% - 180px)",
    "left": "10px",
    "top": "150px",
    "width": "165px"
   },
   "toc_section_display": true,
   "toc_window_display": true
  }
 },
 "nbformat": 4,
 "nbformat_minor": 2
}
