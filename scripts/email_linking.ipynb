{
 "cells": [
  {
   "cell_type": "markdown",
   "metadata": {},
   "source": [
    "# Matching Emails to Researchers"
   ]
  },
  {
   "cell_type": "markdown",
   "metadata": {},
   "source": [
    "## Python Setup"
   ]
  },
  {
   "cell_type": "code",
   "execution_count": 1,
   "metadata": {},
   "outputs": [],
   "source": [
    "import pandas as pd\n",
    "import recordlinkage as rl"
   ]
  },
  {
   "cell_type": "markdown",
   "metadata": {},
   "source": [
    "## Data Load In"
   ]
  },
  {
   "cell_type": "code",
   "execution_count": 2,
   "metadata": {},
   "outputs": [],
   "source": [
    "projects = pd.read_excel('../data/porteurs_projets0712_finances_helios.xlsx')\n",
    "grants = pd.read_csv('../data/inca_grants_details.csv')"
   ]
  },
  {
   "cell_type": "code",
   "execution_count": 3,
   "metadata": {},
   "outputs": [],
   "source": [
    "projects = projects[(projects['prénoms'].notnull())&(projects['nom'].notnull())].reset_index(drop = True)\n",
    "projects['prénoms'] = projects['prénoms'].str.replace('Prenom', '')\n",
    "del projects['titre_en'], projects['titre_fr']"
   ]
  },
  {
   "cell_type": "code",
   "execution_count": 4,
   "metadata": {
    "scrolled": false
   },
   "outputs": [
    {
     "data": {
      "text/html": [
       "<div>\n",
       "<style scoped>\n",
       "    .dataframe tbody tr th:only-of-type {\n",
       "        vertical-align: middle;\n",
       "    }\n",
       "\n",
       "    .dataframe tbody tr th {\n",
       "        vertical-align: top;\n",
       "    }\n",
       "\n",
       "    .dataframe thead th {\n",
       "        text-align: right;\n",
       "    }\n",
       "</style>\n",
       "<table border=\"1\" class=\"dataframe\">\n",
       "  <thead>\n",
       "    <tr style=\"text-align: right;\">\n",
       "      <th></th>\n",
       "      <th>année</th>\n",
       "      <th>acronyme</th>\n",
       "      <th>no_projet</th>\n",
       "      <th>nom</th>\n",
       "      <th>prénoms</th>\n",
       "      <th>email1</th>\n",
       "      <th>email2</th>\n",
       "    </tr>\n",
       "  </thead>\n",
       "  <tbody>\n",
       "    <tr>\n",
       "      <th>0</th>\n",
       "      <td>2007</td>\n",
       "      <td>ACI07</td>\n",
       "      <td>ACI07-001</td>\n",
       "      <td>BERGER</td>\n",
       "      <td>François</td>\n",
       "      <td>fberger@ujf-grenoble.fr ; Francois.Berger@ujf-...</td>\n",
       "      <td>fbergez@me.com</td>\n",
       "    </tr>\n",
       "    <tr>\n",
       "      <th>1</th>\n",
       "      <td>2007</td>\n",
       "      <td>ACI07</td>\n",
       "      <td>ACI07-002</td>\n",
       "      <td>FAVROT</td>\n",
       "      <td>Marie-Christine</td>\n",
       "      <td>mc.favrot@afssa.fr</td>\n",
       "      <td>NaN</td>\n",
       "    </tr>\n",
       "    <tr>\n",
       "      <th>2</th>\n",
       "      <td>2007</td>\n",
       "      <td>ACI07</td>\n",
       "      <td>ACI07-003</td>\n",
       "      <td>PLUMAS</td>\n",
       "      <td>Joël</td>\n",
       "      <td>Joel.plumas@efs.sante.fr; joel.plumas@wanadoo.fr</td>\n",
       "      <td>NaN</td>\n",
       "    </tr>\n",
       "    <tr>\n",
       "      <th>3</th>\n",
       "      <td>2007</td>\n",
       "      <td>ACI07</td>\n",
       "      <td>ACI07-004</td>\n",
       "      <td>BALDI</td>\n",
       "      <td>Isabelle</td>\n",
       "      <td>isabelle.baldi@isped.u-bordeaux2.fr</td>\n",
       "      <td>NaN</td>\n",
       "    </tr>\n",
       "    <tr>\n",
       "      <th>4</th>\n",
       "      <td>2007</td>\n",
       "      <td>ACI07</td>\n",
       "      <td>ACI07-005</td>\n",
       "      <td>CAZAUX</td>\n",
       "      <td>Christophe</td>\n",
       "      <td>Christophe.Cazaux@ipbs.fr</td>\n",
       "      <td>NaN</td>\n",
       "    </tr>\n",
       "  </tbody>\n",
       "</table>\n",
       "</div>"
      ],
      "text/plain": [
       "   année acronyme  no_projet     nom          prénoms  \\\n",
       "0   2007    ACI07  ACI07-001  BERGER         François   \n",
       "1   2007    ACI07  ACI07-002  FAVROT  Marie-Christine   \n",
       "2   2007    ACI07  ACI07-003  PLUMAS             Joël   \n",
       "3   2007    ACI07  ACI07-004   BALDI         Isabelle   \n",
       "4   2007    ACI07  ACI07-005  CAZAUX       Christophe   \n",
       "\n",
       "                                              email1          email2  \n",
       "0  fberger@ujf-grenoble.fr ; Francois.Berger@ujf-...  fbergez@me.com  \n",
       "1                                 mc.favrot@afssa.fr             NaN  \n",
       "2   Joel.plumas@efs.sante.fr; joel.plumas@wanadoo.fr             NaN  \n",
       "3                isabelle.baldi@isped.u-bordeaux2.fr             NaN  \n",
       "4                          Christophe.Cazaux@ipbs.fr             NaN  "
      ]
     },
     "execution_count": 4,
     "metadata": {},
     "output_type": "execute_result"
    }
   ],
   "source": [
    "projects.head()"
   ]
  },
  {
   "cell_type": "code",
   "execution_count": 5,
   "metadata": {},
   "outputs": [
    {
     "data": {
      "text/html": [
       "<div>\n",
       "<style scoped>\n",
       "    .dataframe tbody tr th:only-of-type {\n",
       "        vertical-align: middle;\n",
       "    }\n",
       "\n",
       "    .dataframe tbody tr th {\n",
       "        vertical-align: top;\n",
       "    }\n",
       "\n",
       "    .dataframe thead th {\n",
       "        text-align: right;\n",
       "    }\n",
       "</style>\n",
       "<table border=\"1\" class=\"dataframe\">\n",
       "  <thead>\n",
       "    <tr style=\"text-align: right;\">\n",
       "      <th></th>\n",
       "      <th>INCA ID</th>\n",
       "      <th>prenom_port</th>\n",
       "      <th>nom_port</th>\n",
       "      <th>organisme_port</th>\n",
       "      <th>Dimensions Grant ID</th>\n",
       "      <th>Title</th>\n",
       "      <th>Abstract</th>\n",
       "      <th>Funder</th>\n",
       "      <th>Reference</th>\n",
       "      <th>Research Org Names</th>\n",
       "      <th>Research Org IDs</th>\n",
       "      <th>FOR</th>\n",
       "      <th>RCDC</th>\n",
       "      <th>Funding Amount ($)</th>\n",
       "      <th>Start Date</th>\n",
       "      <th>End Date</th>\n",
       "    </tr>\n",
       "  </thead>\n",
       "  <tbody>\n",
       "    <tr>\n",
       "      <th>0</th>\n",
       "      <td>inca_1</td>\n",
       "      <td>Jérôme</td>\n",
       "      <td>ABADIE</td>\n",
       "      <td>Ecole Vétérinaire de Nantes</td>\n",
       "      <td>grant.7426242</td>\n",
       "      <td>Cancer, Environment and metabolomics: the dog ...</td>\n",
       "      <td>Our innovative project aims to use the dog as ...</td>\n",
       "      <td>French Institute of Health and Medical Research</td>\n",
       "      <td>Inserm_6181</td>\n",
       "      <td>Oniris</td>\n",
       "      <td>grid.418682.1</td>\n",
       "      <td>1117 Public Health and Health Services;1112 On...</td>\n",
       "      <td>Rare Diseases;Prevention;Cancer;Clinical Research</td>\n",
       "      <td>65061.0</td>\n",
       "      <td>2011-12-13</td>\n",
       "      <td>2013-06-12</td>\n",
       "    </tr>\n",
       "    <tr>\n",
       "      <th>1</th>\n",
       "      <td>inca_2</td>\n",
       "      <td>Julien</td>\n",
       "      <td>ADAM</td>\n",
       "      <td>Hôpital Necker- Enfants malades APHP</td>\n",
       "      <td>grant.7426178</td>\n",
       "      <td>Creating tools to assess DNA repair dysfunctio...</td>\n",
       "      <td>Scientific context  Non-small cell lung carcin...</td>\n",
       "      <td>French Institute of Health and Medical Research</td>\n",
       "      <td>Inserm_4631</td>\n",
       "      <td>Necker-Enfants Malades Hospital;Institut Gusta...</td>\n",
       "      <td>grid.412134.1;grid.14925.3b</td>\n",
       "      <td>0601 Biochemistry and Cell Biology;1112 Oncolo...</td>\n",
       "      <td>Biotechnology;Lung;Cancer;Lung Cancer;Genetics...</td>\n",
       "      <td>240110.0</td>\n",
       "      <td>2011-11-01</td>\n",
       "      <td>2014-11-01</td>\n",
       "    </tr>\n",
       "  </tbody>\n",
       "</table>\n",
       "</div>"
      ],
      "text/plain": [
       "  INCA ID prenom_port nom_port                        organisme_port  \\\n",
       "0  inca_1      Jérôme   ABADIE           Ecole Vétérinaire de Nantes   \n",
       "1  inca_2      Julien     ADAM  Hôpital Necker- Enfants malades APHP   \n",
       "\n",
       "  Dimensions Grant ID                                              Title  \\\n",
       "0       grant.7426242  Cancer, Environment and metabolomics: the dog ...   \n",
       "1       grant.7426178  Creating tools to assess DNA repair dysfunctio...   \n",
       "\n",
       "                                            Abstract  \\\n",
       "0  Our innovative project aims to use the dog as ...   \n",
       "1  Scientific context  Non-small cell lung carcin...   \n",
       "\n",
       "                                            Funder    Reference  \\\n",
       "0  French Institute of Health and Medical Research  Inserm_6181   \n",
       "1  French Institute of Health and Medical Research  Inserm_4631   \n",
       "\n",
       "                                  Research Org Names  \\\n",
       "0                                             Oniris   \n",
       "1  Necker-Enfants Malades Hospital;Institut Gusta...   \n",
       "\n",
       "              Research Org IDs  \\\n",
       "0                grid.418682.1   \n",
       "1  grid.412134.1;grid.14925.3b   \n",
       "\n",
       "                                                 FOR  \\\n",
       "0  1117 Public Health and Health Services;1112 On...   \n",
       "1  0601 Biochemistry and Cell Biology;1112 Oncolo...   \n",
       "\n",
       "                                                RCDC  Funding Amount ($)  \\\n",
       "0  Rare Diseases;Prevention;Cancer;Clinical Research             65061.0   \n",
       "1  Biotechnology;Lung;Cancer;Lung Cancer;Genetics...            240110.0   \n",
       "\n",
       "   Start Date    End Date  \n",
       "0  2011-12-13  2013-06-12  \n",
       "1  2011-11-01  2014-11-01  "
      ]
     },
     "execution_count": 5,
     "metadata": {},
     "output_type": "execute_result"
    }
   ],
   "source": [
    "grants.head(2)"
   ]
  },
  {
   "cell_type": "code",
   "execution_count": 6,
   "metadata": {
    "scrolled": true
   },
   "outputs": [
    {
     "data": {
      "text/plain": [
       "(2005, 7)"
      ]
     },
     "execution_count": 6,
     "metadata": {},
     "output_type": "execute_result"
    }
   ],
   "source": [
    "projects.shape"
   ]
  },
  {
   "cell_type": "markdown",
   "metadata": {},
   "source": [
    "## Create Name and Name ID"
   ]
  },
  {
   "cell_type": "code",
   "execution_count": 7,
   "metadata": {},
   "outputs": [],
   "source": [
    "projects['name'] = (projects['prénoms'] + ' ' + projects['nom']).str.upper()\n",
    "grants['name'] = (grants['prenom_port'] + ' ' + grants['nom_port']).str.upper()"
   ]
  },
  {
   "cell_type": "code",
   "execution_count": 8,
   "metadata": {},
   "outputs": [],
   "source": [
    "projects['name_id_proj'] = projects.groupby(['name']).ngroup()\n",
    "grants['name_id_grnt'] = grants.groupby(['name']).ngroup()"
   ]
  },
  {
   "cell_type": "markdown",
   "metadata": {},
   "source": [
    "## Clean Email"
   ]
  },
  {
   "cell_type": "code",
   "execution_count": 9,
   "metadata": {},
   "outputs": [],
   "source": [
    "projects['emails'] = projects['email1'].fillna('').str.lower() + '; ' + projects['email2'].fillna('').str.lower()\n",
    "projects['emails'] = projects['emails'].str.replace(r'(; $|^; |^; $)', '')\n",
    "projects['emails'] = projects['emails'].str.replace(r'\\s?;\\s?', '; ')\n",
    "projects['emails'] = projects['emails'].str.replace(r',', '.')"
   ]
  },
  {
   "cell_type": "code",
   "execution_count": 10,
   "metadata": {},
   "outputs": [],
   "source": [
    "emails = projects[['name_id_proj', 'name', 'emails']].drop_duplicates()\n",
    "emails = emails.sort_values('name').reset_index(drop = True)"
   ]
  },
  {
   "cell_type": "code",
   "execution_count": 11,
   "metadata": {},
   "outputs": [],
   "source": [
    "temp = pd.concat([pd.Series(row['name_id_proj'], row['emails'].split('; ')) for _, row in emails.iterrows()])\n",
    "temp = temp[temp.index!=\"\"].reset_index().drop_duplicates().reset_index(drop = True)\n",
    "temp.columns = ['email', 'name_id_proj']\n",
    "temp = pd.merge(temp, emails[['name_id_proj', 'name']].drop_duplicates(), how = 'left', on = 'name_id_proj')\n",
    "temp = temp[['name_id_proj', 'name', 'email']]"
   ]
  },
  {
   "cell_type": "markdown",
   "metadata": {},
   "source": [
    "Insert section on restricting temp email addresses?"
   ]
  },
  {
   "cell_type": "code",
   "execution_count": 12,
   "metadata": {},
   "outputs": [],
   "source": [
    "temp = temp.groupby(['name_id_proj', 'name'])\n",
    "temp = pd.DataFrame({'email_count' : temp.size()\n",
    "                     , 'emails' : temp['email'].apply('; '.join)\n",
    "                    }).reset_index()\n",
    "del temp['name']"
   ]
  },
  {
   "cell_type": "code",
   "execution_count": 13,
   "metadata": {},
   "outputs": [],
   "source": [
    "emails = pd.merge(emails[['name_id_proj', 'name']].drop_duplicates(), temp, how = 'left', on = 'name_id_proj')"
   ]
  },
  {
   "cell_type": "code",
   "execution_count": 14,
   "metadata": {},
   "outputs": [],
   "source": [
    "emails['email_count'] = emails['email_count'].fillna(0)"
   ]
  },
  {
   "cell_type": "markdown",
   "metadata": {},
   "source": [
    "## Create Frames for Record Linkage"
   ]
  },
  {
   "cell_type": "code",
   "execution_count": 15,
   "metadata": {},
   "outputs": [
    {
     "data": {
      "text/html": [
       "<div>\n",
       "<style scoped>\n",
       "    .dataframe tbody tr th:only-of-type {\n",
       "        vertical-align: middle;\n",
       "    }\n",
       "\n",
       "    .dataframe tbody tr th {\n",
       "        vertical-align: top;\n",
       "    }\n",
       "\n",
       "    .dataframe thead th {\n",
       "        text-align: right;\n",
       "    }\n",
       "</style>\n",
       "<table border=\"1\" class=\"dataframe\">\n",
       "  <thead>\n",
       "    <tr style=\"text-align: right;\">\n",
       "      <th></th>\n",
       "      <th>name_id_proj</th>\n",
       "      <th>name</th>\n",
       "      <th>email_count</th>\n",
       "      <th>emails</th>\n",
       "    </tr>\n",
       "  </thead>\n",
       "  <tbody>\n",
       "    <tr>\n",
       "      <th>count</th>\n",
       "      <td>1499.00000</td>\n",
       "      <td>1499</td>\n",
       "      <td>1499.000000</td>\n",
       "      <td>1380</td>\n",
       "    </tr>\n",
       "    <tr>\n",
       "      <th>unique</th>\n",
       "      <td>NaN</td>\n",
       "      <td>1499</td>\n",
       "      <td>NaN</td>\n",
       "      <td>1379</td>\n",
       "    </tr>\n",
       "    <tr>\n",
       "      <th>top</th>\n",
       "      <td>NaN</td>\n",
       "      <td>HERVÉ MIGNOTTE</td>\n",
       "      <td>NaN</td>\n",
       "      <td>cd67@ligue-cancer.net</td>\n",
       "    </tr>\n",
       "    <tr>\n",
       "      <th>freq</th>\n",
       "      <td>NaN</td>\n",
       "      <td>1</td>\n",
       "      <td>NaN</td>\n",
       "      <td>2</td>\n",
       "    </tr>\n",
       "    <tr>\n",
       "      <th>mean</th>\n",
       "      <td>749.00000</td>\n",
       "      <td>NaN</td>\n",
       "      <td>1.142762</td>\n",
       "      <td>NaN</td>\n",
       "    </tr>\n",
       "    <tr>\n",
       "      <th>std</th>\n",
       "      <td>432.86834</td>\n",
       "      <td>NaN</td>\n",
       "      <td>0.576260</td>\n",
       "      <td>NaN</td>\n",
       "    </tr>\n",
       "    <tr>\n",
       "      <th>min</th>\n",
       "      <td>0.00000</td>\n",
       "      <td>NaN</td>\n",
       "      <td>0.000000</td>\n",
       "      <td>NaN</td>\n",
       "    </tr>\n",
       "    <tr>\n",
       "      <th>25%</th>\n",
       "      <td>374.50000</td>\n",
       "      <td>NaN</td>\n",
       "      <td>1.000000</td>\n",
       "      <td>NaN</td>\n",
       "    </tr>\n",
       "    <tr>\n",
       "      <th>50%</th>\n",
       "      <td>749.00000</td>\n",
       "      <td>NaN</td>\n",
       "      <td>1.000000</td>\n",
       "      <td>NaN</td>\n",
       "    </tr>\n",
       "    <tr>\n",
       "      <th>75%</th>\n",
       "      <td>1123.50000</td>\n",
       "      <td>NaN</td>\n",
       "      <td>1.000000</td>\n",
       "      <td>NaN</td>\n",
       "    </tr>\n",
       "    <tr>\n",
       "      <th>max</th>\n",
       "      <td>1498.00000</td>\n",
       "      <td>NaN</td>\n",
       "      <td>4.000000</td>\n",
       "      <td>NaN</td>\n",
       "    </tr>\n",
       "  </tbody>\n",
       "</table>\n",
       "</div>"
      ],
      "text/plain": [
       "        name_id_proj            name  email_count                 emails\n",
       "count     1499.00000            1499  1499.000000                   1380\n",
       "unique           NaN            1499          NaN                   1379\n",
       "top              NaN  HERVÉ MIGNOTTE          NaN  cd67@ligue-cancer.net\n",
       "freq             NaN               1          NaN                      2\n",
       "mean       749.00000             NaN     1.142762                    NaN\n",
       "std        432.86834             NaN     0.576260                    NaN\n",
       "min          0.00000             NaN     0.000000                    NaN\n",
       "25%        374.50000             NaN     1.000000                    NaN\n",
       "50%        749.00000             NaN     1.000000                    NaN\n",
       "75%       1123.50000             NaN     1.000000                    NaN\n",
       "max       1498.00000             NaN     4.000000                    NaN"
      ]
     },
     "execution_count": 15,
     "metadata": {},
     "output_type": "execute_result"
    }
   ],
   "source": [
    "emails.describe(include = 'all')"
   ]
  },
  {
   "cell_type": "code",
   "execution_count": 16,
   "metadata": {},
   "outputs": [],
   "source": [
    "names = grants[['name_id_grnt', 'name']].drop_duplicates()\n",
    "names = names.sort_values('name').reset_index(drop = True)"
   ]
  },
  {
   "cell_type": "code",
   "execution_count": 17,
   "metadata": {},
   "outputs": [
    {
     "data": {
      "text/html": [
       "<div>\n",
       "<style scoped>\n",
       "    .dataframe tbody tr th:only-of-type {\n",
       "        vertical-align: middle;\n",
       "    }\n",
       "\n",
       "    .dataframe tbody tr th {\n",
       "        vertical-align: top;\n",
       "    }\n",
       "\n",
       "    .dataframe thead th {\n",
       "        text-align: right;\n",
       "    }\n",
       "</style>\n",
       "<table border=\"1\" class=\"dataframe\">\n",
       "  <thead>\n",
       "    <tr style=\"text-align: right;\">\n",
       "      <th></th>\n",
       "      <th>name_id_grnt</th>\n",
       "      <th>name</th>\n",
       "    </tr>\n",
       "  </thead>\n",
       "  <tbody>\n",
       "    <tr>\n",
       "      <th>count</th>\n",
       "      <td>1000.000000</td>\n",
       "      <td>1000</td>\n",
       "    </tr>\n",
       "    <tr>\n",
       "      <th>unique</th>\n",
       "      <td>NaN</td>\n",
       "      <td>1000</td>\n",
       "    </tr>\n",
       "    <tr>\n",
       "      <th>top</th>\n",
       "      <td>NaN</td>\n",
       "      <td>HERVÉ MIGNOTTE</td>\n",
       "    </tr>\n",
       "    <tr>\n",
       "      <th>freq</th>\n",
       "      <td>NaN</td>\n",
       "      <td>1</td>\n",
       "    </tr>\n",
       "    <tr>\n",
       "      <th>mean</th>\n",
       "      <td>499.500000</td>\n",
       "      <td>NaN</td>\n",
       "    </tr>\n",
       "    <tr>\n",
       "      <th>std</th>\n",
       "      <td>288.819436</td>\n",
       "      <td>NaN</td>\n",
       "    </tr>\n",
       "    <tr>\n",
       "      <th>min</th>\n",
       "      <td>0.000000</td>\n",
       "      <td>NaN</td>\n",
       "    </tr>\n",
       "    <tr>\n",
       "      <th>25%</th>\n",
       "      <td>249.750000</td>\n",
       "      <td>NaN</td>\n",
       "    </tr>\n",
       "    <tr>\n",
       "      <th>50%</th>\n",
       "      <td>499.500000</td>\n",
       "      <td>NaN</td>\n",
       "    </tr>\n",
       "    <tr>\n",
       "      <th>75%</th>\n",
       "      <td>749.250000</td>\n",
       "      <td>NaN</td>\n",
       "    </tr>\n",
       "    <tr>\n",
       "      <th>max</th>\n",
       "      <td>999.000000</td>\n",
       "      <td>NaN</td>\n",
       "    </tr>\n",
       "  </tbody>\n",
       "</table>\n",
       "</div>"
      ],
      "text/plain": [
       "        name_id_grnt            name\n",
       "count    1000.000000            1000\n",
       "unique           NaN            1000\n",
       "top              NaN  HERVÉ MIGNOTTE\n",
       "freq             NaN               1\n",
       "mean      499.500000             NaN\n",
       "std       288.819436             NaN\n",
       "min         0.000000             NaN\n",
       "25%       249.750000             NaN\n",
       "50%       499.500000             NaN\n",
       "75%       749.250000             NaN\n",
       "max       999.000000             NaN"
      ]
     },
     "execution_count": 17,
     "metadata": {},
     "output_type": "execute_result"
    }
   ],
   "source": [
    "names.describe(include = 'all')"
   ]
  },
  {
   "cell_type": "markdown",
   "metadata": {},
   "source": [
    "## Name Cleaning"
   ]
  },
  {
   "cell_type": "code",
   "execution_count": 18,
   "metadata": {},
   "outputs": [],
   "source": [
    "names['name'] = names['name'].str.replace(r'\\s?-\\s?', ' ')\n",
    "emails['name'] = emails['name'].str.replace(r'\\s?-\\s?', ' ')"
   ]
  },
  {
   "cell_type": "code",
   "execution_count": 19,
   "metadata": {},
   "outputs": [],
   "source": [
    "names['name'] = names['name'].str.normalize('NFKD').str.encode('ascii', errors='ignore').str.decode('utf-8')\n",
    "emails['name'] = emails['name'].str.normalize('NFKD').str.encode('ascii', errors='ignore').str.decode('utf-8')"
   ]
  },
  {
   "cell_type": "markdown",
   "metadata": {},
   "source": [
    "## First Merge on Name"
   ]
  },
  {
   "cell_type": "code",
   "execution_count": 20,
   "metadata": {},
   "outputs": [],
   "source": [
    "df = pd.merge(names, emails, how = 'left', on = 'name')"
   ]
  },
  {
   "cell_type": "code",
   "execution_count": 21,
   "metadata": {},
   "outputs": [],
   "source": [
    "df_1 = df[df['email_count'].notnull()].reset_index(drop = True)"
   ]
  },
  {
   "cell_type": "markdown",
   "metadata": {},
   "source": [
    "## String Comparison on Remaining Names"
   ]
  },
  {
   "cell_type": "code",
   "execution_count": 22,
   "metadata": {},
   "outputs": [],
   "source": [
    "names_2 = df[df['email_count'].isnull()][['name_id_grnt', 'name']].reset_index(drop = True)"
   ]
  },
  {
   "cell_type": "code",
   "execution_count": 23,
   "metadata": {},
   "outputs": [
    {
     "data": {
      "text/plain": [
       "(15, 2)"
      ]
     },
     "execution_count": 23,
     "metadata": {},
     "output_type": "execute_result"
    }
   ],
   "source": [
    "names_2.shape"
   ]
  },
  {
   "cell_type": "code",
   "execution_count": 24,
   "metadata": {},
   "outputs": [],
   "source": [
    "names_2_comp = names_2.set_index('name_id_grnt')\n",
    "emails_comp = emails.set_index('name_id_proj')"
   ]
  },
  {
   "cell_type": "code",
   "execution_count": 25,
   "metadata": {},
   "outputs": [
    {
     "name": "stdout",
     "output_type": "stream",
     "text": [
      "22485\n"
     ]
    }
   ],
   "source": [
    "indexer = rl.FullIndex()\n",
    "pairs = indexer.index(names_2_comp, emails_comp)\n",
    "print(len(pairs))"
   ]
  },
  {
   "cell_type": "code",
   "execution_count": 26,
   "metadata": {},
   "outputs": [],
   "source": [
    "comp = rl.Compare()\n",
    "exact = comp.exact('name','name')\n",
    "levenshtein = comp.string('name','name', method='levenshtein')\n",
    "jarowinkler = comp.string('name','name', method='jarowinkler')\n",
    "qgram = comp.string('name', 'name', method='qgram')\n",
    "# [‘jaro’, ‘jarowinkler’, ‘levenshtein’, ‘damerau_levenshtein’, ‘qgram’, ‘cosine’, ‘smith_waterman’, ‘lcs’].\n",
    "comp = comp.compute(pairs, names_2_comp, emails_comp).reset_index()\n",
    "comp['score'] = comp[1]+comp[2]+comp[3]\n",
    "comp = comp.sort_values(['name_id_grnt', 'score'], ascending=[True, False])\n",
    "comp = comp.drop_duplicates('name_id_grnt', keep='first')"
   ]
  },
  {
   "cell_type": "markdown",
   "metadata": {},
   "source": [
    "### Merging on Closest Name"
   ]
  },
  {
   "cell_type": "code",
   "execution_count": 27,
   "metadata": {},
   "outputs": [],
   "source": [
    "df = pd.merge(names_2, comp, how = 'left', on = 'name_id_grnt')\n",
    "df = pd.merge(df, emails, how = 'left', on = 'name_id_proj')"
   ]
  },
  {
   "cell_type": "markdown",
   "metadata": {},
   "source": [
    "### Manual Corrections"
   ]
  },
  {
   "cell_type": "code",
   "execution_count": 28,
   "metadata": {
    "scrolled": false
   },
   "outputs": [
    {
     "data": {
      "text/html": [
       "<div>\n",
       "<style scoped>\n",
       "    .dataframe tbody tr th:only-of-type {\n",
       "        vertical-align: middle;\n",
       "    }\n",
       "\n",
       "    .dataframe tbody tr th {\n",
       "        vertical-align: top;\n",
       "    }\n",
       "\n",
       "    .dataframe thead th {\n",
       "        text-align: right;\n",
       "    }\n",
       "</style>\n",
       "<table border=\"1\" class=\"dataframe\">\n",
       "  <thead>\n",
       "    <tr style=\"text-align: right;\">\n",
       "      <th></th>\n",
       "      <th>name_id_grnt</th>\n",
       "      <th>name_x</th>\n",
       "      <th>name_id_proj</th>\n",
       "      <th>0</th>\n",
       "      <th>1</th>\n",
       "      <th>2</th>\n",
       "      <th>3</th>\n",
       "      <th>score</th>\n",
       "      <th>name_y</th>\n",
       "      <th>email_count</th>\n",
       "      <th>emails</th>\n",
       "    </tr>\n",
       "  </thead>\n",
       "  <tbody>\n",
       "    <tr>\n",
       "      <th>0</th>\n",
       "      <td>83</td>\n",
       "      <td>ARNAUD VILLERS</td>\n",
       "      <td>118</td>\n",
       "      <td>0</td>\n",
       "      <td>0.933333</td>\n",
       "      <td>0.958095</td>\n",
       "      <td>0.875000</td>\n",
       "      <td>2.766429</td>\n",
       "      <td>ARNAULD VILLERS</td>\n",
       "      <td>2.0</td>\n",
       "      <td>arnauld.villers@wanadoo.fr; a-villers@chru-lil...</td>\n",
       "    </tr>\n",
       "    <tr>\n",
       "      <th>1</th>\n",
       "      <td>90</td>\n",
       "      <td>AURA CARREIRA MORENO</td>\n",
       "      <td>124</td>\n",
       "      <td>0</td>\n",
       "      <td>0.650000</td>\n",
       "      <td>0.930000</td>\n",
       "      <td>0.666667</td>\n",
       "      <td>2.246667</td>\n",
       "      <td>AURA CARREIRA</td>\n",
       "      <td>1.0</td>\n",
       "      <td>aura.carreira@curie.fr</td>\n",
       "    </tr>\n",
       "    <tr>\n",
       "      <th>2</th>\n",
       "      <td>184</td>\n",
       "      <td>CHRISTELE DESBOIS MOUTON</td>\n",
       "      <td>274</td>\n",
       "      <td>0</td>\n",
       "      <td>0.960000</td>\n",
       "      <td>0.992000</td>\n",
       "      <td>0.923077</td>\n",
       "      <td>2.875077</td>\n",
       "      <td>CHRISTELE DESBOIS MOUTHON</td>\n",
       "      <td>2.0</td>\n",
       "      <td>christele.desbois-mouthon@inserm.fr; desbois@s...</td>\n",
       "    </tr>\n",
       "    <tr>\n",
       "      <th>3</th>\n",
       "      <td>272</td>\n",
       "      <td>ELLEN BENHAMOU</td>\n",
       "      <td>405</td>\n",
       "      <td>0</td>\n",
       "      <td>0.608696</td>\n",
       "      <td>0.921739</td>\n",
       "      <td>0.625000</td>\n",
       "      <td>2.155435</td>\n",
       "      <td>ELLEN BENHAMOU BOROWSKI</td>\n",
       "      <td>2.0</td>\n",
       "      <td>ellen.benhamou@gustaveroussy.fr; benhamou@gust...</td>\n",
       "    </tr>\n",
       "    <tr>\n",
       "      <th>4</th>\n",
       "      <td>296</td>\n",
       "      <td>ESMA SAADA</td>\n",
       "      <td>440</td>\n",
       "      <td>0</td>\n",
       "      <td>0.588235</td>\n",
       "      <td>0.917647</td>\n",
       "      <td>0.611111</td>\n",
       "      <td>2.116993</td>\n",
       "      <td>ESMA SAADA BOUZID</td>\n",
       "      <td>1.0</td>\n",
       "      <td>esma.saada-bouzid@nice.unicancer.fr</td>\n",
       "    </tr>\n",
       "    <tr>\n",
       "      <th>5</th>\n",
       "      <td>312</td>\n",
       "      <td>FEDERICO VERGA</td>\n",
       "      <td>528</td>\n",
       "      <td>0</td>\n",
       "      <td>0.500000</td>\n",
       "      <td>0.732873</td>\n",
       "      <td>0.470588</td>\n",
       "      <td>1.703462</td>\n",
       "      <td>FREDERIC COULAMA</td>\n",
       "      <td>1.0</td>\n",
       "      <td>asso.apal@hotmail.com</td>\n",
       "    </tr>\n",
       "    <tr>\n",
       "      <th>6</th>\n",
       "      <td>439</td>\n",
       "      <td>IGNACIO GARRIDO STOWHAS</td>\n",
       "      <td>630</td>\n",
       "      <td>0</td>\n",
       "      <td>0.652174</td>\n",
       "      <td>0.930435</td>\n",
       "      <td>0.666667</td>\n",
       "      <td>2.249275</td>\n",
       "      <td>IGNACIO GARRIDO</td>\n",
       "      <td>2.0</td>\n",
       "      <td>garrido-stowhas.ignacio@claudiusregaud.fr; drg...</td>\n",
       "    </tr>\n",
       "    <tr>\n",
       "      <th>7</th>\n",
       "      <td>473</td>\n",
       "      <td>JEAN BOURHIS</td>\n",
       "      <td>716</td>\n",
       "      <td>0</td>\n",
       "      <td>0.666667</td>\n",
       "      <td>0.883333</td>\n",
       "      <td>0.684211</td>\n",
       "      <td>2.234211</td>\n",
       "      <td>JEAN HENRI BOURHIS</td>\n",
       "      <td>2.0</td>\n",
       "      <td>bourhis@gustaveroussy.fr; ana.chauvain@gustave...</td>\n",
       "    </tr>\n",
       "    <tr>\n",
       "      <th>8</th>\n",
       "      <td>542</td>\n",
       "      <td>JULIE MERVILLE DECHANET</td>\n",
       "      <td>791</td>\n",
       "      <td>0</td>\n",
       "      <td>0.391304</td>\n",
       "      <td>0.939130</td>\n",
       "      <td>1.000000</td>\n",
       "      <td>2.330435</td>\n",
       "      <td>JULIE DECHANET MERVILLE</td>\n",
       "      <td>2.0</td>\n",
       "      <td>julie.dechanet@umr5164.u-bordeaux2.fr; julie.d...</td>\n",
       "    </tr>\n",
       "    <tr>\n",
       "      <th>9</th>\n",
       "      <td>582</td>\n",
       "      <td>LAURENCE ALBIGES SAUVIN</td>\n",
       "      <td>836</td>\n",
       "      <td>0</td>\n",
       "      <td>0.695652</td>\n",
       "      <td>0.939130</td>\n",
       "      <td>0.708333</td>\n",
       "      <td>2.343116</td>\n",
       "      <td>LAURENCE ALBIGES</td>\n",
       "      <td>2.0</td>\n",
       "      <td>laurence.albiges@gmail.com; laurence.albiges@g...</td>\n",
       "    </tr>\n",
       "    <tr>\n",
       "      <th>10</th>\n",
       "      <td>611</td>\n",
       "      <td>LUCILLE COURONNE</td>\n",
       "      <td>882</td>\n",
       "      <td>0</td>\n",
       "      <td>0.937500</td>\n",
       "      <td>0.987500</td>\n",
       "      <td>0.941176</td>\n",
       "      <td>2.866176</td>\n",
       "      <td>LUCILE COURONNE</td>\n",
       "      <td>0.0</td>\n",
       "      <td>NaN</td>\n",
       "    </tr>\n",
       "    <tr>\n",
       "      <th>11</th>\n",
       "      <td>628</td>\n",
       "      <td>MARC MAKEIEFF</td>\n",
       "      <td>1</td>\n",
       "      <td>0</td>\n",
       "      <td>0.692308</td>\n",
       "      <td>0.860399</td>\n",
       "      <td>0.642857</td>\n",
       "      <td>2.195564</td>\n",
       "      <td>MAKEIEFF</td>\n",
       "      <td>1.0</td>\n",
       "      <td>m-makeieff@chu-montpellier.fr</td>\n",
       "    </tr>\n",
       "    <tr>\n",
       "      <th>12</th>\n",
       "      <td>707</td>\n",
       "      <td>NATHALIE GAULT</td>\n",
       "      <td>1049</td>\n",
       "      <td>0</td>\n",
       "      <td>0.933333</td>\n",
       "      <td>0.986667</td>\n",
       "      <td>0.875000</td>\n",
       "      <td>2.795000</td>\n",
       "      <td>NATHALIE GAULT0</td>\n",
       "      <td>1.0</td>\n",
       "      <td>nathalie.gault@cea .fr</td>\n",
       "    </tr>\n",
       "    <tr>\n",
       "      <th>13</th>\n",
       "      <td>872</td>\n",
       "      <td>SANDRINE DABAKUYO</td>\n",
       "      <td>1302</td>\n",
       "      <td>0</td>\n",
       "      <td>0.739130</td>\n",
       "      <td>0.947826</td>\n",
       "      <td>0.750000</td>\n",
       "      <td>2.436957</td>\n",
       "      <td>SANDRINE DABAKUYO YONLI</td>\n",
       "      <td>1.0</td>\n",
       "      <td>sdabakuyo@cgfl.fr</td>\n",
       "    </tr>\n",
       "    <tr>\n",
       "      <th>14</th>\n",
       "      <td>984</td>\n",
       "      <td>YANN GAUDUEL</td>\n",
       "      <td>1472</td>\n",
       "      <td>0</td>\n",
       "      <td>0.600000</td>\n",
       "      <td>0.870000</td>\n",
       "      <td>0.619048</td>\n",
       "      <td>2.089048</td>\n",
       "      <td>YANN ANTOINE GAUDUEL</td>\n",
       "      <td>1.0</td>\n",
       "      <td>yann.gauduel@ensta-paristech.fr</td>\n",
       "    </tr>\n",
       "  </tbody>\n",
       "</table>\n",
       "</div>"
      ],
      "text/plain": [
       "    name_id_grnt                    name_x  name_id_proj  0         1  \\\n",
       "0             83            ARNAUD VILLERS           118  0  0.933333   \n",
       "1             90      AURA CARREIRA MORENO           124  0  0.650000   \n",
       "2            184  CHRISTELE DESBOIS MOUTON           274  0  0.960000   \n",
       "3            272            ELLEN BENHAMOU           405  0  0.608696   \n",
       "4            296                ESMA SAADA           440  0  0.588235   \n",
       "5            312            FEDERICO VERGA           528  0  0.500000   \n",
       "6            439   IGNACIO GARRIDO STOWHAS           630  0  0.652174   \n",
       "7            473              JEAN BOURHIS           716  0  0.666667   \n",
       "8            542   JULIE MERVILLE DECHANET           791  0  0.391304   \n",
       "9            582   LAURENCE ALBIGES SAUVIN           836  0  0.695652   \n",
       "10           611          LUCILLE COURONNE           882  0  0.937500   \n",
       "11           628             MARC MAKEIEFF             1  0  0.692308   \n",
       "12           707            NATHALIE GAULT          1049  0  0.933333   \n",
       "13           872         SANDRINE DABAKUYO          1302  0  0.739130   \n",
       "14           984              YANN GAUDUEL          1472  0  0.600000   \n",
       "\n",
       "           2         3     score                     name_y  email_count  \\\n",
       "0   0.958095  0.875000  2.766429            ARNAULD VILLERS          2.0   \n",
       "1   0.930000  0.666667  2.246667              AURA CARREIRA          1.0   \n",
       "2   0.992000  0.923077  2.875077  CHRISTELE DESBOIS MOUTHON          2.0   \n",
       "3   0.921739  0.625000  2.155435    ELLEN BENHAMOU BOROWSKI          2.0   \n",
       "4   0.917647  0.611111  2.116993          ESMA SAADA BOUZID          1.0   \n",
       "5   0.732873  0.470588  1.703462           FREDERIC COULAMA          1.0   \n",
       "6   0.930435  0.666667  2.249275            IGNACIO GARRIDO          2.0   \n",
       "7   0.883333  0.684211  2.234211         JEAN HENRI BOURHIS          2.0   \n",
       "8   0.939130  1.000000  2.330435    JULIE DECHANET MERVILLE          2.0   \n",
       "9   0.939130  0.708333  2.343116           LAURENCE ALBIGES          2.0   \n",
       "10  0.987500  0.941176  2.866176            LUCILE COURONNE          0.0   \n",
       "11  0.860399  0.642857  2.195564                   MAKEIEFF          1.0   \n",
       "12  0.986667  0.875000  2.795000            NATHALIE GAULT0          1.0   \n",
       "13  0.947826  0.750000  2.436957    SANDRINE DABAKUYO YONLI          1.0   \n",
       "14  0.870000  0.619048  2.089048       YANN ANTOINE GAUDUEL          1.0   \n",
       "\n",
       "                                               emails  \n",
       "0   arnauld.villers@wanadoo.fr; a-villers@chru-lil...  \n",
       "1                              aura.carreira@curie.fr  \n",
       "2   christele.desbois-mouthon@inserm.fr; desbois@s...  \n",
       "3   ellen.benhamou@gustaveroussy.fr; benhamou@gust...  \n",
       "4                 esma.saada-bouzid@nice.unicancer.fr  \n",
       "5                               asso.apal@hotmail.com  \n",
       "6   garrido-stowhas.ignacio@claudiusregaud.fr; drg...  \n",
       "7   bourhis@gustaveroussy.fr; ana.chauvain@gustave...  \n",
       "8   julie.dechanet@umr5164.u-bordeaux2.fr; julie.d...  \n",
       "9   laurence.albiges@gmail.com; laurence.albiges@g...  \n",
       "10                                                NaN  \n",
       "11                      m-makeieff@chu-montpellier.fr  \n",
       "12                             nathalie.gault@cea .fr  \n",
       "13                                  sdabakuyo@cgfl.fr  \n",
       "14                    yann.gauduel@ensta-paristech.fr  "
      ]
     },
     "execution_count": 28,
     "metadata": {},
     "output_type": "execute_result"
    }
   ],
   "source": [
    "df"
   ]
  },
  {
   "cell_type": "code",
   "execution_count": 29,
   "metadata": {},
   "outputs": [],
   "source": [
    "incorrect_matching_grnt_ids = [312]\n",
    "df_2 = df[df['name_id_grnt'].apply(lambda x: x not in incorrect_matching_grnt_ids)].reset_index(drop = True)"
   ]
  },
  {
   "cell_type": "markdown",
   "metadata": {},
   "source": [
    "## Combining All Results"
   ]
  },
  {
   "cell_type": "code",
   "execution_count": 30,
   "metadata": {},
   "outputs": [],
   "source": [
    "del df_2[0], df_2[1], df_2[2], df_2[3], df_2['score']\n",
    "df_2 = df_2.rename(index=str, columns={'name_x': \"name\", 'name_y': 'inca_name'})"
   ]
  },
  {
   "cell_type": "code",
   "execution_count": 31,
   "metadata": {},
   "outputs": [],
   "source": [
    "df_1['inca_name'] = df_1['name']"
   ]
  },
  {
   "cell_type": "code",
   "execution_count": 32,
   "metadata": {},
   "outputs": [],
   "source": [
    "df = pd.concat([df_1, df_2])[['name_id_grnt', 'name', 'inca_name', 'email_count', 'emails']]"
   ]
  },
  {
   "cell_type": "code",
   "execution_count": 33,
   "metadata": {},
   "outputs": [],
   "source": [
    "df = pd.merge(names, df, on = ['name_id_grnt', 'name'], how = 'left')"
   ]
  },
  {
   "cell_type": "code",
   "execution_count": 34,
   "metadata": {},
   "outputs": [],
   "source": [
    "df.to_csv('../output/email_linkage.csv', index = False)"
   ]
  },
  {
   "cell_type": "markdown",
   "metadata": {},
   "source": [
    "## Summary Statistics"
   ]
  },
  {
   "cell_type": "code",
   "execution_count": 35,
   "metadata": {},
   "outputs": [
    {
     "data": {
      "text/html": [
       "<div>\n",
       "<style scoped>\n",
       "    .dataframe tbody tr th:only-of-type {\n",
       "        vertical-align: middle;\n",
       "    }\n",
       "\n",
       "    .dataframe tbody tr th {\n",
       "        vertical-align: top;\n",
       "    }\n",
       "\n",
       "    .dataframe thead th {\n",
       "        text-align: right;\n",
       "    }\n",
       "</style>\n",
       "<table border=\"1\" class=\"dataframe\">\n",
       "  <thead>\n",
       "    <tr style=\"text-align: right;\">\n",
       "      <th></th>\n",
       "      <th>name_id_grnt</th>\n",
       "      <th>name</th>\n",
       "      <th>inca_name</th>\n",
       "      <th>email_count</th>\n",
       "      <th>emails</th>\n",
       "    </tr>\n",
       "  </thead>\n",
       "  <tbody>\n",
       "    <tr>\n",
       "      <th>count</th>\n",
       "      <td>1000.000000</td>\n",
       "      <td>1000</td>\n",
       "      <td>999</td>\n",
       "      <td>999.000000</td>\n",
       "      <td>908</td>\n",
       "    </tr>\n",
       "    <tr>\n",
       "      <th>unique</th>\n",
       "      <td>NaN</td>\n",
       "      <td>1000</td>\n",
       "      <td>999</td>\n",
       "      <td>NaN</td>\n",
       "      <td>908</td>\n",
       "    </tr>\n",
       "    <tr>\n",
       "      <th>top</th>\n",
       "      <td>NaN</td>\n",
       "      <td>SAMUEL VALABLE</td>\n",
       "      <td>SAMUEL VALABLE</td>\n",
       "      <td>NaN</td>\n",
       "      <td>marc.ychou@montpellier.unicancer.fr; marc.ycho...</td>\n",
       "    </tr>\n",
       "    <tr>\n",
       "      <th>freq</th>\n",
       "      <td>NaN</td>\n",
       "      <td>1</td>\n",
       "      <td>1</td>\n",
       "      <td>NaN</td>\n",
       "      <td>1</td>\n",
       "    </tr>\n",
       "    <tr>\n",
       "      <th>mean</th>\n",
       "      <td>499.500000</td>\n",
       "      <td>NaN</td>\n",
       "      <td>NaN</td>\n",
       "      <td>1.168168</td>\n",
       "      <td>NaN</td>\n",
       "    </tr>\n",
       "    <tr>\n",
       "      <th>std</th>\n",
       "      <td>288.819436</td>\n",
       "      <td>NaN</td>\n",
       "      <td>NaN</td>\n",
       "      <td>0.624923</td>\n",
       "      <td>NaN</td>\n",
       "    </tr>\n",
       "    <tr>\n",
       "      <th>min</th>\n",
       "      <td>0.000000</td>\n",
       "      <td>NaN</td>\n",
       "      <td>NaN</td>\n",
       "      <td>0.000000</td>\n",
       "      <td>NaN</td>\n",
       "    </tr>\n",
       "    <tr>\n",
       "      <th>25%</th>\n",
       "      <td>249.750000</td>\n",
       "      <td>NaN</td>\n",
       "      <td>NaN</td>\n",
       "      <td>1.000000</td>\n",
       "      <td>NaN</td>\n",
       "    </tr>\n",
       "    <tr>\n",
       "      <th>50%</th>\n",
       "      <td>499.500000</td>\n",
       "      <td>NaN</td>\n",
       "      <td>NaN</td>\n",
       "      <td>1.000000</td>\n",
       "      <td>NaN</td>\n",
       "    </tr>\n",
       "    <tr>\n",
       "      <th>75%</th>\n",
       "      <td>749.250000</td>\n",
       "      <td>NaN</td>\n",
       "      <td>NaN</td>\n",
       "      <td>1.000000</td>\n",
       "      <td>NaN</td>\n",
       "    </tr>\n",
       "    <tr>\n",
       "      <th>max</th>\n",
       "      <td>999.000000</td>\n",
       "      <td>NaN</td>\n",
       "      <td>NaN</td>\n",
       "      <td>4.000000</td>\n",
       "      <td>NaN</td>\n",
       "    </tr>\n",
       "  </tbody>\n",
       "</table>\n",
       "</div>"
      ],
      "text/plain": [
       "        name_id_grnt            name       inca_name  email_count  \\\n",
       "count    1000.000000            1000             999   999.000000   \n",
       "unique           NaN            1000             999          NaN   \n",
       "top              NaN  SAMUEL VALABLE  SAMUEL VALABLE          NaN   \n",
       "freq             NaN               1               1          NaN   \n",
       "mean      499.500000             NaN             NaN     1.168168   \n",
       "std       288.819436             NaN             NaN     0.624923   \n",
       "min         0.000000             NaN             NaN     0.000000   \n",
       "25%       249.750000             NaN             NaN     1.000000   \n",
       "50%       499.500000             NaN             NaN     1.000000   \n",
       "75%       749.250000             NaN             NaN     1.000000   \n",
       "max       999.000000             NaN             NaN     4.000000   \n",
       "\n",
       "                                                   emails  \n",
       "count                                                 908  \n",
       "unique                                                908  \n",
       "top     marc.ychou@montpellier.unicancer.fr; marc.ycho...  \n",
       "freq                                                    1  \n",
       "mean                                                  NaN  \n",
       "std                                                   NaN  \n",
       "min                                                   NaN  \n",
       "25%                                                   NaN  \n",
       "50%                                                   NaN  \n",
       "75%                                                   NaN  \n",
       "max                                                   NaN  "
      ]
     },
     "execution_count": 35,
     "metadata": {},
     "output_type": "execute_result"
    }
   ],
   "source": [
    "df.describe(include = 'all')"
   ]
  },
  {
   "cell_type": "code",
   "execution_count": 36,
   "metadata": {},
   "outputs": [
    {
     "name": "stdout",
     "output_type": "stream",
     "text": [
      "There are 1000 unique INCA researchers in the grant data.\n",
      "999 researchers were matched to the INCA database.\n",
      "The INCA database has email information for 908 of these researchers.\n"
     ]
    }
   ],
   "source": [
    "print(\"There are {} unique INCA researchers in the grant data.\".format(df['name'].count()))\n",
    "print(\"{} researchers were matched to the INCA database.\".format(df['inca_name'].count()))\n",
    "print(\"The INCA database has email information for {} of these researchers.\".format(df['emails'].count()))"
   ]
  },
  {
   "cell_type": "code",
   "execution_count": 37,
   "metadata": {},
   "outputs": [
    {
     "name": "stdout",
     "output_type": "stream",
     "text": [
      "Some researchers have several emails. Here is the distribution:\n",
      "\n",
      "1    680\n",
      "2    200\n",
      "0     91\n",
      "3     25\n",
      "4      3\n",
      "Name: email_count, dtype: int64\n",
      "\n",
      "As % of total:\n",
      "\n",
      "1    0.680681\n",
      "2    0.200200\n",
      "0    0.091091\n",
      "3    0.025025\n",
      "4    0.003003\n",
      "Name: email_count, dtype: float64\n"
     ]
    }
   ],
   "source": [
    "print(\"Some researchers have several emails. Here is the distribution:\\n\")\n",
    "print(df[df['email_count'].notnull()]['email_count'].apply(lambda x: int(x)).value_counts())\n",
    "print(\"\\nAs % of total:\\n\")\n",
    "print(df[df['email_count'].notnull()]['email_count'].apply(lambda x: int(x)).value_counts(normalize = True))"
   ]
  },
  {
   "cell_type": "markdown",
   "metadata": {},
   "source": [
    "## Sandbox"
   ]
  },
  {
   "cell_type": "code",
   "execution_count": null,
   "metadata": {},
   "outputs": [],
   "source": []
  },
  {
   "cell_type": "code",
   "execution_count": null,
   "metadata": {},
   "outputs": [],
   "source": []
  }
 ],
 "metadata": {
  "kernelspec": {
   "display_name": "Python 3",
   "language": "python",
   "name": "python3"
  },
  "language_info": {
   "codemirror_mode": {
    "name": "ipython",
    "version": 3
   },
   "file_extension": ".py",
   "mimetype": "text/x-python",
   "name": "python",
   "nbconvert_exporter": "python",
   "pygments_lexer": "ipython3",
   "version": "3.6.2"
  },
  "toc": {
   "nav_menu": {},
   "number_sections": false,
   "sideBar": true,
   "skip_h1_title": false,
   "title_cell": "Table of Contents",
   "title_sidebar": "Contents",
   "toc_cell": false,
   "toc_position": {},
   "toc_section_display": true,
   "toc_window_display": true
  }
 },
 "nbformat": 4,
 "nbformat_minor": 2
}
