{
 "cells": [
  {
   "cell_type": "markdown",
   "metadata": {},
   "source": [
    "# INCA Data Cleaning and Extractions"
   ]
  },
  {
   "cell_type": "markdown",
   "metadata": {},
   "source": [
    "## Python Setup"
   ]
  },
  {
   "cell_type": "code",
   "execution_count": 174,
   "metadata": {},
   "outputs": [],
   "source": [
    "import pandas as pd\n",
    "import numpy as np\n",
    "from datetime import timedelta\n",
    "from pandas import Series\n",
    "from openpyxl import load_workbook\n",
    "import re\n",
    "pd.options.display.max_columns = 100\n",
    "from api_query import execute_query\n",
    "from api_query import pull_data\n",
    "import time"
   ]
  },
  {
   "cell_type": "markdown",
   "metadata": {},
   "source": [
    "## Load In Data"
   ]
  },
  {
   "cell_type": "code",
   "execution_count": 175,
   "metadata": {},
   "outputs": [],
   "source": [
    "grnts = pd.read_csv('../data/inca_raw/inca_grants_details.csv', low_memory=False)\n",
    "pubs = pd.read_csv('../data/inca_raw/inca_pub_details.csv', low_memory=False)\n",
    "inca_orcid_responses = pd.read_csv('../output/researcher_info/researcher_info_ORCID_returns.csv', low_memory=False)"
   ]
  },
  {
   "cell_type": "markdown",
   "metadata": {},
   "source": [
    "## INCA ID - Dimensions ID Lookup"
   ]
  },
  {
   "cell_type": "code",
   "execution_count": 176,
   "metadata": {},
   "outputs": [],
   "source": [
    "id_lookup = pubs[['INCA ID', 'Dimensions Researcher ID']].drop_duplicates().reset_index(drop=True)"
   ]
  },
  {
   "cell_type": "code",
   "execution_count": 177,
   "metadata": {},
   "outputs": [],
   "source": [
    "grnts = pd.merge(grnts, id_lookup, how='left', on='INCA ID')\n",
    "grnts['Dimensions Researcher ID'] = np.where(grnts['Dimensions Researcher ID'].notnull(), \n",
    "                                                  grnts['Dimensions Researcher ID'], grnts['INCA ID'])"
   ]
  },
  {
   "cell_type": "markdown",
   "metadata": {},
   "source": [
    "## Account for Dimensions Manual Disambiguations"
   ]
  },
  {
   "cell_type": "code",
   "execution_count": 178,
   "metadata": {},
   "outputs": [],
   "source": [
    "ids = pubs[['Dimensions Researcher ID', 'Additional Researcher DIM ID to combine', \n",
    "                 'Additional Researcher DIM ID to combine 2']].copy().drop_duplicates().reset_index(drop=True)"
   ]
  },
  {
   "cell_type": "code",
   "execution_count": 179,
   "metadata": {},
   "outputs": [],
   "source": [
    "dupls_1 = ids[ids['Additional Researcher DIM ID to combine 2'].notnull()].reset_index(drop=True)\n",
    "dupls_1['new_id'] = (dupls_1['Dimensions Researcher ID']\n",
    "                      +\"&\"+dupls_1['Additional Researcher DIM ID to combine']\n",
    "                      +\"&\"+dupls_1['Additional Researcher DIM ID to combine 2'])\n",
    "dupls_2 = ids[(ids['Additional Researcher DIM ID to combine 2'].isnull())\n",
    "               &(ids['Additional Researcher DIM ID to combine'].notnull())].reset_index(drop=True)\n",
    "dupls_2['new_id'] = (dupls_2['Dimensions Researcher ID']\n",
    "                      +\"&\"+dupls_2['Additional Researcher DIM ID to combine'])\n",
    "dupls = pd.concat([dupls_1, dupls_2]).reset_index(drop=True)"
   ]
  },
  {
   "cell_type": "code",
   "execution_count": 180,
   "metadata": {},
   "outputs": [],
   "source": [
    "id_replacer = pd.DataFrame()\n",
    "for var in ('Dimensions Researcher ID', \n",
    "            'Additional Researcher DIM ID to combine', \n",
    "            'Additional Researcher DIM ID to combine 2'):\n",
    "    temp = dupls[dupls[var].notnull()][[var, 'new_id']].copy()\n",
    "    temp.rename(columns={var:'old_id'}, inplace=True)\n",
    "    if id_replacer.empty:\n",
    "        id_replacer = temp.copy()\n",
    "    else:\n",
    "        id_replacer = pd.concat([id_replacer, temp]).reset_index(drop=True)"
   ]
  },
  {
   "cell_type": "code",
   "execution_count": 181,
   "metadata": {},
   "outputs": [],
   "source": [
    "id_replacer.to_csv('../data/id_replacer.csv', index=False)"
   ]
  },
  {
   "cell_type": "code",
   "execution_count": 182,
   "metadata": {},
   "outputs": [],
   "source": [
    "def id_replace(df):\n",
    "    df = pd.merge(df, id_replacer, how='left', left_on='rsr_id', right_on='old_id')\n",
    "    df['rsr_id'] = np.where(df['new_id'].notnull(), df['new_id'], df['rsr_id'])\n",
    "    del df['old_id'], df['new_id']\n",
    "    return df"
   ]
  },
  {
   "cell_type": "markdown",
   "metadata": {},
   "source": [
    "## Clean Up Grant and Publication Files"
   ]
  },
  {
   "cell_type": "code",
   "execution_count": 183,
   "metadata": {},
   "outputs": [],
   "source": [
    "# Clean Grants File\n",
    "grnts.columns = [x.lower().replace(' ', '_') for x in grnts.columns]\n",
    "grnts.rename(columns={'dimensions_researcher_id': 'rsr_id'\n",
    "                            , 'funding_amount_($)': 'funding_amount'\n",
    "                            , 'dimensions_grant_id': 'grant_id'\n",
    "                            , 'funder': 'funder_name'\n",
    "                            , 'rcdc': 'rcdc_names'\n",
    "                            , 'prenom_port': 'first_name'\n",
    "                            , 'nom_port': 'last_name'\n",
    "                           }, inplace=True)\n",
    "del grnts['title'], grnts['reference'], grnts['organisme_port'], grnts['research_org_names']\n",
    "del grnts['research_org_ids'], grnts['for'], grnts['abstract']"
   ]
  },
  {
   "cell_type": "code",
   "execution_count": 184,
   "metadata": {},
   "outputs": [],
   "source": [
    "# Clean Pubs File\n",
    "pubs.columns = [x.lower().replace(' ', '_') for x in pubs.columns]\n",
    "pubs.rename(columns={'dimensions_researcher_id': 'rsr_id'\n",
    "                          , 'dimensions_publication_id': 'pub_id'\n",
    "                          , 'publication_year': 'date'\n",
    "                          , 'rcdc': 'rcdc_names'\n",
    "                          , 'times_cited': 'citations'\n",
    "                          , 'pubmed_id': 'pmid'\n",
    "                         }, inplace=True)\n",
    "del pubs['prenom_port'], pubs['nom_port'], pubs['organisme_port']\n",
    "del pubs['additional_researcher_dim_id_to_combine'], pubs['additional_researcher_dim_id_to_combine_2']\n",
    "del pubs['orcid'], pubs['title'], pubs['issue']\n",
    "del pubs['pages'], pubs['volume'], pubs['relative_citation_ratio']\n",
    "del pubs['altmetric'], pubs['open_access'], pubs['author_names'], pubs['research_org_names']\n",
    "del pubs['research_org_ids'], pubs['for'], pubs['journal_id'], pubs['journal_title']\n",
    "del pubs['publication_date']\n",
    "pubs['date'] = pubs['date'].apply(str).replace('\\.0', '', regex=True)\n",
    "pubs['date'] = pubs['date'].apply(lambda x: np.nan if x==\"nan\" else x+\"-01-01\")\n",
    "pubs['citations'] = pd.to_numeric(pubs['citations'])"
   ]
  },
  {
   "cell_type": "markdown",
   "metadata": {},
   "source": [
    "## Get Rid of RCDC Codes"
   ]
  },
  {
   "cell_type": "code",
   "execution_count": 185,
   "metadata": {},
   "outputs": [],
   "source": [
    "# Keep RCDC Codes in Seperate Table\n",
    "grnts_rcdc = grnts[grnts['rcdc_names'].notnull()].copy()\n",
    "grnts_rcdc = grnts_rcdc[['grant_id', 'rcdc_names']].drop_duplicates()\n",
    "grnts_rcdc = pd.concat([Series(row['grant_id'], row['rcdc_names'].split(';'))\n",
    "                                    for _, row in grnts_rcdc.iterrows()]).reset_index()\n",
    "grnts_rcdc.columns = ['rcdc_name', 'grant_id']\n",
    "grnts_rcdc['rcdc_name'] = grnts_rcdc['rcdc_name'].str.strip().str.upper()\n",
    "\n",
    "del grnts['rcdc_names']"
   ]
  },
  {
   "cell_type": "code",
   "execution_count": 186,
   "metadata": {},
   "outputs": [],
   "source": [
    "# Keep RCDC Codes in Seperate Table\n",
    "pubs_rcdc = pubs[pubs['rcdc_names'].notnull()].copy()\n",
    "pubs_rcdc = pubs_rcdc[['pub_id', 'rcdc_names']].drop_duplicates()\n",
    "pubs_rcdc = pd.concat([Series(row['pub_id'], row['rcdc_names'].split(';'))\n",
    "                                    for _, row in pubs_rcdc.iterrows()]).reset_index()\n",
    "pubs_rcdc.columns = ['rcdc_name', 'pub_id']\n",
    "pubs_rcdc['rcdc_name'] = pubs_rcdc['rcdc_name'].str.strip().str.upper()\n",
    "\n",
    "del pubs['rcdc_names']"
   ]
  },
  {
   "cell_type": "code",
   "execution_count": 187,
   "metadata": {},
   "outputs": [],
   "source": [
    "grnts_rcdc.to_csv('../data/topic_lookups/inca_researcher_grants_rcdc.csv', index=False)\n",
    "pubs_rcdc.to_csv('../data/topic_lookups/inca_researcher_publications_rcdc.csv', index=False)"
   ]
  },
  {
   "cell_type": "markdown",
   "metadata": {},
   "source": [
    "## Grant Datasets"
   ]
  },
  {
   "cell_type": "code",
   "execution_count": 188,
   "metadata": {},
   "outputs": [],
   "source": [
    "inca_grnts = grnts.copy()\n",
    "del inca_grnts['inca_id']"
   ]
  },
  {
   "cell_type": "markdown",
   "metadata": {},
   "source": [
    "### Seperate INCa-Funded Grants from Researcher Grants"
   ]
  },
  {
   "cell_type": "code",
   "execution_count": 189,
   "metadata": {},
   "outputs": [],
   "source": [
    "# Get INCA-funded Grants from file\n",
    "inca_funders = [\"French National Cancer Institute\", \"French Institute of Health and Medical Research\"]\n",
    "inca_funders += [\"Ministère des Affaires sociales et de la Santé\"]\n",
    "inca_funded_grnts = inca_grnts[(inca_grnts['funder_name'].isin(inca_funders))\n",
    "                               & (pd.DatetimeIndex(inca_grnts['start_date']).year>=2007)\n",
    "                               & (pd.DatetimeIndex(inca_grnts['start_date']).year<=2012)].reset_index(drop=True)\n",
    "inca_grnts = inca_grnts[(~inca_grnts['funder_name'].isin(inca_funders))\n",
    "                        | (pd.DatetimeIndex(inca_grnts['start_date']).year<2007)\n",
    "                        | (pd.DatetimeIndex(inca_grnts['start_date']).year>2012)].reset_index(drop=True)"
   ]
  },
  {
   "cell_type": "code",
   "execution_count": 190,
   "metadata": {},
   "outputs": [],
   "source": [
    "# Replace Funder Names by \"French Funders\"\n",
    "del inca_funded_grnts['funder_name']\n",
    "inca_funded_grnts['funder_name'] = \"INCa/INSERM/DGOS\""
   ]
  },
  {
   "cell_type": "markdown",
   "metadata": {},
   "source": [
    "### Apply ID Replacer"
   ]
  },
  {
   "cell_type": "code",
   "execution_count": 191,
   "metadata": {},
   "outputs": [],
   "source": [
    "inca_funded_grnts = id_replace(inca_funded_grnts)\n",
    "inca_grnts = id_replace(inca_grnts)"
   ]
  },
  {
   "cell_type": "markdown",
   "metadata": {},
   "source": [
    "### Export"
   ]
  },
  {
   "cell_type": "code",
   "execution_count": 192,
   "metadata": {},
   "outputs": [],
   "source": [
    "inca_funded_grnts.to_csv('../data/inca_funded_grants.csv', index=False)\n",
    "inca_grnts.to_csv('../data/inca_researcher_grants.csv', index=False)"
   ]
  },
  {
   "cell_type": "markdown",
   "metadata": {},
   "source": [
    "## Publication Dataset"
   ]
  },
  {
   "cell_type": "markdown",
   "metadata": {},
   "source": [
    "### Pull Additional Publication Info from Dimensions API"
   ]
  },
  {
   "cell_type": "code",
   "execution_count": 19,
   "metadata": {},
   "outputs": [],
   "source": [
    "pub_ids = list(pubs['pub_id'].unique())"
   ]
  },
  {
   "cell_type": "code",
   "execution_count": 20,
   "metadata": {},
   "outputs": [],
   "source": [
    "# Filter operator 'in' requires 0 < items < 512\n",
    "max_in_items = 100\n",
    "\n",
    "# Limit exceeds maximum allowed limit 1000\n",
    "max_return = 500\n",
    "\n",
    "# Offset cannot exceed 50000\n",
    "max_overall_returns = 50000"
   ]
  },
  {
   "cell_type": "code",
   "execution_count": 21,
   "metadata": {
    "scrolled": false
   },
   "outputs": [
    {
     "name": "stdout",
     "output_type": "stream",
     "text": [
      "Querying: 18000-18100/109001 publications...\n",
      "RESPONSE ERROR on i=180 and j=0.\n",
      "\n",
      "Querying: 23900-24000/109001 publications...\r"
     ]
    },
    {
     "ename": "HTTPError",
     "evalue": "429 Client Error: Too Many Requests for url: https://app.dimensions.ai/api/auth.json",
     "output_type": "error",
     "traceback": [
      "\u001b[0;31m---------------------------------------------------------------------------\u001b[0m",
      "\u001b[0;31mHTTPError\u001b[0m                                 Traceback (most recent call last)",
      "\u001b[0;32m<ipython-input-21-33a58c5736cf>\u001b[0m in \u001b[0;36m<module>\u001b[0;34m()\u001b[0m\n\u001b[1;32m      2\u001b[0m \u001b[0mstring\u001b[0m \u001b[0;34m+=\u001b[0m \u001b[0;34m\" return publications[id+doi+pmid+author_affiliations+date+supporting_grant_ids+times_cited]\"\u001b[0m\u001b[0;34m\u001b[0m\u001b[0m\n\u001b[1;32m      3\u001b[0m full_resp = pull_data(string=string, in_list=pub_ids, in_type='publications', return_type='publications', \n\u001b[0;32m----> 4\u001b[0;31m                       max_in_items=max_in_items, max_return=max_return, max_overall_returns=max_overall_returns)\n\u001b[0m",
      "\u001b[0;32m~/dropbox/projects/2018_helios/scripts/api_query.py\u001b[0m in \u001b[0;36mpull_data\u001b[0;34m(string, in_list, in_type, return_type, max_in_items, max_return, max_overall_returns)\u001b[0m\n\u001b[1;32m     48\u001b[0m         \u001b[0;32mwhile\u001b[0m \u001b[0mloop\u001b[0m \u001b[0;34m==\u001b[0m \u001b[0;32mTrue\u001b[0m\u001b[0;34m:\u001b[0m\u001b[0;34m\u001b[0m\u001b[0m\n\u001b[1;32m     49\u001b[0m             \u001b[0mquery_t\u001b[0m \u001b[0;34m=\u001b[0m \u001b[0mquery\u001b[0m \u001b[0;34m+\u001b[0m \u001b[0;34m\" limit {} skip {}\"\u001b[0m\u001b[0;34m.\u001b[0m\u001b[0mformat\u001b[0m\u001b[0;34m(\u001b[0m\u001b[0mmax_return\u001b[0m\u001b[0;34m,\u001b[0m \u001b[0mmax_return\u001b[0m\u001b[0;34m*\u001b[0m\u001b[0mj\u001b[0m\u001b[0;34m)\u001b[0m\u001b[0;34m\u001b[0m\u001b[0m\n\u001b[0;32m---> 50\u001b[0;31m             \u001b[0mresp\u001b[0m \u001b[0;34m=\u001b[0m \u001b[0mexecute_query\u001b[0m\u001b[0;34m(\u001b[0m\u001b[0mquery_t\u001b[0m\u001b[0;34m)\u001b[0m\u001b[0;34m\u001b[0m\u001b[0m\n\u001b[0m\u001b[1;32m     51\u001b[0m             \u001b[0;32mif\u001b[0m \u001b[0mresp\u001b[0m \u001b[0;34m==\u001b[0m \u001b[0;34m\"RESPONSE ERROR\"\u001b[0m\u001b[0;34m:\u001b[0m\u001b[0;34m\u001b[0m\u001b[0m\n\u001b[1;32m     52\u001b[0m                 \u001b[0mprint\u001b[0m\u001b[0;34m(\u001b[0m\u001b[0;34m\"\\nRESPONSE ERROR on i={} and j={}.\\n\"\u001b[0m\u001b[0;34m.\u001b[0m\u001b[0mformat\u001b[0m\u001b[0;34m(\u001b[0m\u001b[0mi\u001b[0m\u001b[0;34m,\u001b[0m \u001b[0mj\u001b[0m\u001b[0;34m)\u001b[0m\u001b[0;34m)\u001b[0m\u001b[0;34m\u001b[0m\u001b[0m\n",
      "\u001b[0;32m~/dropbox/projects/2018_helios/scripts/api_query.py\u001b[0m in \u001b[0;36mexecute_query\u001b[0;34m(string)\u001b[0m\n\u001b[1;32m     17\u001b[0m     \u001b[0;31m# Send credentials to login url to retrieve token.\u001b[0m\u001b[0;34m\u001b[0m\u001b[0;34m\u001b[0m\u001b[0m\n\u001b[1;32m     18\u001b[0m     \u001b[0mresp\u001b[0m \u001b[0;34m=\u001b[0m \u001b[0mrequests\u001b[0m\u001b[0;34m.\u001b[0m\u001b[0mpost\u001b[0m\u001b[0;34m(\u001b[0m\u001b[0;34m'https://app.dimensions.ai/api/auth.json'\u001b[0m\u001b[0;34m,\u001b[0m \u001b[0mjson\u001b[0m\u001b[0;34m=\u001b[0m\u001b[0mlogin\u001b[0m\u001b[0;34m)\u001b[0m\u001b[0;34m\u001b[0m\u001b[0m\n\u001b[0;32m---> 19\u001b[0;31m     \u001b[0mresp\u001b[0m\u001b[0;34m.\u001b[0m\u001b[0mraise_for_status\u001b[0m\u001b[0;34m(\u001b[0m\u001b[0;34m)\u001b[0m\u001b[0;34m\u001b[0m\u001b[0m\n\u001b[0m\u001b[1;32m     20\u001b[0m \u001b[0;34m\u001b[0m\u001b[0m\n\u001b[1;32m     21\u001b[0m     \u001b[0;31m# Create http header using the generated token.\u001b[0m\u001b[0;34m\u001b[0m\u001b[0;34m\u001b[0m\u001b[0m\n",
      "\u001b[0;32m~/anaconda3/lib/python3.6/site-packages/requests/models.py\u001b[0m in \u001b[0;36mraise_for_status\u001b[0;34m(self)\u001b[0m\n\u001b[1;32m    933\u001b[0m \u001b[0;34m\u001b[0m\u001b[0m\n\u001b[1;32m    934\u001b[0m         \u001b[0;32mif\u001b[0m \u001b[0mhttp_error_msg\u001b[0m\u001b[0;34m:\u001b[0m\u001b[0;34m\u001b[0m\u001b[0m\n\u001b[0;32m--> 935\u001b[0;31m             \u001b[0;32mraise\u001b[0m \u001b[0mHTTPError\u001b[0m\u001b[0;34m(\u001b[0m\u001b[0mhttp_error_msg\u001b[0m\u001b[0;34m,\u001b[0m \u001b[0mresponse\u001b[0m\u001b[0;34m=\u001b[0m\u001b[0mself\u001b[0m\u001b[0;34m)\u001b[0m\u001b[0;34m\u001b[0m\u001b[0m\n\u001b[0m\u001b[1;32m    936\u001b[0m \u001b[0;34m\u001b[0m\u001b[0m\n\u001b[1;32m    937\u001b[0m     \u001b[0;32mdef\u001b[0m \u001b[0mclose\u001b[0m\u001b[0;34m(\u001b[0m\u001b[0mself\u001b[0m\u001b[0;34m)\u001b[0m\u001b[0;34m:\u001b[0m\u001b[0;34m\u001b[0m\u001b[0m\n",
      "\u001b[0;31mHTTPError\u001b[0m: 429 Client Error: Too Many Requests for url: https://app.dimensions.ai/api/auth.json"
     ]
    }
   ],
   "source": [
    "string = \"search publications where id in [{}]\"\n",
    "string += \" return publications[id+doi+pmid+author_affiliations+date+supporting_grant_ids+times_cited]\"\n",
    "full_resp = pull_data(string=string, in_list=pub_ids, in_type='publications', return_type='publications', \n",
    "                      max_in_items=max_in_items, max_return=max_return, max_overall_returns=max_overall_returns)"
   ]
  },
  {
   "cell_type": "code",
   "execution_count": null,
   "metadata": {},
   "outputs": [],
   "source": [
    "pub_id = []\n",
    "pmid = []\n",
    "dates = []\n",
    "citations = []\n",
    "dois = []\n",
    "supporting_grants = []\n",
    "nb_authors = []\n",
    "author_id = []\n",
    "author_country = []\n",
    "author_affiliation = []\n",
    "author_affiliation_id = []\n",
    "\n",
    "for pub in full_resp:\n",
    "    if 'id' not in pub:\n",
    "        pub['id'] = np.nan\n",
    "    if 'pmid' not in pub:\n",
    "        pub['pmid'] = np.nan\n",
    "    if 'author_affiliations' not in pub:\n",
    "        pub['author_affiliations'] = [[]]\n",
    "    for author in pub['author_affiliations'][0]: \n",
    "        if 'researcher_id' not in author:\n",
    "            author['researcher_id'] = np.nan\n",
    "        if ('affiliations' not in author)  | (len(author['affiliations'])==0):\n",
    "            author['affiliations'] = [{'country_code':np.nan, 'name': np.nan, 'id':np.nan}]\n",
    "        for affiliation in author['affiliations']:\n",
    "            if 'country_code' not in affiliation:\n",
    "                affiliation['country_code']=np.nan\n",
    "            if 'name' not in affiliation:\n",
    "                affiliation['name']=np.nan\n",
    "            if 'id' not in affiliation:\n",
    "                affiliation['id']=np.nan\n",
    "    if 'date' not in pub:\n",
    "        pub['date'] = np.nan\n",
    "    if 'times_cited' not in pub:\n",
    "        pub['times_cited'] = np.nan\n",
    "    if 'doi' not in pub:\n",
    "        pub['doi'] = np.nan\n",
    "    if 'supporting_grant_ids' not in pub:\n",
    "        pub['supporting_grant_ids'] = [np.nan]\n",
    "    nb = len(pub['author_affiliations'][0])\n",
    "    for author in pub['author_affiliations'][0]:\n",
    "        nb_authors.append(float(nb))\n",
    "        author_id.append(author['researcher_id'])\n",
    "        author_country.append(author['affiliations'][0]['country_code'])\n",
    "        author_affiliation.append(author['affiliations'][0]['name'])\n",
    "        author_affiliation_id.append(author['affiliations'][0]['id'])\n",
    "        pub_id.append(pub['id'])\n",
    "        dates.append(pub['date'])\n",
    "        citations.append(float(pub['times_cited']))\n",
    "        dois.append(pub['doi'])\n",
    "        pmid.append(pub['pmid'])\n",
    "        supporting_grants.append(pub['supporting_grant_ids'])\n",
    "\n",
    "api_pubs = pd.DataFrame({'pub_id':pub_id\n",
    "                         , 'pmid': pmid\n",
    "                         , 'date':dates\n",
    "                         , 'doi':dois\n",
    "                         , 'citations':citations\n",
    "                         , 'nb_authors':nb_authors\n",
    "                         , 'rsr_id':author_id\n",
    "                         , 'rsr_country':author_country\n",
    "                         , 'rsr_affiliation':author_affiliation\n",
    "                         , 'rsr_affiliation_id':author_affiliation_id\n",
    "                         , 'supporting_grants':supporting_grants\n",
    "                        })\n",
    "api_pubs['supporting_grants'] = api_pubs['supporting_grants'].apply(lambda x: np.nan if x==[np.nan] else ';'.join(x))"
   ]
  },
  {
   "cell_type": "code",
   "execution_count": null,
   "metadata": {
    "scrolled": false
   },
   "outputs": [],
   "source": [
    "inca_pubs = pd.merge(pubs[['pub_id', 'rsr_id']].rename(columns={'rsr_id':'original_rsr_id'}).drop_duplicates(), \n",
    "                     api_pubs, how='left', on='pub_id')"
   ]
  },
  {
   "cell_type": "markdown",
   "metadata": {},
   "source": [
    "### Apply ID Replacer"
   ]
  },
  {
   "cell_type": "code",
   "execution_count": null,
   "metadata": {},
   "outputs": [],
   "source": [
    "inca_pubs = id_replace(inca_pubs)"
   ]
  },
  {
   "cell_type": "markdown",
   "metadata": {},
   "source": [
    "### Export"
   ]
  },
  {
   "cell_type": "code",
   "execution_count": null,
   "metadata": {},
   "outputs": [],
   "source": [
    "inca_pubs.to_csv('../data/inca_researcher_publications.csv', index=False)"
   ]
  },
  {
   "cell_type": "markdown",
   "metadata": {},
   "source": [
    "### Export List of Publication IDs"
   ]
  },
  {
   "cell_type": "markdown",
   "metadata": {},
   "source": [
    "For further matching."
   ]
  },
  {
   "cell_type": "code",
   "execution_count": null,
   "metadata": {},
   "outputs": [],
   "source": [
    "inca_pub_ids = inca_pubs[inca_pubs['pmid'].notnull()][['rsr_id', 'pmid']].drop_duplicates()\n",
    "inca_pub_ids.to_csv('../data/inca_pub_ids.csv', index=False)"
   ]
  },
  {
   "cell_type": "markdown",
   "metadata": {},
   "source": [
    "## Researcher Dataset"
   ]
  },
  {
   "cell_type": "markdown",
   "metadata": {},
   "source": [
    "### Resercher Name"
   ]
  },
  {
   "cell_type": "code",
   "execution_count": 212,
   "metadata": {},
   "outputs": [],
   "source": [
    "rsr_name = grnts[['inca_id', 'first_name', 'last_name']].drop_duplicates()"
   ]
  },
  {
   "cell_type": "markdown",
   "metadata": {},
   "source": [
    "### First Year of Publication"
   ]
  },
  {
   "cell_type": "code",
   "execution_count": 213,
   "metadata": {},
   "outputs": [],
   "source": [
    "# Get First Publication\n",
    "rsr_first_year = pubs[['inca_id', 'date']].sort_values(['inca_id', 'date']).drop_duplicates('inca_id')"
   ]
  },
  {
   "cell_type": "markdown",
   "metadata": {},
   "source": [
    "### Affiliation"
   ]
  },
  {
   "cell_type": "code",
   "execution_count": 272,
   "metadata": {},
   "outputs": [
    {
     "name": "stdout",
     "output_type": "stream",
     "text": [
      "Querying 90 out of 1001 reseachers...\r"
     ]
    },
    {
     "ename": "KeyboardInterrupt",
     "evalue": "",
     "output_type": "error",
     "traceback": [
      "\u001b[0;31m---------------------------------------------------------------------------\u001b[0m",
      "\u001b[0;31mKeyboardInterrupt\u001b[0m                         Traceback (most recent call last)",
      "\u001b[0;32m<ipython-input-272-c3c02cea71dd>\u001b[0m in \u001b[0;36m<module>\u001b[0;34m()\u001b[0m\n\u001b[1;32m     15\u001b[0m \u001b[0;34m\u001b[0m\u001b[0m\n\u001b[1;32m     16\u001b[0m     \u001b[0mstop\u001b[0m \u001b[0;34m=\u001b[0m \u001b[0;32mFalse\u001b[0m\u001b[0;34m\u001b[0m\u001b[0m\n\u001b[0;32m---> 17\u001b[0;31m     \u001b[0mtime\u001b[0m\u001b[0;34m.\u001b[0m\u001b[0msleep\u001b[0m\u001b[0;34m(\u001b[0m\u001b[0;36m2\u001b[0m\u001b[0;34m)\u001b[0m\u001b[0;34m\u001b[0m\u001b[0m\n\u001b[0m\u001b[1;32m     18\u001b[0m     \u001b[0mstring\u001b[0m \u001b[0;34m=\u001b[0m \u001b[0;34m\"search publications where id in [{}]\"\u001b[0m\u001b[0;34m.\u001b[0m\u001b[0mformat\u001b[0m\u001b[0;34m(\u001b[0m\u001b[0mpublications\u001b[0m\u001b[0;34m)\u001b[0m\u001b[0;34m\u001b[0m\u001b[0m\n\u001b[1;32m     19\u001b[0m     \u001b[0mstring\u001b[0m \u001b[0;34m+=\u001b[0m \u001b[0;34m\" return publications[author_affiliations] sort by date limit 1000\"\u001b[0m\u001b[0;34m\u001b[0m\u001b[0m\n",
      "\u001b[0;31mKeyboardInterrupt\u001b[0m: "
     ]
    }
   ],
   "source": [
    "# Get Affiliation:\n",
    "rsrs = list(grnts['inca_id'].drop_duplicates())\n",
    "\n",
    "first_affiliation = []\n",
    "first_country = []\n",
    "\n",
    "for rsr in rsrs:\n",
    "    \n",
    "    print(\"Querying {} out of {} reseachers...\".format(rsrs.index(rsr)+1, len(rsrs)), end = '\\r')\n",
    "\n",
    "    temp = pubs[(pubs['inca_id']==rsr)&(pubs['date'].notnull())][['pub_id', 'date']]\n",
    "    publications = list(temp.sort_values('date')['pub_id'])[-500:]\n",
    "    publications = \"\\\"\" + \"\\\", \\\"\".join(publications) + \"\\\"\"\n",
    "    ids = list(pubs[pubs['inca_id']==rsr]['rsr_id'].drop_duplicates())\n",
    "\n",
    "    stop = False\n",
    "    time.sleep(2)\n",
    "    string = \"search publications where id in [{}]\".format(publications)\n",
    "    string += \" return publications[author_affiliations] sort by date limit 1000\"\n",
    "    resp = execute_query(string)\n",
    "    \n",
    "    for i in range(len(resp['publications']), 0, -1):\n",
    "        for elem in resp['publications'][i-1]['author_affiliations'][0]:\n",
    "            if 'researcher_id' in elem:\n",
    "                if elem['researcher_id'] in ids:\n",
    "                    if len(elem['affiliations'])>0:\n",
    "                        stop = True\n",
    "                        if 'country_code' in elem['affiliations'][0]:\n",
    "                            first_country.append(elem['affiliations'][0]['country_code'])\n",
    "                        else:\n",
    "                            first_country.append(np.nan)\n",
    "                        if 'name' in elem['affiliations'][0]:\n",
    "                            first_affiliation.append(elem['affiliations'][0]['name'])\n",
    "                        else:\n",
    "                            first_affiliation.append(np.nan)\n",
    "                    break\n",
    "        if stop==True:\n",
    "            break\n",
    "    if stop==False:\n",
    "        first_country.append(np.nan)\n",
    "        first_affiliation.append(np.nan)\n",
    "\n",
    "print(\"\\nDone !\")\n",
    "        \n",
    "rsr_affl = pd.DataFrame({'inca_id':rsrs\n",
    "                         , 'affiliation': first_affiliation\n",
    "                         , 'country': first_country\n",
    "                        })"
   ]
  },
  {
   "cell_type": "markdown",
   "metadata": {},
   "source": [
    "### Merge All Together"
   ]
  },
  {
   "cell_type": "code",
   "execution_count": null,
   "metadata": {},
   "outputs": [],
   "source": [
    "# Merge all together:\n",
    "rsr_info = pd.merge(rsr_name, rsr_first_year, how='left', on='inca_id')\n",
    "rsr_info = pd.merge(rsr_info, rsr_affl, how='left', on='inca_id')\n",
    "rsr_info = pd.merge(rsr_info, id_lookup.rename(columns={'INCA ID':'inca_id', 'Dimensions Researcher ID':'rsr_id'}),\n",
    "                    how='left', on='inca_id')"
   ]
  },
  {
   "cell_type": "markdown",
   "metadata": {},
   "source": [
    "### Add ORCID Responses"
   ]
  },
  {
   "cell_type": "code",
   "execution_count": 221,
   "metadata": {},
   "outputs": [],
   "source": [
    "# INCA ORCID-responses: keep only when there was an ORCID response.\n",
    "inca_orcid_responses = inca_orcid_responses[inca_orcid_responses['ORCID Return']==\"YES\"].reset_index(drop=True)\n",
    "conf_ids = list(inca_orcid_responses['INCA ID'])\n",
    "\n",
    "# # Change Funder Name in INCa-Funded grants when they responded to ORCID\n",
    "rsr_info['orcid_confirmed'] = (rsr_info['inca_id'].isin(conf_ids))"
   ]
  },
  {
   "cell_type": "markdown",
   "metadata": {},
   "source": [
    "### ID Replacer"
   ]
  },
  {
   "cell_type": "code",
   "execution_count": 222,
   "metadata": {},
   "outputs": [],
   "source": [
    "rsr_info = id_replace(rsr_info)"
   ]
  },
  {
   "cell_type": "code",
   "execution_count": 223,
   "metadata": {},
   "outputs": [
    {
     "data": {
      "text/html": [
       "<div>\n",
       "<style scoped>\n",
       "    .dataframe tbody tr th:only-of-type {\n",
       "        vertical-align: middle;\n",
       "    }\n",
       "\n",
       "    .dataframe tbody tr th {\n",
       "        vertical-align: top;\n",
       "    }\n",
       "\n",
       "    .dataframe thead th {\n",
       "        text-align: right;\n",
       "    }\n",
       "</style>\n",
       "<table border=\"1\" class=\"dataframe\">\n",
       "  <thead>\n",
       "    <tr style=\"text-align: right;\">\n",
       "      <th></th>\n",
       "      <th>inca_id</th>\n",
       "      <th>first_name</th>\n",
       "      <th>last_name</th>\n",
       "      <th>date</th>\n",
       "      <th>rsr_id</th>\n",
       "      <th>orcid_confirmed</th>\n",
       "    </tr>\n",
       "  </thead>\n",
       "  <tbody>\n",
       "    <tr>\n",
       "      <th>0</th>\n",
       "      <td>inca_1</td>\n",
       "      <td>Jérôme</td>\n",
       "      <td>ABADIE</td>\n",
       "      <td>1998-01-01</td>\n",
       "      <td>ur.0642054564.81</td>\n",
       "      <td>False</td>\n",
       "    </tr>\n",
       "    <tr>\n",
       "      <th>1</th>\n",
       "      <td>inca_2</td>\n",
       "      <td>Julien</td>\n",
       "      <td>ADAM</td>\n",
       "      <td>2006-01-01</td>\n",
       "      <td>ur.01177206360.47</td>\n",
       "      <td>False</td>\n",
       "    </tr>\n",
       "    <tr>\n",
       "      <th>2</th>\n",
       "      <td>inca_3</td>\n",
       "      <td>Antoine</td>\n",
       "      <td>ADENIS</td>\n",
       "      <td>1988-01-01</td>\n",
       "      <td>ur.01303404424.36&amp;ur.01067706306.01</td>\n",
       "      <td>False</td>\n",
       "    </tr>\n",
       "    <tr>\n",
       "      <th>3</th>\n",
       "      <td>inca_4</td>\n",
       "      <td>Eric</td>\n",
       "      <td>ADRIAENSSENS</td>\n",
       "      <td>1996-01-01</td>\n",
       "      <td>ur.0673152200.72</td>\n",
       "      <td>False</td>\n",
       "    </tr>\n",
       "    <tr>\n",
       "      <th>4</th>\n",
       "      <td>inca_5</td>\n",
       "      <td>Martine</td>\n",
       "      <td>AGGERBECK</td>\n",
       "      <td>1978-01-01</td>\n",
       "      <td>ur.01002761217.53</td>\n",
       "      <td>False</td>\n",
       "    </tr>\n",
       "  </tbody>\n",
       "</table>\n",
       "</div>"
      ],
      "text/plain": [
       "  inca_id first_name     last_name        date  \\\n",
       "0  inca_1     Jérôme        ABADIE  1998-01-01   \n",
       "1  inca_2     Julien          ADAM  2006-01-01   \n",
       "2  inca_3    Antoine        ADENIS  1988-01-01   \n",
       "3  inca_4       Eric  ADRIAENSSENS  1996-01-01   \n",
       "4  inca_5    Martine     AGGERBECK  1978-01-01   \n",
       "\n",
       "                                rsr_id  orcid_confirmed  \n",
       "0                     ur.0642054564.81            False  \n",
       "1                    ur.01177206360.47            False  \n",
       "2  ur.01303404424.36&ur.01067706306.01            False  \n",
       "3                     ur.0673152200.72            False  \n",
       "4                    ur.01002761217.53            False  "
      ]
     },
     "execution_count": 223,
     "metadata": {},
     "output_type": "execute_result"
    }
   ],
   "source": [
    "rsr_info.head()"
   ]
  },
  {
   "cell_type": "code",
   "execution_count": 224,
   "metadata": {},
   "outputs": [],
   "source": [
    "del rsr_info['inca_id']"
   ]
  },
  {
   "cell_type": "markdown",
   "metadata": {},
   "source": [
    "### Export"
   ]
  },
  {
   "cell_type": "code",
   "execution_count": null,
   "metadata": {},
   "outputs": [],
   "source": [
    "rsr_info.to_csv('../data/inca_researcher_info.csv', index=False)"
   ]
  },
  {
   "cell_type": "markdown",
   "metadata": {},
   "source": [
    "## CSO and Cancer Type Lookup Table"
   ]
  },
  {
   "cell_type": "code",
   "execution_count": null,
   "metadata": {},
   "outputs": [],
   "source": [
    "inca_pubs_cso_ct = pd.read_csv('../data/inca_raw/inca_pub_details_with_cso_and_cancertypes.csv', low_memory=False)\n",
    "inca_pubs_cso_ct = inca_pubs_cso_ct[['Dimensions Publication ID', 'CSO', 'Cancer Types']]\n",
    "inca_pubs_cso_ct.rename(columns={'Dimensions Publication ID': 'pub_id', 'CSO': 'cso', 'Cancer Types': 'cancer_type'},\n",
    "                        inplace=True)"
   ]
  },
  {
   "cell_type": "markdown",
   "metadata": {},
   "source": [
    "### CSO"
   ]
  },
  {
   "cell_type": "code",
   "execution_count": null,
   "metadata": {},
   "outputs": [],
   "source": [
    "inca_pubs_cso = inca_pubs_cso_ct[inca_pubs_cso_ct['cso'].notnull()][['pub_id', 'cso']].drop_duplicates()\n",
    "inca_pubs_cso = pd.concat([Series(row['pub_id'], row['cso'].split(';'))\n",
    "                                    for _, row in inca_pubs_cso.iterrows()]).reset_index()\n",
    "inca_pubs_cso.columns = ['cso', 'pub_id']\n",
    "inca_pubs_cso['cso'] = inca_pubs_cso['cso'].str.strip()\n",
    "inca_pubs_cso.to_csv('../data/topic_lookups/inca_researcher_publications_cso.csv', index=False)"
   ]
  },
  {
   "cell_type": "markdown",
   "metadata": {},
   "source": [
    "### Cancer Type"
   ]
  },
  {
   "cell_type": "code",
   "execution_count": null,
   "metadata": {},
   "outputs": [],
   "source": [
    "inca_pubs_ct = inca_pubs_cso_ct[inca_pubs_cso_ct['cancer_type'].notnull()][['pub_id', 'cancer_type']].drop_duplicates()\n",
    "inca_pubs_ct = pd.concat([Series(row['pub_id'], row['cancer_type'].split(';'))\n",
    "                                    for _, row in inca_pubs_ct.iterrows()]).reset_index()\n",
    "inca_pubs_ct.columns = ['cancer_type', 'pub_id']\n",
    "inca_pubs_ct['cancer_type'] = inca_pubs_ct['cancer_type'].str.strip()\n",
    "inca_pubs_ct.to_csv('../data/topic_lookups/inca_researcher_publications_cancer_type.csv', index=False)"
   ]
  },
  {
   "cell_type": "markdown",
   "metadata": {},
   "source": [
    "## Sandbox"
   ]
  },
  {
   "cell_type": "code",
   "execution_count": null,
   "metadata": {},
   "outputs": [],
   "source": []
  }
 ],
 "metadata": {
  "kernelspec": {
   "display_name": "Python 3",
   "language": "python",
   "name": "python3"
  },
  "language_info": {
   "codemirror_mode": {
    "name": "ipython",
    "version": 3
   },
   "file_extension": ".py",
   "mimetype": "text/x-python",
   "name": "python",
   "nbconvert_exporter": "python",
   "pygments_lexer": "ipython3",
   "version": "3.6.2"
  },
  "toc": {
   "nav_menu": {},
   "number_sections": false,
   "sideBar": true,
   "skip_h1_title": false,
   "title_cell": "Table of Contents",
   "title_sidebar": "Contents",
   "toc_cell": false,
   "toc_position": {
    "height": "calc(100% - 180px)",
    "left": "10px",
    "top": "150px",
    "width": "300px"
   },
   "toc_section_display": true,
   "toc_window_display": true
  }
 },
 "nbformat": 4,
 "nbformat_minor": 2
}
