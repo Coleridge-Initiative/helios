{
 "cells": [
  {
   "cell_type": "markdown",
   "metadata": {},
   "source": [
    "# INCA Data Cleaning and Extractions"
   ]
  },
  {
   "cell_type": "markdown",
   "metadata": {},
   "source": [
    "## Python Setup"
   ]
  },
  {
   "cell_type": "code",
   "execution_count": 1,
   "metadata": {},
   "outputs": [],
   "source": [
    "import pandas as pd\n",
    "import numpy as np\n",
    "from datetime import timedelta\n",
    "from pandas import Series\n",
    "from openpyxl import load_workbook\n",
    "import re\n",
    "pd.options.display.max_columns = 100\n",
    "from api_query import execute_query\n",
    "from api_query import pull_data"
   ]
  },
  {
   "cell_type": "markdown",
   "metadata": {},
   "source": [
    "## Load In Data"
   ]
  },
  {
   "cell_type": "code",
   "execution_count": 2,
   "metadata": {},
   "outputs": [],
   "source": [
    "inca_grnts = pd.read_csv('../data/inca_raw/inca_grants_details.csv', low_memory=False)\n",
    "inca_pubs = pd.read_csv('../data/inca_raw/inca_pub_details.csv', low_memory=False)\n",
    "inca_orcid_responses = pd.read_csv('../output/researcher_info/researcher_info_ORCID_returns.csv', low_memory=False)"
   ]
  },
  {
   "cell_type": "markdown",
   "metadata": {},
   "source": [
    "## INCA ID - Dimensions ID Lookup"
   ]
  },
  {
   "cell_type": "code",
   "execution_count": 3,
   "metadata": {},
   "outputs": [],
   "source": [
    "id_lookup = inca_pubs[['INCA ID', 'Dimensions Researcher ID']].drop_duplicates().reset_index(drop=True)"
   ]
  },
  {
   "cell_type": "code",
   "execution_count": 4,
   "metadata": {},
   "outputs": [],
   "source": [
    "inca_grnts = pd.merge(inca_grnts, id_lookup, how='left', on='INCA ID')\n",
    "inca_grnts['Dimensions Researcher ID'] = np.where(inca_grnts['Dimensions Researcher ID'].notnull(), \n",
    "                                                  inca_grnts['Dimensions Researcher ID'], inca_grnts['INCA ID'])"
   ]
  },
  {
   "cell_type": "markdown",
   "metadata": {},
   "source": [
    "## Account for Dimensions Manual Disambiguations"
   ]
  },
  {
   "cell_type": "code",
   "execution_count": 5,
   "metadata": {},
   "outputs": [],
   "source": [
    "ids = inca_pubs[['Dimensions Researcher ID', 'Additional Researcher DIM ID to combine', \n",
    "                 'Additional Researcher DIM ID to combine 2']].copy().drop_duplicates().reset_index(drop=True)"
   ]
  },
  {
   "cell_type": "code",
   "execution_count": 6,
   "metadata": {},
   "outputs": [],
   "source": [
    "dupls_1 = ids[ids['Additional Researcher DIM ID to combine 2'].notnull()].reset_index(drop=True)\n",
    "dupls_1['new_id'] = (dupls_1['Dimensions Researcher ID']\n",
    "                      +\"&\"+dupls_1['Additional Researcher DIM ID to combine']\n",
    "                      +\"&\"+dupls_1['Additional Researcher DIM ID to combine 2'])\n",
    "dupls_2 = ids[(ids['Additional Researcher DIM ID to combine 2'].isnull())\n",
    "               &(ids['Additional Researcher DIM ID to combine'].notnull())].reset_index(drop=True)\n",
    "dupls_2['new_id'] = (dupls_2['Dimensions Researcher ID']\n",
    "                      +\"&\"+dupls_2['Additional Researcher DIM ID to combine'])\n",
    "dupls = pd.concat([dupls_1, dupls_2]).reset_index(drop=True)"
   ]
  },
  {
   "cell_type": "code",
   "execution_count": 7,
   "metadata": {},
   "outputs": [],
   "source": [
    "id_replacer = pd.DataFrame()\n",
    "for var in ('Dimensions Researcher ID', \n",
    "            'Additional Researcher DIM ID to combine', \n",
    "            'Additional Researcher DIM ID to combine 2'):\n",
    "    temp = dupls[dupls[var].notnull()][[var, 'new_id']].copy()\n",
    "    temp.rename(columns={var:'old_id'}, inplace=True)\n",
    "    if id_replacer.empty:\n",
    "        id_replacer = temp.copy()\n",
    "    else:\n",
    "        id_replacer = pd.concat([id_replacer, temp]).reset_index(drop=True)"
   ]
  },
  {
   "cell_type": "code",
   "execution_count": 8,
   "metadata": {},
   "outputs": [],
   "source": [
    "id_replacer.to_csv('../data/id_replacer.csv', index=False)"
   ]
  },
  {
   "cell_type": "code",
   "execution_count": 9,
   "metadata": {},
   "outputs": [],
   "source": [
    "def id_replace(df):\n",
    "    df = pd.merge(df, id_replacer, how='left', left_on='rsr_id', right_on='old_id')\n",
    "    df['rsr_id'] = np.where(df['new_id'].notnull(), df['new_id'], df['rsr_id'])\n",
    "    del df['old_id'], df['new_id']\n",
    "    return df"
   ]
  },
  {
   "cell_type": "markdown",
   "metadata": {},
   "source": [
    "## Clean Up Grant and Publication Files"
   ]
  },
  {
   "cell_type": "code",
   "execution_count": 10,
   "metadata": {},
   "outputs": [],
   "source": [
    "# Clean Grants File\n",
    "inca_grnts.columns = [x.lower().replace(' ', '_') for x in inca_grnts.columns]\n",
    "inca_grnts.rename(columns={'dimensions_researcher_id': 'rsr_id'\n",
    "                            , 'funding_amount_($)': 'funding_amount'\n",
    "                            , 'dimensions_grant_id': 'grant_id'\n",
    "                            , 'funder': 'funder_name'\n",
    "                            , 'rcdc': 'rcdc_names'\n",
    "                           }, inplace=True)\n",
    "del inca_grnts['prenom_port'], inca_grnts['nom_port'], inca_grnts['title']\n",
    "del inca_grnts['reference'], inca_grnts['organisme_port'], inca_grnts['research_org_names'], inca_grnts['abstract']\n",
    "del inca_grnts['research_org_ids'], inca_grnts['for']"
   ]
  },
  {
   "cell_type": "code",
   "execution_count": 11,
   "metadata": {},
   "outputs": [],
   "source": [
    "# Clean Pubs File\n",
    "inca_pubs.columns = [x.lower().replace(' ', '_') for x in inca_pubs.columns]\n",
    "inca_pubs.rename(columns={'dimensions_researcher_id': 'rsr_id'\n",
    "                          , 'dimensions_publication_id': 'pub_id'\n",
    "                          , 'publication_year': 'date'\n",
    "                          , 'rcdc': 'rcdc_names'\n",
    "                          , 'times_cited': 'citations'\n",
    "                          , 'pubmed_id': 'pmid'\n",
    "                         }, inplace=True)\n",
    "del inca_pubs['inca_id'], inca_pubs['prenom_port'], inca_pubs['nom_port'], inca_pubs['organisme_port']\n",
    "del inca_pubs['additional_researcher_dim_id_to_combine'], inca_pubs['additional_researcher_dim_id_to_combine_2']\n",
    "del inca_pubs['orcid'], inca_pubs['title'], inca_pubs['issue']\n",
    "del inca_pubs['pages'], inca_pubs['volume'], inca_pubs['relative_citation_ratio']\n",
    "del inca_pubs['altmetric'], inca_pubs['open_access'], inca_pubs['author_names'], inca_pubs['research_org_names']\n",
    "del inca_pubs['research_org_ids'], inca_pubs['for'], inca_pubs['journal_id'], inca_pubs['journal_title']\n",
    "del inca_pubs['publication_date']\n",
    "inca_pubs['date'] = inca_pubs['date'].apply(str).replace('\\.0', '', regex=True)\n",
    "inca_pubs['date'] = inca_pubs['date'].apply(lambda x: np.nan if x==\"nan\" else x+\"-01-01\")\n",
    "inca_pubs['citations'] = pd.to_numeric(inca_pubs['citations'])"
   ]
  },
  {
   "cell_type": "markdown",
   "metadata": {},
   "source": [
    "## Seperate INCa-Funded Grants from Researcher Grants"
   ]
  },
  {
   "cell_type": "code",
   "execution_count": 12,
   "metadata": {},
   "outputs": [],
   "source": [
    "# Get INCA-funded Grants from file\n",
    "inca_funders = [\"French National Cancer Institute\", \"French Institute of Health and Medical Research\"]\n",
    "inca_funders += [\"Ministère des Affaires sociales et de la Santé\"]\n",
    "inca_funded_grnts = inca_grnts[(inca_grnts['funder_name'].isin(inca_funders))\n",
    "                               & (pd.DatetimeIndex(inca_grnts['start_date']).year>=2007)\n",
    "                               & (pd.DatetimeIndex(inca_grnts['start_date']).year<=2012)].reset_index(drop=True)\n",
    "inca_grnts = inca_grnts[(~inca_grnts['funder_name'].isin(inca_funders))\n",
    "                        | (pd.DatetimeIndex(inca_grnts['start_date']).year<2007)\n",
    "                        | (pd.DatetimeIndex(inca_grnts['start_date']).year>2012)].reset_index(drop=True)"
   ]
  },
  {
   "cell_type": "code",
   "execution_count": 13,
   "metadata": {},
   "outputs": [],
   "source": [
    "# Replace Funder Names by \"French Funders\"\n",
    "del inca_funded_grnts['funder_name']\n",
    "inca_funded_grnts['funder_name'] = \"INCa/INSERM/DGOS\""
   ]
  },
  {
   "cell_type": "markdown",
   "metadata": {},
   "source": [
    "## Add ORCID Responses"
   ]
  },
  {
   "cell_type": "code",
   "execution_count": 14,
   "metadata": {},
   "outputs": [],
   "source": [
    "# INCA ORCID-responses: keep only when there was an ORCID response.\n",
    "inca_orcid_responses = inca_orcid_responses[inca_orcid_responses['ORCID Return']==\"YES\"].reset_index(drop=True)\n",
    "conf_ids = list(inca_orcid_responses['INCA ID'])\n",
    "\n",
    "# Change Funder Name in INCa-Funded grants when they responded to ORCID\n",
    "inca_funded_grnts['funder_name'] = (inca_funded_grnts['funder_name'] \n",
    "                                    + np.where(inca_funded_grnts['inca_id'].isin(conf_ids), ' - ORCID Confirmed', ''))\n",
    "del inca_funded_grnts['inca_id']"
   ]
  },
  {
   "cell_type": "markdown",
   "metadata": {},
   "source": [
    "## Remove RCDC Codes"
   ]
  },
  {
   "cell_type": "code",
   "execution_count": 15,
   "metadata": {},
   "outputs": [],
   "source": [
    "# Keep RCDC Codes in Seperate Table\n",
    "inca_funded_grnts_rcdc = inca_funded_grnts[inca_funded_grnts['rcdc_names'].notnull()].copy()\n",
    "inca_funded_grnts_rcdc = inca_funded_grnts_rcdc[['grant_id', 'rcdc_names']].drop_duplicates()\n",
    "inca_funded_grnts_rcdc = pd.concat([Series(row['grant_id'], row['rcdc_names'].split(';'))\n",
    "                                    for _, row in inca_funded_grnts_rcdc.iterrows()]).reset_index()\n",
    "inca_funded_grnts_rcdc.columns = ['rcdc_name', 'grant_id']\n",
    "inca_funded_grnts_rcdc['rcdc_name'] = inca_funded_grnts_rcdc['rcdc_name'].str.strip().str.upper()\n",
    "\n",
    "del inca_funded_grnts['rcdc_names']"
   ]
  },
  {
   "cell_type": "code",
   "execution_count": 16,
   "metadata": {},
   "outputs": [],
   "source": [
    "# Keep RCDC Codes in Seperate Table\n",
    "inca_grnts_rcdc = inca_grnts[inca_grnts['rcdc_names'].notnull()].copy()\n",
    "inca_grnts_rcdc = inca_grnts_rcdc[['grant_id', 'rcdc_names']].drop_duplicates()\n",
    "inca_grnts_rcdc = pd.concat([Series(row['grant_id'], row['rcdc_names'].split(';'))\n",
    "                                    for _, row in inca_grnts_rcdc.iterrows()]).reset_index()\n",
    "inca_grnts_rcdc.columns = ['rcdc_name', 'grant_id']\n",
    "inca_grnts_rcdc['rcdc_name'] = inca_grnts_rcdc['rcdc_name'].str.strip().str.upper()\n",
    "\n",
    "del inca_grnts['rcdc_names']"
   ]
  },
  {
   "cell_type": "code",
   "execution_count": 17,
   "metadata": {},
   "outputs": [],
   "source": [
    "# Keep RCDC Codes in Seperate Table\n",
    "inca_pubs_rcdc = inca_pubs[inca_pubs['rcdc_names'].notnull()].copy()\n",
    "inca_pubs_rcdc = inca_pubs_rcdc[['pub_id', 'rcdc_names']].drop_duplicates()\n",
    "inca_pubs_rcdc = pd.concat([Series(row['pub_id'], row['rcdc_names'].split(';'))\n",
    "                                    for _, row in inca_pubs_rcdc.iterrows()]).reset_index()\n",
    "inca_pubs_rcdc.columns = ['rcdc_name', 'pub_id']\n",
    "inca_pubs_rcdc['rcdc_name'] = inca_pubs_rcdc['rcdc_name'].str.strip().str.upper()\n",
    "\n",
    "del inca_pubs['rcdc_names']"
   ]
  },
  {
   "cell_type": "markdown",
   "metadata": {},
   "source": [
    "## Pull Additional Publication Info from Dimensions API"
   ]
  },
  {
   "cell_type": "code",
   "execution_count": 18,
   "metadata": {},
   "outputs": [],
   "source": [
    "pub_ids = list(inca_pubs['pub_id'].unique())"
   ]
  },
  {
   "cell_type": "code",
   "execution_count": 19,
   "metadata": {},
   "outputs": [],
   "source": [
    "# Filter operator 'in' requires 0 < items < 512\n",
    "max_in_items = 100\n",
    "\n",
    "# Limit exceeds maximum allowed limit 1000\n",
    "max_return = 500\n",
    "\n",
    "# Offset cannot exceed 50000\n",
    "max_overall_returns = 50000"
   ]
  },
  {
   "cell_type": "code",
   "execution_count": 20,
   "metadata": {
    "scrolled": false
   },
   "outputs": [
    {
     "name": "stdout",
     "output_type": "stream",
     "text": [
      "Querying: 53700-53800/109001 publications...\n",
      "RESPONSE ERROR on i=537 and j=0.\n",
      "\n",
      "Querying: 109000-109001/109001 publications...\n",
      "Done !\n"
     ]
    }
   ],
   "source": [
    "string = \"search publications where id in [{}]\"\n",
    "string += \" return publications[id+author_affiliations+supporting_grant_ids+times_cited+RCDC]\"\n",
    "full_resp = pull_data(string=string, in_list=pub_ids, in_type='publications', return_type='publications', \n",
    "                      max_in_items=max_in_items, max_return=max_return, max_overall_returns=max_overall_returns)"
   ]
  },
  {
   "cell_type": "code",
   "execution_count": 21,
   "metadata": {},
   "outputs": [],
   "source": [
    "pub_id = []\n",
    "citations = []\n",
    "supporting_grants = []\n",
    "nb_authors = []\n",
    "author_id = []\n",
    "author_country = []\n",
    "author_affiliation = []\n",
    "author_affiliation_id = []\n",
    "\n",
    "for pub in full_resp:\n",
    "    if 'id' not in pub:\n",
    "        pub['id'] = np.nan\n",
    "    if 'author_affiliations' not in pub:\n",
    "        pub['author_affiliations'] = [[]]\n",
    "    for author in pub['author_affiliations'][0]: \n",
    "        if 'researcher_id' not in author:\n",
    "            author['researcher_id'] = np.nan\n",
    "        if ('affiliations' not in author)  | (len(author['affiliations'])==0):\n",
    "            author['affiliations'] = [{'country_code':np.nan, 'name': np.nan, 'id':np.nan}]\n",
    "        for affiliation in author['affiliations']:\n",
    "            if 'country_code' not in affiliation:\n",
    "                affiliation['country_code']=np.nan\n",
    "            if 'name' not in affiliation:\n",
    "                affiliation['name']=np.nan\n",
    "            if 'id' not in affiliation:\n",
    "                affiliation['id']=np.nan\n",
    "    if 'times_cited' not in pub:\n",
    "        pub['times_cited'] = np.nan\n",
    "    if 'supporting_grant_ids' not in pub:\n",
    "        pub['supporting_grant_ids'] = [np.nan]\n",
    "    nb = len(pub['author_affiliations'][0])\n",
    "    for author in pub['author_affiliations'][0]:\n",
    "        nb_authors.append(nb)\n",
    "        author_id.append(author['researcher_id'])\n",
    "        author_country.append(author['affiliations'][0]['country_code'])\n",
    "        author_affiliation.append(author['affiliations'][0]['name'])\n",
    "        author_affiliation_id.append(author['affiliations'][0]['id'])\n",
    "        pub_id.append(pub['id'])\n",
    "        citations.append(pub['times_cited'])\n",
    "        supporting_grants.append(pub['supporting_grant_ids'])\n",
    "\n",
    "pubs = pd.DataFrame({'pub_id':pub_id\n",
    "                     , 'citations':citations\n",
    "                     , 'nb_authors':nb_authors\n",
    "                     , 'rsr_id':author_id\n",
    "                     , 'rsr_country':author_country\n",
    "                     , 'rsr_affiliation':author_affiliation\n",
    "                     , 'rsr_affiliation_id':author_affiliation_id\n",
    "                     , 'supporting_grants':supporting_grants\n",
    "                    })\n",
    "pubs['supporting_grants'] = pubs['supporting_grants'].apply(lambda x: np.nan if x == [np.nan] else  ';'.join(x))"
   ]
  },
  {
   "cell_type": "code",
   "execution_count": 22,
   "metadata": {
    "scrolled": false
   },
   "outputs": [],
   "source": [
    "inca_pubs = pd.merge(inca_pubs[['pub_id', 'doi', 'pmid', 'date']], pubs, how='left', on='pub_id')"
   ]
  },
  {
   "cell_type": "markdown",
   "metadata": {},
   "source": [
    "## Apply ID Replacer"
   ]
  },
  {
   "cell_type": "code",
   "execution_count": 23,
   "metadata": {},
   "outputs": [],
   "source": [
    "inca_funded_grnts = id_replace(inca_funded_grnts)\n",
    "inca_grnts = id_replace(inca_grnts)\n",
    "inca_pubs = id_replace(inca_pubs)"
   ]
  },
  {
   "cell_type": "markdown",
   "metadata": {},
   "source": [
    "## Export Grant and Publication Files"
   ]
  },
  {
   "cell_type": "code",
   "execution_count": 24,
   "metadata": {},
   "outputs": [],
   "source": [
    "inca_funded_grnts.to_csv('../data/inca_funded_grants.csv', index=False)\n",
    "inca_funded_grnts_rcdc.to_csv('../data/topic_lookups/inca_funded_grants_rcdc.csv', index=False)\n",
    "inca_grnts.to_csv('../data/inca_researcher_grants.csv', index=False)\n",
    "inca_grnts_rcdc.to_csv('../data/topic_lookups/inca_researcher_grants_rcdc.csv', index=False)\n",
    "inca_pubs.to_csv('../data/inca_researcher_publications.csv', index=False)\n",
    "inca_pubs_rcdc.to_csv('../data/topic_lookups/inca_researcher_publications_rcdc.csv', index=False)"
   ]
  },
  {
   "cell_type": "markdown",
   "metadata": {},
   "source": [
    "## Export List of Publication IDs"
   ]
  },
  {
   "cell_type": "markdown",
   "metadata": {},
   "source": [
    "For further matching."
   ]
  },
  {
   "cell_type": "code",
   "execution_count": 25,
   "metadata": {},
   "outputs": [],
   "source": [
    "inca_pub_ids = inca_pubs[inca_pubs['pmid'].notnull()][['rsr_id', 'pmid']].drop_duplicates()\n",
    "inca_pub_ids.to_csv('../data/inca_pub_ids.csv', index=False)"
   ]
  },
  {
   "cell_type": "markdown",
   "metadata": {},
   "source": [
    "## CSO and Cancer Type Lookup Table"
   ]
  },
  {
   "cell_type": "code",
   "execution_count": 26,
   "metadata": {},
   "outputs": [],
   "source": [
    "inca_pubs_cso_ct = pd.read_csv('../data/inca_raw/inca_pub_details_with_cso_and_cancertypes.csv', low_memory=False)\n",
    "inca_pubs_cso_ct = inca_pubs_cso_ct[['Dimensions Publication ID', 'CSO', 'Cancer Types']]\n",
    "inca_pubs_cso_ct.rename(columns={'Dimensions Publication ID': 'pub_id', 'CSO': 'cso', 'Cancer Types': 'cancer_type'},\n",
    "                        inplace=True)"
   ]
  },
  {
   "cell_type": "markdown",
   "metadata": {},
   "source": [
    "### CSO"
   ]
  },
  {
   "cell_type": "code",
   "execution_count": 27,
   "metadata": {},
   "outputs": [],
   "source": [
    "inca_pubs_cso = inca_pubs_cso_ct[inca_pubs_cso_ct['cso'].notnull()][['pub_id', 'cso']].drop_duplicates()\n",
    "inca_pubs_cso = pd.concat([Series(row['pub_id'], row['cso'].split(';'))\n",
    "                                    for _, row in inca_pubs_cso.iterrows()]).reset_index()\n",
    "inca_pubs_cso.columns = ['cso', 'pub_id']\n",
    "inca_pubs_cso['cso'] = inca_pubs_cso['cso'].str.strip()\n",
    "inca_pubs_cso.to_csv('../data/topic_lookups/inca_researcher_publications_cso.csv', index=False)"
   ]
  },
  {
   "cell_type": "markdown",
   "metadata": {},
   "source": [
    "### Cancer Type"
   ]
  },
  {
   "cell_type": "code",
   "execution_count": 28,
   "metadata": {},
   "outputs": [],
   "source": [
    "inca_pubs_ct = inca_pubs_cso_ct[inca_pubs_cso_ct['cancer_type'].notnull()][['pub_id', 'cancer_type']].drop_duplicates()\n",
    "inca_pubs_ct = pd.concat([Series(row['pub_id'], row['cancer_type'].split(';'))\n",
    "                                    for _, row in inca_pubs_ct.iterrows()]).reset_index()\n",
    "inca_pubs_ct.columns = ['cancer_type', 'pub_id']\n",
    "inca_pubs_ct['cancer_type'] = inca_pubs_ct['cancer_type'].str.strip()\n",
    "inca_pubs_ct.to_csv('../data/topic_lookups/inca_researcher_publications_cancer_type.csv', index=False)"
   ]
  },
  {
   "cell_type": "markdown",
   "metadata": {},
   "source": [
    "## Sandbox"
   ]
  },
  {
   "cell_type": "code",
   "execution_count": null,
   "metadata": {},
   "outputs": [],
   "source": []
  }
 ],
 "metadata": {
  "kernelspec": {
   "display_name": "Python 3",
   "language": "python",
   "name": "python3"
  },
  "language_info": {
   "codemirror_mode": {
    "name": "ipython",
    "version": 3
   },
   "file_extension": ".py",
   "mimetype": "text/x-python",
   "name": "python",
   "nbconvert_exporter": "python",
   "pygments_lexer": "ipython3",
   "version": "3.6.2"
  },
  "toc": {
   "nav_menu": {},
   "number_sections": false,
   "sideBar": true,
   "skip_h1_title": false,
   "title_cell": "Table of Contents",
   "title_sidebar": "Contents",
   "toc_cell": false,
   "toc_position": {},
   "toc_section_display": true,
   "toc_window_display": true
  }
 },
 "nbformat": 4,
 "nbformat_minor": 2
}
