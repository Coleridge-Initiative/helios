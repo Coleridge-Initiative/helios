{
 "cells": [
  {
   "cell_type": "markdown",
   "metadata": {},
   "source": [
    "# Data Read-In and Summary Statistics"
   ]
  },
  {
   "cell_type": "markdown",
   "metadata": {},
   "source": [
    "## Python Setup"
   ]
  },
  {
   "cell_type": "code",
   "execution_count": null,
   "metadata": {},
   "outputs": [],
   "source": [
    "import pandas as pd\n",
    "import numpy as np\n",
    "import requests\n",
    "from bs4 import BeautifulSoup\n",
    "pd.options.display.max_rows = 50\n",
    "pd.options.display.max_columns = 100\n",
    "import unidecode\n",
    "import re"
   ]
  },
  {
   "cell_type": "markdown",
   "metadata": {},
   "source": [
    "## Data Read-In"
   ]
  },
  {
   "cell_type": "code",
   "execution_count": null,
   "metadata": {},
   "outputs": [],
   "source": [
    "grnt_dtl = pd.read_csv('../data/inca_grants_details.csv', low_memory=False)\n",
    "pub_dtl = pd.read_csv('../data/inca_pub_details.csv', low_memory=False)"
   ]
  },
  {
   "cell_type": "code",
   "execution_count": null,
   "metadata": {},
   "outputs": [],
   "source": [
    "actors = pd.read_csv('../data/HELIOSv2_ACTEURS_all_2007-2012.csv', low_memory=False)\n",
    "cols = [col for col in actors.columns if bool(re.match(r'^Unnamed: \\d\\d\\d$', col))==False]\n",
    "actors = actors[cols]\n",
    "budget = pd.read_csv('../data/HELIOSv2_BUDGET_all_2007-2012.csv', low_memory=False)\n",
    "projects = pd.read_csv('../data/HELIOSv2_PROJETS_all_2007-2012.csv', low_memory=False)"
   ]
  },
  {
   "cell_type": "markdown",
   "metadata": {},
   "source": [
    "### Drop Duplicate Lines"
   ]
  },
  {
   "cell_type": "code",
   "execution_count": null,
   "metadata": {},
   "outputs": [],
   "source": [
    "print(grnt_dtl.shape)\n",
    "print(pub_dtl.shape)\n",
    "grnt_dtl = grnt_dtl.drop_duplicates()\n",
    "pub_dtl = pub_dtl.drop_duplicates()\n",
    "print(grnt_dtl.shape)\n",
    "print(pub_dtl.shape)"
   ]
  },
  {
   "cell_type": "markdown",
   "metadata": {},
   "source": [
    "## Descriptive Statistics"
   ]
  },
  {
   "cell_type": "code",
   "execution_count": null,
   "metadata": {},
   "outputs": [],
   "source": [
    "grnt_dtl.describe(include = 'all')"
   ]
  },
  {
   "cell_type": "code",
   "execution_count": null,
   "metadata": {
    "scrolled": false
   },
   "outputs": [],
   "source": [
    "pub_dtl.describe(include = 'all')"
   ]
  },
  {
   "cell_type": "markdown",
   "metadata": {},
   "source": [
    "## Comparison Original Data – Dimensions Data"
   ]
  },
  {
   "cell_type": "markdown",
   "metadata": {},
   "source": [
    "### Grants"
   ]
  },
  {
   "cell_type": "code",
   "execution_count": null,
   "metadata": {},
   "outputs": [],
   "source": [
    "# List of awards\n",
    "actors_awards = list(actors['awardcode'].drop_duplicates())\n",
    "budget_awards = list(budget['Awardcode'].drop_duplicates())\n",
    "projects_awards = list(projects['AwardCode'].drop_duplicates())\n",
    "\n",
    "awards_o = actors_awards\n",
    "awards_o.extend(budget_awards)\n",
    "awards_o.extend(projects_awards)\n",
    "awards_o = set(awards_o)"
   ]
  },
  {
   "cell_type": "code",
   "execution_count": null,
   "metadata": {},
   "outputs": [],
   "source": [
    "awards_d = list(grnt_dtl['Reference'].drop_duplicates())"
   ]
  },
  {
   "cell_type": "code",
   "execution_count": null,
   "metadata": {},
   "outputs": [],
   "source": [
    "print(\"There are {} awards in the original data.\".format(len(awards_o)))\n",
    "print(\"There are {} awards in the Dimenions data.\".format(len(awards_d)))"
   ]
  },
  {
   "cell_type": "code",
   "execution_count": null,
   "metadata": {},
   "outputs": [],
   "source": [
    "in_d = [award in awards_d for award in awards_o]\n",
    "print(\"{} original awards are in the Dimensions data ({}%).\".format(sum(in_d), int(100*sum(in_d)/len(in_d))))"
   ]
  },
  {
   "cell_type": "code",
   "execution_count": null,
   "metadata": {},
   "outputs": [],
   "source": [
    "print(\"The {} original awards not in the Dimensions data are:\".format(len(awards_o)-sum(in_d)))\n",
    "for award in awards_o:\n",
    "    if award not in awards_d:\n",
    "        print(\" - {}\".format(award))"
   ]
  },
  {
   "cell_type": "code",
   "execution_count": null,
   "metadata": {
    "scrolled": true
   },
   "outputs": [],
   "source": [
    "in_o = [award not in awards_o for award in awards_d]\n",
    "print(\"There are {} additional awards in the Dimensions data.\".format(sum(in_o)))"
   ]
  },
  {
   "cell_type": "markdown",
   "metadata": {},
   "source": [
    "### Researchers"
   ]
  },
  {
   "cell_type": "code",
   "execution_count": null,
   "metadata": {},
   "outputs": [],
   "source": [
    "researchers_o = actors[['prenom_port', 'nom_port']].drop_duplicates().reset_index(drop = True)\n",
    "researchers_o = researchers_o[(researchers_o['prenom_port'].notnull())&(researchers_o['nom_port'].notnull())]\n",
    "researchers_o['source'] = \"0\"\n",
    "print(\"There are {} unique primary researchers in the original data.\".format(researchers_o.shape[0]))"
   ]
  },
  {
   "cell_type": "code",
   "execution_count": null,
   "metadata": {},
   "outputs": [],
   "source": [
    "for i in range(1, 5):\n",
    "    temp = actors[['prenom_aut_port{}'.format(i), 'nom_aut_port{}'.format(i)]].drop_duplicates()\n",
    "    temp = temp.rename(index=str, columns={'prenom_aut_port{}'.format(i): \"prenom_port\"\n",
    "                                           , 'nom_aut_port{}'.format(i): \"nom_port\"})\n",
    "    temp = temp[(temp['prenom_port'].notnull())&(temp['nom_port'].notnull())]\n",
    "    temp['source'] = \"{}\".format(i)\n",
    "    researchers_o = pd.concat([researchers_o, temp])\n",
    "    researchers_o = researchers_o.drop_duplicates(['prenom_port', 'nom_port']).reset_index(drop = True)\n",
    "r = researchers_o.shape[0]\n",
    "print(\"There are {} unique researchers in the original data when accounting for the aut researchers.\".format(r))"
   ]
  },
  {
   "cell_type": "code",
   "execution_count": null,
   "metadata": {},
   "outputs": [],
   "source": [
    "researchers_d = grnt_dtl[['prenom_port', 'nom_port']].drop_duplicates()\n",
    "researchers_d['source'] = 'dimensions'\n",
    "r = researchers_d.shape[0]\n",
    "print(\"There are {} unique researchers in the Dimensions data.\".format(r))"
   ]
  },
  {
   "cell_type": "code",
   "execution_count": null,
   "metadata": {},
   "outputs": [],
   "source": [
    "irreg_rsrs = pd.concat([researchers_o, researchers_d]).drop_duplicates(['prenom_port', 'nom_port'], keep=False)\n",
    "irreg_rsrs = irreg_rsrs.reset_index(drop = True)"
   ]
  },
  {
   "cell_type": "code",
   "execution_count": null,
   "metadata": {},
   "outputs": [],
   "source": [
    "r = irreg_rsrs[irreg_rsrs['source'] == 'dimensions'].shape[0]\n",
    "rp = 100*irreg_rsrs[irreg_rsrs['source'] == 'dimensions'].shape[0]/researchers_d.shape[0]\n",
    "print(\"{} researchers ({}%) are in Dimensions data but not original data.\".format(r, int(round(rp))))"
   ]
  },
  {
   "cell_type": "code",
   "execution_count": null,
   "metadata": {
    "scrolled": true
   },
   "outputs": [],
   "source": [
    "r = irreg_rsrs[irreg_rsrs['source'] != 'dimensions'].shape[0]\n",
    "rp = 100*irreg_rsrs[irreg_rsrs['source'] != 'dimensions'].shape[0]/researchers_o.shape[0]\n",
    "print(\"{} researchers ({}%) are in original data but not Dimensions data.\".format(r, int(round(rp))))"
   ]
  },
  {
   "cell_type": "code",
   "execution_count": null,
   "metadata": {
    "scrolled": true
   },
   "outputs": [],
   "source": [
    "print(\"Of these:\")\n",
    "r = irreg_rsrs[irreg_rsrs['source']=='0'].shape[0]\n",
    "rp = 100*irreg_rsrs[irreg_rsrs['source']=='0'].shape[0]/researchers_o[researchers_o['source']=='0'].shape[0]\n",
    "print(\" - {} primary researchers ({}%) are in original data but not the Dimensions data.\".format(r, int(round(rp))))\n",
    "for i in range(1, 5):\n",
    "    r = irreg_rsrs[irreg_rsrs['source']==str(i)].shape[0]\n",
    "    rp = 100*irreg_rsrs[irreg_rsrs['source']==str(i)].shape[0]/researchers_o[researchers_o['source']==str(i)].shape[0]\n",
    "    print(\" - {} aut{} researchers ({}%) are in original data but not Dimensions data.\".format(r, i, int(round(rp))))"
   ]
  },
  {
   "cell_type": "markdown",
   "metadata": {},
   "source": [
    "## Funder Name"
   ]
  },
  {
   "cell_type": "code",
   "execution_count": null,
   "metadata": {},
   "outputs": [],
   "source": [
    "grnt_dtl['funder_clean'] = grnt_dtl['Funder'].fillna('')"
   ]
  },
  {
   "cell_type": "code",
   "execution_count": null,
   "metadata": {},
   "outputs": [],
   "source": [
    "grnt_dtl['funder_flag'] = grnt_dtl['funder_clean'].apply(lambda x: x!='')\n",
    "print(\"{}% of the grants have a Funder.\".format(int(grnt_dtl['funder_flag'].value_counts(normalize=True)[True]*100)))\n",
    "print(\"There are {} different Funder Names\".format(len(grnt_dtl['funder_clean'].value_counts())))\n",
    "print(\"Here are the most frequent:\")\n",
    "grnt_dtl['funder_clean'].value_counts().head()"
   ]
  },
  {
   "cell_type": "markdown",
   "metadata": {},
   "source": [
    "### INCA vs. Non-INCA"
   ]
  },
  {
   "cell_type": "code",
   "execution_count": null,
   "metadata": {},
   "outputs": [],
   "source": [
    "grnt_dtl['inca_flag'] = (grnt_dtl['funder_clean']==\"French National Cancer Institute\")\n",
    "grants = grnt_dtl.groupby('Dimensions Grant ID')['inca_flag'].sum().reset_index()\n",
    "grants['inca_flag_any'] = (grants['inca_flag']>0)\n",
    "print(\"{}% of the grants are INCA-funded.\".format(int(grants['inca_flag_any'].value_counts(normalize=True)[True]*100)))"
   ]
  },
  {
   "cell_type": "markdown",
   "metadata": {},
   "source": [
    "## Institution Names"
   ]
  },
  {
   "cell_type": "code",
   "execution_count": null,
   "metadata": {},
   "outputs": [],
   "source": [
    "grnt_dtl['org_clean'] = grnt_dtl['Research Org Names'].fillna('')"
   ]
  },
  {
   "cell_type": "code",
   "execution_count": null,
   "metadata": {},
   "outputs": [],
   "source": [
    "grnt_dtl['org_flag'] = grnt_dtl['org_clean'].apply(lambda x: x!='')\n",
    "print(\"{}% of the grants have an Institution.\".format(int(grnt_dtl['org_flag'].value_counts(normalize=True)[True]*100)))\n",
    "print(\"There are {} different Institution Names\".format(len(grnt_dtl['org_clean'].value_counts())))\n",
    "print(\"Here are the most frequent:\")\n",
    "grnt_dtl[grnt_dtl['org_clean']!=\"\"]['org_clean'].value_counts().head(10)"
   ]
  },
  {
   "cell_type": "code",
   "execution_count": null,
   "metadata": {},
   "outputs": [],
   "source": [
    "print(\"Organisation names are clean for the most part:\")\n",
    "string = \"Paoli\"\n",
    "grnt_dtl[grnt_dtl['org_clean'].str.contains(string)]['org_clean'].value_counts()"
   ]
  },
  {
   "cell_type": "markdown",
   "metadata": {},
   "source": [
    "## ORCID Number"
   ]
  },
  {
   "cell_type": "code",
   "execution_count": null,
   "metadata": {},
   "outputs": [],
   "source": [
    "pub_dtl['orcid_flag'] = pub_dtl['ORCID'].notnull()"
   ]
  },
  {
   "cell_type": "code",
   "execution_count": null,
   "metadata": {
    "scrolled": false
   },
   "outputs": [],
   "source": [
    "print(\"{}% of the grants have an ORCID.\".format(int(pub_dtl['orcid_flag'].value_counts(normalize = True)[True]*100)))\n",
    "print(\"Here are the most frequent ORCIDs:\")\n",
    "pub_dtl['ORCID'].value_counts().head()"
   ]
  },
  {
   "cell_type": "markdown",
   "metadata": {},
   "source": [
    "## Researcher Name"
   ]
  },
  {
   "cell_type": "markdown",
   "metadata": {},
   "source": [
    "### Number of Reserachers"
   ]
  },
  {
   "cell_type": "code",
   "execution_count": null,
   "metadata": {},
   "outputs": [],
   "source": [
    "grnt_dtl['researcher_name'] = grnt_dtl['prenom_port'] + \" \" + grnt_dtl['nom_port']\n",
    "researchers = set(grnt_dtl['researcher_name'])\n",
    "print(\"There are {} unique researchers (defined by unique names).\".format(len(researchers)))\n",
    "print(\"There are {} unique researchers (defined by unique INCA IDs).\".format(len(set(grnt_dtl['INCA ID']))))"
   ]
  },
  {
   "cell_type": "markdown",
   "metadata": {},
   "source": [
    "### Link between Researcher Name and INCA ID:"
   ]
  },
  {
   "cell_type": "code",
   "execution_count": null,
   "metadata": {},
   "outputs": [],
   "source": [
    "grnt_dtl[['INCA ID', 'researcher_name']].drop_duplicates().describe()"
   ]
  },
  {
   "cell_type": "code",
   "execution_count": null,
   "metadata": {},
   "outputs": [],
   "source": [
    "grnt_dtl[['INCA ID', 'researcher_name']].drop_duplicates()[grnt_dtl[['INCA ID', 'researcher_name']].drop_duplicates()['researcher_name']==\"Jean BOURHIS\"]"
   ]
  },
  {
   "cell_type": "markdown",
   "metadata": {},
   "source": [
    "### Linking a Dimesions ID to Reseracher Names"
   ]
  },
  {
   "cell_type": "code",
   "execution_count": null,
   "metadata": {},
   "outputs": [],
   "source": [
    "dim_ids = pub_dtl[['prenom_port', 'nom_port', 'Dimensions Researcher ID'\n",
    "                   , 'Additional Researcher DIM ID to combine', 'Additional Researcher DIM ID to combine 2']]\n",
    "dim_ids = dim_ids.drop_duplicates().reset_index(drop = True)"
   ]
  },
  {
   "cell_type": "code",
   "execution_count": null,
   "metadata": {},
   "outputs": [],
   "source": [
    "rsrs_ids = dim_ids[['prenom_port', 'nom_port', 'Dimensions Researcher ID']]\n",
    "rsrs_ids = rsrs_ids.rename(index=str, columns={'Dimensions Researcher ID': 'id'})\n",
    "rsrs_ids = rsrs_ids[rsrs_ids['id'].notnull()]\n",
    "for string in ('', ' 2'):\n",
    "    temp = dim_ids[['prenom_port', 'nom_port', 'Additional Researcher DIM ID to combine{}'.format(string)]]\n",
    "    temp = temp.rename(index=str, columns={'Additional Researcher DIM ID to combine{}'.format(string): 'id'})\n",
    "    temp = temp[temp['id'].notnull()]\n",
    "    rsrs_ids = pd.concat([rsrs_ids, temp])\n",
    "rsrs_ids = rsrs_ids.reset_index(drop = True)"
   ]
  },
  {
   "cell_type": "code",
   "execution_count": null,
   "metadata": {
    "scrolled": false
   },
   "outputs": [],
   "source": [
    "researchers = pd.merge(grnt_dtl[['prenom_port', 'nom_port']].drop_duplicates()\n",
    "                       , rsrs_ids[['prenom_port', 'nom_port', 'id']].drop_duplicates()\n",
    "                       , how = 'outer')\n",
    "researchers = researchers.drop_duplicates()\n",
    "researchers.columns = ['first_name', 'last_name', 'id']\n",
    "researchers['name'] = researchers['last_name'] + \", \" + researchers['first_name']\n",
    "researchers = researchers.sort_values('name')\n",
    "researchers = researchers.reset_index(drop = True)\n",
    "researchers.describe()"
   ]
  },
  {
   "cell_type": "code",
   "execution_count": null,
   "metadata": {},
   "outputs": [],
   "source": [
    "researchers.to_csv('../data/researchers.csv', index = False)"
   ]
  },
  {
   "cell_type": "markdown",
   "metadata": {},
   "source": [
    "## Number of Grants per Researcher"
   ]
  },
  {
   "cell_type": "code",
   "execution_count": null,
   "metadata": {},
   "outputs": [],
   "source": [
    "grnt_dtl['researcher'] = grnt_dtl['nom_port'] + \", \" + grnt_dtl['prenom_port']"
   ]
  },
  {
   "cell_type": "code",
   "execution_count": null,
   "metadata": {},
   "outputs": [],
   "source": [
    "rsrs_grants = grnt_dtl.groupby('researcher').size().reset_index()\n",
    "rsrs_grants = rsrs_grants.rename(index=str, columns={0: \"grant_count\"})"
   ]
  },
  {
   "cell_type": "code",
   "execution_count": null,
   "metadata": {},
   "outputs": [],
   "source": [
    "print(\"{} researchers have 1 grant.\".format(rsrs_grants['grant_count'].value_counts()[1]))\n",
    "print(\"The maximum number of grants for given researcher is {}.\".format(max(rsrs_grants['grant_count'])))\n",
    "print(\"Here is the distribution:\")\n",
    "rsrs_grants['grant_count'].hist(bins = 11)\n",
    "rsrs_grants['grant_count'].value_counts()"
   ]
  },
  {
   "cell_type": "markdown",
   "metadata": {},
   "source": [
    "## Analysis of Key Words"
   ]
  },
  {
   "cell_type": "code",
   "execution_count": null,
   "metadata": {},
   "outputs": [],
   "source": [
    "def distribution(words, sep=';'):\n",
    "    grnt_dtl['nb_'+words] = grnt_dtl[str.upper(words)].str.count(sep)+1\n",
    "    grnt_dtl['nb_'+words] = grnt_dtl['nb_'+words].fillna(0)\n",
    "    grnt_dtl['nb_'+words] = grnt_dtl['nb_'+words].apply(lambda x: int(x))\n",
    "    dist = grnt_dtl[['Dimensions Grant ID', str.upper(words), 'nb_'+words]].drop_duplicates().reset_index(drop = True)\n",
    "    print(\"{} grants have no {}.\".format(dist['nb_'+words].value_counts()[0], str.upper(words)))\n",
    "    print(\"A grant has at most {} {}s.\".format(max(dist['nb_'+words]), str.upper(words)))\n",
    "    print(\"The distribution is:\\n\")\n",
    "    print(dist['nb_'+words].value_counts())"
   ]
  },
  {
   "cell_type": "code",
   "execution_count": null,
   "metadata": {},
   "outputs": [],
   "source": [
    "def league_table(words, sep=';'):\n",
    "    df = grnt_dtl[['Dimensions Grant ID', str.upper(words)]].drop_duplicates().reset_index(drop = True)\n",
    "    df = df.rename(index=str, columns={'Dimensions Grant ID': 'grant_id'})\n",
    "    df = pd.concat([df['grant_id'], df[str.upper(words)].str.split(';', expand=True)], axis=1)\n",
    "    grant_id = []\n",
    "    name = []\n",
    "    order = []\n",
    "    for i in range(df.shape[1]-1):\n",
    "        temp = df[['grant_id', i]]\n",
    "        temp = temp[temp[i].notnull()]\n",
    "        temp['order'] = int(i+1)\n",
    "        grant_id.extend(list(temp['grant_id']))\n",
    "        name.extend(list(temp[i]))\n",
    "        order.extend(list(temp['order']))\n",
    "    df = pd.DataFrame({'grant_id': grant_id, 'name': name, 'order': order}).reset_index(drop = True)\n",
    "    df_p = df[df['order']==1]\n",
    "    print(\"There are {} different Principal {} codes.\".format(len(df_p['name'].value_counts()), str.upper(words)))\n",
    "    print(\"The most frequent are:\\n\")\n",
    "    print(df_p['name'].value_counts().head())\n",
    "    print(\"\\nThere are {} different {} codes.\".format(len(df['name'].value_counts()), str.upper(words)))\n",
    "    print(\"The most frequent are:\\n\")\n",
    "    print(df['name'].value_counts().head())\n",
    "    return df"
   ]
  },
  {
   "cell_type": "markdown",
   "metadata": {},
   "source": [
    "### RCDC"
   ]
  },
  {
   "cell_type": "code",
   "execution_count": null,
   "metadata": {},
   "outputs": [],
   "source": [
    "distribution('rcdc')"
   ]
  },
  {
   "cell_type": "code",
   "execution_count": null,
   "metadata": {
    "scrolled": true
   },
   "outputs": [],
   "source": [
    "df = league_table('rcdc')"
   ]
  },
  {
   "cell_type": "code",
   "execution_count": null,
   "metadata": {},
   "outputs": [],
   "source": [
    "g1 = list(df[(df['name'] == 'Cancer') & (df['order']==1)].head()['grant_id'])\n",
    "g2 = list(df[(df['name'] == 'Cancer') & (df['order']==1)].tail()['grant_id'])"
   ]
  },
  {
   "cell_type": "code",
   "execution_count": null,
   "metadata": {},
   "outputs": [],
   "source": [
    "g3 = list(df[(df['name'] == 'Cancer') & (df['order']!=1)].head()['grant_id'])\n",
    "g4 = list(df[(df['name'] == 'Cancer') & (df['order']!=1)].tail()['grant_id'])"
   ]
  },
  {
   "cell_type": "code",
   "execution_count": null,
   "metadata": {},
   "outputs": [],
   "source": [
    "g = g1\n",
    "g.extend(g2)\n",
    "g.extend(g3)\n",
    "g.extend(g4)"
   ]
  },
  {
   "cell_type": "code",
   "execution_count": null,
   "metadata": {},
   "outputs": [],
   "source": [
    "temp = grnt_dtl[grnt_dtl['Dimensions Grant ID'].apply(lambda x: x in g)].drop_duplicates(['Dimensions Grant ID'])\n",
    "temp.to_csv('../output/cancer_rcdc.csv', index = False)"
   ]
  },
  {
   "cell_type": "markdown",
   "metadata": {},
   "source": [
    "### FOR"
   ]
  },
  {
   "cell_type": "code",
   "execution_count": null,
   "metadata": {
    "scrolled": true
   },
   "outputs": [],
   "source": [
    "distribution('for')"
   ]
  },
  {
   "cell_type": "code",
   "execution_count": null,
   "metadata": {
    "scrolled": true
   },
   "outputs": [],
   "source": [
    "league_table('for')"
   ]
  },
  {
   "cell_type": "markdown",
   "metadata": {},
   "source": [
    "## Sandbox"
   ]
  },
  {
   "cell_type": "code",
   "execution_count": null,
   "metadata": {},
   "outputs": [],
   "source": []
  }
 ],
 "metadata": {
  "kernelspec": {
   "display_name": "Python 3",
   "language": "python",
   "name": "python3"
  },
  "language_info": {
   "codemirror_mode": {
    "name": "ipython",
    "version": 3
   },
   "file_extension": ".py",
   "mimetype": "text/x-python",
   "name": "python",
   "nbconvert_exporter": "python",
   "pygments_lexer": "ipython3",
   "version": "3.6.8"
  },
  "toc": {
   "base_numbering": 1,
   "nav_menu": {},
   "number_sections": false,
   "sideBar": true,
   "skip_h1_title": false,
   "title_cell": "Table of Contents",
   "title_sidebar": "Contents",
   "toc_cell": false,
   "toc_position": {
    "height": "calc(100% - 180px)",
    "left": "10px",
    "top": "150px",
    "width": "266px"
   },
   "toc_section_display": true,
   "toc_window_display": true
  }
 },
 "nbformat": 4,
 "nbformat_minor": 2
}
