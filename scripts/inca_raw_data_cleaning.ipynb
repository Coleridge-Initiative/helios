{
 "cells": [
  {
   "cell_type": "markdown",
   "metadata": {},
   "source": [
    "# INCA Data Cleaning and Extractions"
   ]
  },
  {
   "cell_type": "markdown",
   "metadata": {},
   "source": [
    "## Python Setup"
   ]
  },
  {
   "cell_type": "code",
   "execution_count": null,
   "metadata": {},
   "outputs": [],
   "source": [
    "import pandas as pd\n",
    "import numpy as np\n",
    "from datetime import timedelta\n",
    "from pandas import Series\n",
    "from openpyxl import load_workbook\n",
    "import re\n",
    "pd.options.display.max_columns = 100\n",
    "from api_query import execute_query\n",
    "from api_query import pull_data\n",
    "import time\n",
    "import gender_guesser.detector as gender"
   ]
  },
  {
   "cell_type": "markdown",
   "metadata": {},
   "source": [
    "## Load In Data"
   ]
  },
  {
   "cell_type": "code",
   "execution_count": null,
   "metadata": {},
   "outputs": [],
   "source": [
    "grnts = pd.read_csv('../data/dimensions_raw/inca_grants_details.csv', low_memory=False)\n",
    "pubs = pd.read_csv('../data/dimensions_raw/inca_pub_details.csv', low_memory=False)\n",
    "inca_orcid_responses = pd.read_csv('../output/researcher_info/researcher_info_ORCID_returns.csv', low_memory=False)"
   ]
  },
  {
   "cell_type": "markdown",
   "metadata": {},
   "source": [
    "## INCA ID - Dimensions ID Lookup"
   ]
  },
  {
   "cell_type": "code",
   "execution_count": null,
   "metadata": {},
   "outputs": [],
   "source": [
    "id_lookup = pubs[['INCA ID', 'Dimensions Researcher ID']].drop_duplicates().reset_index(drop=True)"
   ]
  },
  {
   "cell_type": "code",
   "execution_count": null,
   "metadata": {},
   "outputs": [],
   "source": [
    "grnts = pd.merge(grnts, id_lookup, how='left', on='INCA ID')\n",
    "grnts['Dimensions Researcher ID'] = np.where(grnts['Dimensions Researcher ID'].notnull(), \n",
    "                                                  grnts['Dimensions Researcher ID'], grnts['INCA ID'])"
   ]
  },
  {
   "cell_type": "markdown",
   "metadata": {},
   "source": [
    "## Account for Dimensions Manual Disambiguations"
   ]
  },
  {
   "cell_type": "code",
   "execution_count": null,
   "metadata": {},
   "outputs": [],
   "source": [
    "ids = pubs[['Dimensions Researcher ID', 'Additional Researcher DIM ID to combine', \n",
    "                 'Additional Researcher DIM ID to combine 2']].copy().drop_duplicates().reset_index(drop=True)"
   ]
  },
  {
   "cell_type": "code",
   "execution_count": null,
   "metadata": {},
   "outputs": [],
   "source": [
    "dupls_1 = ids[ids['Additional Researcher DIM ID to combine 2'].notnull()].reset_index(drop=True)\n",
    "dupls_1['new_id'] = (dupls_1['Dimensions Researcher ID']\n",
    "                      +\"&\"+dupls_1['Additional Researcher DIM ID to combine']\n",
    "                      +\"&\"+dupls_1['Additional Researcher DIM ID to combine 2'])\n",
    "dupls_2 = ids[(ids['Additional Researcher DIM ID to combine 2'].isnull())\n",
    "               &(ids['Additional Researcher DIM ID to combine'].notnull())].reset_index(drop=True)\n",
    "dupls_2['new_id'] = (dupls_2['Dimensions Researcher ID']\n",
    "                      +\"&\"+dupls_2['Additional Researcher DIM ID to combine'])\n",
    "dupls = pd.concat([dupls_1, dupls_2]).reset_index(drop=True)"
   ]
  },
  {
   "cell_type": "code",
   "execution_count": null,
   "metadata": {},
   "outputs": [],
   "source": [
    "id_replacer = pd.DataFrame()\n",
    "for var in ('Dimensions Researcher ID', \n",
    "            'Additional Researcher DIM ID to combine', \n",
    "            'Additional Researcher DIM ID to combine 2'):\n",
    "    temp = dupls[dupls[var].notnull()][[var, 'new_id']].copy()\n",
    "    temp.rename(columns={var:'old_id'}, inplace=True)\n",
    "    if id_replacer.empty:\n",
    "        id_replacer = temp.copy()\n",
    "    else:\n",
    "        id_replacer = pd.concat([id_replacer, temp]).reset_index(drop=True)"
   ]
  },
  {
   "cell_type": "code",
   "execution_count": null,
   "metadata": {},
   "outputs": [],
   "source": [
    "id_replacer.to_csv('../data/id_replacer.csv', index=False)"
   ]
  },
  {
   "cell_type": "code",
   "execution_count": null,
   "metadata": {},
   "outputs": [],
   "source": [
    "def id_replace(df):\n",
    "    df = pd.merge(df, id_replacer, how='left', left_on='rsr_id', right_on='old_id')\n",
    "    df['rsr_id'] = np.where(df['new_id'].notnull(), df['new_id'], df['rsr_id'])\n",
    "    del df['old_id'], df['new_id']\n",
    "    return df"
   ]
  },
  {
   "cell_type": "markdown",
   "metadata": {},
   "source": [
    "## Clean Up Grant and Publication Files"
   ]
  },
  {
   "cell_type": "code",
   "execution_count": null,
   "metadata": {},
   "outputs": [],
   "source": [
    "# Clean Grants File\n",
    "grnts.columns = [x.lower().replace(' ', '_') for x in grnts.columns]\n",
    "grnts.rename(columns={'dimensions_researcher_id': 'rsr_id'\n",
    "                            , 'funding_amount_($)': 'funding_amount'\n",
    "                            , 'dimensions_grant_id': 'grant_id'\n",
    "                            , 'funder': 'funder_name'\n",
    "                            , 'prenom_port': 'first_name'\n",
    "                            , 'nom_port': 'last_name'\n",
    "                           }, inplace=True)\n",
    "del grnts['title'], grnts['reference'], grnts['organisme_port'], grnts['research_org_names']\n",
    "del grnts['research_org_ids'], grnts['for'], grnts['abstract'], grnts['rcdc']"
   ]
  },
  {
   "cell_type": "markdown",
   "metadata": {},
   "source": [
    "## Grant Datasets"
   ]
  },
  {
   "cell_type": "code",
   "execution_count": null,
   "metadata": {},
   "outputs": [],
   "source": [
    "inca_grnts = grnts.copy()\n",
    "del inca_grnts['inca_id']"
   ]
  },
  {
   "cell_type": "markdown",
   "metadata": {},
   "source": [
    "### Seperate INCa-Funded Grants from Researcher Grants"
   ]
  },
  {
   "cell_type": "code",
   "execution_count": null,
   "metadata": {},
   "outputs": [],
   "source": [
    "# Get INCA-funded Grants from file\n",
    "inca_funders = [\"French National Cancer Institute\", \"French Institute of Health and Medical Research\"]\n",
    "inca_funders += [\"Ministère des Affaires sociales et de la Santé\"]\n",
    "inca_funded_grnts = inca_grnts[(inca_grnts['funder_name'].isin(inca_funders))\n",
    "                               & (pd.DatetimeIndex(inca_grnts['start_date']).year>=2007)\n",
    "                               & (pd.DatetimeIndex(inca_grnts['start_date']).year<=2012)].reset_index(drop=True)"
   ]
  },
  {
   "cell_type": "code",
   "execution_count": null,
   "metadata": {},
   "outputs": [],
   "source": [
    "# Replace Funder Names by \"French Funders\"\n",
    "del inca_funded_grnts['funder_name']\n",
    "inca_funded_grnts['funder_name'] = \"INCa/INSERM/DGOS\""
   ]
  },
  {
   "cell_type": "markdown",
   "metadata": {},
   "source": [
    "### Apply ID Replacer"
   ]
  },
  {
   "cell_type": "code",
   "execution_count": null,
   "metadata": {},
   "outputs": [],
   "source": [
    "inca_funded_grnts = id_replace(inca_funded_grnts)"
   ]
  },
  {
   "cell_type": "markdown",
   "metadata": {},
   "source": [
    "### Export"
   ]
  },
  {
   "cell_type": "code",
   "execution_count": null,
   "metadata": {},
   "outputs": [],
   "source": [
    "inca_funded_grnts.to_csv('../data/inca_funded_grants.csv', index=False)"
   ]
  },
  {
   "cell_type": "markdown",
   "metadata": {},
   "source": [
    "## Additional Raw Datasets"
   ]
  },
  {
   "cell_type": "markdown",
   "metadata": {},
   "source": [
    "### ORCID Confirmation Dataset"
   ]
  },
  {
   "cell_type": "code",
   "execution_count": null,
   "metadata": {},
   "outputs": [],
   "source": [
    "inca_orcid_responses = inca_orcid_responses[inca_orcid_responses['ORCID Return']==\"YES\"].reset_index(drop=True)"
   ]
  },
  {
   "cell_type": "code",
   "execution_count": null,
   "metadata": {},
   "outputs": [],
   "source": [
    "inca_orcid_responses.head()"
   ]
  },
  {
   "cell_type": "code",
   "execution_count": null,
   "metadata": {},
   "outputs": [],
   "source": [
    "inca_orcid_responses = pd.merge(id_lookup, inca_orcid_responses[['INCA ID', 'ORCID Return']].drop_duplicates(), \n",
    "                                how='left', on='INCA ID')"
   ]
  },
  {
   "cell_type": "code",
   "execution_count": null,
   "metadata": {},
   "outputs": [],
   "source": [
    "inca_orcid_responses = inca_orcid_responses[inca_orcid_responses['ORCID Return'].notnull()].reset_index(drop=True)"
   ]
  },
  {
   "cell_type": "code",
   "execution_count": null,
   "metadata": {},
   "outputs": [],
   "source": [
    "inca_orcid_responses['orcid_confirmed'] = True\n",
    "inca_orcid_responses.rename(columns={'Dimensions Researcher ID': 'rsr_id'}, inplace=True) \n",
    "del inca_orcid_responses['ORCID Return'], inca_orcid_responses['INCA ID']"
   ]
  },
  {
   "cell_type": "code",
   "execution_count": null,
   "metadata": {},
   "outputs": [],
   "source": [
    "inca_orcid_responses = id_replace(inca_orcid_responses)\n",
    "inca_orcid_responses = inca_orcid_responses.drop_duplicates().reset_index(drop=True)"
   ]
  },
  {
   "cell_type": "code",
   "execution_count": null,
   "metadata": {},
   "outputs": [],
   "source": [
    "inca_orcid_responses.to_csv('../data/inca_orcid_confirmations.csv', index=False)"
   ]
  },
  {
   "cell_type": "markdown",
   "metadata": {},
   "source": [
    "## CSO and Cancer Type Datasets"
   ]
  },
  {
   "cell_type": "code",
   "execution_count": null,
   "metadata": {},
   "outputs": [],
   "source": [
    "inca_pubs_cso_ct = pd.read_csv('../data/dimensions_raw/inca_pub_details_with_cso_and_cancertypes.csv', low_memory=False)\n",
    "inca_pubs_cso_ct = inca_pubs_cso_ct[['Dimensions Publication ID', 'CSO', 'Cancer Types']]\n",
    "inca_pubs_cso_ct.rename(columns={'Dimensions Publication ID': 'pub_id', 'CSO': 'cso', 'Cancer Types': 'cancer_type'},\n",
    "                        inplace=True)"
   ]
  },
  {
   "cell_type": "code",
   "execution_count": null,
   "metadata": {},
   "outputs": [],
   "source": [
    "pubs_cso = pd.read_csv('../data/dimensions_raw/results_cso.csv', low_memory=False)\n",
    "del pubs_cso['doi'], pubs_cso['CSO Code']\n",
    "pubs_cso.rename(columns={'Dimensions Publication ID':'pub_id', 'CSO Name':'cso_name'}, inplace=True)\n",
    "\n",
    "pubs_ct = pd.read_csv('../data/dimensions_raw/results_ct.csv', low_memory=False)\n",
    "del pubs_ct['doi']\n",
    "pubs_ct.rename(columns={'Dimensions Publication ID':'pub_id', 'Cancer Type':'cancer_type'}, inplace=True)\n",
    "\n",
    "grants_cso = pd.read_csv('../data/dimensions_raw/grant_results_cso.csv', low_memory=False)\n",
    "del grants_cso['CSO Code'], grants_cso['funder_name']\n",
    "grants_cso.rename(columns={'CSO Name':'cso_name'}, inplace=True)\n",
    "\n",
    "grants_ct = pd.read_csv('../data/dimensions_raw/grant_results_ct.csv', low_memory=False)\n",
    "del grants_ct['funder_name']\n",
    "grants_cso.rename(columns={'Cancer Type':'cancer_type'}, inplace=True)"
   ]
  },
  {
   "cell_type": "code",
   "execution_count": null,
   "metadata": {},
   "outputs": [],
   "source": [
    "cso_lookup = pd.read_csv('../data/cso_codes/cso_lookup.csv')\n",
    "cso_lookup.rename(columns={'cso_code':'cso'}, inplace=True)\n",
    "cso_lookup['cso'] = cso_lookup['cso'].astype(str).str.strip()"
   ]
  },
  {
   "cell_type": "markdown",
   "metadata": {},
   "source": [
    "### Pub CSO"
   ]
  },
  {
   "cell_type": "code",
   "execution_count": null,
   "metadata": {},
   "outputs": [],
   "source": [
    "inca_pubs_cso = inca_pubs_cso_ct[inca_pubs_cso_ct['cso'].notnull()][['pub_id', 'cso']].drop_duplicates()\n",
    "inca_pubs_cso = pd.concat([Series(row['pub_id'], row['cso'].split(';'))\n",
    "                                    for _, row in inca_pubs_cso.iterrows()]).reset_index()\n",
    "inca_pubs_cso.columns = ['cso', 'pub_id']\n",
    "inca_pubs_cso['cso'] = inca_pubs_cso['cso'].str.strip()\n",
    "inca_pubs_cso = pd.merge(inca_pubs_cso, cso_lookup, how='left', on='cso')\n",
    "del inca_pubs_cso['cso']"
   ]
  },
  {
   "cell_type": "code",
   "execution_count": null,
   "metadata": {},
   "outputs": [],
   "source": [
    "pubs_cso = pd.concat([inca_pubs_cso, pubs_cso], sort=False).drop_duplicates().reset_index(drop=True)"
   ]
  },
  {
   "cell_type": "code",
   "execution_count": null,
   "metadata": {},
   "outputs": [],
   "source": [
    "pubs_cso.to_csv('../data/topic_lookups/publications_cso.csv', index=False)"
   ]
  },
  {
   "cell_type": "markdown",
   "metadata": {},
   "source": [
    "### Grant CSO"
   ]
  },
  {
   "cell_type": "code",
   "execution_count": null,
   "metadata": {},
   "outputs": [],
   "source": [
    "grants_cso.to_csv('../data/topic_lookups/grants_cso.csv', index=False)"
   ]
  },
  {
   "cell_type": "markdown",
   "metadata": {},
   "source": [
    "### Publication Cancer Type"
   ]
  },
  {
   "cell_type": "code",
   "execution_count": null,
   "metadata": {},
   "outputs": [],
   "source": [
    "inca_pubs_ct = inca_pubs_cso_ct[inca_pubs_cso_ct['cancer_type'].notnull()][['pub_id', 'cancer_type']].drop_duplicates()\n",
    "inca_pubs_ct = pd.concat([Series(row['pub_id'], row['cancer_type'].split(';'))\n",
    "                                    for _, row in inca_pubs_ct.iterrows()]).reset_index()\n",
    "inca_pubs_ct.columns = ['cancer_type', 'pub_id']\n",
    "inca_pubs_ct['cancer_type'] = inca_pubs_ct['cancer_type'].str.strip()"
   ]
  },
  {
   "cell_type": "code",
   "execution_count": null,
   "metadata": {},
   "outputs": [],
   "source": [
    "pubs_ct = pd.concat([inca_pubs_ct, pubs_ct], sort=False).drop_duplicates().reset_index(drop=True)"
   ]
  },
  {
   "cell_type": "code",
   "execution_count": null,
   "metadata": {},
   "outputs": [],
   "source": [
    "pubs_ct.to_csv('../data/topic_lookups/publications_cancer_type.csv', index=False)"
   ]
  },
  {
   "cell_type": "markdown",
   "metadata": {},
   "source": [
    "### Grant Cancer Type"
   ]
  },
  {
   "cell_type": "code",
   "execution_count": null,
   "metadata": {},
   "outputs": [],
   "source": [
    "grants_ct.to_csv('../data/topic_lookups/grants_cancer_type.csv', index=False)"
   ]
  },
  {
   "cell_type": "markdown",
   "metadata": {},
   "source": [
    "## Sandbox"
   ]
  },
  {
   "cell_type": "code",
   "execution_count": null,
   "metadata": {},
   "outputs": [],
   "source": []
  }
 ],
 "metadata": {
  "kernelspec": {
   "display_name": "Python 3",
   "language": "python",
   "name": "python3"
  },
  "language_info": {
   "codemirror_mode": {
    "name": "ipython",
    "version": 3
   },
   "file_extension": ".py",
   "mimetype": "text/x-python",
   "name": "python",
   "nbconvert_exporter": "python",
   "pygments_lexer": "ipython3",
   "version": "3.6.8"
  },
  "toc": {
   "base_numbering": 1,
   "nav_menu": {},
   "number_sections": false,
   "sideBar": true,
   "skip_h1_title": false,
   "title_cell": "Table of Contents",
   "title_sidebar": "Contents",
   "toc_cell": false,
   "toc_position": {
    "height": "calc(100% - 180px)",
    "left": "10px",
    "top": "150px",
    "width": "300px"
   },
   "toc_section_display": true,
   "toc_window_display": true
  }
 },
 "nbformat": 4,
 "nbformat_minor": 2
}
