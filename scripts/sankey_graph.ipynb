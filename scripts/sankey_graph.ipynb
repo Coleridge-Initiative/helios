{
 "cells": [
  {
   "cell_type": "markdown",
   "metadata": {},
   "source": [
    "# Sankey Diagrams"
   ]
  },
  {
   "cell_type": "markdown",
   "metadata": {},
   "source": [
    "## Python Setup"
   ]
  },
  {
   "cell_type": "code",
   "execution_count": 1,
   "metadata": {},
   "outputs": [],
   "source": [
    "from pysankey import sankey\n",
    "import pandas as pd\n",
    "import numpy as np\n",
    "from matplotlib import pyplot as plt"
   ]
  },
  {
   "cell_type": "markdown",
   "metadata": {},
   "source": [
    "## Data Read In"
   ]
  },
  {
   "cell_type": "code",
   "execution_count": 2,
   "metadata": {},
   "outputs": [],
   "source": [
    "one_to_one = pd.read_csv('../output/rcdc_grnt_1_pubs_1_comp.csv')\n",
    "one_to_many = pd.read_csv('../output/rcdc_grnt_1_pubs_comp.csv')\n",
    "many_to_many = pd.read_csv('../output/rcdc_grnt_pubs_comp.csv')"
   ]
  },
  {
   "cell_type": "code",
   "execution_count": 3,
   "metadata": {},
   "outputs": [],
   "source": [
    "funders = set(list(one_to_one['funder_name']))"
   ]
  },
  {
   "cell_type": "code",
   "execution_count": 4,
   "metadata": {},
   "outputs": [],
   "source": [
    "one_to_one = one_to_one.dropna()\n",
    "one_to_many = one_to_many.dropna()\n",
    "many_to_many = many_to_many.dropna()"
   ]
  },
  {
   "cell_type": "markdown",
   "metadata": {},
   "source": [
    "## Sankey Function"
   ]
  },
  {
   "cell_type": "code",
   "execution_count": 5,
   "metadata": {},
   "outputs": [],
   "source": [
    "def create_other_category(df):\n",
    "    tot_pubs = df['nb_pubs'].sum()\n",
    "    \n",
    "    df['pub_rcdc_cat'] = np.where(df['nb_pubs']>0.02*tot_pubs, df['pub_rcdc'], \"Other\")\n",
    "    df = df.groupby(['funder_name', 'grnt_rcdc', 'pub_rcdc_cat'])\n",
    "    df = pd.DataFrame({'nb_grnts': df['nb_grnts'].sum()\n",
    "                       , 'nb_obs': df['nb_obs'].sum()\n",
    "                       , 'nb_pubs': df['nb_pubs'].sum()}).reset_index()\n",
    "    \n",
    "    return df"
   ]
  },
  {
   "cell_type": "code",
   "execution_count": 6,
   "metadata": {},
   "outputs": [],
   "source": [
    "def create_sankey(df, method, specialty, funder):\n",
    "    if df.shape[0]==0:\n",
    "        print(\"\\nNo {} grants with {} as main RCDC code\".format(funder, specialty))\n",
    "    else:\n",
    "        df['grnts'] = \"{} ({} grants)\".format(specialty, df['nb_grnts'].sum())\n",
    "        df['pubs'] = df['pub_rcdc_cat'] + \" (\" + df['nb_pubs'].astype(str) + \" publications)\"    \n",
    "        sankey(left=df['grnts'], right=df['pubs'], rightWeight=df['nb_pubs'], leftWeight=df['nb_grnts']\n",
    "               , aspect=5, fontsize=5, figureName=\"../output/sankeys/{} - {} - {}\".format(method, specialty, funder))"
   ]
  },
  {
   "cell_type": "markdown",
   "metadata": {},
   "source": [
    "## Create Graphs"
   ]
  },
  {
   "cell_type": "code",
   "execution_count": 7,
   "metadata": {},
   "outputs": [],
   "source": [
    "specialty = \"Breast Cancer\""
   ]
  },
  {
   "cell_type": "markdown",
   "metadata": {},
   "source": [
    "### One to One"
   ]
  },
  {
   "cell_type": "code",
   "execution_count": 8,
   "metadata": {
    "scrolled": true
   },
   "outputs": [
    {
     "name": "stdout",
     "output_type": "stream",
     "text": [
      "\n",
      "No Wellcome Trust grants with Breast Cancer as main RCDC code\n",
      "\n",
      "No French National Cancer Institute - ORCID Confirmed grants with Breast Cancer as main RCDC code\n",
      "\n",
      "No Ministère des Affaires sociales et de la Santé - ORCID Confirmed grants with Breast Cancer as main RCDC code\n",
      "\n",
      "No Ministère des Affaires sociales et de la Santé grants with Breast Cancer as main RCDC code\n",
      "\n",
      "No French National Cancer Institute grants with Breast Cancer as main RCDC code\n",
      "\n",
      "No French Institute of Health and Medical Research - ORCID Confirmed grants with Breast Cancer as main RCDC code\n",
      "\n",
      "No French Institute of Health and Medical Research grants with Breast Cancer as main RCDC code\n"
     ]
    }
   ],
   "source": [
    "for funder in funders:\n",
    "    df = one_to_one[(one_to_one['funder_name']==funder)&(one_to_one['grnt_rcdc']==specialty)].copy()\n",
    "    \n",
    "    df = create_other_category(df)\n",
    "    \n",
    "    create_sankey(df, \"Method 1\", specialty, funder)\n",
    "    \n",
    "plt.close('all')"
   ]
  },
  {
   "cell_type": "markdown",
   "metadata": {},
   "source": [
    "### One to Many"
   ]
  },
  {
   "cell_type": "code",
   "execution_count": 9,
   "metadata": {
    "scrolled": true
   },
   "outputs": [
    {
     "name": "stdout",
     "output_type": "stream",
     "text": [
      "\n",
      "No Wellcome Trust grants with Breast Cancer as main RCDC code\n",
      "\n",
      "No French National Cancer Institute - ORCID Confirmed grants with Breast Cancer as main RCDC code\n",
      "\n",
      "No Ministère des Affaires sociales et de la Santé - ORCID Confirmed grants with Breast Cancer as main RCDC code\n",
      "\n",
      "No Ministère des Affaires sociales et de la Santé grants with Breast Cancer as main RCDC code\n",
      "\n",
      "No French National Cancer Institute grants with Breast Cancer as main RCDC code\n",
      "\n",
      "No French Institute of Health and Medical Research - ORCID Confirmed grants with Breast Cancer as main RCDC code\n",
      "\n",
      "No French Institute of Health and Medical Research grants with Breast Cancer as main RCDC code\n"
     ]
    }
   ],
   "source": [
    "for funder in funders:\n",
    "    df = one_to_many[(one_to_many['funder_name']==funder)&(one_to_many['grnt_rcdc']==specialty)].copy()\n",
    "    \n",
    "    df = create_other_category(df)\n",
    "    \n",
    "    create_sankey(df, \"Method 2\", specialty, funder)\n",
    "    \n",
    "plt.close('all')"
   ]
  },
  {
   "cell_type": "markdown",
   "metadata": {},
   "source": [
    "### Many to Many"
   ]
  },
  {
   "cell_type": "code",
   "execution_count": 10,
   "metadata": {
    "scrolled": true
   },
   "outputs": [
    {
     "name": "stdout",
     "output_type": "stream",
     "text": [
      "\n",
      "No Ministère des Affaires sociales et de la Santé - ORCID Confirmed grants with Breast Cancer as main RCDC code\n",
      "\n",
      "No Ministère des Affaires sociales et de la Santé grants with Breast Cancer as main RCDC code\n",
      "\n",
      "No French Institute of Health and Medical Research - ORCID Confirmed grants with Breast Cancer as main RCDC code\n",
      "\n",
      "No French Institute of Health and Medical Research grants with Breast Cancer as main RCDC code\n"
     ]
    }
   ],
   "source": [
    "for funder in funders:\n",
    "    df = many_to_many[(many_to_many['funder_name']==funder)&(many_to_many['grnt_rcdc']==specialty)].copy()\n",
    "    \n",
    "    df = create_other_category(df)\n",
    "    \n",
    "    create_sankey(df, \"Method 3\", specialty, funder)\n",
    "    \n",
    "plt.close('all')"
   ]
  },
  {
   "cell_type": "markdown",
   "metadata": {},
   "source": [
    "## Sandbox"
   ]
  },
  {
   "cell_type": "code",
   "execution_count": null,
   "metadata": {},
   "outputs": [],
   "source": []
  }
 ],
 "metadata": {
  "kernelspec": {
   "display_name": "Python 3",
   "language": "python",
   "name": "python3"
  },
  "language_info": {
   "codemirror_mode": {
    "name": "ipython",
    "version": 3
   },
   "file_extension": ".py",
   "mimetype": "text/x-python",
   "name": "python",
   "nbconvert_exporter": "python",
   "pygments_lexer": "ipython3",
   "version": "3.6.2"
  },
  "toc": {
   "nav_menu": {},
   "number_sections": false,
   "sideBar": true,
   "skip_h1_title": false,
   "title_cell": "Table of Contents",
   "title_sidebar": "Contents",
   "toc_cell": false,
   "toc_position": {},
   "toc_section_display": true,
   "toc_window_display": true
  }
 },
 "nbformat": 4,
 "nbformat_minor": 2
}
