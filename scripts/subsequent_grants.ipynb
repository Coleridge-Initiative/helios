{
 "cells": [
  {
   "cell_type": "markdown",
   "metadata": {},
   "source": [
    "# Subsequent Grants"
   ]
  },
  {
   "cell_type": "markdown",
   "metadata": {},
   "source": [
    "## Python Setup"
   ]
  },
  {
   "cell_type": "code",
   "execution_count": 2,
   "metadata": {},
   "outputs": [],
   "source": [
    "import pandas as pd"
   ]
  },
  {
   "cell_type": "markdown",
   "metadata": {},
   "source": [
    "## Data Read In"
   ]
  },
  {
   "cell_type": "code",
   "execution_count": 3,
   "metadata": {},
   "outputs": [],
   "source": [
    "grnt_dtl = pd.read_csv('../data/inca_grants_details.csv', low_memory=False)\n",
    "pub_dtl = pd.read_csv('../data/inca_pub_details.csv', low_memory=False)\n",
    "actors = pd.read_csv('../data/HELIOSv2_ACTEURS_all_2007-2012.csv', low_memory=False)"
   ]
  },
  {
   "cell_type": "code",
   "execution_count": 4,
   "metadata": {
    "scrolled": false
   },
   "outputs": [],
   "source": [
    "grnt_dtl['st_date'] = pd.to_datetime(grnt_dtl['Start Date'])\n",
    "grnt_dtl['end_date'] = pd.to_datetime(grnt_dtl['End Date'])\n",
    "grnt_dtl['grnt_ref'] = grnt_dtl['Reference']"
   ]
  },
  {
   "cell_type": "code",
   "execution_count": 5,
   "metadata": {},
   "outputs": [],
   "source": [
    "cols = ['prenom_port', 'nom_port', 'st_date', 'end_date', 'grnt_ref']"
   ]
  },
  {
   "cell_type": "code",
   "execution_count": 6,
   "metadata": {},
   "outputs": [],
   "source": [
    "grnts = grnt_dtl[cols]\n",
    "grnts = grnts.drop_duplicates().reset_index(drop = True)"
   ]
  },
  {
   "cell_type": "markdown",
   "metadata": {},
   "source": [
    "## Flag Subsequent Grants"
   ]
  },
  {
   "cell_type": "code",
   "execution_count": 7,
   "metadata": {},
   "outputs": [],
   "source": [
    "sub_grnts = pd.merge(grnts, grnts, on = ['prenom_port', 'nom_port'])\n",
    "for var in ('grnt_ref', 'st_date', 'end_date'):\n",
    "    sub_grnts = sub_grnts.rename(index=str, columns={var+'_x': var, var+'_y': 'sub_'+var})\n",
    "sub_grnts = sub_grnts[sub_grnts['grnt_ref'] != sub_grnts['sub_grnt_ref']]\n",
    "sub_grnts = sub_grnts[sub_grnts['st_date'] <= sub_grnts['sub_st_date']]\n",
    "sub_grnts = sub_grnts[sub_grnts['sub_st_date'] <= (sub_grnts['st_date']+pd.DateOffset(years=5))]"
   ]
  },
  {
   "cell_type": "code",
   "execution_count": 8,
   "metadata": {
    "scrolled": false
   },
   "outputs": [],
   "source": [
    "sub_grnts_g = sub_grnts.groupby(['prenom_port', 'nom_port', 'st_date', 'end_date', 'grnt_ref'])\n",
    "sub_grnts_g = pd.DataFrame({'nb_sub_grnts': sub_grnts_g.size()}).reset_index()"
   ]
  },
  {
   "cell_type": "code",
   "execution_count": 9,
   "metadata": {},
   "outputs": [],
   "source": [
    "grnts = pd.merge(grnts, sub_grnts_g, on = cols, how = 'outer')\n",
    "grnts['nb_sub_grnts'] = grnts['nb_sub_grnts'].fillna(0.)"
   ]
  },
  {
   "cell_type": "markdown",
   "metadata": {},
   "source": [
    "## Summary Statistics"
   ]
  },
  {
   "cell_type": "code",
   "execution_count": 10,
   "metadata": {
    "scrolled": false
   },
   "outputs": [
    {
     "name": "stdout",
     "output_type": "stream",
     "text": [
      "The distribution of subsequent grants by a given researcher within 5 years of the first grant is:\n",
      "0    1081\n",
      "1     352\n",
      "2     155\n",
      "3      82\n",
      "4      33\n",
      "5      16\n",
      "6       6\n",
      "7       3\n",
      "Name: nb_sub_grnts, dtype: int64\n"
     ]
    }
   ],
   "source": [
    "print(\"The distribution of subsequent grants by a given researcher within 5 years of the first grant is:\")\n",
    "print(grnts['nb_sub_grnts'].astype(int).value_counts())"
   ]
  },
  {
   "cell_type": "code",
   "execution_count": 11,
   "metadata": {},
   "outputs": [],
   "source": [
    "actors_awards = list(actors['awardcode'].drop_duplicates())"
   ]
  },
  {
   "cell_type": "code",
   "execution_count": 12,
   "metadata": {},
   "outputs": [],
   "source": [
    "grnts_o = grnts[grnts['grnt_ref'].apply(lambda x: x in actors_awards)].reset_index(drop = True)"
   ]
  },
  {
   "cell_type": "code",
   "execution_count": 13,
   "metadata": {
    "scrolled": true
   },
   "outputs": [
    {
     "name": "stdout",
     "output_type": "stream",
     "text": [
      "Among the original INCa grants:\n",
      "The distribution of subsequent grants by a given researcher within 5 years of the first grant is:\n",
      "0    912\n",
      "1    293\n",
      "2    122\n",
      "3     69\n",
      "4     25\n",
      "5     13\n",
      "6      4\n",
      "7      3\n",
      "Name: nb_sub_grnts, dtype: int64\n"
     ]
    }
   ],
   "source": [
    "print(\"Among the original INCa grants:\")\n",
    "print(\"The distribution of subsequent grants by a given researcher within 5 years of the first grant is:\")\n",
    "print(grnts_o['nb_sub_grnts'].astype(int).value_counts())"
   ]
  },
  {
   "cell_type": "markdown",
   "metadata": {},
   "source": [
    "## Sandbox"
   ]
  },
  {
   "cell_type": "code",
   "execution_count": 14,
   "metadata": {},
   "outputs": [],
   "source": [
    "test = grnt_dtl[['prenom_port', 'nom_port', 'organisme_port']].drop_duplicates()"
   ]
  },
  {
   "cell_type": "code",
   "execution_count": 15,
   "metadata": {},
   "outputs": [
    {
     "data": {
      "text/html": [
       "<div>\n",
       "<style scoped>\n",
       "    .dataframe tbody tr th:only-of-type {\n",
       "        vertical-align: middle;\n",
       "    }\n",
       "\n",
       "    .dataframe tbody tr th {\n",
       "        vertical-align: top;\n",
       "    }\n",
       "\n",
       "    .dataframe thead th {\n",
       "        text-align: right;\n",
       "    }\n",
       "</style>\n",
       "<table border=\"1\" class=\"dataframe\">\n",
       "  <thead>\n",
       "    <tr style=\"text-align: right;\">\n",
       "      <th></th>\n",
       "      <th>prenom_port</th>\n",
       "      <th>nom_port</th>\n",
       "      <th>organisme_port</th>\n",
       "    </tr>\n",
       "  </thead>\n",
       "  <tbody>\n",
       "    <tr>\n",
       "      <th>count</th>\n",
       "      <td>1000</td>\n",
       "      <td>1000</td>\n",
       "      <td>1000</td>\n",
       "    </tr>\n",
       "    <tr>\n",
       "      <th>unique</th>\n",
       "      <td>418</td>\n",
       "      <td>969</td>\n",
       "      <td>506</td>\n",
       "    </tr>\n",
       "    <tr>\n",
       "      <th>top</th>\n",
       "      <td>Philippe</td>\n",
       "      <td>ROCHE</td>\n",
       "      <td>Institut Gustave Roussy</td>\n",
       "    </tr>\n",
       "    <tr>\n",
       "      <th>freq</th>\n",
       "      <td>28</td>\n",
       "      <td>3</td>\n",
       "      <td>44</td>\n",
       "    </tr>\n",
       "  </tbody>\n",
       "</table>\n",
       "</div>"
      ],
      "text/plain": [
       "       prenom_port nom_port           organisme_port\n",
       "count         1000     1000                     1000\n",
       "unique         418      969                      506\n",
       "top       Philippe    ROCHE  Institut Gustave Roussy\n",
       "freq            28        3                       44"
      ]
     },
     "execution_count": 15,
     "metadata": {},
     "output_type": "execute_result"
    }
   ],
   "source": [
    "test.describe()"
   ]
  },
  {
   "cell_type": "code",
   "execution_count": null,
   "metadata": {},
   "outputs": [],
   "source": []
  }
 ],
 "metadata": {
  "kernelspec": {
   "display_name": "Python 3",
   "language": "python",
   "name": "python3"
  },
  "language_info": {
   "codemirror_mode": {
    "name": "ipython",
    "version": 3
   },
   "file_extension": ".py",
   "mimetype": "text/x-python",
   "name": "python",
   "nbconvert_exporter": "python",
   "pygments_lexer": "ipython3",
   "version": "3.6.2"
  },
  "toc": {
   "nav_menu": {},
   "number_sections": false,
   "sideBar": true,
   "skip_h1_title": false,
   "title_cell": "Table of Contents",
   "title_sidebar": "Contents",
   "toc_cell": false,
   "toc_position": {},
   "toc_section_display": true,
   "toc_window_display": true
  }
 },
 "nbformat": 4,
 "nbformat_minor": 2
}
