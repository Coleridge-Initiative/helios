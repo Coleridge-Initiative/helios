{
 "cells": [
  {
   "cell_type": "markdown",
   "metadata": {},
   "source": [
    "# Data Read-In and Summary Statistics"
   ]
  },
  {
   "cell_type": "markdown",
   "metadata": {},
   "source": [
    "## Python Setup"
   ]
  },
  {
   "cell_type": "code",
   "execution_count": 2,
   "metadata": {},
   "outputs": [],
   "source": [
    "import pandas as pd\n",
    "import numpy as np\n",
    "import requests\n",
    "from bs4 import BeautifulSoup\n",
    "pd.options.display.max_rows = 50\n",
    "pd.options.display.max_columns = 100\n",
    "import unidecode"
   ]
  },
  {
   "cell_type": "markdown",
   "metadata": {},
   "source": [
    "## Data Read-In"
   ]
  },
  {
   "cell_type": "code",
   "execution_count": 3,
   "metadata": {},
   "outputs": [],
   "source": [
    "grnt_dtl = pd.read_csv('../data/inca_grants_details.csv', low_memory=False)\n",
    "pub_dtl = pd.read_csv('../data/inca_pub_details.csv', low_memory=False)"
   ]
  },
  {
   "cell_type": "markdown",
   "metadata": {},
   "source": [
    "### Drop Duplicate Lines"
   ]
  },
  {
   "cell_type": "code",
   "execution_count": 4,
   "metadata": {},
   "outputs": [
    {
     "name": "stdout",
     "output_type": "stream",
     "text": [
      "(1821, 16)\n",
      "(145121, 28)\n"
     ]
    }
   ],
   "source": [
    "print(grnt_dtl.shape)\n",
    "print(pub_dtl.shape)"
   ]
  },
  {
   "cell_type": "code",
   "execution_count": 5,
   "metadata": {},
   "outputs": [],
   "source": [
    "grnt_dtl = grnt_dtl.drop_duplicates()\n",
    "pub_dtl = pub_dtl.drop_duplicates()"
   ]
  },
  {
   "cell_type": "code",
   "execution_count": 6,
   "metadata": {
    "scrolled": true
   },
   "outputs": [
    {
     "name": "stdout",
     "output_type": "stream",
     "text": [
      "(1820, 16)\n",
      "(145121, 28)\n"
     ]
    }
   ],
   "source": [
    "print(grnt_dtl.shape)\n",
    "print(pub_dtl.shape)"
   ]
  },
  {
   "cell_type": "markdown",
   "metadata": {},
   "source": [
    "## Descriptive Statistics"
   ]
  },
  {
   "cell_type": "code",
   "execution_count": 14,
   "metadata": {},
   "outputs": [
    {
     "data": {
      "text/html": [
       "<div>\n",
       "<style scoped>\n",
       "    .dataframe tbody tr th:only-of-type {\n",
       "        vertical-align: middle;\n",
       "    }\n",
       "\n",
       "    .dataframe tbody tr th {\n",
       "        vertical-align: top;\n",
       "    }\n",
       "\n",
       "    .dataframe thead th {\n",
       "        text-align: right;\n",
       "    }\n",
       "</style>\n",
       "<table border=\"1\" class=\"dataframe\">\n",
       "  <thead>\n",
       "    <tr style=\"text-align: right;\">\n",
       "      <th></th>\n",
       "      <th>INCA ID</th>\n",
       "      <th>prenom_port</th>\n",
       "      <th>nom_port</th>\n",
       "      <th>organisme_port</th>\n",
       "      <th>Dimensions Grant ID</th>\n",
       "      <th>Title</th>\n",
       "      <th>Abstract</th>\n",
       "      <th>Funder</th>\n",
       "      <th>Reference</th>\n",
       "      <th>Research Org Names</th>\n",
       "      <th>Research Org IDs</th>\n",
       "      <th>FOR</th>\n",
       "      <th>RCDC</th>\n",
       "      <th>Funding Amount ($)</th>\n",
       "      <th>Start Date</th>\n",
       "      <th>End Date</th>\n",
       "    </tr>\n",
       "  </thead>\n",
       "  <tbody>\n",
       "    <tr>\n",
       "      <th>count</th>\n",
       "      <td>1820</td>\n",
       "      <td>1820</td>\n",
       "      <td>1820</td>\n",
       "      <td>1820</td>\n",
       "      <td>1820</td>\n",
       "      <td>1820</td>\n",
       "      <td>1778</td>\n",
       "      <td>1820</td>\n",
       "      <td>1820</td>\n",
       "      <td>1734</td>\n",
       "      <td>1734</td>\n",
       "      <td>1773</td>\n",
       "      <td>1730</td>\n",
       "      <td>1.786000e+03</td>\n",
       "      <td>1782</td>\n",
       "      <td>1764</td>\n",
       "    </tr>\n",
       "    <tr>\n",
       "      <th>unique</th>\n",
       "      <td>1001</td>\n",
       "      <td>418</td>\n",
       "      <td>969</td>\n",
       "      <td>506</td>\n",
       "      <td>1627</td>\n",
       "      <td>1546</td>\n",
       "      <td>1491</td>\n",
       "      <td>39</td>\n",
       "      <td>1550</td>\n",
       "      <td>543</td>\n",
       "      <td>543</td>\n",
       "      <td>160</td>\n",
       "      <td>1054</td>\n",
       "      <td>NaN</td>\n",
       "      <td>382</td>\n",
       "      <td>494</td>\n",
       "    </tr>\n",
       "    <tr>\n",
       "      <th>top</th>\n",
       "      <td>inca_502</td>\n",
       "      <td>Philippe</td>\n",
       "      <td>FEIL</td>\n",
       "      <td>Institut Gustave Roussy</td>\n",
       "      <td>grant.7155004</td>\n",
       "      <td>Design of a predictive algorithm to assess cli...</td>\n",
       "      <td>Scientific context: Renal cell cancer (RCC) ac...</td>\n",
       "      <td>French National Cancer Institute</td>\n",
       "      <td>INCa_DGOS_1376</td>\n",
       "      <td>Institut Gustave Roussy</td>\n",
       "      <td>grid.14925.3b</td>\n",
       "      <td>1112 Oncology and Carcinogenesis</td>\n",
       "      <td>Cancer</td>\n",
       "      <td>NaN</td>\n",
       "      <td>2007-02-02</td>\n",
       "      <td>2010-02-02</td>\n",
       "    </tr>\n",
       "    <tr>\n",
       "      <th>freq</th>\n",
       "      <td>12</td>\n",
       "      <td>45</td>\n",
       "      <td>12</td>\n",
       "      <td>110</td>\n",
       "      <td>3</td>\n",
       "      <td>4</td>\n",
       "      <td>4</td>\n",
       "      <td>848</td>\n",
       "      <td>4</td>\n",
       "      <td>124</td>\n",
       "      <td>124</td>\n",
       "      <td>470</td>\n",
       "      <td>49</td>\n",
       "      <td>NaN</td>\n",
       "      <td>99</td>\n",
       "      <td>87</td>\n",
       "    </tr>\n",
       "    <tr>\n",
       "      <th>mean</th>\n",
       "      <td>NaN</td>\n",
       "      <td>NaN</td>\n",
       "      <td>NaN</td>\n",
       "      <td>NaN</td>\n",
       "      <td>NaN</td>\n",
       "      <td>NaN</td>\n",
       "      <td>NaN</td>\n",
       "      <td>NaN</td>\n",
       "      <td>NaN</td>\n",
       "      <td>NaN</td>\n",
       "      <td>NaN</td>\n",
       "      <td>NaN</td>\n",
       "      <td>NaN</td>\n",
       "      <td>5.312396e+05</td>\n",
       "      <td>NaN</td>\n",
       "      <td>NaN</td>\n",
       "    </tr>\n",
       "    <tr>\n",
       "      <th>std</th>\n",
       "      <td>NaN</td>\n",
       "      <td>NaN</td>\n",
       "      <td>NaN</td>\n",
       "      <td>NaN</td>\n",
       "      <td>NaN</td>\n",
       "      <td>NaN</td>\n",
       "      <td>NaN</td>\n",
       "      <td>NaN</td>\n",
       "      <td>NaN</td>\n",
       "      <td>NaN</td>\n",
       "      <td>NaN</td>\n",
       "      <td>NaN</td>\n",
       "      <td>NaN</td>\n",
       "      <td>9.592135e+05</td>\n",
       "      <td>NaN</td>\n",
       "      <td>NaN</td>\n",
       "    </tr>\n",
       "    <tr>\n",
       "      <th>min</th>\n",
       "      <td>NaN</td>\n",
       "      <td>NaN</td>\n",
       "      <td>NaN</td>\n",
       "      <td>NaN</td>\n",
       "      <td>NaN</td>\n",
       "      <td>NaN</td>\n",
       "      <td>NaN</td>\n",
       "      <td>NaN</td>\n",
       "      <td>NaN</td>\n",
       "      <td>NaN</td>\n",
       "      <td>NaN</td>\n",
       "      <td>NaN</td>\n",
       "      <td>NaN</td>\n",
       "      <td>0.000000e+00</td>\n",
       "      <td>NaN</td>\n",
       "      <td>NaN</td>\n",
       "    </tr>\n",
       "    <tr>\n",
       "      <th>25%</th>\n",
       "      <td>NaN</td>\n",
       "      <td>NaN</td>\n",
       "      <td>NaN</td>\n",
       "      <td>NaN</td>\n",
       "      <td>NaN</td>\n",
       "      <td>NaN</td>\n",
       "      <td>NaN</td>\n",
       "      <td>NaN</td>\n",
       "      <td>NaN</td>\n",
       "      <td>NaN</td>\n",
       "      <td>NaN</td>\n",
       "      <td>NaN</td>\n",
       "      <td>NaN</td>\n",
       "      <td>1.774130e+05</td>\n",
       "      <td>NaN</td>\n",
       "      <td>NaN</td>\n",
       "    </tr>\n",
       "    <tr>\n",
       "      <th>50%</th>\n",
       "      <td>NaN</td>\n",
       "      <td>NaN</td>\n",
       "      <td>NaN</td>\n",
       "      <td>NaN</td>\n",
       "      <td>NaN</td>\n",
       "      <td>NaN</td>\n",
       "      <td>NaN</td>\n",
       "      <td>NaN</td>\n",
       "      <td>NaN</td>\n",
       "      <td>NaN</td>\n",
       "      <td>NaN</td>\n",
       "      <td>NaN</td>\n",
       "      <td>NaN</td>\n",
       "      <td>3.869350e+05</td>\n",
       "      <td>NaN</td>\n",
       "      <td>NaN</td>\n",
       "    </tr>\n",
       "    <tr>\n",
       "      <th>75%</th>\n",
       "      <td>NaN</td>\n",
       "      <td>NaN</td>\n",
       "      <td>NaN</td>\n",
       "      <td>NaN</td>\n",
       "      <td>NaN</td>\n",
       "      <td>NaN</td>\n",
       "      <td>NaN</td>\n",
       "      <td>NaN</td>\n",
       "      <td>NaN</td>\n",
       "      <td>NaN</td>\n",
       "      <td>NaN</td>\n",
       "      <td>NaN</td>\n",
       "      <td>NaN</td>\n",
       "      <td>6.154865e+05</td>\n",
       "      <td>NaN</td>\n",
       "      <td>NaN</td>\n",
       "    </tr>\n",
       "    <tr>\n",
       "      <th>max</th>\n",
       "      <td>NaN</td>\n",
       "      <td>NaN</td>\n",
       "      <td>NaN</td>\n",
       "      <td>NaN</td>\n",
       "      <td>NaN</td>\n",
       "      <td>NaN</td>\n",
       "      <td>NaN</td>\n",
       "      <td>NaN</td>\n",
       "      <td>NaN</td>\n",
       "      <td>NaN</td>\n",
       "      <td>NaN</td>\n",
       "      <td>NaN</td>\n",
       "      <td>NaN</td>\n",
       "      <td>1.406214e+07</td>\n",
       "      <td>NaN</td>\n",
       "      <td>NaN</td>\n",
       "    </tr>\n",
       "  </tbody>\n",
       "</table>\n",
       "</div>"
      ],
      "text/plain": [
       "         INCA ID prenom_port nom_port           organisme_port  \\\n",
       "count       1820        1820     1820                     1820   \n",
       "unique      1001         418      969                      506   \n",
       "top     inca_502    Philippe     FEIL  Institut Gustave Roussy   \n",
       "freq          12          45       12                      110   \n",
       "mean         NaN         NaN      NaN                      NaN   \n",
       "std          NaN         NaN      NaN                      NaN   \n",
       "min          NaN         NaN      NaN                      NaN   \n",
       "25%          NaN         NaN      NaN                      NaN   \n",
       "50%          NaN         NaN      NaN                      NaN   \n",
       "75%          NaN         NaN      NaN                      NaN   \n",
       "max          NaN         NaN      NaN                      NaN   \n",
       "\n",
       "       Dimensions Grant ID                                              Title  \\\n",
       "count                 1820                                               1820   \n",
       "unique                1627                                               1546   \n",
       "top          grant.7155004  Design of a predictive algorithm to assess cli...   \n",
       "freq                     3                                                  4   \n",
       "mean                   NaN                                                NaN   \n",
       "std                    NaN                                                NaN   \n",
       "min                    NaN                                                NaN   \n",
       "25%                    NaN                                                NaN   \n",
       "50%                    NaN                                                NaN   \n",
       "75%                    NaN                                                NaN   \n",
       "max                    NaN                                                NaN   \n",
       "\n",
       "                                                 Abstract  \\\n",
       "count                                                1778   \n",
       "unique                                               1491   \n",
       "top     Scientific context: Renal cell cancer (RCC) ac...   \n",
       "freq                                                    4   \n",
       "mean                                                  NaN   \n",
       "std                                                   NaN   \n",
       "min                                                   NaN   \n",
       "25%                                                   NaN   \n",
       "50%                                                   NaN   \n",
       "75%                                                   NaN   \n",
       "max                                                   NaN   \n",
       "\n",
       "                                  Funder       Reference  \\\n",
       "count                               1820            1820   \n",
       "unique                                39            1550   \n",
       "top     French National Cancer Institute  INCa_DGOS_1376   \n",
       "freq                                 848               4   \n",
       "mean                                 NaN             NaN   \n",
       "std                                  NaN             NaN   \n",
       "min                                  NaN             NaN   \n",
       "25%                                  NaN             NaN   \n",
       "50%                                  NaN             NaN   \n",
       "75%                                  NaN             NaN   \n",
       "max                                  NaN             NaN   \n",
       "\n",
       "             Research Org Names Research Org IDs  \\\n",
       "count                      1734             1734   \n",
       "unique                      543              543   \n",
       "top     Institut Gustave Roussy    grid.14925.3b   \n",
       "freq                        124              124   \n",
       "mean                        NaN              NaN   \n",
       "std                         NaN              NaN   \n",
       "min                         NaN              NaN   \n",
       "25%                         NaN              NaN   \n",
       "50%                         NaN              NaN   \n",
       "75%                         NaN              NaN   \n",
       "max                         NaN              NaN   \n",
       "\n",
       "                                     FOR    RCDC  Funding Amount ($)  \\\n",
       "count                               1773    1730        1.786000e+03   \n",
       "unique                               160    1054                 NaN   \n",
       "top     1112 Oncology and Carcinogenesis  Cancer                 NaN   \n",
       "freq                                 470      49                 NaN   \n",
       "mean                                 NaN     NaN        5.312396e+05   \n",
       "std                                  NaN     NaN        9.592135e+05   \n",
       "min                                  NaN     NaN        0.000000e+00   \n",
       "25%                                  NaN     NaN        1.774130e+05   \n",
       "50%                                  NaN     NaN        3.869350e+05   \n",
       "75%                                  NaN     NaN        6.154865e+05   \n",
       "max                                  NaN     NaN        1.406214e+07   \n",
       "\n",
       "        Start Date    End Date  \n",
       "count         1782        1764  \n",
       "unique         382         494  \n",
       "top     2007-02-02  2010-02-02  \n",
       "freq            99          87  \n",
       "mean           NaN         NaN  \n",
       "std            NaN         NaN  \n",
       "min            NaN         NaN  \n",
       "25%            NaN         NaN  \n",
       "50%            NaN         NaN  \n",
       "75%            NaN         NaN  \n",
       "max            NaN         NaN  "
      ]
     },
     "execution_count": 14,
     "metadata": {},
     "output_type": "execute_result"
    }
   ],
   "source": [
    "grnt_dtl.describe(include = 'all')"
   ]
  },
  {
   "cell_type": "code",
   "execution_count": 15,
   "metadata": {
    "scrolled": false
   },
   "outputs": [
    {
     "data": {
      "text/html": [
       "<div>\n",
       "<style scoped>\n",
       "    .dataframe tbody tr th:only-of-type {\n",
       "        vertical-align: middle;\n",
       "    }\n",
       "\n",
       "    .dataframe tbody tr th {\n",
       "        vertical-align: top;\n",
       "    }\n",
       "\n",
       "    .dataframe thead th {\n",
       "        text-align: right;\n",
       "    }\n",
       "</style>\n",
       "<table border=\"1\" class=\"dataframe\">\n",
       "  <thead>\n",
       "    <tr style=\"text-align: right;\">\n",
       "      <th></th>\n",
       "      <th>INCA ID</th>\n",
       "      <th>prenom_port</th>\n",
       "      <th>nom_port</th>\n",
       "      <th>organisme_port</th>\n",
       "      <th>Dimensions Researcher ID</th>\n",
       "      <th>Additional Researcher DIM ID to combine</th>\n",
       "      <th>Additional Researcher DIM ID to combine 2</th>\n",
       "      <th>ORCID</th>\n",
       "      <th>title</th>\n",
       "      <th>Dimensions Publication ID</th>\n",
       "      <th>doi</th>\n",
       "      <th>issue</th>\n",
       "      <th>pages</th>\n",
       "      <th>Pubmed ID</th>\n",
       "      <th>volume</th>\n",
       "      <th>Relative Citation Ratio</th>\n",
       "      <th>Times Cited</th>\n",
       "      <th>altmetric</th>\n",
       "      <th>Open access</th>\n",
       "      <th>Author Names</th>\n",
       "      <th>Research Org Names</th>\n",
       "      <th>Research Org IDs</th>\n",
       "      <th>FOR</th>\n",
       "      <th>RCDC</th>\n",
       "      <th>Journal ID</th>\n",
       "      <th>Journal Title</th>\n",
       "      <th>Publication Year</th>\n",
       "      <th>Publication Date</th>\n",
       "    </tr>\n",
       "  </thead>\n",
       "  <tbody>\n",
       "    <tr>\n",
       "      <th>count</th>\n",
       "      <td>145121</td>\n",
       "      <td>145121</td>\n",
       "      <td>145121</td>\n",
       "      <td>145121</td>\n",
       "      <td>145121</td>\n",
       "      <td>29643</td>\n",
       "      <td>2763</td>\n",
       "      <td>32080</td>\n",
       "      <td>145121</td>\n",
       "      <td>145121</td>\n",
       "      <td>131335</td>\n",
       "      <td>127929</td>\n",
       "      <td>142897</td>\n",
       "      <td>1.053860e+05</td>\n",
       "      <td>140591</td>\n",
       "      <td>97820.000000</td>\n",
       "      <td>145121.000000</td>\n",
       "      <td>31666.000000</td>\n",
       "      <td>43809</td>\n",
       "      <td>145121</td>\n",
       "      <td>104194</td>\n",
       "      <td>104194</td>\n",
       "      <td>97697</td>\n",
       "      <td>88764</td>\n",
       "      <td>140096</td>\n",
       "      <td>140096</td>\n",
       "      <td>145109.000000</td>\n",
       "      <td>0.0</td>\n",
       "    </tr>\n",
       "    <tr>\n",
       "      <th>unique</th>\n",
       "      <td>965</td>\n",
       "      <td>398</td>\n",
       "      <td>934</td>\n",
       "      <td>483</td>\n",
       "      <td>965</td>\n",
       "      <td>95</td>\n",
       "      <td>9</td>\n",
       "      <td>198</td>\n",
       "      <td>107243</td>\n",
       "      <td>109001</td>\n",
       "      <td>97583</td>\n",
       "      <td>1607</td>\n",
       "      <td>53204</td>\n",
       "      <td>NaN</td>\n",
       "      <td>1591</td>\n",
       "      <td>NaN</td>\n",
       "      <td>NaN</td>\n",
       "      <td>NaN</td>\n",
       "      <td>1</td>\n",
       "      <td>102384</td>\n",
       "      <td>36032</td>\n",
       "      <td>36044</td>\n",
       "      <td>826</td>\n",
       "      <td>30275</td>\n",
       "      <td>4565</td>\n",
       "      <td>4558</td>\n",
       "      <td>NaN</td>\n",
       "      <td>NaN</td>\n",
       "    </tr>\n",
       "    <tr>\n",
       "      <th>top</th>\n",
       "      <td>inca_542</td>\n",
       "      <td>Philippe</td>\n",
       "      <td>FRANCESCHI</td>\n",
       "      <td>Institut Gustave Roussy</td>\n",
       "      <td>ur.01074225776.01</td>\n",
       "      <td>ur.01204666360.03</td>\n",
       "      <td>ur.010226620247.19</td>\n",
       "      <td>0000-0003-4181-8071</td>\n",
       "      <td>Reply</td>\n",
       "      <td>pub.1026893639</td>\n",
       "      <td>10.1038/bmt.2016.102</td>\n",
       "      <td>1</td>\n",
       "      <td>1-9</td>\n",
       "      <td>NaN</td>\n",
       "      <td>28</td>\n",
       "      <td>NaN</td>\n",
       "      <td>NaN</td>\n",
       "      <td>NaN</td>\n",
       "      <td>True</td>\n",
       "      <td>Jeffrey W. Pollard, Alla Danilkovitch-Miagkova...</td>\n",
       "      <td>Institut Gustave Roussy</td>\n",
       "      <td>grid.14925.3b</td>\n",
       "      <td>1112 Oncology and Carcinogenesis</td>\n",
       "      <td>Cancer</td>\n",
       "      <td>jour.1312191</td>\n",
       "      <td>Journal of Clinical Oncology</td>\n",
       "      <td>NaN</td>\n",
       "      <td>NaN</td>\n",
       "    </tr>\n",
       "    <tr>\n",
       "      <th>freq</th>\n",
       "      <td>1272</td>\n",
       "      <td>4892</td>\n",
       "      <td>1272</td>\n",
       "      <td>9567</td>\n",
       "      <td>1272</td>\n",
       "      <td>1272</td>\n",
       "      <td>488</td>\n",
       "      <td>1272</td>\n",
       "      <td>37</td>\n",
       "      <td>10</td>\n",
       "      <td>10</td>\n",
       "      <td>16673</td>\n",
       "      <td>322</td>\n",
       "      <td>NaN</td>\n",
       "      <td>2505</td>\n",
       "      <td>NaN</td>\n",
       "      <td>NaN</td>\n",
       "      <td>NaN</td>\n",
       "      <td>43809</td>\n",
       "      <td>538</td>\n",
       "      <td>4352</td>\n",
       "      <td>4352</td>\n",
       "      <td>24728</td>\n",
       "      <td>3197</td>\n",
       "      <td>4577</td>\n",
       "      <td>4577</td>\n",
       "      <td>NaN</td>\n",
       "      <td>NaN</td>\n",
       "    </tr>\n",
       "    <tr>\n",
       "      <th>mean</th>\n",
       "      <td>NaN</td>\n",
       "      <td>NaN</td>\n",
       "      <td>NaN</td>\n",
       "      <td>NaN</td>\n",
       "      <td>NaN</td>\n",
       "      <td>NaN</td>\n",
       "      <td>NaN</td>\n",
       "      <td>NaN</td>\n",
       "      <td>NaN</td>\n",
       "      <td>NaN</td>\n",
       "      <td>NaN</td>\n",
       "      <td>NaN</td>\n",
       "      <td>NaN</td>\n",
       "      <td>1.770133e+07</td>\n",
       "      <td>NaN</td>\n",
       "      <td>1.569830</td>\n",
       "      <td>29.756348</td>\n",
       "      <td>8.959736</td>\n",
       "      <td>NaN</td>\n",
       "      <td>NaN</td>\n",
       "      <td>NaN</td>\n",
       "      <td>NaN</td>\n",
       "      <td>NaN</td>\n",
       "      <td>NaN</td>\n",
       "      <td>NaN</td>\n",
       "      <td>NaN</td>\n",
       "      <td>2006.900737</td>\n",
       "      <td>NaN</td>\n",
       "    </tr>\n",
       "    <tr>\n",
       "      <th>std</th>\n",
       "      <td>NaN</td>\n",
       "      <td>NaN</td>\n",
       "      <td>NaN</td>\n",
       "      <td>NaN</td>\n",
       "      <td>NaN</td>\n",
       "      <td>NaN</td>\n",
       "      <td>NaN</td>\n",
       "      <td>NaN</td>\n",
       "      <td>NaN</td>\n",
       "      <td>NaN</td>\n",
       "      <td>NaN</td>\n",
       "      <td>NaN</td>\n",
       "      <td>NaN</td>\n",
       "      <td>7.572868e+06</td>\n",
       "      <td>NaN</td>\n",
       "      <td>3.939371</td>\n",
       "      <td>97.346231</td>\n",
       "      <td>47.376261</td>\n",
       "      <td>NaN</td>\n",
       "      <td>NaN</td>\n",
       "      <td>NaN</td>\n",
       "      <td>NaN</td>\n",
       "      <td>NaN</td>\n",
       "      <td>NaN</td>\n",
       "      <td>NaN</td>\n",
       "      <td>NaN</td>\n",
       "      <td>8.572783</td>\n",
       "      <td>NaN</td>\n",
       "    </tr>\n",
       "    <tr>\n",
       "      <th>min</th>\n",
       "      <td>NaN</td>\n",
       "      <td>NaN</td>\n",
       "      <td>NaN</td>\n",
       "      <td>NaN</td>\n",
       "      <td>NaN</td>\n",
       "      <td>NaN</td>\n",
       "      <td>NaN</td>\n",
       "      <td>NaN</td>\n",
       "      <td>NaN</td>\n",
       "      <td>NaN</td>\n",
       "      <td>NaN</td>\n",
       "      <td>NaN</td>\n",
       "      <td>NaN</td>\n",
       "      <td>7.239000e+03</td>\n",
       "      <td>NaN</td>\n",
       "      <td>0.000000</td>\n",
       "      <td>0.000000</td>\n",
       "      <td>0.000000</td>\n",
       "      <td>NaN</td>\n",
       "      <td>NaN</td>\n",
       "      <td>NaN</td>\n",
       "      <td>NaN</td>\n",
       "      <td>NaN</td>\n",
       "      <td>NaN</td>\n",
       "      <td>NaN</td>\n",
       "      <td>NaN</td>\n",
       "      <td>1949.000000</td>\n",
       "      <td>NaN</td>\n",
       "    </tr>\n",
       "    <tr>\n",
       "      <th>25%</th>\n",
       "      <td>NaN</td>\n",
       "      <td>NaN</td>\n",
       "      <td>NaN</td>\n",
       "      <td>NaN</td>\n",
       "      <td>NaN</td>\n",
       "      <td>NaN</td>\n",
       "      <td>NaN</td>\n",
       "      <td>NaN</td>\n",
       "      <td>NaN</td>\n",
       "      <td>NaN</td>\n",
       "      <td>NaN</td>\n",
       "      <td>NaN</td>\n",
       "      <td>NaN</td>\n",
       "      <td>1.128256e+07</td>\n",
       "      <td>NaN</td>\n",
       "      <td>0.230000</td>\n",
       "      <td>0.000000</td>\n",
       "      <td>1.000000</td>\n",
       "      <td>NaN</td>\n",
       "      <td>NaN</td>\n",
       "      <td>NaN</td>\n",
       "      <td>NaN</td>\n",
       "      <td>NaN</td>\n",
       "      <td>NaN</td>\n",
       "      <td>NaN</td>\n",
       "      <td>NaN</td>\n",
       "      <td>2002.000000</td>\n",
       "      <td>NaN</td>\n",
       "    </tr>\n",
       "    <tr>\n",
       "      <th>50%</th>\n",
       "      <td>NaN</td>\n",
       "      <td>NaN</td>\n",
       "      <td>NaN</td>\n",
       "      <td>NaN</td>\n",
       "      <td>NaN</td>\n",
       "      <td>NaN</td>\n",
       "      <td>NaN</td>\n",
       "      <td>NaN</td>\n",
       "      <td>NaN</td>\n",
       "      <td>NaN</td>\n",
       "      <td>NaN</td>\n",
       "      <td>NaN</td>\n",
       "      <td>NaN</td>\n",
       "      <td>1.868756e+07</td>\n",
       "      <td>NaN</td>\n",
       "      <td>0.720000</td>\n",
       "      <td>6.000000</td>\n",
       "      <td>3.000000</td>\n",
       "      <td>NaN</td>\n",
       "      <td>NaN</td>\n",
       "      <td>NaN</td>\n",
       "      <td>NaN</td>\n",
       "      <td>NaN</td>\n",
       "      <td>NaN</td>\n",
       "      <td>NaN</td>\n",
       "      <td>NaN</td>\n",
       "      <td>2009.000000</td>\n",
       "      <td>NaN</td>\n",
       "    </tr>\n",
       "    <tr>\n",
       "      <th>75%</th>\n",
       "      <td>NaN</td>\n",
       "      <td>NaN</td>\n",
       "      <td>NaN</td>\n",
       "      <td>NaN</td>\n",
       "      <td>NaN</td>\n",
       "      <td>NaN</td>\n",
       "      <td>NaN</td>\n",
       "      <td>NaN</td>\n",
       "      <td>NaN</td>\n",
       "      <td>NaN</td>\n",
       "      <td>NaN</td>\n",
       "      <td>NaN</td>\n",
       "      <td>NaN</td>\n",
       "      <td>2.402514e+07</td>\n",
       "      <td>NaN</td>\n",
       "      <td>1.690000</td>\n",
       "      <td>27.000000</td>\n",
       "      <td>5.000000</td>\n",
       "      <td>NaN</td>\n",
       "      <td>NaN</td>\n",
       "      <td>NaN</td>\n",
       "      <td>NaN</td>\n",
       "      <td>NaN</td>\n",
       "      <td>NaN</td>\n",
       "      <td>NaN</td>\n",
       "      <td>NaN</td>\n",
       "      <td>2014.000000</td>\n",
       "      <td>NaN</td>\n",
       "    </tr>\n",
       "    <tr>\n",
       "      <th>max</th>\n",
       "      <td>NaN</td>\n",
       "      <td>NaN</td>\n",
       "      <td>NaN</td>\n",
       "      <td>NaN</td>\n",
       "      <td>NaN</td>\n",
       "      <td>NaN</td>\n",
       "      <td>NaN</td>\n",
       "      <td>NaN</td>\n",
       "      <td>NaN</td>\n",
       "      <td>NaN</td>\n",
       "      <td>NaN</td>\n",
       "      <td>NaN</td>\n",
       "      <td>NaN</td>\n",
       "      <td>2.958951e+07</td>\n",
       "      <td>NaN</td>\n",
       "      <td>249.310000</td>\n",
       "      <td>5458.000000</td>\n",
       "      <td>2120.000000</td>\n",
       "      <td>NaN</td>\n",
       "      <td>NaN</td>\n",
       "      <td>NaN</td>\n",
       "      <td>NaN</td>\n",
       "      <td>NaN</td>\n",
       "      <td>NaN</td>\n",
       "      <td>NaN</td>\n",
       "      <td>NaN</td>\n",
       "      <td>2018.000000</td>\n",
       "      <td>NaN</td>\n",
       "    </tr>\n",
       "  </tbody>\n",
       "</table>\n",
       "</div>"
      ],
      "text/plain": [
       "         INCA ID prenom_port    nom_port           organisme_port  \\\n",
       "count     145121      145121      145121                   145121   \n",
       "unique       965         398         934                      483   \n",
       "top     inca_542    Philippe  FRANCESCHI  Institut Gustave Roussy   \n",
       "freq        1272        4892        1272                     9567   \n",
       "mean         NaN         NaN         NaN                      NaN   \n",
       "std          NaN         NaN         NaN                      NaN   \n",
       "min          NaN         NaN         NaN                      NaN   \n",
       "25%          NaN         NaN         NaN                      NaN   \n",
       "50%          NaN         NaN         NaN                      NaN   \n",
       "75%          NaN         NaN         NaN                      NaN   \n",
       "max          NaN         NaN         NaN                      NaN   \n",
       "\n",
       "       Dimensions Researcher ID Additional Researcher DIM ID to combine  \\\n",
       "count                    145121                                   29643   \n",
       "unique                      965                                      95   \n",
       "top           ur.01074225776.01                       ur.01204666360.03   \n",
       "freq                       1272                                    1272   \n",
       "mean                        NaN                                     NaN   \n",
       "std                         NaN                                     NaN   \n",
       "min                         NaN                                     NaN   \n",
       "25%                         NaN                                     NaN   \n",
       "50%                         NaN                                     NaN   \n",
       "75%                         NaN                                     NaN   \n",
       "max                         NaN                                     NaN   \n",
       "\n",
       "       Additional Researcher DIM ID to combine 2                ORCID   title  \\\n",
       "count                                       2763                32080  145121   \n",
       "unique                                         9                  198  107243   \n",
       "top                           ur.010226620247.19  0000-0003-4181-8071   Reply   \n",
       "freq                                         488                 1272      37   \n",
       "mean                                         NaN                  NaN     NaN   \n",
       "std                                          NaN                  NaN     NaN   \n",
       "min                                          NaN                  NaN     NaN   \n",
       "25%                                          NaN                  NaN     NaN   \n",
       "50%                                          NaN                  NaN     NaN   \n",
       "75%                                          NaN                  NaN     NaN   \n",
       "max                                          NaN                  NaN     NaN   \n",
       "\n",
       "       Dimensions Publication ID                   doi   issue   pages  \\\n",
       "count                     145121                131335  127929  142897   \n",
       "unique                    109001                 97583    1607   53204   \n",
       "top               pub.1026893639  10.1038/bmt.2016.102       1     1-9   \n",
       "freq                          10                    10   16673     322   \n",
       "mean                         NaN                   NaN     NaN     NaN   \n",
       "std                          NaN                   NaN     NaN     NaN   \n",
       "min                          NaN                   NaN     NaN     NaN   \n",
       "25%                          NaN                   NaN     NaN     NaN   \n",
       "50%                          NaN                   NaN     NaN     NaN   \n",
       "75%                          NaN                   NaN     NaN     NaN   \n",
       "max                          NaN                   NaN     NaN     NaN   \n",
       "\n",
       "           Pubmed ID  volume  Relative Citation Ratio    Times Cited  \\\n",
       "count   1.053860e+05  140591             97820.000000  145121.000000   \n",
       "unique           NaN    1591                      NaN            NaN   \n",
       "top              NaN      28                      NaN            NaN   \n",
       "freq             NaN    2505                      NaN            NaN   \n",
       "mean    1.770133e+07     NaN                 1.569830      29.756348   \n",
       "std     7.572868e+06     NaN                 3.939371      97.346231   \n",
       "min     7.239000e+03     NaN                 0.000000       0.000000   \n",
       "25%     1.128256e+07     NaN                 0.230000       0.000000   \n",
       "50%     1.868756e+07     NaN                 0.720000       6.000000   \n",
       "75%     2.402514e+07     NaN                 1.690000      27.000000   \n",
       "max     2.958951e+07     NaN               249.310000    5458.000000   \n",
       "\n",
       "           altmetric Open access  \\\n",
       "count   31666.000000       43809   \n",
       "unique           NaN           1   \n",
       "top              NaN        True   \n",
       "freq             NaN       43809   \n",
       "mean        8.959736         NaN   \n",
       "std        47.376261         NaN   \n",
       "min         0.000000         NaN   \n",
       "25%         1.000000         NaN   \n",
       "50%         3.000000         NaN   \n",
       "75%         5.000000         NaN   \n",
       "max      2120.000000         NaN   \n",
       "\n",
       "                                             Author Names  \\\n",
       "count                                              145121   \n",
       "unique                                             102384   \n",
       "top     Jeffrey W. Pollard, Alla Danilkovitch-Miagkova...   \n",
       "freq                                                  538   \n",
       "mean                                                  NaN   \n",
       "std                                                   NaN   \n",
       "min                                                   NaN   \n",
       "25%                                                   NaN   \n",
       "50%                                                   NaN   \n",
       "75%                                                   NaN   \n",
       "max                                                   NaN   \n",
       "\n",
       "             Research Org Names Research Org IDs  \\\n",
       "count                    104194           104194   \n",
       "unique                    36032            36044   \n",
       "top     Institut Gustave Roussy    grid.14925.3b   \n",
       "freq                       4352             4352   \n",
       "mean                        NaN              NaN   \n",
       "std                         NaN              NaN   \n",
       "min                         NaN              NaN   \n",
       "25%                         NaN              NaN   \n",
       "50%                         NaN              NaN   \n",
       "75%                         NaN              NaN   \n",
       "max                         NaN              NaN   \n",
       "\n",
       "                                     FOR    RCDC    Journal ID  \\\n",
       "count                              97697   88764        140096   \n",
       "unique                               826   30275          4565   \n",
       "top     1112 Oncology and Carcinogenesis  Cancer  jour.1312191   \n",
       "freq                               24728    3197          4577   \n",
       "mean                                 NaN     NaN           NaN   \n",
       "std                                  NaN     NaN           NaN   \n",
       "min                                  NaN     NaN           NaN   \n",
       "25%                                  NaN     NaN           NaN   \n",
       "50%                                  NaN     NaN           NaN   \n",
       "75%                                  NaN     NaN           NaN   \n",
       "max                                  NaN     NaN           NaN   \n",
       "\n",
       "                       Journal Title  Publication Year  Publication Date  \n",
       "count                         140096     145109.000000               0.0  \n",
       "unique                          4558               NaN               NaN  \n",
       "top     Journal of Clinical Oncology               NaN               NaN  \n",
       "freq                            4577               NaN               NaN  \n",
       "mean                             NaN       2006.900737               NaN  \n",
       "std                              NaN          8.572783               NaN  \n",
       "min                              NaN       1949.000000               NaN  \n",
       "25%                              NaN       2002.000000               NaN  \n",
       "50%                              NaN       2009.000000               NaN  \n",
       "75%                              NaN       2014.000000               NaN  \n",
       "max                              NaN       2018.000000               NaN  "
      ]
     },
     "execution_count": 15,
     "metadata": {},
     "output_type": "execute_result"
    }
   ],
   "source": [
    "pub_dtl.describe(include = 'all')"
   ]
  },
  {
   "cell_type": "markdown",
   "metadata": {},
   "source": [
    "## Funder Name"
   ]
  },
  {
   "cell_type": "code",
   "execution_count": 10,
   "metadata": {},
   "outputs": [],
   "source": [
    "grnt_dtl['funder_clean'] = grnt_dtl['Funder'].fillna('')"
   ]
  },
  {
   "cell_type": "code",
   "execution_count": 11,
   "metadata": {},
   "outputs": [
    {
     "name": "stdout",
     "output_type": "stream",
     "text": [
      "100% of the grants have a Funder.\n",
      "There are 39 different Funder Names\n",
      "Here are the most frequent:\n"
     ]
    },
    {
     "data": {
      "text/plain": [
       "French National Cancer Institute                   848\n",
       "Ministère des Affaires sociales et de la Santé     523\n",
       "French Institute of Health and Medical Research    162\n",
       "French National Research Agency                    122\n",
       "Swiss National Science Foundation                   42\n",
       "Name: funder_clean, dtype: int64"
      ]
     },
     "execution_count": 11,
     "metadata": {},
     "output_type": "execute_result"
    }
   ],
   "source": [
    "grnt_dtl['funder_flag'] = grnt_dtl['funder_clean'].apply(lambda x: x!='')\n",
    "print(\"{}% of the grants have a Funder.\".format(int(grnt_dtl['funder_flag'].value_counts(normalize=True)[True]*100)))\n",
    "print(\"There are {} different Funder Names\".format(len(grnt_dtl['funder_clean'].value_counts())))\n",
    "print(\"Here are the most frequent:\")\n",
    "grnt_dtl['funder_clean'].value_counts().head()"
   ]
  },
  {
   "cell_type": "markdown",
   "metadata": {},
   "source": [
    "### INCA vs. Non-INCA"
   ]
  },
  {
   "cell_type": "code",
   "execution_count": 12,
   "metadata": {},
   "outputs": [
    {
     "name": "stdout",
     "output_type": "stream",
     "text": [
      "45% of the grants are INCA-funded.\n"
     ]
    }
   ],
   "source": [
    "grnt_dtl['inca_flag'] = (grnt_dtl['funder_clean']==\"French National Cancer Institute\")\n",
    "grants = grnt_dtl.groupby('Dimensions Grant ID')['inca_flag'].sum().reset_index()\n",
    "grants['inca_flag_any'] = (grants['inca_flag']>0)\n",
    "print(\"{}% of the grants are INCA-funded.\".format(int(grants['inca_flag_any'].value_counts(normalize=True)[True]*100)))"
   ]
  },
  {
   "cell_type": "markdown",
   "metadata": {},
   "source": [
    "## Institution Names"
   ]
  },
  {
   "cell_type": "code",
   "execution_count": 13,
   "metadata": {},
   "outputs": [],
   "source": [
    "grnt_dtl['org_clean'] = grnt_dtl['Research Org Names'].fillna('')"
   ]
  },
  {
   "cell_type": "code",
   "execution_count": 14,
   "metadata": {},
   "outputs": [
    {
     "name": "stdout",
     "output_type": "stream",
     "text": [
      "95% of the grants have an Institution.\n",
      "There are 544 different Institution Names\n",
      "Here are the most frequent:\n"
     ]
    },
    {
     "data": {
      "text/plain": [
       "Institut Gustave Roussy                                     124\n",
       "Institute Curie                                              87\n",
       "French Institute of Health and Medical Research              63\n",
       "Centre Léon Bérard                                           51\n",
       "Institute Paoli-Calmettes                                    43\n",
       "Institute of Genetics and Molecular and Cellular Biology     31\n",
       "Hôpital Saint-Louis                                          30\n",
       "Institut Bergonié                                            24\n",
       "UniCancer Group                                              22\n",
       "Institut Claudius Regaud                                     18\n",
       "Name: org_clean, dtype: int64"
      ]
     },
     "execution_count": 14,
     "metadata": {},
     "output_type": "execute_result"
    }
   ],
   "source": [
    "grnt_dtl['org_flag'] = grnt_dtl['org_clean'].apply(lambda x: x!='')\n",
    "print(\"{}% of the grants have an Institution.\".format(int(grnt_dtl['org_flag'].value_counts(normalize=True)[True]*100)))\n",
    "print(\"There are {} different Institution Names\".format(len(grnt_dtl['org_clean'].value_counts())))\n",
    "print(\"Here are the most frequent:\")\n",
    "grnt_dtl[grnt_dtl['org_clean']!=\"\"]['org_clean'].value_counts().head(10)"
   ]
  },
  {
   "cell_type": "code",
   "execution_count": 15,
   "metadata": {},
   "outputs": [
    {
     "name": "stdout",
     "output_type": "stream",
     "text": [
      "Organisation names are clean for the most part:\n"
     ]
    },
    {
     "data": {
      "text/plain": [
       "Institute Paoli-Calmettes                                             43\n",
       "Centre Oscar Lambret;UniCancer Group;Institute Paoli-Calmettes         1\n",
       "Hôpital René Huguenin;Institute Paoli-Calmettes;Centre Jean Perrin     1\n",
       "Institute Paoli-Calmettes;Hôpital Sainte-Marguerite                    1\n",
       "Name: org_clean, dtype: int64"
      ]
     },
     "execution_count": 15,
     "metadata": {},
     "output_type": "execute_result"
    }
   ],
   "source": [
    "print(\"Organisation names are clean for the most part:\")\n",
    "string = \"Paoli\"\n",
    "grnt_dtl[grnt_dtl['org_clean'].str.contains(string)]['org_clean'].value_counts()"
   ]
  },
  {
   "cell_type": "markdown",
   "metadata": {},
   "source": [
    "## ORCID Number"
   ]
  },
  {
   "cell_type": "code",
   "execution_count": 16,
   "metadata": {},
   "outputs": [],
   "source": [
    "pub_dtl['orcid_flag'] = pub_dtl['ORCID'].notnull()"
   ]
  },
  {
   "cell_type": "code",
   "execution_count": 17,
   "metadata": {
    "scrolled": false
   },
   "outputs": [
    {
     "name": "stdout",
     "output_type": "stream",
     "text": [
      "22% of the grants have an ORCID.\n",
      "Here are the most frequent ORCIDs:\n"
     ]
    },
    {
     "data": {
      "text/plain": [
       "0000-0003-4181-8071    1272\n",
       "0000-0002-9334-4405    1114\n",
       "0000-0001-7190-120X     875\n",
       "0000-0003-2574-3874     776\n",
       "0000-0002-0400-1954     767\n",
       "Name: ORCID, dtype: int64"
      ]
     },
     "execution_count": 17,
     "metadata": {},
     "output_type": "execute_result"
    }
   ],
   "source": [
    "print(\"{}% of the grants have an ORCID.\".format(int(pub_dtl['orcid_flag'].value_counts(normalize = True)[True]*100)))\n",
    "print(\"Here are the most frequent ORCIDs:\")\n",
    "pub_dtl['ORCID'].value_counts().head()"
   ]
  },
  {
   "cell_type": "markdown",
   "metadata": {},
   "source": [
    "## Researcher Name"
   ]
  },
  {
   "cell_type": "markdown",
   "metadata": {},
   "source": [
    "### Number of Reserachers"
   ]
  },
  {
   "cell_type": "code",
   "execution_count": 18,
   "metadata": {},
   "outputs": [
    {
     "name": "stdout",
     "output_type": "stream",
     "text": [
      "There are 1000 unique researchers (defined by unique names).\n",
      "There are 1001 unique researchers (defined by unique INCA IDs).\n"
     ]
    }
   ],
   "source": [
    "grnt_dtl['researcher_name'] = grnt_dtl['prenom_port'] + \" \" + grnt_dtl['nom_port']\n",
    "researchers = set(grnt_dtl['researcher_name'])\n",
    "print(\"There are {} unique researchers (defined by unique names).\".format(len(researchers)))\n",
    "print(\"There are {} unique researchers (defined by unique INCA IDs).\".format(len(set(grnt_dtl['INCA ID']))))"
   ]
  },
  {
   "cell_type": "markdown",
   "metadata": {},
   "source": [
    "### Link between Researcher Name and INCA ID:"
   ]
  },
  {
   "cell_type": "code",
   "execution_count": 19,
   "metadata": {},
   "outputs": [
    {
     "data": {
      "text/html": [
       "<div>\n",
       "<style scoped>\n",
       "    .dataframe tbody tr th:only-of-type {\n",
       "        vertical-align: middle;\n",
       "    }\n",
       "\n",
       "    .dataframe tbody tr th {\n",
       "        vertical-align: top;\n",
       "    }\n",
       "\n",
       "    .dataframe thead th {\n",
       "        text-align: right;\n",
       "    }\n",
       "</style>\n",
       "<table border=\"1\" class=\"dataframe\">\n",
       "  <thead>\n",
       "    <tr style=\"text-align: right;\">\n",
       "      <th></th>\n",
       "      <th>INCA ID</th>\n",
       "      <th>researcher_name</th>\n",
       "    </tr>\n",
       "  </thead>\n",
       "  <tbody>\n",
       "    <tr>\n",
       "      <th>count</th>\n",
       "      <td>1001</td>\n",
       "      <td>1001</td>\n",
       "    </tr>\n",
       "    <tr>\n",
       "      <th>unique</th>\n",
       "      <td>1001</td>\n",
       "      <td>1000</td>\n",
       "    </tr>\n",
       "    <tr>\n",
       "      <th>top</th>\n",
       "      <td>inca_1068</td>\n",
       "      <td>Jean BOURHIS</td>\n",
       "    </tr>\n",
       "    <tr>\n",
       "      <th>freq</th>\n",
       "      <td>1</td>\n",
       "      <td>2</td>\n",
       "    </tr>\n",
       "  </tbody>\n",
       "</table>\n",
       "</div>"
      ],
      "text/plain": [
       "          INCA ID researcher_name\n",
       "count        1001            1001\n",
       "unique       1001            1000\n",
       "top     inca_1068    Jean BOURHIS\n",
       "freq            1               2"
      ]
     },
     "execution_count": 19,
     "metadata": {},
     "output_type": "execute_result"
    }
   ],
   "source": [
    "grnt_dtl[['INCA ID', 'researcher_name']].drop_duplicates().describe()"
   ]
  },
  {
   "cell_type": "code",
   "execution_count": 20,
   "metadata": {},
   "outputs": [
    {
     "data": {
      "text/html": [
       "<div>\n",
       "<style scoped>\n",
       "    .dataframe tbody tr th:only-of-type {\n",
       "        vertical-align: middle;\n",
       "    }\n",
       "\n",
       "    .dataframe tbody tr th {\n",
       "        vertical-align: top;\n",
       "    }\n",
       "\n",
       "    .dataframe thead th {\n",
       "        text-align: right;\n",
       "    }\n",
       "</style>\n",
       "<table border=\"1\" class=\"dataframe\">\n",
       "  <thead>\n",
       "    <tr style=\"text-align: right;\">\n",
       "      <th></th>\n",
       "      <th>INCA ID</th>\n",
       "      <th>researcher_name</th>\n",
       "    </tr>\n",
       "  </thead>\n",
       "  <tbody>\n",
       "    <tr>\n",
       "      <th>319</th>\n",
       "      <td>inca_209</td>\n",
       "      <td>Jean BOURHIS</td>\n",
       "    </tr>\n",
       "    <tr>\n",
       "      <th>325</th>\n",
       "      <td>inca_210</td>\n",
       "      <td>Jean BOURHIS</td>\n",
       "    </tr>\n",
       "  </tbody>\n",
       "</table>\n",
       "</div>"
      ],
      "text/plain": [
       "      INCA ID researcher_name\n",
       "319  inca_209    Jean BOURHIS\n",
       "325  inca_210    Jean BOURHIS"
      ]
     },
     "execution_count": 20,
     "metadata": {},
     "output_type": "execute_result"
    }
   ],
   "source": [
    "grnt_dtl[['INCA ID', 'researcher_name']].drop_duplicates()[grnt_dtl[['INCA ID', 'researcher_name']].drop_duplicates()['researcher_name']==\"Jean BOURHIS\"]"
   ]
  },
  {
   "cell_type": "markdown",
   "metadata": {},
   "source": [
    "### Linking a Dimesions ID to Reseracher Names"
   ]
  },
  {
   "cell_type": "code",
   "execution_count": 21,
   "metadata": {},
   "outputs": [
    {
     "data": {
      "text/html": [
       "<div>\n",
       "<style scoped>\n",
       "    .dataframe tbody tr th:only-of-type {\n",
       "        vertical-align: middle;\n",
       "    }\n",
       "\n",
       "    .dataframe tbody tr th {\n",
       "        vertical-align: top;\n",
       "    }\n",
       "\n",
       "    .dataframe thead th {\n",
       "        text-align: right;\n",
       "    }\n",
       "</style>\n",
       "<table border=\"1\" class=\"dataframe\">\n",
       "  <thead>\n",
       "    <tr style=\"text-align: right;\">\n",
       "      <th></th>\n",
       "      <th>first_name</th>\n",
       "      <th>last_name</th>\n",
       "      <th>id</th>\n",
       "      <th>name</th>\n",
       "    </tr>\n",
       "  </thead>\n",
       "  <tbody>\n",
       "    <tr>\n",
       "      <th>count</th>\n",
       "      <td>1004</td>\n",
       "      <td>1004</td>\n",
       "      <td>965</td>\n",
       "      <td>1004</td>\n",
       "    </tr>\n",
       "    <tr>\n",
       "      <th>unique</th>\n",
       "      <td>420</td>\n",
       "      <td>972</td>\n",
       "      <td>965</td>\n",
       "      <td>1004</td>\n",
       "    </tr>\n",
       "    <tr>\n",
       "      <th>top</th>\n",
       "      <td>Philippe</td>\n",
       "      <td>BENHAMOU</td>\n",
       "      <td>ur.0647453126.48</td>\n",
       "      <td>CAZAUX, Christophe</td>\n",
       "    </tr>\n",
       "    <tr>\n",
       "      <th>freq</th>\n",
       "      <td>28</td>\n",
       "      <td>3</td>\n",
       "      <td>1</td>\n",
       "      <td>1</td>\n",
       "    </tr>\n",
       "  </tbody>\n",
       "</table>\n",
       "</div>"
      ],
      "text/plain": [
       "       first_name last_name                id                name\n",
       "count        1004      1004               965                1004\n",
       "unique        420       972               965                1004\n",
       "top      Philippe  BENHAMOU  ur.0647453126.48  CAZAUX, Christophe\n",
       "freq           28         3                 1                   1"
      ]
     },
     "execution_count": 21,
     "metadata": {},
     "output_type": "execute_result"
    }
   ],
   "source": [
    "researchers = pd.merge(grnt_dtl[['prenom_port', 'nom_port']].drop_duplicates()\n",
    "                       , pub_dtl[['prenom_port', 'nom_port', 'Dimensions Researcher ID']].drop_duplicates()\n",
    "                       , how = 'outer')\n",
    "researchers = researchers.drop_duplicates()\n",
    "researchers.columns = ['first_name', 'last_name', 'id']\n",
    "researchers['name'] = researchers['last_name'] + \", \" + researchers['first_name']\n",
    "researchers = researchers.sort_values('name')\n",
    "researchers = researchers.reset_index(drop = True)\n",
    "researchers.describe()"
   ]
  },
  {
   "cell_type": "code",
   "execution_count": 22,
   "metadata": {},
   "outputs": [],
   "source": [
    "researchers.to_csv('../data/researchers.csv', index = False)"
   ]
  },
  {
   "cell_type": "markdown",
   "metadata": {},
   "source": [
    "## Number of Grants per Researcher"
   ]
  },
  {
   "cell_type": "code",
   "execution_count": 23,
   "metadata": {},
   "outputs": [],
   "source": [
    "grnt_dtl['researcher'] = grnt_dtl['nom_port'] + \", \" + grnt_dtl['prenom_port']"
   ]
  },
  {
   "cell_type": "code",
   "execution_count": 24,
   "metadata": {},
   "outputs": [],
   "source": [
    "rsrs_grants = grnt_dtl.groupby('researcher').size().reset_index()\n",
    "rsrs_grants = rsrs_grants.rename(index=str, columns={0: \"grant_count\"})"
   ]
  },
  {
   "cell_type": "code",
   "execution_count": 25,
   "metadata": {},
   "outputs": [
    {
     "name": "stdout",
     "output_type": "stream",
     "text": [
      "618 researchers have 1 grant.\n",
      "The maximum number of grants for given researcher is 12.\n",
      "Here is the distribution:\n"
     ]
    },
    {
     "data": {
      "text/plain": [
       "1     618\n",
       "2     186\n",
       "3      81\n",
       "4      61\n",
       "5      25\n",
       "6      10\n",
       "7       8\n",
       "8       4\n",
       "9       3\n",
       "10      2\n",
       "12      1\n",
       "11      1\n",
       "Name: grant_count, dtype: int64"
      ]
     },
     "execution_count": 25,
     "metadata": {},
     "output_type": "execute_result"
    }
   ],
   "source": [
    "print(\"{} researchers have 1 grant.\".format(rsrs_grants['grant_count'].value_counts()[1]))\n",
    "print(\"The maximum number of grants for given researcher is {}.\".format(max(rsrs_grants['grant_count'])))\n",
    "print(\"Here is the distribution:\")\n",
    "rsrs_grants['grant_count'].hist(bins = 11)\n",
    "rsrs_grants['grant_count'].value_counts()"
   ]
  },
  {
   "cell_type": "markdown",
   "metadata": {},
   "source": [
    "## Analysis of Key Words (FORs)"
   ]
  },
  {
   "cell_type": "code",
   "execution_count": 26,
   "metadata": {},
   "outputs": [
    {
     "name": "stdout",
     "output_type": "stream",
     "text": [
      "47 grants have no FOR.\n",
      "A grant has at most 5 FORs.\n",
      "The distribution is:\n"
     ]
    },
    {
     "data": {
      "text/plain": [
       "1    1035\n",
       "2     663\n",
       "3      71\n",
       "0      47\n",
       "4       3\n",
       "5       1\n",
       "Name: nb_for, dtype: int64"
      ]
     },
     "execution_count": 26,
     "metadata": {},
     "output_type": "execute_result"
    }
   ],
   "source": [
    "grnt_dtl['nb_for'] = grnt_dtl['FOR'].str.count(';')+1\n",
    "grnt_dtl['nb_for'] = grnt_dtl['nb_for'].fillna(0)\n",
    "grnt_dtl['nb_for'] = grnt_dtl['nb_for'].apply(lambda x: int(x))\n",
    "print(\"{} grants have no FOR.\".format(grnt_dtl['nb_for'].value_counts()[0]))\n",
    "print(\"A grant has at most {} FORs.\".format(max(grnt_dtl['nb_for'])))\n",
    "print(\"The distribution is:\")\n",
    "grnt_dtl['nb_for'].value_counts()"
   ]
  },
  {
   "cell_type": "code",
   "execution_count": 27,
   "metadata": {},
   "outputs": [
    {
     "name": "stdout",
     "output_type": "stream",
     "text": [
      "There are 48 different FOR codes. The most frequent are:\n"
     ]
    },
    {
     "data": {
      "text/plain": [
       "1112 Oncology and Carcinogenesis          1033\n",
       "0601 Biochemistry and Cell Biology         365\n",
       "1117 Public Health and Health Services     272\n",
       "0604 Genetics                              266\n",
       "1103 Clinical Sciences                     238\n",
       "Name: for, dtype: int64"
      ]
     },
     "execution_count": 27,
     "metadata": {},
     "output_type": "execute_result"
    }
   ],
   "source": [
    "for_df = pd.concat([grnt_dtl['Dimensions Grant ID'], grnt_dtl['FOR'].str.split(';', expand=True)], axis = 1)\n",
    "for_df = for_df.rename(index=str, columns={'Dimensions Grant ID': 'grant_id'})\n",
    "grant_id = []\n",
    "for_name = []\n",
    "for i in range(for_df.shape[1]-1):\n",
    "    temp = for_df[['grant_id', i]]\n",
    "    temp = temp[temp[i].notnull()]\n",
    "    grant_id.extend(list(temp['grant_id']))\n",
    "    for_name.extend(list(temp[i]))\n",
    "for_df_t = pd.DataFrame({'grant_id': grant_id, 'for': for_name}).sort_values('grant_id').reset_index(drop = True)\n",
    "for_df = pd.merge(for_df[['grant_id']], for_df_t, how = 'left', on = 'grant_id')\n",
    "print(\"There are {} different FOR codes. The most frequent are:\".format(len(for_df_t['for'].value_counts())))\n",
    "for_df_t['for'].value_counts().head()"
   ]
  },
  {
   "cell_type": "code",
   "execution_count": null,
   "metadata": {},
   "outputs": [],
   "source": []
  },
  {
   "cell_type": "code",
   "execution_count": null,
   "metadata": {},
   "outputs": [],
   "source": []
  },
  {
   "cell_type": "code",
   "execution_count": null,
   "metadata": {},
   "outputs": [],
   "source": []
  },
  {
   "cell_type": "code",
   "execution_count": null,
   "metadata": {},
   "outputs": [],
   "source": []
  },
  {
   "cell_type": "code",
   "execution_count": null,
   "metadata": {},
   "outputs": [],
   "source": []
  },
  {
   "cell_type": "markdown",
   "metadata": {},
   "source": [
    "## Sandbox"
   ]
  },
  {
   "cell_type": "code",
   "execution_count": null,
   "metadata": {},
   "outputs": [],
   "source": []
  },
  {
   "cell_type": "code",
   "execution_count": null,
   "metadata": {},
   "outputs": [],
   "source": []
  },
  {
   "cell_type": "code",
   "execution_count": null,
   "metadata": {},
   "outputs": [],
   "source": []
  },
  {
   "cell_type": "code",
   "execution_count": null,
   "metadata": {},
   "outputs": [],
   "source": []
  },
  {
   "cell_type": "code",
   "execution_count": null,
   "metadata": {},
   "outputs": [],
   "source": []
  },
  {
   "cell_type": "code",
   "execution_count": null,
   "metadata": {},
   "outputs": [],
   "source": []
  }
 ],
 "metadata": {
  "kernelspec": {
   "display_name": "Python 3",
   "language": "python",
   "name": "python3"
  },
  "language_info": {
   "codemirror_mode": {
    "name": "ipython",
    "version": 3
   },
   "file_extension": ".py",
   "mimetype": "text/x-python",
   "name": "python",
   "nbconvert_exporter": "python",
   "pygments_lexer": "ipython3",
   "version": "3.6.2"
  },
  "toc": {
   "nav_menu": {},
   "number_sections": false,
   "sideBar": true,
   "skip_h1_title": false,
   "title_cell": "Table of Contents",
   "title_sidebar": "Contents",
   "toc_cell": false,
   "toc_position": {
    "height": "calc(100% - 180px)",
    "left": "10px",
    "top": "150px",
    "width": "165px"
   },
   "toc_section_display": true,
   "toc_window_display": true
  }
 },
 "nbformat": 4,
 "nbformat_minor": 2
}
