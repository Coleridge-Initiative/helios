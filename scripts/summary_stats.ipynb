{
 "cells": [
  {
   "cell_type": "markdown",
   "metadata": {},
   "source": [
    "# Data Read-In and Summary Statistics"
   ]
  },
  {
   "cell_type": "markdown",
   "metadata": {},
   "source": [
    "## Python Setup"
   ]
  },
  {
   "cell_type": "code",
   "execution_count": 2,
   "metadata": {},
   "outputs": [],
   "source": [
    "import pandas as pd\n",
    "import numpy as np\n",
    "import requests\n",
    "from bs4 import BeautifulSoup\n",
    "pd.options.display.max_rows = 50\n",
    "pd.options.display.max_columns = 100\n",
    "import unidecode\n",
    "import re"
   ]
  },
  {
   "cell_type": "markdown",
   "metadata": {},
   "source": [
    "## Data Read-In"
   ]
  },
  {
   "cell_type": "code",
   "execution_count": 3,
   "metadata": {},
   "outputs": [],
   "source": [
    "grnt_dtl = pd.read_csv('../data/inca_grants_details.csv', low_memory=False)\n",
    "pub_dtl = pd.read_csv('../data/inca_pub_details.csv', low_memory=False)"
   ]
  },
  {
   "cell_type": "code",
   "execution_count": 3,
   "metadata": {},
   "outputs": [],
   "source": [
    "actors = pd.read_csv('../data/HELIOSv2_ACTEURS_all_2007-2012.csv', low_memory=False)\n",
    "cols = [col for col in actors.columns if bool(re.match(r'^Unnamed: \\d\\d\\d$', col))==False]\n",
    "actors = actors[cols]\n",
    "budget = pd.read_csv('../data/HELIOSv2_BUDGET_all_2007-2012.csv', low_memory=False)\n",
    "projects = pd.read_csv('../data/HELIOSv2_PROJETS_all_2007-2012.csv', low_memory=False)"
   ]
  },
  {
   "cell_type": "markdown",
   "metadata": {},
   "source": [
    "### Drop Duplicate Lines"
   ]
  },
  {
   "cell_type": "code",
   "execution_count": 4,
   "metadata": {},
   "outputs": [
    {
     "name": "stdout",
     "output_type": "stream",
     "text": [
      "(1821, 16)\n",
      "(145121, 28)\n",
      "(1820, 16)\n",
      "(145121, 28)\n"
     ]
    }
   ],
   "source": [
    "print(grnt_dtl.shape)\n",
    "print(pub_dtl.shape)\n",
    "grnt_dtl = grnt_dtl.drop_duplicates()\n",
    "pub_dtl = pub_dtl.drop_duplicates()\n",
    "print(grnt_dtl.shape)\n",
    "print(pub_dtl.shape)"
   ]
  },
  {
   "cell_type": "markdown",
   "metadata": {},
   "source": [
    "## Descriptive Statistics"
   ]
  },
  {
   "cell_type": "code",
   "execution_count": 5,
   "metadata": {},
   "outputs": [
    {
     "data": {
      "text/html": [
       "<div>\n",
       "<style scoped>\n",
       "    .dataframe tbody tr th:only-of-type {\n",
       "        vertical-align: middle;\n",
       "    }\n",
       "\n",
       "    .dataframe tbody tr th {\n",
       "        vertical-align: top;\n",
       "    }\n",
       "\n",
       "    .dataframe thead th {\n",
       "        text-align: right;\n",
       "    }\n",
       "</style>\n",
       "<table border=\"1\" class=\"dataframe\">\n",
       "  <thead>\n",
       "    <tr style=\"text-align: right;\">\n",
       "      <th></th>\n",
       "      <th>INCA ID</th>\n",
       "      <th>prenom_port</th>\n",
       "      <th>nom_port</th>\n",
       "      <th>organisme_port</th>\n",
       "      <th>Dimensions Grant ID</th>\n",
       "      <th>Title</th>\n",
       "      <th>Abstract</th>\n",
       "      <th>Funder</th>\n",
       "      <th>Reference</th>\n",
       "      <th>Research Org Names</th>\n",
       "      <th>Research Org IDs</th>\n",
       "      <th>FOR</th>\n",
       "      <th>RCDC</th>\n",
       "      <th>Funding Amount ($)</th>\n",
       "      <th>Start Date</th>\n",
       "      <th>End Date</th>\n",
       "    </tr>\n",
       "  </thead>\n",
       "  <tbody>\n",
       "    <tr>\n",
       "      <th>count</th>\n",
       "      <td>1820</td>\n",
       "      <td>1820</td>\n",
       "      <td>1820</td>\n",
       "      <td>1820</td>\n",
       "      <td>1820</td>\n",
       "      <td>1820</td>\n",
       "      <td>1778</td>\n",
       "      <td>1820</td>\n",
       "      <td>1820</td>\n",
       "      <td>1734</td>\n",
       "      <td>1734</td>\n",
       "      <td>1773</td>\n",
       "      <td>1730</td>\n",
       "      <td>1.786000e+03</td>\n",
       "      <td>1782</td>\n",
       "      <td>1764</td>\n",
       "    </tr>\n",
       "    <tr>\n",
       "      <th>unique</th>\n",
       "      <td>1001</td>\n",
       "      <td>418</td>\n",
       "      <td>969</td>\n",
       "      <td>506</td>\n",
       "      <td>1627</td>\n",
       "      <td>1546</td>\n",
       "      <td>1491</td>\n",
       "      <td>39</td>\n",
       "      <td>1550</td>\n",
       "      <td>543</td>\n",
       "      <td>543</td>\n",
       "      <td>160</td>\n",
       "      <td>1054</td>\n",
       "      <td>NaN</td>\n",
       "      <td>382</td>\n",
       "      <td>494</td>\n",
       "    </tr>\n",
       "    <tr>\n",
       "      <th>top</th>\n",
       "      <td>inca_502</td>\n",
       "      <td>Philippe</td>\n",
       "      <td>FEIL</td>\n",
       "      <td>Institut Gustave Roussy</td>\n",
       "      <td>grant.7155004</td>\n",
       "      <td>Identification, characterization and clinical ...</td>\n",
       "      <td>Scientific context: The initiation and progres...</td>\n",
       "      <td>French National Cancer Institute</td>\n",
       "      <td>INCa_DGOS_5694</td>\n",
       "      <td>Institut Gustave Roussy</td>\n",
       "      <td>grid.14925.3b</td>\n",
       "      <td>1112 Oncology and Carcinogenesis</td>\n",
       "      <td>Cancer</td>\n",
       "      <td>NaN</td>\n",
       "      <td>2007-02-02</td>\n",
       "      <td>2010-02-02</td>\n",
       "    </tr>\n",
       "    <tr>\n",
       "      <th>freq</th>\n",
       "      <td>12</td>\n",
       "      <td>45</td>\n",
       "      <td>12</td>\n",
       "      <td>110</td>\n",
       "      <td>3</td>\n",
       "      <td>4</td>\n",
       "      <td>4</td>\n",
       "      <td>848</td>\n",
       "      <td>4</td>\n",
       "      <td>124</td>\n",
       "      <td>124</td>\n",
       "      <td>470</td>\n",
       "      <td>49</td>\n",
       "      <td>NaN</td>\n",
       "      <td>99</td>\n",
       "      <td>87</td>\n",
       "    </tr>\n",
       "    <tr>\n",
       "      <th>mean</th>\n",
       "      <td>NaN</td>\n",
       "      <td>NaN</td>\n",
       "      <td>NaN</td>\n",
       "      <td>NaN</td>\n",
       "      <td>NaN</td>\n",
       "      <td>NaN</td>\n",
       "      <td>NaN</td>\n",
       "      <td>NaN</td>\n",
       "      <td>NaN</td>\n",
       "      <td>NaN</td>\n",
       "      <td>NaN</td>\n",
       "      <td>NaN</td>\n",
       "      <td>NaN</td>\n",
       "      <td>5.312396e+05</td>\n",
       "      <td>NaN</td>\n",
       "      <td>NaN</td>\n",
       "    </tr>\n",
       "    <tr>\n",
       "      <th>std</th>\n",
       "      <td>NaN</td>\n",
       "      <td>NaN</td>\n",
       "      <td>NaN</td>\n",
       "      <td>NaN</td>\n",
       "      <td>NaN</td>\n",
       "      <td>NaN</td>\n",
       "      <td>NaN</td>\n",
       "      <td>NaN</td>\n",
       "      <td>NaN</td>\n",
       "      <td>NaN</td>\n",
       "      <td>NaN</td>\n",
       "      <td>NaN</td>\n",
       "      <td>NaN</td>\n",
       "      <td>9.592135e+05</td>\n",
       "      <td>NaN</td>\n",
       "      <td>NaN</td>\n",
       "    </tr>\n",
       "    <tr>\n",
       "      <th>min</th>\n",
       "      <td>NaN</td>\n",
       "      <td>NaN</td>\n",
       "      <td>NaN</td>\n",
       "      <td>NaN</td>\n",
       "      <td>NaN</td>\n",
       "      <td>NaN</td>\n",
       "      <td>NaN</td>\n",
       "      <td>NaN</td>\n",
       "      <td>NaN</td>\n",
       "      <td>NaN</td>\n",
       "      <td>NaN</td>\n",
       "      <td>NaN</td>\n",
       "      <td>NaN</td>\n",
       "      <td>0.000000e+00</td>\n",
       "      <td>NaN</td>\n",
       "      <td>NaN</td>\n",
       "    </tr>\n",
       "    <tr>\n",
       "      <th>25%</th>\n",
       "      <td>NaN</td>\n",
       "      <td>NaN</td>\n",
       "      <td>NaN</td>\n",
       "      <td>NaN</td>\n",
       "      <td>NaN</td>\n",
       "      <td>NaN</td>\n",
       "      <td>NaN</td>\n",
       "      <td>NaN</td>\n",
       "      <td>NaN</td>\n",
       "      <td>NaN</td>\n",
       "      <td>NaN</td>\n",
       "      <td>NaN</td>\n",
       "      <td>NaN</td>\n",
       "      <td>1.774130e+05</td>\n",
       "      <td>NaN</td>\n",
       "      <td>NaN</td>\n",
       "    </tr>\n",
       "    <tr>\n",
       "      <th>50%</th>\n",
       "      <td>NaN</td>\n",
       "      <td>NaN</td>\n",
       "      <td>NaN</td>\n",
       "      <td>NaN</td>\n",
       "      <td>NaN</td>\n",
       "      <td>NaN</td>\n",
       "      <td>NaN</td>\n",
       "      <td>NaN</td>\n",
       "      <td>NaN</td>\n",
       "      <td>NaN</td>\n",
       "      <td>NaN</td>\n",
       "      <td>NaN</td>\n",
       "      <td>NaN</td>\n",
       "      <td>3.869350e+05</td>\n",
       "      <td>NaN</td>\n",
       "      <td>NaN</td>\n",
       "    </tr>\n",
       "    <tr>\n",
       "      <th>75%</th>\n",
       "      <td>NaN</td>\n",
       "      <td>NaN</td>\n",
       "      <td>NaN</td>\n",
       "      <td>NaN</td>\n",
       "      <td>NaN</td>\n",
       "      <td>NaN</td>\n",
       "      <td>NaN</td>\n",
       "      <td>NaN</td>\n",
       "      <td>NaN</td>\n",
       "      <td>NaN</td>\n",
       "      <td>NaN</td>\n",
       "      <td>NaN</td>\n",
       "      <td>NaN</td>\n",
       "      <td>6.154865e+05</td>\n",
       "      <td>NaN</td>\n",
       "      <td>NaN</td>\n",
       "    </tr>\n",
       "    <tr>\n",
       "      <th>max</th>\n",
       "      <td>NaN</td>\n",
       "      <td>NaN</td>\n",
       "      <td>NaN</td>\n",
       "      <td>NaN</td>\n",
       "      <td>NaN</td>\n",
       "      <td>NaN</td>\n",
       "      <td>NaN</td>\n",
       "      <td>NaN</td>\n",
       "      <td>NaN</td>\n",
       "      <td>NaN</td>\n",
       "      <td>NaN</td>\n",
       "      <td>NaN</td>\n",
       "      <td>NaN</td>\n",
       "      <td>1.406214e+07</td>\n",
       "      <td>NaN</td>\n",
       "      <td>NaN</td>\n",
       "    </tr>\n",
       "  </tbody>\n",
       "</table>\n",
       "</div>"
      ],
      "text/plain": [
       "         INCA ID prenom_port nom_port           organisme_port  \\\n",
       "count       1820        1820     1820                     1820   \n",
       "unique      1001         418      969                      506   \n",
       "top     inca_502    Philippe     FEIL  Institut Gustave Roussy   \n",
       "freq          12          45       12                      110   \n",
       "mean         NaN         NaN      NaN                      NaN   \n",
       "std          NaN         NaN      NaN                      NaN   \n",
       "min          NaN         NaN      NaN                      NaN   \n",
       "25%          NaN         NaN      NaN                      NaN   \n",
       "50%          NaN         NaN      NaN                      NaN   \n",
       "75%          NaN         NaN      NaN                      NaN   \n",
       "max          NaN         NaN      NaN                      NaN   \n",
       "\n",
       "       Dimensions Grant ID                                              Title  \\\n",
       "count                 1820                                               1820   \n",
       "unique                1627                                               1546   \n",
       "top          grant.7155004  Identification, characterization and clinical ...   \n",
       "freq                     3                                                  4   \n",
       "mean                   NaN                                                NaN   \n",
       "std                    NaN                                                NaN   \n",
       "min                    NaN                                                NaN   \n",
       "25%                    NaN                                                NaN   \n",
       "50%                    NaN                                                NaN   \n",
       "75%                    NaN                                                NaN   \n",
       "max                    NaN                                                NaN   \n",
       "\n",
       "                                                 Abstract  \\\n",
       "count                                                1778   \n",
       "unique                                               1491   \n",
       "top     Scientific context: The initiation and progres...   \n",
       "freq                                                    4   \n",
       "mean                                                  NaN   \n",
       "std                                                   NaN   \n",
       "min                                                   NaN   \n",
       "25%                                                   NaN   \n",
       "50%                                                   NaN   \n",
       "75%                                                   NaN   \n",
       "max                                                   NaN   \n",
       "\n",
       "                                  Funder       Reference  \\\n",
       "count                               1820            1820   \n",
       "unique                                39            1550   \n",
       "top     French National Cancer Institute  INCa_DGOS_5694   \n",
       "freq                                 848               4   \n",
       "mean                                 NaN             NaN   \n",
       "std                                  NaN             NaN   \n",
       "min                                  NaN             NaN   \n",
       "25%                                  NaN             NaN   \n",
       "50%                                  NaN             NaN   \n",
       "75%                                  NaN             NaN   \n",
       "max                                  NaN             NaN   \n",
       "\n",
       "             Research Org Names Research Org IDs  \\\n",
       "count                      1734             1734   \n",
       "unique                      543              543   \n",
       "top     Institut Gustave Roussy    grid.14925.3b   \n",
       "freq                        124              124   \n",
       "mean                        NaN              NaN   \n",
       "std                         NaN              NaN   \n",
       "min                         NaN              NaN   \n",
       "25%                         NaN              NaN   \n",
       "50%                         NaN              NaN   \n",
       "75%                         NaN              NaN   \n",
       "max                         NaN              NaN   \n",
       "\n",
       "                                     FOR    RCDC  Funding Amount ($)  \\\n",
       "count                               1773    1730        1.786000e+03   \n",
       "unique                               160    1054                 NaN   \n",
       "top     1112 Oncology and Carcinogenesis  Cancer                 NaN   \n",
       "freq                                 470      49                 NaN   \n",
       "mean                                 NaN     NaN        5.312396e+05   \n",
       "std                                  NaN     NaN        9.592135e+05   \n",
       "min                                  NaN     NaN        0.000000e+00   \n",
       "25%                                  NaN     NaN        1.774130e+05   \n",
       "50%                                  NaN     NaN        3.869350e+05   \n",
       "75%                                  NaN     NaN        6.154865e+05   \n",
       "max                                  NaN     NaN        1.406214e+07   \n",
       "\n",
       "        Start Date    End Date  \n",
       "count         1782        1764  \n",
       "unique         382         494  \n",
       "top     2007-02-02  2010-02-02  \n",
       "freq            99          87  \n",
       "mean           NaN         NaN  \n",
       "std            NaN         NaN  \n",
       "min            NaN         NaN  \n",
       "25%            NaN         NaN  \n",
       "50%            NaN         NaN  \n",
       "75%            NaN         NaN  \n",
       "max            NaN         NaN  "
      ]
     },
     "execution_count": 5,
     "metadata": {},
     "output_type": "execute_result"
    }
   ],
   "source": [
    "grnt_dtl.describe(include = 'all')"
   ]
  },
  {
   "cell_type": "code",
   "execution_count": 6,
   "metadata": {
    "scrolled": false
   },
   "outputs": [
    {
     "data": {
      "text/html": [
       "<div>\n",
       "<style scoped>\n",
       "    .dataframe tbody tr th:only-of-type {\n",
       "        vertical-align: middle;\n",
       "    }\n",
       "\n",
       "    .dataframe tbody tr th {\n",
       "        vertical-align: top;\n",
       "    }\n",
       "\n",
       "    .dataframe thead th {\n",
       "        text-align: right;\n",
       "    }\n",
       "</style>\n",
       "<table border=\"1\" class=\"dataframe\">\n",
       "  <thead>\n",
       "    <tr style=\"text-align: right;\">\n",
       "      <th></th>\n",
       "      <th>INCA ID</th>\n",
       "      <th>prenom_port</th>\n",
       "      <th>nom_port</th>\n",
       "      <th>organisme_port</th>\n",
       "      <th>Dimensions Researcher ID</th>\n",
       "      <th>Additional Researcher DIM ID to combine</th>\n",
       "      <th>Additional Researcher DIM ID to combine 2</th>\n",
       "      <th>ORCID</th>\n",
       "      <th>title</th>\n",
       "      <th>Dimensions Publication ID</th>\n",
       "      <th>doi</th>\n",
       "      <th>issue</th>\n",
       "      <th>pages</th>\n",
       "      <th>Pubmed ID</th>\n",
       "      <th>volume</th>\n",
       "      <th>Relative Citation Ratio</th>\n",
       "      <th>Times Cited</th>\n",
       "      <th>altmetric</th>\n",
       "      <th>Open access</th>\n",
       "      <th>Author Names</th>\n",
       "      <th>Research Org Names</th>\n",
       "      <th>Research Org IDs</th>\n",
       "      <th>FOR</th>\n",
       "      <th>RCDC</th>\n",
       "      <th>Journal ID</th>\n",
       "      <th>Journal Title</th>\n",
       "      <th>Publication Year</th>\n",
       "      <th>Publication Date</th>\n",
       "    </tr>\n",
       "  </thead>\n",
       "  <tbody>\n",
       "    <tr>\n",
       "      <th>count</th>\n",
       "      <td>145121</td>\n",
       "      <td>145121</td>\n",
       "      <td>145121</td>\n",
       "      <td>145121</td>\n",
       "      <td>145121</td>\n",
       "      <td>29643</td>\n",
       "      <td>2763</td>\n",
       "      <td>32080</td>\n",
       "      <td>145121</td>\n",
       "      <td>145121</td>\n",
       "      <td>131335</td>\n",
       "      <td>127929</td>\n",
       "      <td>142897</td>\n",
       "      <td>1.053860e+05</td>\n",
       "      <td>140591</td>\n",
       "      <td>97820.000000</td>\n",
       "      <td>145121.000000</td>\n",
       "      <td>31666.000000</td>\n",
       "      <td>43809</td>\n",
       "      <td>145121</td>\n",
       "      <td>104194</td>\n",
       "      <td>104194</td>\n",
       "      <td>97697</td>\n",
       "      <td>88764</td>\n",
       "      <td>140096</td>\n",
       "      <td>140096</td>\n",
       "      <td>145109.000000</td>\n",
       "      <td>0.0</td>\n",
       "    </tr>\n",
       "    <tr>\n",
       "      <th>unique</th>\n",
       "      <td>965</td>\n",
       "      <td>398</td>\n",
       "      <td>934</td>\n",
       "      <td>483</td>\n",
       "      <td>965</td>\n",
       "      <td>95</td>\n",
       "      <td>9</td>\n",
       "      <td>198</td>\n",
       "      <td>107243</td>\n",
       "      <td>109001</td>\n",
       "      <td>97583</td>\n",
       "      <td>1607</td>\n",
       "      <td>53204</td>\n",
       "      <td>NaN</td>\n",
       "      <td>1591</td>\n",
       "      <td>NaN</td>\n",
       "      <td>NaN</td>\n",
       "      <td>NaN</td>\n",
       "      <td>1</td>\n",
       "      <td>102384</td>\n",
       "      <td>36032</td>\n",
       "      <td>36044</td>\n",
       "      <td>826</td>\n",
       "      <td>30275</td>\n",
       "      <td>4565</td>\n",
       "      <td>4558</td>\n",
       "      <td>NaN</td>\n",
       "      <td>NaN</td>\n",
       "    </tr>\n",
       "    <tr>\n",
       "      <th>top</th>\n",
       "      <td>inca_542</td>\n",
       "      <td>Philippe</td>\n",
       "      <td>FRANCESCHI</td>\n",
       "      <td>Institut Gustave Roussy</td>\n",
       "      <td>ur.01074225776.01</td>\n",
       "      <td>ur.01204666360.03</td>\n",
       "      <td>ur.010226620247.19</td>\n",
       "      <td>0000-0003-4181-8071</td>\n",
       "      <td>Reply</td>\n",
       "      <td>pub.1046732593</td>\n",
       "      <td>10.3324/haematol.2013.085068</td>\n",
       "      <td>1</td>\n",
       "      <td>1-9</td>\n",
       "      <td>NaN</td>\n",
       "      <td>28</td>\n",
       "      <td>NaN</td>\n",
       "      <td>NaN</td>\n",
       "      <td>NaN</td>\n",
       "      <td>True</td>\n",
       "      <td>Jeffrey W. Pollard, Alla Danilkovitch-Miagkova...</td>\n",
       "      <td>Institut Gustave Roussy</td>\n",
       "      <td>grid.14925.3b</td>\n",
       "      <td>1112 Oncology and Carcinogenesis</td>\n",
       "      <td>Cancer</td>\n",
       "      <td>jour.1312191</td>\n",
       "      <td>Journal of Clinical Oncology</td>\n",
       "      <td>NaN</td>\n",
       "      <td>NaN</td>\n",
       "    </tr>\n",
       "    <tr>\n",
       "      <th>freq</th>\n",
       "      <td>1272</td>\n",
       "      <td>4892</td>\n",
       "      <td>1272</td>\n",
       "      <td>9567</td>\n",
       "      <td>1272</td>\n",
       "      <td>1272</td>\n",
       "      <td>488</td>\n",
       "      <td>1272</td>\n",
       "      <td>37</td>\n",
       "      <td>10</td>\n",
       "      <td>10</td>\n",
       "      <td>16673</td>\n",
       "      <td>322</td>\n",
       "      <td>NaN</td>\n",
       "      <td>2505</td>\n",
       "      <td>NaN</td>\n",
       "      <td>NaN</td>\n",
       "      <td>NaN</td>\n",
       "      <td>43809</td>\n",
       "      <td>538</td>\n",
       "      <td>4352</td>\n",
       "      <td>4352</td>\n",
       "      <td>24728</td>\n",
       "      <td>3197</td>\n",
       "      <td>4577</td>\n",
       "      <td>4577</td>\n",
       "      <td>NaN</td>\n",
       "      <td>NaN</td>\n",
       "    </tr>\n",
       "    <tr>\n",
       "      <th>mean</th>\n",
       "      <td>NaN</td>\n",
       "      <td>NaN</td>\n",
       "      <td>NaN</td>\n",
       "      <td>NaN</td>\n",
       "      <td>NaN</td>\n",
       "      <td>NaN</td>\n",
       "      <td>NaN</td>\n",
       "      <td>NaN</td>\n",
       "      <td>NaN</td>\n",
       "      <td>NaN</td>\n",
       "      <td>NaN</td>\n",
       "      <td>NaN</td>\n",
       "      <td>NaN</td>\n",
       "      <td>1.770133e+07</td>\n",
       "      <td>NaN</td>\n",
       "      <td>1.569830</td>\n",
       "      <td>29.756348</td>\n",
       "      <td>8.959736</td>\n",
       "      <td>NaN</td>\n",
       "      <td>NaN</td>\n",
       "      <td>NaN</td>\n",
       "      <td>NaN</td>\n",
       "      <td>NaN</td>\n",
       "      <td>NaN</td>\n",
       "      <td>NaN</td>\n",
       "      <td>NaN</td>\n",
       "      <td>2006.900737</td>\n",
       "      <td>NaN</td>\n",
       "    </tr>\n",
       "    <tr>\n",
       "      <th>std</th>\n",
       "      <td>NaN</td>\n",
       "      <td>NaN</td>\n",
       "      <td>NaN</td>\n",
       "      <td>NaN</td>\n",
       "      <td>NaN</td>\n",
       "      <td>NaN</td>\n",
       "      <td>NaN</td>\n",
       "      <td>NaN</td>\n",
       "      <td>NaN</td>\n",
       "      <td>NaN</td>\n",
       "      <td>NaN</td>\n",
       "      <td>NaN</td>\n",
       "      <td>NaN</td>\n",
       "      <td>7.572868e+06</td>\n",
       "      <td>NaN</td>\n",
       "      <td>3.939371</td>\n",
       "      <td>97.346231</td>\n",
       "      <td>47.376261</td>\n",
       "      <td>NaN</td>\n",
       "      <td>NaN</td>\n",
       "      <td>NaN</td>\n",
       "      <td>NaN</td>\n",
       "      <td>NaN</td>\n",
       "      <td>NaN</td>\n",
       "      <td>NaN</td>\n",
       "      <td>NaN</td>\n",
       "      <td>8.572783</td>\n",
       "      <td>NaN</td>\n",
       "    </tr>\n",
       "    <tr>\n",
       "      <th>min</th>\n",
       "      <td>NaN</td>\n",
       "      <td>NaN</td>\n",
       "      <td>NaN</td>\n",
       "      <td>NaN</td>\n",
       "      <td>NaN</td>\n",
       "      <td>NaN</td>\n",
       "      <td>NaN</td>\n",
       "      <td>NaN</td>\n",
       "      <td>NaN</td>\n",
       "      <td>NaN</td>\n",
       "      <td>NaN</td>\n",
       "      <td>NaN</td>\n",
       "      <td>NaN</td>\n",
       "      <td>7.239000e+03</td>\n",
       "      <td>NaN</td>\n",
       "      <td>0.000000</td>\n",
       "      <td>0.000000</td>\n",
       "      <td>0.000000</td>\n",
       "      <td>NaN</td>\n",
       "      <td>NaN</td>\n",
       "      <td>NaN</td>\n",
       "      <td>NaN</td>\n",
       "      <td>NaN</td>\n",
       "      <td>NaN</td>\n",
       "      <td>NaN</td>\n",
       "      <td>NaN</td>\n",
       "      <td>1949.000000</td>\n",
       "      <td>NaN</td>\n",
       "    </tr>\n",
       "    <tr>\n",
       "      <th>25%</th>\n",
       "      <td>NaN</td>\n",
       "      <td>NaN</td>\n",
       "      <td>NaN</td>\n",
       "      <td>NaN</td>\n",
       "      <td>NaN</td>\n",
       "      <td>NaN</td>\n",
       "      <td>NaN</td>\n",
       "      <td>NaN</td>\n",
       "      <td>NaN</td>\n",
       "      <td>NaN</td>\n",
       "      <td>NaN</td>\n",
       "      <td>NaN</td>\n",
       "      <td>NaN</td>\n",
       "      <td>1.128256e+07</td>\n",
       "      <td>NaN</td>\n",
       "      <td>0.230000</td>\n",
       "      <td>0.000000</td>\n",
       "      <td>1.000000</td>\n",
       "      <td>NaN</td>\n",
       "      <td>NaN</td>\n",
       "      <td>NaN</td>\n",
       "      <td>NaN</td>\n",
       "      <td>NaN</td>\n",
       "      <td>NaN</td>\n",
       "      <td>NaN</td>\n",
       "      <td>NaN</td>\n",
       "      <td>2002.000000</td>\n",
       "      <td>NaN</td>\n",
       "    </tr>\n",
       "    <tr>\n",
       "      <th>50%</th>\n",
       "      <td>NaN</td>\n",
       "      <td>NaN</td>\n",
       "      <td>NaN</td>\n",
       "      <td>NaN</td>\n",
       "      <td>NaN</td>\n",
       "      <td>NaN</td>\n",
       "      <td>NaN</td>\n",
       "      <td>NaN</td>\n",
       "      <td>NaN</td>\n",
       "      <td>NaN</td>\n",
       "      <td>NaN</td>\n",
       "      <td>NaN</td>\n",
       "      <td>NaN</td>\n",
       "      <td>1.868756e+07</td>\n",
       "      <td>NaN</td>\n",
       "      <td>0.720000</td>\n",
       "      <td>6.000000</td>\n",
       "      <td>3.000000</td>\n",
       "      <td>NaN</td>\n",
       "      <td>NaN</td>\n",
       "      <td>NaN</td>\n",
       "      <td>NaN</td>\n",
       "      <td>NaN</td>\n",
       "      <td>NaN</td>\n",
       "      <td>NaN</td>\n",
       "      <td>NaN</td>\n",
       "      <td>2009.000000</td>\n",
       "      <td>NaN</td>\n",
       "    </tr>\n",
       "    <tr>\n",
       "      <th>75%</th>\n",
       "      <td>NaN</td>\n",
       "      <td>NaN</td>\n",
       "      <td>NaN</td>\n",
       "      <td>NaN</td>\n",
       "      <td>NaN</td>\n",
       "      <td>NaN</td>\n",
       "      <td>NaN</td>\n",
       "      <td>NaN</td>\n",
       "      <td>NaN</td>\n",
       "      <td>NaN</td>\n",
       "      <td>NaN</td>\n",
       "      <td>NaN</td>\n",
       "      <td>NaN</td>\n",
       "      <td>2.402514e+07</td>\n",
       "      <td>NaN</td>\n",
       "      <td>1.690000</td>\n",
       "      <td>27.000000</td>\n",
       "      <td>5.000000</td>\n",
       "      <td>NaN</td>\n",
       "      <td>NaN</td>\n",
       "      <td>NaN</td>\n",
       "      <td>NaN</td>\n",
       "      <td>NaN</td>\n",
       "      <td>NaN</td>\n",
       "      <td>NaN</td>\n",
       "      <td>NaN</td>\n",
       "      <td>2014.000000</td>\n",
       "      <td>NaN</td>\n",
       "    </tr>\n",
       "    <tr>\n",
       "      <th>max</th>\n",
       "      <td>NaN</td>\n",
       "      <td>NaN</td>\n",
       "      <td>NaN</td>\n",
       "      <td>NaN</td>\n",
       "      <td>NaN</td>\n",
       "      <td>NaN</td>\n",
       "      <td>NaN</td>\n",
       "      <td>NaN</td>\n",
       "      <td>NaN</td>\n",
       "      <td>NaN</td>\n",
       "      <td>NaN</td>\n",
       "      <td>NaN</td>\n",
       "      <td>NaN</td>\n",
       "      <td>2.958951e+07</td>\n",
       "      <td>NaN</td>\n",
       "      <td>249.310000</td>\n",
       "      <td>5458.000000</td>\n",
       "      <td>2120.000000</td>\n",
       "      <td>NaN</td>\n",
       "      <td>NaN</td>\n",
       "      <td>NaN</td>\n",
       "      <td>NaN</td>\n",
       "      <td>NaN</td>\n",
       "      <td>NaN</td>\n",
       "      <td>NaN</td>\n",
       "      <td>NaN</td>\n",
       "      <td>2018.000000</td>\n",
       "      <td>NaN</td>\n",
       "    </tr>\n",
       "  </tbody>\n",
       "</table>\n",
       "</div>"
      ],
      "text/plain": [
       "         INCA ID prenom_port    nom_port           organisme_port  \\\n",
       "count     145121      145121      145121                   145121   \n",
       "unique       965         398         934                      483   \n",
       "top     inca_542    Philippe  FRANCESCHI  Institut Gustave Roussy   \n",
       "freq        1272        4892        1272                     9567   \n",
       "mean         NaN         NaN         NaN                      NaN   \n",
       "std          NaN         NaN         NaN                      NaN   \n",
       "min          NaN         NaN         NaN                      NaN   \n",
       "25%          NaN         NaN         NaN                      NaN   \n",
       "50%          NaN         NaN         NaN                      NaN   \n",
       "75%          NaN         NaN         NaN                      NaN   \n",
       "max          NaN         NaN         NaN                      NaN   \n",
       "\n",
       "       Dimensions Researcher ID Additional Researcher DIM ID to combine  \\\n",
       "count                    145121                                   29643   \n",
       "unique                      965                                      95   \n",
       "top           ur.01074225776.01                       ur.01204666360.03   \n",
       "freq                       1272                                    1272   \n",
       "mean                        NaN                                     NaN   \n",
       "std                         NaN                                     NaN   \n",
       "min                         NaN                                     NaN   \n",
       "25%                         NaN                                     NaN   \n",
       "50%                         NaN                                     NaN   \n",
       "75%                         NaN                                     NaN   \n",
       "max                         NaN                                     NaN   \n",
       "\n",
       "       Additional Researcher DIM ID to combine 2                ORCID   title  \\\n",
       "count                                       2763                32080  145121   \n",
       "unique                                         9                  198  107243   \n",
       "top                           ur.010226620247.19  0000-0003-4181-8071   Reply   \n",
       "freq                                         488                 1272      37   \n",
       "mean                                         NaN                  NaN     NaN   \n",
       "std                                          NaN                  NaN     NaN   \n",
       "min                                          NaN                  NaN     NaN   \n",
       "25%                                          NaN                  NaN     NaN   \n",
       "50%                                          NaN                  NaN     NaN   \n",
       "75%                                          NaN                  NaN     NaN   \n",
       "max                                          NaN                  NaN     NaN   \n",
       "\n",
       "       Dimensions Publication ID                           doi   issue  \\\n",
       "count                     145121                        131335  127929   \n",
       "unique                    109001                         97583    1607   \n",
       "top               pub.1046732593  10.3324/haematol.2013.085068       1   \n",
       "freq                          10                            10   16673   \n",
       "mean                         NaN                           NaN     NaN   \n",
       "std                          NaN                           NaN     NaN   \n",
       "min                          NaN                           NaN     NaN   \n",
       "25%                          NaN                           NaN     NaN   \n",
       "50%                          NaN                           NaN     NaN   \n",
       "75%                          NaN                           NaN     NaN   \n",
       "max                          NaN                           NaN     NaN   \n",
       "\n",
       "         pages     Pubmed ID  volume  Relative Citation Ratio    Times Cited  \\\n",
       "count   142897  1.053860e+05  140591             97820.000000  145121.000000   \n",
       "unique   53204           NaN    1591                      NaN            NaN   \n",
       "top        1-9           NaN      28                      NaN            NaN   \n",
       "freq       322           NaN    2505                      NaN            NaN   \n",
       "mean       NaN  1.770133e+07     NaN                 1.569830      29.756348   \n",
       "std        NaN  7.572868e+06     NaN                 3.939371      97.346231   \n",
       "min        NaN  7.239000e+03     NaN                 0.000000       0.000000   \n",
       "25%        NaN  1.128256e+07     NaN                 0.230000       0.000000   \n",
       "50%        NaN  1.868756e+07     NaN                 0.720000       6.000000   \n",
       "75%        NaN  2.402514e+07     NaN                 1.690000      27.000000   \n",
       "max        NaN  2.958951e+07     NaN               249.310000    5458.000000   \n",
       "\n",
       "           altmetric Open access  \\\n",
       "count   31666.000000       43809   \n",
       "unique           NaN           1   \n",
       "top              NaN        True   \n",
       "freq             NaN       43809   \n",
       "mean        8.959736         NaN   \n",
       "std        47.376261         NaN   \n",
       "min         0.000000         NaN   \n",
       "25%         1.000000         NaN   \n",
       "50%         3.000000         NaN   \n",
       "75%         5.000000         NaN   \n",
       "max      2120.000000         NaN   \n",
       "\n",
       "                                             Author Names  \\\n",
       "count                                              145121   \n",
       "unique                                             102384   \n",
       "top     Jeffrey W. Pollard, Alla Danilkovitch-Miagkova...   \n",
       "freq                                                  538   \n",
       "mean                                                  NaN   \n",
       "std                                                   NaN   \n",
       "min                                                   NaN   \n",
       "25%                                                   NaN   \n",
       "50%                                                   NaN   \n",
       "75%                                                   NaN   \n",
       "max                                                   NaN   \n",
       "\n",
       "             Research Org Names Research Org IDs  \\\n",
       "count                    104194           104194   \n",
       "unique                    36032            36044   \n",
       "top     Institut Gustave Roussy    grid.14925.3b   \n",
       "freq                       4352             4352   \n",
       "mean                        NaN              NaN   \n",
       "std                         NaN              NaN   \n",
       "min                         NaN              NaN   \n",
       "25%                         NaN              NaN   \n",
       "50%                         NaN              NaN   \n",
       "75%                         NaN              NaN   \n",
       "max                         NaN              NaN   \n",
       "\n",
       "                                     FOR    RCDC    Journal ID  \\\n",
       "count                              97697   88764        140096   \n",
       "unique                               826   30275          4565   \n",
       "top     1112 Oncology and Carcinogenesis  Cancer  jour.1312191   \n",
       "freq                               24728    3197          4577   \n",
       "mean                                 NaN     NaN           NaN   \n",
       "std                                  NaN     NaN           NaN   \n",
       "min                                  NaN     NaN           NaN   \n",
       "25%                                  NaN     NaN           NaN   \n",
       "50%                                  NaN     NaN           NaN   \n",
       "75%                                  NaN     NaN           NaN   \n",
       "max                                  NaN     NaN           NaN   \n",
       "\n",
       "                       Journal Title  Publication Year  Publication Date  \n",
       "count                         140096     145109.000000               0.0  \n",
       "unique                          4558               NaN               NaN  \n",
       "top     Journal of Clinical Oncology               NaN               NaN  \n",
       "freq                            4577               NaN               NaN  \n",
       "mean                             NaN       2006.900737               NaN  \n",
       "std                              NaN          8.572783               NaN  \n",
       "min                              NaN       1949.000000               NaN  \n",
       "25%                              NaN       2002.000000               NaN  \n",
       "50%                              NaN       2009.000000               NaN  \n",
       "75%                              NaN       2014.000000               NaN  \n",
       "max                              NaN       2018.000000               NaN  "
      ]
     },
     "execution_count": 6,
     "metadata": {},
     "output_type": "execute_result"
    }
   ],
   "source": [
    "pub_dtl.describe(include = 'all')"
   ]
  },
  {
   "cell_type": "markdown",
   "metadata": {},
   "source": [
    "## Comparison Original Data – Dimensions Data"
   ]
  },
  {
   "cell_type": "markdown",
   "metadata": {},
   "source": [
    "### Grants"
   ]
  },
  {
   "cell_type": "code",
   "execution_count": 7,
   "metadata": {},
   "outputs": [],
   "source": [
    "# List of awards\n",
    "actors_awards = list(actors['awardcode'].drop_duplicates())\n",
    "budget_awards = list(budget['Awardcode'].drop_duplicates())\n",
    "projects_awards = list(projects['AwardCode'].drop_duplicates())\n",
    "\n",
    "awards_o = actors_awards\n",
    "awards_o.extend(budget_awards)\n",
    "awards_o.extend(projects_awards)\n",
    "awards_o = set(awards_o)"
   ]
  },
  {
   "cell_type": "code",
   "execution_count": 8,
   "metadata": {},
   "outputs": [],
   "source": [
    "awards_d = list(grnt_dtl['Reference'].drop_duplicates())"
   ]
  },
  {
   "cell_type": "code",
   "execution_count": 9,
   "metadata": {},
   "outputs": [
    {
     "name": "stdout",
     "output_type": "stream",
     "text": [
      "There are 1290 awards in the original data.\n",
      "There are 1550 awards in the Dimenions data.\n"
     ]
    }
   ],
   "source": [
    "print(\"There are {} awards in the original data.\".format(len(awards_o)))\n",
    "print(\"There are {} awards in the Dimenions data.\".format(len(awards_d)))"
   ]
  },
  {
   "cell_type": "code",
   "execution_count": 10,
   "metadata": {},
   "outputs": [
    {
     "name": "stdout",
     "output_type": "stream",
     "text": [
      "1269 original awards are in the Dimensions data (98%).\n"
     ]
    }
   ],
   "source": [
    "in_d = [award in awards_d for award in awards_o]\n",
    "print(\"{} original awards are in the Dimensions data ({}%).\".format(sum(in_d), int(100*sum(in_d)/len(in_d))))"
   ]
  },
  {
   "cell_type": "code",
   "execution_count": 11,
   "metadata": {},
   "outputs": [
    {
     "name": "stdout",
     "output_type": "stream",
     "text": [
      "The 21 original awards not in the Dimensions data are:\n",
      " - DGOS_0489\n",
      " - DGOS_5604\n",
      " - INCa_2316\n",
      " - INCa_2960\n",
      " - INCa_5976\n",
      " - DGOS_3921\n",
      " - INCa_2828\n",
      " - INCa_1645\n",
      " - INCa_0516\n",
      " - INCa_6165\n",
      " - INCa_5348\n",
      " - INCa_1508\n",
      " - INCa_2700\n",
      " - Inserm_5210\n",
      " - INCa_2354\n",
      " - INCa_4454\n",
      " - Inserm_5214\n",
      " - INCa_6306\n",
      " - INCa_6307\n",
      " - INCa_4393\n",
      " - INCa_5353\n"
     ]
    }
   ],
   "source": [
    "print(\"The {} original awards not in the Dimensions data are:\".format(len(awards_o)-sum(in_d)))\n",
    "for award in awards_o:\n",
    "    if award not in awards_d:\n",
    "        print(\" - {}\".format(award))"
   ]
  },
  {
   "cell_type": "code",
   "execution_count": 12,
   "metadata": {
    "scrolled": true
   },
   "outputs": [
    {
     "name": "stdout",
     "output_type": "stream",
     "text": [
      "There are 281 additional awards in the Dimensions data.\n"
     ]
    }
   ],
   "source": [
    "in_o = [award not in awards_o for award in awards_d]\n",
    "print(\"There are {} additional awards in the Dimensions data.\".format(sum(in_o)))"
   ]
  },
  {
   "cell_type": "markdown",
   "metadata": {},
   "source": [
    "### Researchers"
   ]
  },
  {
   "cell_type": "code",
   "execution_count": 13,
   "metadata": {},
   "outputs": [
    {
     "name": "stdout",
     "output_type": "stream",
     "text": [
      "There are 1008 unique primary researchers in the original data.\n"
     ]
    }
   ],
   "source": [
    "researchers_o = actors[['prenom_port', 'nom_port']].drop_duplicates().reset_index(drop = True)\n",
    "researchers_o = researchers_o[(researchers_o['prenom_port'].notnull())&(researchers_o['nom_port'].notnull())]\n",
    "researchers_o['source'] = \"0\"\n",
    "print(\"There are {} unique primary researchers in the original data.\".format(researchers_o.shape[0]))"
   ]
  },
  {
   "cell_type": "code",
   "execution_count": 14,
   "metadata": {},
   "outputs": [
    {
     "name": "stdout",
     "output_type": "stream",
     "text": [
      "There are 1336 unique researchers in the original data when accounting for the aut researchers.\n"
     ]
    }
   ],
   "source": [
    "for i in range(1, 5):\n",
    "    temp = actors[['prenom_aut_port{}'.format(i), 'nom_aut_port{}'.format(i)]].drop_duplicates()\n",
    "    temp = temp.rename(index=str, columns={'prenom_aut_port{}'.format(i): \"prenom_port\"\n",
    "                                           , 'nom_aut_port{}'.format(i): \"nom_port\"})\n",
    "    temp = temp[(temp['prenom_port'].notnull())&(temp['nom_port'].notnull())]\n",
    "    temp['source'] = \"{}\".format(i)\n",
    "    researchers_o = pd.concat([researchers_o, temp])\n",
    "    researchers_o = researchers_o.drop_duplicates(['prenom_port', 'nom_port']).reset_index(drop = True)\n",
    "r = researchers_o.shape[0]\n",
    "print(\"There are {} unique researchers in the original data when accounting for the aut researchers.\".format(r))"
   ]
  },
  {
   "cell_type": "code",
   "execution_count": 15,
   "metadata": {},
   "outputs": [
    {
     "name": "stdout",
     "output_type": "stream",
     "text": [
      "There are 1000 unique researchers in the Dimensions data.\n"
     ]
    }
   ],
   "source": [
    "researchers_d = grnt_dtl[['prenom_port', 'nom_port']].drop_duplicates()\n",
    "researchers_d['source'] = 'dimensions'\n",
    "r = researchers_d.shape[0]\n",
    "print(\"There are {} unique researchers in the Dimensions data.\".format(r))"
   ]
  },
  {
   "cell_type": "code",
   "execution_count": 16,
   "metadata": {},
   "outputs": [],
   "source": [
    "irreg_rsrs = pd.concat([researchers_o, researchers_d]).drop_duplicates(['prenom_port', 'nom_port'], keep=False)\n",
    "irreg_rsrs = irreg_rsrs.reset_index(drop = True)"
   ]
  },
  {
   "cell_type": "code",
   "execution_count": 17,
   "metadata": {},
   "outputs": [
    {
     "name": "stdout",
     "output_type": "stream",
     "text": [
      "0 researchers (0%) are in Dimensions data but not original data.\n"
     ]
    }
   ],
   "source": [
    "r = irreg_rsrs[irreg_rsrs['source'] == 'dimensions'].shape[0]\n",
    "rp = 100*irreg_rsrs[irreg_rsrs['source'] == 'dimensions'].shape[0]/researchers_d.shape[0]\n",
    "print(\"{} researchers ({}%) are in Dimensions data but not original data.\".format(r, int(round(rp))))"
   ]
  },
  {
   "cell_type": "code",
   "execution_count": 18,
   "metadata": {
    "scrolled": true
   },
   "outputs": [
    {
     "name": "stdout",
     "output_type": "stream",
     "text": [
      "336 researchers (25%) are in original data but not Dimensions data.\n"
     ]
    }
   ],
   "source": [
    "r = irreg_rsrs[irreg_rsrs['source'] != 'dimensions'].shape[0]\n",
    "rp = 100*irreg_rsrs[irreg_rsrs['source'] != 'dimensions'].shape[0]/researchers_o.shape[0]\n",
    "print(\"{} researchers ({}%) are in original data but not Dimensions data.\".format(r, int(round(rp))))"
   ]
  },
  {
   "cell_type": "code",
   "execution_count": 19,
   "metadata": {
    "scrolled": true
   },
   "outputs": [
    {
     "name": "stdout",
     "output_type": "stream",
     "text": [
      "Of these:\n",
      " - 8 primary researchers (1%) are in original data but not the Dimensions data.\n",
      " - 240 aut1 researchers (100%) are in original data but not Dimensions data.\n",
      " - 66 aut2 researchers (100%) are in original data but not Dimensions data.\n",
      " - 16 aut3 researchers (100%) are in original data but not Dimensions data.\n",
      " - 6 aut4 researchers (100%) are in original data but not Dimensions data.\n"
     ]
    }
   ],
   "source": [
    "print(\"Of these:\")\n",
    "r = irreg_rsrs[irreg_rsrs['source']=='0'].shape[0]\n",
    "rp = 100*irreg_rsrs[irreg_rsrs['source']=='0'].shape[0]/researchers_o[researchers_o['source']=='0'].shape[0]\n",
    "print(\" - {} primary researchers ({}%) are in original data but not the Dimensions data.\".format(r, int(round(rp))))\n",
    "for i in range(1, 5):\n",
    "    r = irreg_rsrs[irreg_rsrs['source']==str(i)].shape[0]\n",
    "    rp = 100*irreg_rsrs[irreg_rsrs['source']==str(i)].shape[0]/researchers_o[researchers_o['source']==str(i)].shape[0]\n",
    "    print(\" - {} aut{} researchers ({}%) are in original data but not Dimensions data.\".format(r, i, int(round(rp))))"
   ]
  },
  {
   "cell_type": "markdown",
   "metadata": {},
   "source": [
    "## Funder Name"
   ]
  },
  {
   "cell_type": "code",
   "execution_count": 20,
   "metadata": {},
   "outputs": [],
   "source": [
    "grnt_dtl['funder_clean'] = grnt_dtl['Funder'].fillna('')"
   ]
  },
  {
   "cell_type": "code",
   "execution_count": 21,
   "metadata": {},
   "outputs": [
    {
     "name": "stdout",
     "output_type": "stream",
     "text": [
      "100% of the grants have a Funder.\n",
      "There are 39 different Funder Names\n",
      "Here are the most frequent:\n"
     ]
    },
    {
     "data": {
      "text/plain": [
       "French National Cancer Institute                   848\n",
       "Ministère des Affaires sociales et de la Santé     523\n",
       "French Institute of Health and Medical Research    162\n",
       "French National Research Agency                    122\n",
       "Swiss National Science Foundation                   42\n",
       "Name: funder_clean, dtype: int64"
      ]
     },
     "execution_count": 21,
     "metadata": {},
     "output_type": "execute_result"
    }
   ],
   "source": [
    "grnt_dtl['funder_flag'] = grnt_dtl['funder_clean'].apply(lambda x: x!='')\n",
    "print(\"{}% of the grants have a Funder.\".format(int(grnt_dtl['funder_flag'].value_counts(normalize=True)[True]*100)))\n",
    "print(\"There are {} different Funder Names\".format(len(grnt_dtl['funder_clean'].value_counts())))\n",
    "print(\"Here are the most frequent:\")\n",
    "grnt_dtl['funder_clean'].value_counts().head()"
   ]
  },
  {
   "cell_type": "markdown",
   "metadata": {},
   "source": [
    "### INCA vs. Non-INCA"
   ]
  },
  {
   "cell_type": "code",
   "execution_count": 22,
   "metadata": {},
   "outputs": [
    {
     "name": "stdout",
     "output_type": "stream",
     "text": [
      "45% of the grants are INCA-funded.\n"
     ]
    }
   ],
   "source": [
    "grnt_dtl['inca_flag'] = (grnt_dtl['funder_clean']==\"French National Cancer Institute\")\n",
    "grants = grnt_dtl.groupby('Dimensions Grant ID')['inca_flag'].sum().reset_index()\n",
    "grants['inca_flag_any'] = (grants['inca_flag']>0)\n",
    "print(\"{}% of the grants are INCA-funded.\".format(int(grants['inca_flag_any'].value_counts(normalize=True)[True]*100)))"
   ]
  },
  {
   "cell_type": "markdown",
   "metadata": {},
   "source": [
    "## Institution Names"
   ]
  },
  {
   "cell_type": "code",
   "execution_count": 23,
   "metadata": {},
   "outputs": [],
   "source": [
    "grnt_dtl['org_clean'] = grnt_dtl['Research Org Names'].fillna('')"
   ]
  },
  {
   "cell_type": "code",
   "execution_count": 24,
   "metadata": {},
   "outputs": [
    {
     "name": "stdout",
     "output_type": "stream",
     "text": [
      "95% of the grants have an Institution.\n",
      "There are 544 different Institution Names\n",
      "Here are the most frequent:\n"
     ]
    },
    {
     "data": {
      "text/plain": [
       "Institut Gustave Roussy                                     124\n",
       "Institute Curie                                              87\n",
       "French Institute of Health and Medical Research              63\n",
       "Centre Léon Bérard                                           51\n",
       "Institute Paoli-Calmettes                                    43\n",
       "Institute of Genetics and Molecular and Cellular Biology     31\n",
       "Hôpital Saint-Louis                                          30\n",
       "Institut Bergonié                                            24\n",
       "UniCancer Group                                              22\n",
       "Institut Claudius Regaud                                     18\n",
       "Name: org_clean, dtype: int64"
      ]
     },
     "execution_count": 24,
     "metadata": {},
     "output_type": "execute_result"
    }
   ],
   "source": [
    "grnt_dtl['org_flag'] = grnt_dtl['org_clean'].apply(lambda x: x!='')\n",
    "print(\"{}% of the grants have an Institution.\".format(int(grnt_dtl['org_flag'].value_counts(normalize=True)[True]*100)))\n",
    "print(\"There are {} different Institution Names\".format(len(grnt_dtl['org_clean'].value_counts())))\n",
    "print(\"Here are the most frequent:\")\n",
    "grnt_dtl[grnt_dtl['org_clean']!=\"\"]['org_clean'].value_counts().head(10)"
   ]
  },
  {
   "cell_type": "code",
   "execution_count": 25,
   "metadata": {},
   "outputs": [
    {
     "name": "stdout",
     "output_type": "stream",
     "text": [
      "Organisation names are clean for the most part:\n"
     ]
    },
    {
     "data": {
      "text/plain": [
       "Institute Paoli-Calmettes                                             43\n",
       "Hôpital René Huguenin;Institute Paoli-Calmettes;Centre Jean Perrin     1\n",
       "Institute Paoli-Calmettes;Hôpital Sainte-Marguerite                    1\n",
       "Centre Oscar Lambret;UniCancer Group;Institute Paoli-Calmettes         1\n",
       "Name: org_clean, dtype: int64"
      ]
     },
     "execution_count": 25,
     "metadata": {},
     "output_type": "execute_result"
    }
   ],
   "source": [
    "print(\"Organisation names are clean for the most part:\")\n",
    "string = \"Paoli\"\n",
    "grnt_dtl[grnt_dtl['org_clean'].str.contains(string)]['org_clean'].value_counts()"
   ]
  },
  {
   "cell_type": "markdown",
   "metadata": {},
   "source": [
    "## ORCID Number"
   ]
  },
  {
   "cell_type": "code",
   "execution_count": 26,
   "metadata": {},
   "outputs": [],
   "source": [
    "pub_dtl['orcid_flag'] = pub_dtl['ORCID'].notnull()"
   ]
  },
  {
   "cell_type": "code",
   "execution_count": 27,
   "metadata": {
    "scrolled": false
   },
   "outputs": [
    {
     "name": "stdout",
     "output_type": "stream",
     "text": [
      "22% of the grants have an ORCID.\n",
      "Here are the most frequent ORCIDs:\n"
     ]
    },
    {
     "data": {
      "text/plain": [
       "0000-0003-4181-8071    1272\n",
       "0000-0002-9334-4405    1114\n",
       "0000-0001-7190-120X     875\n",
       "0000-0003-2574-3874     776\n",
       "0000-0002-0400-1954     767\n",
       "Name: ORCID, dtype: int64"
      ]
     },
     "execution_count": 27,
     "metadata": {},
     "output_type": "execute_result"
    }
   ],
   "source": [
    "print(\"{}% of the grants have an ORCID.\".format(int(pub_dtl['orcid_flag'].value_counts(normalize = True)[True]*100)))\n",
    "print(\"Here are the most frequent ORCIDs:\")\n",
    "pub_dtl['ORCID'].value_counts().head()"
   ]
  },
  {
   "cell_type": "markdown",
   "metadata": {},
   "source": [
    "## Researcher Name"
   ]
  },
  {
   "cell_type": "markdown",
   "metadata": {},
   "source": [
    "### Number of Reserachers"
   ]
  },
  {
   "cell_type": "code",
   "execution_count": 28,
   "metadata": {},
   "outputs": [
    {
     "name": "stdout",
     "output_type": "stream",
     "text": [
      "There are 1000 unique researchers (defined by unique names).\n",
      "There are 1001 unique researchers (defined by unique INCA IDs).\n"
     ]
    }
   ],
   "source": [
    "grnt_dtl['researcher_name'] = grnt_dtl['prenom_port'] + \" \" + grnt_dtl['nom_port']\n",
    "researchers = set(grnt_dtl['researcher_name'])\n",
    "print(\"There are {} unique researchers (defined by unique names).\".format(len(researchers)))\n",
    "print(\"There are {} unique researchers (defined by unique INCA IDs).\".format(len(set(grnt_dtl['INCA ID']))))"
   ]
  },
  {
   "cell_type": "markdown",
   "metadata": {},
   "source": [
    "### Link between Researcher Name and INCA ID:"
   ]
  },
  {
   "cell_type": "code",
   "execution_count": 29,
   "metadata": {},
   "outputs": [
    {
     "data": {
      "text/html": [
       "<div>\n",
       "<style scoped>\n",
       "    .dataframe tbody tr th:only-of-type {\n",
       "        vertical-align: middle;\n",
       "    }\n",
       "\n",
       "    .dataframe tbody tr th {\n",
       "        vertical-align: top;\n",
       "    }\n",
       "\n",
       "    .dataframe thead th {\n",
       "        text-align: right;\n",
       "    }\n",
       "</style>\n",
       "<table border=\"1\" class=\"dataframe\">\n",
       "  <thead>\n",
       "    <tr style=\"text-align: right;\">\n",
       "      <th></th>\n",
       "      <th>INCA ID</th>\n",
       "      <th>researcher_name</th>\n",
       "    </tr>\n",
       "  </thead>\n",
       "  <tbody>\n",
       "    <tr>\n",
       "      <th>count</th>\n",
       "      <td>1001</td>\n",
       "      <td>1001</td>\n",
       "    </tr>\n",
       "    <tr>\n",
       "      <th>unique</th>\n",
       "      <td>1001</td>\n",
       "      <td>1000</td>\n",
       "    </tr>\n",
       "    <tr>\n",
       "      <th>top</th>\n",
       "      <td>inca_638</td>\n",
       "      <td>Jean BOURHIS</td>\n",
       "    </tr>\n",
       "    <tr>\n",
       "      <th>freq</th>\n",
       "      <td>1</td>\n",
       "      <td>2</td>\n",
       "    </tr>\n",
       "  </tbody>\n",
       "</table>\n",
       "</div>"
      ],
      "text/plain": [
       "         INCA ID researcher_name\n",
       "count       1001            1001\n",
       "unique      1001            1000\n",
       "top     inca_638    Jean BOURHIS\n",
       "freq           1               2"
      ]
     },
     "execution_count": 29,
     "metadata": {},
     "output_type": "execute_result"
    }
   ],
   "source": [
    "grnt_dtl[['INCA ID', 'researcher_name']].drop_duplicates().describe()"
   ]
  },
  {
   "cell_type": "code",
   "execution_count": 30,
   "metadata": {},
   "outputs": [
    {
     "data": {
      "text/html": [
       "<div>\n",
       "<style scoped>\n",
       "    .dataframe tbody tr th:only-of-type {\n",
       "        vertical-align: middle;\n",
       "    }\n",
       "\n",
       "    .dataframe tbody tr th {\n",
       "        vertical-align: top;\n",
       "    }\n",
       "\n",
       "    .dataframe thead th {\n",
       "        text-align: right;\n",
       "    }\n",
       "</style>\n",
       "<table border=\"1\" class=\"dataframe\">\n",
       "  <thead>\n",
       "    <tr style=\"text-align: right;\">\n",
       "      <th></th>\n",
       "      <th>INCA ID</th>\n",
       "      <th>researcher_name</th>\n",
       "    </tr>\n",
       "  </thead>\n",
       "  <tbody>\n",
       "    <tr>\n",
       "      <th>319</th>\n",
       "      <td>inca_209</td>\n",
       "      <td>Jean BOURHIS</td>\n",
       "    </tr>\n",
       "    <tr>\n",
       "      <th>325</th>\n",
       "      <td>inca_210</td>\n",
       "      <td>Jean BOURHIS</td>\n",
       "    </tr>\n",
       "  </tbody>\n",
       "</table>\n",
       "</div>"
      ],
      "text/plain": [
       "      INCA ID researcher_name\n",
       "319  inca_209    Jean BOURHIS\n",
       "325  inca_210    Jean BOURHIS"
      ]
     },
     "execution_count": 30,
     "metadata": {},
     "output_type": "execute_result"
    }
   ],
   "source": [
    "grnt_dtl[['INCA ID', 'researcher_name']].drop_duplicates()[grnt_dtl[['INCA ID', 'researcher_name']].drop_duplicates()['researcher_name']==\"Jean BOURHIS\"]"
   ]
  },
  {
   "cell_type": "markdown",
   "metadata": {},
   "source": [
    "### Linking a Dimesions ID to Reseracher Names"
   ]
  },
  {
   "cell_type": "code",
   "execution_count": 178,
   "metadata": {},
   "outputs": [],
   "source": [
    "dim_ids = pub_dtl[['prenom_port', 'nom_port', 'Dimensions Researcher ID'\n",
    "                   , 'Additional Researcher DIM ID to combine', 'Additional Researcher DIM ID to combine 2']]\n",
    "dim_ids = dim_ids.drop_duplicates().reset_index(drop = True)"
   ]
  },
  {
   "cell_type": "code",
   "execution_count": 179,
   "metadata": {},
   "outputs": [],
   "source": [
    "rsrs_ids = dim_ids[['prenom_port', 'nom_port', 'Dimensions Researcher ID']]\n",
    "rsrs_ids = rsrs_ids.rename(index=str, columns={'Dimensions Researcher ID': 'id'})\n",
    "rsrs_ids = rsrs_ids[rsrs_ids['id'].notnull()]\n",
    "for string in ('', ' 2'):\n",
    "    temp = dim_ids[['prenom_port', 'nom_port', 'Additional Researcher DIM ID to combine{}'.format(string)]]\n",
    "    temp = temp.rename(index=str, columns={'Additional Researcher DIM ID to combine{}'.format(string): 'id'})\n",
    "    temp = temp[temp['id'].notnull()]\n",
    "    rsrs_ids = pd.concat([rsrs_ids, temp])\n",
    "rsrs_ids = rsrs_ids.reset_index(drop = True)"
   ]
  },
  {
   "cell_type": "code",
   "execution_count": 180,
   "metadata": {
    "scrolled": false
   },
   "outputs": [
    {
     "data": {
      "text/html": [
       "<div>\n",
       "<style scoped>\n",
       "    .dataframe tbody tr th:only-of-type {\n",
       "        vertical-align: middle;\n",
       "    }\n",
       "\n",
       "    .dataframe tbody tr th {\n",
       "        vertical-align: top;\n",
       "    }\n",
       "\n",
       "    .dataframe thead th {\n",
       "        text-align: right;\n",
       "    }\n",
       "</style>\n",
       "<table border=\"1\" class=\"dataframe\">\n",
       "  <thead>\n",
       "    <tr style=\"text-align: right;\">\n",
       "      <th></th>\n",
       "      <th>first_name</th>\n",
       "      <th>last_name</th>\n",
       "      <th>id</th>\n",
       "      <th>name</th>\n",
       "    </tr>\n",
       "  </thead>\n",
       "  <tbody>\n",
       "    <tr>\n",
       "      <th>count</th>\n",
       "      <td>1108</td>\n",
       "      <td>1108</td>\n",
       "      <td>1069</td>\n",
       "      <td>1108</td>\n",
       "    </tr>\n",
       "    <tr>\n",
       "      <th>unique</th>\n",
       "      <td>420</td>\n",
       "      <td>972</td>\n",
       "      <td>1069</td>\n",
       "      <td>1004</td>\n",
       "    </tr>\n",
       "    <tr>\n",
       "      <th>top</th>\n",
       "      <td>Philippe</td>\n",
       "      <td>DELATTRE</td>\n",
       "      <td>ur.0773526204.78</td>\n",
       "      <td>JOLY-LOBBEDEZ, Florence</td>\n",
       "    </tr>\n",
       "    <tr>\n",
       "      <th>freq</th>\n",
       "      <td>37</td>\n",
       "      <td>4</td>\n",
       "      <td>1</td>\n",
       "      <td>3</td>\n",
       "    </tr>\n",
       "  </tbody>\n",
       "</table>\n",
       "</div>"
      ],
      "text/plain": [
       "       first_name last_name                id                     name\n",
       "count        1108      1108              1069                     1108\n",
       "unique        420       972              1069                     1004\n",
       "top      Philippe  DELATTRE  ur.0773526204.78  JOLY-LOBBEDEZ, Florence\n",
       "freq           37         4                 1                        3"
      ]
     },
     "execution_count": 180,
     "metadata": {},
     "output_type": "execute_result"
    }
   ],
   "source": [
    "researchers = pd.merge(grnt_dtl[['prenom_port', 'nom_port']].drop_duplicates()\n",
    "                       , rsrs_ids[['prenom_port', 'nom_port', 'id']].drop_duplicates()\n",
    "                       , how = 'outer')\n",
    "researchers = researchers.drop_duplicates()\n",
    "researchers.columns = ['first_name', 'last_name', 'id']\n",
    "researchers['name'] = researchers['last_name'] + \", \" + researchers['first_name']\n",
    "researchers = researchers.sort_values('name')\n",
    "researchers = researchers.reset_index(drop = True)\n",
    "researchers.describe()"
   ]
  },
  {
   "cell_type": "code",
   "execution_count": 181,
   "metadata": {},
   "outputs": [],
   "source": [
    "researchers.to_csv('../data/researchers.csv', index = False)"
   ]
  },
  {
   "cell_type": "markdown",
   "metadata": {},
   "source": [
    "## Number of Grants per Researcher"
   ]
  },
  {
   "cell_type": "code",
   "execution_count": 33,
   "metadata": {},
   "outputs": [],
   "source": [
    "grnt_dtl['researcher'] = grnt_dtl['nom_port'] + \", \" + grnt_dtl['prenom_port']"
   ]
  },
  {
   "cell_type": "code",
   "execution_count": 34,
   "metadata": {},
   "outputs": [],
   "source": [
    "rsrs_grants = grnt_dtl.groupby('researcher').size().reset_index()\n",
    "rsrs_grants = rsrs_grants.rename(index=str, columns={0: \"grant_count\"})"
   ]
  },
  {
   "cell_type": "code",
   "execution_count": 35,
   "metadata": {},
   "outputs": [
    {
     "name": "stdout",
     "output_type": "stream",
     "text": [
      "618 researchers have 1 grant.\n",
      "The maximum number of grants for given researcher is 12.\n",
      "Here is the distribution:\n"
     ]
    },
    {
     "data": {
      "text/plain": [
       "1     618\n",
       "2     186\n",
       "3      81\n",
       "4      61\n",
       "5      25\n",
       "6      10\n",
       "7       8\n",
       "8       4\n",
       "9       3\n",
       "10      2\n",
       "12      1\n",
       "11      1\n",
       "Name: grant_count, dtype: int64"
      ]
     },
     "execution_count": 35,
     "metadata": {},
     "output_type": "execute_result"
    }
   ],
   "source": [
    "print(\"{} researchers have 1 grant.\".format(rsrs_grants['grant_count'].value_counts()[1]))\n",
    "print(\"The maximum number of grants for given researcher is {}.\".format(max(rsrs_grants['grant_count'])))\n",
    "print(\"Here is the distribution:\")\n",
    "rsrs_grants['grant_count'].hist(bins = 11)\n",
    "rsrs_grants['grant_count'].value_counts()"
   ]
  },
  {
   "cell_type": "markdown",
   "metadata": {},
   "source": [
    "## Analysis of Key Words"
   ]
  },
  {
   "cell_type": "code",
   "execution_count": 125,
   "metadata": {},
   "outputs": [],
   "source": [
    "def distribution(words, sep=';'):\n",
    "    grnt_dtl['nb_'+words] = grnt_dtl[str.upper(words)].str.count(sep)+1\n",
    "    grnt_dtl['nb_'+words] = grnt_dtl['nb_'+words].fillna(0)\n",
    "    grnt_dtl['nb_'+words] = grnt_dtl['nb_'+words].apply(lambda x: int(x))\n",
    "    dist = grnt_dtl[['Dimensions Grant ID', str.upper(words), 'nb_'+words]].drop_duplicates().reset_index(drop = True)\n",
    "    print(\"{} grants have no {}.\".format(dist['nb_'+words].value_counts()[0], str.upper(words)))\n",
    "    print(\"A grant has at most {} {}s.\".format(max(dist['nb_'+words]), str.upper(words)))\n",
    "    print(\"The distribution is:\\n\")\n",
    "    print(dist['nb_'+words].value_counts())"
   ]
  },
  {
   "cell_type": "code",
   "execution_count": 133,
   "metadata": {},
   "outputs": [],
   "source": [
    "def league_table(words, sep=';'):\n",
    "    df = grnt_dtl[['Dimensions Grant ID', str.upper(words)]].drop_duplicates().reset_index(drop = True)\n",
    "    df = df.rename(index=str, columns={'Dimensions Grant ID': 'grant_id'})\n",
    "    df = pd.concat([df['grant_id'], df[str.upper(words)].str.split(';', expand=True)], axis=1)\n",
    "    grant_id = []\n",
    "    name = []\n",
    "    order = []\n",
    "    for i in range(df.shape[1]-1):\n",
    "        temp = df[['grant_id', i]]\n",
    "        temp = temp[temp[i].notnull()]\n",
    "        temp['order'] = int(i+1)\n",
    "        grant_id.extend(list(temp['grant_id']))\n",
    "        name.extend(list(temp[i]))\n",
    "        order.extend(list(temp['order']))\n",
    "    df = pd.DataFrame({'grant_id': grant_id, 'name': name, 'order': order}).reset_index(drop = True)\n",
    "    df_p = df[df['order']==1]\n",
    "    print(\"There are {} different Principal {} codes.\".format(len(df_p['name'].value_counts()), str.upper(words)))\n",
    "    print(\"The most frequent are:\\n\")\n",
    "    print(df_p['name'].value_counts().head())\n",
    "    print(\"\\nThere are {} different {} codes.\".format(len(df['name'].value_counts()), str.upper(words)))\n",
    "    print(\"The most frequent are:\\n\")\n",
    "    print(df['name'].value_counts().head())\n",
    "    return df"
   ]
  },
  {
   "cell_type": "markdown",
   "metadata": {},
   "source": [
    "### RCDC"
   ]
  },
  {
   "cell_type": "code",
   "execution_count": 127,
   "metadata": {},
   "outputs": [
    {
     "name": "stdout",
     "output_type": "stream",
     "text": [
      "89 grants have no RCDC.\n",
      "A grant has at most 13 RCDCs.\n",
      "The distribution is:\n",
      "\n",
      "5     223\n",
      "6     208\n",
      "3     205\n",
      "4     201\n",
      "7     163\n",
      "2     144\n",
      "8     126\n",
      "1      89\n",
      "0      89\n",
      "9      84\n",
      "10     42\n",
      "11     28\n",
      "12     20\n",
      "13      5\n",
      "Name: nb_rcdc, dtype: int64\n"
     ]
    }
   ],
   "source": [
    "distribution('rcdc')"
   ]
  },
  {
   "cell_type": "code",
   "execution_count": 134,
   "metadata": {
    "scrolled": true
   },
   "outputs": [
    {
     "name": "stdout",
     "output_type": "stream",
     "text": [
      "There are 66 different Principle RCDC codes.\n",
      "The most frequent are:\n",
      "\n",
      "Rare Diseases         385\n",
      "Cancer                187\n",
      "Genetics              164\n",
      "Prevention             90\n",
      "Digestive Diseases     79\n",
      "Name: name, dtype: int64\n",
      "\n",
      "There are 131 different RCDC codes.\n",
      "The most frequent are:\n",
      "\n",
      "Cancer               1318\n",
      "Clinical Research     709\n",
      "Rare Diseases         647\n",
      "Genetics              522\n",
      "Biotechnology         374\n",
      "Name: name, dtype: int64\n"
     ]
    }
   ],
   "source": [
    "df = league_table('rcdc')"
   ]
  },
  {
   "cell_type": "code",
   "execution_count": 146,
   "metadata": {},
   "outputs": [],
   "source": [
    "g1 = list(df[(df['name'] == 'Cancer') & (df['order']==1)].head()['grant_id'])\n",
    "g2 = list(df[(df['name'] == 'Cancer') & (df['order']==1)].tail()['grant_id'])"
   ]
  },
  {
   "cell_type": "code",
   "execution_count": 147,
   "metadata": {},
   "outputs": [],
   "source": [
    "g3 = list(df[(df['name'] == 'Cancer') & (df['order']!=1)].head()['grant_id'])\n",
    "g4 = list(df[(df['name'] == 'Cancer') & (df['order']!=1)].tail()['grant_id'])"
   ]
  },
  {
   "cell_type": "code",
   "execution_count": 148,
   "metadata": {},
   "outputs": [],
   "source": [
    "g = g1\n",
    "g.extend(g2)\n",
    "g.extend(g3)\n",
    "g.extend(g4)"
   ]
  },
  {
   "cell_type": "code",
   "execution_count": 158,
   "metadata": {},
   "outputs": [],
   "source": [
    "temp = grnt_dtl[grnt_dtl['Dimensions Grant ID'].apply(lambda x: x in g)].drop_duplicates(['Dimensions Grant ID'])\n",
    "temp.to_csv('../output/cancer_rcdc.csv', index = False)"
   ]
  },
  {
   "cell_type": "markdown",
   "metadata": {},
   "source": [
    "### FOR"
   ]
  },
  {
   "cell_type": "code",
   "execution_count": 129,
   "metadata": {
    "scrolled": true
   },
   "outputs": [
    {
     "name": "stdout",
     "output_type": "stream",
     "text": [
      "47 grants have no FOR.\n",
      "A grant has at most 5 FORs.\n",
      "The distribution is:\n",
      "\n",
      "1    937\n",
      "2    574\n",
      "3     65\n",
      "0     47\n",
      "4      3\n",
      "5      1\n",
      "Name: nb_for, dtype: int64\n"
     ]
    }
   ],
   "source": [
    "distribution('for')"
   ]
  },
  {
   "cell_type": "code",
   "execution_count": 130,
   "metadata": {
    "scrolled": true
   },
   "outputs": [
    {
     "name": "stdout",
     "output_type": "stream",
     "text": [
      "There are 45 different Principle FOR codes.\n",
      "The most frequent are:\n",
      "\n",
      "1112 Oncology and Carcinogenesis          624\n",
      "0601 Biochemistry and Cell Biology        235\n",
      "1103 Clinical Sciences                    166\n",
      "1117 Public Health and Health Services    162\n",
      "0604 Genetics                             129\n",
      "Name: name, dtype: int64\n",
      "\n",
      "There are 48 different FOR codes.\n",
      "The most frequent are:\n",
      "\n",
      "1112 Oncology and Carcinogenesis          892\n",
      "0601 Biochemistry and Cell Biology        341\n",
      "1117 Public Health and Health Services    242\n",
      "0604 Genetics                             234\n",
      "1103 Clinical Sciences                    210\n",
      "Name: name, dtype: int64\n"
     ]
    }
   ],
   "source": [
    "league_table('for')"
   ]
  },
  {
   "cell_type": "markdown",
   "metadata": {},
   "source": [
    "## Sandbox"
   ]
  },
  {
   "cell_type": "code",
   "execution_count": 5,
   "metadata": {},
   "outputs": [
    {
     "data": {
      "text/html": [
       "<div>\n",
       "<style scoped>\n",
       "    .dataframe tbody tr th:only-of-type {\n",
       "        vertical-align: middle;\n",
       "    }\n",
       "\n",
       "    .dataframe tbody tr th {\n",
       "        vertical-align: top;\n",
       "    }\n",
       "\n",
       "    .dataframe thead th {\n",
       "        text-align: right;\n",
       "    }\n",
       "</style>\n",
       "<table border=\"1\" class=\"dataframe\">\n",
       "  <thead>\n",
       "    <tr style=\"text-align: right;\">\n",
       "      <th></th>\n",
       "      <th>INCA ID</th>\n",
       "      <th>prenom_port</th>\n",
       "      <th>nom_port</th>\n",
       "      <th>organisme_port</th>\n",
       "      <th>Dimensions Grant ID</th>\n",
       "      <th>Title</th>\n",
       "      <th>Abstract</th>\n",
       "      <th>Funder</th>\n",
       "      <th>Reference</th>\n",
       "      <th>Research Org Names</th>\n",
       "      <th>Research Org IDs</th>\n",
       "      <th>FOR</th>\n",
       "      <th>RCDC</th>\n",
       "      <th>Funding Amount ($)</th>\n",
       "      <th>Start Date</th>\n",
       "      <th>End Date</th>\n",
       "    </tr>\n",
       "  </thead>\n",
       "  <tbody>\n",
       "    <tr>\n",
       "      <th>0</th>\n",
       "      <td>inca_1</td>\n",
       "      <td>Jérôme</td>\n",
       "      <td>ABADIE</td>\n",
       "      <td>Ecole Vétérinaire de Nantes</td>\n",
       "      <td>grant.7426242</td>\n",
       "      <td>Cancer, Environment and metabolomics: the dog ...</td>\n",
       "      <td>Our innovative project aims to use the dog as ...</td>\n",
       "      <td>French Institute of Health and Medical Research</td>\n",
       "      <td>Inserm_6181</td>\n",
       "      <td>Oniris</td>\n",
       "      <td>grid.418682.1</td>\n",
       "      <td>1117 Public Health and Health Services;1112 On...</td>\n",
       "      <td>Rare Diseases;Prevention;Cancer;Clinical Research</td>\n",
       "      <td>65061.0</td>\n",
       "      <td>2011-12-13</td>\n",
       "      <td>2013-06-12</td>\n",
       "    </tr>\n",
       "    <tr>\n",
       "      <th>1</th>\n",
       "      <td>inca_2</td>\n",
       "      <td>Julien</td>\n",
       "      <td>ADAM</td>\n",
       "      <td>Hôpital Necker- Enfants malades APHP</td>\n",
       "      <td>grant.7426178</td>\n",
       "      <td>Creating tools to assess DNA repair dysfunctio...</td>\n",
       "      <td>Scientific context  Non-small cell lung carcin...</td>\n",
       "      <td>French Institute of Health and Medical Research</td>\n",
       "      <td>Inserm_4631</td>\n",
       "      <td>Necker-Enfants Malades Hospital;Institut Gusta...</td>\n",
       "      <td>grid.412134.1;grid.14925.3b</td>\n",
       "      <td>0601 Biochemistry and Cell Biology;1112 Oncolo...</td>\n",
       "      <td>Biotechnology;Lung;Cancer;Lung Cancer;Genetics...</td>\n",
       "      <td>240110.0</td>\n",
       "      <td>2011-11-01</td>\n",
       "      <td>2014-11-01</td>\n",
       "    </tr>\n",
       "    <tr>\n",
       "      <th>2</th>\n",
       "      <td>inca_3</td>\n",
       "      <td>Antoine</td>\n",
       "      <td>ADENIS</td>\n",
       "      <td>Centre Oscar Lambret</td>\n",
       "      <td>grant.7154464</td>\n",
       "      <td>A multicenter randomized phase II study to eva...</td>\n",
       "      <td>Medical oncologists are used to treat patients...</td>\n",
       "      <td>Ministère des Affaires sociales et de la Santé</td>\n",
       "      <td>DGOS_2555</td>\n",
       "      <td>Centre Oscar Lambret</td>\n",
       "      <td>grid.452351.4</td>\n",
       "      <td>1112 Oncology and Carcinogenesis</td>\n",
       "      <td>Cancer;Clinical Research;Clinical Trials and S...</td>\n",
       "      <td>248109.0</td>\n",
       "      <td>2010-06-01</td>\n",
       "      <td>2013-06-01</td>\n",
       "    </tr>\n",
       "    <tr>\n",
       "      <th>3</th>\n",
       "      <td>inca_3</td>\n",
       "      <td>Antoine</td>\n",
       "      <td>ADENIS</td>\n",
       "      <td>Centre Oscar Lambret</td>\n",
       "      <td>grant.7154160</td>\n",
       "      <td>National oesophageal and gastric carcinomas da...</td>\n",
       "      <td>In 2005, the worldwide incidence of oesophagog...</td>\n",
       "      <td>French National Cancer Institute</td>\n",
       "      <td>INCa_6288</td>\n",
       "      <td>Centre Oscar Lambret;Hôpital Claude Huriez</td>\n",
       "      <td>grid.452351.4;grid.413875.c</td>\n",
       "      <td>1112 Oncology and Carcinogenesis</td>\n",
       "      <td>Rare Diseases;Digestive Diseases;Cancer</td>\n",
       "      <td>875159.0</td>\n",
       "      <td>2013-04-15</td>\n",
       "      <td>2016-04-14</td>\n",
       "    </tr>\n",
       "    <tr>\n",
       "      <th>4</th>\n",
       "      <td>inca_4</td>\n",
       "      <td>Eric</td>\n",
       "      <td>ADRIAENSSENS</td>\n",
       "      <td>CNRS Inserm UMR8161</td>\n",
       "      <td>grant.7154483</td>\n",
       "      <td>Non-coding RNA and cancer</td>\n",
       "      <td>The aim of our project is to understand the mo...</td>\n",
       "      <td>French National Cancer Institute</td>\n",
       "      <td>INCa_2699</td>\n",
       "      <td>NaN</td>\n",
       "      <td>NaN</td>\n",
       "      <td>1112 Oncology and Carcinogenesis;0604 Genetics</td>\n",
       "      <td>Genetics;Rare Diseases;Cancer;Breast Cancer</td>\n",
       "      <td>400306.0</td>\n",
       "      <td>2010-11-04</td>\n",
       "      <td>2013-11-04</td>\n",
       "    </tr>\n",
       "  </tbody>\n",
       "</table>\n",
       "</div>"
      ],
      "text/plain": [
       "  INCA ID prenom_port      nom_port                        organisme_port  \\\n",
       "0  inca_1      Jérôme        ABADIE           Ecole Vétérinaire de Nantes   \n",
       "1  inca_2      Julien          ADAM  Hôpital Necker- Enfants malades APHP   \n",
       "2  inca_3     Antoine        ADENIS                  Centre Oscar Lambret   \n",
       "3  inca_3     Antoine        ADENIS                  Centre Oscar Lambret   \n",
       "4  inca_4        Eric  ADRIAENSSENS                   CNRS Inserm UMR8161   \n",
       "\n",
       "  Dimensions Grant ID                                              Title  \\\n",
       "0       grant.7426242  Cancer, Environment and metabolomics: the dog ...   \n",
       "1       grant.7426178  Creating tools to assess DNA repair dysfunctio...   \n",
       "2       grant.7154464  A multicenter randomized phase II study to eva...   \n",
       "3       grant.7154160  National oesophageal and gastric carcinomas da...   \n",
       "4       grant.7154483                          Non-coding RNA and cancer   \n",
       "\n",
       "                                            Abstract  \\\n",
       "0  Our innovative project aims to use the dog as ...   \n",
       "1  Scientific context  Non-small cell lung carcin...   \n",
       "2  Medical oncologists are used to treat patients...   \n",
       "3  In 2005, the worldwide incidence of oesophagog...   \n",
       "4  The aim of our project is to understand the mo...   \n",
       "\n",
       "                                            Funder    Reference  \\\n",
       "0  French Institute of Health and Medical Research  Inserm_6181   \n",
       "1  French Institute of Health and Medical Research  Inserm_4631   \n",
       "2   Ministère des Affaires sociales et de la Santé    DGOS_2555   \n",
       "3                 French National Cancer Institute    INCa_6288   \n",
       "4                 French National Cancer Institute    INCa_2699   \n",
       "\n",
       "                                  Research Org Names  \\\n",
       "0                                             Oniris   \n",
       "1  Necker-Enfants Malades Hospital;Institut Gusta...   \n",
       "2                               Centre Oscar Lambret   \n",
       "3         Centre Oscar Lambret;Hôpital Claude Huriez   \n",
       "4                                                NaN   \n",
       "\n",
       "              Research Org IDs  \\\n",
       "0                grid.418682.1   \n",
       "1  grid.412134.1;grid.14925.3b   \n",
       "2                grid.452351.4   \n",
       "3  grid.452351.4;grid.413875.c   \n",
       "4                          NaN   \n",
       "\n",
       "                                                 FOR  \\\n",
       "0  1117 Public Health and Health Services;1112 On...   \n",
       "1  0601 Biochemistry and Cell Biology;1112 Oncolo...   \n",
       "2                   1112 Oncology and Carcinogenesis   \n",
       "3                   1112 Oncology and Carcinogenesis   \n",
       "4     1112 Oncology and Carcinogenesis;0604 Genetics   \n",
       "\n",
       "                                                RCDC  Funding Amount ($)  \\\n",
       "0  Rare Diseases;Prevention;Cancer;Clinical Research             65061.0   \n",
       "1  Biotechnology;Lung;Cancer;Lung Cancer;Genetics...            240110.0   \n",
       "2  Cancer;Clinical Research;Clinical Trials and S...            248109.0   \n",
       "3            Rare Diseases;Digestive Diseases;Cancer            875159.0   \n",
       "4        Genetics;Rare Diseases;Cancer;Breast Cancer            400306.0   \n",
       "\n",
       "   Start Date    End Date  \n",
       "0  2011-12-13  2013-06-12  \n",
       "1  2011-11-01  2014-11-01  \n",
       "2  2010-06-01  2013-06-01  \n",
       "3  2013-04-15  2016-04-14  \n",
       "4  2010-11-04  2013-11-04  "
      ]
     },
     "execution_count": 5,
     "metadata": {},
     "output_type": "execute_result"
    }
   ],
   "source": [
    "grnt_dtl.head()"
   ]
  },
  {
   "cell_type": "code",
   "execution_count": 6,
   "metadata": {},
   "outputs": [
    {
     "data": {
      "text/html": [
       "<div>\n",
       "<style scoped>\n",
       "    .dataframe tbody tr th:only-of-type {\n",
       "        vertical-align: middle;\n",
       "    }\n",
       "\n",
       "    .dataframe tbody tr th {\n",
       "        vertical-align: top;\n",
       "    }\n",
       "\n",
       "    .dataframe thead th {\n",
       "        text-align: right;\n",
       "    }\n",
       "</style>\n",
       "<table border=\"1\" class=\"dataframe\">\n",
       "  <thead>\n",
       "    <tr style=\"text-align: right;\">\n",
       "      <th></th>\n",
       "      <th>INCA ID</th>\n",
       "      <th>prenom_port</th>\n",
       "      <th>nom_port</th>\n",
       "      <th>organisme_port</th>\n",
       "      <th>Dimensions Researcher ID</th>\n",
       "      <th>Additional Researcher DIM ID to combine</th>\n",
       "      <th>Additional Researcher DIM ID to combine 2</th>\n",
       "      <th>ORCID</th>\n",
       "      <th>title</th>\n",
       "      <th>Dimensions Publication ID</th>\n",
       "      <th>doi</th>\n",
       "      <th>issue</th>\n",
       "      <th>pages</th>\n",
       "      <th>Pubmed ID</th>\n",
       "      <th>volume</th>\n",
       "      <th>Relative Citation Ratio</th>\n",
       "      <th>Times Cited</th>\n",
       "      <th>altmetric</th>\n",
       "      <th>Open access</th>\n",
       "      <th>Author Names</th>\n",
       "      <th>Research Org Names</th>\n",
       "      <th>Research Org IDs</th>\n",
       "      <th>FOR</th>\n",
       "      <th>RCDC</th>\n",
       "      <th>Journal ID</th>\n",
       "      <th>Journal Title</th>\n",
       "      <th>Publication Year</th>\n",
       "      <th>Publication Date</th>\n",
       "    </tr>\n",
       "  </thead>\n",
       "  <tbody>\n",
       "    <tr>\n",
       "      <th>0</th>\n",
       "      <td>inca_1</td>\n",
       "      <td>Jérôme</td>\n",
       "      <td>ABADIE</td>\n",
       "      <td>Ecole Vétérinaire de Nantes</td>\n",
       "      <td>ur.0642054564.81</td>\n",
       "      <td>NaN</td>\n",
       "      <td>NaN</td>\n",
       "      <td>NaN</td>\n",
       "      <td>Spontaneous Canine Mammary Carcinoma as a Mode...</td>\n",
       "      <td>pub.1017598066</td>\n",
       "      <td>10.1016/j.jcpa.2011.11.136</td>\n",
       "      <td>1</td>\n",
       "      <td>79</td>\n",
       "      <td>NaN</td>\n",
       "      <td>146</td>\n",
       "      <td>NaN</td>\n",
       "      <td>1</td>\n",
       "      <td>NaN</td>\n",
       "      <td>NaN</td>\n",
       "      <td>J. Abadie, F. Nguyen, D. Loussouarn, I. Bemelm...</td>\n",
       "      <td>Institut de Cancérologie de l'Ouest;Université...</td>\n",
       "      <td>grid.418191.4;grid.449623.e</td>\n",
       "      <td>NaN</td>\n",
       "      <td>NaN</td>\n",
       "      <td>jour.1007441</td>\n",
       "      <td>Journal of Comparative Pathology</td>\n",
       "      <td>2012.0</td>\n",
       "      <td>NaN</td>\n",
       "    </tr>\n",
       "    <tr>\n",
       "      <th>1</th>\n",
       "      <td>inca_1</td>\n",
       "      <td>Jérôme</td>\n",
       "      <td>ABADIE</td>\n",
       "      <td>Ecole Vétérinaire de Nantes</td>\n",
       "      <td>ur.0642054564.81</td>\n",
       "      <td>NaN</td>\n",
       "      <td>NaN</td>\n",
       "      <td>NaN</td>\n",
       "      <td>FC‐15 \\nImmunohistochemical detection of c‐kit...</td>\n",
       "      <td>pub.1013784597</td>\n",
       "      <td>10.1111/j.1365-3164.2004.411_15.x</td>\n",
       "      <td>s1</td>\n",
       "      <td>24-24</td>\n",
       "      <td>NaN</td>\n",
       "      <td>15</td>\n",
       "      <td>NaN</td>\n",
       "      <td>0</td>\n",
       "      <td>NaN</td>\n",
       "      <td>NaN</td>\n",
       "      <td>M. C. Cadiergues, F. Degorce‐Rubiales, J. Abad...</td>\n",
       "      <td>NaN</td>\n",
       "      <td>NaN</td>\n",
       "      <td>1103 Clinical Sciences</td>\n",
       "      <td>NaN</td>\n",
       "      <td>jour.1108160</td>\n",
       "      <td>Veterinary Dermatology</td>\n",
       "      <td>2004.0</td>\n",
       "      <td>NaN</td>\n",
       "    </tr>\n",
       "    <tr>\n",
       "      <th>2</th>\n",
       "      <td>inca_1</td>\n",
       "      <td>Jérôme</td>\n",
       "      <td>ABADIE</td>\n",
       "      <td>Ecole Vétérinaire de Nantes</td>\n",
       "      <td>ur.0642054564.81</td>\n",
       "      <td>NaN</td>\n",
       "      <td>NaN</td>\n",
       "      <td>NaN</td>\n",
       "      <td>Chronic gastrointestinal inflammation in a dog...</td>\n",
       "      <td>pub.1093104577</td>\n",
       "      <td>10.24070/bjvp.1983-0246.v10i3p100-104</td>\n",
       "      <td>3</td>\n",
       "      <td>100-104</td>\n",
       "      <td>NaN</td>\n",
       "      <td>10</td>\n",
       "      <td>NaN</td>\n",
       "      <td>0</td>\n",
       "      <td>NaN</td>\n",
       "      <td>True</td>\n",
       "      <td>Mario Cervone, Julie Duboy, Caroline Laprie, J...</td>\n",
       "      <td>NaN</td>\n",
       "      <td>NaN</td>\n",
       "      <td>NaN</td>\n",
       "      <td>NaN</td>\n",
       "      <td>jour.1044051</td>\n",
       "      <td>Brazilian Journal of Veterinary Pathology</td>\n",
       "      <td>2017.0</td>\n",
       "      <td>NaN</td>\n",
       "    </tr>\n",
       "    <tr>\n",
       "      <th>3</th>\n",
       "      <td>inca_1</td>\n",
       "      <td>Jérôme</td>\n",
       "      <td>ABADIE</td>\n",
       "      <td>Ecole Vétérinaire de Nantes</td>\n",
       "      <td>ur.0642054564.81</td>\n",
       "      <td>NaN</td>\n",
       "      <td>NaN</td>\n",
       "      <td>NaN</td>\n",
       "      <td>Persistent Left Cranial Vena Cava Causing Oeso...</td>\n",
       "      <td>pub.1023385850</td>\n",
       "      <td>10.1016/j.jcpa.2006.05.002</td>\n",
       "      <td>2-3</td>\n",
       "      <td>150-152</td>\n",
       "      <td>16952369.0</td>\n",
       "      <td>135</td>\n",
       "      <td>0.53</td>\n",
       "      <td>10</td>\n",
       "      <td>NaN</td>\n",
       "      <td>NaN</td>\n",
       "      <td>T. Larcher, J. Abadie, F.A. Roux, J.-Y. Descha...</td>\n",
       "      <td>NaN</td>\n",
       "      <td>NaN</td>\n",
       "      <td>1102 Cardiorespiratory Medicine and Haematology</td>\n",
       "      <td>NaN</td>\n",
       "      <td>jour.1007441</td>\n",
       "      <td>Journal of Comparative Pathology</td>\n",
       "      <td>2006.0</td>\n",
       "      <td>NaN</td>\n",
       "    </tr>\n",
       "    <tr>\n",
       "      <th>4</th>\n",
       "      <td>inca_1</td>\n",
       "      <td>Jérôme</td>\n",
       "      <td>ABADIE</td>\n",
       "      <td>Ecole Vétérinaire de Nantes</td>\n",
       "      <td>ur.0642054564.81</td>\n",
       "      <td>NaN</td>\n",
       "      <td>NaN</td>\n",
       "      <td>NaN</td>\n",
       "      <td>Pollutants in pet dogs: a model for environmen...</td>\n",
       "      <td>pub.1017994447</td>\n",
       "      <td>10.1186/s40064-015-0790-4</td>\n",
       "      <td>1</td>\n",
       "      <td>1-11</td>\n",
       "      <td>25646150.0</td>\n",
       "      <td>4</td>\n",
       "      <td>1.64</td>\n",
       "      <td>8</td>\n",
       "      <td>4.0</td>\n",
       "      <td>True</td>\n",
       "      <td>Sabine Sévère, Philippe Marchand, Ingrid Guiff...</td>\n",
       "      <td>NaN</td>\n",
       "      <td>NaN</td>\n",
       "      <td>1112 Oncology and Carcinogenesis;1117 Public H...</td>\n",
       "      <td>Cancer;Breast Cancer</td>\n",
       "      <td>jour.1047790</td>\n",
       "      <td>SpringerPlus</td>\n",
       "      <td>2015.0</td>\n",
       "      <td>NaN</td>\n",
       "    </tr>\n",
       "  </tbody>\n",
       "</table>\n",
       "</div>"
      ],
      "text/plain": [
       "  INCA ID prenom_port nom_port               organisme_port  \\\n",
       "0  inca_1      Jérôme   ABADIE  Ecole Vétérinaire de Nantes   \n",
       "1  inca_1      Jérôme   ABADIE  Ecole Vétérinaire de Nantes   \n",
       "2  inca_1      Jérôme   ABADIE  Ecole Vétérinaire de Nantes   \n",
       "3  inca_1      Jérôme   ABADIE  Ecole Vétérinaire de Nantes   \n",
       "4  inca_1      Jérôme   ABADIE  Ecole Vétérinaire de Nantes   \n",
       "\n",
       "  Dimensions Researcher ID Additional Researcher DIM ID to combine  \\\n",
       "0         ur.0642054564.81                                     NaN   \n",
       "1         ur.0642054564.81                                     NaN   \n",
       "2         ur.0642054564.81                                     NaN   \n",
       "3         ur.0642054564.81                                     NaN   \n",
       "4         ur.0642054564.81                                     NaN   \n",
       "\n",
       "  Additional Researcher DIM ID to combine 2 ORCID  \\\n",
       "0                                       NaN   NaN   \n",
       "1                                       NaN   NaN   \n",
       "2                                       NaN   NaN   \n",
       "3                                       NaN   NaN   \n",
       "4                                       NaN   NaN   \n",
       "\n",
       "                                               title  \\\n",
       "0  Spontaneous Canine Mammary Carcinoma as a Mode...   \n",
       "1  FC‐15 \\nImmunohistochemical detection of c‐kit...   \n",
       "2  Chronic gastrointestinal inflammation in a dog...   \n",
       "3  Persistent Left Cranial Vena Cava Causing Oeso...   \n",
       "4  Pollutants in pet dogs: a model for environmen...   \n",
       "\n",
       "  Dimensions Publication ID                                    doi issue  \\\n",
       "0            pub.1017598066             10.1016/j.jcpa.2011.11.136     1   \n",
       "1            pub.1013784597      10.1111/j.1365-3164.2004.411_15.x    s1   \n",
       "2            pub.1093104577  10.24070/bjvp.1983-0246.v10i3p100-104     3   \n",
       "3            pub.1023385850             10.1016/j.jcpa.2006.05.002   2-3   \n",
       "4            pub.1017994447              10.1186/s40064-015-0790-4     1   \n",
       "\n",
       "     pages   Pubmed ID volume  Relative Citation Ratio  Times Cited  \\\n",
       "0       79         NaN    146                      NaN            1   \n",
       "1    24-24         NaN     15                      NaN            0   \n",
       "2  100-104         NaN     10                      NaN            0   \n",
       "3  150-152  16952369.0    135                     0.53           10   \n",
       "4     1-11  25646150.0      4                     1.64            8   \n",
       "\n",
       "   altmetric Open access                                       Author Names  \\\n",
       "0        NaN         NaN  J. Abadie, F. Nguyen, D. Loussouarn, I. Bemelm...   \n",
       "1        NaN         NaN  M. C. Cadiergues, F. Degorce‐Rubiales, J. Abad...   \n",
       "2        NaN        True  Mario Cervone, Julie Duboy, Caroline Laprie, J...   \n",
       "3        NaN         NaN  T. Larcher, J. Abadie, F.A. Roux, J.-Y. Descha...   \n",
       "4        4.0        True  Sabine Sévère, Philippe Marchand, Ingrid Guiff...   \n",
       "\n",
       "                                  Research Org Names  \\\n",
       "0  Institut de Cancérologie de l'Ouest;Université...   \n",
       "1                                                NaN   \n",
       "2                                                NaN   \n",
       "3                                                NaN   \n",
       "4                                                NaN   \n",
       "\n",
       "              Research Org IDs  \\\n",
       "0  grid.418191.4;grid.449623.e   \n",
       "1                          NaN   \n",
       "2                          NaN   \n",
       "3                          NaN   \n",
       "4                          NaN   \n",
       "\n",
       "                                                 FOR                  RCDC  \\\n",
       "0                                                NaN                   NaN   \n",
       "1                             1103 Clinical Sciences                   NaN   \n",
       "2                                                NaN                   NaN   \n",
       "3    1102 Cardiorespiratory Medicine and Haematology                   NaN   \n",
       "4  1112 Oncology and Carcinogenesis;1117 Public H...  Cancer;Breast Cancer   \n",
       "\n",
       "     Journal ID                              Journal Title  Publication Year  \\\n",
       "0  jour.1007441           Journal of Comparative Pathology            2012.0   \n",
       "1  jour.1108160                     Veterinary Dermatology            2004.0   \n",
       "2  jour.1044051  Brazilian Journal of Veterinary Pathology            2017.0   \n",
       "3  jour.1007441           Journal of Comparative Pathology            2006.0   \n",
       "4  jour.1047790                               SpringerPlus            2015.0   \n",
       "\n",
       "   Publication Date  \n",
       "0               NaN  \n",
       "1               NaN  \n",
       "2               NaN  \n",
       "3               NaN  \n",
       "4               NaN  "
      ]
     },
     "execution_count": 6,
     "metadata": {},
     "output_type": "execute_result"
    }
   ],
   "source": [
    "pub_dtl.head()"
   ]
  },
  {
   "cell_type": "code",
   "execution_count": null,
   "metadata": {},
   "outputs": [],
   "source": []
  }
 ],
 "metadata": {
  "kernelspec": {
   "display_name": "Python 3",
   "language": "python",
   "name": "python3"
  },
  "language_info": {
   "codemirror_mode": {
    "name": "ipython",
    "version": 3
   },
   "file_extension": ".py",
   "mimetype": "text/x-python",
   "name": "python",
   "nbconvert_exporter": "python",
   "pygments_lexer": "ipython3",
   "version": "3.6.2"
  },
  "toc": {
   "nav_menu": {},
   "number_sections": false,
   "sideBar": true,
   "skip_h1_title": false,
   "title_cell": "Table of Contents",
   "title_sidebar": "Contents",
   "toc_cell": false,
   "toc_position": {
    "height": "calc(100% - 180px)",
    "left": "10px",
    "top": "150px",
    "width": "266px"
   },
   "toc_section_display": true,
   "toc_window_display": true
  }
 },
 "nbformat": 4,
 "nbformat_minor": 2
}
