{
 "cells": [
  {
   "cell_type": "markdown",
   "metadata": {},
   "source": [
    "# Topic Visualizations Diagrams"
   ]
  },
  {
   "cell_type": "markdown",
   "metadata": {},
   "source": [
    "## Python Setup"
   ]
  },
  {
   "cell_type": "code",
   "execution_count": null,
   "metadata": {},
   "outputs": [],
   "source": [
    "from pysankey import sankey\n",
    "import pandas as pd\n",
    "import numpy as np\n",
    "from matplotlib import pyplot as plt\n",
    "from matplotlib import ticker as ticker\n",
    "import seaborn as sns\n",
    "%matplotlib inline"
   ]
  },
  {
   "cell_type": "markdown",
   "metadata": {},
   "source": [
    "## Data Read In"
   ]
  },
  {
   "cell_type": "code",
   "execution_count": null,
   "metadata": {},
   "outputs": [],
   "source": [
    "one_to_one = pd.read_csv('../output/rcdc_grnt_1_pubs_1_comp.csv')\n",
    "one_to_many = pd.read_csv('../output/rcdc_grnt_1_pubs_comp.csv')\n",
    "many_to_many = pd.read_csv('../output/rcdc_grnt_pubs_comp.csv')"
   ]
  },
  {
   "cell_type": "code",
   "execution_count": null,
   "metadata": {},
   "outputs": [],
   "source": [
    "funders = set(list(one_to_one['funder_name']))"
   ]
  },
  {
   "cell_type": "code",
   "execution_count": null,
   "metadata": {},
   "outputs": [],
   "source": [
    "one_to_one = one_to_one.dropna().reset_index(drop=True)\n",
    "one_to_many = one_to_many.dropna().reset_index(drop=True)\n",
    "many_to_many = many_to_many.dropna().reset_index(drop=True)"
   ]
  },
  {
   "cell_type": "markdown",
   "metadata": {},
   "source": [
    "## Sankey Charts"
   ]
  },
  {
   "cell_type": "markdown",
   "metadata": {},
   "source": [
    "### Sankey Function"
   ]
  },
  {
   "cell_type": "code",
   "execution_count": null,
   "metadata": {},
   "outputs": [],
   "source": [
    "def create_other_category(df):\n",
    "    tot_pubs = df['nb_pubs'].sum()\n",
    "    \n",
    "    df['pub_rcdc_cat'] = np.where(df['nb_pubs']>0.02*tot_pubs, df['pub_rcdc'], \"Other\")\n",
    "    df = df.groupby(['funder_name', 'grnt_rcdc', 'pub_rcdc_cat'])\n",
    "    df = pd.DataFrame({'nb_grnts': df['nb_grnts'].sum()\n",
    "                       , 'nb_obs': df['nb_obs'].sum()\n",
    "                       , 'nb_pubs': df['nb_pubs'].sum()}).reset_index()\n",
    "    \n",
    "    return df"
   ]
  },
  {
   "cell_type": "code",
   "execution_count": null,
   "metadata": {},
   "outputs": [],
   "source": [
    "def create_sankey(df, method, specialty, funder):\n",
    "    if df.shape[0]==0:\n",
    "        print(\"\\nNo {} grants with {} as main RCDC code\".format(funder, specialty))\n",
    "    else:\n",
    "        df['grnts'] = \"{} ({} grants)\".format(specialty, df['nb_grnts'].sum())\n",
    "        df['pubs'] = df['pub_rcdc_cat'] + \" (\" + df['nb_pubs'].astype(str) + \" publications)\"    \n",
    "        sankey(left=df['grnts'], right=df['pubs'], rightWeight=df['nb_pubs'], leftWeight=df['nb_grnts']\n",
    "               , aspect=5, fontsize=5, figureName=\"../output/sankeys/{} - {} - {}\".format(method, specialty, funder))"
   ]
  },
  {
   "cell_type": "markdown",
   "metadata": {},
   "source": [
    "### Create Graphs"
   ]
  },
  {
   "cell_type": "code",
   "execution_count": null,
   "metadata": {},
   "outputs": [],
   "source": [
    "specialty = \"Breast Cancer\""
   ]
  },
  {
   "cell_type": "markdown",
   "metadata": {},
   "source": [
    "#### One to One"
   ]
  },
  {
   "cell_type": "code",
   "execution_count": null,
   "metadata": {
    "scrolled": true
   },
   "outputs": [],
   "source": [
    "for funder in funders:\n",
    "    df = one_to_one[(one_to_one['funder_name']==funder)&(one_to_one['grnt_rcdc']==specialty)].copy()\n",
    "    \n",
    "    df = create_other_category(df)\n",
    "    \n",
    "    create_sankey(df, \"Method 1\", specialty, funder)\n",
    "    \n",
    "plt.close('all')"
   ]
  },
  {
   "cell_type": "markdown",
   "metadata": {},
   "source": [
    "#### One to Many"
   ]
  },
  {
   "cell_type": "code",
   "execution_count": null,
   "metadata": {
    "scrolled": true
   },
   "outputs": [],
   "source": [
    "for funder in funders:\n",
    "    df = one_to_many[(one_to_many['funder_name']==funder)&(one_to_many['grnt_rcdc']==specialty)].copy()\n",
    "    \n",
    "    df = create_other_category(df)\n",
    "    \n",
    "    create_sankey(df, \"Method 2\", specialty, funder)\n",
    "    \n",
    "plt.close('all')"
   ]
  },
  {
   "cell_type": "markdown",
   "metadata": {},
   "source": [
    "#### Many to Many"
   ]
  },
  {
   "cell_type": "code",
   "execution_count": null,
   "metadata": {
    "scrolled": true
   },
   "outputs": [],
   "source": [
    "for funder in funders:\n",
    "    df = many_to_many[(many_to_many['funder_name']==funder)&(many_to_many['grnt_rcdc']==specialty)].copy()\n",
    "    \n",
    "    df = create_other_category(df)\n",
    "    \n",
    "    create_sankey(df, \"Method 3\", specialty, funder)\n",
    "    \n",
    "plt.close('all')"
   ]
  },
  {
   "cell_type": "markdown",
   "metadata": {},
   "source": [
    "## Stacked Barcharts"
   ]
  },
  {
   "cell_type": "markdown",
   "metadata": {},
   "source": [
    "### Functions"
   ]
  },
  {
   "cell_type": "code",
   "execution_count": null,
   "metadata": {},
   "outputs": [],
   "source": [
    "def gen_plt_df(grant_df, specialty, thrs_other):\n",
    "    \n",
    "    df = grant_df[grant_df['grnt_rcdc']==specialty].copy()\n",
    "    df = pd.merge(df, df.groupby(['funder_name'])['nb_pubs'].sum().reset_index()\n",
    "                  , on='funder_name', suffixes=('', '_tot'))\n",
    "    df = pd.merge(df, df.groupby(['funder_name'])['nb_grnts'].sum().reset_index()\n",
    "                  , on='funder_name', suffixes=('', '_tot'))\n",
    "    df['funder_name'] = (df['funder_name'] + \" (\" \n",
    "                         + df['nb_grnts_tot'].astype(str) + \" grants, \" \n",
    "                         + df['nb_pubs_tot'].astype(str) + \" pubs)\")\n",
    "    df['pct_pubs'] = df['nb_pubs']/df['nb_pubs_tot']\n",
    "    df['pub_rcdc_cat'] = np.where(df['pct_pubs']>thrs_other, df['pub_rcdc'], \"ZZZOther\")\n",
    "    df = df.groupby(['funder_name', 'grnt_rcdc', 'pub_rcdc_cat', 'nb_pubs_tot'])['nb_pubs'].sum().reset_index()\n",
    "    df['pct_pubs'] = -df['nb_pubs']/df['nb_pubs_tot']\n",
    "    \n",
    "    # Pivot    \n",
    "    plt_df = df.pivot(index='funder_name', columns='pub_rcdc_cat', values='pct_pubs')\n",
    "    plt_df.columns = [col.replace('ZZZOther', 'Other') for col in plt_df.columns]\n",
    "\n",
    "    return plt_df"
   ]
  },
  {
   "cell_type": "code",
   "execution_count": null,
   "metadata": {},
   "outputs": [],
   "source": [
    "def stacked_barchart_plot(plt_df, specialty):\n",
    "    \n",
    "    # Rename Indexes to several lines\n",
    "    plt_df.index = [ind.replace(' ', '\\n') for ind in plt_df.index]\n",
    "    plt_df.index = [ind.replace('Research\\nUK', 'Research UK') for ind in plt_df.index]\n",
    "    plt_df.index = [ind.replace('-\\nORCID', '- ORCID') for ind in plt_df.index]\n",
    "    plt_df.index = [ind.replace('Health\\nand', 'Health and') for ind in plt_df.index]\n",
    "    plt_df.index = [ind.replace('\\ngrants', ' grants') for ind in plt_df.index]\n",
    "    plt_df.index = [ind.replace('\\npubs', ' pubs') for ind in plt_df.index]\n",
    "    \n",
    "    # Plot:\n",
    "    sns.set()\n",
    "    lab_sz = 17\n",
    "    fig, ax = plt.subplots(figsize=(15, 10))\n",
    "    plt_df.plot(kind='bar', stacked=True, ax=ax, colormap='Dark2', legend='reverse')\n",
    "    ax.tick_params(axis='both', which='major', labelsize=lab_sz)\n",
    "    plt.xticks(rotation=0)\n",
    "    ax.yaxis.set_major_locator(ticker.MultipleLocator(0.1))\n",
    "    plt.yticks(np.arange(0, -1.1, step=-0.1), ('100%','90%','80%','70%','60%','50%','40%','30%','20%','10%','0%'))\n",
    "    plt.ylim(-1, 0)\n",
    "    plt.ylabel(\"Share of Publications by Funded Researchers\", fontsize=lab_sz)\n",
    "    plt.legend(bbox_to_anchor=(1.05, 1), loc=2, borderaxespad=0., prop={'size': lab_sz})\n",
    "    plt.title(\"Publication Topics subsequent to {} Grants\\n\".format(specialty), fontsize=lab_sz*1.5)\n",
    "    plt.savefig('../output/barcharts/{}.png'.format(specialty), bbox_inches='tight')"
   ]
  },
  {
   "cell_type": "markdown",
   "metadata": {},
   "source": [
    "### Create Graphs"
   ]
  },
  {
   "cell_type": "code",
   "execution_count": null,
   "metadata": {},
   "outputs": [],
   "source": [
    "specialty = \"Breast Cancer\"\n",
    "thrs_other = 0.04\n",
    "plt_df = gen_plt_df(grant_df=many_to_many, specialty=specialty, thrs_other=thrs_other)\n",
    "stacked_barchart_plot(plt_df=plt_df, specialty=specialty)"
   ]
  },
  {
   "cell_type": "code",
   "execution_count": null,
   "metadata": {},
   "outputs": [],
   "source": [
    "specialty = \"Lung Cancer\"\n",
    "thrs_other = 0.07\n",
    "plt_df = gen_plt_df(grant_df=many_to_many, specialty=specialty, thrs_other=thrs_other)\n",
    "stacked_barchart_plot(plt_df=plt_df, specialty=specialty)"
   ]
  },
  {
   "cell_type": "code",
   "execution_count": null,
   "metadata": {},
   "outputs": [],
   "source": [
    "specialty = \"Brain Cancer\"\n",
    "thrs_other = 0.0586\n",
    "plt_df = gen_plt_df(grant_df=many_to_many, specialty=specialty, thrs_other=thrs_other)\n",
    "stacked_barchart_plot(plt_df=plt_df, specialty=specialty)"
   ]
  },
  {
   "cell_type": "markdown",
   "metadata": {},
   "source": [
    "## Sandbox"
   ]
  },
  {
   "cell_type": "code",
   "execution_count": null,
   "metadata": {},
   "outputs": [],
   "source": []
  }
 ],
 "metadata": {
  "kernelspec": {
   "display_name": "Python 3",
   "language": "python",
   "name": "python3"
  },
  "language_info": {
   "codemirror_mode": {
    "name": "ipython",
    "version": 3
   },
   "file_extension": ".py",
   "mimetype": "text/x-python",
   "name": "python",
   "nbconvert_exporter": "python",
   "pygments_lexer": "ipython3",
   "version": "3.6.8"
  },
  "toc": {
   "base_numbering": 1,
   "nav_menu": {},
   "number_sections": false,
   "sideBar": true,
   "skip_h1_title": false,
   "title_cell": "Table of Contents",
   "title_sidebar": "Contents",
   "toc_cell": false,
   "toc_position": {
    "height": "calc(100% - 180px)",
    "left": "10px",
    "top": "150px",
    "width": "191px"
   },
   "toc_section_display": true,
   "toc_window_display": true
  }
 },
 "nbformat": 4,
 "nbformat_minor": 2
}
